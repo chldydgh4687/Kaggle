{
  "nbformat": 4,
  "nbformat_minor": 0,
  "metadata": {
    "colab": {
      "name": "by_myself_Titanic(0.72_Try_1).ipynb",
      "provenance": [],
      "toc_visible": true
    },
    "kernelspec": {
      "name": "python3",
      "display_name": "Python 3"
    }
  },
  "cells": [
    {
      "cell_type": "markdown",
      "metadata": {
        "id": "cqPPIlGO8l-e",
        "colab_type": "text"
      },
      "source": [
        "# Titanic\n",
        "\n",
        "- 캐글의 과정\n",
        "\n",
        "1. 캐글을 하기 위해서는 우선 Description에서 원하는 것이 무엇인지 알야되고, 요구조건을 파악해야한다.\n",
        "\n",
        "2. 데이터를 다운받아서 훑어본다. 출력값은 어떻게 해야하는지 어떤 값을 가지고 조율할지(Data engineering)을 통하여 의미있는 값으로 간추린다.\n",
        "\n",
        "3. 이제 이 의미있는 값들을 다양한 머신러닝을 통하여 TRAIN을 하여 최종적인 값을 내는 하나의 큰 기계를 만든다.\n",
        "\n",
        "4. 이제 TEST를 넣고 제출에 해당하는 값의 result를 내어, 새로운 dataframe에 저장하여 제출한다.\n",
        "\n",
        "위의 과정에 따라 전통적인 머신러닝을 통하여 분류를 해보도록 하겠다."
      ]
    },
    {
      "cell_type": "markdown",
      "metadata": {
        "id": "C8UgcxX093kH",
        "colab_type": "text"
      },
      "source": [
        "## Kaggle 계정 연동"
      ]
    },
    {
      "cell_type": "code",
      "metadata": {
        "id": "RybP4JF1E2Q_",
        "colab_type": "code",
        "outputId": "fcbaf8f4-ef17-4fae-dac3-320a86c4cb61",
        "colab": {
          "base_uri": "https://localhost:8080/",
          "height": 836
        }
      },
      "source": [
        " !ls -lha kaggle.json\n",
        "\n",
        "!pip uninstall -y kaggle\n",
        "!pip install --upgrade pip\n",
        "!pip install kaggle==1.5.6\n",
        "\n",
        "\n",
        "# 캐글연동을 위한 토큰 입력\n",
        "! mkdir -p ~/.kaggle\n",
        "! cp kaggle.json ~/.kaggle/\n",
        "! chmod 600 ~/.kaggle/kaggle.json\n",
        "\n",
        "\n",
        "# 버전이 1.5.6 이 아니면, 진행할 수 없다\n",
        "! kaggle -v "
      ],
      "execution_count": 2,
      "outputs": [
        {
          "output_type": "stream",
          "text": [
            "\u001b[?25hInstalling collected packages: pip\n",
            "  Found existing installation: pip 19.3.1\n",
            "    Uninstalling pip-19.3.1:\n",
            "      Successfully uninstalled pip-19.3.1\n",
            "Successfully installed pip-20.0.2\n",
            "Collecting kaggle==1.5.6\n",
            "  Downloading kaggle-1.5.6.tar.gz (58 kB)\n",
            "\u001b[K     |████████████████████████████████| 58 kB 2.0 MB/s \n",
            "\u001b[?25hRequirement already satisfied: urllib3<1.25,>=1.21.1 in /usr/local/lib/python3.6/dist-packages (from kaggle==1.5.6) (1.24.3)\n",
            "Requirement already satisfied: six>=1.10 in /usr/local/lib/python3.6/dist-packages (from kaggle==1.5.6) (1.12.0)\n",
            "Requirement already satisfied: certifi in /usr/local/lib/python3.6/dist-packages (from kaggle==1.5.6) (2019.11.28)\n",
            "Requirement already satisfied: python-dateutil in /usr/local/lib/python3.6/dist-packages (from kaggle==1.5.6) (2.6.1)\n",
            "Requirement already satisfied: requests in /usr/local/lib/python3.6/dist-packages (from kaggle==1.5.6) (2.21.0)\n",
            "Requirement already satisfied: tqdm in /usr/local/lib/python3.6/dist-packages (from kaggle==1.5.6) (4.28.1)\n",
            "Requirement already satisfied: python-slugify in /usr/local/lib/python3.6/dist-packages (from kaggle==1.5.6) (4.0.0)\n",
            "Requirement already satisfied: idna<2.9,>=2.5 in /usr/local/lib/python3.6/dist-packages (from requests->kaggle==1.5.6) (2.8)\n",
            "Requirement already satisfied: chardet<3.1.0,>=3.0.2 in /usr/local/lib/python3.6/dist-packages (from requests->kaggle==1.5.6) (3.0.4)\n",
            "Requirement already satisfied: text-unidecode>=1.3 in /usr/local/lib/python3.6/dist-packages (from python-slugify->kaggle==1.5.6) (1.3)\n",
            "Building wheels for collected packages: kaggle\n",
            "  Building wheel for kaggle (setup.py) ... \u001b[?25l\u001b[?25hdone\n",
            "  Created wheel for kaggle: filename=kaggle-1.5.6-py3-none-any.whl size=72859 sha256=49c80bcd91ac1fc79d85d0614865e69dd9fcfebc3bd598fae21da6f3acb5c7b4\n",
            "  Stored in directory: /root/.cache/pip/wheels/01/3e/ff/77407ebac3ef71a79b9166a8382aecf88415a0bcbe3c095a01\n",
            "Successfully built kaggle\n",
            "Installing collected packages: kaggle\n",
            "Successfully installed kaggle-1.5.6\n",
            "Kaggle API 1.5.6\n",
            "-rw-r--r-- 1 root root 66 Feb 12 11:47 kaggle.json\n",
            "Found existing installation: kaggle 1.5.6\n",
            "Uninstalling kaggle-1.5.6:\n",
            "  Successfully uninstalled kaggle-1.5.6\n",
            "Requirement already up-to-date: pip in /usr/local/lib/python3.6/dist-packages (20.0.2)\n",
            "Processing /root/.cache/pip/wheels/01/3e/ff/77407ebac3ef71a79b9166a8382aecf88415a0bcbe3c095a01/kaggle-1.5.6-py3-none-any.whl\n",
            "Requirement already satisfied: requests in /usr/local/lib/python3.6/dist-packages (from kaggle==1.5.6) (2.21.0)\n",
            "Requirement already satisfied: python-dateutil in /usr/local/lib/python3.6/dist-packages (from kaggle==1.5.6) (2.6.1)\n",
            "Requirement already satisfied: six>=1.10 in /usr/local/lib/python3.6/dist-packages (from kaggle==1.5.6) (1.12.0)\n",
            "Requirement already satisfied: urllib3<1.25,>=1.21.1 in /usr/local/lib/python3.6/dist-packages (from kaggle==1.5.6) (1.24.3)\n",
            "Requirement already satisfied: tqdm in /usr/local/lib/python3.6/dist-packages (from kaggle==1.5.6) (4.28.1)\n",
            "Requirement already satisfied: certifi in /usr/local/lib/python3.6/dist-packages (from kaggle==1.5.6) (2019.11.28)\n",
            "Requirement already satisfied: python-slugify in /usr/local/lib/python3.6/dist-packages (from kaggle==1.5.6) (4.0.0)\n",
            "Requirement already satisfied: idna<2.9,>=2.5 in /usr/local/lib/python3.6/dist-packages (from requests->kaggle==1.5.6) (2.8)\n",
            "Requirement already satisfied: chardet<3.1.0,>=3.0.2 in /usr/local/lib/python3.6/dist-packages (from requests->kaggle==1.5.6) (3.0.4)\n",
            "Requirement already satisfied: text-unidecode>=1.3 in /usr/local/lib/python3.6/dist-packages (from python-slugify->kaggle==1.5.6) (1.3)\n",
            "Installing collected packages: kaggle\n",
            "Successfully installed kaggle-1.5.6\n",
            "Kaggle API 1.5.6\n"
          ],
          "name": "stdout"
        }
      ]
    },
    {
      "cell_type": "markdown",
      "metadata": {
        "id": "RIc1N-2o97k-",
        "colab_type": "text"
      },
      "source": [
        "## 연동된 계정을 통하여 데이터를 다운 받고 압축 풀기"
      ]
    },
    {
      "cell_type": "code",
      "metadata": {
        "id": "3pmIBlTYKQ2f",
        "colab_type": "code",
        "outputId": "e920f987-4e2b-43b4-ea73-dc9c12f27ea9",
        "colab": {
          "base_uri": "https://localhost:8080/",
          "height": 70
        }
      },
      "source": [
        "!kaggle competitions download -c titanic"
      ],
      "execution_count": 3,
      "outputs": [
        {
          "output_type": "stream",
          "text": [
            "Downloading titanic.zip to /content\n",
            "\r  0% 0.00/34.1k [00:00<?, ?B/s]\n",
            "\r100% 34.1k/34.1k [00:00<00:00, 24.2MB/s]\n"
          ],
          "name": "stdout"
        }
      ]
    },
    {
      "cell_type": "code",
      "metadata": {
        "id": "H_tdsED1I814",
        "colab_type": "code",
        "colab": {}
      },
      "source": [
        "import zipfile\n",
        "import os\n",
        "\n",
        "os.mkdir('/content/input')\n",
        "\n",
        "zip_ref = zipfile.ZipFile(\"/content/titanic.zip\", 'r')\n",
        "zip_ref.extractall(\"/content/input\")\n",
        "zip_ref.close()"
      ],
      "execution_count": 0,
      "outputs": []
    },
    {
      "cell_type": "markdown",
      "metadata": {
        "id": "NXUcSAyV-AR1",
        "colab_type": "text"
      },
      "source": [
        "# 데이터 엔지니어링"
      ]
    },
    {
      "cell_type": "markdown",
      "metadata": {
        "id": "fWuE1c2U-vDd",
        "colab_type": "text"
      },
      "source": [
        "- 해당 문제에서 원하는 질문은  \n",
        "“what sorts of people were more likely to survive?  \n",
        "어떤 클래스의 사람들의 더 잘 살 것 같은지?"
      ]
    },
    {
      "cell_type": "markdown",
      "metadata": {
        "id": "uy2053sB-PZm",
        "colab_type": "text"
      },
      "source": [
        "### 필요한 라이브러리 불러오기"
      ]
    },
    {
      "cell_type": "code",
      "metadata": {
        "id": "TcDQKawM-Iku",
        "colab_type": "code",
        "colab": {}
      },
      "source": [
        "import pandas as pd\n",
        "import matplotlib.pyplot as plt\n",
        "import seaborn as sns\n",
        "import numpy as np\n",
        "%matplotlib inline\n"
      ],
      "execution_count": 0,
      "outputs": []
    },
    {
      "cell_type": "markdown",
      "metadata": {
        "id": "sMiqxti8-SCd",
        "colab_type": "text"
      },
      "source": [
        "### 데이터 파악"
      ]
    },
    {
      "cell_type": "code",
      "metadata": {
        "id": "9M1wink2-Yxm",
        "colab_type": "code",
        "outputId": "411b5fd6-b87e-4aff-cfa9-c33d5b7b58be",
        "colab": {
          "base_uri": "https://localhost:8080/",
          "height": 567
        }
      },
      "source": [
        "train_data = pd.read_csv('/content/input/train.csv')\n",
        "ex_results = pd.read_csv('/content/input/gender_submission.csv')\n",
        "print(ex_results)\n",
        "# test를 통해서 나온 값을 사람 수 : survived  예측한 결과를 캐글에 저장된 답과 비교하여 점수가 측정됨.\n",
        "print(train_data)\n",
        "train_data.columns"
      ],
      "execution_count": 6,
      "outputs": [
        {
          "output_type": "stream",
          "text": [
            "     PassengerId  Survived\n",
            "0            892         0\n",
            "1            893         1\n",
            "2            894         0\n",
            "3            895         0\n",
            "4            896         1\n",
            "..           ...       ...\n",
            "413         1305         0\n",
            "414         1306         1\n",
            "415         1307         0\n",
            "416         1308         0\n",
            "417         1309         0\n",
            "\n",
            "[418 rows x 2 columns]\n",
            "     PassengerId  Survived  Pclass  ...     Fare Cabin  Embarked\n",
            "0              1         0       3  ...   7.2500   NaN         S\n",
            "1              2         1       1  ...  71.2833   C85         C\n",
            "2              3         1       3  ...   7.9250   NaN         S\n",
            "3              4         1       1  ...  53.1000  C123         S\n",
            "4              5         0       3  ...   8.0500   NaN         S\n",
            "..           ...       ...     ...  ...      ...   ...       ...\n",
            "886          887         0       2  ...  13.0000   NaN         S\n",
            "887          888         1       1  ...  30.0000   B42         S\n",
            "888          889         0       3  ...  23.4500   NaN         S\n",
            "889          890         1       1  ...  30.0000  C148         C\n",
            "890          891         0       3  ...   7.7500   NaN         Q\n",
            "\n",
            "[891 rows x 12 columns]\n"
          ],
          "name": "stdout"
        },
        {
          "output_type": "execute_result",
          "data": {
            "text/plain": [
              "Index(['PassengerId', 'Survived', 'Pclass', 'Name', 'Sex', 'Age', 'SibSp',\n",
              "       'Parch', 'Ticket', 'Fare', 'Cabin', 'Embarked'],\n",
              "      dtype='object')"
            ]
          },
          "metadata": {
            "tags": []
          },
          "execution_count": 6
        }
      ]
    },
    {
      "cell_type": "code",
      "metadata": {
        "id": "EsTGbyR89xto",
        "colab_type": "code",
        "outputId": "22c139f3-1846-46fd-be23-cb06e95e1b65",
        "colab": {
          "base_uri": "https://localhost:8080/",
          "height": 603
        }
      },
      "source": [
        "print(train_data.iloc[:10,[0,1,2]])\n",
        "\n",
        "print(train_data.iloc[:10,[3,4,5,6]])\n",
        "\n",
        "print(train_data.iloc[:10,[7,8,9,10,11]])"
      ],
      "execution_count": 7,
      "outputs": [
        {
          "output_type": "stream",
          "text": [
            "   PassengerId  Survived  Pclass\n",
            "0            1         0       3\n",
            "1            2         1       1\n",
            "2            3         1       3\n",
            "3            4         1       1\n",
            "4            5         0       3\n",
            "5            6         0       3\n",
            "6            7         0       1\n",
            "7            8         0       3\n",
            "8            9         1       3\n",
            "9           10         1       2\n",
            "                                                Name     Sex   Age  SibSp\n",
            "0                            Braund, Mr. Owen Harris    male  22.0      1\n",
            "1  Cumings, Mrs. John Bradley (Florence Briggs Th...  female  38.0      1\n",
            "2                             Heikkinen, Miss. Laina  female  26.0      0\n",
            "3       Futrelle, Mrs. Jacques Heath (Lily May Peel)  female  35.0      1\n",
            "4                           Allen, Mr. William Henry    male  35.0      0\n",
            "5                                   Moran, Mr. James    male   NaN      0\n",
            "6                            McCarthy, Mr. Timothy J    male  54.0      0\n",
            "7                     Palsson, Master. Gosta Leonard    male   2.0      3\n",
            "8  Johnson, Mrs. Oscar W (Elisabeth Vilhelmina Berg)  female  27.0      0\n",
            "9                Nasser, Mrs. Nicholas (Adele Achem)  female  14.0      1\n",
            "   Parch            Ticket     Fare Cabin Embarked\n",
            "0      0         A/5 21171   7.2500   NaN        S\n",
            "1      0          PC 17599  71.2833   C85        C\n",
            "2      0  STON/O2. 3101282   7.9250   NaN        S\n",
            "3      0            113803  53.1000  C123        S\n",
            "4      0            373450   8.0500   NaN        S\n",
            "5      0            330877   8.4583   NaN        Q\n",
            "6      0             17463  51.8625   E46        S\n",
            "7      1            349909  21.0750   NaN        S\n",
            "8      2            347742  11.1333   NaN        S\n",
            "9      0            237736  30.0708   NaN        C\n"
          ],
          "name": "stdout"
        }
      ]
    },
    {
      "cell_type": "markdown",
      "metadata": {
        "id": "uR_6BE1lu5xT",
        "colab_type": "text"
      },
      "source": [
        "- ex_results 를 보아 사람 수에 따라 survived를 예측해야된다는 것을 알 수있다.\n",
        "- train_data의 columns와 해당 competition의 data 부분을 살펴보면 컬럼에 대한 설명이 잘 되어있다.\n",
        "\n",
        "```\n",
        "Variable Notes\n",
        "pclass: A proxy for socio-economic   status (SES)  \n",
        "1st = Upper  \n",
        "2nd = Middle  \n",
        "3rd = Lower  \n",
        "\n",
        "age: Age is fractional if less than 1. If the age is estimated, is it in the form of xx.5  \n",
        "\n",
        "sibsp: The dataset defines family relations in this way...\n",
        "Sibling = brother, sister, stepbrother, stepsister\n",
        "Spouse = husband, wife (mistresses and fiancés were ignored)  \n",
        "\n",
        "parch: The dataset defines family relations in this way...\n",
        "Parent = mother, father\n",
        "Child = daughter, son, stepdaughter, stepson\n",
        "Some children travelled only with a nanny, therefore parch=0 for them.\n",
        "```\n",
        "  - Pasengerld : 사람의 수\n",
        "  - Survived : 살았는지 죽었는지  \n",
        "  (0 = no, 1 = yes)\n",
        "  \n",
        "  - Pclass : 티켓의 클래스  \n",
        "  (1 = 1st, 2 = 2nd, 3 = 3rd)\n",
        "  - Name : 이름 \n",
        "  - Sex : 성별\n",
        "  - Age : 나이\n",
        "  - SibSp : sibling, spouse\n",
        "  - Parch :parent, child\n",
        "  - Ticket :ticket number\n",
        "  - Fare : 두려움 정도\n",
        "  - Cabin : 객실\n",
        "  - Embarked : 승선지\n"
      ]
    },
    {
      "cell_type": "markdown",
      "metadata": {
        "id": "mCbdHKR_AiIt",
        "colab_type": "text"
      },
      "source": [
        "### 기준 세우기\n",
        "- 데이터 정제는 각자의 기준에 따라서 진행한다.\n",
        "- 나의 기준은 heatmap 으로 일단 survived와 관련성 있는 변수를 추려본다. \n",
        "- heatmap은 연속적인 데이터에 대한 상관관계를 봄으로 비연속적 데이터에 대해서 연속적인 데이터로 바꿔줘야한다.  \n",
        "ex) Name,Sex, Age(Nan 값 존재), Cabin(Nan값 존재),Ticket(a,b,c 다양성 존재), 객실(a,b,c..),행선지(s,c,q) "
      ]
    },
    {
      "cell_type": "markdown",
      "metadata": {
        "id": "SbcjWzQ3z9tc",
        "colab_type": "text"
      },
      "source": [
        "### Name"
      ]
    },
    {
      "cell_type": "code",
      "metadata": {
        "id": "MrAMSHOnCWC-",
        "colab_type": "code",
        "colab": {}
      },
      "source": [
        "#Name으로 남, 여를 얻을 수 있고 가족 관계를 얻을 수 있을 것 같았는데 데이터를 찾아보니,\n",
        "#딱히 관계는 없는 듯 하여 삭제한다.\n",
        "train_data = train_data.drop(['Name'], axis = 1)"
      ],
      "execution_count": 0,
      "outputs": []
    },
    {
      "cell_type": "markdown",
      "metadata": {
        "id": "x_Pkd3I2z_l9",
        "colab_type": "text"
      },
      "source": [
        "### Sex"
      ]
    },
    {
      "cell_type": "code",
      "metadata": {
        "id": "JANw9ldIZCGE",
        "colab_type": "code",
        "colab": {}
      },
      "source": [
        "#Sex 보면 female과 male로 되어있다 이를 함수를 통하여 1, 0 으로 바꾼다.\n",
        "\n",
        "def sex_to_num(data):\n",
        "  if 'female' == data:\n",
        "    return 1\n",
        "  elif 'male' == data:\n",
        "    return 0\n",
        "    \n",
        "train_data['Sex'] = train_data['Sex'].apply(sex_to_num)"
      ],
      "execution_count": 0,
      "outputs": []
    },
    {
      "cell_type": "code",
      "metadata": {
        "id": "CoRq1bH0adiz",
        "colab_type": "code",
        "outputId": "c1344aae-a4e3-4b08-d1ca-65c27576c5bf",
        "colab": {
          "base_uri": "https://localhost:8080/",
          "height": 0
        }
      },
      "source": [
        "print(train_data['Sex'].head(n=5))"
      ],
      "execution_count": 10,
      "outputs": [
        {
          "output_type": "stream",
          "text": [
            "0    0\n",
            "1    1\n",
            "2    1\n",
            "3    1\n",
            "4    0\n",
            "Name: Sex, dtype: int64\n"
          ],
          "name": "stdout"
        }
      ]
    },
    {
      "cell_type": "markdown",
      "metadata": {
        "id": "fe9JF-2u0HXE",
        "colab_type": "text"
      },
      "source": [
        "### Age, Cabin, Embarked"
      ]
    },
    {
      "cell_type": "code",
      "metadata": {
        "id": "XLRbvJF6aWFl",
        "colab_type": "code",
        "outputId": "dee51b13-30ae-4753-96e3-c291fdc6eb42",
        "colab": {
          "base_uri": "https://localhost:8080/",
          "height": 438
        }
      },
      "source": [
        "import missingno as msno\n",
        "# 다음 널값을 알아보는 라이브러리를 통하여\n",
        "#Age,Cabin(비연속)의 데이터를 보면 Nan 값이 존재하는 것을 알 수 있다.\n",
        "msno.matrix(train_data,figsize=(12,5))"
      ],
      "execution_count": 11,
      "outputs": [
        {
          "output_type": "execute_result",
          "data": {
            "text/plain": [
              "<matplotlib.axes._subplots.AxesSubplot at 0x7fa21b573748>"
            ]
          },
          "metadata": {
            "tags": []
          },
          "execution_count": 11
        },
        {
          "output_type": "display_data",
          "data": {
            "image/png": "[encoded data removed]",
            "text/plain": [
              "<Figure size 864x360 with 2 Axes>"
            ]
          },
          "metadata": {
            "tags": []
          }
        }
      ]
    },
    {
      "cell_type": "code",
      "metadata": {
        "id": "dErXD2D9h9xL",
        "colab_type": "code",
        "colab": {}
      },
      "source": [
        "train_data['Age'].fillna(0,inplace=True)\n",
        "train_data['Cabin'].fillna(str(0),inplace=True)\n",
        "train_data['Embarked'].fillna(0,inplace=True)"
      ],
      "execution_count": 0,
      "outputs": []
    },
    {
      "cell_type": "code",
      "metadata": {
        "id": "CNSTLj93kSy1",
        "colab_type": "code",
        "outputId": "63d93be6-8e00-443e-c8e3-b59d0c904a30",
        "colab": {
          "base_uri": "https://localhost:8080/",
          "height": 438
        }
      },
      "source": [
        "# null 값이 0으로 채워졌기 때문에 없어졌음을 확인할 수 있다.\n",
        "msno.matrix(train_data,figsize=(12,5))"
      ],
      "execution_count": 13,
      "outputs": [
        {
          "output_type": "execute_result",
          "data": {
            "text/plain": [
              "<matplotlib.axes._subplots.AxesSubplot at 0x7fa21881a6a0>"
            ]
          },
          "metadata": {
            "tags": []
          },
          "execution_count": 13
        },
        {
          "output_type": "display_data",
          "data": {
            "image/png": "[encoded data removed]",
            "text/plain": [
              "<Figure size 864x360 with 2 Axes>"
            ]
          },
          "metadata": {
            "tags": []
          }
        }
      ]
    },
    {
      "cell_type": "code",
      "metadata": {
        "id": "a4XKrLhugQNc",
        "colab_type": "code",
        "outputId": "d79b0763-3889-4225-b5b8-fffadafefd9f",
        "colab": {
          "base_uri": "https://localhost:8080/",
          "height": 390
        }
      },
      "source": [
        "#이를 전체 평균이 아니고, 값이 있는 곳에서 랜덤으로 100개씩 추려서 평균을 한다.\n",
        "import random\n",
        "\n",
        "def random_age(x):\n",
        "  sum = 0\n",
        "  for i in range (100):\n",
        "    num = random.choice(train_data['Age']) \n",
        "    if num == 0:\n",
        "      continue\n",
        "    sum += num\n",
        "  return int(sum/100)\n",
        "\n",
        "# 0 이 확인된다.\n",
        "print(train_data['Age'].head(n=20))"
      ],
      "execution_count": 14,
      "outputs": [
        {
          "output_type": "stream",
          "text": [
            "0     22.0\n",
            "1     38.0\n",
            "2     26.0\n",
            "3     35.0\n",
            "4     35.0\n",
            "5      0.0\n",
            "6     54.0\n",
            "7      2.0\n",
            "8     27.0\n",
            "9     14.0\n",
            "10     4.0\n",
            "11    58.0\n",
            "12    20.0\n",
            "13    39.0\n",
            "14    14.0\n",
            "15    55.0\n",
            "16     2.0\n",
            "17     0.0\n",
            "18    31.0\n",
            "19     0.0\n",
            "Name: Age, dtype: float64\n"
          ],
          "name": "stdout"
        }
      ]
    },
    {
      "cell_type": "code",
      "metadata": {
        "id": "zl41yTEBwb_F",
        "colab_type": "code",
        "outputId": "91d59a7a-602a-4f67-bdc2-4eb573072679",
        "colab": {
          "base_uri": "https://localhost:8080/",
          "height": 125
        }
      },
      "source": [
        "for index, data in enumerate(train_data['Age']):\n",
        "  if data == 0:\n",
        "    train_data['Age'].loc[index] = random_age(train_data['Age'])"
      ],
      "execution_count": 15,
      "outputs": [
        {
          "output_type": "stream",
          "text": [
            "/usr/local/lib/python3.6/dist-packages/pandas/core/indexing.py:205: SettingWithCopyWarning: \n",
            "A value is trying to be set on a copy of a slice from a DataFrame\n",
            "\n",
            "See the caveats in the documentation: http://pandas.pydata.org/pandas-docs/stable/user_guide/indexing.html#returning-a-view-versus-a-copy\n",
            "  self._setitem_with_indexer(indexer, value)\n"
          ],
          "name": "stderr"
        }
      ]
    },
    {
      "cell_type": "code",
      "metadata": {
        "id": "8_bsd4onyXU0",
        "colab_type": "code",
        "outputId": "1c851b93-4835-4389-8a6a-122ee4fb74ba",
        "colab": {
          "base_uri": "https://localhost:8080/",
          "height": 390
        }
      },
      "source": [
        "# 0 값이 랜덤 평균 값으로 채워졌다.\n",
        "print(train_data['Age'].head(n=20))"
      ],
      "execution_count": 16,
      "outputs": [
        {
          "output_type": "stream",
          "text": [
            "0     22.0\n",
            "1     38.0\n",
            "2     26.0\n",
            "3     35.0\n",
            "4     35.0\n",
            "5     22.0\n",
            "6     54.0\n",
            "7      2.0\n",
            "8     27.0\n",
            "9     14.0\n",
            "10     4.0\n",
            "11    58.0\n",
            "12    20.0\n",
            "13    39.0\n",
            "14    14.0\n",
            "15    55.0\n",
            "16     2.0\n",
            "17    25.0\n",
            "18    31.0\n",
            "19    21.0\n",
            "Name: Age, dtype: float64\n"
          ],
          "name": "stdout"
        }
      ]
    },
    {
      "cell_type": "markdown",
      "metadata": {
        "id": "QoVeJWoW9xrF",
        "colab_type": "text"
      },
      "source": [
        "- Cabin 기준\n",
        "```\n",
        "0 : random 1 ~ 6\n",
        "A : 1\n",
        "B : 2\n",
        "C : 3\n",
        "D : 4\n",
        "E : 5\n",
        "F : 6\n",
        "G : 7\n",
        "```"
      ]
    },
    {
      "cell_type": "code",
      "metadata": {
        "id": "Fon7-ur22Qkb",
        "colab_type": "code",
        "outputId": "524cf05a-2695-49e3-9d22-63b6eda30a33",
        "colab": {
          "base_uri": "https://localhost:8080/",
          "height": 125
        }
      },
      "source": [
        "for index, data in enumerate(train_data['Cabin']):\n",
        "  if data[0] == 'A':\n",
        "    train_data['Cabin'].loc[index] = 1\n",
        "  elif data[0] == 'B':\n",
        "    train_data['Cabin'].loc[index] = 2\n",
        "  elif data[0] == 'C':\n",
        "    train_data['Cabin'].loc[index] = 3\n",
        "  elif data[0] == 'D':\n",
        "    train_data['Cabin'].loc[index] = 4\n",
        "  elif data[0] == 'E':\n",
        "    train_data['Cabin'].loc[index] = 5\n",
        "  elif data[0] == 'F':\n",
        "    train_data['Cabin'].loc[index] = 6\n",
        "  elif data[0] == 'G':\n",
        "    train_data['Cabin'].loc[index] = 7\n",
        "  elif data[0] == 0:\n",
        "    train_data['Cabin'].loc[index] = randint(1,6)"
      ],
      "execution_count": 17,
      "outputs": [
        {
          "output_type": "stream",
          "text": [
            "/usr/local/lib/python3.6/dist-packages/pandas/core/indexing.py:205: SettingWithCopyWarning: \n",
            "A value is trying to be set on a copy of a slice from a DataFrame\n",
            "\n",
            "See the caveats in the documentation: http://pandas.pydata.org/pandas-docs/stable/user_guide/indexing.html#returning-a-view-versus-a-copy\n",
            "  self._setitem_with_indexer(indexer, value)\n"
          ],
          "name": "stderr"
        }
      ]
    },
    {
      "cell_type": "code",
      "metadata": {
        "id": "ZXJldjW5BUZt",
        "colab_type": "code",
        "outputId": "804970d8-7b7e-45b9-ddf6-8a0129102375",
        "colab": {
          "base_uri": "https://localhost:8080/",
          "height": 123
        }
      },
      "source": [
        "print(train_data['Cabin'].head(n=5))"
      ],
      "execution_count": 18,
      "outputs": [
        {
          "output_type": "stream",
          "text": [
            "0    0\n",
            "1    3\n",
            "2    0\n",
            "3    3\n",
            "4    0\n",
            "Name: Cabin, dtype: object\n"
          ],
          "name": "stdout"
        }
      ]
    },
    {
      "cell_type": "markdown",
      "metadata": {
        "id": "GYoHgqmS3qLY",
        "colab_type": "text"
      },
      "source": [
        "- Embarked 기준\n",
        "```\n",
        "1 : C\n",
        "2 : Q\n",
        "3 : S\n",
        "2 개의 null 값 : 랜덤 (1~3)\n",
        "```"
      ]
    },
    {
      "cell_type": "code",
      "metadata": {
        "id": "70uUPv-z2Sh7",
        "colab_type": "code",
        "outputId": "fdc1fbfd-22ba-400d-9593-c76270754af1",
        "colab": {
          "base_uri": "https://localhost:8080/",
          "height": 321
        }
      },
      "source": [
        "# null 값이 두개가 존재하지만 삭제할 경우 다른 데이터에 대한 타격이 있을 것 같아서 이 또한 랜덤으로 채운다.\n",
        "for index, data in enumerate(train_data['Embarked']):\n",
        "  if data == 'C':\n",
        "    train_data['Embarked'].loc[index] = 1\n",
        "  elif data == 'Q':\n",
        "    train_data['Embarked'].loc[index] = 2\n",
        "  elif data == 'S':\n",
        "    train_data['Embarked'].loc[index] = 3\n",
        "  elif data == '0':\n",
        "    train_data['Embarked'].loc[index] = random.randint(1,3)\n",
        "\n",
        "print(train_data['Embarked'].head(n=10))"
      ],
      "execution_count": 19,
      "outputs": [
        {
          "output_type": "stream",
          "text": [
            "/usr/local/lib/python3.6/dist-packages/pandas/core/indexing.py:205: SettingWithCopyWarning: \n",
            "A value is trying to be set on a copy of a slice from a DataFrame\n",
            "\n",
            "See the caveats in the documentation: http://pandas.pydata.org/pandas-docs/stable/user_guide/indexing.html#returning-a-view-versus-a-copy\n",
            "  self._setitem_with_indexer(indexer, value)\n"
          ],
          "name": "stderr"
        },
        {
          "output_type": "stream",
          "text": [
            "0    3\n",
            "1    1\n",
            "2    3\n",
            "3    3\n",
            "4    3\n",
            "5    2\n",
            "6    3\n",
            "7    3\n",
            "8    3\n",
            "9    1\n",
            "Name: Embarked, dtype: int64\n"
          ],
          "name": "stdout"
        }
      ]
    },
    {
      "cell_type": "markdown",
      "metadata": {
        "id": "dkditjFt63Mx",
        "colab_type": "text"
      },
      "source": [
        "### 데이터 수정 결과 확인하기"
      ]
    },
    {
      "cell_type": "code",
      "metadata": {
        "id": "pkPlZMaO6tIl",
        "colab_type": "code",
        "outputId": "9778b60e-1563-4257-fd4d-f41648e600ea",
        "colab": {
          "base_uri": "https://localhost:8080/",
          "height": 0
        }
      },
      "source": [
        "# 확인하기\n",
        "train_data.head(n=5)"
      ],
      "execution_count": 20,
      "outputs": [
        {
          "output_type": "execute_result",
          "data": {
            "text/html": [
              "<div>\n",
              "<style scoped>\n",
              "    .dataframe tbody tr th:only-of-type {\n",
              "        vertical-align: middle;\n",
              "    }\n",
              "\n",
              "    .dataframe tbody tr th {\n",
              "        vertical-align: top;\n",
              "    }\n",
              "\n",
              "    .dataframe thead th {\n",
              "        text-align: right;\n",
              "    }\n",
              "</style>\n",
              "<table border=\"1\" class=\"dataframe\">\n",
              "  <thead>\n",
              "    <tr style=\"text-align: right;\">\n",
              "      <th></th>\n",
              "      <th>PassengerId</th>\n",
              "      <th>Survived</th>\n",
              "      <th>Pclass</th>\n",
              "      <th>Sex</th>\n",
              "      <th>Age</th>\n",
              "      <th>SibSp</th>\n",
              "      <th>Parch</th>\n",
              "      <th>Ticket</th>\n",
              "      <th>Fare</th>\n",
              "      <th>Cabin</th>\n",
              "      <th>Embarked</th>\n",
              "    </tr>\n",
              "  </thead>\n",
              "  <tbody>\n",
              "    <tr>\n",
              "      <th>0</th>\n",
              "      <td>1</td>\n",
              "      <td>0</td>\n",
              "      <td>3</td>\n",
              "      <td>0</td>\n",
              "      <td>22.0</td>\n",
              "      <td>1</td>\n",
              "      <td>0</td>\n",
              "      <td>A/5 21171</td>\n",
              "      <td>7.2500</td>\n",
              "      <td>0</td>\n",
              "      <td>3</td>\n",
              "    </tr>\n",
              "    <tr>\n",
              "      <th>1</th>\n",
              "      <td>2</td>\n",
              "      <td>1</td>\n",
              "      <td>1</td>\n",
              "      <td>1</td>\n",
              "      <td>38.0</td>\n",
              "      <td>1</td>\n",
              "      <td>0</td>\n",
              "      <td>PC 17599</td>\n",
              "      <td>71.2833</td>\n",
              "      <td>3</td>\n",
              "      <td>1</td>\n",
              "    </tr>\n",
              "    <tr>\n",
              "      <th>2</th>\n",
              "      <td>3</td>\n",
              "      <td>1</td>\n",
              "      <td>3</td>\n",
              "      <td>1</td>\n",
              "      <td>26.0</td>\n",
              "      <td>0</td>\n",
              "      <td>0</td>\n",
              "      <td>STON/O2. 3101282</td>\n",
              "      <td>7.9250</td>\n",
              "      <td>0</td>\n",
              "      <td>3</td>\n",
              "    </tr>\n",
              "    <tr>\n",
              "      <th>3</th>\n",
              "      <td>4</td>\n",
              "      <td>1</td>\n",
              "      <td>1</td>\n",
              "      <td>1</td>\n",
              "      <td>35.0</td>\n",
              "      <td>1</td>\n",
              "      <td>0</td>\n",
              "      <td>113803</td>\n",
              "      <td>53.1000</td>\n",
              "      <td>3</td>\n",
              "      <td>3</td>\n",
              "    </tr>\n",
              "    <tr>\n",
              "      <th>4</th>\n",
              "      <td>5</td>\n",
              "      <td>0</td>\n",
              "      <td>3</td>\n",
              "      <td>0</td>\n",
              "      <td>35.0</td>\n",
              "      <td>0</td>\n",
              "      <td>0</td>\n",
              "      <td>373450</td>\n",
              "      <td>8.0500</td>\n",
              "      <td>0</td>\n",
              "      <td>3</td>\n",
              "    </tr>\n",
              "  </tbody>\n",
              "</table>\n",
              "</div>"
            ],
            "text/plain": [
              "   PassengerId  Survived  Pclass  ...     Fare  Cabin  Embarked\n",
              "0            1         0       3  ...   7.2500      0         3\n",
              "1            2         1       1  ...  71.2833      3         1\n",
              "2            3         1       3  ...   7.9250      0         3\n",
              "3            4         1       1  ...  53.1000      3         3\n",
              "4            5         0       3  ...   8.0500      0         3\n",
              "\n",
              "[5 rows x 11 columns]"
            ]
          },
          "metadata": {
            "tags": []
          },
          "execution_count": 20
        }
      ]
    },
    {
      "cell_type": "markdown",
      "metadata": {
        "id": "iKAMf1BVBwDE",
        "colab_type": "text"
      },
      "source": [
        "### ticket을 일단 한번 빼보겠다."
      ]
    },
    {
      "cell_type": "code",
      "metadata": {
        "id": "AghT10LIB5ZN",
        "colab_type": "code",
        "colab": {}
      },
      "source": [
        "td_train_data=train_data.drop(['Ticket'],axis=1)"
      ],
      "execution_count": 0,
      "outputs": []
    },
    {
      "cell_type": "code",
      "metadata": {
        "id": "CmdIO1HuCHUk",
        "colab_type": "code",
        "outputId": "4361bf5d-2d57-404c-d746-11626cee009e",
        "colab": {
          "base_uri": "https://localhost:8080/",
          "height": 0
        }
      },
      "source": [
        "td_train_data"
      ],
      "execution_count": 22,
      "outputs": [
        {
          "output_type": "execute_result",
          "data": {
            "text/html": [
              "<div>\n",
              "<style scoped>\n",
              "    .dataframe tbody tr th:only-of-type {\n",
              "        vertical-align: middle;\n",
              "    }\n",
              "\n",
              "    .dataframe tbody tr th {\n",
              "        vertical-align: top;\n",
              "    }\n",
              "\n",
              "    .dataframe thead th {\n",
              "        text-align: right;\n",
              "    }\n",
              "</style>\n",
              "<table border=\"1\" class=\"dataframe\">\n",
              "  <thead>\n",
              "    <tr style=\"text-align: right;\">\n",
              "      <th></th>\n",
              "      <th>PassengerId</th>\n",
              "      <th>Survived</th>\n",
              "      <th>Pclass</th>\n",
              "      <th>Sex</th>\n",
              "      <th>Age</th>\n",
              "      <th>SibSp</th>\n",
              "      <th>Parch</th>\n",
              "      <th>Fare</th>\n",
              "      <th>Cabin</th>\n",
              "      <th>Embarked</th>\n",
              "    </tr>\n",
              "  </thead>\n",
              "  <tbody>\n",
              "    <tr>\n",
              "      <th>0</th>\n",
              "      <td>1</td>\n",
              "      <td>0</td>\n",
              "      <td>3</td>\n",
              "      <td>0</td>\n",
              "      <td>22.0</td>\n",
              "      <td>1</td>\n",
              "      <td>0</td>\n",
              "      <td>7.2500</td>\n",
              "      <td>0</td>\n",
              "      <td>3</td>\n",
              "    </tr>\n",
              "    <tr>\n",
              "      <th>1</th>\n",
              "      <td>2</td>\n",
              "      <td>1</td>\n",
              "      <td>1</td>\n",
              "      <td>1</td>\n",
              "      <td>38.0</td>\n",
              "      <td>1</td>\n",
              "      <td>0</td>\n",
              "      <td>71.2833</td>\n",
              "      <td>3</td>\n",
              "      <td>1</td>\n",
              "    </tr>\n",
              "    <tr>\n",
              "      <th>2</th>\n",
              "      <td>3</td>\n",
              "      <td>1</td>\n",
              "      <td>3</td>\n",
              "      <td>1</td>\n",
              "      <td>26.0</td>\n",
              "      <td>0</td>\n",
              "      <td>0</td>\n",
              "      <td>7.9250</td>\n",
              "      <td>0</td>\n",
              "      <td>3</td>\n",
              "    </tr>\n",
              "    <tr>\n",
              "      <th>3</th>\n",
              "      <td>4</td>\n",
              "      <td>1</td>\n",
              "      <td>1</td>\n",
              "      <td>1</td>\n",
              "      <td>35.0</td>\n",
              "      <td>1</td>\n",
              "      <td>0</td>\n",
              "      <td>53.1000</td>\n",
              "      <td>3</td>\n",
              "      <td>3</td>\n",
              "    </tr>\n",
              "    <tr>\n",
              "      <th>4</th>\n",
              "      <td>5</td>\n",
              "      <td>0</td>\n",
              "      <td>3</td>\n",
              "      <td>0</td>\n",
              "      <td>35.0</td>\n",
              "      <td>0</td>\n",
              "      <td>0</td>\n",
              "      <td>8.0500</td>\n",
              "      <td>0</td>\n",
              "      <td>3</td>\n",
              "    </tr>\n",
              "    <tr>\n",
              "      <th>...</th>\n",
              "      <td>...</td>\n",
              "      <td>...</td>\n",
              "      <td>...</td>\n",
              "      <td>...</td>\n",
              "      <td>...</td>\n",
              "      <td>...</td>\n",
              "      <td>...</td>\n",
              "      <td>...</td>\n",
              "      <td>...</td>\n",
              "      <td>...</td>\n",
              "    </tr>\n",
              "    <tr>\n",
              "      <th>886</th>\n",
              "      <td>887</td>\n",
              "      <td>0</td>\n",
              "      <td>2</td>\n",
              "      <td>0</td>\n",
              "      <td>27.0</td>\n",
              "      <td>0</td>\n",
              "      <td>0</td>\n",
              "      <td>13.0000</td>\n",
              "      <td>0</td>\n",
              "      <td>3</td>\n",
              "    </tr>\n",
              "    <tr>\n",
              "      <th>887</th>\n",
              "      <td>888</td>\n",
              "      <td>1</td>\n",
              "      <td>1</td>\n",
              "      <td>1</td>\n",
              "      <td>19.0</td>\n",
              "      <td>0</td>\n",
              "      <td>0</td>\n",
              "      <td>30.0000</td>\n",
              "      <td>2</td>\n",
              "      <td>3</td>\n",
              "    </tr>\n",
              "    <tr>\n",
              "      <th>888</th>\n",
              "      <td>889</td>\n",
              "      <td>0</td>\n",
              "      <td>3</td>\n",
              "      <td>1</td>\n",
              "      <td>26.0</td>\n",
              "      <td>1</td>\n",
              "      <td>2</td>\n",
              "      <td>23.4500</td>\n",
              "      <td>0</td>\n",
              "      <td>3</td>\n",
              "    </tr>\n",
              "    <tr>\n",
              "      <th>889</th>\n",
              "      <td>890</td>\n",
              "      <td>1</td>\n",
              "      <td>1</td>\n",
              "      <td>0</td>\n",
              "      <td>26.0</td>\n",
              "      <td>0</td>\n",
              "      <td>0</td>\n",
              "      <td>30.0000</td>\n",
              "      <td>3</td>\n",
              "      <td>1</td>\n",
              "    </tr>\n",
              "    <tr>\n",
              "      <th>890</th>\n",
              "      <td>891</td>\n",
              "      <td>0</td>\n",
              "      <td>3</td>\n",
              "      <td>0</td>\n",
              "      <td>32.0</td>\n",
              "      <td>0</td>\n",
              "      <td>0</td>\n",
              "      <td>7.7500</td>\n",
              "      <td>0</td>\n",
              "      <td>2</td>\n",
              "    </tr>\n",
              "  </tbody>\n",
              "</table>\n",
              "<p>891 rows × 10 columns</p>\n",
              "</div>"
            ],
            "text/plain": [
              "     PassengerId  Survived  Pclass  Sex  ...  Parch     Fare  Cabin  Embarked\n",
              "0              1         0       3    0  ...      0   7.2500      0         3\n",
              "1              2         1       1    1  ...      0  71.2833      3         1\n",
              "2              3         1       3    1  ...      0   7.9250      0         3\n",
              "3              4         1       1    1  ...      0  53.1000      3         3\n",
              "4              5         0       3    0  ...      0   8.0500      0         3\n",
              "..           ...       ...     ...  ...  ...    ...      ...    ...       ...\n",
              "886          887         0       2    0  ...      0  13.0000      0         3\n",
              "887          888         1       1    1  ...      0  30.0000      2         3\n",
              "888          889         0       3    1  ...      2  23.4500      0         3\n",
              "889          890         1       1    0  ...      0  30.0000      3         1\n",
              "890          891         0       3    0  ...      0   7.7500      0         2\n",
              "\n",
              "[891 rows x 10 columns]"
            ]
          },
          "metadata": {
            "tags": []
          },
          "execution_count": 22
        }
      ]
    },
    {
      "cell_type": "code",
      "metadata": {
        "colab_type": "code",
        "outputId": "644226a2-f9e4-402e-86ff-1f795ff089d6",
        "id": "QQSz7eXQCQUr",
        "colab": {
          "base_uri": "https://localhost:8080/",
          "height": 0
        }
      },
      "source": [
        "td_train_columns = (td_train_data.columns).astype(list)\n",
        "print(td_train_columns)"
      ],
      "execution_count": 23,
      "outputs": [
        {
          "output_type": "stream",
          "text": [
            "Index(['PassengerId', 'Survived', 'Pclass', 'Sex', 'Age', 'SibSp', 'Parch',\n",
            "       'Fare', 'Cabin', 'Embarked'],\n",
            "      dtype='object')\n"
          ],
          "name": "stdout"
        }
      ]
    },
    {
      "cell_type": "markdown",
      "metadata": {
        "id": "KnIlByoEUQik",
        "colab_type": "text"
      },
      "source": [
        "### 데이터 엔지니어링 결과\n",
        "- Survived 에 해당하는 상관관계 수를 살펴보면 Fare, Sex, Parch 컬럼들이 Survived 와 상관관계가 있음을 볼 수 있다. "
      ]
    },
    {
      "cell_type": "code",
      "metadata": {
        "id": "ha2Y9fyRBIIs",
        "colab_type": "code",
        "colab": {}
      },
      "source": [
        "Matt = td_train_data[['PassengerId', 'Survived', 'Pclass', 'Sex', 'Age', 'SibSp', 'Parch',\n",
        "       'Fare', 'Cabin', 'Embarked']]\n",
        "Matt = Matt.corr()\n",
        "mask = np.array(Matt)\n",
        "mask[np.tril_indices_from(mask)] = False"
      ],
      "execution_count": 0,
      "outputs": []
    },
    {
      "cell_type": "code",
      "metadata": {
        "id": "hUe2OJ7VTqxk",
        "colab_type": "code",
        "outputId": "466d5d86-03a3-4a0f-c6a6-3e6406ede4ee",
        "colab": {
          "base_uri": "https://localhost:8080/",
          "height": 633
        }
      },
      "source": [
        "fig, ax = plt.subplots()\n",
        "fig.set_size_inches(20,10)\n",
        "sns.heatmap(Matt, mask=mask, vmax=1,square=True, annot=True)\n",
        "\n",
        "ax.set_ylim(len(Matt)-0.1,-0.1)"
      ],
      "execution_count": 28,
      "outputs": [
        {
          "output_type": "execute_result",
          "data": {
            "text/plain": [
              "(8.9, -0.1)"
            ]
          },
          "metadata": {
            "tags": []
          },
          "execution_count": 28
        },
        {
          "output_type": "display_data",
          "data": {
            "image/png": "[encoded data removed]",
            "text/plain": [
              "<Figure size 1440x720 with 2 Axes>"
            ]
          },
          "metadata": {
            "tags": []
          }
        }
      ]
    },
    {
      "cell_type": "code",
      "metadata": {
        "id": "4C9q91ugGe_l",
        "colab_type": "code",
        "colab": {}
      },
      "source": [
        "a = train_data['Fare']\n",
        "b = train_data['Sex']\n",
        "c = train_data['Parch']\n",
        "\n",
        "f_train_data = pd.concat([a,b,c], axis = 1)"
      ],
      "execution_count": 0,
      "outputs": []
    },
    {
      "cell_type": "markdown",
      "metadata": {
        "id": "IDT-v7HvH5T8",
        "colab_type": "text"
      },
      "source": [
        "### Test 셋 엔지니어링\n",
        "\n",
        "- test 셋도 train을 수정한 것과 똑같은 부분을 수정해줘야한다."
      ]
    },
    {
      "cell_type": "code",
      "metadata": {
        "id": "ieWy1IHvQPX0",
        "colab_type": "code",
        "colab": {}
      },
      "source": [
        "test_data = pd.read_csv('/content/input/test.csv')"
      ],
      "execution_count": 0,
      "outputs": []
    },
    {
      "cell_type": "code",
      "metadata": {
        "id": "7M-WviZ0IChD",
        "colab_type": "code",
        "colab": {}
      },
      "source": [
        "test_data['Sex'] = test_data['Sex'].apply(sex_to_num)\n",
        "\n",
        "a = test_data['Fare']\n",
        "b = test_data['Sex']\n",
        "c = test_data['Parch']\n",
        "\n",
        "f_test_data = pd.concat([a,b,c], axis = 1)"
      ],
      "execution_count": 0,
      "outputs": []
    },
    {
      "cell_type": "code",
      "metadata": {
        "id": "zYY5GINBI2Kq",
        "colab_type": "code",
        "outputId": "61b31699-76c9-4c88-cbf6-64e5f25e57d6",
        "colab": {
          "base_uri": "https://localhost:8080/",
          "height": 265
        }
      },
      "source": [
        "print(f_test_data)"
      ],
      "execution_count": 78,
      "outputs": [
        {
          "output_type": "stream",
          "text": [
            "         Fare  Sex  Parch\n",
            "0      7.8292    0      0\n",
            "1      7.0000    1      0\n",
            "2      9.6875    0      0\n",
            "3      8.6625    0      0\n",
            "4     12.2875    1      1\n",
            "..        ...  ...    ...\n",
            "413    8.0500    0      0\n",
            "414  108.9000    1      0\n",
            "415    7.2500    0      0\n",
            "416    8.0500    0      0\n",
            "417   22.3583    0      1\n",
            "\n",
            "[418 rows x 3 columns]\n"
          ],
          "name": "stdout"
        }
      ]
    },
    {
      "cell_type": "code",
      "metadata": {
        "id": "NnqQbKAIPC51",
        "colab_type": "code",
        "colab": {
          "base_uri": "https://localhost:8080/",
          "height": 401
        },
        "outputId": "264f0d9c-babe-4bed-bba0-d374fd027cb9"
      },
      "source": [
        "msno.matrix(f_test_data,figsize=(12,5))"
      ],
      "execution_count": 79,
      "outputs": [
        {
          "output_type": "execute_result",
          "data": {
            "text/plain": [
              "<matplotlib.axes._subplots.AxesSubplot at 0x7fa21215cb70>"
            ]
          },
          "metadata": {
            "tags": []
          },
          "execution_count": 79
        },
        {
          "output_type": "display_data",
          "data": {
            "image/png": "[encoded data removed]",
            "text/plain": [
              "<Figure size 864x360 with 2 Axes>"
            ]
          },
          "metadata": {
            "tags": []
          }
        }
      ]
    },
    {
      "cell_type": "code",
      "metadata": {
        "id": "J6-zVgNrPtLj",
        "colab_type": "code",
        "colab": {}
      },
      "source": [
        "f_test_data['Fare'].fillna(method='ffill',inplace=True)"
      ],
      "execution_count": 0,
      "outputs": []
    },
    {
      "cell_type": "code",
      "metadata": {
        "id": "1l2WFDJEQDtD",
        "colab_type": "code",
        "colab": {
          "base_uri": "https://localhost:8080/",
          "height": 401
        },
        "outputId": "9c9e6c39-8c24-4e8b-a319-e2dd5974858c"
      },
      "source": [
        "msno.matrix(f_test_data,figsize=(12,5))"
      ],
      "execution_count": 82,
      "outputs": [
        {
          "output_type": "execute_result",
          "data": {
            "text/plain": [
              "<matplotlib.axes._subplots.AxesSubplot at 0x7fa2120ef588>"
            ]
          },
          "metadata": {
            "tags": []
          },
          "execution_count": 82
        },
        {
          "output_type": "display_data",
          "data": {
            "image/png": "[encoded data removed]",
            "text/plain": [
              "<Figure size 864x360 with 2 Axes>"
            ]
          },
          "metadata": {
            "tags": []
          }
        }
      ]
    },
    {
      "cell_type": "code",
      "metadata": {
        "id": "VlO_TUQcNm9F",
        "colab_type": "code",
        "outputId": "018db1af-967e-4cd0-95a8-0166befd1722",
        "colab": {
          "base_uri": "https://localhost:8080/",
          "height": 158
        }
      },
      "source": [
        "# train\n",
        "print(f_train_data.dtypes)\n",
        "# test\n",
        "print(f_test_data.dtypes)"
      ],
      "execution_count": 85,
      "outputs": [
        {
          "output_type": "stream",
          "text": [
            "Fare     float64\n",
            "Sex        int64\n",
            "Parch      int64\n",
            "dtype: object\n",
            "Fare     float64\n",
            "Sex        int64\n",
            "Parch      int64\n",
            "dtype: object\n"
          ],
          "name": "stdout"
        }
      ]
    },
    {
      "cell_type": "markdown",
      "metadata": {
        "id": "2kPoQlyhD_GT",
        "colab_type": "text"
      },
      "source": [
        "# 데이터 예측 (RandomForest)\n",
        "\n",
        "- 기본적인 RandomForest로 예측을 해보겠다.\n",
        "\n",
        "#### 예측 라이브러리 불러오기"
      ]
    },
    {
      "cell_type": "code",
      "metadata": {
        "id": "u_up087MD-vu",
        "colab_type": "code",
        "colab": {}
      },
      "source": [
        "from sklearn.ensemble import RandomForestClassifier\n",
        "\n",
        "clf = RandomForestClassifier(n_estimators = 100, n_jobs = 1, random_state = 0)\n",
        "clf.fit(f_train_data,train_data['Survived'])\n",
        "results = clf.predict(f_test_data)"
      ],
      "execution_count": 0,
      "outputs": []
    },
    {
      "cell_type": "code",
      "metadata": {
        "id": "QK_h5aQ_MCL0",
        "colab_type": "code",
        "outputId": "00e62bf3-3b8d-45b5-ed23-283bf44a51e4",
        "colab": {
          "base_uri": "https://localhost:8080/",
          "height": 34
        }
      },
      "source": [
        "results.shape"
      ],
      "execution_count": 92,
      "outputs": [
        {
          "output_type": "execute_result",
          "data": {
            "text/plain": [
              "(418,)"
            ]
          },
          "metadata": {
            "tags": []
          },
          "execution_count": 92
        }
      ]
    },
    {
      "cell_type": "markdown",
      "metadata": {
        "id": "IN8bswJuJ7PN",
        "colab_type": "text"
      },
      "source": [
        "# 제출"
      ]
    },
    {
      "cell_type": "code",
      "metadata": {
        "id": "7Y7cT8ZfD-tE",
        "colab_type": "code",
        "outputId": "b30c2f3a-f659-4eed-fdb4-5cbc267bcf71",
        "colab": {
          "base_uri": "https://localhost:8080/",
          "height": 215
        }
      },
      "source": [
        "submission = pd.read_csv(\"/content/input/gender_submission.csv\")\n",
        "submission\n",
        "\n",
        "submission['Survived'] = results\n",
        "\n",
        "print(submission.shape)\n",
        "submission.head()"
      ],
      "execution_count": 93,
      "outputs": [
        {
          "output_type": "stream",
          "text": [
            "(418, 2)\n"
          ],
          "name": "stdout"
        },
        {
          "output_type": "execute_result",
          "data": {
            "text/html": [
              "<div>\n",
              "<style scoped>\n",
              "    .dataframe tbody tr th:only-of-type {\n",
              "        vertical-align: middle;\n",
              "    }\n",
              "\n",
              "    .dataframe tbody tr th {\n",
              "        vertical-align: top;\n",
              "    }\n",
              "\n",
              "    .dataframe thead th {\n",
              "        text-align: right;\n",
              "    }\n",
              "</style>\n",
              "<table border=\"1\" class=\"dataframe\">\n",
              "  <thead>\n",
              "    <tr style=\"text-align: right;\">\n",
              "      <th></th>\n",
              "      <th>PassengerId</th>\n",
              "      <th>Survived</th>\n",
              "    </tr>\n",
              "  </thead>\n",
              "  <tbody>\n",
              "    <tr>\n",
              "      <th>0</th>\n",
              "      <td>892</td>\n",
              "      <td>0</td>\n",
              "    </tr>\n",
              "    <tr>\n",
              "      <th>1</th>\n",
              "      <td>893</td>\n",
              "      <td>1</td>\n",
              "    </tr>\n",
              "    <tr>\n",
              "      <th>2</th>\n",
              "      <td>894</td>\n",
              "      <td>0</td>\n",
              "    </tr>\n",
              "    <tr>\n",
              "      <th>3</th>\n",
              "      <td>895</td>\n",
              "      <td>0</td>\n",
              "    </tr>\n",
              "    <tr>\n",
              "      <th>4</th>\n",
              "      <td>896</td>\n",
              "      <td>1</td>\n",
              "    </tr>\n",
              "  </tbody>\n",
              "</table>\n",
              "</div>"
            ],
            "text/plain": [
              "   PassengerId  Survived\n",
              "0          892         0\n",
              "1          893         1\n",
              "2          894         0\n",
              "3          895         0\n",
              "4          896         1"
            ]
          },
          "metadata": {
            "tags": []
          },
          "execution_count": 93
        }
      ]
    },
    {
      "cell_type": "code",
      "metadata": {
        "id": "66Zp-8-pDO-U",
        "colab_type": "code",
        "colab": {}
      },
      "source": [
        "submission.to_csv(\"/content/input/results_submission.csv\",index=False, header=True)"
      ],
      "execution_count": 0,
      "outputs": []
    },
    {
      "cell_type": "code",
      "metadata": {
        "id": "z_8r4YcGLFut",
        "colab_type": "code",
        "colab": {
          "base_uri": "https://localhost:8080/",
          "height": 52
        },
        "outputId": "1d76c5a2-4f5a-49e0-ee99-79f77ebc7300"
      },
      "source": [
        "!kaggle competitions submit -c titanic -f /content/input/results_submission.csv -m \"Message\""
      ],
      "execution_count": 97,
      "outputs": [
        {
          "output_type": "stream",
          "text": [
            "100% 2.77k/2.77k [00:01<00:00, 1.85kB/s]\n",
            "Successfully submitted to Titanic: Machine Learning from Disaster"
          ],
          "name": "stdout"
        }
      ]
    },
    {
      "cell_type": "markdown",
      "metadata": {
        "id": "ozwRnsyXSxes",
        "colab_type": "text"
      },
      "source": [
        "# 캐글 리더보드 점수 : 0.72248"
      ]
    }
  ]
}
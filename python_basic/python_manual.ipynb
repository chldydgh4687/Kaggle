{
  "nbformat": 4,
  "nbformat_minor": 0,
  "metadata": {
    "colab": {
      "name": "python_manual.ipynb",
      "provenance": [],
      "collapsed_sections": [],
      "toc_visible": true
    },
    "kernelspec": {
      "name": "python3",
      "display_name": "Python 3"
    }
  },
  "cells": [
    {
      "cell_type": "markdown",
      "metadata": {
        "id": "GCuzf_GNHFPm",
        "colab_type": "text"
      },
      "source": [
        "# Python 코딩 에러 \n",
        "\n",
        "- NameError: name ... is not defined : 함수 이름 잘못 입력했을 때\n",
        "- SyntaxError : invalid syntax : 구문에러 문법을 지키지 않은 경우\n",
        "- SyntaxError : EOL while scanning string literal : 따옴표를 잘못 사용했을 때\n",
        "- ValueError : not enough values to unpack (expected 3, got 2) : 값이 3개 필요한데 2개만 주어짐.\n",
        "\n",
        "# Python 문법\n",
        "\n",
        "### 연산자\n",
        "\n",
        "- C와는 달리 int 계산에서의 double 형변환이 필요하지 않는다. 나눗셈 계산시 // 를 이용하거나, 다른 연산자의 소숫점 나머지는 int(3.3) = 3 이런식으로 형변환으로 자리를 버린다.\n",
        "- **는 거듭제곱 2 * *10 = 1024\n",
        "- 몫과 나머지를 함께 구해야한다면 q, r = divmod(5,2) 를 활용하자.\n",
        "- 복소수는 complex(a,b) 를 사용 a + b i \n",
        "- null 은 None 으로 표현 x = None\n",
        "- del x 는 변수 삭제를 의미한다.\n",
        "\n",
        "\n",
        "### input 함수 (입력)\n",
        "\n",
        "- 입력은 x = input('말하는 문자열 : ') 으로 할당한다.\n",
        "ex ) c의 경우 printf('말하는 문자열 : ') + scanf();\n",
        "\n",
        "- input 함수 여러개 받기\n",
        "  - 변수1, 변수2 = input().split()\n",
        "  - 변수1, 변수2 = input().split('기준문자열') 로 가능하다.\n",
        "\n",
        "### map 함수 (입력)\n",
        "\n",
        "- 입력 + 형변환이 가능\n",
        "- 변수1, 변수2 = map(int, input().split())\n",
        "- 변수1, 변수2 = map(int, input().split('기준문자열')\n",
        "\n",
        "\n",
        "### print 함수\n",
        "- , 로 구분하며 자동으로 split마다 띄어쓰기가 되어 출력된다.\n",
        "- 공백이 아는 다른 문자를 넣고싶다면 print(변수1, 변수2, sep='문자열')\n",
        "  - \\n : 한줄띄기 , \\t : 탭 문자. 여러 칸을 띄움\n",
        "  - 슬래시 출려하기 \\\\ 두번\n",
        "- print(변수1, 변수2, end = ' ') 변수가 끝날때마다 end 에 있는 것을 붙힌다."
      ]
    },
    {
      "cell_type": "code",
      "metadata": {
        "id": "Kp_ZrEdiG3HQ",
        "colab_type": "code",
        "outputId": "26a97a02-b25c-42f7-8890-cbceeb1da3b5",
        "colab": {
          "base_uri": "https://localhost:8080/",
          "height": 34
        }
      },
      "source": [
        "# input 함수\n",
        "\n",
        "x = input('x :')"
      ],
      "execution_count": 0,
      "outputs": [
        {
          "output_type": "stream",
          "text": [
            "x :1\n"
          ],
          "name": "stdout"
        }
      ]
    },
    {
      "cell_type": "code",
      "metadata": {
        "id": "LPap736Pp_Kt",
        "colab_type": "code",
        "outputId": "d4acb0e0-1ec6-4eba-96e1-5751d2854eb4",
        "colab": {
          "base_uri": "https://localhost:8080/",
          "height": 34
        }
      },
      "source": [
        "# input 함수 split\n",
        "# 공백으로 구분\n",
        "x, y, z = input('세 개의 정수 입력 :').split( ) "
      ],
      "execution_count": 0,
      "outputs": [
        {
          "output_type": "stream",
          "text": [
            "세 개의 정수 입력 :1 2 3\n"
          ],
          "name": "stdout"
        }
      ]
    },
    {
      "cell_type": "code",
      "metadata": {
        "id": "q7miDL5wqJf8",
        "colab_type": "code",
        "outputId": "d34c3c93-09cc-4ed6-b487-645e09418b4b",
        "colab": {
          "base_uri": "https://localhost:8080/",
          "height": 34
        }
      },
      "source": [
        "print(x,y,z)"
      ],
      "execution_count": 0,
      "outputs": [
        {
          "output_type": "stream",
          "text": [
            "1 2 3\n"
          ],
          "name": "stdout"
        }
      ]
    },
    {
      "cell_type": "code",
      "metadata": {
        "id": "jxSZYG4Qqhzr",
        "colab_type": "code",
        "outputId": "8a5be107-67fe-4168-deeb-d8ba2cc62192",
        "colab": {
          "base_uri": "https://localhost:8080/",
          "height": 52
        }
      },
      "source": [
        "# map 함수\n",
        "x, y = map(int, input('숫자 두개 : ').split( ))\n",
        "print(x+y)"
      ],
      "execution_count": 0,
      "outputs": [
        {
          "output_type": "stream",
          "text": [
            "숫자 두개 : 10 20\n",
            "30\n"
          ],
          "name": "stdout"
        }
      ]
    },
    {
      "cell_type": "markdown",
      "metadata": {
        "id": "kcJ8Ls02LzOY",
        "colab_type": "text"
      },
      "source": [
        "### 문자열 \n",
        "\n",
        "- 문자열은 \"\",'' 로 변수에 넣을 수 있다.\n",
        "- 여러줄로 되는 문자열은 ''' ''', \"\"\" \"\"\" 가능 \n",
        "- 문자열안에 \"\" 넣기위해서는 작은따옴표로 묶어준다."
      ]
    },
    {
      "cell_type": "code",
      "metadata": {
        "id": "Zlc3WbYyNG4z",
        "colab_type": "code",
        "outputId": "0927f89c-b6a2-4231-9902-956f5b10f4bb",
        "colab": {
          "base_uri": "https://localhost:8080/",
          "height": 70
        }
      },
      "source": [
        "s = ''''Python' is a \"programming language\" that lets you work quickly\n",
        "and\n",
        "integrate systems more effectively.'''\n",
        "\n",
        "print(s)"
      ],
      "execution_count": 0,
      "outputs": [
        {
          "output_type": "stream",
          "text": [
            "'Python' is a \"programming language\" that lets you work quickly\n",
            "and\n",
            "integrate systems more effectively.\n"
          ],
          "name": "stdout"
        }
      ]
    },
    {
      "cell_type": "markdown",
      "metadata": {
        "id": "-cZVX8JgNpA5",
        "colab_type": "text"
      },
      "source": [
        "### 리스트 ex) 배열\n",
        "\n",
        "- 변수 몇 십개의 값을 한번에 저장하려는 방법\n",
        "- 다양한 자료형을 한 곳에 저장가능\n"
      ]
    },
    {
      "cell_type": "code",
      "metadata": {
        "id": "fuC003uDNpbg",
        "colab_type": "code",
        "outputId": "bbef259a-3f58-49f7-d338-9dcb59df89ec",
        "colab": {
          "base_uri": "https://localhost:8080/",
          "height": 34
        }
      },
      "source": [
        "l_ist = [1,2,3,4,5]\n",
        "l_ist\n",
        "\n",
        "# 섞어서 저장도 가능하다\n",
        "\n",
        "person = ['james',17, 175.3, True]\n",
        "person\n",
        "\n",
        "# 빈 리스트\n",
        "\n",
        "null_list = list()\n",
        "null_list = []"
      ],
      "execution_count": 0,
      "outputs": [
        {
          "output_type": "execute_result",
          "data": {
            "text/plain": [
              "['james', 17, 175.3, True]"
            ]
          },
          "metadata": {
            "tags": []
          },
          "execution_count": 4
        }
      ]
    },
    {
      "cell_type": "code",
      "metadata": {
        "id": "_E64p5CGOdjK",
        "colab_type": "code",
        "outputId": "e6a9be05-7c98-4f12-b05b-1c65638f01c1",
        "colab": {
          "base_uri": "https://localhost:8080/",
          "height": 34
        }
      },
      "source": [
        "# 응용 \n",
        "# range (10) : 0~ 9 까지의 숫자를 연속적으로 생성\n",
        "# range (5,12) : 5 ~ 11 ..\n",
        "digits_list = list(range(10))\n",
        "\n",
        "digits_list = list(range(5,12))\n",
        "digits_list\n",
        "\n",
        "# range (-4, 10, 2) : (시작점, 종점, 증가폭) -4, -2, 0 ...\n",
        "\n",
        "digits_list = list(range(-4,10,2))\n",
        "\n",
        "digits_list[2]"
      ],
      "execution_count": 0,
      "outputs": [
        {
          "output_type": "execute_result",
          "data": {
            "text/plain": [
              "0"
            ]
          },
          "metadata": {
            "tags": []
          },
          "execution_count": 9
        }
      ]
    },
    {
      "cell_type": "markdown",
      "metadata": {
        "id": "6tvVYSowSn7T",
        "colab_type": "text"
      },
      "source": [
        "### 튜플 (사용은 잘 안함)\n",
        "\n",
        "- 리스트인데 추가나 삭제 변경이 불가함.\n",
        "- 한개인 튜플을 생성하려면 (2,) 이런 식으로 생성해야함.\n",
        "- 위와 동일하게 range를 통하여 동일하게 생성이 가능하다.\n",
        "- 리스트와 튜플은 서로 바꾸기가 가능하다."
      ]
    },
    {
      "cell_type": "code",
      "metadata": {
        "id": "IG2bz8uwlGFW",
        "colab_type": "code",
        "outputId": "129e6ddb-9b70-4cfc-b4bc-606d2f9c2193",
        "colab": {
          "base_uri": "https://localhost:8080/",
          "height": 52
        }
      },
      "source": [
        "a = (1,2,3,4,5)\n",
        "print(a)\n",
        "b = 10,9,8,7\n",
        "print(b)"
      ],
      "execution_count": 0,
      "outputs": [
        {
          "output_type": "stream",
          "text": [
            "(1, 2, 3, 4, 5)\n",
            "(10, 9, 8, 7)\n"
          ],
          "name": "stdout"
        }
      ]
    },
    {
      "cell_type": "markdown",
      "metadata": {
        "id": "hN-BiQbXSn37",
        "colab_type": "text"
      },
      "source": [
        "# 리스트 활용\n",
        "\n",
        "- 여러 개 변수로 담기가 가능 (언패킹)\n",
        "- input.split의 반환은 리스트값으로 언패킹이 가능"
      ]
    },
    {
      "cell_type": "code",
      "metadata": {
        "id": "52TW_AKHpGrI",
        "colab_type": "code",
        "outputId": "c9514a12-fc7b-4bbf-9daf-217880639897",
        "colab": {
          "base_uri": "https://localhost:8080/",
          "height": 34
        }
      },
      "source": [
        "x = [1,2,3]\n",
        "a,b,c = x\n",
        "print(a,b,c)"
      ],
      "execution_count": 0,
      "outputs": [
        {
          "output_type": "stream",
          "text": [
            "1 2 3\n"
          ],
          "name": "stdout"
        }
      ]
    },
    {
      "cell_type": "code",
      "metadata": {
        "id": "OkuPCp6YpxAn",
        "colab_type": "code",
        "outputId": "de081983-1af4-454a-c308-bd2eb27e771f",
        "colab": {
          "base_uri": "https://localhost:8080/",
          "height": 52
        }
      },
      "source": [
        "x = input().split()\n",
        "a, b = x\n",
        "print(a,b)"
      ],
      "execution_count": 0,
      "outputs": [
        {
          "output_type": "stream",
          "text": [
            "10 20\n",
            "10 20\n"
          ],
          "name": "stdout"
        }
      ]
    },
    {
      "cell_type": "code",
      "metadata": {
        "id": "gK7_Nm9ppw6-",
        "colab_type": "code",
        "outputId": "ccedcac3-a781-46aa-88a1-1bfa3841b661",
        "colab": {
          "base_uri": "https://localhost:8080/",
          "height": 52
        }
      },
      "source": [
        "x = int(input())\n",
        "y = list(range(-10,10,x))\n",
        "print(y)"
      ],
      "execution_count": 0,
      "outputs": [
        {
          "output_type": "stream",
          "text": [
            "3\n",
            "[-10, -7, -4, -1, 2, 5, 8]\n"
          ],
          "name": "stdout"
        }
      ]
    },
    {
      "cell_type": "markdown",
      "metadata": {
        "id": "QL7DKhFggFeB",
        "colab_type": "text"
      },
      "source": [
        "### 시퀸스 객체\n",
        "- 리스트, 튜플, range, str, bytes bytearrray 를 연속적인 데이터가 있어 시퀸스 객체라 한다.\n",
        "- 리스트 + 리스트, 튜플 + 튜플 , str+str 은 묶을 수 있다. range불가\n",
        "- 또한 43 in (38,76 43,62,19) 의 코드로 튜플에 43이 있는지 불값으로 확인이 가능하다,\n",
        "- range를 제외한 리스트, 튜플 객체는 * 정수 를 통해 반복이 가능하다. 문자열도 가능.\n",
        "- len(객체) 통하여 안의 개수를 알 수 있다. \n",
        "- a[0],a.__getitem__(0) 같은 표현으로 인덱스 접근이 가능하다.\n",
        "- 인덱스에 음수는 거꾸로의 인덱스를 가리킨다.\n",
        "- 리스트만 del 을 통하여 인덱스의 데이터 삭제도 가능하다."
      ]
    },
    {
      "cell_type": "code",
      "metadata": {
        "id": "MF14gU_Clzc5",
        "colab_type": "code",
        "colab": {}
      },
      "source": [
        ""
      ],
      "execution_count": 0,
      "outputs": []
    },
    {
      "cell_type": "markdown",
      "metadata": {
        "id": "blEE7_Yelz5x",
        "colab_type": "text"
      },
      "source": [
        "### 슬라이스 사용하기\n",
        "- 시퀸스객체 a[시작인덱스 : 끝인덱스]\n",
        "- 증폭값 시퀸스객체 a[시작인덱스 : 끝인덱스 : 증폭값]\n",
        "- 처음부터 끝인덱스 까지 a[ : 끝인덱스 ]\n",
        "- 처음 인덱스부터 끝까지 a[처음 인덱스 : ]\n",
        "- 리스트 전체 a[:] a[::]\n",
        "- 끝값부터 가져오기 a[::-1] 증폭값을 음수로\n",
        "\n",
        "- slice(첫인덱스,끝인덱스,증폭값) 으로도 사용이 가능하다.\n",
        "\n",
        "- Error\n",
        "   - ValueError: attempt to assign sequence of size 2 to exteded slice of size  크기가 다른 슬라이스에 할당을 시도한 ㅇ러  "
      ]
    },
    {
      "cell_type": "code",
      "metadata": {
        "id": "Ly9o0LdVmLWN",
        "colab_type": "code",
        "outputId": "2b3b1237-5056-4d63-9595-a48ce33f1ffb",
        "colab": {
          "base_uri": "https://localhost:8080/",
          "height": 34
        }
      },
      "source": [
        "a = list(range(0,10))\n",
        "b = a[0:4]\n",
        "b"
      ],
      "execution_count": 0,
      "outputs": [
        {
          "output_type": "execute_result",
          "data": {
            "text/plain": [
              "[0, 1, 2, 3]"
            ]
          },
          "metadata": {
            "tags": []
          },
          "execution_count": 3
        }
      ]
    },
    {
      "cell_type": "code",
      "metadata": {
        "id": "7WB6rUmUmtB8",
        "colab_type": "code",
        "outputId": "d44e14f0-3f09-4a23-ba12-c00ca890a287",
        "colab": {
          "base_uri": "https://localhost:8080/",
          "height": 141
        }
      },
      "source": [
        "## 뒤에서 가져오기\n",
        "c = a[4:-1]\n",
        "print(c)\n",
        "## 인덱스 증폭 시켜 가져오기\n",
        "d = a[2:-1:2]\n",
        "print(d)\n",
        "## 거꾸로 출력시 첫, 끝이 바뀜에 주의\n",
        "e = a[-2:1:-2]\n",
        "print(e)\n",
        "print(a[:])\n",
        "print(a[::-1])\n",
        "\n",
        "## a값 바꾸기\n",
        "a[2:5] = ['a','b','c']\n",
        "print(a)\n",
        "## 증폭값 이용해서 바꾸기\n",
        "a[2:8:2] = ['a','b','c']\n",
        "print(a)"
      ],
      "execution_count": 0,
      "outputs": [
        {
          "output_type": "stream",
          "text": [
            "['c', 5, 6, 7, 8]\n",
            "['a', 'c', 6, 8]\n",
            "[8, 6, 'c', 'a']\n",
            "[0, 1, 'a', 'b', 'c', 5, 6, 7, 8, 9]\n",
            "[9, 8, 7, 6, 5, 'c', 'b', 'a', 1, 0]\n",
            "[0, 1, 'a', 'b', 'c', 5, 6, 7, 8, 9]\n",
            "[0, 1, 'a', 'b', 'b', 5, 'c', 7, 8, 9]\n"
          ],
          "name": "stdout"
        }
      ]
    },
    {
      "cell_type": "markdown",
      "metadata": {
        "id": "3LYfKCHM8oII",
        "colab_type": "text"
      },
      "source": [
        "### 딕셔너리 \n",
        "\n",
        "- 리스트의 정보에 각각의 키 값을 저장\n",
        "- 키 값이 중복 되면 항상 뒤의 것을 적용\n",
        "- 키는 리스트, 튜플, 딕셔너리는 사용이 불가하다.\n",
        "- dict(), {} 를 사용\n",
        "- 해당 키가 있는지 확인 'num' in a\n",
        "- 키 개수 파악 len(a) "
      ]
    },
    {
      "cell_type": "code",
      "metadata": {
        "id": "dhQInH3p9JOq",
        "colab_type": "code",
        "colab": {}
      },
      "source": [
        "# dict 사용법\n",
        "\n",
        "a = dict(num= 1, card=[1,2,3,4])\n",
        "b = dict(zip(['num','card'],[1,[1,2,3,4]]))\n",
        "c = dict([('num',1),('card',[1,2,3,4])])\n",
        "d = dict({'num': 1, 'card':[1,2,3,4]})"
      ],
      "execution_count": 0,
      "outputs": []
    },
    {
      "cell_type": "code",
      "metadata": {
        "id": "x1ryntVMDD5m",
        "colab_type": "code",
        "outputId": "bcb67ab7-0894-446d-81e7-3dadd09aef68",
        "colab": {
          "base_uri": "https://localhost:8080/",
          "height": 70
        }
      },
      "source": [
        "#딕셔너리 키에 접근\n",
        "print(a['num'])\n",
        "#할당\n",
        "a['num'] = 456\n",
        "print(a['num'])\n",
        "#딕셔너리 전체 \n",
        "a\n",
        "# 없는 키를 가져오면 에러가 발생"
      ],
      "execution_count": 0,
      "outputs": [
        {
          "output_type": "stream",
          "text": [
            "456\n",
            "456\n"
          ],
          "name": "stdout"
        },
        {
          "output_type": "execute_result",
          "data": {
            "text/plain": [
              "{'card': [1, 2, 3, 4], 'num': 456}"
            ]
          },
          "metadata": {
            "tags": []
          },
          "execution_count": 24
        }
      ]
    },
    {
      "cell_type": "code",
      "metadata": {
        "id": "7NIj3bOtETOJ",
        "colab_type": "code",
        "outputId": "ad3950e0-4b7e-4f67-d042-7649650277c5",
        "colab": {
          "base_uri": "https://localhost:8080/",
          "height": 223
        }
      },
      "source": [
        "#딕셔너리 합성 연습\n",
        "name = input().split()\n",
        "score = int(input())\n"
      ],
      "execution_count": 0,
      "outputs": [
        {
          "output_type": "stream",
          "text": [
            "d\n",
            "1 2 3\n"
          ],
          "name": "stdout"
        },
        {
          "output_type": "error",
          "ename": "ValueError",
          "evalue": "ignored",
          "traceback": [
            "\u001b[0;31m---------------------------------------------------------------------------\u001b[0m",
            "\u001b[0;31mValueError\u001b[0m                                Traceback (most recent call last)",
            "\u001b[0;32m<ipython-input-29-f574cb279c10>\u001b[0m in \u001b[0;36m<module>\u001b[0;34m()\u001b[0m\n\u001b[1;32m      1\u001b[0m \u001b[0mname\u001b[0m \u001b[0;34m=\u001b[0m \u001b[0minput\u001b[0m\u001b[0;34m(\u001b[0m\u001b[0;34m)\u001b[0m\u001b[0;34m.\u001b[0m\u001b[0msplit\u001b[0m\u001b[0;34m(\u001b[0m\u001b[0;34m)\u001b[0m\u001b[0;34m\u001b[0m\u001b[0;34m\u001b[0m\u001b[0m\n\u001b[0;32m----> 2\u001b[0;31m \u001b[0mscore\u001b[0m \u001b[0;34m=\u001b[0m \u001b[0mint\u001b[0m\u001b[0;34m(\u001b[0m\u001b[0minput\u001b[0m\u001b[0;34m(\u001b[0m\u001b[0;34m)\u001b[0m\u001b[0;34m)\u001b[0m\u001b[0;34m\u001b[0m\u001b[0;34m\u001b[0m\u001b[0m\n\u001b[0m",
            "\u001b[0;31mValueError\u001b[0m: invalid literal for int() with base 10: '1 2 3'"
          ]
        }
      ]
    },
    {
      "cell_type": "markdown",
      "metadata": {
        "id": "Agj8xWWjYWpb",
        "colab_type": "text"
      },
      "source": [
        "- python 3.5 이하 버전에서 위에서 키값을 변경하면 딕셔너리 순서가 바뀜 이를 보장하려면 Dict 대신 OrderedDict 사용"
      ]
    },
    {
      "cell_type": "code",
      "metadata": {
        "id": "L9Dv2JI9YW2Y",
        "colab_type": "code",
        "colab": {}
      },
      "source": [
        "from collections import OrderedDict\n",
        "\n",
        "a = OrderedDict(num = 1, card = [1,2,3,4])"
      ],
      "execution_count": 0,
      "outputs": []
    },
    {
      "cell_type": "markdown",
      "metadata": {
        "id": "xgLk_3wKZQPA",
        "colab_type": "text"
      },
      "source": [
        "### if, elif, else\n",
        "\n",
        "```python\n",
        "if 조건식 :\n",
        "  | 탭으로 띄어야함.\n",
        "  #띄우지 않을 경우 Indentation Error 발생 >> 들여쓰기 오류\n",
        "elif 조건식 :\n",
        "  pass # if문을 바로 통과하는 문법 인터프리터식 언어 때문에 오류를 피하려는 것, IDE 환경에서는 의미없음.\n",
        "else:\n",
        "  break\n",
        "```\n"
      ]
    },
    {
      "cell_type": "markdown",
      "metadata": {
        "id": "WkyvCRFtawCH",
        "colab_type": "text"
      },
      "source": [
        "### for, while\n",
        "\n",
        "```python\n",
        "for i in range(3):\n",
        "  # 0 ~ 2 반복\n",
        "\n",
        "for i in range(5,12):\n",
        "  # 5 ~ 11 반복\n",
        "\n",
        "for i in range(5,12,2):\n",
        "  # 5 ~ 11 증가폭 2\n",
        "  # 5,7,9,11\n",
        "\n",
        "#역순으로 출력할 때\n",
        "for i in range(9,-1,-1):\n",
        "  # 9 ~ 0  역순\n",
        "\n",
        "for i in reversed(range(10)):\n",
        "  # 9 ~ 0 역순\n",
        "\n",
        "#시퀸스 또한 가능\n",
        "\n",
        "a = [10,20,30,40]\n",
        "\n",
        "for i in a:\n",
        "  # i = 10 , 20 , 30 , 40\n",
        "\n",
        "a = ['hello', 'apple']\n",
        "\n",
        "for i in a:\n",
        "  # i = hello, apple\n",
        "\n",
        "##\n",
        "for i in 'hello':\n",
        "  print()\n",
        "```\n",
        "\n",
        "```python\n",
        "while 조건식 :\n",
        "\n",
        "```"
      ]
    },
    {
      "cell_type": "markdown",
      "metadata": {
        "id": "585W8NL_cLtB",
        "colab_type": "text"
      },
      "source": [
        "### 난수 모듈 random 모듈\n",
        "\n",
        "```python\n",
        "import random\n",
        "# random.random() : 일반 난수 생성\n",
        "# random.randint(1,6)  : 1 ~ 6 사이의 난수\n",
        "# random.choice(시퀀스객체) : 시퀀스 객체 에서의 난수\n",
        "```"
      ]
    },
    {
      "cell_type": "markdown",
      "metadata": {
        "id": "nzHCX8Bc8poS",
        "colab_type": "text"
      },
      "source": [
        "### 별찍기"
      ]
    },
    {
      "cell_type": "code",
      "metadata": {
        "id": "1VHllFGBZJGQ",
        "colab_type": "code",
        "outputId": "673ede86-0e2f-4405-de4b-61439dbaf021",
        "colab": {
          "base_uri": "https://localhost:8080/",
          "height": 111
        }
      },
      "source": [
        "for i in range(5):\n",
        "  for j in range(5):\n",
        "    if j <= i:\n",
        "      print('*',end='')\n",
        "  print()"
      ],
      "execution_count": 0,
      "outputs": [
        {
          "output_type": "stream",
          "text": [
            "*\n",
            "**\n",
            "***\n",
            "****\n",
            "*****\n"
          ],
          "name": "stdout"
        }
      ]
    },
    {
      "cell_type": "markdown",
      "metadata": {
        "id": "ukc-MS6t-GZJ",
        "colab_type": "text"
      },
      "source": [
        "### FizzBuzz 문제"
      ]
    },
    {
      "cell_type": "code",
      "metadata": {
        "id": "0DzIKCrM-FtS",
        "colab_type": "code",
        "colab": {}
      },
      "source": [
        "a = []\n",
        "for i in range(1,101):\n",
        "  if i % 15 == 0:\n",
        "    a.append('FizzBuzz')\n",
        "  elif i % 3 == 0:\n",
        "    a.append('Fizz')\n",
        "  elif i % 5 == 0:\n",
        "    a.append('Buzz')\n",
        "  else:\n",
        "    a.append(i)"
      ],
      "execution_count": 0,
      "outputs": []
    },
    {
      "cell_type": "code",
      "metadata": {
        "id": "3iDDhTQ1_gpC",
        "colab_type": "code",
        "outputId": "f05b9609-7d92-45df-f490-ab98244880da",
        "colab": {
          "base_uri": "https://localhost:8080/",
          "height": 56
        }
      },
      "source": [
        "print(a)"
      ],
      "execution_count": 0,
      "outputs": [
        {
          "output_type": "stream",
          "text": [
            "[1, 2, 'Fizz', 4, 'Buzz', 'Fizz', 7, 8, 'Fizz', 'Buzz', 11, 'Fizz', 13, 14, 'FizzBuzz', 16, 17, 'Fizz', 19, 'Buzz', 'Fizz', 22, 23, 'Fizz', 'Buzz', 26, 'Fizz', 28, 29, 'FizzBuzz', 31, 32, 'Fizz', 34, 'Buzz', 'Fizz', 37, 38, 'Fizz', 'Buzz', 41, 'Fizz', 43, 44, 'FizzBuzz', 46, 47, 'Fizz', 49, 'Buzz', 'Fizz', 52, 53, 'Fizz', 'Buzz', 56, 'Fizz', 58, 59, 'FizzBuzz', 61, 62, 'Fizz', 64, 'Buzz', 'Fizz', 67, 68, 'Fizz', 'Buzz', 71, 'Fizz', 73, 74, 'FizzBuzz', 76, 77, 'Fizz', 79, 'Buzz', 'Fizz', 82, 83, 'Fizz', 'Buzz', 86, 'Fizz', 88, 89, 'FizzBuzz', 91, 92, 'Fizz', 94, 'Buzz', 'Fizz', 97, 98, 'Fizz', 'Buzz']\n"
          ],
          "name": "stdout"
        }
      ]
    },
    {
      "cell_type": "code",
      "metadata": {
        "id": "nDzFwi1z_wmL",
        "colab_type": "code",
        "colab": {}
      },
      "source": [
        "b = []\n",
        "for i in range(1, 101):\n",
        "  b.append('Fizz' * (i%3 == 0) + 'Buzz' * (i%5 == 0) or i)\n",
        "  # Fizz 부분 : 반환 bool\n",
        "  # Buzz 부분 : 반환 bool\n",
        "  # 아니면 i 로 반환"
      ],
      "execution_count": 0,
      "outputs": []
    },
    {
      "cell_type": "code",
      "metadata": {
        "id": "AHkbYXt_AHpa",
        "colab_type": "code",
        "outputId": "d516d8fb-20b4-414c-8022-785196165e80",
        "colab": {
          "base_uri": "https://localhost:8080/",
          "height": 56
        }
      },
      "source": [
        "print(b)"
      ],
      "execution_count": 0,
      "outputs": [
        {
          "output_type": "stream",
          "text": [
            "[1, 2, 'Fizz', 4, 'Buzz', 'Fizz', 7, 8, 'Fizz', 'Buzz', 11, 'Fizz', 13, 14, 'FizzBuzz', 16, 17, 'Fizz', 19, 'Buzz', 'Fizz', 22, 23, 'Fizz', 'Buzz', 26, 'Fizz', 28, 29, 'FizzBuzz', 31, 32, 'Fizz', 34, 'Buzz', 'Fizz', 37, 38, 'Fizz', 'Buzz', 41, 'Fizz', 43, 44, 'FizzBuzz', 46, 47, 'Fizz', 49, 'Buzz', 'Fizz', 52, 53, 'Fizz', 'Buzz', 56, 'Fizz', 58, 59, 'FizzBuzz', 61, 62, 'Fizz', 64, 'Buzz', 'Fizz', 67, 68, 'Fizz', 'Buzz', 71, 'Fizz', 73, 74, 'FizzBuzz', 76, 77, 'Fizz', 79, 'Buzz', 'Fizz', 82, 83, 'Fizz', 'Buzz', 86, 'Fizz', 88, 89, 'FizzBuzz', 91, 92, 'Fizz', 94, 'Buzz', 'Fizz', 97, 98, 'Fizz', 'Buzz']\n"
          ],
          "name": "stdout"
        }
      ]
    },
    {
      "cell_type": "markdown",
      "metadata": {
        "id": "yXTj2yPHAMxT",
        "colab_type": "text"
      },
      "source": [
        "### 리스트 수정\n",
        "\n",
        "- append : 추가\n",
        "- extend : 확장 (기존의 같은 시퀀스 객체를 이어붙이기)\n",
        "- insert : 특정 인덱스에 요소를 추가\n"
      ]
    },
    {
      "cell_type": "code",
      "metadata": {
        "id": "gbOvZGmhAdVJ",
        "colab_type": "code",
        "outputId": "763e6b80-b346-4afa-e84a-ec0b556829a7",
        "colab": {
          "base_uri": "https://localhost:8080/",
          "height": 36
        }
      },
      "source": [
        "a = [1,2,3]\n",
        "a.append(500)\n",
        "print(a)"
      ],
      "execution_count": 0,
      "outputs": [
        {
          "output_type": "stream",
          "text": [
            "[1, 2, 3, 500]\n"
          ],
          "name": "stdout"
        }
      ]
    },
    {
      "cell_type": "markdown",
      "metadata": {
        "id": "FjfSNJZdBxSh",
        "colab_type": "text"
      },
      "source": [
        "- insert를 여러 개 하고 싶다면 slice를 활용한다."
      ]
    },
    {
      "cell_type": "code",
      "metadata": {
        "id": "2iubCQvBAdSp",
        "colab_type": "code",
        "outputId": "f16fbc2c-6904-4749-bb6c-d143bdfe7334",
        "colab": {
          "base_uri": "https://localhost:8080/",
          "height": 36
        }
      },
      "source": [
        "a = [10,20,30제\n",
        "## 슬라이스 자리를 같게 지정하면 사이에 insert 시킬 수 있다.\n",
        "a[1:1] = [500, 600]\n",
        "print(a)"
      ],
      "execution_count": 0,
      "outputs": [
        {
          "output_type": "stream",
          "text": [
            "[10, 500, 600, 20, 30]\n"
          ],
          "name": "stdout"
        }
      ]
    },
    {
      "cell_type": "markdown",
      "metadata": {
        "id": "-07XYrHwCFIi",
        "colab_type": "text"
      },
      "source": [
        "#### 리스트 요소 삭제\n",
        "\n",
        "- pop : 마지막 요소 도는 특정 인덱스 요소를 삭제\n",
        "- remove : 특정값을 찾아 삭제\n",
        "- del a(인덱스) = a.pop(인덱스)\n",
        "- a.remove(값) : 특이사항으로 같은 값은 가까운 인덱스에서부터 삭제\n",
        "\n",
        "#### 리스트는 stack으로 사용이 무방, 큐는 deque 라는 함수가 있다.\n",
        "\n",
        "- count(값) : 해당리스트에 값에 해당하는 것이 몇 개 있는지\n",
        "- index(값) : 해당리스트에 값에 해당하는 인덱스가 몇 개 있는지\n",
        "- reverse(객체) :  해당리스트의 값을 뒤집기\n",
        "- sort(객체) :  해당리스트의 값을 오름차순으로 정렬\n",
        "- sort(객체,reverse = True) : 내림차순으로 정렬\n",
        "- 또 다른 객체 = sorted(객체) :  원래 리스트(정렬안됨)를 정렬하여 또 다른 객체에 대입. \n",
        "\n",
        "#### 리스트 복사\n",
        "- 리스트 복사는 copy()를 이용하여 복사해야함."
      ]
    },
    {
      "cell_type": "markdown",
      "metadata": {
        "id": "_uC3g9wFDy3r",
        "colab_type": "text"
      },
      "source": [
        "#### 리스트 + for문 활용"
      ]
    },
    {
      "cell_type": "code",
      "metadata": {
        "id": "mItN4PK5EZg6",
        "colab_type": "code",
        "outputId": "ae1ede2f-bf05-4133-e101-d5cd923f720a",
        "colab": {
          "base_uri": "https://localhost:8080/",
          "height": 92
        }
      },
      "source": [
        "# 기존의 객체 for문\n",
        "a = [10,20,30,40]\n",
        "for i in a:\n",
        "  print(i)"
      ],
      "execution_count": 0,
      "outputs": [
        {
          "output_type": "stream",
          "text": [
            "10\n",
            "20\n",
            "30\n",
            "40\n"
          ],
          "name": "stdout"
        }
      ]
    },
    {
      "cell_type": "code",
      "metadata": {
        "id": "OaKru2zZEflh",
        "colab_type": "code",
        "outputId": "7524de4a-916f-4fe4-af4c-64fe4d03a002",
        "colab": {
          "base_uri": "https://localhost:8080/",
          "height": 92
        }
      },
      "source": [
        "# 객체 for문에 인덱스를 추가\n",
        "for index, i in enumerate(a,start = 1):\n",
        "## 혹은 for index, i in enumerate(a,1):\n",
        "  print(index, i)"
      ],
      "execution_count": 0,
      "outputs": [
        {
          "output_type": "stream",
          "text": [
            "1 10\n",
            "2 20\n",
            "3 30\n",
            "4 40\n"
          ],
          "name": "stdout"
        }
      ]
    },
    {
      "cell_type": "markdown",
      "metadata": {
        "id": "YFCNvy3HE51B",
        "colab_type": "text"
      },
      "source": [
        "### 리스트 최대, 최소, 합\n",
        "- sum(객체) : 합\n",
        "- min(객체) : 객체 요소 중에 최소\n",
        "- max(객체) : 객체 요소 중에 최대"
      ]
    },
    {
      "cell_type": "markdown",
      "metadata": {
        "id": "2qcLipRBXC5M",
        "colab_type": "text"
      },
      "source": [
        "### 2차원 리스트 \n",
        "- 톱니형 리스트라 하여 이런 식도 가능하다. \n",
        "[[19, 20],  \n",
        "[500, 600, 700],  \n",
        "[9],  \n",
        "[500,800,1000]]  \n",
        "- 인덱스 append로 삽입이 가능."
      ]
    },
    {
      "cell_type": "code",
      "metadata": {
        "id": "SwevPt4SW1yu",
        "colab_type": "code",
        "outputId": "d9d9cba0-8580-4ad1-e739-6ba829514a8d",
        "colab": {
          "base_uri": "https://localhost:8080/",
          "height": 36
        }
      },
      "source": [
        "a = [[10, 20],\n",
        "     [30, 40],\n",
        "     [50, 60]]\n",
        "a"
      ],
      "execution_count": 0,
      "outputs": [
        {
          "output_type": "execute_result",
          "data": {
            "text/plain": [
              "[[10, 20], [30, 40], [50, 60]]"
            ]
          },
          "metadata": {
            "tags": []
          },
          "execution_count": 2
        }
      ]
    },
    {
      "cell_type": "markdown",
      "metadata": {
        "id": "GDNP6LlKYuIn",
        "colab_type": "text"
      },
      "source": [
        "### 2차원 리스트 + 반복문"
      ]
    },
    {
      "cell_type": "code",
      "metadata": {
        "id": "JOUmEcLOXyBP",
        "colab_type": "code",
        "outputId": "c239d04b-506d-453f-f1b1-d64f3a2343b9",
        "colab": {
          "base_uri": "https://localhost:8080/",
          "height": 187
        }
      },
      "source": [
        "a = [[10,20],[30, 40],[50, 60]]\n",
        "for x, y in a:\n",
        "  print(x,y)\n",
        "\n",
        "for i in range(len(a)):\n",
        "  for j in range(len(a[i])):\n",
        "    print(a[i][j], end=' ')\n",
        "    print()"
      ],
      "execution_count": 0,
      "outputs": [
        {
          "output_type": "stream",
          "text": [
            "10 20\n",
            "30 40\n",
            "50 60\n",
            "10 \n",
            "20 \n",
            "30 \n",
            "40 \n",
            "50 \n",
            "60 \n"
          ],
          "name": "stdout"
        }
      ]
    },
    {
      "cell_type": "code",
      "metadata": {
        "id": "3Qx6f3yBZg53",
        "colab_type": "code",
        "outputId": "67e16337-7b6d-42b2-e45a-0f61ba2c56e4",
        "colab": {
          "base_uri": "https://localhost:8080/",
          "height": 36
        }
      },
      "source": [
        "a = [[0 for j in range(2)] for i in range(3)]\n",
        "a"
      ],
      "execution_count": 0,
      "outputs": [
        {
          "output_type": "execute_result",
          "data": {
            "text/plain": [
              "[[0, 0], [0, 0], [0, 0]]"
            ]
          },
          "metadata": {
            "tags": []
          },
          "execution_count": 14
        }
      ]
    },
    {
      "cell_type": "markdown",
      "metadata": {
        "id": "9aS1XBR_ddw1",
        "colab_type": "text"
      },
      "source": [
        "- 2차원 리스트 정리할 때는 sorted 함수를 사용한다.\n"
      ]
    },
    {
      "cell_type": "code",
      "metadata": {
        "id": "_8y29JRyc6Y-",
        "colab_type": "code",
        "outputId": "344fb4e9-e25f-47a0-b1b2-4a726a2e09cc",
        "colab": {
          "base_uri": "https://localhost:8080/",
          "height": 55
        }
      },
      "source": [
        "students = [\n",
        "            ['John','c',19],\n",
        "            ['maria','a',25],\n",
        "            ['andrew','b',7]\n",
        "]\n",
        "\n",
        "print(sorted(students, key=lambda student: student[1]))\n",
        "print(sorted(students, key=lambda student: student[2]))\n",
        "\n",
        "# lambda 개념은 이후에 [1] a b c  순 정렬\n",
        "# [2] 숫자순 오름차순 정렬로 알아두자"
      ],
      "execution_count": 0,
      "outputs": [
        {
          "output_type": "stream",
          "text": [
            "[['maria', 'a', 25], ['andrew', 'b', 7], ['John', 'c', 19]]\n",
            "[['andrew', 'b', 7], ['John', 'c', 19], ['maria', 'a', 25]]\n"
          ],
          "name": "stdout"
        }
      ]
    },
    {
      "cell_type": "markdown",
      "metadata": {
        "id": "EGUn_aFbgNvb",
        "colab_type": "text"
      },
      "source": [
        "### 2차원 리스트 복사"
      ]
    },
    {
      "cell_type": "code",
      "metadata": {
        "id": "Sng-DCCnfPT8",
        "colab_type": "code",
        "outputId": "a2e0ed40-dbc1-46c2-ca37-3996f9b74600",
        "colab": {
          "base_uri": "https://localhost:8080/",
          "height": 36
        }
      },
      "source": [
        "import copy\n",
        "a=[[10,20],[30,40]]\n",
        "\n",
        "b = copy.deepcopy(a)\n",
        "b[0][0] = 500\n",
        "b"
      ],
      "execution_count": 0,
      "outputs": [
        {
          "output_type": "execute_result",
          "data": {
            "text/plain": [
              "[[500, 20], [30, 40]]"
            ]
          },
          "metadata": {
            "tags": []
          },
          "execution_count": 17
        }
      ]
    },
    {
      "cell_type": "markdown",
      "metadata": {
        "id": "q6bgD4bnl72E",
        "colab_type": "text"
      },
      "source": [
        "### 3차원 리스트\n",
        "- 리스트[높이인덱스][세로인덱스][가로인덱스]로 접근한다."
      ]
    },
    {
      "cell_type": "code",
      "metadata": {
        "id": "dt6YWfMTlX1O",
        "colab_type": "code",
        "outputId": "e6e62637-4005-463a-d3c5-01b92172b7b4",
        "colab": {
          "base_uri": "https://localhost:8080/",
          "height": 168
        }
      },
      "source": [
        "c = [[[0 for col in range(3)]for row in range(4)]for depth in range(2)]\n",
        "\n",
        "\n",
        "## 다차원배열 알아보기 쉽게 출력\n",
        "from pprint import pprint\n",
        "pprint(c, indent = 4, width = 20)"
      ],
      "execution_count": 0,
      "outputs": [
        {
          "output_type": "stream",
          "text": [
            "[   [   [0, 0, 0],\n",
            "        [0, 0, 0],\n",
            "        [0, 0, 0],\n",
            "        [0, 0, 0]],\n",
            "    [   [0, 0, 0],\n",
            "        [0, 0, 0],\n",
            "        [0, 0, 0],\n",
            "        [0, 0, 0]]]\n"
          ],
          "name": "stdout"
        }
      ]
    },
    {
      "cell_type": "markdown",
      "metadata": {
        "id": "KMBylW5ioama",
        "colab_type": "text"
      },
      "source": [
        "심사문제 : 지뢰찾기\n",
        "\n",
        "- 표준 입력으로 2차원 리스트의 가로(col)와 세로(row)가 입력되고 그다음 줄부터 리스트의 요소로 들어갈 문자가 입력됩니다. 이때 2차원 리스트 안에서 *는 지뢰이고,  . 은 지뢰가 아닙니다. 지뢰가 아닌 요소에는 인접한 지뢰의 개수를 출력하는 프로그램을 만드세요.\n",
        "  \n",
        " 여러 줄을 입력받으려면 다음과 같이 for문에서 input을 호출한 뒤 apeend로 각 줄을 추가하면 됩니다.\n",
        " (list 안에 문자열을 넣으면 문자열이 문자 리스트로 변환됩니다.)\n",
        "\n",
        " ```python\n",
        " matrix = []\n",
        " for i in range(row):\n",
        "   matrix.append(list(input()))\n",
        " ```"
      ]
    },
    {
      "cell_type": "code",
      "metadata": {
        "id": "TBuAx7Jpo1fL",
        "colab_type": "code",
        "outputId": "dd56f5db-0bee-4e48-c7fc-35ccdf6596b8",
        "colab": {
          "base_uri": "https://localhost:8080/",
          "height": 149
        }
      },
      "source": [
        "col, row = map(int,input().split())\n",
        "\n",
        "matrix = [[0 for i in range(col)]for j in range(row)]\n",
        "\n",
        "for j in range(row):\n",
        "  matrix .append(list(input()))\n",
        "\n",
        "for i in range(row):\n",
        "  for j in range(col):\n",
        "    if matrix[i][j] == '.':\n",
        "      \n",
        "      if i == 0:\n",
        "      elif i == row-1:"
      ],
      "execution_count": 0,
      "outputs": [
        {
          "output_type": "stream",
          "text": [
            "3 3\n",
            "[   [0, 0, 0],\n",
            "    [0, 0, 0],\n",
            "    [0, 0, 0]]\n",
            ".**\n",
            "*..\n",
            ".*.\n"
          ],
          "name": "stdout"
        }
      ]
    },
    {
      "cell_type": "markdown",
      "metadata": {
        "id": "j8ejtX1n5wNG",
        "colab_type": "text"
      },
      "source": [
        "### 문자열\n",
        "\n",
        "- replace(org, new) : org의 단어를 new 새 단어로 변경 (문자열 변경)\n",
        "- str.maketrans('바꿀문자','새문자') \n",
        "- split()은 분리!\n",
        "- 문자열로 합치기\n"
      ]
    },
    {
      "cell_type": "code",
      "metadata": {
        "id": "L74kfmi45mHe",
        "colab_type": "code",
        "outputId": "2be269ab-bb79-48c3-ef5f-418f8aff9f17",
        "colab": {
          "base_uri": "https://localhost:8080/",
          "height": 34
        }
      },
      "source": [
        "'Hello, world!'.replace('world','Python')"
      ],
      "execution_count": 0,
      "outputs": [
        {
          "output_type": "execute_result",
          "data": {
            "text/plain": [
              "'Hello, Python!'"
            ]
          },
          "metadata": {
            "tags": []
          },
          "execution_count": 1
        }
      ]
    },
    {
      "cell_type": "code",
      "metadata": {
        "id": "gvZzEz8t6ogX",
        "colab_type": "code",
        "outputId": "80ac6e10-1f28-41db-ad74-68693357cea6",
        "colab": {
          "base_uri": "https://localhost:8080/",
          "height": 34
        }
      },
      "source": [
        "# 해당하는 문자를 1 2 3 4 5 해당하는 문자로 바꿈.\n",
        "table = str.maketrans('aeiou','12345')\n",
        "'apple'.translate(table)"
      ],
      "execution_count": 0,
      "outputs": [
        {
          "output_type": "execute_result",
          "data": {
            "text/plain": [
              "'1ppl2'"
            ]
          },
          "metadata": {
            "tags": []
          },
          "execution_count": 2
        }
      ]
    },
    {
      "cell_type": "code",
      "metadata": {
        "id": "cKBvfTI87Z_N",
        "colab_type": "code",
        "outputId": "420657fe-ce93-4f86-f81c-6f79005dc7cd",
        "colab": {
          "base_uri": "https://localhost:8080/",
          "height": 34
        }
      },
      "source": [
        "#문자열분리\n",
        "'apple pear grape pineapple orange'.split()\n",
        "'apple, pear, grape, pineapple, orange'.split(',')"
      ],
      "execution_count": 0,
      "outputs": [
        {
          "output_type": "execute_result",
          "data": {
            "text/plain": [
              "['apple', ' pear', ' grape', ' pineapple', ' orange']"
            ]
          },
          "metadata": {
            "tags": []
          },
          "execution_count": 3
        }
      ]
    },
    {
      "cell_type": "code",
      "metadata": {
        "id": "we6Mg5ab8ap6",
        "colab_type": "code",
        "outputId": "b27658e8-e4d1-4fc6-effe-b2e66e13e471",
        "colab": {
          "base_uri": "https://localhost:8080/",
          "height": 34
        }
      },
      "source": [
        "# 문자열 생성\n",
        "# 구분자.join(단어리스트)\n",
        "' '.join(['apple','pear','grape','pineapple','orange'])\n",
        "'-'.join(['apple','pear','grape','pineapple','orange'])"
      ],
      "execution_count": 0,
      "outputs": [
        {
          "output_type": "execute_result",
          "data": {
            "text/plain": [
              "'apple-pear-grape-pineapple-orange'"
            ]
          },
          "metadata": {
            "tags": []
          },
          "execution_count": 4
        }
      ]
    },
    {
      "cell_type": "markdown",
      "metadata": {
        "id": "gB4iQyvW80uL",
        "colab_type": "text"
      },
      "source": [
        "### 대소문자 변경\n",
        "- upper(), lower()\n",
        "\n",
        "### 공백 삭제\n",
        "- 좌측 공백 삭제 : \"문자열\".lstrip()\n",
        "- 우측 공백 삭제 : \"문자열\".rstrip()\n",
        "- 양쪽 공백 삭제 : \"문자열\".strip()\n",
        "\n",
        "### 특정 문자 삭제\n",
        "\n",
        "- 좌측 문자 삭제 : \"문자열\".lstrip(',')\n",
        "- 우측 문자 삭제 : \"문자열\".rstrip(',')\n",
        "- 양쪽 문자 삭제 : \"문자열\".strip(',')\n"
      ]
    },
    {
      "cell_type": "code",
      "metadata": {
        "id": "GJXFhgMT_Sn4",
        "colab_type": "code",
        "colab": {}
      },
      "source": [
        "\n",
        "# 대소문자 변경\n",
        "# 공백삭제\n",
        "# 특정문자삭제\n",
        "# 구두점을 간단하게 삭제하기\n",
        "import string\n",
        "', python.'.strip(string.punctuation)\n",
        "string.punctuation\n",
        "\n",
        "', python.'.strip(string.punctuation + ' ')\n",
        "\n",
        "# 메서드 체이닝 : 메서드를 줄줄이연결\n",
        "# strip이란 메서드를 줄줄이 연결함.\n",
        "', python.'.strip(string.punctuation).strip()"
      ],
      "execution_count": 0,
      "outputs": []
    },
    {
      "cell_type": "markdown",
      "metadata": {
        "id": "r_b11gRL_P6U",
        "colab_type": "text"
      },
      "source": [
        "### 문자열 정렬\n",
        "\n",
        "- 문자열.ljust(길이) : 길이대로 만든후 문자열은 왼쪽으로 정렬\n",
        "- 문자열.rjust(길이) : 길이대로 만든후 문자열은 오른쪽으로 정렬\n",
        "- 문자열.center(길이) : 길이대로 만든후 문자열은 가운데로 정렬\n",
        "\n",
        "### 문자열 왼쪽에 0 채우기\n",
        "- zfill(길이) : 주어진 문자열 길이에서부터 인자 길이까지에 0을 채운다.\n",
        "\n",
        "### 문자열 위치 찾기 \n",
        "\n",
        "- find('찾을문자열') , index('찾을문자열') : 왼쪽에서부터 차례대로 찾음\n",
        "- rfind('찾을문자열') : 오른쪽에서부터 찾음\n",
        "- count('특정문자열') : 특정문자열의 개수를 반환"
      ]
    },
    {
      "cell_type": "code",
      "metadata": {
        "id": "y263907PB1Xa",
        "colab_type": "code",
        "colab": {}
      },
      "source": [
        ""
      ],
      "execution_count": 0,
      "outputs": []
    },
    {
      "cell_type": "markdown",
      "metadata": {
        "id": "9R0kLuhwB2yi",
        "colab_type": "text"
      },
      "source": [
        "# [문자열은 필요할 때 찾아서 하기]\n",
        "\n",
        "### 문자열 서식 지정자와 포매팅 사용하기\n",
        "\n",
        "- 사용 이유 : 같은 부분을 제외한 다른 부분의 문자열을 바꿔주기위함.\n",
        "- 필요할 시 더 알아보기."
      ]
    },
    {
      "cell_type": "markdown",
      "metadata": {
        "id": "M9Ud3L46DQut",
        "colab_type": "text"
      },
      "source": [
        "# 딕셔너리 응용하기\n",
        "\n",
        "- 딕션너리의 키/값 쌍을 추가. : SETDEFAULT(키, 기본값)\n",
        "- 딕셔너리의 값을 수정 : update( 키 = 값 , 키 = 값 ...)"
      ]
    },
    {
      "cell_type": "code",
      "metadata": {
        "id": "CA1pFp6ZD8SA",
        "colab_type": "code",
        "outputId": "440467d2-d889-4516-b26b-aa4342c2b479",
        "colab": {
          "base_uri": "https://localhost:8080/",
          "height": 34
        }
      },
      "source": [
        " X = {'a':10, 'b':20}\n",
        "X.setdefault('f',100)\n",
        "X"
      ],
      "execution_count": 0,
      "outputs": [
        {
          "output_type": "execute_result",
          "data": {
            "text/plain": [
              "{'a': 10, 'b': 20, 'f': 100}"
            ]
          },
          "metadata": {
            "tags": []
          },
          "execution_count": 5
        }
      ]
    },
    {
      "cell_type": "code",
      "metadata": {
        "id": "H3SFZPpHEFbE",
        "colab_type": "code",
        "outputId": "f89b55f9-a028-41eb-d959-6902e1da4693",
        "colab": {
          "base_uri": "https://localhost:8080/",
          "height": 34
        }
      },
      "source": [
        "X.update(a = 90)\n",
        "X"
      ],
      "execution_count": 0,
      "outputs": [
        {
          "output_type": "execute_result",
          "data": {
            "text/plain": [
              "{'a': 90, 'b': 20, 'f': 100}"
            ]
          },
          "metadata": {
            "tags": []
          },
          "execution_count": 7
        }
      ]
    },
    {
      "cell_type": "markdown",
      "metadata": {
        "id": "2OhsnFm1rLiH",
        "colab_type": "text"
      },
      "source": [
        "# 함수 사용하기\n",
        "\n",
        "```python\n",
        "def 함수이름(매개변수):\n",
        "  return 반환값1, 반환값2\n",
        "```\n",
        "- 여러개를 반환할시 한 개의 변수에 받으면 기본적으로 튜플로 저장"
      ]
    },
    {
      "cell_type": "code",
      "metadata": {
        "id": "L3B3vmGRrL4t",
        "colab_type": "code",
        "colab": {}
      },
      "source": [
        "def hello():\n",
        "  print('Hello!')\n",
        "\n",
        "def add(a, b ):\n",
        "  return a+b, a"
      ],
      "execution_count": 0,
      "outputs": []
    },
    {
      "cell_type": "code",
      "metadata": {
        "id": "D8mOFXq3rdSn",
        "colab_type": "code",
        "outputId": "26d28b73-43c6-473d-e17a-74ff7e3bcafd",
        "colab": {
          "base_uri": "https://localhost:8080/",
          "height": 34
        }
      },
      "source": [
        "hello()"
      ],
      "execution_count": 0,
      "outputs": [
        {
          "output_type": "stream",
          "text": [
            "Hello!\n"
          ],
          "name": "stdout"
        }
      ]
    },
    {
      "cell_type": "code",
      "metadata": {
        "id": "n_L8VSBVrmnv",
        "colab_type": "code",
        "outputId": "decc2118-bb01-40cf-d4d7-96f01c9781ed",
        "colab": {
          "base_uri": "https://localhost:8080/",
          "height": 52
        }
      },
      "source": [
        "asum, a=add(2,3)\n",
        "print(asum, a)\n",
        "one = add(2,3)\n",
        "print(one)"
      ],
      "execution_count": 0,
      "outputs": [
        {
          "output_type": "stream",
          "text": [
            "5 2\n",
            "(5, 2)\n"
          ],
          "name": "stdout"
        }
      ]
    },
    {
      "cell_type": "markdown",
      "metadata": {
        "id": "t4hhXfCq5dFF",
        "colab_type": "text"
      },
      "source": [
        "### 함수에서 위치 인수와 키워드 인수 사용하기\n",
        "- 함수에 인수를 순서대로 넣는 방식을 위치 인수 ( 고정 인수, 가변 인수 )\n",
        "- 순서를 지키지 않고 값을 넣을 수 있는 방법 키워드 인수"
      ]
    },
    {
      "cell_type": "code",
      "metadata": {
        "id": "10cv_bha6igV",
        "colab_type": "code",
        "outputId": "69209252-fcf5-4517-acc9-322bcf05c019",
        "colab": {
          "base_uri": "https://localhost:8080/",
          "height": 70
        }
      },
      "source": [
        "# 고정 인수와 가변 인수 함께 사용도 가능\n",
        "\n",
        "def print_numbers(a, *args):\n",
        "  print(a)\n",
        "  print(args)\n",
        "\n",
        "def fix_numbers(*a):\n",
        "  print(a)\n",
        "\n",
        "fix_numbers(*[10,20,30])\n",
        "print_numbers(1, *[10,20,30])"
      ],
      "execution_count": 0,
      "outputs": [
        {
          "output_type": "stream",
          "text": [
            "(10, 20, 30)\n",
            "1\n",
            "(10, 20, 30)\n"
          ],
          "name": "stdout"
        }
      ]
    },
    {
      "cell_type": "code",
      "metadata": {
        "id": "ADh-Q_Le7WTU",
        "colab_type": "code",
        "outputId": "74efb30f-49a5-48f5-afff-591148e4667a",
        "colab": {
          "base_uri": "https://localhost:8080/",
          "height": 70
        }
      },
      "source": [
        "def personal_info(name, age, address):\n",
        "  print(name)\n",
        "  print(age)\n",
        "  print(address)\n",
        "\n",
        "# 위치인수 : 꼭 name, age, address 순으로 넣어야함.\n",
        "personal_info('name', 'age', 'address')"
      ],
      "execution_count": 0,
      "outputs": [
        {
          "output_type": "stream",
          "text": [
            "name\n",
            "age\n",
            "address\n"
          ],
          "name": "stdout"
        }
      ]
    },
    {
      "cell_type": "code",
      "metadata": {
        "id": "ucdu72lZ9_Os",
        "colab_type": "code",
        "outputId": "798b73bd-f9fe-46c9-eec4-d5c743ce936e",
        "colab": {
          "base_uri": "https://localhost:8080/",
          "height": 70
        }
      },
      "source": [
        "# 키워드 인수 : 다음을 통하여 순서를 지키지 않고 값을 넣는 것이 가능하다.\n",
        "personal_info(name= 'hong', address = '서울시',age = 30 )"
      ],
      "execution_count": 0,
      "outputs": [
        {
          "output_type": "stream",
          "text": [
            "hong\n",
            "30\n",
            "서울시\n"
          ],
          "name": "stdout"
        }
      ]
    },
    {
      "cell_type": "code",
      "metadata": {
        "id": "H-Ks86ts-vXb",
        "colab_type": "code",
        "outputId": "6db18ac6-4980-4157-9fe0-dffcf1fa5e93",
        "colab": {
          "base_uri": "https://localhost:8080/",
          "height": 70
        }
      },
      "source": [
        "x = {'name' : 'hong', 'age' : 30, 'address' : '서울시'}\n",
        "# 딕셔너리는 : 함수(**딕셔너리)\n",
        "personal_info(**x)"
      ],
      "execution_count": 0,
      "outputs": [
        {
          "output_type": "stream",
          "text": [
            "hong\n",
            "30\n",
            "서울시\n"
          ],
          "name": "stdout"
        }
      ]
    },
    {
      "cell_type": "code",
      "metadata": {
        "id": "CHzhyc6C901Y",
        "colab_type": "code",
        "colab": {}
      },
      "source": [
        "#초기값 주는 방법 : 함수 인수 자체에다 값을 준다.\n",
        "\n",
        "#잘못된 생성 \n",
        "#def sum(a = 2 , b):\n",
        "#  return a+b \n",
        "\n",
        "#올바른 생성\n",
        "def sum(b,a=2):\n",
        "  return a+b "
      ],
      "execution_count": 0,
      "outputs": []
    },
    {
      "cell_type": "code",
      "metadata": {
        "id": "pwGfAK6ZMHcs",
        "colab_type": "code",
        "outputId": "72b5e024-4c3e-4d36-bc74-e12968e7b974",
        "colab": {
          "base_uri": "https://localhost:8080/",
          "height": 34
        }
      },
      "source": [
        "# b = 3 a = 2 초깃값\n",
        "sum(3)"
      ],
      "execution_count": 0,
      "outputs": [
        {
          "output_type": "execute_result",
          "data": {
            "text/plain": [
              "5"
            ]
          },
          "metadata": {
            "tags": []
          },
          "execution_count": 12
        }
      ]
    },
    {
      "cell_type": "code",
      "metadata": {
        "id": "YhDNTHzegya1",
        "colab_type": "code",
        "outputId": "1c21be4b-ceac-41ff-fdf3-9907b04a392c",
        "colab": {
          "base_uri": "https://localhost:8080/",
          "height": 34
        }
      },
      "source": [
        "# b = 3 a = 3\n",
        "sum(3,3)"
      ],
      "execution_count": 0,
      "outputs": [
        {
          "output_type": "execute_result",
          "data": {
            "text/plain": [
              "6"
            ]
          },
          "metadata": {
            "tags": []
          },
          "execution_count": 13
        }
      ]
    },
    {
      "cell_type": "markdown",
      "metadata": {
        "id": "u-4joPgtg-Yo",
        "colab_type": "text"
      },
      "source": [
        "## 함수 재귀 호출"
      ]
    },
    {
      "cell_type": "code",
      "metadata": {
        "id": "omEnzKMXhFxp",
        "colab_type": "code",
        "outputId": "eda04913-16d8-4404-9640-cdafa112df0c",
        "colab": {
          "base_uri": "https://localhost:8080/",
          "height": 34
        }
      },
      "source": [
        "def factorial(n):\n",
        "  if n == 1:\n",
        "    return 1\n",
        "  return n * factorial(n-1)\n",
        "\n",
        "print(factorial(5))"
      ],
      "execution_count": 0,
      "outputs": [
        {
          "output_type": "stream",
          "text": [
            "120\n"
          ],
          "name": "stdout"
        }
      ]
    },
    {
      "cell_type": "code",
      "metadata": {
        "id": "jU7W9moGhFq3",
        "colab_type": "code",
        "outputId": "5868ba02-766c-42dd-a739-647684272d05",
        "colab": {
          "base_uri": "https://localhost:8080/",
          "height": 34
        }
      },
      "source": [
        "def pibonachi(n):\n",
        "  if n == 0 :\n",
        "    return 0\n",
        "  elif n == 1 :\n",
        "    return 1\n",
        "  else:\n",
        "    return pibonachi(n-1) + pibonachi(n-2)\n",
        "\n",
        "print(pibonachi(10))"
      ],
      "execution_count": 0,
      "outputs": [
        {
          "output_type": "stream",
          "text": [
            "55\n"
          ],
          "name": "stdout"
        }
      ]
    },
    {
      "cell_type": "markdown",
      "metadata": {
        "id": "sNHfK2-EXILS",
        "colab_type": "text"
      },
      "source": [
        "# Lamda 표현식\n",
        "\n",
        "- 함수를 간편하게 작성할 수 있어서 다른 함수의 인수로 넣을 때 주로 사용\n",
        "- 함수 처럼 안 쪽에 변수를 생성할 수 없고 함수 바깥의 인수를 가져다가는 사용이 가능하다.\n",
        "- 인수를 가지고 바로 return 할 때 사용하면 편하다."
      ]
    },
    {
      "cell_type": "code",
      "metadata": {
        "id": "lZyMzLRsXHu6",
        "colab_type": "code",
        "outputId": "787e368a-5367-4b1f-cdc5-699136224383",
        "colab": {
          "base_uri": "https://localhost:8080/",
          "height": 34
        }
      },
      "source": [
        "# 다음 함수를 람다 표현식으로\n",
        "\n",
        "def plus_ten (x):\n",
        "  return x + 10\n",
        "\n",
        "plus_ten(1)"
      ],
      "execution_count": 0,
      "outputs": [
        {
          "output_type": "execute_result",
          "data": {
            "text/plain": [
              "11"
            ]
          },
          "metadata": {
            "tags": []
          },
          "execution_count": 1
        }
      ]
    },
    {
      "cell_type": "code",
      "metadata": {
        "id": "4yoUXemGXssL",
        "colab_type": "code",
        "outputId": "138bda20-a102-4d2e-9fba-a277c4a6fcf2",
        "colab": {
          "base_uri": "https://localhost:8080/",
          "height": 52
        }
      },
      "source": [
        "lplus_Ten = lambda x: x + 10\n",
        "\n",
        "print(lplus_Ten(1))\n",
        "\n",
        "#or\n",
        "\n",
        "print((lambda x: x + 10 )(1))"
      ],
      "execution_count": 0,
      "outputs": [
        {
          "output_type": "stream",
          "text": [
            "11\n",
            "11\n"
          ],
          "name": "stdout"
        }
      ]
    },
    {
      "cell_type": "code",
      "metadata": {
        "id": "aPoNEniyaB2P",
        "colab_type": "code",
        "outputId": "d0f44a36-0edd-4772-dc10-e8b56a86b5cb",
        "colab": {
          "base_uri": "https://localhost:8080/",
          "height": 34
        }
      },
      "source": [
        "y = 10\n",
        "\n",
        "lplus_ten = lambda x: x + y + 10\n",
        "\n",
        "print(lplus_ten(5))"
      ],
      "execution_count": 0,
      "outputs": [
        {
          "output_type": "stream",
          "text": [
            "25\n"
          ],
          "name": "stdout"
        }
      ]
    },
    {
      "cell_type": "code",
      "metadata": {
        "id": "_buIWfxOaYKx",
        "colab_type": "code",
        "outputId": "379a372f-0ae5-4bc8-dfdb-7a473cbda06d",
        "colab": {
          "base_uri": "https://localhost:8080/",
          "height": 34
        }
      },
      "source": [
        "#활용\n",
        "\n",
        "def plus_ten(x):\n",
        "  return x + 10\n",
        "\n",
        "list(map(plus_ten, [1,2,3]))"
      ],
      "execution_count": 0,
      "outputs": [
        {
          "output_type": "execute_result",
          "data": {
            "text/plain": [
              "[11, 12, 13]"
            ]
          },
          "metadata": {
            "tags": []
          },
          "execution_count": 7
        }
      ]
    },
    {
      "cell_type": "code",
      "metadata": {
        "id": "4q-2yLVwahng",
        "colab_type": "code",
        "outputId": "4a44b153-06ce-4778-c613-3d5703f1c564",
        "colab": {
          "base_uri": "https://localhost:8080/",
          "height": 34
        }
      },
      "source": [
        "list(map(lambda x: x + 10, [1,2,3]))"
      ],
      "execution_count": 0,
      "outputs": [
        {
          "output_type": "execute_result",
          "data": {
            "text/plain": [
              "[11, 12, 13]"
            ]
          },
          "metadata": {
            "tags": []
          },
          "execution_count": 8
        }
      ]
    },
    {
      "cell_type": "markdown",
      "metadata": {
        "id": "UJQKKNqZfY9B",
        "colab_type": "text"
      },
      "source": [
        "## lmabda if 식으로도 사용 가능"
      ]
    },
    {
      "cell_type": "code",
      "metadata": {
        "id": "N7rwm_d2fZ0H",
        "colab_type": "code",
        "outputId": "6c63d9bb-58f0-4aa6-9173-9d61b04e6836",
        "colab": {
          "base_uri": "https://localhost:8080/",
          "height": 34
        }
      },
      "source": [
        "a = [1,2,3,4,5,6,7,8,9,10]\n",
        "list(map(lambda x: str(x) if x % 3 == 0 else float(x) if x == 2 else x + 10, a))\n",
        "# 식1 if 조건식1 else 식2 if 조건식2 else 식3"
      ],
      "execution_count": 0,
      "outputs": [
        {
          "output_type": "execute_result",
          "data": {
            "text/plain": [
              "[11, 2.0, '03', 14, 15, '06', 17, 18, '09', 20]"
            ]
          },
          "metadata": {
            "tags": []
          },
          "execution_count": 28
        }
      ]
    },
    {
      "cell_type": "markdown",
      "metadata": {
        "id": "BSP-CX6Ni47q",
        "colab_type": "text"
      },
      "source": [
        "### 객체 여러 개 넣기"
      ]
    },
    {
      "cell_type": "code",
      "metadata": {
        "id": "UvPJAMU-i8j0",
        "colab_type": "code",
        "outputId": "5f09a834-59ab-4200-9594-69198cddd75e",
        "colab": {
          "base_uri": "https://localhost:8080/",
          "height": 34
        }
      },
      "source": [
        "a = [1,2,3,4]\n",
        "b = [1,2,3,4]\n",
        "# list (map(lambda 인수1, 인수2 : 반환, ))\n",
        "list(map(lambda x, y : x * y , a, b))"
      ],
      "execution_count": 0,
      "outputs": [
        {
          "output_type": "execute_result",
          "data": {
            "text/plain": [
              "[1, 4, 9, 16]"
            ]
          },
          "metadata": {
            "tags": []
          },
          "execution_count": 13
        }
      ]
    },
    {
      "cell_type": "markdown",
      "metadata": {
        "id": "bZxeOKaKi4tT",
        "colab_type": "text"
      },
      "source": [
        "### filter 사용"
      ]
    },
    {
      "cell_type": "code",
      "metadata": {
        "id": "NLQlGSkIkCtC",
        "colab_type": "code",
        "outputId": "d6cbc4a2-9b3b-47f1-c481-2491cb117bb6",
        "colab": {
          "base_uri": "https://localhost:8080/",
          "height": 34
        }
      },
      "source": [
        "a = [8,3,2,10,15,7,1,9,0,11]\n",
        "list(filter(lambda x: x > 5 and x < 10, a))"
      ],
      "execution_count": 0,
      "outputs": [
        {
          "output_type": "execute_result",
          "data": {
            "text/plain": [
              "[8, 7, 9]"
            ]
          },
          "metadata": {
            "tags": []
          },
          "execution_count": 14
        }
      ]
    },
    {
      "cell_type": "markdown",
      "metadata": {
        "id": "B3tKCkQ5i4ht",
        "colab_type": "text"
      },
      "source": [
        "### reduce 사용하기\n",
        "- 누적시키는 개념"
      ]
    },
    {
      "cell_type": "code",
      "metadata": {
        "id": "krLlsEGCkeWa",
        "colab_type": "code",
        "colab": {}
      },
      "source": [
        "from functools import reduce\n",
        "\n",
        "a = [1,2,3,4,5]\n",
        "\n",
        "reduce(lambda x, y: x+ y, a)"
      ],
      "execution_count": 0,
      "outputs": []
    },
    {
      "cell_type": "markdown",
      "metadata": {
        "id": "2hAA2ulfmGqe",
        "colab_type": "text"
      },
      "source": [
        "# Lamda 연습문제"
      ]
    },
    {
      "cell_type": "code",
      "metadata": {
        "id": "K2FvV_PCmJBU",
        "colab_type": "code",
        "outputId": "43aff62b-b107-42f9-d79c-1256076f09a7",
        "colab": {
          "base_uri": "https://localhost:8080/",
          "height": 34
        }
      },
      "source": [
        "files = ['font','1.png','10.jpg','11.gif','2.jpg']\n",
        "\n",
        "#find 메서드 : 찾을 문자열이 있을 때 인덱스를 반환하고 없을 때는 -1을 반환한다.\n",
        "\n",
        "list(filter(lambda x: x.find('.jpg') != -1,files))"
      ],
      "execution_count": 0,
      "outputs": [
        {
          "output_type": "execute_result",
          "data": {
            "text/plain": [
              "['10.jpg', '2.jpg']"
            ]
          },
          "metadata": {
            "tags": []
          },
          "execution_count": 16
        }
      ]
    },
    {
      "cell_type": "code",
      "metadata": {
        "id": "SXYvKPaQn1Xg",
        "colab_type": "code",
        "outputId": "6a910f58-48fa-4eac-daf8-d7cd4e7dc548",
        "colab": {
          "base_uri": "https://localhost:8080/",
          "height": 34
        }
      },
      "source": [
        "files = ['1.png','10.jpg','11.gif','2.jpg']\n",
        "\n",
        "list(map(lambda x:'00'+str(x) if x[1] == '.' else '0'+str(x) if x[2] == '.' else str(x), files))\n"
      ],
      "execution_count": 0,
      "outputs": [
        {
          "output_type": "execute_result",
          "data": {
            "text/plain": [
              "['001.png', '010.jpg', '011.gif', '002.jpg']"
            ]
          },
          "metadata": {
            "tags": []
          },
          "execution_count": 35
        }
      ]
    },
    {
      "cell_type": "markdown",
      "metadata": {
        "id": "Z3GA-MyNy1Ci",
        "colab_type": "text"
      },
      "source": [
        "### 클로저\n",
        "- 지역변수 코드등을 함수 호출할 때마다 다시 꺼내서 사용하는 함수"
      ]
    },
    {
      "cell_type": "code",
      "metadata": {
        "id": "cCZ6wmrJuJdf",
        "colab_type": "code",
        "outputId": "a6aa533b-e96e-4ebc-9760-358007170bf5",
        "colab": {
          "base_uri": "https://localhost:8080/",
          "height": 34
        }
      },
      "source": [
        "def calc():\n",
        "  a = 3\n",
        "  b = 5\n",
        "  def mul_add(x):\n",
        "    return a * x + b\n",
        "  return mul_add\n",
        "\n",
        "\n",
        "c = calc()\n",
        "#클로저 \n",
        "print(c(1),c(2),c(3))"
      ],
      "execution_count": 0,
      "outputs": [
        {
          "output_type": "stream",
          "text": [
            "8 11 14\n"
          ],
          "name": "stdout"
        }
      ]
    },
    {
      "cell_type": "markdown",
      "metadata": {
        "id": "zeyKjxeYGjlh",
        "colab_type": "text"
      },
      "source": [
        "# 클래스\n",
        "\n",
        "- 객체를 표현하기 위한 문법으로 게임을 예를 들면 직업을 클래스라 할 수 있고, 능력치들을 클래스의 속성이라 부르고, 행위와 스킬과 같은 행동은 메서드로 본다.\n",
        "```python\n",
        "class 클래스 이름:\n",
        "  def 메서드 (self):\n",
        "    코드\n",
        "```"
      ]
    },
    {
      "cell_type": "code",
      "metadata": {
        "id": "bYSdQ6hvfps8",
        "colab_type": "code",
        "colab": {}
      },
      "source": [
        "#ex\n",
        "class person:\n",
        "  def greeting(self):\n",
        "    print('Hello')\n",
        "\n",
        "james = person()"
      ],
      "execution_count": 0,
      "outputs": []
    },
    {
      "cell_type": "code",
      "metadata": {
        "id": "Ku9AfGulYJN5",
        "colab_type": "code",
        "outputId": "3d15d017-8c86-4d96-db9c-c0f5c1cc9aa9",
        "colab": {
          "base_uri": "https://localhost:8080/",
          "height": 34
        }
      },
      "source": [
        "james.greeting()"
      ],
      "execution_count": 0,
      "outputs": [
        {
          "output_type": "stream",
          "text": [
            "Hello\n"
          ],
          "name": "stdout"
        }
      ]
    },
    {
      "cell_type": "code",
      "metadata": {
        "id": "DACk_dZvGi5S",
        "colab_type": "code",
        "colab": {}
      },
      "source": [
        "# 메서드 안에서 메서드 호출\n",
        "class person:\n",
        "  def greeting(self):\n",
        "    print('Hello')\n",
        "  \n",
        "  def student(self):\n",
        "    print('abc')\n",
        "    self.greeting()\n",
        "\n",
        "peanot = person() "
      ],
      "execution_count": 0,
      "outputs": []
    },
    {
      "cell_type": "code",
      "metadata": {
        "id": "LquzgA2iYZsM",
        "colab_type": "code",
        "outputId": "b9c6aad9-7886-4cd0-a01a-f1edd702ab3e",
        "colab": {
          "base_uri": "https://localhost:8080/",
          "height": 52
        }
      },
      "source": [
        "peanot.student()"
      ],
      "execution_count": 0,
      "outputs": [
        {
          "output_type": "stream",
          "text": [
            "abc\n",
            "Hello\n"
          ],
          "name": "stdout"
        }
      ]
    },
    {
      "cell_type": "markdown",
      "metadata": {
        "id": "GTmWiaeXYn8w",
        "colab_type": "text"
      },
      "source": [
        "## 속성 사용하기\n",
        "- 속성을 만들 때는 _ _ init _ _ 메서드 안에서 'self.속성'에 값을 할당합니다.\n",
        "\n",
        "```python\n",
        "class 클래스이름:\n",
        "  def __init__(self):\n",
        "    self.속성 = 값\n",
        "```"
      ]
    },
    {
      "cell_type": "code",
      "metadata": {
        "id": "lhW6v4-gZOiW",
        "colab_type": "code",
        "colab": {}
      },
      "source": [
        "#ex\n",
        "class person:\n",
        "  def __init__(self):\n",
        "    self.hello = '안녕'\n",
        "  \n",
        "  def greeting(self):\n",
        "    print(self.hello)\n",
        "\n",
        "james = person()"
      ],
      "execution_count": 0,
      "outputs": []
    },
    {
      "cell_type": "code",
      "metadata": {
        "id": "qvLSEDkwZwRO",
        "colab_type": "code",
        "outputId": "457457d8-5a49-4784-900d-de2f3226ec34",
        "colab": {
          "base_uri": "https://localhost:8080/",
          "height": 34
        }
      },
      "source": [
        "james.greeting()"
      ],
      "execution_count": 0,
      "outputs": [
        {
          "output_type": "stream",
          "text": [
            "안녕\n"
          ],
          "name": "stdout"
        }
      ]
    },
    {
      "cell_type": "markdown",
      "metadata": {
        "id": "0FHIWrHDFQl0",
        "colab_type": "text"
      },
      "source": [
        "## 인스턴스를 만들 때 값 받기"
      ]
    },
    {
      "cell_type": "code",
      "metadata": {
        "id": "9teuSJXKE8Os",
        "colab_type": "code",
        "outputId": "04314030-2f01-4839-bc6b-f72c54f6b4e2",
        "colab": {
          "base_uri": "https://localhost:8080/",
          "height": 87
        }
      },
      "source": [
        "class person:\n",
        "  def __init__(self, name, age, address):\n",
        "    self.hello = '안녕'\n",
        "    self.name = name\n",
        "    self.age = age\n",
        "    self.address = address\n",
        "  \n",
        "  def greeting(self):\n",
        "    print('{0} 저는 {1}입니다.'.format(self.hello, self.name))\n",
        "\n",
        "#format : \n",
        "maria = person('마리아',20,'서울시 서초구 반포동')\n",
        "maria.greeting()\n",
        "\n",
        "print('이름:', maria.name)\n",
        "\n",
        "print('나이:', maria.age)\n",
        "\n",
        "print('이름:', maria.address)"
      ],
      "execution_count": 0,
      "outputs": [
        {
          "output_type": "stream",
          "text": [
            "안녕 저는 마리아입니다.\n",
            "이름: 마리아\n",
            "나이: 20\n",
            "이름: 서울시 서초구 반포동\n"
          ],
          "name": "stdout"
        }
      ]
    },
    {
      "cell_type": "markdown",
      "metadata": {
        "id": "oNFYjESHGlmK",
        "colab_type": "text"
      },
      "source": [
        "# 활용"
      ]
    },
    {
      "cell_type": "code",
      "metadata": {
        "id": "dpKc35xfHDiC",
        "colab_type": "code",
        "colab": {}
      },
      "source": [
        "class person:\n",
        "  def __init__(self, *args):\n",
        "    self.name = args[0]\n",
        "    self.age = args[1]\n",
        "    self.address = args[2]\n",
        "\n",
        "maria = person(*['마리아',20,'서울시 서초구 반포동']) # 1. 인스턴스 생성\n",
        "\n",
        "## 딕셔너리의 경우 **kwargs\n"
      ],
      "execution_count": 0,
      "outputs": []
    },
    {
      "cell_type": "markdown",
      "metadata": {
        "id": "MBCzuFx2IGXJ",
        "colab_type": "text"
      },
      "source": [
        "### _ _ slots _ _\n",
        "#### 속성을 가진 소규모 클래스의 경우 병목 현상이 발생할 수 있습니다. dict형은 메모리를 많이 낭비합니다. 파이썬은 객체 생성시에 모든 속성들을 저장하기 위해 메모리에 고정된 양을 할당할 수 없습니다. 그러므로 많은 양의 객체를 생성 하면 많은 RAM을 낭비하게됩니다. 이 문제를 우회하는 방법이 있습니다. __slots__을 사용해서 파이썬이 dict형을 사용하지 않도록 하고 고정된 속성의 집합에만 메모리를 할당하도록 합니다. 여기 __slots__ 을 사용한 예제와 사용하지 않은 예제를 살펴보겠습니다."
      ]
    },
    {
      "cell_type": "code",
      "metadata": {
        "id": "uoTZAIdiILrA",
        "colab_type": "code",
        "colab": {}
      },
      "source": [
        "class MyClass(object):\n",
        "    def __init__(name, Class):\n",
        "        self.name = name\n",
        "        self.Class = Class\n",
        "        self.set_up()\n",
        "    # ..."
      ],
      "execution_count": 0,
      "outputs": []
    },
    {
      "cell_type": "code",
      "metadata": {
        "id": "FiGl4TFEC_QS",
        "colab_type": "code",
        "colab": {}
      },
      "source": [
        "class MyClass(object):\n",
        "    __slots__ = ['name', 'Class']\n",
        "\n",
        "    def __init__(name, Class):\n",
        "        self.name = name\n",
        "        self.Class = Class\n",
        "        self.set_up()\n",
        "    # ..."
      ],
      "execution_count": 0,
      "outputs": []
    },
    {
      "cell_type": "markdown",
      "metadata": {
        "id": "KNIOYEB9nL0_",
        "colab_type": "text"
      },
      "source": [
        "### 연습문제 : 게임 캐릭터 클래스 만들기"
      ]
    },
    {
      "cell_type": "code",
      "metadata": {
        "id": "wX6xiQ1GnBmL",
        "colab_type": "code",
        "outputId": "3ea3b0a6-c005-4df5-ce6e-1d11820c8e7a",
        "colab": {
          "base_uri": "https://localhost:8080/",
          "height": 52
        }
      },
      "source": [
        "class Knight():\n",
        "  def __init__(self,health, mana, armor):\n",
        "    self.health = health\n",
        "    self.mana = mana\n",
        "    self.armor = armor\n",
        "  \n",
        "  def slash(self):\n",
        "    print(\"베기\")\n",
        "\n",
        "x = Knight(health=542.4, mana = 210.3, armor = 38)\n",
        "print(x.health, x.mana, x.armor)\n",
        "x.slash()"
      ],
      "execution_count": 0,
      "outputs": [
        {
          "output_type": "stream",
          "text": [
            "542.4 210.3 38\n",
            "베기\n"
          ],
          "name": "stdout"
        }
      ]
    },
    {
      "cell_type": "markdown",
      "metadata": {
        "id": "1KJo8xMApeyT",
        "colab_type": "text"
      },
      "source": [
        "### 심사문제: 게임 캐릭터 클래스 만들기"
      ]
    },
    {
      "cell_type": "code",
      "metadata": {
        "id": "MaI7kKYWpeGQ",
        "colab_type": "code",
        "outputId": "bab6315a-e865-4d87-fdc7-ba895f1251ae",
        "colab": {
          "base_uri": "https://localhost:8080/",
          "height": 52
        }
      },
      "source": [
        "class Annie():\n",
        "  def __init__(self, health, mana, ap) :\n",
        "    self.health = health\n",
        "    self.mana = mana\n",
        "    self.ap = ap\n",
        "  \n",
        "  def tibbers(self):\n",
        "    print( \"티버: 피해량 \", self.ap * 0.65 + 400)\n",
        "## 문자열 끼리의 연결을 + 문자열 다음 숫자를 이어서 표현하려면 ,\n",
        "a, b, c = map(float,input().split())\n",
        "## 형변환 입력시 map을 활용.\n",
        "x = Annie(a,b,c)\n",
        "x.tibbers()"
      ],
      "execution_count": 0,
      "outputs": [
        {
          "output_type": "stream",
          "text": [
            "511.68 334.0 298\n",
            "티버: 피해량  593.7\n"
          ],
          "name": "stdout"
        }
      ]
    },
    {
      "cell_type": "markdown",
      "metadata": {
        "id": "VWJk49DkzXXJ",
        "colab_type": "text"
      },
      "source": [
        "클래스에 대한 정리\n",
        "- init 을 통하여 속성의 값을 받을 수 있다.\n",
        "- 다른 함수들을 넣어서 해당 속성의 값을 전역변수 처럼 사용할 수 있다."
      ]
    },
    {
      "cell_type": "markdown",
      "metadata": {
        "id": "Q-_mDxDh0UtM",
        "colab_type": "text"
      },
      "source": [
        "### 클래스 속성 != init\n",
        "\n",
        "init은 객체 인스터스의 속성  \n",
        "속성 = 값은 클래스 속성, 클래스 속성은 각 인스턴스에서 값을 공유한다.  \n",
        "즉, 공유하기 싫다면 init을 이용하면 된다.\n",
        "\n",
        "```python\n",
        "class 클래스이름:\n",
        "  속성 = 값\n",
        "```\n"
      ]
    },
    {
      "cell_type": "code",
      "metadata": {
        "id": "43rdvQWbzYdd",
        "colab_type": "code",
        "outputId": "c23983cc-b8bb-4cad-9ff5-b98b224cc8f5",
        "colab": {
          "base_uri": "https://localhost:8080/",
          "height": 35
        }
      },
      "source": [
        "class Person():\n",
        "  bag = []\n",
        "\n",
        "  def put_bag(self, stuff):\n",
        "    self.bag.append(stuff)\n",
        "\n",
        "james = Person()\n",
        "james.put_bag('책')\n",
        "\n",
        "maria = Person()\n",
        "maria.put_bag('열쇠')\n",
        "\n",
        "#bag를 공유한다.\n",
        "print(maria.bag)"
      ],
      "execution_count": 0,
      "outputs": [
        {
          "output_type": "stream",
          "text": [
            "['책', '열쇠']\n"
          ],
          "name": "stdout"
        }
      ]
    },
    {
      "cell_type": "code",
      "metadata": {
        "id": "wtfcK6Cp1-GE",
        "colab_type": "code",
        "colab": {}
      },
      "source": [
        "#따라서 클래스 속성이므로 self를 잘 사용하지 않고 클래스를 이용하는 것이 더 명확한 코드이다.\n",
        "class Person():\n",
        "  bag = []\n",
        "\n",
        "  def put_bag(self, stuff):\n",
        "    Person.bag.append(stuff)\n"
      ],
      "execution_count": 0,
      "outputs": []
    },
    {
      "cell_type": "code",
      "metadata": {
        "id": "lttVQOFH3C95",
        "colab_type": "code",
        "outputId": "6ec046d3-5ff6-46c5-d587-d4563c15d984",
        "colab": {
          "base_uri": "https://localhost:8080/",
          "height": 222
        }
      },
      "source": [
        "## 비공개 클래스 속성 : 클래스 밖에서 접근할 수 없게 한다.\n",
        "\n",
        "class Knight:\n",
        "  __item_limit = 10\n",
        "  \n",
        "  def print_item_limit(self):\n",
        "    print(Knight.__item_limit)\n",
        "  \n",
        "x = Knight()\n",
        "x.print_item_limit()\n",
        "\n",
        "#접근 불가\n",
        "print(Knight.__item_limit)"
      ],
      "execution_count": 0,
      "outputs": [
        {
          "output_type": "stream",
          "text": [
            "10\n"
          ],
          "name": "stdout"
        },
        {
          "output_type": "error",
          "ename": "AttributeError",
          "evalue": "ignored",
          "traceback": [
            "\u001b[0;31m---------------------------------------------------------------------------\u001b[0m",
            "\u001b[0;31mAttributeError\u001b[0m                            Traceback (most recent call last)",
            "\u001b[0;32m<ipython-input-22-08228ed964fa>\u001b[0m in \u001b[0;36m<module>\u001b[0;34m()\u001b[0m\n\u001b[1;32m      9\u001b[0m \u001b[0mx\u001b[0m\u001b[0;34m.\u001b[0m\u001b[0mprint_item_limit\u001b[0m\u001b[0;34m(\u001b[0m\u001b[0;34m)\u001b[0m\u001b[0;34m\u001b[0m\u001b[0;34m\u001b[0m\u001b[0m\n\u001b[1;32m     10\u001b[0m \u001b[0;34m\u001b[0m\u001b[0m\n\u001b[0;32m---> 11\u001b[0;31m \u001b[0mprint\u001b[0m\u001b[0;34m(\u001b[0m\u001b[0mKnight\u001b[0m\u001b[0;34m.\u001b[0m\u001b[0m__item_limit\u001b[0m\u001b[0;34m)\u001b[0m\u001b[0;34m\u001b[0m\u001b[0;34m\u001b[0m\u001b[0m\n\u001b[0m",
            "\u001b[0;31mAttributeError\u001b[0m: type object 'Knight' has no attribute '__item_limit'"
          ]
        }
      ]
    },
    {
      "cell_type": "markdown",
      "metadata": {
        "id": "mUttQO864rBk",
        "colab_type": "text"
      },
      "source": [
        "### 정적메서드와 클래스 메서드 사용하기\n",
        "  \n",
        "- 정적 메서드 : self를 받지 않아 인스턴스 속성, 인스턴스 메서드가 필요 없을 때 사용한다. "
      ]
    },
    {
      "cell_type": "code",
      "metadata": {
        "id": "2XofLd5K4teC",
        "colab_type": "code",
        "outputId": "de991b7a-3e96-4551-a8b5-53ac151cdc5e",
        "colab": {
          "base_uri": "https://localhost:8080/",
          "height": 52
        }
      },
      "source": [
        "class Calc:\n",
        "  @staticmethod # 데코레이터 : 메서드에 추가 기능\n",
        "  def add(a,b):\n",
        "    print(a+b)\n",
        "  \n",
        "  @staticmethod\n",
        "  def mul(a,b):\n",
        "    print(a*b)\n",
        "\n",
        "Calc.add(10,20)\n",
        "\n",
        "Calc.mul(10,20)"
      ],
      "execution_count": 0,
      "outputs": [
        {
          "output_type": "stream",
          "text": [
            "30\n",
            "200\n"
          ],
          "name": "stdout"
        }
      ]
    },
    {
      "cell_type": "markdown",
      "metadata": {
        "id": "tyQ4-CKo5ofH",
        "colab_type": "text"
      },
      "source": [
        "- 클래스 메서드 : 정적 메서드처럼 인스턴스 없이 호출할 수 있지만 메서드 안에서 클래스 속성, 클래스 메서드에 접근해야 할 때 사용한다."
      ]
    },
    {
      "cell_type": "code",
      "metadata": {
        "id": "Yvv3Zy4e5m9A",
        "colab_type": "code",
        "outputId": "e46e8ab0-6c4a-413e-f654-b29834349544",
        "colab": {
          "base_uri": "https://localhost:8080/",
          "height": 35
        }
      },
      "source": [
        "class Person:\n",
        "  count = 0\n",
        "  \n",
        "  def __init__(self):\n",
        "    Person.count += 1\n",
        "\n",
        "  @classmethod\n",
        "  def print_count(cls):\n",
        "    print('{0}명 생성되었습니다.'.format(cls.count))\n",
        "\n",
        "james = Person()\n",
        "maria = Person()\n",
        "\n",
        "Person.print_count()"
      ],
      "execution_count": 0,
      "outputs": [
        {
          "output_type": "stream",
          "text": [
            "2명 생성되었습니다.\n"
          ],
          "name": "stdout"
        }
      ]
    },
    {
      "cell_type": "markdown",
      "metadata": {
        "id": "0esWK6TQ8Scg",
        "colab_type": "text"
      },
      "source": [
        "### 심사문제: 시간 클래스 만들기"
      ]
    },
    {
      "cell_type": "code",
      "metadata": {
        "id": "0pYm5ktl8YKt",
        "colab_type": "code",
        "outputId": "6ac90f9a-b313-4dad-ad2a-443919c82214",
        "colab": {
          "base_uri": "https://localhost:8080/",
          "height": 52
        }
      },
      "source": [
        "class Time:\n",
        "  # 인스턴스 속성\n",
        "    def __init__(self, hour, minute, second):\n",
        "        self.hour = hour\n",
        "        self.minute = minute\n",
        "        self.second = second\n",
        "\n",
        "    def is_time_valid(time_string):\n",
        "      hour,minute,second = map(int,time_string.split(':'))\n",
        "      return hour <= 24 and minute < 60 and second <= 60\n",
        "\n",
        "    @classmethod  \n",
        "    def from_string(cls,time_string):\n",
        "      hour,minute,second = map(int,time_string.split(':'))\n",
        "      time = cls(hour,minute,second)\n",
        "      return time\n",
        "\n",
        "time_string = input()\n",
        "\n",
        "if Time.is_time_valid(time_string):\n",
        "    t = Time.from_string(time_string)\n",
        "    print(t.hour, t.minute, t.second)\n",
        "else:\n",
        "    print('잘못된 시간 형식입니다.')\n",
        "\n",
        "#23:35:59\n",
        "#12:62:43"
      ],
      "execution_count": 0,
      "outputs": [
        {
          "output_type": "stream",
          "text": [
            "23:35:59\n",
            "23 35 59\n"
          ],
          "name": "stdout"
        }
      ]
    },
    {
      "cell_type": "code",
      "metadata": {
        "id": "okvB4cgSO2tj",
        "colab_type": "code",
        "colab": {}
      },
      "source": [
        "class Time:\n",
        "  #클래스 속성 ! = 인스턴스 속성\n",
        "  hour = 0\n",
        "  minue = 0\n",
        "  second = 0\n",
        "\n",
        "  def is_time_valid(time_string):"
      ],
      "execution_count": 0,
      "outputs": []
    },
    {
      "cell_type": "markdown",
      "metadata": {
        "id": "DnTQkXY0U-de",
        "colab_type": "text"
      },
      "source": [
        "### 상속 클래스\n",
        "\n",
        "- 말그대로 물려받는다는 의미로 베이스가 되는 물려주는 클래스를 기반클래스(base class) 혹은 부모클래스(parent class), 슈퍼 클래스(super class)라 하며, 받는 클래스는 파생 클래스(derived class)는 자식 클래스(child class), 서브 클래스(sub class) 이라 한다.\n",
        "\n",
        "- 중복 기능을 다시 만들지 않기위해 만들어졌다.\n",
        "\n",
        "```python\n",
        "class 기반클래스이름:\n",
        "  코드\n",
        "\n",
        "class 파생클래스이름(기반클래스이름):\n",
        "  코드\n",
        "```"
      ]
    },
    {
      "cell_type": "code",
      "metadata": {
        "id": "qZR0qHtaWAVu",
        "colab_type": "code",
        "colab": {}
      },
      "source": [
        "class Person:\n",
        "  def greeting(self):\n",
        "    print('안녕하세요.')\n",
        "class Student(Person):\n",
        "  def study(self):\n",
        "    print('공부하기')\n",
        "\n",
        "james = Studnet()\n",
        "#Person에 해당하는 메소드까지 이용이 가능하다.\n",
        "james.greeting()\n",
        "james.study()"
      ],
      "execution_count": 0,
      "outputs": []
    },
    {
      "cell_type": "markdown",
      "metadata": {
        "id": "xTySEOPxYISi",
        "colab_type": "text"
      },
      "source": [
        "### base class 의 속성 사용하기\n",
        "\n",
        "- super()._ _ init _ _()"
      ]
    },
    {
      "cell_type": "code",
      "metadata": {
        "id": "2AsDPvrgWqNi",
        "colab_type": "code",
        "outputId": "8671686e-7195-44c8-89ed-3e812c7ac9b7",
        "colab": {
          "base_uri": "https://localhost:8080/",
          "height": 87
        }
      },
      "source": [
        "class Person:\n",
        "  def __init__(self):\n",
        "    print('Person __init__')\n",
        "    self.hello = '안녕하세요.'\n",
        "\n",
        "class Student(Person):\n",
        "  def __init__(self):\n",
        "    print('Student __init__')\n",
        "    super().__init__()\n",
        "    self.school = '파이썬 코딩 도장'\n",
        "\n",
        "james = Student()\n",
        "print(james.school)\n",
        "print(james.hello)\n",
        "\n",
        "## Student 에서 속성을 사용하지 않을 경우 자동적으로 Person의 속성을 사용하므로, super를 쓰지 않아도 된다."
      ],
      "execution_count": 0,
      "outputs": [
        {
          "output_type": "stream",
          "text": [
            "Student __init__\n",
            "Person __init__\n",
            "파이썬 코딩 도장\n",
            "안녕하세요.\n"
          ],
          "name": "stdout"
        }
      ]
    },
    {
      "cell_type": "markdown",
      "metadata": {
        "id": "30-DC2q3Z4t2",
        "colab_type": "text"
      },
      "source": [
        "### 메소드 오버라이팅 : 원래 기능을 유지하면서 덧붙일때\n",
        "\n"
      ]
    },
    {
      "cell_type": "code",
      "metadata": {
        "id": "QApA_T9xaXRn",
        "colab_type": "code",
        "outputId": "c3a2e079-7c3b-412c-8e1e-4786a94eb36f",
        "colab": {
          "base_uri": "https://localhost:8080/",
          "height": 52
        }
      },
      "source": [
        "class Person:\n",
        "  def greeting(self):\n",
        "    print('안녕하세요')\n",
        "    \n",
        "class Student(Person):\n",
        "  def greeting(self):\n",
        "    super().greeting()\n",
        "    print('파이썬 코딩 도장')\n",
        "    \n",
        "james = Student()\n",
        "james.greeting()"
      ],
      "execution_count": 0,
      "outputs": [
        {
          "output_type": "stream",
          "text": [
            "안녕하세요\n",
            "파이썬 코딩 도장\n"
          ],
          "name": "stdout"
        }
      ]
    },
    {
      "cell_type": "markdown",
      "metadata": {
        "id": "N6sONPe2a-1D",
        "colab_type": "text"
      },
      "source": [
        "### 다중 상속 사용하기 : 여러 클래스를 상속받는 것\n",
        "```python\n",
        "class 기반클래스1:\n",
        "  코드\n",
        "\n",
        "class 기반클래스2:\n",
        "  코드\n",
        "\n",
        "class 파생클래스이름(기반1,기반2):\n",
        "\n",
        "```\n",
        "\n",
        "## 주의할 점 : 다이아몬드 상속은 하지 말기\n",
        "## 상속 검사 : 클래스.mro()"
      ]
    },
    {
      "cell_type": "code",
      "metadata": {
        "id": "ponyYM0jceUa",
        "colab_type": "code",
        "outputId": "0cbc185e-06f1-417d-9fce-34a1a89242bb",
        "colab": {
          "base_uri": "https://localhost:8080/",
          "height": 35
        }
      },
      "source": [
        "Student.mro()"
      ],
      "execution_count": 0,
      "outputs": [
        {
          "output_type": "execute_result",
          "data": {
            "text/plain": [
              "[__main__.Student, __main__.Person, object]"
            ]
          },
          "metadata": {
            "tags": []
          },
          "execution_count": 48
        }
      ]
    },
    {
      "cell_type": "markdown",
      "metadata": {
        "id": "lQFzfIsIcyxO",
        "colab_type": "text"
      },
      "source": [
        "### 추상 클래스 : 추상 클래스는 파생 클래스가 반드시 구현해야 하는 메서드를 정해줄 수 있다. 많이는 쓰지않음. 필수적이 아님"
      ]
    },
    {
      "cell_type": "code",
      "metadata": {
        "id": "oFTbkorRc1Lw",
        "colab_type": "code",
        "outputId": "5d112024-f521-4de2-f67c-11117cc61faf",
        "colab": {
          "base_uri": "https://localhost:8080/",
          "height": 52
        }
      },
      "source": [
        "from abc import *\n",
        "\n",
        "class StudentBase(metaclass = ABCMeta):\n",
        "  @abstractmethod\n",
        "  def study(self):\n",
        "    pass\n",
        "\n",
        "  @abstractmethod\n",
        "  def go_to_school(self):\n",
        "    pass\n",
        "\n",
        "class Student(StudentBase):\n",
        "  def study(self):\n",
        "    print('공부하기')\n",
        "  \n",
        "  def go_to_school(self):\n",
        "    print('학교가기')\n",
        "\n",
        "james = Student()\n",
        "james.study()\n",
        "james.go_to_school()"
      ],
      "execution_count": 0,
      "outputs": [
        {
          "output_type": "stream",
          "text": [
            "공부하기\n",
            "학교가기\n"
          ],
          "name": "stdout"
        }
      ]
    },
    {
      "cell_type": "markdown",
      "metadata": {
        "id": "b7Z_Ohnpc0iJ",
        "colab_type": "text"
      },
      "source": [
        "### 36.8 연습문제 : 리스트에 기능 추가하기"
      ]
    },
    {
      "cell_type": "code",
      "metadata": {
        "id": "RVCff8oTgp2z",
        "colab_type": "code",
        "outputId": "0b2782fc-e9b0-4c49-cf4c-8b480e52f32f",
        "colab": {
          "base_uri": "https://localhost:8080/",
          "height": 35
        }
      },
      "source": [
        "class AdvancedList(list):\n",
        "    def replace(self, old, new):\n",
        "      #self 중에 old가 있으면\n",
        "      while old in self:\n",
        "        self[self.index(old)] = new\n",
        "\n",
        "\n",
        "x = AdvancedList([1,2,3,1,2,3,1,2,3])\n",
        "x.replace(1,100)\n",
        "print(x)"
      ],
      "execution_count": 0,
      "outputs": [
        {
          "output_type": "stream",
          "text": [
            "[100, 2, 3, 100, 2, 3, 100, 2, 3]\n"
          ],
          "name": "stdout"
        }
      ]
    },
    {
      "cell_type": "markdown",
      "metadata": {
        "id": "0XgOMRyGgqT6",
        "colab_type": "text"
      },
      "source": [
        "### 36.8 심사문제: 다중 상속 사용하기"
      ]
    },
    {
      "cell_type": "code",
      "metadata": {
        "id": "I4Yep6YQgqhN",
        "colab_type": "code",
        "outputId": "b5587fec-abfd-47a9-eb59-07b78cf1a17e",
        "colab": {
          "base_uri": "https://localhost:8080/",
          "height": 105
        }
      },
      "source": [
        "class Animal:\n",
        "    def eat(self):\n",
        "        print('먹다')\n",
        "\n",
        "class Wing:\n",
        "    def flap(self):\n",
        "        print('파닥거리다')\n",
        "\n",
        "class Bird(Animal, Wing):\n",
        "    def fly(self):\n",
        "        print('날다')\n",
        "\n",
        "b = Bird()\n",
        "b.eat()\n",
        "b.flap()\n",
        "b.fly()\n",
        "print(issubclass(Bird, Animal))\n",
        "print(issubclass(Bird, Wing))"
      ],
      "execution_count": 0,
      "outputs": [
        {
          "output_type": "stream",
          "text": [
            "먹다\n",
            "파닥거리다\n",
            "날다\n",
            "True\n",
            "True\n"
          ],
          "name": "stdout"
        }
      ]
    },
    {
      "cell_type": "markdown",
      "metadata": {
        "id": "NJ-L9f4AjnRD",
        "colab_type": "text"
      },
      "source": [
        "### 예외 처리 사용하기\n",
        "\n",
        "```python\n",
        "try:\n",
        "  실행할 코드\n",
        "except:\n",
        "  예외가 발생했을 때 처리하는 코드\n",
        "```\n",
        "\n",
        "```python\n",
        "try:\n",
        "  실행할 코드\n",
        "  - 예외 발생시키기 : if 조건식 이후 raise 예외(\"에러메시지\")\n",
        "  - 위의 예외를 다시 발생시키기 : if 조건식 이후 raise\n",
        "except 특정예외이름:\n",
        "  예외가 발생했을 때 처리하는 코드\n",
        "else:\n",
        "  예외가 발생하지 않았을 때 실행할 코드\n",
        "finally:\n",
        "  예외 발생 여부와 상관없이 항상 실행할 코드\n",
        "```\n",
        "\n",
        "### 38.4 예외 만들기 (직점만들 수도 있으니 필요할 때 참고)"
      ]
    },
    {
      "cell_type": "code",
      "metadata": {
        "id": "Mowt_sWro-wh",
        "colab_type": "code",
        "outputId": "d2649ceb-b512-4468-8ee1-57a58f194d34",
        "colab": {
          "base_uri": "https://localhost:8080/",
          "height": 52
        }
      },
      "source": [
        "class NotThreeMultipleError(Exception):\n",
        "  def __init__(self):\n",
        "    super().__init__('3의 배수가 아닙니다.')\n",
        "\n",
        "def three_multiple():\n",
        "  try:\n",
        "    x = int(input('3의 배수를 입력하세요: '))\n",
        "    if x % 3 != 0:\n",
        "      raise NotThreeMultipleError\n",
        "    PRINT(X)\n",
        "  except Exception as e:\n",
        "    print('예외가 발생했습니다.',e)\n",
        "\n",
        "three_multiple()"
      ],
      "execution_count": 0,
      "outputs": [
        {
          "output_type": "stream",
          "text": [
            "3의 배수를 입력하세요: 5\n",
            "예외가 발생했습니다. 3의 배수가 아닙니다.\n"
          ],
          "name": "stdout"
        }
      ]
    },
    {
      "cell_type": "markdown",
      "metadata": {
        "id": "ZkOXYSb2tGQ6",
        "colab_type": "text"
      },
      "source": [
        "### 활용 리스트 표현식\n",
        "\n",
        "- [i for i in range(50) if i % 2 == 0]"
      ]
    },
    {
      "cell_type": "code",
      "metadata": {
        "id": "NYjPgUuKtmV4",
        "colab_type": "code",
        "colab": {}
      },
      "source": [
        "import datetime\n",
        "s1,s2 = int(s1),int(s2)\n",
        "mydelta = datetime.timedelta(seconds=s1)\n",
        "mytime = datetime.datetime.min + mydelta #datetime.datetime은 년/월/일까지 계산하게 돼서 24시가 넘는 h는 일(day)로 변환됩니다.\n",
        "h, m, s = mytime.hour, mytime.minute, mytime.second"
      ],
      "execution_count": 0,
      "outputs": []
    },
    {
      "cell_type": "code",
      "metadata": {
        "id": "Lc1ob7f_I3SQ",
        "colab_type": "code",
        "outputId": "7fffc216-7a3c-4c4d-d894-26176cb2f617",
        "colab": {
          "base_uri": "https://localhost:8080/",
          "height": 34
        }
      },
      "source": [
        "print('%d:%d:%d'% (h,m,s))"
      ],
      "execution_count": 0,
      "outputs": [
        {
          "output_type": "stream",
          "text": [
            "0:0:3\n"
          ],
          "name": "stdout"
        }
      ]
    },
    {
      "cell_type": "code",
      "metadata": {
        "id": "4nW0WHWUK2_H",
        "colab_type": "code",
        "colab": {}
      },
      "source": [
        "full_video_id = 'wON-YuA1GjA_3_63'\n",
        "#wON-YuA1GjA_3_63, W8l_ezoU8Lc_76_86\n",
        "video_id = full_video_id[0:11]\n",
        "s1,s2 = full_video_id[12:19].split('_')"
      ],
      "execution_count": 0,
      "outputs": []
    },
    {
      "cell_type": "code",
      "metadata": {
        "id": "zIuN0KyFK-v_",
        "colab_type": "code",
        "outputId": "300ba932-9a29-4365-f17c-7df9fb7c3885",
        "colab": {
          "base_uri": "https://localhost:8080/",
          "height": 34
        }
      },
      "source": [
        "print(video_id,s1,s2)\n"
      ],
      "execution_count": 0,
      "outputs": [
        {
          "output_type": "stream",
          "text": [
            "wON-YuA1GjA 3 63\n"
          ],
          "name": "stdout"
        }
      ]
    },
    {
      "cell_type": "code",
      "metadata": {
        "id": "YfRlb-P_LHup",
        "colab_type": "code",
        "colab": {}
      },
      "source": [
        "name = './Data/YouTubeClips/WEJfT-oB4v4.mp4'"
      ],
      "execution_count": 0,
      "outputs": []
    },
    {
      "cell_type": "code",
      "metadata": {
        "id": "FJ-EoQZmVHND",
        "colab_type": "code",
        "outputId": "0646604c-ec80-45bc-dcd4-c867d0b7f8e0",
        "colab": {
          "base_uri": "https://localhost:8080/",
          "height": 69
        }
      },
      "source": [
        "print (\"Saved file {}\\nExiting\".format(name[:-4] + '.npy'))\n",
        "name[-15:-4]"
      ],
      "execution_count": 0,
      "outputs": [
        {
          "output_type": "stream",
          "text": [
            "Saved file ./Data/YouTubeClips/WwON-YuA1GjA_3_63.npy\n",
            "Exiting\n"
          ],
          "name": "stdout"
        },
        {
          "output_type": "execute_result",
          "data": {
            "text/plain": [
              "'uA1GjA_3_63'"
            ]
          },
          "metadata": {
            "tags": []
          },
          "execution_count": 2
        }
      ]
    },
    {
      "cell_type": "code",
      "metadata": {
        "id": "_RLJjrQHt1Me",
        "colab_type": "code",
        "outputId": "59a36052-a09d-4078-855c-e17343b0420b",
        "colab": {
          "base_uri": "https://localhost:8080/",
          "height": 1000
        }
      },
      "source": [
        "import ast\n",
        "blacklist = []\n",
        "with open('/content/Vid2Url_Full.txt', \"r\") as opfd:\n",
        "  dictionary = ast.literal_eval(opfd.read())\n",
        "\n",
        "  for i, dict_key in enumerate (dictionary.keys()):\n",
        "    full_video_id = dictionary[dict_key]\n",
        "    if dict_key in c:\n",
        "      blacklist.append(full_video_id[:11])\n",
        "      print(full_video_id[:11])\n",
        "\n",
        "print(blacklist)"
      ],
      "execution_count": 0,
      "outputs": [
        {
          "output_type": "stream",
          "text": [
            "lv8d_qLLqsk\n",
            "lsanQj2yacs\n",
            "lsanQj2yacs\n",
            "zS50h-a8RTg\n",
            "TvBsaMgqh5s\n",
            "aGUx0QOKWXw\n",
            "4D1o4FC8YbA\n",
            "4D1o4FC8YbA\n",
            "5PpPOGU_0aA\n",
            "5U3xz9Ovmhk\n",
            "ywMLb2VfHbI\n",
            "R24RktgUi-s\n",
            "1qxMJLkHDLw\n",
            "omGWjiwxcTE\n",
            "edqyq4Q-7uU\n",
            "MWzeInQaUk4\n",
            "MWvCcwTw7Ac\n",
            "M_TP6UTrh30\n",
            "q7pOFn8s4zc\n",
            "-wa0umYJVGg\n",
            "-wa0umYJVGg\n",
            "-zOrV-5vh1A\n",
            "-wa0umYJVGg\n",
            "-wa0umYJVGg\n",
            "-wa0umYJVGg\n",
            "-wa0umYJVGg\n",
            "A_nCfAbXjoM\n",
            "4QdX5Q3qQsQ\n",
            "IBgsLmDcL78\n",
            "bAYIIlX-WWw\n",
            "nMBSDpB3WB8\n",
            "n6U-TGahwvs\n",
            "jfrrO5K_vKM\n",
            "jv-eV6jR3Qw\n",
            "jlahRlo4jlU\n",
            "3FnUTQMJVXI\n",
            "3_51FhosiVY\n",
            "3chNlP5TeO8\n",
            "X6uJyuD_Zso\n",
            "X0UJaprpxrk\n",
            "_JVxurtGIhI\n",
            "xxHx6s_DbUo\n",
            "xxHx6s_DbUo\n",
            "xxHx6s_DbUo\n",
            "xxHx6s_DbUo\n",
            "xxHx6s_DbUo\n",
            "xxHx6s_DbUo\n",
            "xxHx6s_DbUo\n",
            "o_mWZWcm2r4\n",
            "o_mWZWcm2r4\n",
            "oRBgVOiZVsc\n",
            "Gm1WnWVXYzQ\n",
            "OIg10Bl7urs\n",
            "OBLIjdMIIt8\n",
            "v-9Gx0gJmfo\n",
            "v5CeGLEnVFE\n",
            "77iDIp40m9E\n",
            "77iDIp40m9E\n",
            "77iDIp40m9E\n",
            "77iDIp40m9E\n",
            "-rkErLY0rRc\n",
            "-pUwIypksfE\n",
            "-rvjK0lE3z4\n",
            "-rkErLY0rRc\n",
            "-t-ZWaJeH-o\n",
            "-s4-6QTT7HE\n",
            "-vKO3uSG6Do\n",
            "-uT_1VDvXok\n",
            "-wa0umYJVGg\n",
            "-vg3vR86fu0\n",
            "m4D72WXFd8s\n",
            "z_qf7tOnHVg\n",
            "xxHx6s_DbUo\n",
            "xxHx6s_DbUo\n",
            "xxHx6s_DbUo\n",
            "xxHx6s_DbUo\n",
            "xxHx6s_DbUo\n",
            "xxHx6s_DbUo\n",
            "fr9H1WLcF1A\n",
            "fr9H1WLcF1A\n",
            "fr9H1WLcF1A\n",
            "2MCpA01Sn_c\n",
            "2F9jX7u5nOg\n",
            "2HpZvL-_fiY\n",
            "ItFqogTmAvQ\n",
            "a1Y73sPHKxw\n",
            "_pj2Nutu5v8\n",
            "a0g7wtBkS98\n",
            "_yUiusXxfWI\n",
            "_xf24TYgbuY\n",
            "ItFqogTmAvQ\n",
            "ItFqogTmAvQ\n",
            "FTh5zPk34bQ\n",
            "uH8ObB_dyOk\n",
            "RZL9irxnhZ0\n",
            "RiglOfJon8I\n",
            "RjpbFlOHFps\n",
            "-_hbPLsZvvo\n",
            "-_hbPLsZvvo\n",
            "-_hbPLsZvvo\n",
            "-_hbPLsZvvo\n",
            "-bjOB4zS0uE\n",
            "-dm-ds5rRaM\n",
            "-_hbPLsZvvo\n",
            "-_hbPLsZvvo\n",
            "-joBOHlg5J0\n",
            "-mAoVOhKy0c\n",
            "aM-RcQj0a7I\n",
            "ymC2bNi6-Is\n",
            "Ffv7fhL1EDY\n",
            "ul9Xvjt83eI\n",
            "-_hbPLsZvvo\n",
            "-_hbPLsZvvo\n",
            "-_hbPLsZvvo\n",
            "-_hbPLsZvvo\n",
            "-_hbPLsZvvo\n",
            "-_aaMGK6GGw\n",
            "-YI0cxuNcq8\n",
            "-Ms9tsWmhyU\n",
            "-FugkxLmGO4\n",
            "-DRy7rBg0IQ\n",
            "zulPFoY64wE\n",
            "AoNnzlGhI04\n",
            "zv2RIbUsnSw\n",
            "PCXHuseKwDc\n",
            "zr9OeyfLPPY\n",
            "PCXHuseKwDc\n",
            "PBHZtoygOYg\n",
            "PECk9A-07Pw\n",
            "V--abChiVVc\n",
            "VLBsAPZ2DDE\n",
            "VLBsAPZ2DDE\n",
            "f_CvW22Eauc\n",
            "tzd3AYTZq0U\n",
            "tn-Hoz4KbkE\n",
            "toE0QYZzJKE\n",
            "mCrRHP4LFmo\n",
            "VyBXcQ1v_cw\n",
            "sv5YlZspb30\n",
            "s_ldnx8_etY\n",
            "3opDcpPxllE\n",
            "3ytUOoa1SBE\n",
            "3zgEl-OLFKE\n",
            "aQWCKcg0VRU\n",
            "4-1gpwkD7Hc\n",
            "Puv_4NtflqE\n",
            "PslVHtXc7Tg\n",
            "VU4qLrk5axA\n",
            "BtQtRGI0F2Q\n",
            "BefkDBj5gSw\n",
            "BefkDBj5gSw\n",
            "BgoOihBb78w\n",
            "t8Nf1MK7lts\n",
            "sXyjCgR0rAc\n",
            "sZf3VDsdDPM\n",
            "5W02895vT8c\n",
            "5U3xz9Ovmhk\n",
            "F3pmw2ga244\n",
            "eyMYc-37Sk4\n",
            "5P6UU6m3cqk\n",
            "fHfpMUDrQCs\n",
            "VfqlfprZsaQ\n",
            "ViM0JjUoqRw\n",
            "s-XjRDsYuzU\n",
            "rw9h_574HxE\n",
            "rw9h_574HxE\n",
            "rq2p5ML8-WI\n",
            "qew09qQgMAg\n",
            "qRoxNXm7INc\n",
            "rw9h_574HxE\n",
            "msCidKHOh74\n",
            "mtrCf667KDk\n",
            "msCidKHOh74\n",
            "s1ZABV7AQdA\n",
            "s6QwbmWbSmw\n",
            "q5ZRMvjzhXQ\n",
            "q7pOFn8s4zc\n",
            "hEOGZoYSvT4\n",
            "HzYtvOYOEoU\n",
            "bDoCQEwghZU\n",
            "QklHhN8pQBE\n",
            "QzulzuWr0Zw\n",
            "CTIKmoEigCI\n",
            "N5wsl86P37Q\n",
            "oG6LLGi_n48\n",
            "-DKuLXYoY3g\n",
            "-Cv5LsqKUXc\n",
            "-8y1Q0rA3n8\n",
            "-7KMZQEsJW4\n",
            "-4wsuPCjDBc\n",
            "-Cv5LsqKUXc\n",
            "-AwoiGR6c8M\n",
            "-9CUm-2cui8\n",
            "-8y1Q0rA3n8\n",
            "mbesJaS6vwg\n",
            "zv2RIbUsnSw\n",
            "6sYmDT5et00\n",
            "qBFSt85-xqk\n",
            "qLwgb3F0aPU\n",
            "qOiN__I1-Zo\n",
            "DlOhXqKcLXk\n",
            "DhwrBs96Kgk\n",
            "gqxpGOHUH9k\n",
            "gtixLEvO2Us\n",
            "HkpUWzNNVt4\n",
            "HZqscSWtHmo\n",
            "b24_bb57PPk\n",
            "QVSt5USMkMg\n",
            "QHkvBU8diwU\n",
            "QGJy1K91gP4\n",
            "C2rDp6FnbP0\n",
            "ByGspTdA1ug\n",
            "CGllPWAwmUo\n",
            "CBD9h0jUq3w\n",
            "CHFXTeQWXjo\n",
            "6KS8R3RxrV8\n",
            "62I8I4sCPPQ\n",
            "ItFqogTmAvQ\n",
            "6QbhfbLUtQs\n",
            "6Q3ltyPJJMQ\n",
            "['lv8d_qLLqsk', 'lsanQj2yacs', 'lsanQj2yacs', 'zS50h-a8RTg', 'TvBsaMgqh5s', 'aGUx0QOKWXw', '4D1o4FC8YbA', '4D1o4FC8YbA', '5PpPOGU_0aA', '5U3xz9Ovmhk', 'ywMLb2VfHbI', 'R24RktgUi-s', '1qxMJLkHDLw', 'omGWjiwxcTE', 'edqyq4Q-7uU', 'MWzeInQaUk4', 'MWvCcwTw7Ac', 'M_TP6UTrh30', 'q7pOFn8s4zc', '-wa0umYJVGg', '-wa0umYJVGg', '-zOrV-5vh1A', '-wa0umYJVGg', '-wa0umYJVGg', '-wa0umYJVGg', '-wa0umYJVGg', 'A_nCfAbXjoM', '4QdX5Q3qQsQ', 'IBgsLmDcL78', 'bAYIIlX-WWw', 'nMBSDpB3WB8', 'n6U-TGahwvs', 'jfrrO5K_vKM', 'jv-eV6jR3Qw', 'jlahRlo4jlU', '3FnUTQMJVXI', '3_51FhosiVY', '3chNlP5TeO8', 'X6uJyuD_Zso', 'X0UJaprpxrk', '_JVxurtGIhI', 'xxHx6s_DbUo', 'xxHx6s_DbUo', 'xxHx6s_DbUo', 'xxHx6s_DbUo', 'xxHx6s_DbUo', 'xxHx6s_DbUo', 'xxHx6s_DbUo', 'o_mWZWcm2r4', 'o_mWZWcm2r4', 'oRBgVOiZVsc', 'Gm1WnWVXYzQ', 'OIg10Bl7urs', 'OBLIjdMIIt8', 'v-9Gx0gJmfo', 'v5CeGLEnVFE', '77iDIp40m9E', '77iDIp40m9E', '77iDIp40m9E', '77iDIp40m9E', '-rkErLY0rRc', '-pUwIypksfE', '-rvjK0lE3z4', '-rkErLY0rRc', '-t-ZWaJeH-o', '-s4-6QTT7HE', '-vKO3uSG6Do', '-uT_1VDvXok', '-wa0umYJVGg', '-vg3vR86fu0', 'm4D72WXFd8s', 'z_qf7tOnHVg', 'xxHx6s_DbUo', 'xxHx6s_DbUo', 'xxHx6s_DbUo', 'xxHx6s_DbUo', 'xxHx6s_DbUo', 'xxHx6s_DbUo', 'fr9H1WLcF1A', 'fr9H1WLcF1A', 'fr9H1WLcF1A', '2MCpA01Sn_c', '2F9jX7u5nOg', '2HpZvL-_fiY', 'ItFqogTmAvQ', 'a1Y73sPHKxw', '_pj2Nutu5v8', 'a0g7wtBkS98', '_yUiusXxfWI', '_xf24TYgbuY', 'ItFqogTmAvQ', 'ItFqogTmAvQ', 'FTh5zPk34bQ', 'uH8ObB_dyOk', 'RZL9irxnhZ0', 'RiglOfJon8I', 'RjpbFlOHFps', '-_hbPLsZvvo', '-_hbPLsZvvo', '-_hbPLsZvvo', '-_hbPLsZvvo', '-bjOB4zS0uE', '-dm-ds5rRaM', '-_hbPLsZvvo', '-_hbPLsZvvo', '-joBOHlg5J0', '-mAoVOhKy0c', 'aM-RcQj0a7I', 'ymC2bNi6-Is', 'Ffv7fhL1EDY', 'ul9Xvjt83eI', '-_hbPLsZvvo', '-_hbPLsZvvo', '-_hbPLsZvvo', '-_hbPLsZvvo', '-_hbPLsZvvo', '-_aaMGK6GGw', '-YI0cxuNcq8', '-Ms9tsWmhyU', '-FugkxLmGO4', '-DRy7rBg0IQ', 'zulPFoY64wE', 'AoNnzlGhI04', 'zv2RIbUsnSw', 'PCXHuseKwDc', 'zr9OeyfLPPY', 'PCXHuseKwDc', 'PBHZtoygOYg', 'PECk9A-07Pw', 'V--abChiVVc', 'VLBsAPZ2DDE', 'VLBsAPZ2DDE', 'f_CvW22Eauc', 'tzd3AYTZq0U', 'tn-Hoz4KbkE', 'toE0QYZzJKE', 'mCrRHP4LFmo', 'VyBXcQ1v_cw', 'sv5YlZspb30', 's_ldnx8_etY', '3opDcpPxllE', '3ytUOoa1SBE', '3zgEl-OLFKE', 'aQWCKcg0VRU', '4-1gpwkD7Hc', 'Puv_4NtflqE', 'PslVHtXc7Tg', 'VU4qLrk5axA', 'BtQtRGI0F2Q', 'BefkDBj5gSw', 'BefkDBj5gSw', 'BgoOihBb78w', 't8Nf1MK7lts', 'sXyjCgR0rAc', 'sZf3VDsdDPM', '5W02895vT8c', '5U3xz9Ovmhk', 'F3pmw2ga244', 'eyMYc-37Sk4', '5P6UU6m3cqk', 'fHfpMUDrQCs', 'VfqlfprZsaQ', 'ViM0JjUoqRw', 's-XjRDsYuzU', 'rw9h_574HxE', 'rw9h_574HxE', 'rq2p5ML8-WI', 'qew09qQgMAg', 'qRoxNXm7INc', 'rw9h_574HxE', 'msCidKHOh74', 'mtrCf667KDk', 'msCidKHOh74', 's1ZABV7AQdA', 's6QwbmWbSmw', 'q5ZRMvjzhXQ', 'q7pOFn8s4zc', 'hEOGZoYSvT4', 'HzYtvOYOEoU', 'bDoCQEwghZU', 'QklHhN8pQBE', 'QzulzuWr0Zw', 'CTIKmoEigCI', 'N5wsl86P37Q', 'oG6LLGi_n48', '-DKuLXYoY3g', '-Cv5LsqKUXc', '-8y1Q0rA3n8', '-7KMZQEsJW4', '-4wsuPCjDBc', '-Cv5LsqKUXc', '-AwoiGR6c8M', '-9CUm-2cui8', '-8y1Q0rA3n8', 'mbesJaS6vwg', 'zv2RIbUsnSw', '6sYmDT5et00', 'qBFSt85-xqk', 'qLwgb3F0aPU', 'qOiN__I1-Zo', 'DlOhXqKcLXk', 'DhwrBs96Kgk', 'gqxpGOHUH9k', 'gtixLEvO2Us', 'HkpUWzNNVt4', 'HZqscSWtHmo', 'b24_bb57PPk', 'QVSt5USMkMg', 'QHkvBU8diwU', 'QGJy1K91gP4', 'C2rDp6FnbP0', 'ByGspTdA1ug', 'CGllPWAwmUo', 'CBD9h0jUq3w', 'CHFXTeQWXjo', '6KS8R3RxrV8', '62I8I4sCPPQ', 'ItFqogTmAvQ', '6QbhfbLUtQs', '6Q3ltyPJJMQ']\n"
          ],
          "name": "stdout"
        }
      ]
    },
    {
      "cell_type": "code",
      "metadata": {
        "id": "iu5Bx80N-KOb",
        "colab_type": "code",
        "colab": {}
      },
      "source": [
        "c = ['vid45', 'vid46', 'vid40', 'vid41', 'vid42', 'vid43', 'vid1293', 'vid419', 'vid202', 'vid753', 'vid752', 'vid755', 'vid1172', 'vid611', 'vid1193', 'vid1588', 'vid1580', 'vid1451', 'vid1457', 'vid1454', 'vid171', 'vid175', 'vid176', 'vid1056', 'vid1053', 'vid1129', 'vid1904', 'vid1905', 'vid1906', 'vid1900', 'vid1901', 'vid1902', 'vid1903', 'vid1632', 'vid1633', 'vid1630', 'vid1639', 'vid573', 'vid797', 'vid793', 'vid1830', 'vid1832', 'vid313', 'vid312', 'vid315', 'vid314', 'vid31', 'vid30', 'vid33', 'vid32', 'vid35', 'vid34', 'vid37', 'vid36', 'vid39', 'vid38', 'vid1003', 'vid1776', 'vid1770', 'vid1892', 'vid1893', 'vid1896', 'vid1897', 'vid1894', 'vid1895', 'vid1332', 'vid1331', 'vid1330', 'vid148', 'vid140', 'vid143', 'vid641', 'vid1158', 'vid131', 'vid1151', 'vid1157', 'vid1155', 'vid1154', 'vid645', 'vid644', 'vid546', 'vid1809', 'vid893', 'vid896', 'vid897', 'vid22', 'vid23', 'vid20', 'vid21', 'vid26', 'vid27', 'vid24', 'vid25', 'vid28', 'vid29', 'vid183', 'vid185', 'vid188', 'vid1924', 'vid1928', 'vid554', 'vid1819', 'vid882', 'vid19', 'vid18', 'vid17', 'vid16', 'vid15', 'vid14', 'vid13', 'vid12', 'vid11', 'vid10', 'vid426', 'vid823', 'vid822', 'vid821', 'vid825', 'vid452', 'vid453', 'vid454', 'vid1318', 'vid1799', 'vid1795', 'vid1797', 'vid1559', 'vid1557', 'vid1955', 'vid1170', 'vid855', 'vid851', 'vid988', 'vid458', 'vid980', 'vid986', 'vid987', 'vid1782', 'vid1544', 'vid1542', 'vid1543', 'vid1945', 'vid1768', 'vid1769', 'vid247', 'vid246', 'vid244', 'vid537', 'vid186', 'vid241', 'vid1300', 'vid240', 'vid1309', 'vid1166', 'vid192', 'vid191', 'vid996', 'vid998', 'vid1746', 'vid1740', 'vid1741', 'vid1732', 'vid1707', 'vid1735', 'vid1573', 'vid1575', 'vid1574', 'vid1750', 'vid1753', 'vid1683', 'vid1686', 'vid1685', 'vid1372', 'vid614', 'vid1192', 'vid871', 'vid879', 'vid471', 'vid767', 'vid1629', 'vid9', 'vid8', 'vid3', 'vid2', 'vid1', 'vid7', 'vid6', 'vid5', 'vid4', 'vid1568', 'vid1968', 'vid1966', 'vid1967', 'vid1964', 'vid289', 'vid1690', 'vid1694', 'vid1696', 'vid1698', 'vid511', 'vid510', 'vid1365', 'vid1367', 'vid604', 'vid600', 'vid1187', 'vid867', 'vid862', 'vid860', 'vid463', 'vid460', 'vid467', 'vid466', 'vid468', 'vid266', 'vid260', 'vid643', 'vid269', 'vid268']"
      ],
      "execution_count": 0,
      "outputs": []
    },
    {
      "cell_type": "code",
      "metadata": {
        "id": "5F49WC3L-TpP",
        "colab_type": "code",
        "outputId": "e80b6dca-6283-4dcd-b9df-dc13c4f50c25",
        "colab": {
          "base_uri": "https://localhost:8080/",
          "height": 54
        }
      },
      "source": [
        "print(c)"
      ],
      "execution_count": 0,
      "outputs": [
        {
          "output_type": "stream",
          "text": [
            "['vid45', 'vid46', 'vid40', 'vid41', 'vid42', 'vid43', 'vid1293', 'vid419', 'vid202', 'vid753', 'vid752', 'vid755', 'vid1172', 'vid611', 'vid1193', 'vid1588', 'vid1580', 'vid1451', 'vid1457', 'vid1454', 'vid171', 'vid175', 'vid176', 'vid1056', 'vid1053', 'vid1129', 'vid1904', 'vid1905', 'vid1906', 'vid1900', 'vid1901', 'vid1902', 'vid1903', 'vid1632', 'vid1633', 'vid1630', 'vid1639', 'vid573', 'vid797', 'vid793', 'vid1830', 'vid1832', 'vid313', 'vid312', 'vid315', 'vid314', 'vid31', 'vid30', 'vid33', 'vid32', 'vid35', 'vid34', 'vid37', 'vid36', 'vid39', 'vid38', 'vid1003', 'vid1776', 'vid1770', 'vid1892', 'vid1893', 'vid1896', 'vid1897', 'vid1894', 'vid1895', 'vid1332', 'vid1331', 'vid1330', 'vid148', 'vid140', 'vid143', 'vid641', 'vid1158', 'vid131', 'vid1151', 'vid1157', 'vid1155', 'vid1154', 'vid645', 'vid644', 'vid546', 'vid1809', 'vid893', 'vid896', 'vid897', 'vid22', 'vid23', 'vid20', 'vid21', 'vid26', 'vid27', 'vid24', 'vid25', 'vid28', 'vid29', 'vid183', 'vid185', 'vid188', 'vid1924', 'vid1928', 'vid554', 'vid1819', 'vid882', 'vid19', 'vid18', 'vid17', 'vid16', 'vid15', 'vid14', 'vid13', 'vid12', 'vid11', 'vid10', 'vid426', 'vid823', 'vid822', 'vid821', 'vid825', 'vid452', 'vid453', 'vid454', 'vid1318', 'vid1799', 'vid1795', 'vid1797', 'vid1559', 'vid1557', 'vid1955', 'vid1170', 'vid855', 'vid851', 'vid988', 'vid458', 'vid980', 'vid986', 'vid987', 'vid1782', 'vid1544', 'vid1542', 'vid1543', 'vid1945', 'vid1768', 'vid1769', 'vid247', 'vid246', 'vid244', 'vid537', 'vid186', 'vid241', 'vid1300', 'vid240', 'vid1309', 'vid1166', 'vid192', 'vid191', 'vid996', 'vid998', 'vid1746', 'vid1740', 'vid1741', 'vid1732', 'vid1707', 'vid1735', 'vid1573', 'vid1575', 'vid1574', 'vid1750', 'vid1753', 'vid1683', 'vid1686', 'vid1685', 'vid1372', 'vid614', 'vid1192', 'vid871', 'vid879', 'vid471', 'vid767', 'vid1629', 'vid9', 'vid8', 'vid3', 'vid2', 'vid1', 'vid7', 'vid6', 'vid5', 'vid4', 'vid1568', 'vid1968', 'vid1966', 'vid1967', 'vid1964', 'vid289', 'vid1690', 'vid1694', 'vid1696', 'vid1698', 'vid511', 'vid510', 'vid1365', 'vid1367', 'vid604', 'vid600', 'vid1187', 'vid867', 'vid862', 'vid860', 'vid463', 'vid460', 'vid467', 'vid466', 'vid468', 'vid266', 'vid260', 'vid643', 'vid269', 'vid268']\n"
          ],
          "name": "stdout"
        }
      ]
    },
    {
      "cell_type": "code",
      "metadata": {
        "id": "DN6OPDDiD-G7",
        "colab_type": "code",
        "outputId": "1b108d93-efb4-4ec4-a59a-423e1420c390",
        "colab": {
          "base_uri": "https://localhost:8080/",
          "height": 52
        }
      },
      "source": [
        "import ast\n",
        "blacklist = []\n",
        "with open('/content/Vid2Url_Full.txt', \"r\") as opfd:\n",
        "  dictionary = ast.literal_eval(opfd.read())\n",
        "  print (len(dictionary.keys()))\n",
        "\n",
        "  for i in c:\n",
        "    try:\n",
        "      del dictionary[i]\n",
        "    except:\n",
        "      pass\n",
        "\n",
        "print(len(dictionary.keys()))"
      ],
      "execution_count": 0,
      "outputs": [
        {
          "output_type": "stream",
          "text": [
            "1970\n",
            "1752\n"
          ],
          "name": "stdout"
        }
      ]
    },
    {
      "cell_type": "code",
      "metadata": {
        "id": "BktgFzrEdWrD",
        "colab_type": "code",
        "outputId": "80f008cd-132e-4141-fb60-ff3ee227e5b0",
        "colab": {
          "base_uri": "https://localhost:8080/",
          "height": 54
        }
      },
      "source": [
        "print(dictionary)"
      ],
      "execution_count": 0,
      "outputs": [
        {
          "output_type": "stream",
          "text": [
            "{'vid642': 'ItFqogTmAvQ_281_286', 'vid1492': 'kWLNZzuo3do_262_270', 'vid1493': 'kWLNZzuo3do_31_37', 'vid1545': 'lvFYUmDSOvU_34_38', 'vid1546': 'lw7pTwpx0K0_38_48', 'vid1547': 'm1NR0uNNs5Y_104_110', 'vid1540': 'lo4KcsBN--A_0_10', 'vid1541': 'lrZxpneS6Gk_0_12', 'vid647': 'Ixw6wmoC_xg_60_70', 'vid1940': 'zFIn8DeV5PM_20_33', 'vid1941': 'zH4v_DClIoc_3_28', 'vid1942': 'zHy7pM0U49w_103_109', 'vid1943': 'zHy7pM0U49w_110_116', 'vid1944': 'zMg9dChF97A_12_38', 'vid1946': 'zSPBC8EO6dY_122_126', 'vid1947': 'zSPBC8EO6dY_132_140', 'vid944': 'UI3Cbj9fbxQ_2_23', 'vid945': 'UJKythlXAIY_17_21', 'vid946': 'UXs3eq68ZjE_194_200', 'vid947': 'UXs3eq68ZjE_209_214', 'vid940': 'TvBsaMgqh5s_61_68', 'vid941': 'TwQzFqBqgeA_0_10', 'vid942': 'TxzxPyfsSxY_0_10', 'vid943': 'UDwvax7K57c_28_35', 'vid1513': 'kquB3rIgfGk_640_645', 'vid1512': 'kquB3rIgfGk_537_544', 'vid1511': 'kquB3rIgfGk_525_532', 'vid1510': 'kquB3rIgfGk_197_202', 'vid1517': 'l57mQZvDaL4_10_30', 'vid1516': 'kzyFBlNRohs_82_88', 'vid1515': 'kuNQpRTc-hA_126_135', 'vid1514': 'krAk8WPZRL4_207_212', 'vid1519': 'lAznAeFFldg_6_10', 'vid1518': 'l5JJ2n2ggiQ_319_327', 'vid1229': 'cLNrpO6wBk4_37_47', 'vid1228': 'cJOZp2ZftCw_1_12', 'vid1739': 'rw9h_574HxE_251_254', 'vid1738': 'rw9h_574HxE_229_236', 'vid1221': 'c2a0GcoJAjw_52_73', 'vid1220': 'c2a0GcoJAjw_107_129', 'vid1223': 'c53HKs39i28_26_35', 'vid1222': 'c51L6ZxZGjQ_137_154', 'vid1225': 'c76tShLfQb0_74_81', 'vid1224': 'c75SIlAjfjg_6_14', 'vid1227': 'cFzSEIGrEfA_0_24', 'vid1226': 'cCmnN96zIeQ_14_24', 'vid1359': 'gjVBEJGHrXk_26_38', 'vid1358': 'giLxPCgLLqg_9_19', 'vid1429': 'j2Dhf-xFUxU_13_20', 'vid1428': 'j1Z890_Q3so_131_138', 'vid1355': 'ggWzbEFC-RE_1_11', 'vid1354': 'ge7OOILJA6U_20_25', 'vid1357': 'ghynaoVNwZc_1_20', 'vid1356': 'ggic669elLM_200_215', 'vid1351': 'gbUhorqLCzU_10_23', 'vid1350': 'gXVaC3gBWbc_22_30', 'vid1353': 'gbbRwBZuhzI_26_40', 'vid1352': 'gbW9f8xydks_0_10', 'vid1647': 'p69Q8lTkZTc_21_29', 'vid1646': 'p3J3TAdKAYQ_0_10', 'vid1645': 'otvx5OZHTJc_1_22', 'vid1644': 'otLEUwHao_E_140_151', 'vid1643': 'onxE6PpEXes_8_25', 'vid1642': 'onW5hJXnI5s_126_133', 'vid1641': 'onW5hJXnI5s_10_16', 'vid1640': 'omIPdpxg--4_39_46', 'vid1649': 'p6T3XrnYtFk_4_13', 'vid1648': 'p69d3UBdpR8_98_109', 'vid382': '9Q0JfdP36kI_19_27', 'vid383': '9Q0JfdP36kI_23_28', 'vid380': '9OxQ-2gR1DU_18_38', 'vid381': '9Q0JfdP36kI_167_170', 'vid386': '9VG7Elw9TDA_85_91', 'vid387': '9W6aQNcU3PA_92_103', 'vid384': '9Q0JfdP36kI_56_64', 'vid385': '9QI8cgBSGo8_28_41', 'vid1487': 'kWLNZzuo3do_222_227', 'vid388': '9WpJxn-2h1o_122_150', 'vid389': '9Wr48VFhZH8_45_50', 'vid672': 'Je3V7U5Ctj4_634_639', 'vid673': 'Je3V7U5Ctj4_760_765', 'vid670': 'Je3V7U5Ctj4_569_576', 'vid671': 'Je3V7U5Ctj4_582_587', 'vid676': 'Je3V7U5Ctj4_997_1004', 'vid677': 'Jfu-WkuCgD0_140_150', 'vid674': 'Je3V7U5Ctj4_768_773', 'vid675': 'Je3V7U5Ctj4_956_961', 'vid678': 'JhCvLmf9yr0_46_50', 'vid679': 'Jj4uYHr65H8_28_35', 'vid1486': 'kWLNZzuo3do_217_222', 'vid690': 'K-KVz3eqbnA_1_10', 'vid818': 'P6eo3LULuuc_1_11', 'vid819': 'PAN5IVvMlVc_17_23', 'vid1116': 'ZlX_Gy4HP2E_38_55', 'vid812': 'Oq3FV_zdyy0_843_855', 'vid813': 'OvRmRN1-O0Q_21_25', 'vid810': 'Okg8QYhdtvU_73_92', 'vid811': 'OpR1Er5o6IY_209_217', 'vid816': 'P2WM91LENgk_40_50', 'vid692': 'K1ZM0LSLVw8_481_487', 'vid814': 'Ow_o78zjo14_42_57', 'vid815': 'OxL9z2BzBnk_0_19', 'vid693': 'K1ZM0LSLVw8_488_494', 'vid694': 'K2LxyytY3Dw_104_112', 'vid695': 'K6xy6C-Hsa0_2_28', 'vid696': 'KFt5Zz5Mwlo_12_30', 'vid498': 'DGQL5lx-mwE_2_12', 'vid499': 'DIToA1dDwGQ_32_42', 'vid496': 'DBvSfds3FH4_84_88', 'vid497': 'DDtX5a-OgLQ_1_15', 'vid494': 'DB-3-TVjrxU_58_75', 'vid495': 'DBvSfds3FH4_76_80', 'vid492': 'D9I1Z6O_mbw_141_146', 'vid493': 'DAmOfcvfKZ0_22_32', 'vid490': 'D2FbgK_kkE8_121_151', 'vid491': 'D9I1Z6O_mbw_112_119', 'vid250': '5XxshEdcfAM_96_107', 'vid251': '5YJaS2Eswg0_22_26', 'vid252': '5dZ8PXABC30_14_20', 'vid253': '5dv8MSWlxoQ_10_40', 'vid254': '5fDBl1wT2Lk_34_39', 'vid255': '5fq9iIxxA1s_12_27', 'vid256': '5l6acVf12S4_7_13', 'vid709': 'KqKUXRHHkCc_101_105', 'vid706': 'Kf8oZGHDTt4_4_13', 'vid259': '60x_yxy7Sfw_1_7', 'vid704': 'KUc1cWKXjDc_20_30', 'vid705': 'KeSQ5Rv7eH8_73_79', 'vid702': 'KPPCwmU5OHQ_480_486', 'vid703': 'KPPCwmU5OHQ_56_62', 'vid700': 'KPPCwmU5OHQ_424_430', 'vid701': 'KPPCwmU5OHQ_467_472', 'vid926': 'TPhpsIK7pDc_25_32', 'vid927': 'TXabUVUxJqI_22_31', 'vid924': 'TIubRrkku-4_1_10', 'vid925': 'TPD5wO_LEPU_2_6', 'vid922': 'TF6LNmwDr_0_2_10', 'vid923': 'TFJ6oR89Vb8_90_107', 'vid920': 'SzEbtbNSg04_88_93', 'vid921': 'T6lPRKRpu9w_32_39', 'vid928': 'TZ860P4iTaM_10_24', 'vid929': 'TZ860P4iTaM_11_20', 'vid655': 'JIKaIriiK8w_0_15', 'vid214': '4lXdVS697DQ_10_25', 'vid215': '4s_0-zIWEog_1_15', 'vid216': '4t5POXt2e68_5_11', 'vid217': '4wT7zM8XgXQ_5_11', 'vid210': '4ge5_V-xhP0_138_142', 'vid211': '4ge5_V-xhP0_35_42', 'vid212': '4ikH9ZRcF2Q_89_105', 'vid745': 'MPuKVz3sjBA_1_12', 'vid1167': 'aHiUM8uWxxo_17_25', 'vid1164': 'aCKNdip53W4_0_25', 'vid198': '4PcL6-mjRNk_11_18', 'vid625': 'IhwPQL9dFYc_137_143', 'vid624': 'IhwPQL9dFYc_130_136', 'vid627': 'IhwPQL9dFYc_153_170', 'vid1932': 'z0Si1XxMibg_0_30', 'vid194': '4Hhdr1IPOGs_90_98', 'vid193': '4Hhdr1IPOGs_1_10', 'vid1714': 'qzQzooI4BqU_5_15', 'vid190': '47D9-U8hn5I_11_16', 'vid1500': 'kWLNZzuo3do_86_93', 'vid1501': 'kZfBt5me3Pg_2_7', 'vid1502': 'kk3TIio1-Uw_5_14', 'vid1503': 'klFyrnrUSck_13_19', 'vid1504': 'klFyrnrUSck_25_36', 'vid1505': 'klFyrnrUSck_42_46', 'vid1506': 'klFyrnrUSck_63_73', 'vid1507': 'klFyrnrUSck_79_85', 'vid1508': 'klFyrnrUSck_87_100', 'vid1509': 'klteYv1Uv9A_27_33', 'vid1716': 'r0rmrbTb7fU_98_109', 'vid1728': 'ri5AyXzxb4o_201_215', 'vid1729': 'rl1rVk_xIOs_1_16', 'vid1720': 'r4qv_BNlQNk_93_98', 'vid1721': 'rKF0ZW34FRk_41_54', 'vid1722': 'rNSAmHPYHjA_60_73', 'vid1723': 'rOic25PnIx8_1_3', 'vid1724': 'rQuNYxNmA6M_0_4', 'vid1725': 'rV5VmhY3-Sw_65_76', 'vid1726': 'rVFJzN20jhQ_27_32', 'vid1727': 'rXZy-PHtnxg_8_42', 'vid1711': 'qvg9eM4Hmzk_1_9', 'vid1710': 'qvSxiVV7jhw_0_15', 'vid1348': 'gMqKUPeTAkg_17_30', 'vid1349': 'gWRRHV7DLV0_21_31', 'vid1438': 'jDFn-1lXJ98_71_80', 'vid1439': 'jI58q6rcNLc_8_18', 'vid1342': 'gGDtPJzh_0s_30_45', 'vid1343': 'gHyXstpe_N8_116_125', 'vid1340': 'g9aZcaEg7iY_0_9', 'vid1341': 'gCra4qOrjFw_1_17', 'vid1346': 'gHzws6FpuNE_10_12', 'vid1347': 'gIvetX_oXeI_85_90', 'vid1344': 'gHyXstpe_N8_140_150', 'vid1345': 'gHyXstpe_N8_95_100', 'vid1654': 'pFSoWsocv0g_8_17', 'vid1655': 'pGCRurvXQGM_45_56', 'vid1656': 'pGsU4FekJQM_10_18', 'vid1657': 'pNelR-nHz7g_68_90', 'vid1650': 'p6cg2jWI34M_34_42', 'vid1651': 'p7IAuvd87hQ_12_19', 'vid1652': 'p9g06ktIkJg_4_11', 'vid1653': 'pDvzOLRLjPc_0_8', 'vid1658': 'pQYEZTwSVbQ_12_18', 'vid1659': 'pRpeEdMmmQ0_1_18', 'vid391': '9fkS7wqrzAY_13_25', 'vid390': '9d57lHEsLU8_1_14', 'vid393': '9uDPqigcnzw_36_46', 'vid392': '9gbUM9oHBNI_557_563', 'vid395': '9xVqwy_4pmQ_36_49', 'vid394': '9wxB1UQi0MM_18_38', 'vid397': 'A6XrTsLsUbA_4_15', 'vid396': '9zXqkHvs0po_59_65', 'vid399': 'ACOmKiJDkA4_121_128', 'vid398': 'ACK7SekJWts_140_150', 'vid661': 'JMUAylpXzG0_45_62', 'vid660': 'JM4913Fe-ic_4_15', 'vid663': 'JXSkYkiKO0I_42_46', 'vid662': 'JXSkYkiKO0I_112_116', 'vid665': 'J_evFB7RIKA_104_120', 'vid664': 'JYNzY9jmsQQ_2_10', 'vid667': 'Je3V7U5Ctj4_488_495', 'vid666': 'Jag7oTemldY_12_25', 'vid669': 'Je3V7U5Ctj4_558_563', 'vid668': 'Je3V7U5Ctj4_504_511', 'vid1236': 'cWOPC2kt_IA_8_16', 'vid1237': 'c_-eFL7Sfw4_19_35', 'vid1234': 'cUW_bXll6YM_390_395', 'vid1235': 'cUW_bXll6YM_462_469', 'vid1232': 'cSDkshD2ME0_11_14', 'vid1233': 'cSDkshD2ME0_12_15', 'vid1230': 'cM55xNJ_pfU_1_20', 'vid1231': 'cR2yi-JnGcQ_8_16', 'vid1494': 'kWLNZzuo3do_38_42', 'vid1238': 'c_XV7nPoRg8_2_12', 'vid1239': 'ceOXCFUmxzA_100_110', 'vid809': 'Okg8QYhdtvU_48_53', 'vid808': 'OfgSCMxttCc_86_92', 'vid1495': 'kWLNZzuo3do_38_47', 'vid801': 'OUII8_aOfNM_26_55', 'vid800': 'OO-5-eVEKPA_25_31', 'vid803': 'OVEe1DMsOq0_43_52', 'vid802': 'OUII8_aOfNM_60_69', 'vid805': 'O_Pst-uryQI_1_14', 'vid804': 'O_NWtDShLeg_21_25', 'vid807': 'ObBss94n3gI_35_46', 'vid806': 'OaBmAg6gz30_4_18', 'vid1490': 'kWLNZzuo3do_251_260', 'vid1491': 'kWLNZzuo3do_25_32', 'vid489': 'D1tTBncIsm8_841_848', 'vid488': 'D1tTBncIsm8_725_740', 'vid485': 'D1tTBncIsm8_198_205', 'vid484': 'D1X6qXkLjYE_41_49', 'vid487': 'D1tTBncIsm8_681_688', 'vid486': 'D1tTBncIsm8_248_254', 'vid481': 'CwPfvoqmV1Q_58_61', 'vid480': 'CulG2SMC7DU_14_25', 'vid483': 'Cxxx6wJ1jNo_0_10', 'vid482': 'Cx1We6GX4IM_0_8', 'vid719': 'LF51fban_x4_300_325', 'vid718': 'LEz0puaKNTk_38_48', 'vid249': '5XxshEdcfAM_85_100', 'vid248': '5W02895vT8c_460_470', 'vid715': 'L6dEUQ6WiHY_171_186', 'vid714': 'L6dEUQ6WiHY_136_142', 'vid245': '5U3xz9Ovmhk_99_105', 'vid243': '5U3xz9Ovmhk_214_222', 'vid242': '5QJf-l4lPJw_133_138', 'vid713': 'Kxa0mnDj0bs_15_20', 'vid712': 'Kxa0mnDj0bs_113_124', 'vid935': 'Tied-t1fFsk_15_20', 'vid934': 'TgFmoZj3NoM_10_18', 'vid937': 'Tm1HjqK0ABg_9_15', 'vid936': 'TjLCJKoot4U_43_65', 'vid931': 'Td29-SApubM_48_57', 'vid930': 'TZ860P4iTaM_15_28', 'vid933': 'Ted3imMggC0_48_58', 'vid932': 'TdYN7cePiRI_6_13', 'vid939': 'TsagxA4DKuc_28_41', 'vid938': 'TnPOZVHB3x0_45_55', 'vid97': '0lh_UWF9ZP4_50_60', 'vid96': '0lh_UWF9ZP4_38_46', 'vid95': '0lh_UWF9ZP4_27_31', 'vid94': '0lh_UWF9ZP4_21_26', 'vid93': '0lh_UWF9ZP4_215_226', 'vid92': '0lh_UWF9ZP4_199_207', 'vid91': '0lh_UWF9ZP4_191_197', 'vid90': '0lh_UWF9ZP4_183_190', 'vid99': '0lh_UWF9ZP4_71_77', 'vid98': '0lh_UWF9ZP4_62_69', 'vid1713': 'qypmR4O1Gwk_0_10', 'vid1926': 'yvfhk1kwKls_103_113', 'vid1927': 'ywHBKayhyvQ_19_28', 'vid1889': 'xpOYXbMDDBY_1_20', 'vid1888': 'xlPyHMkpaQY_1_7', 'vid1885': 'xfRIRSWy0y0_10_20', 'vid1884': 'xdhLQCYQ-nQ_50_63', 'vid1929': 'yyxtyCaEVqk_250_264', 'vid1539': 'lmCrIZeob4w_23_26', 'vid1538': 'lm0z7eLsbbw_9_23', 'vid1535': 'lfGlDg47How_361_367', 'vid1534': 'lfGlDg47How_110_115', 'vid1537': 'ljGcQocjSs4_38_60', 'vid1536': 'lfGlDg47How_93_98', 'vid1531': 'lc9bA-hvqHU_1_6', 'vid1530': 'lb8J2zCQTlo_3_8', 'vid1533': 'lexLAjh8fPA_27_31', 'vid1532': 'lcu-DwrnYY8_2_5', 'vid1085': 'YZ0-6hdQ0mU_0_3', 'vid1084': 'YXixZrSxefk_6_15', 'vid1087': 'YersIyzsOpc_15_30', 'vid1086': 'Ya-MkA187c8_36_45', 'vid1081': 'YUlG_PKzpvc_0_8', 'vid1080': 'YS1mzzhmWWA_9_16', 'vid1083': 'YXixZrSxefk_49_59', 'vid1082': 'YXixZrSxefk_17_48', 'vid1089': 'Ylb4pnW-jP4_102_113', 'vid1088': 'Yh2N6ZtRBdU_110_120', 'vid1409': 'iCiGjZEV7VI_65_75', 'vid1408': 'i3fd4nE8OCI_174_181', 'vid1401': 'ht2oIYBSoI0_9_21', 'vid1400': 'hoinj6vyQ2g_8_16', 'vid1403': 'htry5uxX0-Y_45_52', 'vid1402': 'htWPOGTagec_2_18', 'vid1405': 'i2GgBwlwV0c_24_31', 'vid1404': 'hxZ-5wELSJM_0_12', 'vid1407': 'i3cHNObcEh8_0_10', 'vid1406': 'i2sRHf9m5KM_28_42', 'vid1661': 'pUPKsHTDZTo_70_85', 'vid1660': 'pRpeEdMmmQ0_65_70', 'vid1663': 'pcjuCotJYj8_50_62', 'vid1662': 'pW9DFPqoIsI_26_50', 'vid1665': 'pfQPRXcihkI_127_138', 'vid1664': 'pdrBPJYfTC8_33_39', 'vid1667': 'pfQPRXcihkI_160_184', 'vid1666': 'pfQPRXcihkI_135_144', 'vid1669': 'po2tcrG6KzM_2_8', 'vid1668': 'pmEKZ6yVewc_0_10', 'vid1887': 'xkNDE1JL6Z8_50_59', 'vid1886': 'xgIIcPSh4EU_0_6', 'vid1881': 'x_8RiVI6rH8_41_54', 'vid1880': 'x_7BrCQdVUs_172_177', 'vid1883': 'xb-Nacm-pKc_78_82', 'vid1882': 'xaPepCVepCg_35_46', 'vid1391': 'hW8TKz2Aea4_40_50', 'vid1390': 'hSgGBHbJrmE_0_17', 'vid1393': 'hWhKdXcqYeU_3_12', 'vid1392': 'hW8TKz2Aea4_5_12', 'vid1395': 'haJn6k5zVnE_1_23', 'vid1394': 'hXn7D6-AAMA_0_9', 'vid1397': 'hcCLIzzB1jQ_1_7', 'vid1396': 'hbE29pZh76I_3_8', 'vid1399': 'hksxtbcS780_7_14', 'vid1398': 'hkkmKk9LcQk_36_43', 'vid658': 'JIoiUNOXGaI_98_104', 'vid659': 'JK1R9k1WDpc_6_15', 'vid128': '1pw5ZdRhiig_50_59', 'vid129': '1qU-kF-km1Q_6_16', 'vid126': '1kYWws89W3Y_0_5', 'vid127': '1mIyMRPV8kg_9_17', 'vid656': 'JIoiUNOXGaI_34_41', 'vid125': '1hPxGmTGarM_9_19', 'vid122': '1dfR0A_BXjw_524_532', 'vid123': '1dfR0A_BXjw_545_560', 'vid652': 'J7zb8YXrmIA_93_99', 'vid653': 'J8cP93yG1Ao_14_24', 'vid1243': 'cnsjm3fNEec_4_10', 'vid654': 'JAFGw0WRHHU_108_116', 'vid1241': 'clpgffj3sUw_1_12', 'vid1240': 'clKtfGBVI1I_15_28', 'vid1247': 'd-2C_N5anww_1_3', 'vid1246': 'cwkjJrGpoaU_30_41', 'vid1245': 'cs33MNhpRNw_16_21', 'vid1244': 'crfrKqFp0Zg_15_25', 'vid1249': 'd4AGWnHJcaY_6_19', 'vid1248': 'd1zdJO3CqVw_1_35', 'vid1719': 'r4qv_BNlQNk_119_124', 'vid124': '1dfR0A_BXjw_590_600', 'vid657': 'JIoiUNOXGaI_8_13', 'vid650': 'J3_hkgu6MGc_43_52', 'vid651': 'J4otiwOjQy8_98_112', 'vid120': '1dfR0A_BXjw_401_408', 'vid121': '1dfR0A_BXjw_441_448', 'vid1715': 'r0E-0ntoNWo_20_30', 'vid1242': 'cmQ3SiIaWy4_4_20', 'vid1717': 'r2PM0om2El8_18_25', 'vid728': 'Lr8ds5iY5uk_8_15', 'vid729': 'Lt1JijkvSKk_0_10', 'vid238': '5OuYhq6Zl0g_0_10', 'vid239': '5OvgDatToBU_0_8', 'vid720': 'LLkehH86ABY_30_36', 'vid721': 'LQ-jv8g1YVI_1_6', 'vid722': 'LSuVRWPoHr0_0_37', 'vid723': 'LYSPQqUvNO0_43_57', 'vid724': 'LacBy2NT3YQ_12_17', 'vid725': 'Li3umATsU0E_1_5', 'vid726': 'LjimLwAhAOQ_5_15', 'vid727': 'LqPIBHAmt4E_22_30', 'vid900': 'RvJH_POzxmc_10_25', 'vid901': 'S-Civm_fbK8_20_26', 'vid902': 'SFFfhAUEoj0_10_16', 'vid903': 'SJZFNwfcSOw_3_18', 'vid904': 'SKhmFSV-XB0_12_18', 'vid905': 'SRzoLVNgHoI_56_66', 'vid906': 'SULWQEAErKw_13_26', 'vid907': 'SZP3Jpbbwj0_52_59', 'vid908': 'SaOqf2d-y30_22_27', 'vid909': 'SaYwh6chmiw_15_40', 'vid1712': 'qvg9eM4Hmzk_4_10', 'vid1867': 'x68Djm_Q0GA_0_10', 'vid1866': 'x1i0UOssll8_141_151', 'vid1865': 'wzfkC2TjdeQ_0_31', 'vid1864': 'wsj_dzz33Ko_31_41', 'vid1863': 'wpUT0DNB3qs_9_19', 'vid1862': 'wn9rDTZj-m4_8_18', 'vid1861': 'wkgGxsuNVSg_34_41', 'vid1860': 'wjH72cZ0GLM_1_10', 'vid1869': 'xBW_uR3kGr4_42_55', 'vid1718': 'r2oI9Y-3wAo_21_28', 'vid834': 'PTxHJMM6hHE_0_15', 'vid835': 'PeUHy0A1GF0_105_112', 'vid836': 'PeUHy0A1GF0_114_121', 'vid837': 'PeUHy0A1GF0_122_127', 'vid830': 'PJnJMp2ZpbA_3_15', 'vid831': 'PNMsPz1701c_3_20', 'vid832': 'POv7JaE3vJ8_40_50', 'vid341': '8MVo7fje_oE_130_136', 'vid838': 'PeUHy0A1GF0_28_32', 'vid839': 'PeUHy0A1GF0_51_55', 'vid348': '8PQiaurIiDM_143_151', 'vid349': '8PQiaurIiDM_173_180', 'vid80': '0hyZ__3YhZc_598_603', 'vid81': '0hyZ__3YhZc_632_637', 'vid82': '0k1Ak8aTMVI_4_12', 'vid83': '0lh_UWF9ZP4_103_110', 'vid84': '0lh_UWF9ZP4_138_145', 'vid85': '0lh_UWF9ZP4_148_155', 'vid86': '0lh_UWF9ZP4_157_160', 'vid87': '0lh_UWF9ZP4_165_170', 'vid88': '0lh_UWF9ZP4_174_178', 'vid89': '0lh_UWF9ZP4_178_182', 'vid333': '88p7U5CnoYU_1_10', 'vid880': 'R0e8ojL0vcc_8_14', 'vid331': '88DOMJ11q2M_34_43', 'vid885': 'R3a9r8qFlhQ_0_12', 'vid884': 'R2DvpPTfl-E_20_25', 'vid887': 'RJNBxdDQOw4_13_26', 'vid334': '8BL9qmFRbd4_6_13', 'vid1528': 'lSnWhsmlGec_5_10', 'vid1529': 'labytsb3gfI_146_154', 'vid1522': 'lFdg5CWMTt0_24_28', 'vid1523': 'lFyPUgJCmtU_100_110', 'vid1520': 'lB1UPJ4leqs_0_6', 'vid1521': 'lB1UPJ4leqs_1_6', 'vid1526': 'lKpGc3SCSVw_12_20', 'vid1527': 'lR8RrUBhCQg_5_15', 'vid1524': 'lGk1MA6YP-M_36_48', 'vid1525': 'lKADopH3qFY_0_10', 'vid1092': 'YmXCfQm0_CA_277_284', 'vid1093': 'YmXCfQm0_CA_50_57', 'vid1090': 'YmXCfQm0_CA_109_120', 'vid1091': 'YmXCfQm0_CA_140_156', 'vid1096': 'YndZ9YulpTo_61_76', 'vid1097': 'YwmUgVrUJ4I_0_15', 'vid1094': 'YmXCfQm0_CA_68_75', 'vid1095': 'YmXCfQm0_CA_7_16', 'vid1098': 'Z-An1QQ66f0_13_25', 'vid1099': 'Z10_CDPQKKs_1_6', 'vid232': '5EXVeP6R3yc_105_108', 'vid233': '5HAf_INrFy0_3_25', 'vid230': '5CU2JhYM8tY_14_45', 'vid1416': 'idRc_KkInds_0_6', 'vid1417': 'idXJu0BQRvo_2_6', 'vid1414': 'iarsmqA3dck_19_25', 'vid231': '5E66Gk3V1Bc_23_30', 'vid1412': 'iTA0rWPE4nY_17_23', 'vid1413': 'iUYWdCxvJCI_2_14', 'vid1410': 'iEW-EkPQywU_61_83', 'vid1411': 'iLr7ZHAq1ro_7_11', 'vid236': '5K7Ru5s6YIw_8_11', 'vid1418': 'ifS2nXfCyYo_4_34', 'vid237': '5L5MoemWC6g_10_13', 'vid234': '5JLi7L1Kwp8_23_30', 'vid235': '5JSbxHECb-I_97_110', 'vid1898': 'xxHx6s_DbUo_216_222', 'vid1899': 'xxHx6s_DbUo_240_248', 'vid1678': 'q-JHcsqJXWY_0_8', 'vid1679': 'q-a6NEotUX8_5_10', 'vid1676': 'pzq5fPfsPZg_29_33', 'vid1677': 'pzq5fPfsPZg_51_57', 'vid1674': 'puineN1UMto_25_29', 'vid1675': 'pzq5fPfsPZg_145_160', 'vid1672': 'psXeA8sSYdI_25_30', 'vid1673': 'ptHkvYrH9fY_2_10', 'vid1670': 'pptYu3YQnxY_160_170', 'vid1671': 'pqTWUzehCUM_42_47', 'vid1388': 'hPyU5KjpWVc_0_35', 'vid1389': 'hReROJQpSow_24_30', 'vid1386': 'hNOzHvsEmg4_31_36', 'vid1387': 'hNPZmTlY_3Q_0_8', 'vid1384': 'hM3jzlyNIpc_0_10', 'vid1385': 'hNECyt6Bo0A_5_10', 'vid1382': 'hJuqBDw_TT4_105_112', 'vid1383': 'hJuqBDw_TT4_14_25', 'vid1380': 'hJFBXHtxKIc_310_315', 'vid1381': 'hJFBXHtxKIc_317_322', 'vid649': 'J---aiyznGQ_0_6', 'vid648': 'IytNBm8WA1c_63_67', 'vid139': '2F9jX7u5nOg_114_130', 'vid138': '27mxaePkYB4_8_14', 'vid135': '229NvV0SRHw_0_5', 'vid134': '21uB8g-jDZI_70_79', 'vid137': '27hs9W89FuI_0_10', 'vid640': 'IpHJffM3G1c_464_470', 'vid646': 'Ixw6wmoC_xg_116_126', 'vid133': '1sffYOXq4Iw_23_49', 'vid132': '1rECrfrdNTo_200_207', 'vid1250': 'd7Gs0uGFLh0_5_13', 'vid1251': 'd7eGypGOlOc_13_22', 'vid1252': 'dEn5E-TNezw_13_23', 'vid1253': 'dJ3ba9zwx6c_5_15', 'vid1254': 'dJCtOz32dnw_40_60', 'vid1255': 'dJEoDaA6VXc_1_19', 'vid1256': 'dMH0bHeiRNg_3_14', 'vid1257': 'dP15zlyra3c_0_10', 'vid1258': 'dQmaVQZz7EE_1_18', 'vid1259': 'dZBIdRGKRhM_13_32', 'vid1708': 'qhknaG9ifbs_122_127', 'vid1709': 'qqYysi3qotc_148_195', 'vid737': 'M4It3DrhbE0_13_22', 'vid736': 'Lyp7MiaCXNE_114_120', 'vid735': 'LyYJiKxHZz0_0_10', 'vid734': 'Ly5D0z9gKtc_15_20', 'vid733': 'LwvyrDxM2G0_0_11', 'vid732': 'LwicaralvS0_90_104', 'vid731': 'Lw0eGsYxElA_11_14', 'vid730': 'LuQ0KiMMhoI_49_64', 'vid739': 'MHIVmf42Ao4_31_36', 'vid738': 'MF88IYF2MHY_25_59', 'vid229': '5CS4nLI2ZX8_50_59', 'vid228': '5AEldiUP408_65_71', 'vid221': '4z3b4mnw5y4_56_60', 'vid220': '4yf2WP6K1gQ_28_32', 'vid223': '5-8z5U-o4O4_0_3', 'vid222': '4zPSShqsq-o_3_16', 'vid225': '53dc4z7HLyg_16_23', 'vid224': '504gE1DA_4g_1_6', 'vid227': '57C93mpt6Xo_358_368', 'vid226': '53dc4z7HLyg_25_29', 'vid919': 'SzEbtbNSg04_71_93', 'vid918': 'SzEbtbNSg04_70_85', 'vid917': 'SzEbtbNSg04_28_48', 'vid916': 'SzEbtbNSg04_214_224', 'vid915': 'SzEbtbNSg04_111_117', 'vid914': 'SrDE9-cDz48_4_12', 'vid913': 'Sq7Vt6KC9Yg_17_35', 'vid912': 'Sj6GSmDpNDw_0_12', 'vid911': 'Sg5rTYrkpnU_35_48', 'vid910': 'ScdUht-pM6s_53_63', 'vid1874': 'xGdoi3W3Z4o_2_40', 'vid1875': 'xOQn1z_oWDY_30_39', 'vid1876': 'xPR0xFgCAZY_17_27', 'vid1877': 'xSmfK498DjI_1_20', 'vid1870': 'xBePrplM4OA_6_18', 'vid1871': 'xCFCXzDUGjY_5_9', 'vid1872': 'xEDCfcMZlZY_37_41', 'vid1873': 'xEDCfcMZlZY_91_100', 'vid1878': 'xTd_IdIcB4s_2_10', 'vid1879': 'xXlWsBhFvis_6_10', 'vid355': '8mSUD7JGNO0_174_181', 'vid354': '8jP8CC2rKj4_80_88', 'vid357': '8sARjdhSvpo_167_176', 'vid356': '8mSUD7JGNO0_198_204', 'vid351': '8PQiaurIiDM_94_99', 'vid350': '8PQiaurIiDM_247_255', 'vid353': '8e0yXMa708Y_24_33', 'vid352': '8VUbN3hkdBo_36_50', 'vid829': 'PHDmVhShE80_82_86', 'vid828': 'PHDmVhShE80_78_82', 'vid359': '8yoUaH6wGLs_22_30', 'vid358': '8yS2wqwActs_2_14', 'vid1730': 'rlQ2kW-FvMk_66_79', 'vid1737': 'rw9h_574HxE_161_166', 'vid1736': 'rw9h_574HxE_13_18', 'vid79': '0hyZ__3YhZc_575_580', 'vid78': '0hyZ__3YhZc_562_568', 'vid75': '0hyZ__3YhZc_410_417', 'vid74': '0hyZ__3YhZc_388_394', 'vid77': '0hyZ__3YhZc_485_490', 'vid76': '0hyZ__3YhZc_418_424', 'vid71': '0hyZ__3YhZc_352_356', 'vid70': '0hyZ__3YhZc_341_348', 'vid73': '0hyZ__3YhZc_380_384', 'vid72': '0hyZ__3YhZc_364_370', 'vid1868': 'x8Ul09tk6zk_0_8', 'vid346': '8MVo7fje_oE_85_90', 'vid347': '8NFoN0K3bPg_20_28', 'vid344': '8MVo7fje_oE_166_171', 'vid345': '8MVo7fje_oE_180_185', 'vid342': '8MVo7fje_oE_139_144', 'vid343': '8MVo7fje_oE_153_158', 'vid340': '8MVo7fje_oE_125_130', 'vid833': 'PQbkdRbir0M_45_53', 'vid1427': 'izU1dDwnuMY_80_92', 'vid1426': 'iyAoiWeD53k_120_127', 'vid1425': 'iwpnUHFhjWc_9_14', 'vid1424': 'iwpnUHFhjWc_84_94', 'vid1423': 'iuqVpMdb1NM_35_43', 'vid1422': 'itxzpFW1z7E_22_36', 'vid1421': 'io2dbV-Qbus_215_247', 'vid1420': 'inzk2fTUe1w_1_15', 'vid1069': 'Xvy21KrDv8I_0_10', 'vid1068': 'XtQdAPV2UZs_4_11', 'vid1067': 'Xp6rxW4hFFo_32_40', 'vid1066': 'Xh6rdpJNaf0_0_15', 'vid1065': 'XdB0pVjFYoU_1_8', 'vid1064': 'X_NLV2KCnIE_60_70', 'vid1063': 'XZ0Ch_ClBfo_120_127', 'vid1062': 'XOAgUVVwKEA_8_20', 'vid1061': 'XNzXXiE6qR4_0_10', 'vid1060': 'XNV7hKVu-Xg_40_47', 'vid1463': 'k5OKBX2e7xA_19_32', 'vid1462': 'k4hhWYtaQ14_0_10', 'vid1461': 'k06Ge9ANKM8_5_16', 'vid1460': 'k-SWy-sU8cE_5_10', 'vid1467': 'kBjUDCyDCuI_20_26', 'vid1466': 'kBMsuhDvg88_45_64', 'vid1465': 'k9Brw_0gncU_14_33', 'vid1464': 'k8l4ETsylVY_9_18', 'vid1469': 'kEGmZDpZ_RE_295_330', 'vid1468': 'kEGmZDpZ_RE_248_293', 'vid1609': 'nd0ToNwccl4_12_17', 'vid1608': 'nc8hwLaOyZU_1_19', 'vid1603': 'n_Z0-giaspE_437_447', 'vid1602': 'n_Z0-giaspE_379_387', 'vid1601': 'n_Z0-giaspE_270_278', 'vid1600': 'n_Z0-giaspE_168_193', 'vid1607': 'nc0fVlaTYEs_34_44', 'vid1606': 'nb12bAaKzvA_0_10', 'vid1605': 'nau1vCzyFQ4_37_54', 'vid1604': 'n_Z0-giaspE_62_78', 'vid108': '0xx13BuvVmo_25_36', 'vid109': '11xs9mFKObs_0_8', 'vid100': '0lh_UWF9ZP4_79_82', 'vid101': '0lh_UWF9ZP4_82_87', 'vid102': '0lh_UWF9ZP4_94_103', 'vid103': '0piwbTivpDg_10_40', 'vid104': '0sUL0KCIc48_15_25', 'vid105': '0vmoZEaN_-o_4_12', 'vid106': '0vmoZEaN_-o_5_21', 'vid107': '0wutCy2ZGOQ_4_10', 'vid1269': 'dtn0PuxgfkM_0_5', 'vid1268': 'drsPD5fI1IA_170_180', 'vid1265': 'dhxE9CNeVeY_0_12', 'vid1264': 'dfOuTx66bJU_34_39', 'vid1267': 'dq7agmFWkq0_5_9', 'vid1266': 'dmyz_f8Sx14_56_66', 'vid1261': 'dabI5gfaFm4_19_25', 'vid1260': 'd_BWuttLRFM_42_52', 'vid1263': 'dfOuTx66bJU_11_14', 'vid1262': 'dc4UltkRJsw_53_59', 'vid1117': 'ZnLgsasu82g_71_81', 'vid691': 'K-czl524zxk_6_15', 'vid1115': 'Zg0p5TXi_Cc_30_46', 'vid1114': 'ZdlG8fjGJlo_78_87', 'vid1113': 'ZdNP0dXCx2I_78_90', 'vid1112': 'ZbzDGXEwtGc_6_15', 'vid1111': 'ZbtpcGi2DWY_56_62', 'vid1110': 'ZbtpcGi2DWY_161_170', 'vid698': 'KPPCwmU5OHQ_227_238', 'vid699': 'KPPCwmU5OHQ_258_266', 'vid1119': 'Zqmx-nXhLAg_0_10', 'vid1118': 'Zoz0HcCB1vU_0_10', 'vid1287': 'eZLxohGP4IE_147_158', 'vid1286': 'eVSQiPbepXg_83_93', 'vid1285': 'eVSQiPbepXg_44_49', 'vid1284': 'eTnlw7v8ea0_36_50', 'vid1283': 'ePujnD4qJO0_62_77', 'vid1282': 'eKtsMfmQ_0s_61_68', 'vid1281': 'e996zZ0uV_A_68_72', 'vid1280': 'e996zZ0uV_A_196_204', 'vid1289': 'eZLxohGP4IE_190_201', 'vid1288': 'eZLxohGP4IE_15_25', 'vid742': 'MJNStEgDKXU_3_10', 'vid743': 'MJoxGpEswOI_9_16', 'vid740': 'MHWxjWwAbwM_10_25', 'vid741': 'MICawzo1MqI_3_13', 'vid746': 'MSrJTeKNzdI_32_36', 'vid747': 'MTjrZthHwJQ_2_11', 'vid744': 'MMnnqzOoMF0_68_72', 'vid213': '4kQnrKvOTNg_15_24', 'vid748': 'MTkGPfMRXtc_5_21', 'vid749': 'MW21lp833Vo_143_149', 'vid218': '4xVGpDmA4lE_23_33', 'vid219': '4yYapi-5QYQ_33_57', 'vid584': 'H1Bok7Dg7g8_21_26', 'vid585': 'H7vezmDeZaw_2_7', 'vid586': 'H9Oplnr8WcE_24_34', 'vid587': 'HAjwXjwN9-A_16_24', 'vid580': 'GtrTNldo0LI_33_46', 'vid581': 'Gw0FU733zzg_58_66', 'vid582': 'GyIs9B3A1Z0_0_7', 'vid583': 'GzlnqrzdYHU_32_40', 'vid588': 'HBCJYhUjVf0_0_9', 'vid589': 'HDcIB1e9s5A_28_34', 'vid968': 'Uc63MFVwfrs_355_372', 'vid969': 'Uc63MFVwfrs_360_372', 'vid962': 'UbmZAe5u5FI_16_23', 'vid963': 'UbmZAe5u5FI_26_33', 'vid960': 'UbmZAe5u5FI_111_115', 'vid961': 'UbmZAe5u5FI_132_141', 'vid966': 'UbmZAe5u5FI_60_70', 'vid967': 'UbmZAe5u5FI_88_98', 'vid964': 'UbmZAe5u5FI_36_40', 'vid965': 'UbmZAe5u5FI_44_55', 'vid1841': 'veE0E79dEEc_18_45', 'vid1840': 'v_tGw5gwlEw_136_152', 'vid1843': 'vloe_60s_dk_0_9', 'vid1842': 'vfktGc_qx-w_2_18', 'vid1845': 'vub04F8CWng_32_41', 'vid1844': 'vpR0L3sIvoo_15_49', 'vid1847': 'vuvpbeQak9Q_23_29', 'vid1846': 'vulNlhUI6m0_7_27', 'vid1849': 'w28TljSqtW8_64_75', 'vid1848': 'vz71JKcpeUU_0_10', 'vid360': '8yuPGwxwdPs_1_10', 'vid361': '8z-XGiU1KN4_9_17', 'vid362': '93n_oYVCLpk_9_12', 'vid363': '953PkxFNiko_82_85', 'vid364': '97JhYpoWxzY_0_4', 'vid365': '98Alrg4pFXs_148_153', 'vid366': '98shpdib9sg_55_62', 'vid367': '992zi9V3oiQ_15_17', 'vid368': '9BScZRpF7SI_31_36', 'vid369': '9Bxknsvy3jQ_53_58', 'vid68': '0hyZ__3YhZc_289_295', 'vid69': '0hyZ__3YhZc_302_307', 'vid66': '0bSz70pYAP0_5_15', 'vid67': '0hyZ__3YhZc_279_283', 'vid64': '0RWJEOScToE_414_421', 'vid65': '0SMOK2ql7Pg_5_12', 'vid62': '0NPtAv3_uVI_46_54', 'vid63': '0ONJfp95yoE_1_10', 'vid60': '0IDJG0q9j_k_1_24', 'vid61': '0M-PyX2DbZc_25_31', 'vid1636': 'ok4cM6WTA5E_120_133', 'vid1637': 'ok4cM6WTA5E_142_150', 'vid1638': 'ok4cM6WTA5E_178_184', 'vid817': 'P4IjNV3lZkQ_136_144', 'vid1078': 'YJ2aGe7CLBo_25_35', 'vid1079': 'YRSOc193Pxc_68_73', 'vid1074': 'Y4BeJ-64294_20_30', 'vid1075': 'Y4gaJn0wlDE_0_10', 'vid1076': 'YAud4eS3DoA_54_65', 'vid1077': 'YEmS8ZQIhTA_7_20', 'vid1070': 'Xwrl4htUPjo_22_38', 'vid1071': 'Xxcv5jvRmcg_39_46', 'vid1072': 'XzCcRzEa83U_1_8', 'vid1073': 'XzCcRzEa83U_39_46', 'vid1470': 'kEGmZDpZ_RE_352_370', 'vid1471': 'kI6MWZrl8v8_149_161', 'vid1472': 'kIZanu909lw_67_80', 'vid1473': 'kJY5BRCNAs4_3_6', 'vid1474': 'kKGehSw5ht8_39_45', 'vid1475': 'kNHivduxQWg_0_14', 'vid1476': 'kRNHJSc4AXE_220_228', 'vid1477': 'kSzS_lFtJDk_55_70', 'vid1478': 'kWLNZzuo3do_145_151', 'vid1479': 'kWLNZzuo3do_147_153', 'vid1618': 'nrZyPuRd5pU_85_92', 'vid1619': 'nwk4m329bLw_2_10', 'vid1610': 'ngHDYzhDBk4_24_29', 'vid1611': 'ngHDYzhDBk4_5_14', 'vid1612': 'nhm_APPwhWk_6_12', 'vid1613': 'nlU3crMsbWI_19_23', 'vid1614': 'nohvigNMsbo_199_207', 'vid1615': 'nq4hG6qgyPs_184_195', 'vid1616': 'nq4hG6qgyPs_240_251', 'vid1617': 'nq4hG6qgyPs_370_377', 'vid117': '1_6V30igzIk_5_15', 'vid116': '1TjqADyYyxI_36_45', 'vid115': '1Sp2__RCT0c_11_15', 'vid114': '1RchFBCT9JU_43_53', 'vid113': '1QVn0FffExM_14_24', 'vid112': '1N_Ic2pBM1o_2_23', 'vid111': '1Dty_eGY9Ec_123_133', 'vid110': '16iNk1hLJt4_37_40', 'vid119': '1dYpcVv6n3Y_0_18', 'vid118': '1dA1RQgPN3c_72_82', 'vid1278': 'e4QGnppJ-ys_6_14', 'vid1279': 'e996zZ0uV_A_152_163', 'vid1272': 'e-j59PqJjSM_264_277', 'vid1273': 'e-j59PqJjSM_405_416', 'vid1270': 'dtwXtwJByYk_5_14', 'vid1271': 'e-j59PqJjSM_163_173', 'vid1276': 'e3XkmpNcSt4_8_19', 'vid1277': 'e40bBP0_AbE_64_67', 'vid1274': 'e-j59PqJjSM_50_98', 'vid1275': 'e-sf-hyrkTs_20_35', 'vid1104': 'Z8rTzW9Gb6Y_116_123', 'vid1105': 'ZDoy9S82ETA_5_15', 'vid1106': 'ZK4W-2ifl6I_1_28', 'vid1107': 'ZL7P_XmSnEY_205_209', 'vid1100': 'Z19zFlPah-o_6_11', 'vid708': 'KpmVL4ANieA_0_9', 'vid1102': 'Z3m9V8qPXhQ_13_24', 'vid1103': 'Z3rj9LbCOaM_0_12', 'vid687': 'JsD6uEZsIsU_45_58', 'vid686': 'JsD6uEZsIsU_1_47', 'vid685': 'JpjAgSvr42k_0_12', 'vid257': '5x_OGEdO6Z8_0_21', 'vid1108': 'ZN2_czSBSD0_240_250', 'vid1109': 'ZYaxg5NZW_g_21_27', 'vid681': 'JledeVyklPw_1_6', 'vid680': 'JktNQQnLblQ_4_9', 'vid1294': 'eiyuac7hA4A_4_47', 'vid258': '5zkCnHUnoYY_69_74', 'vid1296': 'elQqQfux7Po_12_22', 'vid1297': 'emblM4a76jg_5_15', 'vid1290': 'eb-Zp4pJLKk_2_19', 'vid1291': 'ecVwxlXc1PQ_0_12', 'vid1292': 'ecm9gf2Pgkc_1_24', 'vid1298': 'eoP-SCgYM2w_49_60', 'vid1299': 'eroAmLZ85DI_28_35', 'vid751': 'MWvCcwTw7Ac_154_181', 'vid750': 'MW21lp833Vo_8_16', 'vid754': 'MY-rGamtAJc_6_22', 'vid757': 'MoqC84sXu88_47_59', 'vid756': 'MdOAr_4FJvc_5_15', 'vid759': 'MrMG15y3rWU_5_13', 'vid758': 'MqS82kBtUHQ_0_12', 'vid209': '4eJJF11bIxM_1_9', 'vid208': '4cgzdXlJksU_83_90', 'vid593': 'HN-ccxID8IM_3_10', 'vid592': 'HM-ZDoRWiH4_0_5', 'vid591': 'HJHPB_Y8GZE_259_263', 'vid590': 'HJHPB_Y8GZE_22_28', 'vid597': 'HVR7KpItLfA_62_70', 'vid596': 'HV12kTtdTT4_5_14', 'vid595': 'HPFLN5azwtA_56_63', 'vid594': 'HO_ovIrLWfQ_1_11', 'vid599': 'HZ-BuDDmvVk_0_10', 'vid598': 'HYbEf-JKZnA_13_26', 'vid979': 'UxhKb-zZoWE_0_15', 'vid978': 'UqBafx3iRKw_22_29', 'vid971': 'UdcObAQ5OOM_15_30', 'vid970': 'Ud3Qy8m6OxQ_52_62', 'vid973': 'UgUFP5baQ9Y_0_7', 'vid972': 'UgUFP5baQ9Y_0_10', 'vid975': 'UhI-p6AysWY_25_30', 'vid974': 'Ugb_uH72d0I_8_17', 'vid977': 'UoPU8F9mus8_258_262', 'vid976': 'UnWgz-mVMXU_2_6', 'vid1858': 'wgrrQwLdME8_0_10', 'vid1859': 'wgrrQwLdME8_66_74', 'vid1856': 'wSwwS_0MKEc_68_78', 'vid1857': 'wX-Bl25Htag_104_115', 'vid1854': 'wNv74rvkAw8_30_40', 'vid1855': 'wON-YuA1GjA_3_63', 'vid1852': 'wFX6bXLbHW4_83_90', 'vid1853': 'wLUH7qA_6sA_90_115', 'vid1850': 'w9mqbwOIkVg_6_12', 'vid1851': 'wFPmKChNrhU_3_11', 'vid379': '9OvXb1fot74_21_29', 'vid378': '9LSuyLyuUiM_3_6', 'vid377': '9LOJmQQktHA_10_18', 'vid376': '9LHg5RUGukI_63_68', 'vid375': '9LHg5RUGukI_58_63', 'vid374': '9IrWyZ0KZuk_160_166', 'vid373': '9HTUcMjWB3g_143_151', 'vid372': '9HTUcMjWB3g_134_138', 'vid371': '9HTUcMjWB3g_122_128', 'vid370': '9HDUADeA2xg_3_31', 'vid59': '0I4VKj4d0WI_24_40', 'vid58': '0GXq1An3yHI_22_35', 'vid53': '05gNigkqfNU_24_32', 'vid52': '05gNigkqfNU_11_23', 'vid51': '05Gtb7_9tLU_0_9', 'vid50': '04Gt01vatkk_308_321', 'vid57': '08pVpBq706k_175_212', 'vid56': '06CbMa0kDr8_3_13', 'vid55': '05gNigkqfNU_78_84', 'vid54': '05gNigkqfNU_25_34', 'vid1757': 's9TklvyLFyI_177_191', 'vid1756': 's8utHZYTNTs_35_42', 'vid1759': 'sBjr8UJOpsQ_181_195', 'vid1758': 'sBjr8UJOpsQ_149_169', 'vid1970': 'zzit5b_-ukg_5_20', 'vid405': 'ACOmKiJDkA4_23_30', 'vid404': 'ACOmKiJDkA4_20_26', 'vid951': 'UXs3eq68ZjE_255_260', 'vid406': 'ACOmKiJDkA4_47_54', 'vid401': 'ACOmKiJDkA4_146_153', 'vid400': 'ACOmKiJDkA4_130_144', 'vid403': 'ACOmKiJDkA4_175_182', 'vid402': 'ACOmKiJDkA4_161_170', 'vid1687': 'q8t7iSGAKik_11_31', 'vid1689': 'q9ew_nITQWY_54_62', 'vid1049': 'WqwcWk1In_g_46_54', 'vid1048': 'WqQonRVs7WA_0_10', 'vid1599': 'nZSFn51l3hc_660_666', 'vid1598': 'nZSFn51l3hc_480_485', 'vid1041': 'WWf0Z6ak3Dg_5_15', 'vid1040': 'WV9K6MbLjHA_106_116', 'vid1043': 'W_iR4YVCxUY_8_15', 'vid1042': 'WZTGqvbqOFE_28_34', 'vid1045': 'WinaH9SkW9c_11_38', 'vid1044': 'WeOU0Iba1Xg_1_30', 'vid1047': 'WpB4-eLyiBc_10_20', 'vid1046': 'Wnz3IevSNg0_1_8', 'vid1449': 'jcRCn7MeSbo_71_82', 'vid1448': 'jcIrD7rNvTM_10_21', 'vid1445': 'jW77z3-SrO4_56_63', 'vid1444': 'jTnrm338_KY_34_42', 'vid1447': 'jbzaMtPYtl8_48_58', 'vid1446': 'jZ8X8e7eRVk_24_27', 'vid1441': 'jMO3jGQeqyk_3_6', 'vid1440': 'jLgmCY1fEE8_16_26', 'vid1443': 'jTaLGh_MKCM_5_20', 'vid1442': 'jPBxl9gFqNY_110_117', 'vid162': '2jkExrrm_sQ_19_25', 'vid163': '2mUMTFnQWaw_1_9', 'vid160': '2YhDTpzxd3c_98_101', 'vid161': '2jXxtQRy47A_30_38', 'vid166': '30GeJHYoerk_63_75', 'vid167': '30GeJHYoerk_80_85', 'vid164': '2xpIT0L4GqE_1_10', 'vid165': '30GeJHYoerk_121_126', 'vid168': '30PpKtVT8Z4_35_50', 'vid169': '32_A0-er4Ws_16_20', 'vid1131': '_KMoC6ZdeXs_10_16', 'vid1130': '_JorUS-8Nlg_63_73', 'vid1133': '_O9kWD8nuRU_25_35', 'vid1132': '_O9kWD8nuRU_16_23', 'vid1135': '_O9kWD8nuRU_45_49', 'vid1134': '_O9kWD8nuRU_37_43', 'vid1137': '_O9kWD8nuRU_70_76', 'vid1136': '_O9kWD8nuRU_50_56', 'vid1139': '_OBlgSz8sSM_15_32', 'vid1138': '_O9kWD8nuRU_77_81', 'vid716': 'L8h2DazQZJY_0_10', 'vid1919': 'yYA7YXIKbg4_9_14', 'vid1918': 'yU5sxW9bErQ_0_17', 'vid1917': 'yREFkmrrYiw_51_57', 'vid1916': 'yPNFVj-pISU_105_115', 'vid1915': 'yOnRm3TP6hM_0_12', 'vid1914': 'yNy9jTeolUk_8_12', 'vid1913': 'yId1rg5-ac0_40_50', 'vid1912': 'yFPHhRat6bc_160_210', 'vid1911': 'yC4eEuURH8c_19_28', 'vid1101': 'Z3XarHZ3HpY_10_17', 'vid768': 'N6SglZopfmk_97_111', 'vid769': 'NFxWwI0J3As_78_84', 'vid764': 'MwOEK-KXSPc_1_10', 'vid765': 'N2Cm0SLr0ZE_18_29', 'vid766': 'N3A7944_UJw_63_70', 'vid688': 'JsmHZlUgf1w_0_21', 'vid760': 'MrQd1zUVRUM_103_110', 'vid761': 'Ms3QdGIzltU_10_20', 'vid762': 'Ms3QdGIzltU_1_16', 'vid763': 'Mutb8BHFvzk_15_20', 'vid1625': 'oBt257I-pL0_0_10', 'vid711': 'KrBeBabazDU_15_20', 'vid1627': 'oDcd2JbOyzg_85_98', 'vid1626': 'oDcd2JbOyzg_38_55', 'vid1621': 'o4OsYxsNGMI_77_82', 'vid1620': 'o2X6UCaNqKA_27_36', 'vid568': 'GY5Dl00LrEI_2_13', 'vid569': 'G_hxdUG6QXE_23_28', 'vid566': 'GWQTAe64m-0_160_166', 'vid567': 'GWQTAe64m-0_91_94', 'vid564': 'GPT4vUwlrXY_1_10', 'vid565': 'GPyFZMJ5Dow_56_70', 'vid562': 'GEXqMH8I3_w_63_68', 'vid563': 'GMuijLIJH-U_1_10', 'vid560': 'G6w6kO8UPyg_31_41', 'vid561': 'GEXqMH8I3_w_14_18', 'vid786': 'NoCgvH4xZHo_56_63', 'vid787': 'NoCgvH4xZHo_68_74', 'vid784': 'NjblUomxFQo_100_108', 'vid684': 'JntMAcTlOF0_50_70', 'vid782': 'NjCqtzZ3OtU_303_307', 'vid783': 'NjCqtzZ3OtU_62_67', 'vid780': 'Nd45qJn61Dw_0_10', 'vid781': 'Ne87egvJnWo_0_3', 'vid683': 'JnNe61UZsdM_78_88', 'vid788': 'O06WXS_XZN0_0_6', 'vid682': 'JnNe61UZsdM_42_51', 'vid1829': 'v-9Gx0gJmfo_26_32', 'vid1828': 'uy0HNWto0UY_18_25', 'vid1295': 'ejgwQqCHN1E_7_12', 'vid1823': 'uppFvcVwqqY_5_15', 'vid1822': 'unhiT2D6WvE_0_20', 'vid1821': 'umjc1CkO4JA_290_305', 'vid1820': 'ulPvRmNfXK4_96_100', 'vid1827': 'uxEhH6MPH28_69_85', 'vid1826': 'urXDqw3S34I_12_17', 'vid1825': 'urNX3e1Wbc8_30_38', 'vid1824': 'uqVCk2oDpSE_194_200', 'vid308': '71soiLO6I9U_15_24', 'vid309': '73vUksucPz8_12_20', 'vid302': '6t0BpjwYKco_53_59', 'vid303': '6t0BpjwYKco_59_69', 'vid300': '6t0BpjwYKco_261_284', 'vid301': '6t0BpjwYKco_46_53', 'vid306': '6vC6AT27RUc_29_46', 'vid307': '6vSKIUGGLvY_81_87', 'vid304': '6t0BpjwYKco_71_76', 'vid305': '6t0BpjwYKco_80_84', 'vid44': '-wa0umYJVGg_271_276', 'vid47': '00jrXRMlZOY_0_10', 'vid48': '02Z-kuB3IaM_2_13', 'vid49': '04Gt01vatkk_248_265', 'vid416': 'AQhiE_NL6yY_91_101', 'vid417': 'AX38yo7Wuws_81_91', 'vid414': 'AJJ-iQkbRNE_97_109', 'vid415': 'AKVBK-0veE8_5_12', 'vid412': 'AEKPjVHSVZc_0_12', 'vid413': 'AGRFy5hDQiY_31_38', 'vid410': 'ACOmKiJDkA4_75_81', 'vid411': 'AE9UaQwum8c_0_10', 'vid948': 'UXs3eq68ZjE_235_240', 'vid949': 'UXs3eq68ZjE_246_250', 'vid418': 'AXL1oMdCFUM_45_59', 'vid203': '4R-tumAGrtU_12_22', 'vid201': '4QdX5Q3qQsQ_38_44', 'vid1961': 'zkTn5Ef1Oig_71_75', 'vid200': '4QYPZM01xFE_14_26', 'vid207': '4_WZN7uW0NY_140_145', 'vid206': '4VLrxtf7Z_8_0_7', 'vid205': '4UOVKok7j1U_1_8', 'vid204': '4Tn5S48sCwg_110_118', 'vid626': 'IhwPQL9dFYc_143_147', 'vid610': 'HypgcCT1r68_38_46', 'vid1196': 'bL_Kijz9IN4_0_15', 'vid1195': 'bK-i_FAcpoY_86_92', 'vid1194': 'bJJndejsUWc_88_98', 'vid616': 'IEQyCcageGg_99_126', 'vid1190': 'b71bI0rH1g8_75_90', 'vid1589': 'nPj6EcVGoUY_7_15', 'vid1581': 'nBFhvrAOFqY_23_29', 'vid1582': 'nBFhvrAOFqY_89_103', 'vid1583': 'nBJV56WUDng_38_47', 'vid1584': 'nCtZFOYAlvQ_44_49', 'vid1585': 'nHZsE7T7hwI_13_23', 'vid1586': 'nLvX-erABqY_67_72', 'vid1587': 'nLz0QuerH1c_8_15', 'vid1458': 'jvxUeT1Nlb8_100_115', 'vid1459': 'jxdubZzQrio_33_46', 'vid1452': 'jjl2ZMdFCsw_130_142', 'vid1453': 'jjl2ZMdFCsw_17_35', 'vid1450': 'jdAbpLooDgM_10_15', 'vid1456': 'jsEUFYhiqxU_121_128', 'vid1455': 'jmoT2we_rqo_0_5', 'vid170': '39Ce7I6nXIw_96_104', 'vid173': '3OPQqH3YlHA_50_54', 'vid172': '3I9tSDU-OSk_17_22', 'vid174': '3SKyc0aKx70_46_52', 'vid177': '3doK4FQM5-k_46_57', 'vid179': '3ftaoFnhTyY_140_150', 'vid178': '3eqFFRSXwGE_84_96', 'vid689': 'Jxw16bqzVqE_18_28', 'vid1057': 'X7sQq-Iu1gQ_12_22', 'vid1054': 'X4yzrIc072w_4_20', 'vid1055': 'X56XkGFe7OY_47_61', 'vid1052': 'WyIqGyj21Dk_0_10', 'vid1050': 'WrsS6X-FB-I_30_47', 'vid1051': 'Wv3u2q3oGeU_35_45', 'vid1058': 'X98fLZHIzWQ_15_20', 'vid1059': 'XEOH3t5AYY0_22_29', 'vid707': 'Kms3EXosNS0_8_17', 'vid1128': '_9iG5Ge01PM_3_11', 'vid1126': '_6OTzzK7t9Y_73_78', 'vid1127': '_7nP9z6T9m8_11_17', 'vid1124': '_1vy2HIN60A_32_40', 'vid1125': '_6OTzzK7t9Y_158_170', 'vid1122': 'ZxqkAGNyo8A_12_22', 'vid1123': '_0nX-El-ySo_83_93', 'vid1120': 'ZsrPKtx0qyg_7_15', 'vid1121': 'ZvJvNcukZ4w_0_10', 'vid1908': 'y8SDRc4IOjs_94_99', 'vid1909': 'yAD_TS5L2d4_4_11', 'vid1907': 'xy9LLUUZ6ic_50_60', 'vid779': 'NbOlG7THecM_25_34', 'vid778': 'NaX51emUDn4_0_20', 'vid773': 'NUYu9c9XsgY_7_21', 'vid772': 'NNYLo1OeZ-Q_48_54', 'vid771': 'NMlKMfiHSho_1_15', 'vid770': 'NKtfKR4GNjU_0_20', 'vid777': 'NZWiKMZS_k8_39_48', 'vid776': 'NVGGgncVq-4_12_20', 'vid775': 'NVGGgncVq-4_111_117', 'vid774': 'NV6pq1W-I4g_7_16', 'vid1631': 'oSnYUfCGiCA_7_17', 'vid579': 'GopEjCCu2jo_2_9', 'vid578': 'Goj131_GxYs_2_7', 'vid1634': 'oeaVXK2GAyc_4_21', 'vid1635': 'ogcqFaNbah4_475_487', 'vid575': 'Gn4Iv5ARIXc_83_93', 'vid574': 'Gn4Iv5ARIXc_37_40', 'vid577': 'GnwKcpfr_ng_47_57', 'vid576': 'GnwKcpfr_ng_10_20', 'vid571': 'Gh4Beb8StFM_29_50', 'vid570': 'GcfWD62sbcs_13_33', 'vid572': 'GlW6n43pUQA_0_12', 'vid795': 'OCcy9TDRGKo_41_51', 'vid794': 'OCcy9TDRGKo_118_127', 'vid796': 'OE6H_M52Sng_89_97', 'vid791': 'O9yLRzpPp44_167_190', 'vid790': 'O9cOSO9L8Zs_1_16', 'vid792': 'O9yLRzpPp44_36_55', 'vid799': 'OKBLPpAPp9c_2_17', 'vid798': 'OIjsSu_I4So_6_10', 'vid1838': 'vRC9sBNt9vs_10_16', 'vid1839': 'vZa13vJugGU_0_30', 'vid1831': 'v4_AzQSnmY4_40_55', 'vid1833': 'v7NpKUVqjpI_23_40', 'vid1834': 'v7iIZXtpIb8_5_15', 'vid1835': 'vDhEpqfhVI0_0_8', 'vid1836': 'vE1gvaM3iAs_39_46', 'vid1837': 'vMoOpQQy6sI_22_55', 'vid319': '7NNg0_n-bS8_21_30', 'vid318': '7M-jsjLB20Y_11_30', 'vid311': '778mkceE0UQ_40_46', 'vid310': '74tRCYS_534_49_57', 'vid317': '7HcYJKMxpcg_20_28', 'vid316': '7EOqi_6rnkg_36_44', 'vid1415': 'ibSwITK4jjQ_14_24', 'vid953': 'UXs3eq68ZjE_313_318', 'vid952': 'UXs3eq68ZjE_280_285', 'vid407': 'ACOmKiJDkA4_49_54', 'vid950': 'UXs3eq68ZjE_250_255', 'vid957': 'UXs3eq68ZjE_49_54', 'vid956': 'UXs3eq68ZjE_498_504', 'vid955': 'UXs3eq68ZjE_382_387', 'vid954': 'UXs3eq68ZjE_320_325', 'vid959': 'UbmZAe5u5FI_101_110', 'vid958': 'UXs3eq68ZjE_508_513', 'vid409': 'ACOmKiJDkA4_67_74', 'vid408': 'ACOmKiJDkA4_57_65', 'vid1419': 'inLBPVG8oEU_18_24', 'vid638': 'IpHJffM3G1c_412_418', 'vid639': 'IpHJffM3G1c_439_446', 'vid1556': 'm1c04pCYGxA_57_64', 'vid1555': 'm1NR0uNNs5Y_88_94', 'vid1554': 'm1NR0uNNs5Y_73_78', 'vid1553': 'm1NR0uNNs5Y_57_64', 'vid1552': 'm1NR0uNNs5Y_273_280', 'vid1551': 'm1NR0uNNs5Y_224_230', 'vid1688': 'q8t7iSGAKik_57_74', 'vid1550': 'm1NR0uNNs5Y_192_198', 'vid1953': 'zYcY4mjLpxU_104_118', 'vid1952': 'zWVQImPY2Cc_27_44', 'vid1951': 'zTn-nNj5Bng_8_19', 'vid1950': 'zTn-nNj5Bng_61_77', 'vid1957': 'zbAk0gX7kas_16_24', 'vid1956': 'za-9mBZyNfQ_330_336', 'vid1954': 'zYcY4mjLpxU_45_55', 'vid1890': 'xtbsD3PUua4_174_185', 'vid1891': 'xtbsD3PUua4_84_94', 'vid1481': 'kWLNZzuo3do_154_165', 'vid1480': 'kWLNZzuo3do_152_164', 'vid1483': 'kWLNZzuo3do_17_23', 'vid1482': 'kWLNZzuo3do_167_181', 'vid1485': 'kWLNZzuo3do_206_213', 'vid1484': 'kWLNZzuo3do_192_196', 'vid1339': 'g8LUhxR-6Wg_0_8', 'vid1338': 'g36ho6UrBz0_5_20', 'vid1337': 'g2IYQq7IkXc_23_32', 'vid1336': 'g2IYQq7IkXc_124_132', 'vid1335': 'g1Gldu1KS44_8_14', 'vid1334': 'fw8qvK67jYY_50_97', 'vid1333': 'fvBs0xpEZhQ_10_30', 'vid149': '2Nn2CAeaI5k_72_77', 'vid144': '2I20ZTFHheg_96_104', 'vid145': '2KrdBUFeFtY_22_27', 'vid146': '2L4oELbX8Ms_1_12', 'vid147': '2LgrGHWSy6k_122_135', 'vid141': '2FLsMPsywRc_45_63', 'vid142': '2G9fkvBzzQE_10_20', 'vid1023': 'WTf5EgVY5uU_108_116', 'vid1022': 'WTf5EgVY5uU_104_108', 'vid1021': 'WTf5EgVY5uU_100_104', 'vid1020': 'WPG-BIWOrG4_755_761', 'vid1027': 'WTf5EgVY5uU_15_19', 'vid1026': 'WTf5EgVY5uU_130_135', 'vid1025': 'WTf5EgVY5uU_124_128', 'vid1024': 'WTf5EgVY5uU_121_135', 'vid1029': 'WTf5EgVY5uU_18_23', 'vid1028': 'WTf5EgVY5uU_16_24', 'vid1159': 'a1i6T160REQ_5_18', 'vid1153': '_txL575S_OA_13_23', 'vid1152': '_sJ_09Mf1HY_49_72', 'vid1150': '_pBeOAMjGm8_1_18', 'vid1156': 'a-cek0mvXxE_15_25', 'vid1939': 'zCf8NWJ8kzA_47_52', 'vid1938': 'zBrC1GmA0Qg_26_33', 'vid1931': 'yyxtyCaEVqk_329_360', 'vid1930': 'yyxtyCaEVqk_321_328', 'vid1933': 'z0zb--BOhDY_16_22', 'vid1935': 'z2kUc8wp9l8_40_46', 'vid1934': 'z1PEyzk4ADU_8_18', 'vid1937': 'z9qbQX4J_2g_0_14', 'vid1936': 'z8dcUzdi2bw_3_16', 'vid1702': 'qeKX-N1nKiM_133_142', 'vid1703': 'qeKX-N1nKiM_37_43', 'vid1700': 'qeKX-N1nKiM_106_115', 'vid697': 'KIEWo_xJ5nU_0_7', 'vid549': 'FXWdmIHXS_U_3_10', 'vid1701': 'qeKX-N1nKiM_123_130', 'vid540': 'FAD8CbQuvco_35_45', 'vid541': 'FCjpuJaUec0_19_26', 'vid542': 'FGjtmhI-Rmk_30_37', 'vid543': 'FH8vgAp4VDU_10_14', 'vid544': 'FHwC2THZJfA_0_10', 'vid545': 'FOOM-wA2rOY_77_86', 'vid547': 'FWzsXeXCwuc_106_110', 'vid1704': 'qeKX-N1nKiM_52_59', 'vid1705': 'qeKX-N1nKiM_68_72', 'vid1805': 'u9prcUCHlqM_73_80', 'vid1804': 'u9prcUCHlqM_503_511', 'vid1807': 'uB9zRlV47qA_17_23', 'vid1806': 'uAaWVeaYLdQ_1_12', 'vid1801': 'u4kMN1jamdM_10_20', 'vid136': '25NmudB2fqg_0_7', 'vid1803': 'u9prcUCHlqM_235_241', 'vid1802': 'u9E9HpuJQ7U_29_43', 'vid1808': 'uGDuIyfJXXg_23_33', 'vid892': 'RX6NSOuCCAE_13_27', 'vid890': 'RSx5G0_xH48_12_17', 'vid891': 'RWWvWFeE6_Q_2_26', 'vid894': 'Rf0TUCA3XNs_3_16', 'vid323': '7bcV-TL9mho_0_7', 'vid898': 'Rm-RnxN4oHA_215_225', 'vid899': 'Rq_VfjGH7kg_104_110', 'vid328': '7xNG7qGY9rw_14_29', 'vid329': '80D0ylOqPJ8_0_5', 'vid130': '1qV4wfjTYIo_151_164', 'vid430': 'Ayh26v6Nies_17_22', 'vid431': 'AysIdzGF-7M_6_14', 'vid432': 'AzMrltkXGJk_0_10', 'vid433': 'B-Lsf7ZKf5c_10_25', 'vid434': 'B4foOe9kUgY_0_8', 'vid435': 'B7mP4zoDMwM_0_17', 'vid436': 'BAf3LXFUaGs_28_38', 'vid437': 'BApIQn69EVE_10_16', 'vid438': 'BE_uxYK9uz0_150_168', 'vid439': 'BE_uxYK9uz0_49_56', 'vid180': '3lBHYoI5V8s_30_45', 'vid1174': 'aeA-HN7BMdo_16_33', 'vid1177': 'akXjIEoecNs_2_12', 'vid1176': 'aeA-HN7BMdo_52_58', 'vid1171': 'aN0WsBcja_E_0_15', 'vid1173': 'aRo8x3xXeEA_3_8', 'vid187': '3zrVqwV29V8_69_76', 'vid636': 'IiTzJQE67FA_36_46', 'vid637': 'IiTzJQE67FA_74_86', 'vid632': 'IhwPQL9dFYc_78_88', 'vid633': 'IhzXQ-gc9IQ_125_129', 'vid1328': 'fnpp8v9NbmY_181_188', 'vid1329': 'fqly5kyO2MI_10_20', 'vid1498': 'kWLNZzuo3do_76_80', 'vid1499': 'kWLNZzuo3do_77_83', 'vid1324': 'ficwZQYmRLE_5_20', 'vid1325': 'fjDvKHkmxs0_119_126', 'vid1326': 'fjDvKHkmxs0_72_87', 'vid1327': 'fkONJEgTNJY_25_35', 'vid1320': 'fcvW1vr8hAs_104_108', 'vid1321': 'fcvW1vr8hAs_96_102', 'vid1322': 'fd7Ky1lEPT8_40_50', 'vid1323': 'fgWFxFg7-GU_10_26', 'vid159': '2YhDTpzxd3c_45_49', 'vid158': '2YhDTpzxd3c_240_245', 'vid153': '2YhDTpzxd3c_149_154', 'vid152': '2YhDTpzxd3c_115_120', 'vid151': '2YhDTpzxd3c_102_105', 'vid150': '2R_OAYQIkXM_14_22', 'vid157': '2YhDTpzxd3c_22_27', 'vid156': '2YhDTpzxd3c_223_232', 'vid155': '2YhDTpzxd3c_174_180', 'vid154': '2YhDTpzxd3c_166_170', 'vid1030': 'WTf5EgVY5uU_218_236', 'vid1031': 'WTf5EgVY5uU_32_52', 'vid1032': 'WTf5EgVY5uU_33_39', 'vid1033': 'WTf5EgVY5uU_54_58', 'vid1034': 'WTf5EgVY5uU_58_76', 'vid1035': 'WTf5EgVY5uU_66_75', 'vid1036': 'WTf5EgVY5uU_76_83', 'vid1037': 'WTf5EgVY5uU_94_98', 'vid1038': 'WTf5EgVY5uU_98_104', 'vid1039': 'WTx-K045yQM_85_98', 'vid1148': '_ZwwKOzpt2I_69_76', 'vid1149': '_o1UXSxTjfo_68_80', 'vid1925': 'ysTmUTQ5wZE_17_45', 'vid1922': 'yfMTsYcLt10_0_7', 'vid1923': 'yg4aNiO1JnI_111_114', 'vid1920': 'ybVb3t560oY_0_9', 'vid1921': 'yd8jh9QYfEs_4_10', 'vid1140': '_QJbjKkfdcs_52_57', 'vid1141': '_SNE2MYAotU_41_49', 'vid1142': '_UqnTFs1BLc_23_27', 'vid1143': '_WRC7HXBJpU_360_370', 'vid1144': '_WRC7HXBJpU_386_391', 'vid1145': '_WRC7HXBJpU_395_401', 'vid1146': '_WRC7HXBJpU_414_425', 'vid1147': '_WRC7HXBJpU_451_464', 'vid557': 'FwCmcZpkk-k_22_32', 'vid556': 'FvfjDQj5sOY_1_10', 'vid555': 'FoL7aWvpvNs_199_204', 'vid553': 'FeTaKOPVaJg_60_70', 'vid552': 'FeTaKOPVaJg_15_25', 'vid551': 'Fe4tO5vW9_E_64_70', 'vid550': 'FavUpD_IjVY_22_26', 'vid559': 'G-M78KIy19E_315_330', 'vid558': 'FxIuFwMhOu8_18_26', 'vid1962': 'zlS1_zBYluY_15_21', 'vid1963': 'zpgW7m7_LZw_2_15', 'vid1812': 'uO7Eysrs8_k_80_90', 'vid1813': 'uVPnDJKt1M0_0_6', 'vid1810': 'uJPupV4oLZ0_4_12', 'vid1811': 'uO7Eysrs8_k_106_114', 'vid1816': 'ub-aYLzCF_Q_1_10', 'vid1817': 'ufFT2BWh3BQ_0_8', 'vid1814': 'uZEGu-TA2cU_42_58', 'vid1815': 'u_6tre9_99Q_13_25', 'vid1818': 'uiLr9bdOL0M_23_30', 'vid881': 'R1UrFBF_0iU_35_41', 'vid332': '88DOMJ11q2M_84_87', 'vid883': 'R24RktgUi-s_5_15', 'vid330': '81fABEiwcIM_31_45', 'vid337': '8HB7ywgJuTg_131_142', 'vid336': '8D_oQnBPfNo_43_50', 'vid335': '8CzlhZtunNc_5_11', 'vid886': 'R8FDJgVW3Vc_0_4', 'vid889': 'RQYLGNbal2c_5_10', 'vid888': 'RMznbCn5sQs_0_10', 'vid339': '8MVo7fje_oE_113_118', 'vid338': '8MVo7fje_oE_108_113', 'vid1960': 'zkTn5Ef1Oig_70_75', 'vid1489': 'kWLNZzuo3do_24_31', 'vid1488': 'kWLNZzuo3do_228_232', 'vid429': 'ArEWo8pERFc_17_21', 'vid428': 'Ar70p1_LcfM_2_20', 'vid427': 'ApYvvQK7bBc_6_32', 'vid425': 'AjZ-R3LFMzo_5_10', 'vid424': 'AjZ-R3LFMzo_24_38', 'vid423': 'AjZ-R3LFMzo_18_23', 'vid422': 'Afmc6FeN-hM_20_24', 'vid421': 'AdcgmBtE99c_108_114', 'vid420': 'Aa7yf9XtcJM_45_50', 'vid820': 'PAm82v0AMFc_5_10', 'vid827': 'PHDmVhShE80_36_46', 'vid826': 'PHDmVhShE80_20_29', 'vid1965': 'zuYZ5kPatJE_78_116', 'vid824': 'PD6eQY7yCfw_32_37', 'vid981': 'V4q5dQmpxIE_20_30', 'vid982': 'V6Fxclwdfxc_1_11', 'vid983': 'V6Fxclwdfxc_56_66', 'vid456': 'BtQEY2SL4g4_11_16', 'vid985': 'VF1K_6ZSOAY_60_70', 'vid1434': 'j7xz1nos-xc_10_20', 'vid1435': 'jCplbayVbtw_10_20', 'vid1436': 'jCplbayVbtw_28_38', 'vid1437': 'jD4o_Lmy6bU_117_137', 'vid1430': 'j2Dhf-xFUxU_20_29', 'vid1431': 'j2sOMdilDWU_87_97', 'vid1432': 'j4dMnAPZu70_11_18', 'vid1433': 'j4dMnAPZu70_12_17', 'vid1319': 'f_GnkweYzzI_35_41', 'vid1311': 'fJr2evLANsE_0_10', 'vid1310': 'fIaLVw_Gc_w_99_109', 'vid1313': 'fMFvOgb4k6E_35_43', 'vid1312': 'fKqBnl8D1Qo_5_44', 'vid1315': 'fVWUaH2mCt4_1_7', 'vid1314': 'fMXfphSi6Yw_7_12', 'vid1317': 'fY0lZTWlBAg_470_485', 'vid1316': 'fX5G_JwPlLo_640_660', 'vid1798': 'tqxRDVKtkSY_30_45', 'vid1794': 'tmAX2PnRCY0_284_292', 'vid1796': 'tn1d5DmdMqY_15_28', 'vid1791': 'tZmDWltBziM_42_47', 'vid1790': 'tYh4iDFgmEE_50_54', 'vid1793': 'tcxhOGyrCtI_15_21', 'vid1792': 'tZmDWltBziM_70_80', 'vid1009': 'W8l_ezoU8Lc_55_70', 'vid1008': 'W8l_ezoU8Lc_156_162', 'vid1558': 'm7x8uIdg2XU_67_73', 'vid1005': 'W20Btaww6zc_134_139', 'vid1004': 'W1052h2rzoA_91_98', 'vid1007': 'W8_63NiTENw_23_30', 'vid1006': 'W6_XuNhgtrM_2_5', 'vid1001': 'VuCFgiWfVF4_0_6', 'vid1000': 'Vn0Xv0fb1z4_18_30', 'vid1002': 'VxM96IYzw0Q_2_15', 'vid1777': 'swJ0zhVJ8DU_15_21', 'vid1775': 'suj4VNfZz5E_33_50', 'vid1774': 'sm0OYD0NSbQ_51_59', 'vid1773': 'shPymuahrsc_5_12', 'vid1772': 'seTkGZlEU64_81_110', 'vid1771': 'sb1dX5xAFvk_10_17', 'vid1959': 'zhLcONtNkew_16_21', 'vid1958': 'zfQOH4UGU_I_1_10', 'vid1779': 't3VPeyYL-fI_35_39', 'vid1778': 'swKrHEeOj9c_4_8', 'vid1496': 'kWLNZzuo3do_48_53', 'vid522': 'EPgQ9QwbsLE_16_23', 'vid523': 'ETUJipdnfOM_0_5', 'vid520': 'EKL6elkbFy0_16_30', 'vid521': 'EPXsiQw9vvo_1_12', 'vid526': 'Ea0thGZKPXA_25_35', 'vid527': 'Eamd2wMKixs_48_72', 'vid524': 'EVqc7e8JCco_5_15', 'vid525': 'EXyp0Q7L1zE_30_38', 'vid528': 'EdrZtaBUXIo_25_29', 'vid529': 'EiylMb_mWk4_2_20', 'vid1175': 'aeA-HN7BMdo_34_41', 'vid181': '3mbBbFH9fAg_21_29', 'vid182': '3n_Kqak2JdA_48_71', 'vid184': '3qqEKTPxLNs_1_15', 'vid189': '45AGQSbodbU_5_15', 'vid634': 'IiIiY6o-C9k_49_55', 'vid635': 'IiIiY6o-C9k_59_64', 'vid1179': 'ao-9B8IV9_E_175_187', 'vid1178': 'ao-9B8IV9_E_108_119', 'vid630': 'IhwPQL9dFYc_50_59', 'vid631': 'IhwPQL9dFYc_61_75', 'vid856': 'Q-soOsOLIGQ_0_22', 'vid857': 'Q6HuQEIJqcA_9_16', 'vid854': 'Puh1n8DTKw8_2_9', 'vid852': 'PuQVs2Ch1LY_5_15', 'vid853': 'PugziVUikEg_117_140', 'vid850': 'Pr5LQq42l4M_12_17', 'vid858': 'Q7H9mI9dtMY_20_34', 'vid859': 'QA_JTtM1hKA_5_15', 'vid548': 'FWzsXeXCwuc_111_116', 'vid989': 'VZ6H73nH7xs_27_33', 'vid459': 'BvHnDAsMtUA_0_13', 'vid450': 'BVjvRpmHg0w_47_51', 'vid451': 'BVy9SQI5R68_0_7', 'vid984': 'VF1K_6ZSOAY_23_28', 'vid457': 'BtQEY2SL4g4_126_132', 'vid455': 'BnJUWwSx1kE_11_22', 'vid1800': 'u4T76jsPin0_0_11', 'vid1593': 'nTasT5h0LEg_40_43', 'vid1592': 'nTasT5h0LEg_12_14', 'vid1591': 'nTUONeDqhdk_10_15', 'vid324': '7d1d2WlEnKs_0_12', 'vid1590': 'nS6oQxX_Qi8_2_12', 'vid325': '7s0AXJtLL0Y_57_61', 'vid1597': 'nZSFn51l3hc_318_326', 'vid326': '7uF-2adCsI0_60_67', 'vid1596': 'nYwbAb0QvBE_195_210', 'vid327': '7uOiiA4Kxbo_23_35', 'vid1595': 'nV3Wv8iHp4U_0_38', 'vid320': '7OGizkf_JEo_191_194', 'vid1594': 'nULE40HEWpA_5_11', 'vid321': '7ZE2OzguWHo_28_38', 'vid322': '7_XASfcYdBk_3_13', 'vid895': 'RieF9wrFd8s_1_8', 'vid1788': 'tYQ7O6V0Fvk_20_55', 'vid1789': 'tYh4iDFgmEE_10_14', 'vid1783': 'tBj4Ny19vfQ_54_59', 'vid1780': 't4aPGtx7e6k_0_10', 'vid1781': 't4vP-cXXWkY_14_20', 'vid1786': 'tJHUH9tpqPg_113_118', 'vid1787': 'tPkZK-PzeQE_10_28', 'vid1784': 'tHLiYTS9Iz8_1_16', 'vid1785': 'tIMDKdMnNYM_266_273', 'vid1018': 'WPG-BIWOrG4_672_677', 'vid1019': 'WPG-BIWOrG4_683_689', 'vid1548': 'm1NR0uNNs5Y_123_129', 'vid1549': 'm1NR0uNNs5Y_160_166', 'vid1012': 'WEJfT-oB4v4_20_35', 'vid1013': 'WFNXwor69-U_33_40', 'vid1010': 'W8l_ezoU8Lc_76_86', 'vid1011': 'WAa4-cctmDk_55_70', 'vid1016': 'WPG-BIWOrG4_608_613', 'vid1017': 'WPG-BIWOrG4_635_640', 'vid1014': 'WG0J2B19ZT8_1_33', 'vid1015': 'WPG-BIWOrG4_130_134', 'vid1764': 'sRKQfxxEP4M_117_125', 'vid1765': 'sT5Bzt9w354_11_34', 'vid1766': 'sTMlQSbAGfE_0_12', 'vid1767': 'sWqi41wyXcQ_68_79', 'vid1760': 'sFExO_PW22s_10_18', 'vid1761': 'sJC7E06IBXI_49_59', 'vid1762': 'sJSmRik2c-c_1_7', 'vid1763': 'sMscRb9TcQE_146_161', 'vid1948': 'zSPBC8EO6dY_64_73', 'vid1949': 'zSPBC8EO6dY_97_110', 'vid717': 'L9wD3kw-8FE_65_73', 'vid531': 'Els1Cclg_sk_4_15', 'vid530': 'EjAoBKagWQA_132_145', 'vid533': 'EqOGzNkekMk_5_15', 'vid532': 'EpMuCrbxE8A_107_115', 'vid535': 'F1BwUJ4--Qw_21_38', 'vid534': 'EwTZ2xpQwpA_14_21', 'vid536': 'F2Ny7rq9RKs_139_148', 'vid539': 'FA3OfhJK0mI_195_203', 'vid538': 'F44bLc6t7-I_1_8', 'vid710': 'Kqb-mmkEWqU_1_5', 'vid1306': 'fEsrO_poIUg_161_168', 'vid1307': 'fF89MasBFLw_321_326', 'vid1304': 'f9_bP219ehQ_63_70', 'vid1305': 'fBA_lxUiwSg_2_4', 'vid1302': 'f-24IxG9ijw_25_40', 'vid1303': 'f9Won2JpOEU_60_80', 'vid1301': 'eyhzdC936uk_15_27', 'vid1308': 'fGc6_D0JEIQ_31_46', 'vid1162': 'aA05I5QaZnM_66_75', 'vid1163': 'aC-KOYQsIvU_25_31', 'vid1160': 'a28s_wyqkyc_68_77', 'vid1161': 'a8PAY4rvzRM_1_10', 'vid629': 'IhwPQL9dFYc_24_30', 'vid628': 'IhwPQL9dFYc_171_175', 'vid199': '4PcL6-mjRNk_47_55', 'vid1165': 'aDjNl5gs4nM_18_47', 'vid197': '4PayIIIOeIs_230_238', 'vid196': '4MjTb5A68VA_111_118', 'vid195': '4JVpbYmqfcI_5_19', 'vid1169': 'aK8liAv-28s_72_82', 'vid621': 'IY1Fn796MoY_7_10', 'vid620': 'IWhrWLOAin0_1_4', 'vid623': 'IhwPQL9dFYc_124_129', 'vid622': 'I_-Nb_0RxpM_1_15', 'vid845': 'Pgm-mOQu2MM_48_62', 'vid844': 'PeUHy0A1GF0_99_103', 'vid847': 'PmrTDZy3f2M_35_39', 'vid846': 'PiyoeFC31kE_9_27', 'vid841': 'PeUHy0A1GF0_68_73', 'vid840': 'PeUHy0A1GF0_62_66', 'vid843': 'PeUHy0A1GF0_78_85', 'vid842': 'PeUHy0A1GF0_74_77', 'vid849': 'PqvKNqkGI9o_47_52', 'vid848': 'PqSZ89FqpiY_65_75', 'vid997': 'Vg1jyL3cr60_163_186', 'vid995': 'VahnQw2gTQY_322_327', 'vid994': 'VahnQw2gTQY_315_320', 'vid993': 'VahnQw2gTQY_298_305', 'vid992': 'VahnQw2gTQY_288_293', 'vid991': 'VahnQw2gTQY_274_280', 'vid990': 'VahnQw2gTQY_203_210', 'vid999': 'ViWQUOGIaSU_9_16', 'vid449': 'BVjvRpmHg0w_231_250', 'vid448': 'BVjvRpmHg0w_157_165', 'vid441': 'BIqVvRh_cEY_143_149', 'vid440': 'BGG0uYWZBdw_6_12', 'vid443': 'BOLKaQeB6j0_101_111', 'vid442': 'BLXzfdNmydQ_151_156', 'vid445': 'BR4yQFZK9YM_101_110', 'vid444': 'BOv-2HzNPaA_7_12', 'vid447': 'BVjvRpmHg0w_121_130', 'vid446': 'BVilbVCo9sU_1_11', 'vid1747': 's-dSFyz_5Ww_13_23', 'vid1744': 'ry7AUQtuwdU_4_39', 'vid1745': 's-QQWRdF-5Y_19_28', 'vid1742': 'rwHT2SuNOi8_195_201', 'vid1743': 'rwHT2SuNOi8_240_255', 'vid1706': 'qeKX-N1nKiM_74_77', 'vid1733': 'ruNrdmjcNTc_0_5', 'vid1731': 'rnawC5C8gSI_82_90', 'vid1692': 'qIXs7fUoLIg_1_11', 'vid1693': 'qIk_Dz5XE5E_104_109', 'vid1699': 'qeKX-N1nKiM_0_5', 'vid1734': 'ruoHOXo2PRQ_2_20', 'vid1579': 'n2NLoLNecgI_168_178', 'vid1578': 'n016q1w8Q30_2_11', 'vid1571': 'mmSQTI6gMNQ_120_128', 'vid1570': 'mfJjIOfj6D8_3_10', 'vid1572': 'mmSQTI6gMNQ_15_21', 'vid1577': 'mv89psg6zh4_33_46', 'vid1576': 'muI1BFsdbdo_33_45', 'vid1751': 's20OlIRK340_125_138', 'vid1752': 's20OlIRK340_147_174', 'vid1755': 's80J2dAUUyI_33_43', 'vid1754': 's7znbqra118_91_97', 'vid1209': 'bmvD4HlPFxg_20_27', 'vid1208': 'bmOy6p87TWI_26_35', 'vid1207': 'bkazguPsusc_74_85', 'vid1206': 'bb6V0Grtub4_174_185', 'vid1205': 'b_BuSVZwq6M_1_9', 'vid1204': 'bXsKw3TOQXs_30_55', 'vid1203': 'bSrpvMSuhPM_17_31', 'vid1202': 'bSIjZ75a50s_286_304', 'vid1201': 'bQJQGoJF7_k_162_169', 'vid1200': 'bQJQGoJF7_k_145_153', 'vid298': '6t0BpjwYKco_240_247', 'vid299': '6t0BpjwYKco_254_258', 'vid294': '6t0BpjwYKco_179_183', 'vid295': '6t0BpjwYKco_200_205', 'vid296': '6t0BpjwYKco_217_229', 'vid297': '6t0BpjwYKco_230_240', 'vid290': '6t0BpjwYKco_105_110', 'vid291': '6t0BpjwYKco_118_127', 'vid292': '6t0BpjwYKco_142_151', 'vid293': '6t0BpjwYKco_15_31', 'vid1682': 'q3I3R_gqy8M_73_79', 'vid1681': 'q3I3R_gqy8M_38_42', 'vid1680': 'q3I3R_gqy8M_34_37', 'vid508': 'De815YpTBic_41_48', 'vid509': 'Dgf0VHMEtNs_57_66', 'vid1684': 'q6vz80UkVtw_0_7', 'vid504': 'DKgHYLDebx0_0_8', 'vid505': 'DLcuZ-HnHZc_0_10', 'vid506': 'DN7jwyL1Xgg_1_19', 'vid507': 'DcDYRpa34W8_11_25', 'vid500': 'DIebwNHGjm8_133_148', 'vid501': 'DIebwNHGjm8_27_38', 'vid502': 'DJWmm_Q9WvY_1_25', 'vid503': 'DKZg4kIEa0A_31_36', 'vid1373': 'hFERWnoc-nU_0_12', 'vid1371': 'h0JvF9vpqx8_36_42', 'vid1370': 'h0JvF9vpqx8_213_223', 'vid1377': 'hJFBXHtxKIc_225_230', 'vid1376': 'hJFBXHtxKIc_204_209', 'vid1375': 'hJFBXHtxKIc_163_168', 'vid1374': 'hJFBXHtxKIc_118_123', 'vid1379': 'hJFBXHtxKIc_298_303', 'vid1378': 'hJFBXHtxKIc_286_291', 'vid618': 'INDhUwDMg-4_220_227', 'vid619': 'ITNh8tWZPOA_5_25', 'vid1199': 'bQJQGoJF7_k_120_126', 'vid1198': 'bQJQGoJF7_k_109_115', 'vid1197': 'bLqmf8x7rLI_2_8', 'vid612': 'I9gLTZY1ouc_142_147', 'vid613': 'IAvBB2lv8iw_142_148', 'vid615': 'ID2xXlUENG0_19_24', 'vid1191': 'b97TK8XVLHE_40_50', 'vid617': 'IHIa75B9AhI_2_26', 'vid870': 'Qjbcibrv3L0_26_32', 'vid872': 'Qp-k0H93iJE_35_39', 'vid873': 'QqYWLR47eLI_10_18', 'vid874': 'QsC8__3lwO0_50_60', 'vid875': 'QsvBYKaCXEc_5_15', 'vid876': 'Qtu-PXuvCx4_12_17', 'vid877': 'Qwn0Ni9G5ow_64_69', 'vid878': 'QzcTlEpAigQ_0_14', 'vid474': 'CcvJs77L-e8_15_22', 'vid475': 'Ce7equ9zCxk_4_19', 'vid476': 'CgWYN5e9K10_30_62', 'vid477': 'Cjf21Y19aUQ_82_86', 'vid470': 'CL49s8bO6Fg_1_11', 'vid472': 'C_1cnNdMwxY_0_8', 'vid473': 'C_DDjCRxTxQ_1_4', 'vid478': 'CjvMNwpAFWM_56_66', 'vid479': 'CquJjlNuotg_147_155', 'vid276': '6gQu8PWhFoQ_37_41', 'vid277': '6mYnZbIwcNo_10_16', 'vid274': '6eokrw6_bjU_1_9', 'vid275': '6gQu8PWhFoQ_30_35', 'vid272': '6ZhKOK08tgM_225_233', 'vid273': '6ZhKOK08tgM_45_49', 'vid270': '6RlYLTU5gvM_18_24', 'vid271': '6ZZkO14S7GY_5_15', 'vid1910': 'yBK02O1Oewc_20_35', 'vid278': '6njscWrdnM0_8_18', 'vid279': '6owu8Mow0_g_275_280', 'vid1624': 'o4pL7FObqds_72_78', 'vid1623': 'o4pL7FObqds_243_263', 'vid1622': 'o4pL7FObqds_137_147', 'vid1628': 'oFUsn1owAbs_158_168', 'vid785': 'NoCgvH4xZHo_240_251', 'vid789': 'O2qiPS2NCeY_2_18', 'vid1566': 'mYzajpeAWuA_100_112', 'vid1567': 'mZVPkPqwzR4_38_45', 'vid1564': 'mJ9eRvxjLc4_0_16', 'vid1565': 'mOZkcBcWR8o_6_12', 'vid1562': 'mFCf8lLXrUc_36_57', 'vid1563': 'mHv4iJ9Yr1g_10_16', 'vid1560': 'mF6ijhSrbBQ_32_40', 'vid1561': 'mFCf8lLXrUc_25_35', 'vid1569': 'me1D1WZ0yNM_120_124', 'vid1969': 'zxB4dFJhHR8_1_9', 'vid1218': 'bxjFqtfJlMs_18_27', 'vid1219': 'c2MwqFYVE7A_40_45', 'vid1748': 's-dSFyz_5Ww_31_41', 'vid1749': 's0hwEUC5emA_127_132', 'vid1214': 'btuxO-C2IzE_64_72', 'vid1215': 'btxCxlO1Euc_1_20', 'vid1216': 'buJ5HDCinrM_150_166', 'vid1217': 'bxDlC7YV5is_0_12', 'vid1210': 'bmxIurBrW5s_51_70', 'vid1211': 'bnN_o0Hkn3M_73_80', 'vid1212': 'bqMmyY1ImkI_0_14', 'vid1213': 'bruzcOyIGeg_4_12', 'vid288': '6sKdTbRkahM_6_12', 'vid283': '6owu8Mow0_g_692_697', 'vid282': '6owu8Mow0_g_527_534', 'vid281': '6owu8Mow0_g_384_389', 'vid280': '6owu8Mow0_g_302_307', 'vid287': '6r5DmFa5ZR8_51_58', 'vid286': '6q1dX6thX3E_286_295', 'vid285': '6pcqRuFEMLs_46_52', 'vid284': '6owu8Mow0_g_850_855', 'vid1691': 'qDjtN7xxNr4_44_51', 'vid519': 'EBWPZIjtnTM_1_6', 'vid518': 'EA-J-Y6QjUo_40_61', 'vid1695': 'qNjeEx92rTA_281_299', 'vid1697': 'qPXynwa_2iM_15_25', 'vid513': 'DvYN53KBDr0_51_62', 'vid512': 'DuMkW35BwK8_43_47', 'vid517': 'E6sqA9QtV5I_195_201', 'vid516': 'E61HNXjgyqA_22_32', 'vid515': 'E4k0Aylzdyo_97_104', 'vid514': 'E2r6nnkwl0c_6_18', 'vid1360': 'glii-kazad8_21_29', 'vid1361': 'glrijRGnmc0_211_215', 'vid1362': 'gnEE6oWoz7U_124_132', 'vid1363': 'gp8XjWSoP2k_0_10', 'vid1364': 'gqSOvUH_njE_151_155', 'vid1366': 'gtIz1u8g1F0_3_13', 'vid1368': 'gvVsgOK1iJw_32_38', 'vid1369': 'gyOVZz7kXyM_1_10', 'vid607': 'HqbVbPvlDoM_0_11', 'vid606': 'HmVPxs4ygMc_44_53', 'vid605': 'HkuOqWzXYVg_0_12', 'vid603': 'He7Ge7Sogrk_47_70', 'vid602': 'Hd-NeIhbYGc_43_48', 'vid601': 'Hd-NeIhbYGc_28_31', 'vid1168': 'aJoDt4DMkFU_118_124', 'vid609': 'HxRK-WqZ5Gk_30_50', 'vid608': 'Hu9Sq1RvuoA_19_62', 'vid1188': 'b4FM9OLBGyM_37_49', 'vid1189': 'b4mJ3AQc-ag_30_34', 'vid1184': 'ao-9B8IV9_E_87_95', 'vid1185': 'auFXfsCzAvQ_1_15', 'vid1186': 'b-d-CxHaKGU_10_30', 'vid1180': 'ao-9B8IV9_E_217_221', 'vid1181': 'ao-9B8IV9_E_37_44', 'vid1182': 'ao-9B8IV9_E_72_77', 'vid1183': 'ao-9B8IV9_E_77_81', 'vid1497': 'kWLNZzuo3do_56_62', 'vid869': 'QjI3Y8ZKSqs_30_38', 'vid868': 'QhRqJp-CgEs_7_14', 'vid866': 'QTAqjSbMkXU_65_75', 'vid865': 'QT8iCDc7NGU_18_23', 'vid864': 'QOmrchUPnBs_10_20', 'vid863': 'QMJY29QMewQ_42_52', 'vid861': 'QGgJlHi3tjw_1_15', 'vid462': 'C1MNCR1o9lU_0_7', 'vid461': 'C12BRGGcd5E_101_117', 'vid465': 'C9vRgZDxTv4_26_33', 'vid464': 'C9LHk0AJI7U_196_205', 'vid469': 'CHVhwcOg6y8_1_12', 'vid265': '6JnGBs88sL0_4_10', 'vid264': '6GJ1DNOGDAM_223_233', 'vid267': '6Lzq1HN33lE_5_15', 'vid261': '64Xn9edeWRA_0_11', 'vid263': '6FmN22YcVVE_11_18', 'vid262': '6BrHPMdyVtU_1_10'}\n"
          ],
          "name": "stdout"
        }
      ]
    },
    {
      "cell_type": "code",
      "metadata": {
        "id": "n9Eu9KO5SGgc",
        "colab_type": "code",
        "colab": {}
      },
      "source": [
        "a='./Data/YouTubeClips/WEJfT-oB4v4_20_35.npy'"
      ],
      "execution_count": 0,
      "outputs": []
    },
    {
      "cell_type": "code",
      "metadata": {
        "id": "pWNpLAt0SOEW",
        "colab_type": "code",
        "outputId": "95e82d00-c9b9-40aa-84a6-8bb1473ceb4d",
        "colab": {
          "base_uri": "https://localhost:8080/",
          "height": 34
        }
      },
      "source": [
        "print(a[20:-4])"
      ],
      "execution_count": 0,
      "outputs": [
        {
          "output_type": "stream",
          "text": [
            "WEJfT-oB4v4_20_35\n"
          ],
          "name": "stdout"
        }
      ]
    },
    {
      "cell_type": "code",
      "metadata": {
        "id": "oj0FaEoDciXQ",
        "colab_type": "code",
        "colab": {}
      },
      "source": [
        "c = ['vid1012', 'vid1013', 'vid1010', 'vid1011', 'vid1016', 'vid1017', 'vid1014', 'vid1015', 'vid1765', 'vid1767', 'vid1760', 'vid1762', 'vid1763', 'vid416', 'vid417', 'vid414', 'vid415', 'vid412', 'vid410', 'vid411', 'vid1513', 'vid1512', 'vid1511', 'vid1510', 'vid1517', 'vid1516', 'vid1514', 'vid1518', 'vid538', 'vid1228', 'vid1223', 'vid1730', 'vid1227', 'vid1226', 'vid1358', 'vid1429', 'vid1428', 'vid1355', 'vid1354', 'vid1357', 'vid1423', 'vid1353', 'vid1646', 'vid1645', 'vid1644', 'vid1643', 'vid1642', 'vid1641', 'vid1649', 'vid382', 'vid383', 'vid380', 'vid381', 'vid386', 'vid387', 'vid384', 'vid385', 'vid388', 'vid672', 'vid673', 'vid670', 'vid671', 'vid676', 'vid677', 'vid674', 'vid675', 'vid678', 'vid679', 'vid690', 'vid818', 'vid819', 'vid1116', 'vid812', 'vid813', 'vid810', 'vid811', 'vid816', 'vid815', 'vid694', 'vid695', 'vid696', 'vid498', 'vid499', 'vid496', 'vid497', 'vid494', 'vid495', 'vid493', 'vid490', 'vid251', 'vid252', 'vid253', 'vid254', 'vid255', 'vid256', 'vid706', 'vid704', 'vid702', 'vid703', 'vid700', 'vid701', 'vid927', 'vid925', 'vid922', 'vid923', 'vid920', 'vid921', 'vid742', 'vid743', 'vid740', 'vid217', 'vid212', 'vid629', 'vid628', 'vid199', 'vid197', 'vid196', 'vid195', 'vid194', 'vid621', 'vid620', 'vid623', 'vid622', 'vid1500', 'vid1502', 'vid1503', 'vid1504', 'vid1505', 'vid1506', 'vid1507', 'vid1508', 'vid1509', 'vid1728', 'vid1729', 'vid1720', 'vid1721', 'vid1722', 'vid1723', 'vid1726', 'vid1727', 'vid1348', 'vid1349', 'vid1438', 'vid1439', 'vid1342', 'vid1343', 'vid1340', 'vid1341', 'vid1347', 'vid1344', 'vid1345', 'vid1654', 'vid1656', 'vid1657', 'vid1651', 'vid1652', 'vid1653', 'vid1658', 'vid1659', 'vid391', 'vid390', 'vid392', 'vid395', 'vid394', 'vid396', 'vid399', 'vid660', 'vid663', 'vid662', 'vid665', 'vid667', 'vid666', 'vid669', 'vid668', 'vid1236', 'vid1234', 'vid1235', 'vid1232', 'vid1233', 'vid1230', 'vid1326', 'vid1239', 'vid809', 'vid808', 'vid1327', 'vid803', 'vid805', 'vid804', 'vid807', 'vid1322', 'vid1323', 'vid489', 'vid488', 'vid485', 'vid487', 'vid486', 'vid481', 'vid480', 'vid483', 'vid482', 'vid718', 'vid715', 'vid714', 'vid242', 'vid713', 'vid712', 'vid935', 'vid934', 'vid936', 'vid931', 'vid933', 'vid932', 'vid939', 'vid97', 'vid96', 'vid95', 'vid94', 'vid93', 'vid92', 'vid91', 'vid90', 'vid99', 'vid98', 'vid1149', 'vid1889', 'vid1888', 'vid1885', 'vid1884', 'vid1146', 'vid1147', 'vid1539', 'vid1535', 'vid1534', 'vid1537', 'vid1536', 'vid1530', 'vid1533', 'vid1532', 'vid1084', 'vid1087', 'vid1086', 'vid1081', 'vid1080', 'vid1083', 'vid1082', 'vid1088', 'vid1409', 'vid1408', 'vid1401', 'vid1400', 'vid1403', 'vid1402', 'vid1405', 'vid1404', 'vid1407', 'vid1406', 'vid1661', 'vid1660', 'vid1665', 'vid1664', 'vid1667', 'vid1666', 'vid1669', 'vid1668', 'vid1887', 'vid1881', 'vid1880', 'vid1883', 'vid1882', 'vid1391', 'vid1390', 'vid1393', 'vid1392', 'vid1395', 'vid1394', 'vid1397', 'vid1396', 'vid1399', 'vid658', 'vid659', 'vid128', 'vid655', 'vid656', 'vid125', 'vid122', 'vid123', 'vid652', 'vid653', 'vid1241', 'vid1716', 'vid1711', 'vid1710', 'vid1713', 'vid1712', 'vid1719', 'vid124', 'vid657', 'vid650', 'vid651', 'vid120', 'vid121', 'vid1715', 'vid1714', 'vid728', 'vid729', 'vid238', 'vid232', 'vid231', 'vid236', 'vid237', 'vid234', 'vid727', 'vid902', 'vid903', 'vid907', 'vid908', 'vid909', 'vid1244', 'vid1866', 'vid1865', 'vid1864', 'vid1863', 'vid1862', 'vid1861', 'vid1860', 'vid1869', 'vid1868', 'vid346', 'vid347', 'vid344', 'vid345', 'vid342', 'vid343', 'vid340', 'vid833', 'vid838', 'vid839', 'vid348', 'vid349', 'vid80', 'vid81', 'vid82', 'vid83', 'vid84', 'vid85', 'vid86', 'vid87', 'vid88', 'vid89', 'vid881', 'vid332', 'vid330', 'vid337', 'vid884', 'vid335', 'vid886', 'vid1217', 'vid338', 'vid1528', 'vid1529', 'vid1522', 'vid1523', 'vid1527', 'vid1525', 'vid1092', 'vid1093', 'vid1090', 'vid1091', 'vid1096', 'vid1097', 'vid1094', 'vid1095', 'vid1098', 'vid1099', 'vid233', 'vid722', 'vid1416', 'vid1417', 'vid1414', 'vid1415', 'vid1413', 'vid1410', 'vid1411', 'vid724', 'vid1418', 'vid1419', 'vid726', 'vid235', 'vid1678', 'vid1676', 'vid1677', 'vid1675', 'vid1673', 'vid1670', 'vid1671', 'vid1388', 'vid1389', 'vid1386', 'vid1387', 'vid1385', 'vid1382', 'vid1383', 'vid1380', 'vid1381', 'vid649', 'vid648', 'vid138', 'vid137', 'vid640', 'vid133', 'vid132', 'vid1250', 'vid1251', 'vid1252', 'vid1253', 'vid1254', 'vid1255', 'vid1256', 'vid1257', 'vid1258', 'vid1708', 'vid737', 'vid736', 'vid735', 'vid734', 'vid731', 'vid730', 'vid739', 'vid738', 'vid229', 'vid223', 'vid222', 'vid225', 'vid224', 'vid227', 'vid226', 'vid919', 'vid918', 'vid917', 'vid916', 'vid915', 'vid914', 'vid913', 'vid911', 'vid910', 'vid1874', 'vid1876', 'vid1877', 'vid1870', 'vid1872', 'vid1873', 'vid1878', 'vid1879', 'vid355', 'vid354', 'vid357', 'vid356', 'vid351', 'vid350', 'vid353', 'vid352', 'vid829', 'vid828', 'vid359', 'vid358', 'vid1222', 'vid1225', 'vid1224', 'vid79', 'vid78', 'vid75', 'vid74', 'vid77', 'vid76', 'vid71', 'vid70', 'vid73', 'vid72', 'vid834', 'vid835', 'vid836', 'vid837', 'vid1212', 'vid830', 'vid831', 'vid832', 'vid341', 'vid1213', 'vid1426', 'vid1425', 'vid1424', 'vid1351', 'vid1422', 'vid1214', 'vid1420', 'vid1069', 'vid1068', 'vid1067', 'vid1066', 'vid1065', 'vid1064', 'vid1062', 'vid1061', 'vid1060', 'vid1463', 'vid1462', 'vid1461', 'vid1460', 'vid1466', 'vid1465', 'vid1464', 'vid1469', 'vid1468', 'vid1216', 'vid1609', 'vid1608', 'vid1603', 'vid1602', 'vid1601', 'vid1600', 'vid1606', 'vid1605', 'vid1604', 'vid109', 'vid100', 'vid101', 'vid102', 'vid103', 'vid104', 'vid105', 'vid106', 'vid1269', 'vid1268', 'vid1265', 'vid1261', 'vid1260', 'vid1262', 'vid1117', 'vid1115', 'vid1114', 'vid1112', 'vid1111', 'vid1110', 'vid698', 'vid699', 'vid1119', 'vid1118', 'vid1287', 'vid1286', 'vid1285', 'vid1282', 'vid1281', 'vid1280', 'vid1289', 'vid1288', 'vid214', 'vid215', 'vid216', 'vid741', 'vid746', 'vid747', 'vid213', 'vid748', 'vid749', 'vid219', 'vid585', 'vid586', 'vid587', 'vid580', 'vid582', 'vid583', 'vid588', 'vid968', 'vid969', 'vid962', 'vid963', 'vid960', 'vid961', 'vid966', 'vid967', 'vid964', 'vid965', 'vid1841', 'vid1840', 'vid1843', 'vid1842', 'vid1845', 'vid1844', 'vid1847', 'vid1848', 'vid360', 'vid362', 'vid363', 'vid364', 'vid365', 'vid367', 'vid368', 'vid369', 'vid68', 'vid69', 'vid67', 'vid64', 'vid65', 'vid62', 'vid63', 'vid60', 'vid61', 'vid579', 'vid578', 'vid1320', 'vid1321', 'vid817', 'vid1078', 'vid1074', 'vid1075', 'vid1070', 'vid1072', 'vid1073', 'vid1470', 'vid1471', 'vid1472', 'vid1473', 'vid1474', 'vid1475', 'vid1477', 'vid1478', 'vid1479', 'vid1618', 'vid1619', 'vid1610', 'vid1611', 'vid1612', 'vid1613', 'vid1614', 'vid1615', 'vid1616', 'vid1617', 'vid117', 'vid116', 'vid115', 'vid114', 'vid113', 'vid111', 'vid723', 'vid1278', 'vid1279', 'vid1272', 'vid1273', 'vid1271', 'vid1276', 'vid1277', 'vid1274', 'vid1275', 'vid1105', 'vid1106', 'vid1100', 'vid708', 'vid1103', 'vid687', 'vid686', 'vid685', 'vid257', 'vid1109', 'vid681', 'vid680', 'vid1294', 'vid258', 'vid1296', 'vid1297', 'vid1290', 'vid1292', 'vid707', 'vid1298', 'vid1299', 'vid750', 'vid200', 'vid207', 'vid206', 'vid757', 'vid759', 'vid758', 'vid209', 'vid208', 'vid593', 'vid592', 'vid591', 'vid590', 'vid594', 'vid598', 'vid979', 'vid978', 'vid971', 'vid970', 'vid973', 'vid972', 'vid975', 'vid974', 'vid976', 'vid1858', 'vid1859', 'vid1856', 'vid1857', 'vid1854', 'vid1855', 'vid1852', 'vid1853', 'vid1850', 'vid1851', 'vid1245', 'vid378', 'vid377', 'vid376', 'vid375', 'vid373', 'vid372', 'vid371', 'vid370', 'vid59', 'vid58', 'vid53', 'vid52', 'vid50', 'vid57', 'vid56', 'vid55', 'vid54', 'vid1207', 'vid1206', 'vid1202', 'vid953', 'vid404', 'vid407', 'vid406', 'vid401', 'vid956', 'vid955', 'vid954', 'vid508', 'vid506', 'vid1049', 'vid1048', 'vid1599', 'vid1598', 'vid1041', 'vid1040', 'vid1043', 'vid1042', 'vid1045', 'vid1044', 'vid1047', 'vid1046', 'vid1449', 'vid1445', 'vid1444', 'vid1446', 'vid1441', 'vid1440', 'vid1442', 'vid162', 'vid160', 'vid161', 'vid166', 'vid167', 'vid164', 'vid165', 'vid169', 'vid1242', 'vid1131', 'vid1133', 'vid1132', 'vid1135', 'vid1134', 'vid1137', 'vid1136', 'vid1139', 'vid1138', 'vid1918', 'vid1917', 'vid1916', 'vid1915', 'vid1914', 'vid1913', 'vid1911', 'vid1101', 'vid1102', 'vid688', 'vid760', 'vid761', 'vid762', 'vid763', 'vid1625', 'vid1624', 'vid1627', 'vid1621', 'vid568', 'vid565', 'vid562', 'vid563', 'vid560', 'vid561', 'vid786', 'vid787', 'vid784', 'vid684', 'vid780', 'vid781', 'vid683', 'vid788', 'vid682', 'vid1247', 'vid1828', 'vid1295', 'vid1823', 'vid1822', 'vid1827', 'vid1826', 'vid1825', 'vid1246', 'vid308', 'vid302', 'vid303', 'vid300', 'vid301', 'vid307', 'vid304', 'vid305', 'vid47', 'vid48', 'vid49', 'vid944', 'vid945', 'vid946', 'vid947', 'vid940', 'vid941', 'vid942', 'vid943', 'vid948', 'vid949', 'vid418', 'vid203', 'vid754', 'vid205', 'vid756', 'vid1197', 'vid612', 'vid613', 'vid615', 'vid1191', 'vid617', 'vid1589', 'vid1581', 'vid1582', 'vid1583', 'vid1584', 'vid1585', 'vid1586', 'vid1587', 'vid1458', 'vid1459', 'vid1452', 'vid1453', 'vid1450', 'vid1456', 'vid1455', 'vid170', 'vid173', 'vid172', 'vid174', 'vid177', 'vid179', 'vid178', 'vid1057', 'vid1054', 'vid1055', 'vid1052', 'vid1050', 'vid1051', 'vid1058', 'vid1059', 'vid1128', 'vid1126', 'vid1127', 'vid1124', 'vid1125', 'vid1122', 'vid1123', 'vid1120', 'vid1121', 'vid1908', 'vid1909', 'vid1907', 'vid779', 'vid778', 'vid773', 'vid772', 'vid770', 'vid777', 'vid776', 'vid775', 'vid774', 'vid1631', 'vid1636', 'vid1637', 'vid1634', 'vid1635', 'vid575', 'vid574', 'vid1638', 'vid571', 'vid570', 'vid572', 'vid795', 'vid794', 'vid796', 'vid791', 'vid790', 'vid792', 'vid799', 'vid798', 'vid1838', 'vid1839', 'vid1831', 'vid1833', 'vid1834', 'vid1835', 'vid1836', 'vid1837', 'vid319', 'vid318', 'vid311', 'vid310', 'vid317', 'vid316', 'vid405', 'vid952', 'vid951', 'vid950', 'vid957', 'vid400', 'vid403', 'vid402', 'vid959', 'vid958', 'vid409', 'vid408', 'vid1005', 'vid1004', 'vid1007', 'vid1006', 'vid1001', 'vid1000', 'vid1002', 'vid1777', 'vid1775', 'vid1774', 'vid1773', 'vid1772', 'vid1771', 'vid1890', 'vid1891', 'vid1302', 'vid1303', 'vid1481', 'vid1480', 'vid1483', 'vid1482', 'vid1485', 'vid1484', 'vid1339', 'vid1486', 'vid1337', 'vid1336', 'vid1335', 'vid1334', 'vid1333', 'vid521', 'vid149', 'vid144', 'vid145', 'vid146', 'vid147', 'vid141', 'vid142', 'vid1023', 'vid1022', 'vid1021', 'vid1020', 'vid1027', 'vid1026', 'vid1025', 'vid134', 'vid1029', 'vid1028', 'vid1159', 'vid1153', 'vid1150', 'vid1156', 'vid1939', 'vid1938', 'vid1931', 'vid1930', 'vid1933', 'vid1935', 'vid1934', 'vid1937', 'vid1936', 'vid1702', 'vid1703', 'vid1700', 'vid697', 'vid549', 'vid1701', 'vid540', 'vid541', 'vid542', 'vid543', 'vid544', 'vid545', 'vid547', 'vid1704', 'vid1705', 'vid1805', 'vid1804', 'vid1807', 'vid1806', 'vid1801', 'vid136', 'vid1803', 'vid1802', 'vid1808', 'vid892', 'vid890', 'vid891', 'vid894', 'vid323', 'vid898', 'vid899', 'vid328', 'vid329', 'vid130', 'vid430', 'vid431', 'vid432', 'vid433', 'vid434', 'vid435', 'vid436', 'vid437', 'vid438', 'vid439', 'vid1175', 'vid181', 'vid182', 'vid184', 'vid1173', 'vid187', 'vid189', 'vid1179', 'vid1328', 'vid1329', 'vid1324', 'vid1325', 'vid336', 'vid159', 'vid158', 'vid153', 'vid152', 'vid151', 'vid150', 'vid157', 'vid156', 'vid155', 'vid154', 'vid1030', 'vid1031', 'vid1032', 'vid1033', 'vid1034', 'vid1035', 'vid1036', 'vid1037', 'vid1038', 'vid1039', 'vid1926', 'vid1927', 'vid1925', 'vid1922', 'vid1923', 'vid1920', 'vid1921', 'vid1140', 'vid1141', 'vid1142', 'vid1143', 'vid1144', 'vid1145', 'vid1929', 'vid557', 'vid556', 'vid555', 'vid553', 'vid552', 'vid551', 'vid550', 'vid559', 'vid558', 'vid127', 'vid1812', 'vid1813', 'vid1810', 'vid1811', 'vid1816', 'vid1817', 'vid1814', 'vid1815', 'vid1818', 'vid333', 'vid880', 'vid331', 'vid885', 'vid1487', 'vid887', 'vid334', 'vid889', 'vid888', 'vid339', 'vid1338', 'vid1489', 'vid1488', 'vid429', 'vid428', 'vid427', 'vid425', 'vid424', 'vid423', 'vid422', 'vid421', 'vid420', 'vid820', 'vid827', 'vid826', 'vid824', 'vid450', 'vid451', 'vid984', 'vid457', 'vid455', 'vid1024', 'vid1434', 'vid1435', 'vid1436', 'vid1437', 'vid1430', 'vid1431', 'vid1432', 'vid1433', 'vid1152', 'vid1319', 'vid1311', 'vid1310', 'vid1313', 'vid1312', 'vid1315', 'vid1314', 'vid1317', 'vid1316', 'vid1210', 'vid1798', 'vid1794', 'vid1796', 'vid1791', 'vid1790', 'vid1793', 'vid1792', 'vid1009', 'vid1008', 'vid1558', 'vid1556', 'vid1555', 'vid1554', 'vid1553', 'vid1552', 'vid1551', 'vid1550', 'vid1953', 'vid1952', 'vid1951', 'vid1950', 'vid1957', 'vid1956', 'vid1954', 'vid1959', 'vid1958', 'vid1779', 'vid1778', 'vid522', 'vid523', 'vid520', 'vid1932', 'vid526', 'vid527', 'vid524', 'vid525', 'vid528', 'vid529', 'vid180', 'vid1174', 'vid1177', 'vid1176', 'vid1171', 'vid638', 'vid639', 'vid636', 'vid637', 'vid634', 'vid635', 'vid632', 'vid633', 'vid630', 'vid631', 'vid856', 'vid857', 'vid854', 'vid852', 'vid853', 'vid850', 'vid858', 'vid859', 'vid548', 'vid989', 'vid459', 'vid981', 'vid982', 'vid983', 'vid456', 'vid985', 'vid1800', 'vid1593', 'vid1592', 'vid1591', 'vid324', 'vid1590', 'vid325', 'vid1597', 'vid326', 'vid1596', 'vid327', 'vid1595', 'vid320', 'vid1594', 'vid321', 'vid322', 'vid895', 'vid1788', 'vid1789', 'vid1783', 'vid1780', 'vid1781', 'vid1786', 'vid1787', 'vid1784', 'vid1785', 'vid1018', 'vid1019', 'vid1548', 'vid1549', 'vid1545', 'vid1546', 'vid1547', 'vid1540', 'vid1541', 'vid1940', 'vid1941', 'vid1942', 'vid1943', 'vid1944', 'vid1946', 'vid1947', 'vid1948', 'vid1949', 'vid717', 'vid531', 'vid530', 'vid533', 'vid535', 'vid534', 'vid536', 'vid539', 'vid711', 'vid710', 'vid1306', 'vid1307', 'vid1304', 'vid1305', 'vid1301', 'vid1308', 'vid1162', 'vid1163', 'vid1160', 'vid1161', 'vid1167', 'vid1164', 'vid198', 'vid625', 'vid624', 'vid627', 'vid626', 'vid193', 'vid190', 'vid845', 'vid844', 'vid847', 'vid846', 'vid841', 'vid840', 'vid843', 'vid842', 'vid849', 'vid848', 'vid997', 'vid995', 'vid994', 'vid993', 'vid992', 'vid991', 'vid990', 'vid999', 'vid449', 'vid448', 'vid441', 'vid440', 'vid443', 'vid442', 'vid445', 'vid444', 'vid447', 'vid446', 'vid1747', 'vid1744', 'vid1745', 'vid1742', 'vid1743', 'vid1706', 'vid725', 'vid1733', 'vid1731', 'vid519', 'vid518', 'vid513', 'vid512', 'vid1734', 'vid1579', 'vid1578', 'vid1571', 'vid1570', 'vid1572', 'vid1577', 'vid1576', 'vid1751', 'vid1752', 'vid1755', 'vid1754', 'vid1757', 'vid1756', 'vid1759', 'vid1758', 'vid1205', 'vid1204', 'vid1203', 'vid1970', 'vid1201', 'vid1200', 'vid298', 'vid299', 'vid294', 'vid295', 'vid296', 'vid297', 'vid290', 'vid291', 'vid292', 'vid293', 'vid1682', 'vid1681', 'vid1680', 'vid1687', 'vid1684', 'vid504', 'vid505', 'vid1689', 'vid1688', 'vid500', 'vid501', 'vid502', 'vid503', 'vid1373', 'vid1371', 'vid1370', 'vid1377', 'vid1376', 'vid1375', 'vid1374', 'vid1379', 'vid1378', 'vid618', 'vid619', 'vid1199', 'vid1198', 'vid610', 'vid1196', 'vid1195', 'vid1194', 'vid616', 'vid1190', 'vid870', 'vid872', 'vid873', 'vid874', 'vid875', 'vid876', 'vid877', 'vid878', 'vid474', 'vid475', 'vid476', 'vid477', 'vid470', 'vid472', 'vid473', 'vid478', 'vid479', 'vid276', 'vid277', 'vid274', 'vid275', 'vid272', 'vid273', 'vid270', 'vid271', 'vid1910', 'vid278', 'vid279', 'vid769', 'vid601', 'vid1626', 'vid1623', 'vid1622', 'vid1628', 'vid785', 'vid866', 'vid789', 'vid1566', 'vid1567', 'vid1564', 'vid1565', 'vid1562', 'vid1563', 'vid1560', 'vid1561', 'vid1569', 'vid1969', 'vid1218', 'vid1219', 'vid1748', 'vid1749', 'vid1962', 'vid1963', 'vid1960', 'vid1961', 'vid1965', 'vid288', 'vid283', 'vid282', 'vid281', 'vid280', 'vid287', 'vid286', 'vid285', 'vid284', 'vid1691', 'vid1692', 'vid1693', 'vid1695', 'vid1697', 'vid1699', 'vid517', 'vid516', 'vid514', 'vid1361', 'vid1362', 'vid1363', 'vid1364', 'vid1366', 'vid1368', 'vid1369', 'vid1824', 'vid607', 'vid605', 'vid603', 'vid602', 'vid1496', 'vid1168', 'vid609', 'vid608', 'vid1188', 'vid1189', 'vid1184', 'vid1185', 'vid1186', 'vid1180', 'vid1181', 'vid1182', 'vid1183', 'vid1497', 'vid869', 'vid1169', 'vid865', 'vid864', 'vid863', 'vid861', 'vid462', 'vid461', 'vid465', 'vid464', 'vid469', 'vid265', 'vid264', 'vid267', 'vid261', 'vid263', 'vid262']"
      ],
      "execution_count": 0,
      "outputs": []
    },
    {
      "cell_type": "code",
      "metadata": {
        "id": "uVJzpA2wDyN_",
        "colab_type": "code",
        "outputId": "1a6efc46-946c-460a-9b89-1b396fbe707a",
        "colab": {
          "base_uri": "https://localhost:8080/",
          "height": 89
        }
      },
      "source": [
        "import ast\n",
        "\n",
        "with open('/Video2Caption_test.txt',\"r\") as a:\n",
        "    abcd = ast.literal_eval(a.read())\n",
        "    print(len(abcd.keys()))\n",
        "    for i in list(abcd):\n",
        "        if i in c:\n",
        "            pass\n",
        "        else:\n",
        "            del(abcd[i])\n",
        "\n",
        "print(len(abcd.keys()))\n",
        "print(abcd)"
      ],
      "execution_count": 0,
      "outputs": [
        {
          "output_type": "stream",
          "text": [
            "307\n",
            "304\n",
            "{'vid1528': ['a man is playing a guitar', 'a man is playing a guitar', 'a man is playing a guitar', 'a man is playing an acoustic guitar', 'a man is playing a guitar', 'a man is sitting down playing an acoustic guitar', 'a man is playing the guitar', 'a man is playing guitar', 'a man is playing a guitar', 'a man is playing a guitar', 'a man is playing the guitar', 'the man is playing the guitar', 'a man plays the guitar', 'a man is playing the guitar', 'the man played the guitar', 'the men playing guitar', 'the man is play the guitor very seriously', 'a man is playing a guitar', 'a man playing a guitar', 'a person is playing the music', 'a man is playing the guitar', 'a man is playing guiter', 'a man is ringing the guitar', 'a man playing music', 'the man is playing the guitar', 'a man is playing the guitar', 'a man is playing a guitar'], 'vid944': ['<BOS> a woman unsuccesfully attempts to change a flat tire <EOS>', '<BOS> a lady tried to change her tire <EOS>', '<BOS> a woman attempts to remove a tire from a car <EOS>', '<BOS> a woman is changing a tire <EOS>', '<BOS> a woman is changing a tire <EOS>', '<BOS> a woman is changing her punctured tyre <EOS>', '<BOS> a woman is trying hard to remove a flat tyre from her car <EOS>', '<BOS> a woman is trying to change a flat tire <EOS>', '<BOS> a woman is trying to change a tire <EOS>', '<BOS> a woman is trying to change her flat tire <EOS>', '<BOS> a woman tries to fix a flat tire <EOS>', '<BOS> a women trying to change a flat tire <EOS>', '<BOS> the lady tried to change the tire of her car <EOS>', '<BOS> the woman is trying to replace a flat tire <EOS>', '<BOS> a woman is changing a tire <EOS>', '<BOS> a woman is struggling with her car <EOS>', '<BOS> a woman repairing car <EOS>', '<BOS> a woman tries to fix her flat tire <EOS>', '<BOS> a woman unsuccessfully changes a tire <EOS>', '<BOS> a woman watching her car tyre puncture with depression <EOS>', '<BOS> a women changing car tyer <EOS>', '<BOS> a women driver is stuck on the road with a flat tire and while changing it she falls backward off the roadway into a truck with garbage <EOS>', '<BOS> a women is putting a new tyre in her vehicle <EOS>', '<BOS> a women try to repair her car <EOS>', '<BOS> the car tyre on the halfway road <EOS>', '<BOS> women drivers <EOS>', '<BOS> a business woman is attempting to change a flat tire <EOS>', '<BOS> a lady changing car tyre <EOS>', '<BOS> a lady is removing her glass on the road <EOS>', '<BOS> a nicely dressed woman is trying to change the tire on her minivan <EOS>', '<BOS> a woman begins changing a tire <EOS>', '<BOS> a woman driver <EOS>', '<BOS> a woman has a flat tire <EOS>', '<BOS> a woman is changing a flat tire <EOS>', '<BOS> a woman is changing car tyres on the road <EOS>', '<BOS> a woman is depressed to see tyre puncture of his car <EOS>', '<BOS> a woman is pushing car <EOS>', '<BOS> a woman is struggling to remove the car wheel <EOS>', '<BOS> a woman is trying to change a flat tire on her car <EOS>', '<BOS> a woman is trying to change a flat tire <EOS>', '<BOS> a woman is trying to change a tire on a car <EOS>', '<BOS> a woman is trying to fix her car <EOS>', '<BOS> a woman stopped her car and checking out the condition of its tyre <EOS>', '<BOS> a woman struggles on bridge to change the inflated tyre of her car <EOS>', '<BOS> a woman tries to change a tire on a car <EOS>', '<BOS> a woman trying to change a tire <EOS>', '<BOS> a woman <EOS>', '<BOS> a women driving a car <EOS>', '<BOS> a women is repairing a car <EOS>', '<BOS> a women is try to repair the car <EOS>', '<BOS> a women trying to change a flat tire <EOS>', '<BOS> the woman is attempting to replace a flat tire <EOS>', '<BOS> the women is changing the car wheel <EOS>', '<BOS> a woman replacing the car wheel <EOS>'], 'vid1092': ['<BOS> a snake is crawling through leaves <EOS>', '<BOS> a snake is slithering on leaves <EOS>', '<BOS> a snake is slithering in some leaves <EOS>', '<BOS> a snake is crawling through some fallen leaves <EOS>', '<BOS> a snack is crawling in the wood <EOS>', '<BOS> a snake is crawling through leaves <EOS>', '<BOS> a snake is moving <EOS>', '<BOS> a snake is crawling through some leaves <EOS>', '<BOS> a snake is slithering through the leaves <EOS>', '<BOS> a snake is crawling through the grass <EOS>', '<BOS> a snake is slithering through some leaves <EOS>', '<BOS> the snake slithered among the fallen leaves on the ground <EOS>', '<BOS> the snake moved through the leaves <EOS>', '<BOS> a snake is slithering through the leaves <EOS>', '<BOS> a snake slithers under some leaves <EOS>', '<BOS> the snake slithered through the leaves <EOS>', '<BOS> a short snake is running <EOS>', '<BOS> a small snake crawls through some leaves <EOS>', '<BOS> a snake is moving on the ground <EOS>', '<BOS> a snake is passing the way <EOS>', '<BOS> n manitou island in michigan going on a deer hunt <EOS>', '<BOS> the snake is move very fast inside the dry leaves <EOS>', '<BOS> a garter snake slithers through leaves <EOS>', '<BOS> a snake crawls through leaves <EOS>', '<BOS> a snake is crawling in the leaves <EOS>', '<BOS> a snake is crawling <EOS>', '<BOS> a snake is scrawling the leaves <EOS>', '<BOS> a snake is slithering through leaves <EOS>', '<BOS> a snake is slithering through the leaves <EOS>', '<BOS> a snake runing on the ground <EOS>', '<BOS> the person is doing the something <EOS>', '<BOS> the snake is moving <EOS>', '<BOS> the snake moved throught the leaves <EOS>', '<BOS> the snake slithered through the forest leaves <EOS>'], 'vid1310': ['a woman applying eye shadow', 'a girl is applying eye shadow on her left eyelid', 'a woman applies eye shadow to her eyelid', 'a woman is applying blue costmetics to her eyelid', 'a woman is applying eye liner', 'a woman is applying eye makeup', 'a woman is applying green eyeshadow on her eyelid', 'a woman is applying makeup to her eyelids', 'a woman is applying turquoise eyeshadow on the inner side of her eyelid', 'a woman is dabbing on some shimmering green eye shadow on her eyelid using an applicator brush', 'a woman is doing a eye makeup', 'a woman is doing eye makeup', 'a woman is making an eyeshadow', 'a woman is putting on eyeshadow', 'a woman puts makeup on', 'green makeup is being applied to a female s eyelid with a makeup brush', 'the girl is applying eye makeup', 'the woman is putting on blue eye shadow', 'a girl is using a eye shadow on her eyes', 'a woman applies blue eyeshadow', 'a woman is applying blue eye shadow to the inside corner of her eyelid', 'a woman is applying eye makeup', 'a woman is doing make up on her eye lid', 'a women is coloring her eye lashes', 'a young spanish lady demonstrating how to apply various types of eye makeup', 'shading of eyes', 'a girl doing some sort of makeup above her eyes', 'a girl applied eye makeup with a brush', 'a girl applied green eye shadow with a brush', 'a girl is applying eye shadow', 'a girl is applying eyeshadow', 'a girl is putting on eye shadow', 'a lady is applying eyeshadow on her eyelash', 'a woman applies eye shadow', 'a woman applying eye shade on her eye lids', 'a woman is applying blushers on her eyes', 'a woman is applying eye makeup', 'a woman is applying eye makeup', 'a woman is applying eye shades', 'a woman is applying eye shadow', 'a woman is applying eyelashes', 'a woman is applying eyeshadow to her eyelids', 'a woman is applying eyeshadow', 'a woman is applying makeup to her eyelids', 'a woman is coloring her eye shadows', 'a woman is makeuping', 'a woman is putiing on eyeshadow', 'a woman is putting makeup', 'a woman is putting on eye makeup', 'a woman is putting on eye shadow', 'a woman is putting on green eyeshadow', 'a woman putting eye makeup with a pencil', 'applying pretty green eye makeup', 'the lady is putting on makeup', 'the woman is putting on eye makeup', 'a girl is putting eye shadow', 'an women make up her eye bro'], 'vid1313': ['a woman hoeing the ground removes something from her foot', 'a woman is plowing dirt', 'a woman is doing yard work', 'a woman is cleaning a garden', 'a woman tends to the earth', 'a woman is tilling the ground', 'a woman is gardening', 'a woman is using a hoe', 'a woman is hoeing in a garden', 'a girl is gardening', 'a woman is using a hoe', 'the lady hoed the yard in her bathing suit', 'the woman is using a hoe for the garden', 'a woman rakes leaves', 'the lady hoed the ground', 'a lady is raking her garden in her bathing suit', 'the girl is cleaning the forest', 'the women is cleaning the road', 'a lady is cleaning the grass', 'a nature girl is doing some work', 'a person is cleaning the land', 'a video has something weird nature girls', 'a woman in a bikini is hoeing in the backyard', 'a woman is cleaning the ground', 'a woman is gardening in a bikini', 'a woman is gardening', 'a woman is hoeing the ground', 'a woman is ranking the lawn', 'a woman is tending a garden', 'a women is cleaning the floor', 'the woman is tilling the garden'], 'vid1316': ['a man is slicing the tape on a box to open it', 'a man is opening a box using a knife', 'a man is opening a box with a knife', 'mail is being opened', 'a man is opening a package by cutting', 'a man is opening a package with a knife', 'a man cuts a box open with a knife', 'a man is opening a box with a knife', 'a man is cutting off the tapes fastened to a carton box using a knife', 'a man cutting open a package', 'the man used a knife to open a box', 'the man is slicing the tape from the box', 'a man is cutting open a box', 'a man opens a box with a knife', 'a man opened a box with a knife', 'a man cutting carton a knife', 'a man opened a box with a knife', 'a man opening a box with a knife', 'a men open the cartoon', 'a person is cutting a cartoon with knife', 'person opening a pakage', 'a cow is standing in the grasses', 'a man cuts open a package with a knife', 'a man is cutting a box to open it', 'a man is cutting a box', 'a man is cutting a paper box', 'a man is cutting open a box', 'a man is cutting the box using a knife', 'a man is opening a box with a buck knife', 'a man is opening a box with a knife', 'a man is opening a box with a knife', 'a man is opening a box with a knife', 'a man is opening a box with knife', 'a man is opening a box', 'a man is opening a box', 'a man is opening a box', 'a man is opening a box', 'a man is opening a package', 'a man is opening a package', 'a man is opening a package', 'a man is opening a parcel with a knife', 'a man is using a knife to cut the tape off of a package', 'a man is using a knife to open a box', 'a man open the lid of carton with knife', 'a man opening a carton with a knife', 'a man opening the box', 'a man opens a box with his knife', 'a man opens a package with a switchblade', 'a person cuts open a box', 'a short clip about holy cow', 'process to unpack the carton', 'someone cuts through tape on a box', 'someone is opening a box', 'a girl is opening a box', 'the man is open the box', 'a man explains while opening a sealed cardboard box', 'a man opening the box with knife'], 'vid723': ['<BOS> a dog fishing in the lake <EOS>', '<BOS> a brown dog dives into the water and comes ashore holding a large fish in his mouth <EOS>', '<BOS> a dog dives in and cathes a fish <EOS>', '<BOS> a dog dives into a lake and catches a fish <EOS>', '<BOS> a dog is catching a fish from a stream <EOS>', '<BOS> a dog is catching a fish in a river <EOS>', '<BOS> a dog is catching a fish <EOS>', '<BOS> a dog is catching a fish <EOS>', '<BOS> a dog jumps into a lake and catches a fish with its mouth <EOS>', '<BOS> a dog jumps into the water and catches a fish <EOS>', '<BOS> a dog jumps into the water and catches a fish <EOS>', '<BOS> a dog jumps into the water and grabs a fish <EOS>', '<BOS> a dog runs into the water and comes out with a fish in his mouth <EOS>', '<BOS> the dog caught a fish in the river with his mouth <EOS>', '<BOS> the dog jumped into the water and caught a fish <EOS>', '<BOS> dog catches a fish <EOS>', '<BOS> a dog is fishing in a pond <EOS>', '<BOS> a dog is trying to catch the fish <EOS>', '<BOS> a dog jump in the water and keep the fish in his mouth and came back from water <EOS>', '<BOS> brutus a fishing dog <EOS>', '<BOS> the dog is catching a fish <EOS>', '<BOS> a dog is catching a fish <EOS>', '<BOS> success <EOS>', '<BOS> a canine jumps into a river and grabs a fish <EOS>', '<BOS> a dog catches a fish <EOS>', '<BOS> a dog is catching a fish <EOS>', '<BOS> a dog is catching a fish from the river <EOS>', '<BOS> a dog is catching a fish <EOS>', '<BOS> a dog is catching a fish <EOS>', '<BOS> a dog is catching a fish <EOS>', '<BOS> a dog is catching a fish <EOS>', '<BOS> a dog is catching a fish <EOS>', '<BOS> a dog is catching a fish <EOS>', '<BOS> a dog is catching fish in a river <EOS>', '<BOS> a dog is fishing <EOS>', '<BOS> a dog is fishing <EOS>', '<BOS> a dog is jumping into water <EOS>', '<BOS> a dog is walikng on the river bed <EOS>', '<BOS> a dog jumps into a lake and bites a fish <EOS>', '<BOS> a dog jumps into a lake and catches a fish <EOS>', '<BOS> a dog jumps into a river and pulls out huge fish <EOS>', '<BOS> a dog jumps into a river to catch a fish <EOS>', '<BOS> a dog jumps into the water and catches a fish <EOS>', '<BOS> a dog on the prowl <EOS>', '<BOS> a dog walks along the shore <EOS>', '<BOS> adog jumps into the water and catches a fish <EOS>', '<BOS> brutus the dog catches fish in a lake <EOS>', '<BOS> the dog caught a fish in the river <EOS>', '<BOS> the dog caught a fish in the water <EOS>', '<BOS> the dog caught a fish with his teeth <EOS>', '<BOS> the dog is catching a fish <EOS>', '<BOS> the dog jumped in the river and caught a fish <EOS>', '<BOS> this dog really fights for his food <EOS>', '<BOS> a dog catches a fish from the pound <EOS>', '<BOS> a dog is catahing fish from pound <EOS>', '<BOS> brutus <EOS>', '<BOS> the dog caught a fish <EOS>'], 'vid1410': ['a girl is chopping up a potato', 'a girl is slicing a potato into pieces', 'a woman cuts up a potato', 'a woman is chopping a peeled potato into slices', 'a woman is chopping a potato', 'a woman is cubing cooked potatoes while another woman watches', 'a woman is cutting a potato', 'a woman is slicing a potato', 'a woman is slicing a potato', 'a woman is slicing boiled potato', 'a woman slices a potato with a knife', 'the ladies demonstrated cutting a potatoe', 'the lady cut up a potatoe', 'the woman is cutting potatoes', 'two women are in a room', 'two women are talking', 'a woman is cutting a potato', 'the two women are cooking', 'a woman is cutting potatoes', 'a woman cuts a potato', 'a woman is cutting potatoes into pieces with a knife', 'a woman is slicing a potato', 'a woman is cutting a potatoe', 'someone is preparing something', 'a woman is cutting a potato', 'a lady cuts a potato', 'two girls coking', 'a woman is slicing some vegetables', 'womans are saying about how to make the shukhi bhaji', 'two ladies cooking some sort of indian dish with potatoes', 'they are slicing potatoes to make bhaji', 'the girl was cutting the potatoes', 'two ladies cutting the boiled patato in the kitchen', 'two womens is making potatoes', 'women are cooking in the kichen', 'two woman is making sukhi bhaji', 'a woman dices peeled potatoes', 'two girls are slicing potato', 'a woman is chopping a potato', 'a woman is slicing potatoes'], 'vid1009': ['<BOS> a man is playing a guitar <EOS>', '<BOS> a man is playing guitar <EOS>', '<BOS> a man is playing guitar <EOS>', '<BOS> a man is playing the guitar <EOS>', '<BOS> a man is playing the guitar <EOS>', '<BOS> a man plays a guitar <EOS>', '<BOS> a man plays an electric guitar <EOS>', '<BOS> a man plays the guitar <EOS>', '<BOS> a musician is playing an electrical guitar on stage <EOS>', '<BOS> an indian man is playing a guitar <EOS>', '<BOS> men are playing guitars <EOS>', '<BOS> the man played his guitar with a friend <EOS>', '<BOS> the man played his guitar <EOS>', '<BOS> the men are playing the electric guitar <EOS>', '<BOS> two men a playing guitars together <EOS>', '<BOS> two men are playing a guitar <EOS>', '<BOS> two men are playing electric guitars <EOS>', '<BOS> two men are playing guitar <EOS>', '<BOS> two men are playing guitars <EOS>', '<BOS> two men play guitars <EOS>', '<BOS> men performing guitar <EOS>', '<BOS> the person is playing guttier <EOS>', '<BOS> two men are playing guitars <EOS>', '<BOS> the great singer mrspbalasubramanian given interview and sing <EOS>', '<BOS> a man is playing a guitar <EOS>', '<BOS> a man is playing the guitar <EOS>', '<BOS> a man is playing gitur <EOS>', '<BOS> a man is playing some instrument <EOS>', '<BOS> two men are playing guitars <EOS>', '<BOS> a man is playing a guitar <EOS>', '<BOS> two men are playing guitar <EOS>', '<BOS> playing the guiter <EOS>', '<BOS> a man is playing electric guitar <EOS>', '<BOS> two men are playing guitars <EOS>', '<BOS> two men playing guitars <EOS>', '<BOS> a man playing guitar <EOS>', '<BOS> a man playing gitar <EOS>', '<BOS> suresh gopy is playing gittar <EOS>', '<BOS> the person is playing guittier <EOS>', '<BOS> a man playing with a guitar <EOS>', '<BOS> a man plays electric guitar <EOS>', '<BOS> a man playing music <EOS>', '<BOS> two men are playing guitar on a television show <EOS>', '<BOS> two men are playing electric guitars <EOS>', '<BOS> the men are playing guitar <EOS>', '<BOS> two men are playing electric guitar and bass <EOS>', '<BOS> a man plays guitar <EOS>'], 'vid1004': ['<BOS> two men are dancing like robots on stage <EOS>', '<BOS> two men are robot dancing on stage <EOS>', '<BOS> two men are dancing like robots on a stage <EOS>', '<BOS> men are dancing on stage <EOS>', '<BOS> two men are doing the robot dance on stage <EOS>', '<BOS> two men are performing on a stage <EOS>', '<BOS> two young men are dancing on a stage <EOS>', '<BOS> two men are performing on stage <EOS>', '<BOS> two men are robot dancing on a stage <EOS>', '<BOS> two men are performing onstage <EOS>', '<BOS> two men are dancing on stage <EOS>', '<BOS> two people are performing on stage <EOS>', '<BOS> the men performed a comedic routine on stage <EOS>', '<BOS> the men are performing on stage <EOS>', '<BOS> two people perform a dance routine <EOS>', '<BOS> a couple of guys are performing on stage <EOS>', '<BOS> the comedic mimes performed on stage <EOS>', '<BOS> the boys is dancing <EOS>', '<BOS> two persons are dancing in the stage <EOS>', '<BOS> the two persons are doing robot dancing <EOS>', '<BOS> two mimes are performing on stage <EOS>', '<BOS> the people are dancing on the stage <EOS>', '<BOS> two people are dancing on a stage <EOS>', '<BOS> two man danceing on the stage <EOS>', '<BOS> two men are performing on stage <EOS>', '<BOS> artists perfroming on the stage <EOS>', '<BOS> the comedy team performed on stage <EOS>', '<BOS> the men are performing on stage <EOS>', '<BOS> the men are dancing on stage <EOS>'], 'vid1001': ['<BOS> a young man takes a sixpack of beer off a shelf and takes it to the counter where he turns and walks off with it <EOS>', '<BOS> a man is buying beer <EOS>', '<BOS> a man buys beer <EOS>', '<BOS> a man is shopping drink bottles <EOS>', '<BOS> a man buys a 6 pack of beer <EOS>', '<BOS> a boy bought a case of beer <EOS>', '<BOS> a man is picking a bottle from a super market <EOS>', '<BOS> a young man purchased beer from a grocery store <EOS>', '<BOS> a man buys beer at a store <EOS>', '<BOS> someone is buying beer <EOS>', '<BOS> a man is buying beer <EOS>', '<BOS> a man is buying corona <EOS>', '<BOS> a man purchases a case containing beer bottles from a store and walks away <EOS>', '<BOS> the man purchased some beer from a convenience store <EOS>', '<BOS> the man is buying a pack of beer <EOS>', '<BOS> a man buys some beer <EOS>', '<BOS> the man paid for the beer at the counter <EOS>', '<BOS> a man is buying some beer <EOS>', '<BOS> a women is buying <EOS>', '<BOS> he is helping on the luggage <EOS>', '<BOS> a man drinking beer <EOS>', '<BOS> a man is buying beer <EOS>', '<BOS> a man is buying beer <EOS>', '<BOS> a man is carrying beer bottles <EOS>', '<BOS> the man bought beer from the store <EOS>', '<BOS> the taking the wine <EOS>'], 'vid1002': ['<BOS> a big group of people are watching a plane in the sky <EOS>', '<BOS> an audience is watching a jet perform stunts <EOS>', '<BOS> a plane is flying <EOS>', '<BOS> a jet plane is doing acrobats in the sky <EOS>', '<BOS> a jet is flying in the air <EOS>', '<BOS> a jet is flying by spectators <EOS>', '<BOS> a jet flies across the sky <EOS>', '<BOS> a jet is flying <EOS>', '<BOS> a crowd of people are watching a jet flying across the sky at great speed and at various angles <EOS>', '<BOS> a plane flying fast in sky <EOS>', '<BOS> the jet flew high into the sky <EOS>', '<BOS> an f22 rapter flies across the sky <EOS>', '<BOS> the jet is soaring through the air <EOS>', '<BOS> an f22 plane is flying through the air <EOS>', '<BOS> the palne flew up into the sky <EOS>', '<BOS> a plane is flying through the sky <EOS>', '<BOS> a flight is flying over the skies <EOS>', '<BOS> a jet plane is flying <EOS>', '<BOS> a plane flying in air <EOS>', '<BOS> aircraft flying inthe sky <EOS>', '<BOS> f22 rapter speed run at jones beach <EOS>', '<BOS> many person s is watching the air show <EOS>', '<BOS> people are watching a jet fly through the air <EOS>', '<BOS> people seeing the air plane <EOS>', '<BOS> rapter f22 airplane flying at high speeds at an exhibition for the public <EOS>', '<BOS> the people are watching f22 rapter speed <EOS>', '<BOS> a crowd is watching a fighter plane fly across the sky <EOS>', '<BOS> a crowd watches in amazement as a stealth fighter speeds overhead <EOS>', '<BOS> a f22 raptor flys through the air <EOS>', '<BOS> a fighter plane flies a uturn in the sky <EOS>', '<BOS> a fighter plane performs at an air show <EOS>', '<BOS> a group of people watching a plane <EOS>', '<BOS> a jet is flying over a crowd <EOS>', '<BOS> a jet is flying <EOS>', '<BOS> a jet plane demonstrating some kind of serious stunts in air <EOS>', '<BOS> a jet plane is flying <EOS>', '<BOS> a jet plane is speeding through a cloudy sky <EOS>', '<BOS> a plane is flieing <EOS>', '<BOS> a plane is flying <EOS>', '<BOS> a rapter is running speedily at jones beach <EOS>', '<BOS> an airoplane have high speed <EOS>', '<BOS> an airplane is flying in the sky with a crowd of people watching <EOS>', '<BOS> an f22 plane at an airshow <EOS>', '<BOS> an f22 raptor flies at an air show while people cheer <EOS>', '<BOS> flight stunts are performed by the piolot <EOS>', '<BOS> jet flying through the sky <EOS>', '<BOS> people are watching a military jet airplane <EOS>', '<BOS> people are watching the flying aeroplane <EOS>', '<BOS> people watch aerobatics in open sky <EOS>', '<BOS> people watch as a jet plane flies by <EOS>', '<BOS> people watching air show <EOS>', '<BOS> the jet is soaring through the air <EOS>', '<BOS> a airjet is flying on the sky <EOS>', '<BOS> people are seeing a jet plane <EOS>', '<BOS> people watching the performance of aeroplane <EOS>', '<BOS> stunts by a jet <EOS>', '<BOS> the people is seeing the something <EOS>', '<BOS> showing f22 rapter speed <EOS>', '<BOS> f22 rapter performing at the air show <EOS>', '<BOS> pane is flying over crowd <EOS>'], 'vid1777': ['people are disembarking from a train', 'people step off a train', 'people step off a train', 'people are exiting a subway train', 'a group of people are getting off a train', 'peoples are disembarking from a train in a station', 'a group of people get off a train', 'some people are getting off of a train', 'people are exiting a train', 'people are getting off a train', 'several people are getting off the transit', 'the people got off the train at the station', 'the people got off the train', 'people are getting off a train', 'people get off a train', 'the people got off the train at the station', 'a train on the station', 'people are getting off the subway', 'the passengers are get down from the train', 'the people are getting down', 'all people getting down from train', 'passengers are getting down from the train', 'passengers getting down in a station from a train', 'people are exiting a train', 'people are getting off a train', 'people are getting off a train', 'the people got off the train'], 'vid1775': ['a man is slicing carrots', 'a carrot is being sliced', 'a carrot is chopped up', 'a chef cuts carrots', 'a man is cutting up carrots', 'a man is dicing some peeled carrots after tasting one slice of it', 'a person is cutting carrots', 'a woman is slicing carrots', 'an individual uses a knife to cut carrots on a cutting board', 'carrots are sliced', 'cook cutting carrots', 'someone cut some carrots', 'someone is slicing up a carrot', 'the cook is cutting some carrots', 'cuttin carrot into long pieces', 'a guy cooking vegetable soup', 'a man showing how to make vegetable soup with fresh vegetables', 'some one is cutting a slices of radish and eating it', 'soup is made from vegetables', 'a man is cutting a fresh vegetables', 'flexible carat', 'a short clip about how to make vegetable soup', 'man chopping the carrots', 'a cook chops some carrots', 'a left handed man sliced a carrot', 'a man cuts carrots with a knife', 'a man cutting carrots', 'a man is chopping carrot', 'a man is cutting and tasting carrots', 'a man is cutting up carrots', 'a man is slicing a carrot into small pieces', 'a man is slicing a carrot', 'a man is slicing carrots', 'a man is slicing carrots', 'a man is slicing carrots', 'a man is slicing carrots', 'a man is slicing vegetables', 'a man preparing vegetable soup', 'a man showing a recepie how to make vegetable soup', 'a man slicing some vegitable', 'a person is chopping carrots', 'a person is cutting carrots', 'a person is cutting the carrot into pieces', 'a person is shipping carrots', 'a person is slicing up some carrots', 'a woman is cutting some carrots', 'a woman is slicing carrots', 'aman is cutting vegetable selectively', 'carrots are being chopped into pieces', 'fresh soup', 'fresh vegetables ready to be chopped', 'someone chopped up a carrot', 'someone cut up carrots', 'someone is chopping and slicing carrots', 'the person is cutting carrots', 'the person is cutting up carrots', 'carrot and onion is been cut into pieces with the knife', 'a person is cutting carrot with knife'], 'vid1959': ['a young man bends over and picks up a carnival ticket off the floor', 'a man picks up a ticket', 'a man picks up a ticket', 'a boy bends over and picks up a ticket to a high school event', 'a boy is reading a card', 'a man picks a card up from the floor', 'a boy picked up a coupon card from the floor', 'a man is picking up a card and looking it', 'a man is bending to pick up a card from the floor', 'a man discovers a ticket', 'a boy is picking up a card', 'a man picks up a business card', 'a man picks up a business card off the floor', 'the man picked up a card for a carnival', 'the man picked up a card from the floor', 'a man picks up a card', 'a man picks up a card', 'the man picked up a business card off the floor', 'dating do s and dont s', 'one person take cards', 'the boy is seeing the something', 'a man picks up a business card', 'a boy bends down and picks up a business card', 'a man pick up a card', 'a man picks up a carnival ticket', 'he is looking the car', 'a man is picking up a carnival ticket from the floor', 'a man is picking up visting card', 'the man picked up a card', 'a man picking card', 'really super video'], 'vid1670': ['ingredients are being mixed in a mixing bowl', 'a lady mixed up a batter', 'a man is mixing batter', 'a man mixes a baking mixture', 'a person is mixing a bowl of ingredients', 'a person is mixing ingredients in a bowl', 'a person is mixing ingredients in a bowl', 'a person mixes ingredients in a bowl', 'a woman is mixing ingredients in a bowl', 'a woman is mixing ingredients in a bowl', 'a woman is mixing ingredients in a bowl', 'a woman is stirring a cookie dough mixture', 'a woman is whisking a mixture of sugar', 'a woman preparing oatmeal cookies', 'cookie batter is being mixed', 'someone is using a spoon to stir the ingredients of a bowl', 'the lady mixed the ingredients together', 'the woman is mixing ingredients into a batter', 'a lady is making the oats meals cookie', 'a lady making oatmeal cookies', 'a lady preparing for the cake', 'a man is cooking somthing', 'a man is demonstrating how to cook the oats cookies', 'a person is mixing cookie ingredients in a bowl', 'a person making oatmeal cookies', 'a person showing how to make a cake', 'a woman mixing batter', 'someone is mixing someting in a bowl', 'a man is reading', 'a person is cooking', 'a person is mixing a bowl', 'a person is mixing batter in a bowl by hand', 'a person is mixing ingredients together in a bowl', 'a woman cooking her kichen', 'a woman is stirring cookie ingredients in a bowl', 'a woman is stirring cookie ingredients', 'a woman learning how to make oatmeal cookies', 'a woman mixes ingredients to cook cookies', 'a woman showing how to make oatmeal cookies', 'dough is prepared for making cookies', 'how to make oatmeal cookies', 'nancy preparing to cook oatmeal cookies', 'somebody is mixing some food stuff', 'someone is mixing something in a bowl', 'the woman is mixing cookie dough', 'a woman batter some ingredients in a bowl'], 'vid520': ['<BOS> a pencil is being sharpened <EOS>', '<BOS> a cnc lathe machine is sharpening a pencil <EOS>', '<BOS> a lathe is sharpening a pencil <EOS>', '<BOS> a machine is sharpening a pencil <EOS>', '<BOS> a machine is sharpening a pencil <EOS>', '<BOS> a machine is sharpening a pencil <EOS>', '<BOS> a machine sharpens a pencil <EOS>', '<BOS> a machine sharpens a pencil <EOS>', '<BOS> a new white colored pencil is sharpened at the tip by a cnc lathe machine <EOS>', '<BOS> a pencil is being sharpened with a robotic lathe <EOS>', '<BOS> a pencil is being sharpened <EOS>', '<BOS> a power lathe is cutting a wooden dowel <EOS>', '<BOS> a tool formed the tip of the pencil <EOS>', '<BOS> someone is using a lathe to sharpen a pencil <EOS>', '<BOS> the machine is sharpening a pencil <EOS>', '<BOS> the machine shaved the end of the pencil <EOS>', '<BOS> a huge pencil sharpener is placed in the room <EOS>', '<BOS> a machine cutting iron <EOS>', '<BOS> a machine is sharpening a pencil <EOS>', '<BOS> a machine is sharping a pencil <EOS>', '<BOS> an instrument is sharpening one end of a pencil <EOS>', '<BOS> cnc lathe pencil sharpener <EOS>', '<BOS> cnc lathe pencil sharpener <EOS>', '<BOS> this is a electronic mission <EOS>', '<BOS> this lathe pencil sharpener <EOS>', '<BOS> a cnc lathe machine doing the operatio of taper turning to make pencil shape <EOS>', '<BOS> a cnc pencil sharpener sharpening the pencil <EOS>', '<BOS> a huge machine is sharpening a small pencil <EOS>', '<BOS> a lathe machine sharpening the pencil <EOS>', '<BOS> a lathe sharpens a pencil <EOS>', '<BOS> a lathe sharpens a pencil <EOS>', '<BOS> a lathe sharpens a pencil <EOS>', '<BOS> a lathe sharpens a pencil <EOS>', '<BOS> a machine is cutting a pencil <EOS>', '<BOS> a machine is operating <EOS>', '<BOS> a machine is sharpening a pencil <EOS>', '<BOS> a machine is sharpening a pencil <EOS>', '<BOS> a machine is sharping a pencil <EOS>', '<BOS> a pencil is being sharpened by a lathe <EOS>', '<BOS> a pencil is being sharpened by a machine <EOS>', '<BOS> a pencil is being sharpened by a sharpner <EOS>', '<BOS> a pencil is being sharpened <EOS>', '<BOS> a pencil is sharpened by an industrial machine <EOS>', '<BOS> a pencil is sharpned by machine <EOS>', '<BOS> a pencil sharpener is displayed <EOS>', '<BOS> machine is sharping the the pencil <EOS>', '<BOS> someone is sharpening a pencil with a lathe <EOS>', '<BOS> a machine is running in the factory <EOS>', '<BOS> it is the pencil sharpaner <EOS>', '<BOS> preparation of a pencil <EOS>', '<BOS> a machine sharpens a pencil <EOS>'], 'vid521': ['<BOS> a teenage boy riding a dirt bike over a car <EOS>', '<BOS> a biker is riding over a car <EOS>', '<BOS> a boy is riding a bike over a car <EOS>', '<BOS> a man drives his motor bike over a car <EOS>', '<BOS> a man is jumping over a car with his bike <EOS>', '<BOS> a man is riding a dirt bike over a white car <EOS>', '<BOS> a man rides a motorbike across the body of a white car <EOS>', '<BOS> a man rides a motorcycle over a car <EOS>', '<BOS> a man rides a motorcycle over a car <EOS>', '<BOS> a man rides up a car <EOS>', '<BOS> a man rode his motorbike over a station wagon <EOS>', '<BOS> the man rode his motorbike over a car <EOS>', '<BOS> the man rode his motorbike over the car <EOS>', '<BOS> a man was riding a motor cycle over the car <EOS>', '<BOS> the man rode his motorbike over the car <EOS>', '<BOS> a man on a motorbike jumps over a car <EOS>', '<BOS> a boy rides his bicycle over a car <EOS>', '<BOS> a man drives his motor bike over a car <EOS>', '<BOS> following a white car on a bicycle <EOS>', '<BOS> a boy is riding bicycle over a car <EOS>', '<BOS> nice taking the bicycle over car with perfect balance and controlle <EOS>', '<BOS> a mad guy approaching his motor cycle through a car <EOS>', '<BOS> a man is doing stunt with his bike <EOS>', '<BOS> a man rode a motorcycle over a car <EOS>', '<BOS> a boy is doing byk stunt <EOS>', '<BOS> a young man on a motorcycle rides over a car <EOS>', '<BOS> a man is showing stunt <EOS>', '<BOS> a man with bike jumps on the car <EOS>', '<BOS> a young man is riding a dirt bike over a car <EOS>', '<BOS> a boy is riding a dirt bike over the top of a car <EOS>', '<BOS> a man is doing stunt with his cycle <EOS>', '<BOS> a man on a motorbike pops a wheelie and rides over a small white car <EOS>', '<BOS> a person is riding a motor cycle on a car <EOS>', '<BOS> a boy is doing stunt with byk <EOS>', '<BOS> a man performing some sort of stunts on a motorbike <EOS>', '<BOS> the young man is driving a motorbike over a car <EOS>', '<BOS> a man is trying to drive his bike on top of a car <EOS>', '<BOS> the man rode his motorbike over the white car <EOS>', '<BOS> a crazy man doing job <EOS>', '<BOS> the man jumped over the car with a dirtbike <EOS>', '<BOS> a person crossing a car using bicycle <EOS>', '<BOS> a man is riding a motor bike over the top of a car <EOS>', '<BOS> the man rode his motorbike over a white car <EOS>'], 'vid640': ['<BOS> a man is adding spices on a bread <EOS>', '<BOS> a man is making garlic bread <EOS>', '<BOS> a man is preparing garlic bread <EOS>', '<BOS> a man is putting garlic on some bread slices <EOS>', '<BOS> a man is seasoning bread <EOS>', '<BOS> a man is seasoning buttered bread <EOS>', '<BOS> a man is sprinkling seasoning on several split and buttered loaves of bread <EOS>', '<BOS> a man is sprinkling seasonings on bread <EOS>', '<BOS> a man is sprinkling spices on four sliced half loaves of buttered bread <EOS>', '<BOS> a man is sprinkling spices over buttered bread slices <EOS>', '<BOS> a man is sprinkling toppings on four half loaves of bread <EOS>', '<BOS> a man seasons some bread <EOS>', '<BOS> a man sprinkles minced garlic from a small bottle on top of four generously buttered elongated slices of bread <EOS>', '<BOS> a man sprinkles seasoning on a piece of bread <EOS>', '<BOS> a man sprinkles seasoning on slices of bread <EOS>', '<BOS> a person is seasoning bread <EOS>', '<BOS> a person is seasoning slices of bread <EOS>', '<BOS> the man is seasoning the buttered bread <EOS>', '<BOS> the man seasoned the buttered bread <EOS>', '<BOS> the man seasoned the buttered bread <EOS>', '<BOS> the person is preparing the pizza bread <EOS>', '<BOS> a man seasons garlic bread <EOS>', '<BOS> man hold pizza and talks <EOS>', '<BOS> the man puting sult on garlic bread <EOS>', '<BOS> a man holding garlic bread <EOS>', '<BOS> a man is putting spices on bread <EOS>', '<BOS> a man is sprinkling garlic on bread <EOS>', '<BOS> a man seasons bread <EOS>', '<BOS> a man is preparing bread <EOS>', '<BOS> a man is seasoning some bread <EOS>', '<BOS> a man is seasoning buttered bread <EOS>', '<BOS> easiest way to make garlic bread <EOS>', '<BOS> a man coking <EOS>', '<BOS> a man is adding something on bread <EOS>', '<BOS> a man is seasoning buttered bread <EOS>', '<BOS> a man preparing to make a garlic pizza with some sort of bread <EOS>', '<BOS> it is lazy man s pizza garlic bread <EOS>', '<BOS> the person is cooking <EOS>', '<BOS> someone making the bread pizza <EOS>', '<BOS> a man is sprinkling spices on bread <EOS>', '<BOS> a man prepairing pizza <EOS>', '<BOS> a person pizza garlic bread <EOS>', '<BOS> the man is seasoning the bread <EOS>', '<BOS> a man sprinkles spices on buttered bread <EOS>', '<BOS> ok <EOS>'], 'vid1701': ['a woman is sprinkling a white substance over various kinds of food', 'a woman seasons two plates of food', 'a woman seasons plates of food', 'a woman is sprinkling seasoning over a plate of fish and over a plate of vegetables', 'a woman spices some seafood', 'a woman is sprinkling something on food', 'a woman puts flour on seafood', 'a woman is sprinkling flour onto some ingredients', 'a woman is dusting food with powder', 'a woman is sprinkling something on food', 'a woman is seasoning various foods', 'the lady sprinkled salt on the food', 'the woman is seasoning the shrimp and vegetables', 'a woman seasons meat and begetables', 'the lady sprinkled salt on the food', 'a woman is seasoning a plate of food', 'the woman is putting some powder in the curry', 'a lady is preparing a food', 'a lady is spreading the flour on the prawns', 'a man cooking his kichen', 'a woman is sifting flour', 'a woman is sprinkling some flour on the ingredient', 'a women is cooking tendon japanese tempura rice bowl', 'the woman is seasoning the seafood and vegetables', 'a girl is filter something', 'the women is cooking', 'a women is making dish'], 'vid1254': ['steve martin doing a magic act with eggs', 'a man is on stage dressed in a tuxedo and he s pulling eggs out of the fly of his trousers', 'a man is performing some magic tick on stage', 'a man is placing eggs from his crotch into a basket', 'a man is pulling a ball out of his pants', 'a man is pulling eggs from his pants', 'a man is pulling eggs out of his pants', 'a man is taking eggs from his pants', 'a man pulls ping pong balls out of his pants', 'a man removes eggs from his pants', 'steve martin performs onstage', 'steve martin pulls eggs out of his pants', 'steve martin removes two eggs from the zipper area of his pants and places them in a hung basket on the stage', 'the comedian pulled eggs out of his pants', 'the comedian pulled eggs out of his pants', 'the man is removing eggs from the fly of his pants', 'steve martin is performing a comedy routine', 'a musician performing magic show', 'a man is doing magic tricks', 'the person is doing the magic', 'a man performs magic tricks', 'the man is doing magic', 'a man pulls eggs out of his pants', 'a magician take an egg from his pants', 'a person is performing a magic trick', 'a magician is performing magic', 'a magesion is showig magic', 'a man is performing the magic in the stage', 'a man is doing magic', 'a man is showing a magic', 'a magician is doing tricks with an egg', 'a man is doing magic tricks', 'a man pulls eggs out from his pants and puts them on a scale', 'he is magic on the stage', 'a magician is performing his magic', 'a magician is doing tricks', 'steve martin makes a broad array of magic', 'a man doing magic', 'a magic man is showing a show', 'a magician is doing tricks', 'a magician performing in stage', 'a magician showing some unique magic tricks', 'a magician is performing with his assisstant', 'a magician showing his magic', 'a man takes to golf balls out of his crotch and puts them on a scale', 'a man show magic', 'a man does a trick', 'a man perform magic', 'steve martin magic', 'a magician is performing a magic trick involving an egg', 'the man is pulling eggs out of his pants', 'a man is showing magic', 'a man is pulling eggs out of his pants and placing them on a scale'], 'vid1708': ['a man breaks a block of ice by swinging a long handled metal tool at it', 'a man smashes a block of ice', 'a man smashes a block of ice', 'a man demolishes a block of ice with a hammer that has a sharp spike on the end of the hammer head', 'a man slams a block of ice with a pick axe', 'a man is hitting a block of ice with an ax', 'a man hit a block of ice with a hammer', 'a man is breaking ice', 'a man is breaking an ice block', 'a man is breaking a block of ice with a pick', 'a man hits a ice cube with a tool', 'a man is hitting a block of ice with a sword', 'the man broke the block of ice with a sledgehammer', 'the man used a pick axe to slice the ice cube', 'a man smashes a block of ice with a long handled hammer', 'a man breaks a glass block with a hammer', 'the man chopped the block of ice with a sledge hammer', 'people using hammer for various acts', 'a man crushes a cube of ice', 'a man broking the cold steel', 'the person is broken the cold steel', 'a man is striking on a piece of ice with a war hammer', 'someone is smashing a piece of ice', 'ice smasher', 'a man is hitting ice with a pick', 'a man smashes a block of ice', 'a man breaking ice with hammer', 'a man is breaking a block of ice', 'the person is broken the ice', 'a man breaking a big ice cube with hammer', 'a man is breaking a big block of ice', 'the man chopped the ice block into little bits with a pickaxe', 'the man used a pick axe to cut an ice block', 'a man hits a block of ice with a large hammer'], 'vid735': ['<BOS> runners are racing on a stretch of road <EOS>', '<BOS> the women are running <EOS>', '<BOS> two female runners are running a marathon <EOS>', '<BOS> two females are running in a race <EOS>', '<BOS> two ladies competed in a race <EOS>', '<BOS> two ladies raced in a marathon <EOS>', '<BOS> two people run competitively <EOS>', '<BOS> two people run together <EOS>', '<BOS> two women are competing in a marathon <EOS>', '<BOS> two women are racing <EOS>', '<BOS> two women are running a race <EOS>', '<BOS> two women are running on a road in a marathon race <EOS>', '<BOS> two women are running <EOS>', '<BOS> two women run in a race <EOS>', '<BOS> woman are running a race <EOS>', '<BOS> women are running a race <EOS>', '<BOS> women are running in the race <EOS>', '<BOS> women race through the streets <EOS>', '<BOS> the girls are running <EOS>', '<BOS> women athletes running a marathon <EOS>', '<BOS> boston marathon 2008 women s finish <EOS>', '<BOS> the women are running <EOS>', '<BOS> women are running in a race <EOS>', '<BOS> two ladies are running on the road <EOS>', '<BOS> two runners are running in a race <EOS>', '<BOS> two women are racing on foot <EOS>', '<BOS> two women running as people watch <EOS>', '<BOS> two woman are competing each other in running race <EOS>', '<BOS> two woman are running in a race <EOS>', '<BOS> boston marathon 2008 shows two women finishing <EOS>', '<BOS> women are running <EOS>', '<BOS> two women s running in some sort of marathon <EOS>', '<BOS> women running in the olympic race <EOS>', '<BOS> women are running <EOS>', '<BOS> girl are running <EOS>', '<BOS> women are running <EOS>', '<BOS> two girls racing on road <EOS>', '<BOS> this sports vrey intresting and my faver and good running <EOS>', '<BOS> two women are running on the road <EOS>', '<BOS> two women are running in a marathon <EOS>', '<BOS> two women are running in a race <EOS>', '<BOS> the women are running <EOS>'], 'vid731': ['<BOS> a man in a suit snaps a stick in half <EOS>', '<BOS> a man breaks a stick <EOS>', '<BOS> a man breaks a stick <EOS>', '<BOS> a man is breaking a stick <EOS>', '<BOS> a man angrily breaks an instrument <EOS>', '<BOS> a man is breaking something <EOS>', '<BOS> a man is breaking a pool cue <EOS>', '<BOS> a guy breaks a stick <EOS>', '<BOS> a man is breaking a stick <EOS>', '<BOS> a man breaks a wooden stick held in both hands into two pieces <EOS>', '<BOS> the man broke the stick in his hands <EOS>', '<BOS> the man broke the stick <EOS>', '<BOS> a man breaks a stick <EOS>', '<BOS> the man broke a stick in half <EOS>', '<BOS> a man snaps a piece of wood in half <EOS>', '<BOS> a person doing something <EOS>', '<BOS> a vampire breaking a stake <EOS>', '<BOS> the men is doing something <EOS>', '<BOS> the person is trying to magic <EOS>', '<BOS> a man braking a stick in a amazing style <EOS>', '<BOS> a man breaking stick <EOS>', '<BOS> a man breaks a stick <EOS>', '<BOS> a man has broken the stick <EOS>', '<BOS> a man is breaking a stick <EOS>', '<BOS> the man broke the stick <EOS>', '<BOS> a man is broken a stick <EOS>'], 'vid739': ['<BOS> a man is pouring pancake mixture into a frying pan <EOS>', '<BOS> pancakes are being made <EOS>', '<BOS> a man is making pancake <EOS>', '<BOS> a person is adding pancake mixture to a pan <EOS>', '<BOS> a person is pouring a mixture into a frying pan <EOS>', '<BOS> a person ladles batter into a frying pan <EOS>', '<BOS> a man is pouring batter into a pan <EOS>', '<BOS> a man pours a ladle full of pancake batter evenly on the surface of a saucepan <EOS>', '<BOS> a person making pancakes <EOS>', '<BOS> someone ladled eggs into a frying pan <EOS>', '<BOS> a woman spoons pancake mix into a frying pan <EOS>', '<BOS> the person is cooking pancakes in a pan <EOS>', '<BOS> pancake batter is poured into a pan <EOS>', '<BOS> a man ladles eggs into a frying pan <EOS>', '<BOS> a man preparing the pancake <EOS>', '<BOS> a men making a pancake <EOS>', '<BOS> a person is making a pan cake <EOS>', '<BOS> how to make a pancake in 55 seconds <EOS>', '<BOS> she is cooking <EOS>', '<BOS> someone cooking a pancake <EOS>', '<BOS> they are cooking pan cake <EOS>', '<BOS> a great show about how to cook a delicious pan cake <EOS>', '<BOS> a man cooking his kichen <EOS>', '<BOS> a man is ladling pancake batter into a skillet <EOS>', '<BOS> a man is making a pancake <EOS>', '<BOS> a man is making pancake <EOS>', '<BOS> a man is pouring flour into a kettle <EOS>', '<BOS> a man is preparing pancake <EOS>', '<BOS> a man is putting the paste of something to make a cake in pan <EOS>', '<BOS> a man ladles pancake batter into a pan <EOS>', '<BOS> a man preparing pan cake in five seconds <EOS>', '<BOS> a person is pouring batter in a pan <EOS>', '<BOS> a person is pouring pancake batter into a frying pan <EOS>', '<BOS> a person is pouring pancake batter into a skillet <EOS>', '<BOS> a person pours batter on a pan <EOS>', '<BOS> cooking in a frying pan <EOS>', '<BOS> person putting pancake batter in a pan <EOS>', '<BOS> pouring flour to make pan cake in a pan <EOS>', '<BOS> preparing a pancake <EOS>', '<BOS> preparing the cake <EOS>', '<BOS> someone is frying pancakes <EOS>', '<BOS> someone is making pancakes <EOS>', '<BOS> someone is pouring batter into a pan <EOS>', '<BOS> the cook is making pancakes <EOS>', '<BOS> a percon is showing how to make pancake <EOS>', '<BOS> putting some paste in pan <EOS>', '<BOS> somebody is making bread <EOS>', '<BOS> the person is preparing the cake <EOS>', '<BOS> pancake in the pan <EOS>'], 'vid639': ['<BOS> a man is spreading butter on a split half loaf of bread <EOS>', '<BOS> a man is applying butter to bread <EOS>', '<BOS> a man is buttering a quarter loaf of bread <EOS>', '<BOS> a man is buttering some french bread <EOS>', '<BOS> a man is putting butter on bread <EOS>', '<BOS> a man is smearing butter on a slice of garlic bread <EOS>', '<BOS> a man is spreading butter on a bread <EOS>', '<BOS> a man is spreading butter on a piece of bread <EOS>', '<BOS> a man is spreading butter on bread <EOS>', '<BOS> a man is spreading butter onto bread <EOS>', '<BOS> a man puts some butter on some bread <EOS>', '<BOS> a man smears butter on a piece of bread <EOS>', '<BOS> a man spreads butter on a big piece of bread <EOS>', '<BOS> a man spreads butter on a bread slice <EOS>', '<BOS> a man spreads butter on a slice of bread <EOS>', '<BOS> a man spreads butter on some bread <EOS>', '<BOS> a person is buttering a piece of bread <EOS>', '<BOS> the man buttered the bread <EOS>', '<BOS> the man is spreading butter on the bread <EOS>', '<BOS> the man spread butter on the loaf of bread <EOS>', '<BOS> a man showing how to make quick pizza <EOS>', '<BOS> a man applying the butter on the bread <EOS>', '<BOS> a man is spreading butter on bread <EOS>', '<BOS> a person is cooking <EOS>', '<BOS> the man is per paring pizza <EOS>', '<BOS> a man is applying cheese on the bread slices <EOS>', '<BOS> a person is dressing toast <EOS>', '<BOS> a man is putting butter on bread <EOS>', '<BOS> the is showing how to do beg for mercy workout <EOS>', '<BOS> a man is spreading butter on bread <EOS>', '<BOS> a man is spreading the butter on the bread <EOS>', '<BOS> the man is putting butter on garlic bread <EOS>', '<BOS> a chef pasting butter on the bread <EOS>', '<BOS> a man is preparing bread dish <EOS>', '<BOS> a man is buttering some bread <EOS>', '<BOS> a man is applying butter to the bread <EOS>', '<BOS> someone pasting butter on a bun <EOS>', '<BOS> a man is putting butter onto bread <EOS>', '<BOS> a person is glazing garlic on slices of bread <EOS>', '<BOS> bread butter <EOS>', '<BOS> a man coking <EOS>', '<BOS> a man is putting butter on the garlic bread with a knife <EOS>', '<BOS> a man butters bread <EOS>', '<BOS> somebody is applying cheese to a bread <EOS>', '<BOS> a man trying to cook some sort of pizza recipe with garlic bread <EOS>', '<BOS> a man is buttering a slice of bread <EOS>', '<BOS> a man is spreading butter on bread <EOS>', '<BOS> a person putting cheese on the bread <EOS>', '<BOS> a man cooking his kichen <EOS>', '<BOS> the man is spreading butter on the bread <EOS>', '<BOS> anyone is making dish <EOS>', '<BOS> a man is spreading butter on bread <EOS>'], 'vid1179': ['<BOS> a dog walks over a kid who is inside his house <EOS>', '<BOS> a boy gets stuck in a dog house <EOS>', '<BOS> a boy is crawling into a dog house <EOS>', '<BOS> a boy is squeezing through a dog house <EOS>', '<BOS> a bull dog is standing over a boy <EOS>', '<BOS> a child is stuck in a dog door opening <EOS>', '<BOS> a child is stuck in a dog house <EOS>', '<BOS> a dog and a toddler are trying to get out of a dog house <EOS>', '<BOS> a dog is climbing over a boy to get out of a playhouse <EOS>', '<BOS> a kid and dog are playing in a dog house <EOS>', '<BOS> a little boy gets stuck in a dog house <EOS>', '<BOS> a man lying down is stuck midway through the entrance of a kennel while his dog steps on him and comes out <EOS>', '<BOS> a monkey is walking <EOS>', '<BOS> an animal plays with a child <EOS>', '<BOS> the boy is stuck in the door of the doghouse <EOS>', '<BOS> the little boy tried to get in the doghouse <EOS>', '<BOS> the toddler went inside the dog house and the dog came out <EOS>', '<BOS> while a child is trying to get into a doghouse <EOS>', '<BOS> a animal pick the child <EOS>', '<BOS> a boy playing with dog <EOS>', '<BOS> a dog drag a child in the house <EOS>', '<BOS> a little baby with a puppy <EOS>', '<BOS> a monkey is inside the cage <EOS>', '<BOS> an animal is playing with the pipe <EOS>', '<BOS> dog climbs over mand in his dog house <EOS>', '<BOS> one little baby and puppy looking very funny <EOS>', '<BOS> they are the funny animals <EOS>', '<BOS> a baby and dog are stuck in a dog house <EOS>', '<BOS> a child and a dog are stuck in the entrance of a dog house <EOS>', '<BOS> a child climbing into a doghouse <EOS>', '<BOS> a child is getting into a doghouse <EOS>', '<BOS> a dog is crawling over a child to get out of its doghouse <EOS>', '<BOS> a dog is on top of a person in his kennel <EOS>', '<BOS> a funny animal <EOS>', '<BOS> a kid and dog stuck in a doghouse <EOS>', '<BOS> a kid is playing in a dog house <EOS>', '<BOS> a little boy is crawling into a dog house <EOS>', '<BOS> a small boy got caught in a dog s kennel <EOS>', '<BOS> a toddler crawls into a dog house <EOS>', '<BOS> it s a funniest clip of a dog and a man <EOS>', '<BOS> the dog biting a man <EOS>', '<BOS> the dog is playing with the boy <EOS>', '<BOS> the boy is play the funny animals <EOS>'], 'vid224': ['<BOS> someone is petting a rabbit on a bed <EOS>', '<BOS> a man tickles a rabbit <EOS>', '<BOS> a rabbit is trying to sit <EOS>', '<BOS> a person is petting a rabbit <EOS>', '<BOS> a person is petting a squirming rabbit <EOS>', '<BOS> someone is petting a rabbit <EOS>', '<BOS> a man is stroking a rabbit <EOS>', '<BOS> a rabbit is getting pet <EOS>', '<BOS> a bunny is squirming as a person touches it <EOS>', '<BOS> a rabbit struggles away from a human hand <EOS>', '<BOS> a girl is petting a rabbit <EOS>', '<BOS> a animal is being pet <EOS>', '<BOS> a person is petting a rabbit <EOS>', '<BOS> the rabbit was being petted on the bed <EOS>', '<BOS> the person is tickling the rabbit <EOS>', '<BOS> a finger rubs an animal <EOS>', '<BOS> a bunny struggles to get away <EOS>', '<BOS> someone petted a rabbit on a bed <EOS>', '<BOS> a man is playing with his bunny <EOS>', '<BOS> someone is playing with a rabbit <EOS>', '<BOS> a man playing with his pet rabbit <EOS>', '<BOS> funny rabbit shying away from camera <EOS>', '<BOS> a rabbit is playing <EOS>', '<BOS> a person is playing with a rabbit <EOS>', '<BOS> a man is tickling a rabbit <EOS>', '<BOS> a rabbit is trying to get from the bed <EOS>', '<BOS> the animal is sitting <EOS>', '<BOS> a person is petting a rabbit s stomach <EOS>', '<BOS> someone is petting a baby rabbit <EOS>', '<BOS> a man catching a mouse <EOS>', '<BOS> somebody is playing with a rabbit <EOS>', '<BOS> a rabbit is being petted <EOS>', '<BOS> someone is petting a rabbit <EOS>', '<BOS> a nervous rabbit is being petted <EOS>', '<BOS> a person is petting a rabbit <EOS>', '<BOS> someone is touching a rabbit <EOS>', '<BOS> the rabbit is playing <EOS>', '<BOS> rabbit in the bedroom <EOS>'], 'vid919': ['<BOS> a person cutting up vegatables <EOS>', '<BOS> a chef crushes and chops garlic <EOS>', '<BOS> a man is cutting garlics <EOS>', '<BOS> a man is finely chopping some garlic pods after smashing them initially with the flat portion of a knife <EOS>', '<BOS> a man smashes and dices ingredients with a knife <EOS>', '<BOS> a person is chopping garlic into small pieces <EOS>', '<BOS> a person is crushing garlic with a knife then chopping it up <EOS>', '<BOS> garlic cloves are crushed and then chopped finely <EOS>', '<BOS> garlic is being pressed and diced <EOS>', '<BOS> garlic is being smashed and chopped <EOS>', '<BOS> someone is chopping a white vegetable into small pieces <EOS>', '<BOS> someone is chopping garlic cloves <EOS>', '<BOS> someone is crushing garlic with a knife <EOS>', '<BOS> the cook is dicing garlic <EOS>', '<BOS> a lady cutting pastas <EOS>', '<BOS> a man shows how to make shrimp with alfredo sauce and pasta <EOS>', '<BOS> a pan full of food is placed on the table <EOS>', '<BOS> a man is mashing the garlic pieces with knife <EOS>', '<BOS> very neat cooking for shrimp with alfredo sauce and pasta <EOS>', '<BOS> a chef cutting garlic with a knife <EOS>', '<BOS> a cookery show how to make shrimp with alfredo sauce and pasta <EOS>', '<BOS> a man cooking his kichen <EOS>', '<BOS> a man is crushing and cutting garlic <EOS>', '<BOS> a man is crusing garlics <EOS>', '<BOS> a man is slicing garlic <EOS>', '<BOS> a man is smashing and chopping garlic <EOS>', '<BOS> a man is smashing garlic <EOS>', '<BOS> a man slicing a garlic into small pieces <EOS>', '<BOS> a person is crushing <EOS>', '<BOS> a person is mincing garlic <EOS>', '<BOS> a person is pressing garlics <EOS>', '<BOS> a person is smashing garlic with the flat side of a knife <EOS>', '<BOS> a person is smashing <EOS>', '<BOS> a woman is slicing garlic <EOS>', '<BOS> man crushing and cutting garlic <EOS>', '<BOS> man is cooking some shrimps <EOS>', '<BOS> somebody is smashing garlic with a knife <EOS>', '<BOS> someone crushed cloves of garlic <EOS>', '<BOS> someone is chopping shrimp into small pieces <EOS>', '<BOS> someone is chopping shrimp <EOS>', '<BOS> someone is crushing some garlic <EOS>', '<BOS> someone is dicing garlic <EOS>', '<BOS> the garlic is crushed with a knife at first and then chopped finely with a knife <EOS>', '<BOS> the man crushed the garlic <EOS>', '<BOS> the man is crushing and dicing garlic <EOS>', '<BOS> the man is smashing and cutting the garlic <EOS>', '<BOS> a man is slicing some garlics <EOS>'], 'vid916': ['<BOS> someone is cooking shrimp in a saucepan <EOS>', '<BOS> a person is cooking shrimp <EOS>', '<BOS> a person is cooking shrimp <EOS>', '<BOS> someone is stirring a skillet of shrimp with a spatula <EOS>', '<BOS> a person is cooking shrimp in a frying pan on a stove <EOS>', '<BOS> a man is frying shrimp <EOS>', '<BOS> a man is frying something <EOS>', '<BOS> a person is sauteing shrimp in a pan <EOS>', '<BOS> a person cooks shrimp in a pan <EOS>', '<BOS> a man is stirring some cooking shrimp <EOS>', '<BOS> someone is cooking shrimp in a frying pan <EOS>', '<BOS> a person is cooking some shrimp <EOS>', '<BOS> the person is cooking shrimp in a pan <EOS>', '<BOS> a person stirs shrimp <EOS>', '<BOS> the lady fried the shrimp in the pan <EOS>', '<BOS> the person is cooking <EOS>', '<BOS> a person is stirring cooking shrimp in a pan <EOS>', '<BOS> a man is stirring the pasta which is cooking in the pan <EOS>', '<BOS> the person is cooking <EOS>', '<BOS> a man is frying an eggs <EOS>', '<BOS> someone is cooking shrimp <EOS>', '<BOS> stiring shrimp in a pan on the stove <EOS>', '<BOS> a person is cooking shrimp in a pan <EOS>', '<BOS> the man stirred the shrimp in the pan <EOS>', '<BOS> a man cooking his kichen <EOS>', '<BOS> the person is cooking shrimp <EOS>'], 'vid1874': ['a small baby is dancing', 'a little girl is dancing and shaking her booty', 'a little girl is dancing', 'a girl is dancing with music', 'a young girl is dancing', 'a very young child dances', 'a little girl is dancing', 'a small girl is moving around in her room and dancing to music', 'a little girl practicing dancing', 'the little girl danced in the room', 'the little girl is dancing', 'a little kid dances', 'a little girl is dancing', 'the little girl danced in the living room', 'a baby is dancing', 'a child dancing', 'a girl dancing on floor', 'a little baby is dancing in the room', 'a little girl is dancing around the room', 'a little girl is dancing', 'a little girl is dancing', 'a small baby can be dancing', 'a small girl dancing', 'a small girl is dancing', 'home video of a black child dancing', 'the girl dancing with music', 'a baby girl is dancing', 'a child dances', 'a child is dancing and romping in a room', 'a child is dancing', 'a girl is dancing', 'a girl is dancing', 'a girl is dancing', 'a girl is dancing', 'a kid is playing', 'a kid is playing and dancing in the room', 'a little girl dances', 'a little girl dancing cutely', 'a little girl is dancing and running around the room', 'a little girl is dancing around in a room', 'a little girl is dancing on music', 'a little girl is dancing', 'a little girl is dancing', 'a little girl skips and dances around', 'a small child dancing and moving here and there', 'a small girl dances at home', 'a small girl is dancing', 'a small girl is performing dance', 'a young black girl is dancing', 'a young black girl is dancing', 'a young girl is dancing', 'little girl dancing', 'little kid dancing', 'the little girl is dancing', 'a little girl is dancing', 'the child is palying', 'dance baby dance never give up'], 'vid1876': ['someone is slicing a green tomato with a knife', 'a person is slicing a green tomato', 'someone is slicing a green tomato', 'a person is slicing a green tomato', 'someone is cutting a green tomato into thin slices', 'a woman is cutting a vegetable into slices with a knife', 'a man is slicing some vegetables', 'someone is slicing a green tomato', 'a woman is cutting a tomato', 'a person is slicing a tomato', 'someone cut a green tomatoe', 'the person is slicing green tomatoes', 'a person cuts vegetables', 'the man sliced the green tomatoe', 'the person is cutting the tomato', 'someone is slicing a vegetable', 'a person is slicing a green tomato', 'the person is cutting', 'someone is slicing a green tomatoe', 'the person is cutting the tomato', 'a person is slicing a tomato', 'racipe for fried green tomatoes', 'the lady sliced the green tomatoe', 'a man cooking his kichen', 'the person is slicing green tomatoes', 'someone slices a tomato'], 'vid1877': ['a girl is doing tricks with a butterfly knife', 'a girl is twirling a switch blade', 'a woman does tricks with a knife', 'a woman is demonstrating a butterfly knife', 'a woman is doing some tricks with butterfly knife', 'a woman is doing tricks with a knife', 'a woman is flipping a butterfly knife', 'a woman is flipping a switchblade', 'a woman is flipping around a knife', 'a woman is performing knife tricks', 'a woman is performing tricks with a butterfly knife', 'a woman is playing with a butterfly knife', 'a woman is playing with a knife blade', 'a woman is twisting and twirling a knife', 'a woman seated on a chair wields a knife rapidly', 'a woman spins a butterfly knife around', 'the girl flipped a knife around in her hand', 'the lady flipped a knife around', 'the woman is playing with a knife', 'a lady circle the knife by hand', 'nice knife trick performed by a chinese girl with single hand', 'she is playing with knife', 'one girl is playing with knife', 'a girl is flipping a butterfly knife', 'a girl is playing with a butterfly knife', 'the lady beautifully use the knife move freely and rotate the knife very fast', 'a woman is doing butterfly knife tricks', 'the girl is playing with a knife', 'a woman s playing with a butterfly knife', 'a woman is moving a knife all around', 'a girl is demonstrating a knife', 'a lady doing some tricks with the knife', 'a woman is doing some trick with knife', 'a lady playing with a knife', 'a girl is playing with knife', 'a girl is take any thing', 'a girl is flipping a butterfly knife open and closed', 'a woman demonstrates knife flipping skills'], 'vid878': ['<BOS> a beagle is peeing off a boat into the water <EOS>', '<BOS> a dog is shown urinating off of a wooden deck into a body of water <EOS>', '<BOS> a dog is going pee into a lake while on a boat <EOS>', '<BOS> a dog is peeing in a lake <EOS>', '<BOS> a dog is pissing into sea from a boat <EOS>', '<BOS> a dog pees off the side of a boat <EOS>', '<BOS> a beagle is peeing off the edge of a boat <EOS>', '<BOS> a dog urinates on a boat railing <EOS>', '<BOS> a dog is peeing in the water <EOS>', '<BOS> a beagle peeing off the side of a boat <EOS>', '<BOS> a small brown dog standing near one edge of a wooden pathway is urinating into the water below <EOS>', '<BOS> a dog at sea on a boat <EOS>', '<BOS> the dog peed on the side of the houseboat <EOS>', '<BOS> the dog is urinating into the water <EOS>', '<BOS> a beagle is going to the restroom off the side of a boat <EOS>', '<BOS> the dog peed on the pier of the boat <EOS>', '<BOS> a dog on a boat marks his territory on a rail <EOS>', '<BOS> a beagle takes pee on a boat dock as he gets on a boat <EOS>', '<BOS> a dog is standing on the bridge <EOS>', '<BOS> a dog pass urine in the sea <EOS>', '<BOS> a dog pees off the side of a boat <EOS>', '<BOS> a puppy is boat beagle <EOS>', '<BOS> the dog watching the swimming pool <EOS>', '<BOS> a boat beagle <EOS>', '<BOS> a dog is doing urine on water <EOS>', '<BOS> a dog is going toilet <EOS>', '<BOS> a dog is peeing off a boat into water <EOS>', '<BOS> a dog is peeing off a boat <EOS>', '<BOS> a dog is peeing on a boat <EOS>', '<BOS> a dog is peeing <EOS>', '<BOS> a dog is urinating in river <EOS>', '<BOS> a dog is urinating in water <EOS>', '<BOS> a dog is urinating off of a boat into the water <EOS>', '<BOS> a dog is urinating off the side of a boat <EOS>', '<BOS> a dog is urinating off the side of a boat <EOS>', '<BOS> a dog is urinating on a boat <EOS>', '<BOS> a dog is urinating on the rails of a boat <EOS>', '<BOS> a dog is walking on a deck <EOS>', '<BOS> a dog make dirty the pool by doing bathroom in it <EOS>', '<BOS> a dog on a boat urinates into the water <EOS>', '<BOS> a dog on a raft <EOS>', '<BOS> a dog on a small ship <EOS>', '<BOS> a dog peeing on the stairs of a pool <EOS>', '<BOS> a dog pees into a lake <EOS>', '<BOS> a dog pees on a boat <EOS>', '<BOS> a dog relieves himself on a boat <EOS>', '<BOS> a dog urinates from a boat into water <EOS>', '<BOS> a dog urinating in the sea from a boat <EOS>', '<BOS> a dog walks along the stern of a boat <EOS>', '<BOS> dog pees off the edge of a boat <EOS>', '<BOS> the dog is trained to urinate in the water <EOS>', '<BOS> the is completed nature call <EOS>', '<BOS> a dog is going the bathroom <EOS>', '<BOS> the dog playing the boat <EOS>', '<BOS> a dog is passing urine in a water <EOS>', '<BOS> a dog soo in the pool <EOS>'], 'vid356': ['<BOS> a woman riding a horse in the snow <EOS>', '<BOS> a girl is riding a horse in the snow <EOS>', '<BOS> a girl is riding a horse in the snow <EOS>', '<BOS> a girl is riding a horse <EOS>', '<BOS> a girl rides a horse through the snow <EOS>', '<BOS> a person rides a horse in the snow <EOS>', '<BOS> a woman is riding a horse in the ice <EOS>', '<BOS> a woman is riding a horse in the snow <EOS>', '<BOS> a woman is riding a horse on snow <EOS>', '<BOS> a woman is riding on a horse <EOS>', '<BOS> the girl rode her horse in the snow <EOS>', '<BOS> the horse and rider rode in the snow <EOS>', '<BOS> the woman is riding a horse in the snow <EOS>', '<BOS> a girl is sitting on the horse <EOS>', '<BOS> a girl riding a horse in the snow <EOS>', '<BOS> a girl riding on horse <EOS>', '<BOS> a lady is riding on the horse <EOS>', '<BOS> a men riding the hourse <EOS>', '<BOS> a men walking on horse <EOS>', '<BOS> a woman is riding a horse through the snow <EOS>', '<BOS> a woman is riding a horse <EOS>', '<BOS> a woman riding a horse in the snow <EOS>', '<BOS> boy doing horse riding <EOS>', '<BOS> fiona my best friend <EOS>', '<BOS> the child riding the horse <EOS>', '<BOS> winter horse ride <EOS>', '<BOS> a boy is riding a horse in snow <EOS>', '<BOS> a boy raiding a horse <EOS>', '<BOS> a boy riding a horse in some kind of snowy area <EOS>', '<BOS> a boy riding on the horse <EOS>', '<BOS> a child is riding a horse in the snow <EOS>', '<BOS> a child rides a horse in the snow <EOS>', '<BOS> a girl is riding a horse in the snow <EOS>', '<BOS> a girl is riding a horse in the snow <EOS>', '<BOS> a girl is riding a horse outside <EOS>', '<BOS> a girl is riding a horse through the snow <EOS>', '<BOS> a girl is riding a horse <EOS>', '<BOS> a girl is riding her horse in various seasons and various locations <EOS>', '<BOS> a girl riding horse <EOS>', '<BOS> a lady riding a horse <EOS>', '<BOS> a man is riding a horse in a snow rain <EOS>', '<BOS> a man is riding a horse <EOS>', '<BOS> a man is riding the horse in the snow <EOS>', '<BOS> a person is riding a horse in the snow <EOS>', '<BOS> a woman is riding a horse in the snow <EOS>', '<BOS> a woman is riding a horse <EOS>', '<BOS> a woman is riding a horse <EOS>', '<BOS> a woman is riding her horse in the snow <EOS>', '<BOS> a woman is riding on the horse <EOS>', '<BOS> a young girl is riding as horse in the snow <EOS>', '<BOS> the lady is enjoying a horseback riding under the falling snow <EOS>', '<BOS> the person is doing horse raiding <EOS>', '<BOS> a man is riding on the horse <EOS>', '<BOS> a man is riding horse in a cold region <EOS>', '<BOS> a girl riding horse <EOS>'], 'vid829': ['<BOS> a woman cracks an egg into a bowl and beats it with a wire whisk <EOS>', '<BOS> a woman is beating an egg <EOS>', '<BOS> a woman is beating an egg with a wire whisk <EOS>', '<BOS> a woman is adding an egg and stirring <EOS>', '<BOS> a chef is whisking an egg <EOS>', '<BOS> a woman is whisking eggs <EOS>', '<BOS> a woman is mixing an egg in a bowl <EOS>', '<BOS> a woman beats an egg in a bowl <EOS>', '<BOS> a woman is beating eggs in a glass bowl <EOS>', '<BOS> a woman is scrambling an egg <EOS>', '<BOS> someone is beating an egg <EOS>', '<BOS> a woman is scrambling some eggs <EOS>', '<BOS> a lady whisked a raw egg <EOS>', '<BOS> the woman is whisking eggs <EOS>', '<BOS> a woman is beating an egg with a wire whisk <EOS>', '<BOS> a woman beats an egg <EOS>', '<BOS> the lady whisked the raw egg <EOS>', '<BOS> the person is cooking the something <EOS>', '<BOS> someone show how to mak e takoyaki the japanese food <EOS>', '<BOS> a woman is whisking an egg in a bowl <EOS>', '<BOS> a lady is beating the egg <EOS>', '<BOS> the woman is stirring the egg <EOS>', '<BOS> the person is making something with eggs <EOS>', '<BOS> a woman is whipping an egg <EOS>', '<BOS> a woman is beating an egg in a bowl <EOS>', '<BOS> egg stiring <EOS>', '<BOS> someone preparing something <EOS>', '<BOS> a woman is beating an egg <EOS>', '<BOS> a woman is scrambling eggs <EOS>', '<BOS> a person braked egg <EOS>', '<BOS> by this vidio we know how to make takoyaki <EOS>', '<BOS> the person is cooking the something <EOS>', '<BOS> the lady whisked the raw egg in the bowl <EOS>', '<BOS> a women is making the japanese food <EOS>', '<BOS> a man cooking his kichen <EOS>', '<BOS> the woman is whisking eggs <EOS>', '<BOS> the japan woman is breaking egg for making food <EOS>', '<BOS> a woman is breaking an egg and beating it <EOS>', '<BOS> someone whisks a raw egg <EOS>'], 'vid359': ['<BOS> a cop car rams into motorcycle rider <EOS>', '<BOS> a black car rams into a man riding a motorbike on the road and he falls down badly <EOS>', '<BOS> a car crashes into a motorcycle <EOS>', '<BOS> a car crashes into a motorcycle <EOS>', '<BOS> a car crashes into a motorcycle <EOS>', '<BOS> a car crashes into a motorcyclist <EOS>', '<BOS> a car hit a motorcyclist in the intersection <EOS>', '<BOS> a car hitting a motor bike <EOS>', '<BOS> a car is crashing into a motorcycle <EOS>', '<BOS> a motorcycle crashes into a car that pulls into the path of the motorcycle <EOS>', '<BOS> a motorcycle is crashing into a car <EOS>', '<BOS> a motorcycle is hit by a car <EOS>', '<BOS> a motorcyclist gets hit and thrown off by a car <EOS>', '<BOS> a motorcyclist is hit by a car and then surrounded by cops <EOS>', '<BOS> a motorcyclist is hit by a car <EOS>', '<BOS> a motorcyclist is hit by a car <EOS>', '<BOS> a motorcyclist is struck by a car <EOS>', '<BOS> someone on a motorcycle is hit by a car <EOS>', '<BOS> the car hit the motorcycle <EOS>', '<BOS> the car hit the motorcyclist <EOS>', '<BOS> a majar byk accident <EOS>', '<BOS> a motorcycle crashes into a car <EOS>', '<BOS> an accident is held on the road <EOS>', '<BOS> an accident is took place <EOS>', '<BOS> bank robbery ends in motorcycle crash <EOS>', '<BOS> bank robbery ends in motorcycle crash <EOS>', '<BOS> the robers accident <EOS>', '<BOS> a car crashes into a motorcycle <EOS>', '<BOS> a car crashes into a motorcycle <EOS>', '<BOS> a car dashes a bike <EOS>', '<BOS> a car hit a motorcycle <EOS>', '<BOS> a car hits a motorcyclist <EOS>', '<BOS> a car is crashing into a motorcycle <EOS>', '<BOS> a car is hitting the bike <EOS>', '<BOS> a man driving a motorbike fastly met an accident with a car on the highway <EOS>', '<BOS> a man is driving car <EOS>', '<BOS> a motor bike rider hitted by a car <EOS>', '<BOS> a motorcycle crashed with the car <EOS>', '<BOS> a person riding a motorcycle is being hit by a car and thrown to the ground <EOS>', '<BOS> a speeding motorbike crashes into a car crossing its path <EOS>', '<BOS> a sudden crash <EOS>', '<BOS> somebody driving a car is dashing a men coming in bike <EOS>', '<BOS> the person got the accident <EOS>', '<BOS> the person is crash the car <EOS>', '<BOS> bike and car accident on the road <EOS>'], 'vid985': ['<BOS> a man appears to be fixing some metal object <EOS>', '<BOS> a hammer floats and hits a mans hand <EOS>', '<BOS> a hammer levitates and hits a mans hand <EOS>', '<BOS> a man is working on some kind of flanged piece of metal when a hammer that is laying on the ground rises up and hits his hand <EOS>', '<BOS> a man is fitting a machine <EOS>', '<BOS> a man is getting hit by a hammer <EOS>', '<BOS> a hammer hits a man on his hand <EOS>', '<BOS> a man is working <EOS>', '<BOS> a hammer flies up and hits a man <EOS>', '<BOS> a hammer hits a guy in the hand <EOS>', '<BOS> a man is using a wrench <EOS>', '<BOS> a man working in a plant is suddenly hit on his right hand by a hammer lying on the floor <EOS>', '<BOS> the man was hit by a flying hammer <EOS>', '<BOS> the hammer moved by itself and hit the man <EOS>', '<BOS> a man is using a wrench on a pipe fitting <EOS>', '<BOS> a hammer flies up by itself and hits a worker on his hand <EOS>', '<BOS> a man reels up some string and gets whacked by a hammer <EOS>', '<BOS> the hammer moved by itself and hit the man s hand <EOS>', '<BOS> the person is playing with hammer <EOS>', '<BOS> a hammer hits a man in the hand <EOS>', '<BOS> a hammer attacks a man while working <EOS>', '<BOS> a amazing accident is done with people <EOS>', '<BOS> a person weird who cares <EOS>', '<BOS> the man is repairing <EOS>', '<BOS> a man is working with a wrench when a hammer suddenly jumps up off the ground and hits him <EOS>', '<BOS> a man repairing a a machine <EOS>', '<BOS> the working is supper <EOS>', '<BOS> a man is attacked by a hammer <EOS>', '<BOS> a person is repairing <EOS>', '<BOS> a hammer flies up and hit a man in the hand <EOS>', '<BOS> a hammer flying and hitting a man working <EOS>', '<BOS> the hammer flew up and hit the man s hand <EOS>', '<BOS> a hammer hurt the man <EOS>', '<BOS> the hammer hit the man s hand <EOS>', '<BOS> a hammer is hammering a man s hand <EOS>'], 'vid1589': ['a dog is playing with a fly on the floor', 'a dog is trying to catch a fly', 'a dog is trying to catch a fly', 'a dog is playing with a fly', 'a dog is playing with an ant', 'a dog is trying to get a fly on the ground', 'a dog is pawing at a fly in the carpet before it', 'a dog bats at a fly', 'a dog is barking at a fly', 'a brown dog barks and tries to nab a housefly moving around on the carpeted floor', 'a dog playing with a fly', 'the dog played with a bug on the carpet', 'the dog is playing with the fly', 'a dog is playing with a fly', 'the dog played witha bug', 'a beagle dog is on the floor watching a fly crawling around and starts to bark at it', 'a dog is barking at a fly', 'a dog is making fun with a fly', 'a dog is playing with a ball', 'a dog is playing with a fly', 'a dog is trying to catch a fly', 'a dog play with a bee', 'a dog plays with a fly on a carpet', 'a dog trying to hit a fly', 'archie and fly playing', 'the housefly is distrubing the dog', 'a dog archie barks at the fly and it wanted to catch it', 'a dog is observing a bug', 'a dog is pawing a fly', 'a dog is playing', 'a dog is playing with a bug', 'a dog is playing with a fly on the rug', 'a dog is playing with a fly', 'a dog is playing with a fly', 'a dog is playing with a fly', 'a dog is playing with a fly', 'a dog is playing with a fly', 'a dog is playing with a fly', 'a dog is playing with a fly', 'a dog is playing with fly', 'a dog is swatting at a bug', 'a dog is trying to catch the fly', 'a dog is trying to scare a fly', 'a dog is trying to touch a fly', 'a dog paws at a fly', 'a dog playing with a fly', 'a dog playing with fly', 'a dog plays with a fly without hurting it', 'a dog trying to hit the fly', 'a domestic dog plays with a housefly', 'dog playing with a fly', 'the dog is barking to the fly', 'the dog is teasing a fly', 'a dog catching a flie', 'a dog is playing with an insect', 'fight with a small creature by dog', 'the dog is playing with housefly', 'a dog playing with a fly'], 'vid1585': ['a cook making a cheese dish', 'a man is grating a potato', 'a man is grating a raw peeled potato using a grater and putting it in a bowl of water', 'a man is shredding a potato in the water', 'a person grates a potato into a bowl', 'a person is grating a potato into a bowl of water', 'a person is grating a potato into a pan that contains water', 'a person is grating potatoes into a bowl of water', 'a potato is being grated', 'a potato is being shredded into a bowl of water', 'a potato is grated into a bowl of water', 'some is grating onion into water', 'someone grated a potatoe into the water', 'someone is shredding potatoes into a bowl of water', 'the cook is shredding potatoes into water', 'the person is cutting potato and putting them in water', 'a woman is describing how to make potato pancakes', 'someone is grating potatoes into a bowl of water', 'a man is grating a peeled potato into a bowl', 'a man is grating potatoes to make potato pancakes', 'a person is grating a potato into a bowl of water', 'grating potatoe in a bowl filled with water', 'someone is grating a potato into a bowl of water', 'they demonstrate the potato pancakes', 'potatoes are cutted for potato pancakes', 'a woman is grating potato', 'a person is grating a potato', 'a person is grating potatoes into a bowl of water', 'making potato pancakes by greating potatoes in to water', 'chef showing how to make delicious potato pancakes', 'potatoes are being grated into water', 'someone is graiting potatoes into a bowl of water', 'somebody is cooking', 'a chef is shredding potatoes into a bowl of water', 'a man is cutting the potato with mandline', 'a man is grating potatoes', 'someone grated a potatoe into a bowl of water', 'a man cooking his kichen', 'a man is shredding peeled potatoes into a bowl of water', 'a cook is grating a potato', 'the cook is grating potatoes into water', 'a person is grating potatoes into a bowl', 'the chef is teaching how to make potato pancakes', 'someone grated a potatoe into liquid'], 'vid72': ['<BOS> someone pours water into an empty tomato sauce can and swishes it around to remove the sauce on the side <EOS>', '<BOS> a man puts water into a tin can <EOS>', '<BOS> a person pours water into a tin can <EOS>', '<BOS> someone is rinsing out a tomato sauce can with water <EOS>', '<BOS> a person is adding a can of water to a pot that is simmering on a stove <EOS>', '<BOS> someone is adding water to a can <EOS>', '<BOS> a man is adding water to a can <EOS>', '<BOS> someone pours water into a sauce can <EOS>', '<BOS> someone is pouring water into a can <EOS>', '<BOS> someone pours water into a can <EOS>', '<BOS> a man is adding tomato sauce and water to a pot <EOS>', '<BOS> the man poured water into the tomato sauce can <EOS>', '<BOS> the man put water into the tomato sauce can <EOS>', '<BOS> a person pours water into a can of tomato paste <EOS>', '<BOS> the man poured water into the tomatoe sauce can <EOS>', '<BOS> the person is cooking <EOS>', '<BOS> the person id preparing the item <EOS>', '<BOS> someone is preparing something <EOS>', '<BOS> a man added some water in vegetarian chili <EOS>', '<BOS> a man is cooking chilly <EOS>', '<BOS> a man pours water into a tin can <EOS>', '<BOS> someone is pouring sauce into a pan <EOS>', '<BOS> a man pours water into a sauce can <EOS>', '<BOS> a person coking <EOS>', '<BOS> the man poured water into the tomatoe sauce can to rinse it out <EOS>', '<BOS> a man cooking his kichen <EOS>', '<BOS> the man poured sauce in the pot <EOS>', '<BOS> the cook preparing chilli soup <EOS>', '<BOS> a man is pouring some water into a can <EOS>', '<BOS> someone rinses the dregs out of a can of tomato paste <EOS>'], 'vid1511': ['a guy is cutting cucumber', 'a man cuts cucumber slices', 'a man cuts up cucumber', 'a man is chopping a cucumber into slices', 'a man is chopping cucumbers', 'a man is cutting a cucumber into slices', 'a man is cutting cucumbers', 'a man is cutting some vegetables', 'a man is slicing a cucumber', 'a man is slicing a cucumber', 'a man is slicing a cucumber', 'a man is slicing a cucumber', 'a man is slicing a cucumber', 'a man is slicing an unpeeled cucumber using a knife', 'a man is slicing up some cucumbers', 'the man cut up a cucumber', 'the man is slicing cucumbers', 'the man sliced a cucumber', 'a man drinking fruit juice', 'a man is making a drink', 'a man is cutting a cucumber', 'the person is cutting the something', 'the man is cutting cucumber for making juice', 'a man is cutting a cucumber', 'a man is slicing cucumbers', 'pictures of seven varieties', 'the man is cutting vegetables', 'a man is slicing a cucumber into pieces', 'a man is cutting up a cucumber', 'a man is cutting cucumber into pieces', 'cutting the veagitables', 'someone preparing something', 'a man is slicing a cucumber', 'a man is cutting a vegetable', 'cooking with jack shows how to make lazy man s drinks', 'a man coking', 'a man is slicing some cucumbers', 'a chef slicing cucumber into circles', 'a man cutting cucumber with a knife', 'a man is cooking his kichen', 'a chef slices cucumber', 'a fat man is drinking', 'how to make lazy mans drinks video'], 'vid1517': ['a cat is grooming a large dog with it s tongue', 'a cat licks a sleeping dogs head', 'a dog and cat are sitting next to one another and the cat is licking the dogs head', 'a cat is licking a sleeping dog', 'a cat is licking a dog s face', 'a cat is licking a dog', 'a cat is licking a dog', 'a cat is licking a dog s head', 'a cat licks a dog s head', 'a cat is cleaning a dog', 'a cat is licking a dog', 'a cat is licking a dog', 'the cat licked the dog s head', 'the cat is licking the sleeping dog s head', 'a cat grooms a dog', 'the cat licked the dog s head', 'cat and dog are playing', 'the animals are playing', 'friendship with cat and dog', 'a cat is licking a dog', 'the cat is licking the dogs neck and the dog is enjoying is', 'the cat is playing with dog', 'dog and cat were friends', 'a cat is playing with dog', 'a cat is licking a dog s ear', 'a cat is grooming a dog with its tongue', 'a cat is licking a dog s head', 'a cat is licking a sleeping dog on the streetside', 'best friends dog and cat', 'dog sleeping the foot and near cat is dog had eaching', 'the dog is taking the rest', 'a cat is licking a dogs head', 'an animals are playing', 'the cat is licking the dog s head', 'a cat is licking a sleeping dog on his head', 'a dog and cat is playing', 'really super friendly dog and cat', 'a cat is licking a dog'], 'vid1228': ['a bird is dancing on a chair', 'a bird dances on the back of a chair', 'a bird is bobbing up and down to music', 'a bird is dancing on top of a chair', 'a bird is dancing to music', 'a bird is dancing', 'a bird is dancing', 'a bird is dancing', 'a bird is dancing', 'a cockatoo dances', 'a cockatoo is dancing on the top of a chair', 'a parrot is dancing with music', 'a white bird is perched on some object and it s bobbing up and down', 'a white parrot with a yellow crest is stamping its feet rhythmically to background music', 'an uncaged bird dances to a song', 'the bird danced on his perch', 'the bird is dancing', 'the white bird danced on the perch', 'a bird is dancing on the back of a chair', 'a bird is dancing on the back of a chair', 'a parrot is dancing', 'a parrot is dancing', 'a parrot is dancing beautifully', 'a parrot is standing on the sofa', 'a white cockatoo named snowball dances to rock music and keeps perfect time', 'another one bites the dust', 'snowball and another one bites the dust', 'the white parrot is dancing', 'a bird dances', 'a bird dancing', 'a bird is bobbing its head in dancing on the back of the chair', 'a bird is dancing', 'a bird is dancing', 'a bird is dancing', 'a bird is dancing', 'a bird is dancing', 'a bird is dancing', 'a bird is dancing', 'a bird is dancing', 'a bird is dancing', 'a bird is stepping up and down in place and bobbing it s head up and down', 'a bird is tapping it s feet', 'a cockatoo dances on the back of a chair', 'a cockatoo is bobbing up and down', 'a cockatoo is dancing on a chair', 'a cockatoo is dancing on a chair', 'a cockatoo is dancing on the back of a chair', 'a cockatoo is dancing', 'a large bird is dancing on the top of the back of a chair', 'a parrot is dancing and istructing others birds who are in cage', 'a parrot is dancing on the sofa', 'a parrot is dancing', 'a puppy is playing', 'a white parrot dancing on a sofa', 'the cuckatoo is dancing and bouncing', 'a bird is dancing', 'a parrot is dancing', 'singing parrot'], 'vid1733': ['an american flag is waving in the wind', 'the united states flag is waving', 'the american flag is waving', 'an american flag waving in the air', 'an american flag is flying', 'a american flag is blowing in the wind', 'american flag is waving', 'the united states flag is waving in the wind', 'a flag is waving', 'an american flag is waving', 'a flag is blowing in the wind', 'an american flag is waving', 'the american flag fastened at one end is flying in the wind', 'the american flag flew in the wind', 'the flag was moving in the air', 'a flag waves in the wind', 'the american flag flew in the wind', 'the singer sing with his guitor in the music programme', 'a flag is waving in the wind', 'america flage', 'a flag is flagging', 'war between america and un other country', 'a flag is flying', 'a flag is flying', 'the flag is flying', 'the flag is waving in the air', 'a flag is blowing in the wind', 'a flag ripples in the wind'], 'vid1223': ['a chef is cutting cauliflower', 'a chef is peeling the stalk of a broccoli', 'a cook peels a broccoli stem with a butcher s knife', 'a man cuts the stem of a broccoli at the base using a large flat knife and peels it off', 'a man is chopping broccoli into small pieces', 'a man is peeling broccoli', 'broccoli is being cut', 'broccoli is being peeled', 'broccoli is peeled with a knife', 'man is trying to cut broccoli', 'the chef picked at the broccoli stem', 'the chef picked at the brocoli stem', 'the man is peeling broccoli', 'the stem of the broccoli is peeled', 'the man is slicing broccoli', 'a man is chopping broccoli', 'a man is cutting broccoli', 'a person is peeling a stem of broccoli', 'a chef is slicing a broccoli', 'chopping broccoli with a sharp knife on a wooden table', 'a man is peeling broccoli', 'a man properly cutting the broccoli', 'a man is cutting up broccoli', 'someone is peeling broccoli', 'a chef person is cutting something', 'a chef is cutting broccoli', 'a person is cutting vegetable', 'a man is cutting vegetable', 'a person is showing how to peel a broccoli stem', 'a chef showing how to cut broccoli properly for chinese dishes', 'a man explaining to cut broccoli for chinese dish', 'a chef is skinning a broccoli s stem', 'a woman is cleaning broccoli', 'a chef is chopping broccoli', 'a man is cutting brococoli', 'a man is cutting vegetables', 'a chef is cutting up broccoli', 'a man is peeling the stem of broccoli', 'the chef cut the stem of the broccoli', 'a cook is cutting broccoli', 'a man cutting vegitable', 'the chef is cutting broccoli', 'man is removing leaves of broccoli with knife', 'a man is cutting broccoli', 'the chef picked at the broccoli stem'], 'vid1225': ['a man is carrying another man over his shoulder', 'a man is carrying a man over his shoulder', 'a man is carrying another man', 'a man is carrying someone on his shoulder', 'a man is carrying another man', 'a man is carrying another man on his back', 'a man carries a body towards a table', 'a man is carrying another man', 'frankenstein is carrying a man over his shoulder', 'a man is carrying someone', 'a man is carrying another man over his shoulder', 'a man is walking slowly carrying another person slumped across his left shoulder in a dungeon like room', 'the man carried another man to the table', 'the man is carrying a body', 'a man carries another man over to a pedastal', 'a mand carried another man on his shoulder to the table', 'a person is charring the another person', 'a man carries another man onto an altar', 'strugling for live', 'a man is carrying someone over his shoulder', 'a man is carrying another man on his back', 'a man carrying another man on his shoulders', 'its a horror scene from the movie', 'a man is bring the another man', 'a man is carying another man over his shoulder', 'a man pick up a man', 'a man is carring another man on his shoulders', 'a man do something weird terror creatures from the grave', 'a man carrying another man', 'a man is carrying someone', 'a man carrying another man', 'a man take a body on his back', 'the man is carrying a body', 'a man picking man', 'super old film video', 'a man is carrying someone'], 'vid173': ['<BOS> a woman peels a potato <EOS>', '<BOS> a man is peeling a potato using a knife <EOS>', '<BOS> a man is peeling a potato <EOS>', '<BOS> a potato is being peeled <EOS>', '<BOS> a woman is peeling a large potato <EOS>', '<BOS> a woman is peeling a potato <EOS>', '<BOS> a woman is peeling a potato <EOS>', '<BOS> a woman is peeling a potato <EOS>', '<BOS> a woman is peeling a potato <EOS>', '<BOS> a woman peels a potato <EOS>', '<BOS> a woman peels a potato <EOS>', '<BOS> a woman peels a potato <EOS>', '<BOS> an elderly woman is slicing a potato <EOS>', '<BOS> an old woman is peeling a large raw potato using a vegetable peeler <EOS>', '<BOS> an old woman is peeling a potato <EOS>', '<BOS> the lady is peeling a potatoe <EOS>', '<BOS> the lady peeled a potatoe <EOS>', '<BOS> the woman is peeling a potato <EOS>', '<BOS> the old woman is peeling potatoes <EOS>', '<BOS> a woman is peeling a potato <EOS>', '<BOS> an older woman is peeling a potato <EOS>', '<BOS> a woman is peeling a potato <EOS>', '<BOS> an old lady peeling a potato with peeler <EOS>', '<BOS> a woman is peeling a potato <EOS>', '<BOS> a woman is peeling a potato <EOS>', '<BOS> a woman is peeling a potato <EOS>', '<BOS> an old woman cooking alone <EOS>', '<BOS> a woman is peeling a potato <EOS>', '<BOS> an old woman is peeling a potato <EOS>', '<BOS> a man is peeling a potato <EOS>', '<BOS> a woman is peeling a potato <EOS>', '<BOS> a potato is a terrible thing to waste <EOS>', '<BOS> a woman is peeling a potato with a vegetable peeler <EOS>', '<BOS> a woman peeling a potato <EOS>', '<BOS> a old lady is taking of the pickel <EOS>', '<BOS> clara <EOS>', '<BOS> a woman peels a potato <EOS>', '<BOS> a man is peeling a potato <EOS>', '<BOS> a woman is peeling a potato <EOS>', '<BOS> potato slicing with knife <EOS>', '<BOS> a woman is peeling a potato <EOS>', '<BOS> a woman is peeling a potato <EOS>', '<BOS> an old lady is peeling the skin of potatoe <EOS>', '<BOS> a woman is peeling a potato <EOS>', '<BOS> old is gold idea for cooking <EOS>', '<BOS> a person is peeling a potato <EOS>', '<BOS> a woman peels a potato <EOS>', '<BOS> removing the peal of potato <EOS>', '<BOS> a woman is cooking <EOS>', '<BOS> the lady peeled the potatoe <EOS>', '<BOS> an elderly lady is peeling a potato <EOS>', '<BOS> a woman is slicing a potato peel <EOS>', '<BOS> a old woman cooking kichen <EOS>', '<BOS> the woman is peeling a potato <EOS>', '<BOS> one woman peels potato <EOS>', '<BOS> today s menu in my food is potato <EOS>', '<BOS> a woman peels a potato <EOS>', '<BOS> a man is peeling potato <EOS>', '<BOS> the lady peeled the potatoe <EOS>'], 'vid1054': ['<BOS> a guy is playing the guitar <EOS>', '<BOS> a man is playing a guitar in the room <EOS>', '<BOS> a man is playing a guitar on the floor <EOS>', '<BOS> a man is playing a guitar <EOS>', '<BOS> a man is playing a guitar <EOS>', '<BOS> a man is playing guitar <EOS>', '<BOS> a man is playing guitar <EOS>', '<BOS> a man is playing the guitar <EOS>', '<BOS> a man is playing the guitar <EOS>', '<BOS> a man is sitting on the floor playing a guitar <EOS>', '<BOS> a man played his guitar on the floor <EOS>', '<BOS> a man plays a guitar while another man listens <EOS>', '<BOS> a man sitting on the floor in a room is strumming a guitar <EOS>', '<BOS> a man sitting on the floor plays a guitar <EOS>', '<BOS> a man strums a guitar <EOS>', '<BOS> a man watches another man play the guitar <EOS>', '<BOS> the man is playing the guitar <EOS>', '<BOS> the man played the guitar on the floor <EOS>', '<BOS> two men are sitting in a room <EOS>', '<BOS> a man is performing guitar <EOS>', '<BOS> a man is playing guitar <EOS>', '<BOS> a man playing guitar <EOS>', '<BOS> the person is playing guitar <EOS>', '<BOS> a man is playing the guitar <EOS>', '<BOS> the man is playing guitar <EOS>', '<BOS> a man is playing guitar <EOS>', '<BOS> the two persons are practice th e music with guitor <EOS>', '<BOS> a man is playing a guitar <EOS>', '<BOS> a man is playing guitar <EOS>', '<BOS> a man is playing a guitar <EOS>', '<BOS> a man is playing a guitar <EOS>', '<BOS> a man plays a guitar and another man listens <EOS>', '<BOS> the man is practicing playing guitar while sitting on his bed <EOS>', '<BOS> a man playing guitar <EOS>', '<BOS> a boy ringing the gitar <EOS>', '<BOS> someone is playing guitar <EOS>', '<BOS> a man is listening to his friend s music <EOS>', '<BOS> a man is playing guitar <EOS>', '<BOS> this boy plying the gitar <EOS>', '<BOS> a man playing some sort of notes on a guitar <EOS>', '<BOS> a man listen music to his friend by playing guitar <EOS>', '<BOS> a man is playing guitar <EOS>', '<BOS> a man is playing the music <EOS>', '<BOS> a person playing gitter <EOS>', '<BOS> a man is playing guitar <EOS>', '<BOS> the man is playing the guitar <EOS>', '<BOS> a man is playing guitar <EOS>', '<BOS> a man is playing a guitar <EOS>'], 'vid1355': ['a toddler is riding a horse', 'a little boy is riding a horse', 'a child is riding a horse', 'a young child is shown riding a horse', 'a small baby is riding on a horse', 'a little boy is riding a horse', 'a little girl is riding a horse', 'a baby is riding on a horse', 'a child is riding a horse', 'a young child is riding a horse', 'a young child rides a horse', 'a child is riding a horse', 'a small child is riding a horse which is trotting slowly', 'a small child riding a horse', 'a little boy rode a horse', 'a little girl rides on a horse', 'the toddler is riding a horse', 'a little girl is sitting on a horse being lead somewhere', 'a child is riding a horse', 'the little girl rode a horse', 'a baby is riding in a horse', 'a child is riding a horse', 'a child is riding on a horse', 'a child riding a horse', 'baby riding horse', 'a baby is riding a horse', 'a baby is riding a horse', 'a baby is riding horse', 'a baby is riding on a horse', 'a baby is riding on the horse', 'a baby riding horse', 'a baby riding horse', 'a boy enjoying a ride on a horse and seems to be alone', 'a boy riding on the horse', 'a child is riding a horse', 'a child is riding a horse', 'a child is riding a horse', 'a child is riding on the horse', 'a girl is riding a horse', 'a girl is riding a horse', 'a girl is riding a horse', 'a horse is being driven by a small boy', 'a kid having a horse ride', 'a kid is riding a horse', 'a little girl is riding a horse', 'a small kid is riding the horse', 'a small riding horse', 'a tiny child is riding a pony', 'a toddler is riding a horse', 'a toddler is riding a horse', 'a young boy riding a horse', 'a young girl is riding a horse', 'a young girl is riding a horse', 'the boy is going on the horse', 'the child is riding on the horse', 'a boy is riding on the horse', 'a small boy is riding in a horse', 'a baby riding horse outside the city'], 'vid1354': ['three young men are standing on stage playing guitars', 'men are playing guitars on stage', 'a trio of men are playing guitars', 'men are playing guitars', 'three men are on stage singing and playing guitars', 'three men are playing a guitar on a stage', 'three men are playing acoustic guitars and singing on stage', 'men are playing guitar on stage', 'three men are playing guitars and singing together', 'some men are playing guitars', 'three men are playing guitar', 'three men are playing guitars', 'the men are singing and playing the guitar', 'three people play the guitar', 'three men are on stage playing guitars', 'the boys are playing the music', 'a music team is playing guitar', 'three men play the guitar', 'the man s are playing guitar', 'three people are playing guitar on a stage', 'a man is playing guitar', 'the boys are playing the guitar', 'three man is singing with guiter', 'the boys are playing the guitar', 'the three men played their guitars on stage', 'peoples are playing music', 'the men are singing and dancing'], 'vid1424': ['a woman is doing a dance on a rooftop', 'a girl danced on the roof of a building', 'a girl is dancing on a decorated floor', 'a girl is dancing', 'a girl is dancing', 'a lady danced on a rooftop', 'a woman dances on a decorated brick floor', 'a woman in a martial arts costume is dancing', 'a woman is dancing on the terrace of a building and stepping on colored powder patterns on the floor', 'a woman is dancing', 'a woman is dancing', 'a woman is performing a dance on a floor that is covered with colored geometric shapes', 'a woman is ritually dancing', 'the woman is dancing', 'kavithai kelungal song from punnagai mannan', 'a girl dacing on the house', 'a girl dancing on roof', 'a lady is dancing', 'a woman dances on a rooftop', 'a woman is dancing', 'a women dancing', 'actor revathi dancing in punnagai mannan for the song kavithai kelungal', 'the clouds are behind the mountain landscapes', 'the clouds behind the mountains are beautiful', 'a floor decoration on show', 'a girl dances', 'a girl dancing on the roof of a house', 'a girl dancing on the terrace of a house', 'a girl is dancing a bharatanatiyam', 'a girl is dancing', 'a girl is dancing', 'a girl is dancing', 'a lady is standing', 'a woman is dancing around the roof of a building', 'a woman is dancing on a decorated rooftop', 'a woman is dancing on a roof', 'a woman is dancing on the roof of a building', 'a woman is dancing on up stairs floor', 'a woman is dancing', 'a woman is dancing', 'a woman is dancing', 'a woman is dancing', 'a woman is dancing', 'a woman is dancing', 'a woman is dancing', 'an actress is dancing for a song', 'an actress was dancing near a kolam', 'dance is being performed by a girl', 'dancing in open terrace in a floor designed with colored powder', 'young lady dancing alone in heavens', 'a actress is dancing around the drawing', 'a actress performing classical dance in movie'], 'vid1423': ['someone folds a piece of paper in half with the yellow side out', 'a person folds a piece of paper', 'a person folds a piece of paper', 'a man is folding a piece of paper', 'a person is folding a paper', 'a woman is folding a sheet of yellow paper', 'someone is folding a piece of paper', 'a woman is folding a paper', 'someone is folding some paper', 'a woman is folding paper', 'a person is folding paper', 'a person is folding a piece of paper', 'the lady folded the paper in half', 'the woman is folding paper', 'a woman is folding paper', 'a person folds over a piece of paper', 'the lady folded a yellow piece of paper in half', 'a woman is folding a piece of paper', 'a lady is origami boat paper', 'a lady is making origami boat', 'the person is folding the paper', 'the person is doing the something', 'a person is folding a piece of yellow paper', 'a woman is folding a piece of paper', 'folding a small yellow paper in half', 'a person is fold the paper', 'the lady folded the yellow paper in half', 'a person is folding a piece of paper in half', 'the person is folding paper', 'a woman is folding a paper', 'a woman folds a sheet of paper in half'], 'vid1353': ['a young boy plays the violin on stage', 'a boy is onstage playing the violin', 'a boy is playing a violin on a stage', 'a boy is playing a violin on stage', 'a boy is playing a violin', 'a boy is playing a violin', 'a boy is playing a violin', 'a boy is playing a violin', 'a boy is playing the violin onstage', 'a boy is playing the violin', 'a boy is playing the violin', 'a boy is playing violin on stage', 'a boy is playing violin', 'a boy played the violin', 'a boy plays a violin', 'a boy plays the violin', 'a boy plays violin on stage', 'a young boy is playing a violin on stage', 'a young boy is playing the violin', 'the boy is playing the violin on stage', 'the boy is playing the violin', 'a boy is playing a violin', 'a boy is playing violin', 'a small boy playing violin in the stage', 'a kid is playing the violin on stage', 'a boy is playing a giutar righ now', 'one child playing a violen', 'a child playing gitter', 'the small play the velion', 'a little boy is playing the violin', 'a boy is playing the violin on stage', 'a boy is playing on a violin', 'a violin is played by a boy', 'boy playing a violin', 'a young boy playing an instrument', 'a small bay is playing a violin', 'a boy plays a violin on a stage', 'a boy playing a violin', 'a boy is playing a violin on stage', 'a boy is playing a violin', 'the boy is playing violin very nicely', 'a kid is playing voilin', 'a boy is playing the violin on a stage', 'a boy playing violin', 'a boy is playing a violin', 'a young boy playing a violin in a hall', 'a child plays violin', 'a boy is playing the violin', 'a small boy is playing a violin on stage', 'a boy plays the violin on stage', 'a small boy is playing violin', 'a boy playing a violin in some sort of show or concert', 'a boy is playing the violin', 'a boy playing a violin', 'a boy is playing violin', 'a boy is playing the violin', 'a boy playing music', 'a boy plays violin alone on stage', 'a boy is playing a violin', 'a young boy plays the violin', 'a boy playing the violin', 'a boy is playing violin onstage', 'a boy is playing violin', 'a boy is performing violin on a state', 'one boy is playing violin', 'a boy performing a guitar'], 'vid1420': ['a man pealing a banana', 'a banana is being peeled', 'a banana is being peeled', 'a banana is being peeled', 'a banana is peeled', 'a man peels a banana', 'a person is peeling a banana from the round end', 'a person is peeling a banana', 'a person is peeling a banana', 'a person is peeling the skin of a banana from all the sides of the base', 'a person opening a banana', 'a woman is opening a banana', 'someone is peeling a banana from the bottom', 'someone is peeling a banana', 'someone is peeling a banana', 'someone peels a banana', 'the person is peeling a banana', 'peeling off the banana', 'a guy opening the banana properly', 'a man is demonstrating the correct technique for opening a banana', 'very clear how to banana open', 'peel the banana skin from the tip end downwards towards the other end', 'a clipping showing how to peel a banana', 'a man is peeling a banana', 'a man is peeling a banana', 'a man is peeling a banana', 'a man is peeling a banana', 'a man is peeling banana from the bottom end', 'a man peeled a banana from the bottom', 'a man slicing banana', 'a person is opening a banana', 'a person is peeling a banana from the bottom', 'a person is peeling a banana on a table', 'a person is peeling a banana', 'a person is peeling a banana', 'a person is peeling a banana', 'a person is peeling a banana', 'a person is peeling a banana', 'a woman is removing the banana peel', 'an individual is peeling a banana', 'man opening bananna', 'peeling a banana properly', 'person peeling a banana', 'someone is opening a banana', 'someone is pealing the skin of a banana', 'someone is peeling a banana from the bottom end', 'someone is peeling a banana', 'someone opened the banana from its bottom', 'someone peels a banana', 'somone is peeling a banana', 'start peeling a banana from the bottom edge one by one', 'the man is peeling a banana', 'the person is peeling a banana', 'pickel of banana is beentake off', 'a man skinning yellow bananna', 'how to open a banana properly'], 'vid1128': ['<BOS> a kitten moves about <EOS>', '<BOS> a baby cat is nodding off <EOS>', '<BOS> a cats falls asleep <EOS>', '<BOS> a furry kitten falls asleep <EOS>', '<BOS> a kitten is falling asleep <EOS>', '<BOS> a kitten is falling asleep <EOS>', '<BOS> a kitten is falling asleep <EOS>', '<BOS> a kitten is falling asleep <EOS>', '<BOS> a kitten starts to fall asleep <EOS>', '<BOS> a small furry kitten seated on a sofa is almost dozing off <EOS>', '<BOS> a young kitten is drowsily sitting <EOS>', '<BOS> the kitten is trying to fall asleep <EOS>', '<BOS> the kitten was falling asleep sitting up <EOS>', '<BOS> a cute cat <EOS>', '<BOS> pink with black color <EOS>', '<BOS> a kitten is sleeping <EOS>', '<BOS> a cat is falling asleep <EOS>', '<BOS> a cat is sleeping <EOS>', '<BOS> a cat is sleeping <EOS>', '<BOS> cat sleep is seeing very nice so cute cat <EOS>', '<BOS> cat sleeping <EOS>', '<BOS> please do not disturb <EOS>', '<BOS> a cat is sleeping <EOS>', '<BOS> a cat is sleeping on the bed <EOS>', '<BOS> a cat is sleeping <EOS>', '<BOS> a cat is slowly falling asleep <EOS>', '<BOS> a cat is trying to sleep <EOS>', '<BOS> a cat sleeping <EOS>', '<BOS> a cat taking a nap <EOS>', '<BOS> a cute kitten dozing while sitting <EOS>', '<BOS> a cute <EOS>', '<BOS> a kittan is sleepy <EOS>', '<BOS> a kitten is dozing off to sleep <EOS>', '<BOS> a kitten is falling asleep as she is sitting <EOS>', '<BOS> a kitten is falling asleep <EOS>', '<BOS> a kitten is falling asleep <EOS>', '<BOS> a kitten is falling asleep <EOS>', '<BOS> a kitten is falling asleep <EOS>', '<BOS> a kitten is napping <EOS>', '<BOS> a kitten is sitting <EOS>', '<BOS> a kitten is sleeping <EOS>', '<BOS> a kitten is tired and sleepy <EOS>', '<BOS> a kittens head is dropping as it falls asleep <EOS>', '<BOS> a small cat is falling asleep <EOS>', '<BOS> the kitten fell asleep sitting up <EOS>', '<BOS> the kitten fell asleep sitting up <EOS>', '<BOS> the kitten is sleeping <EOS>', '<BOS> the kitten is trying to sleep <EOS>', '<BOS> while sitting up <EOS>'], 'vid1908': ['meat is being chopped', 'a chef cuts beef', 'a man is chopping beef using a large flat kitchen knife', 'a person dices meat with a butcher knife', 'a person is chopping some cooked beef', 'a person os slicing beef with a cleaver', 'meat is being shanked', 'meat is chopped with a knife', 'meet is being chopped', 'someone is chopping mushrooms', 'the cook is chopping up meat', 'the cook is cutting up meat', 'smashing the meat with the knife', 'a guy preparing the noodles soup', 'a person cutting some beaf and preparing something', 'beef is being chopped', 'chef showing how to make a spicy vietnamese beef noodle soup', 'someone is cutting mushroom', 'cutting into small pieces for big cooking', 'he is a sheaf and telling us how to make faux pho spicy vietnamese beef noodle soup', 'a chef is cutting up food', 'a chef is slicing beef', 'a cook is chopping beef', 'a guy is chopping up some kind of meat', 'a man is chopping meat', 'a man is chopping meat', 'a man is chopping up beef with a cleaver', 'a man is cutting a beef into small pieces', 'a man is mixing ingredients for a soup', 'a person is chopping meat', 'a person is chopping meat', 'a person is cutting beef', 'a person is cutting up beef', 'a person is cutting up meat with a cleaver', 'a yummy noodle dish being prepared', 'beef is being chopped with a knife', 'food is being diced', 'meat is being chopped into bits', 'preparing beef noodle soup', 'some meat is getting chopped by a knife', 'somebody is chopping meat', 'someone chopped up meat', 'someone chopped up meat', 'someone chops up some meat', 'someone is slicing meat', 'somone is chopping meat', 'the cook is dicing meat', 'the person is slicing meat', 'preparazione di una ricetta vietnamita', 'spicy vietnamese beef noodle'], 'vid674': ['<BOS> someone is turning over chicken wings with tongs <EOS>', '<BOS> a man flips chicken wings <EOS>', '<BOS> a man is turning chicken wings on a cookie sheet using a pair of tongs <EOS>', '<BOS> a man is turning foods <EOS>', '<BOS> a man turns chicken thighs on a baking pan <EOS>', '<BOS> a man is turning chicken wings on a pan <EOS>', '<BOS> a man is cooking chicken wings <EOS>', '<BOS> a man is turning over pieces of chicken <EOS>', '<BOS> a man is frying chicken <EOS>', '<BOS> a man is organizing meat on a tray <EOS>', '<BOS> a man is turning chicken with tongs <EOS>', '<BOS> someone is frying legs <EOS>', '<BOS> a man is flipping over chicken wings in the oven <EOS>', '<BOS> a man is flipping some chicken wings on a baking pan <EOS>', '<BOS> the man turned the chicken over on the cookie sheet <EOS>', '<BOS> the man is cooking chicken wings in the oven <EOS>', '<BOS> a man flips over some chicken <EOS>', '<BOS> the man turned the chicken over in the jellyroll pan <EOS>', '<BOS> the person is cooking the something <EOS>', '<BOS> a man preparing the chicken <EOS>', '<BOS> a man is turning over chicken wings <EOS>', '<BOS> jack demonstrate how to prepare the special food <EOS>', '<BOS> the person is flipping the meat <EOS>', '<BOS> a person is grillingroasting chicken pieces on a barbecue <EOS>', '<BOS> a man is flipping meat in the oven <EOS>', '<BOS> a guy is rotating chicken <EOS>', '<BOS> a man is putting the food into an oven <EOS>', '<BOS> a man is turning some chicken wings <EOS>', '<BOS> the man is flipping chicken wings <EOS>', '<BOS> a man is grilling chicken wings <EOS>', '<BOS> a man coking <EOS>', '<BOS> a person is cooking <EOS>', '<BOS> chicken wings are being turned over in a pan <EOS>', '<BOS> a person is making finger food <EOS>', '<BOS> a man cooking his kichen <EOS>', '<BOS> a man is turning chicken legs <EOS>', '<BOS> someone turns chicken wings over <EOS>'], 'vid678': ['<BOS> two women are slicing some lemons <EOS>', '<BOS> a girl is slicing a lemon into a halfmoon shape <EOS>', '<BOS> a lady sliced a lemon with a tool <EOS>', '<BOS> a woman cuts a lemon <EOS>', '<BOS> a woman is cutting a lemon <EOS>', '<BOS> a woman is cutting a lemon <EOS>', '<BOS> a woman is slicing a lemon <EOS>', '<BOS> a woman is slicing a lemon <EOS>', '<BOS> a woman is slicing a lemon <EOS>', '<BOS> a woman is slicing lemons <EOS>', '<BOS> a woman is using a knife to slice pieces off of a lemon <EOS>', '<BOS> a woman slices a lemon <EOS>', '<BOS> a women slicing lemons <EOS>', '<BOS> lemons are being sliced <EOS>', '<BOS> the girl sliced a lemon with a tool <EOS>', '<BOS> the woman is slicing a lemon <EOS>', '<BOS> two women are cutting up citrus fruits <EOS>', '<BOS> using a knife <EOS>', '<BOS> women are slicing lemons <EOS>', '<BOS> a men is slicing some lomens <EOS>', '<BOS> a woman is slicing some oranges <EOS>', '<BOS> a woman is slicing up a lemon <EOS>', '<BOS> cutting the lemons into slices <EOS>', '<BOS> refreshing drinks <EOS>', '<BOS> she is showing how to do refreshing drinks <EOS>', '<BOS> two girls are sitting in the dinning table <EOS>', '<BOS> two girls in the kitchen and one cutting the orange into pieces <EOS>', '<BOS> two women made drink <EOS>', '<BOS> two women making orange drink <EOS>', '<BOS> two womens cutting lemon <EOS>', '<BOS> two young ladies showing how to prepare a citrus flavored water <EOS>', '<BOS> women preparing juice <EOS>', '<BOS> a lady is cutting lemon into pieces <EOS>', '<BOS> a lady is cutting lemon <EOS>', '<BOS> a lady is cutting the fruit <EOS>', '<BOS> a lady is slicing the lemon <EOS>', '<BOS> a woman cutting an orange inorder to prepare some juice from it <EOS>', '<BOS> a woman is cutting a lemon <EOS>', '<BOS> a woman is cuttting a fruit <EOS>', '<BOS> a woman is slicing a lemon <EOS>', '<BOS> a woman is slicing a lemon <EOS>', '<BOS> a woman is slicing a lemon <EOS>', '<BOS> a woman is slicing a lemon <EOS>', '<BOS> a woman is slicing a sweet lime <EOS>', '<BOS> a woman is slicing some fruits <EOS>', '<BOS> a woman slices a lemon <EOS>', '<BOS> a woman slices orange without peeling it <EOS>', '<BOS> a woman slicing some vegitable <EOS>', '<BOS> a women slicing fruits <EOS>', '<BOS> how to make a good refreshing drink <EOS>', '<BOS> someone is slicing a lemon <EOS>', '<BOS> the two girls cut the fruits into pieces <EOS>', '<BOS> the women s are cutting the oranges <EOS>', '<BOS> two girls are preparing drinks <EOS>', '<BOS> two girls cutting oranges <EOS>', '<BOS> two woman are slicing some lemons <EOS>', '<BOS> two women are cooking <EOS>', '<BOS> two women are slicing oranges and cutting the slice in half <EOS>', '<BOS> two women chopping fruits and vegetables in the kitchen and preparing a drink <EOS>', '<BOS> two women slice lemon and cucumber next to a water carafe <EOS>', '<BOS> womens cutting the lemons and oranges for fresh juice <EOS>', '<BOS> a girl is cutting an orange <EOS>', '<BOS> the girls preparing the juice <EOS>', '<BOS> two women preparing refreshing drink <EOS>', '<BOS> a woman is slicing some oranges <EOS>'], 'vid774': ['<BOS> a woman is smoking a cigarette <EOS>', '<BOS> a woman is smoking a cigarette <EOS>', '<BOS> a woman is smoking a cigarette <EOS>', '<BOS> a woman is smoking a cigarette <EOS>', '<BOS> a woman is smoking a cigarette <EOS>', '<BOS> a woman is smoking a cigarette <EOS>', '<BOS> a woman is smoking a cigarette <EOS>', '<BOS> a woman is smoking a cigarette <EOS>', '<BOS> a woman is smoking cigar <EOS>', '<BOS> a woman is smoking <EOS>', '<BOS> a woman puffs on a cigarette <EOS>', '<BOS> a woman seated on a sofa is smoking a cigarette <EOS>', '<BOS> a woman smokes a cigarette <EOS>', '<BOS> a woman smokes <EOS>', '<BOS> a young woman slowly takes a drag off of a cigarette <EOS>', '<BOS> the lady smoked a cigarette with a blank face <EOS>', '<BOS> the lady smoked a cigarette <EOS>', '<BOS> the woman is smoking <EOS>', '<BOS> a woman smoke a cigarette <EOS>', '<BOS> the women is smoking <EOS>', '<BOS> a women is smoking cigarette <EOS>', '<BOS> a woman is smoking <EOS>', '<BOS> the lady smoke with cigarate <EOS>', '<BOS> a woman is smoking a cigarette <EOS>', '<BOS> a girl smoking cigarette <EOS>', '<BOS> the girl was smokking <EOS>', '<BOS> a woman is smoking a ciggarette <EOS>', '<BOS> a lady smoking <EOS>', '<BOS> a woman is smoking <EOS>', '<BOS> a woman is smoking a cigarette <EOS>', '<BOS> a woman smoking <EOS>', '<BOS> a woman is smoking <EOS>', '<BOS> a person is smoking <EOS>', '<BOS> a woman is smoking a cigarette <EOS>', '<BOS> the lady stared and smoked her cigarette <EOS>', '<BOS> a women is tasting the cigarette <EOS>', '<BOS> a scene from a film where a women smokes out of sorrow <EOS>', '<BOS> the woman is smoking <EOS>', '<BOS> a woman is smoking a cigarette <EOS>', '<BOS> a women is smoking <EOS>', '<BOS> a girl is touching ash <EOS>', '<BOS> smoking is a bad habit <EOS>', '<BOS> a woman is smoking a cigarette <EOS>', '<BOS> a woman smokes a cigarette <EOS>'], 'vid579': ['<BOS> a baby is smiling <EOS>', '<BOS> a baby sitting in a chair laughs <EOS>', '<BOS> a baby smiles <EOS>', '<BOS> a baby is laughing <EOS>', '<BOS> a baby is smiling <EOS>', '<BOS> a baby is smiling <EOS>', '<BOS> a young child is making faces <EOS>', '<BOS> a baby in a high chair laughs <EOS>', '<BOS> a baby is smiling <EOS>', '<BOS> a baby is laughing <EOS>', '<BOS> a baby is laughing <EOS>', '<BOS> a baby seated is emoting facial expressions according to the words uttered by an adult in the background <EOS>', '<BOS> the baby alternated between laughter and a serious look <EOS>', '<BOS> the baby is smiling <EOS>', '<BOS> a little kid looks perplexed <EOS>', '<BOS> the baby smiled <EOS>', '<BOS> smiling and crying baby in a twist of second <EOS>', '<BOS> the baby is seeing something <EOS>', '<BOS> the baby is smiling hearing some voices <EOS>', '<BOS> a baby is smiling <EOS>', '<BOS> a kid is laughing <EOS>', '<BOS> a baby is smiling <EOS>', '<BOS> a baby is laughing and making funny faces <EOS>', '<BOS> a baby is making happy <EOS>', '<BOS> a small boy smiling <EOS>', '<BOS> a girl is smiling <EOS>', '<BOS> a baby is laughing <EOS>', '<BOS> a weird baby <EOS>', '<BOS> this video shows a baby who smiles <EOS>', '<BOS> babby is laughing <EOS>', '<BOS> a baby laugh very pretty <EOS>', '<BOS> a baby makes happy and mad faces <EOS>', '<BOS> the baby is making faces <EOS>', '<BOS> a baby is smiling <EOS>', '<BOS> a baby is smiling <EOS>', '<BOS> a baby is crying <EOS>'], 'vid575': ['<BOS> a cowboy pushes two pistols into another man s chest <EOS>', '<BOS> a man points two guns at a man <EOS>', '<BOS> a man points two guns at another man <EOS>', '<BOS> a man points two pistols at another man <EOS>', '<BOS> a man is holding his hands up while another man points two guns at him <EOS>', '<BOS> a man is threatening another with guns <EOS>', '<BOS> a man is holding guns on another man <EOS>', '<BOS> a cowboy is holding up a man with pistols <EOS>', '<BOS> a guy is holding a gun on onther guy <EOS>', '<BOS> a man is pointing two guns at another man <EOS>', '<BOS> two men are exchanging dialogues moving back and forth as one man holds two guns against the chest of the other <EOS>', '<BOS> the cowboy is holding up the man <EOS>', '<BOS> a man holds two guns to another man s stomach <EOS>', '<BOS> the man help up the stagecoach with guns <EOS>', '<BOS> a man is pointing guns at another man <EOS>', '<BOS> a oldwomen gun on a man <EOS>', '<BOS> featuring a scene <EOS>', '<BOS> a man is holding someone at gun point <EOS>', '<BOS> a man is pointing guns one someone <EOS>', '<BOS> a man is pointing two guns at another man <EOS>', '<BOS> a man points two guns at a man <EOS>', '<BOS> a man show the gun to the another man <EOS>', '<BOS> a man threatening a group of people with his gun <EOS>', '<BOS> a man threatens another with two revolvers <EOS>', '<BOS> the cowboy is holding up a man <EOS>', '<BOS> the man held up the stage coach <EOS>', '<BOS> the two persons are acting the movie <EOS>', '<BOS> a man is trying to shoot an another man <EOS>', '<BOS> the person is making the something <EOS>'], 'vid570': ['<BOS> an animal <EOS>', '<BOS> a squirrel has a cup on its head <EOS>', '<BOS> a squirrel has a yogurt cup on his head <EOS>', '<BOS> a squirrel has it s head stuck in a plastic yogurt cup <EOS>', '<BOS> a squirrel has a yogurt cup stuck on its head <EOS>', '<BOS> a squirrel got a cup stuck in its head <EOS>', '<BOS> a squirrel is wearing a yogurt cup on its head <EOS>', '<BOS> a squirrel has a cup on it s head <EOS>', '<BOS> a squirrel has a yogurt cup on its head <EOS>', '<BOS> a squirrel s head is stuck in a yogurt cup <EOS>', '<BOS> the squirrel got his head stuck in a yogurt cup <EOS>', '<BOS> the squirrel has his head stuck in a platic container <EOS>', '<BOS> a squirrel is running and jumping with a yogurt container stuck on his head <EOS>', '<BOS> a squirrel ca nt get its head unstuck from a cup <EOS>', '<BOS> a squirrel has a yogurt cup stuck on his head <EOS>', '<BOS> the squirrel got its head stuck in a yogurt container <EOS>', '<BOS> the animal is playing <EOS>', '<BOS> a squirrel stuck in cup and playing <EOS>', '<BOS> a squirrel s head is stuck in a yogurt cup <EOS>', '<BOS> a squirrel has a container stuck on it s head <EOS>', '<BOS> a cute animal is playing <EOS>', '<BOS> photojournalist rescues a squirrel who got his head stuck in a yogurt cup <EOS>', '<BOS> a squirrel s head is inside a cup <EOS>', '<BOS> a squirrel is playing <EOS>', '<BOS> the squirrel has a can stuck on his head <EOS>'], 'vid815': ['<BOS> a small puppy wagging it s tail <EOS>', '<BOS> a dog is jumping in a tub <EOS>', '<BOS> a puppy inside a bath tub is wagging his tail and trying to climb out of it <EOS>', '<BOS> a puppy is trying to come out from the sink <EOS>', '<BOS> a puppy is trying to get out of a bathtub <EOS>', '<BOS> a puppy is trying to jump out of a bath tub <EOS>', '<BOS> a puppy is trying to jump out of a bathtub <EOS>', '<BOS> a puppy is trying to jump out of a bathtub <EOS>', '<BOS> a puppy is waving its tail <EOS>', '<BOS> a puppy plays in a bathtub <EOS>', '<BOS> a puppy tries to jump out of a bathtub <EOS>', '<BOS> a small dog is trying to get out of an empty bathtub <EOS>', '<BOS> a small dog jumps around in a bathtub <EOS>', '<BOS> the puppy is trying to get out of the tub <EOS>', '<BOS> the puppy tried to get out of the bathtub <EOS>', '<BOS> the puppy tried to get out of the tub <EOS>', '<BOS> a dog doll is placed in the basin <EOS>', '<BOS> a dog in the bath tube <EOS>', '<BOS> a doll is paced on the wash basin <EOS>', '<BOS> a happy puppy is stuck in a bathtub and is trying to get out <EOS>', '<BOS> a puppy is trying to climb out of a bath <EOS>', '<BOS> a puppy is wagging its tail <EOS>', '<BOS> a puppy playing in the bathtub <EOS>', '<BOS> a puppy playing <EOS>', '<BOS> puppy trying to get out from the bath tub <EOS>', '<BOS> the puppy dog is in the bath tub <EOS>', '<BOS> a dog is playing in a bathtub <EOS>', '<BOS> a dog is trying to jump out of a bath <EOS>', '<BOS> a little dog tries to get out of a bathtub <EOS>', '<BOS> a little puppy is tring to jump out of a tub <EOS>', '<BOS> a pet trying to come out of bath tub <EOS>', '<BOS> a puppy is in a bathtub <EOS>', '<BOS> a puppy is playing <EOS>', '<BOS> a puppy is trying to come out from the water tub <EOS>', '<BOS> a puppy is trying to come out of a bath tub <EOS>', '<BOS> a puppy is trying to jump out of a bath tub <EOS>', '<BOS> a puppy is trying to jump out of a bathtub <EOS>', '<BOS> a puppy is wagging its tails <EOS>', '<BOS> a puppy jumped in a tub and now trying to come out from it <EOS>', '<BOS> a puppy trying to come out from the bath tub <EOS>', '<BOS> a small puppy is moving his tail inside the wash basin <EOS>', '<BOS> a wet puppy is jumping in a bathtub <EOS>', '<BOS> the puppy is trying to get out of the tub <EOS>', '<BOS> the puppy jumps as he tries to escape the bathtub <EOS>', '<BOS> a dog is trying to come from the washbasin <EOS>', '<BOS> a pet dog is taring to jump out side <EOS>', '<BOS> the puppy is trying to come out <EOS>', '<BOS> a small dog is jumping <EOS>'], 'vid319': ['<BOS> a man is singing and playing a guitar <EOS>', '<BOS> a man is playing a guitar and singing on a stage <EOS>', '<BOS> a man is playing a guitar and singing <EOS>', '<BOS> a man is playing a guitar onstage <EOS>', '<BOS> a man is playing guitar while sitting on a stool <EOS>', '<BOS> a man is singing and playing a guitar <EOS>', '<BOS> a man is singing and playing guitar on stage <EOS>', '<BOS> a man is singing and playing the guitar <EOS>', '<BOS> a man performed on his guitar to the audience <EOS>', '<BOS> a man played his gutar on stage <EOS>', '<BOS> a man seated on the stage is singing while strumming a guitar <EOS>', '<BOS> a man sings and plays a guitar <EOS>', '<BOS> the man is singing and playing the guitar <EOS>', '<BOS> a boy playing a guitar <EOS>', '<BOS> a guy is playing gitar on the stage <EOS>', '<BOS> a guy playing guitar and singing on stage <EOS>', '<BOS> a guy playing guitar in the stage <EOS>', '<BOS> a man is playing gitur <EOS>', '<BOS> a man singing a song with gitar <EOS>', '<BOS> a men playing a gitter with boys <EOS>', '<BOS> the man is playing gitter <EOS>', '<BOS> a boy performing a song with a guitar on stage <EOS>', '<BOS> a guy is playing guitar <EOS>', '<BOS> a man is playing a guitar onstage <EOS>', '<BOS> a man is playing a guitar to an audience <EOS>', '<BOS> a man is playing a guitar <EOS>', '<BOS> a man is playing a guitar <EOS>', '<BOS> a man is playing a guitar <EOS>', '<BOS> a man is playing guitar and singing in the mike <EOS>', '<BOS> a man is playing guitar <EOS>', '<BOS> a man is playing guitar <EOS>', '<BOS> a man is singing and playing guitar onstage <EOS>', '<BOS> a man is singing into a microphone and playing an acoustic guitar <EOS>', '<BOS> a man performing with an instrument while people look on <EOS>', '<BOS> a man playing a guitar <EOS>', '<BOS> a man playing guitar on a small stage <EOS>', '<BOS> a man playing music <EOS>', '<BOS> a man sings a song and he was playing guitar <EOS>', '<BOS> a man string a guitar <EOS>', '<BOS> a musician is playing a guitar and singing <EOS>', '<BOS> a musician is playing the guitar and singing on stage <EOS>', '<BOS> a musician performing in some kind of concert with a guitar <EOS>', '<BOS> a radio station featuring a star performer <EOS>', '<BOS> guitar is played by an artist in a function <EOS>', '<BOS> a musician playing a guitar <EOS>', '<BOS> the person is playing guttier <EOS>', '<BOS> a man performing play guitar on the stage <EOS>'], 'vid254': ['<BOS> a big ball bounces over a nut <EOS>', '<BOS> a ball hits a potato <EOS>', '<BOS> a ball knocked over a potato <EOS>', '<BOS> a ball knocks down a potato <EOS>', '<BOS> a balls rolls over a potato <EOS>', '<BOS> a big green ball is rolling and knocking over a potato <EOS>', '<BOS> a big green ball knocks a potato over <EOS>', '<BOS> a green ball knocks over a potato that was standing on end <EOS>', '<BOS> a green ball rolls over a potato <EOS>', '<BOS> a large ball knocks over a potato <EOS>', '<BOS> a large green ball hits a potato <EOS>', '<BOS> a large green ball is pushed against a potato kept erect on a table and bounces after falling on the ground <EOS>', '<BOS> a large green ball is rolling into a potato <EOS>', '<BOS> a large inflatable ball knocks over a potato propped vertically on the floor <EOS>', '<BOS> a man is colliding a potato with a green ball <EOS>', '<BOS> the ball bumped into the potato <EOS>', '<BOS> the green ball knocked down the potatoe <EOS>', '<BOS> the green ball knocked the standing potatoe over <EOS>', '<BOS> a big green ball hit something <EOS>', '<BOS> a boy having a green ball in his hand <EOS>', '<BOS> a boy is playing with a ball n patato <EOS>', '<BOS> a boys can be talking on the game <EOS>', '<BOS> a huge green ball rolls over a potatoe <EOS>', '<BOS> a woman throughs green ball <EOS>', '<BOS> potato is being hit by the ball <EOS>', '<BOS> the big bouncing inflatable green ball <EOS>', '<BOS> the big bouncing inflatable green ball <EOS>', '<BOS> the green ball touches potato <EOS>', '<BOS> a ball hits a potato <EOS>', '<BOS> a ball hits a potato <EOS>', '<BOS> a ball is hitting potato which is on the table <EOS>', '<BOS> a ball is hitting the potato which is placed on the table <EOS>', '<BOS> a ball is rolling into a potato that is sitting on a counter <EOS>', '<BOS> a ball knocks over a potato <EOS>', '<BOS> a ball knocks over a potato <EOS>', '<BOS> a ball strikes down a stone <EOS>', '<BOS> a big green ball knocks over a potato standing on it s side <EOS>', '<BOS> a bill ball is thrown to hit <EOS>', '<BOS> a boy hits a potato with a green ball <EOS>', '<BOS> a boy holding a big bouncing ball <EOS>', '<BOS> a green ball knocks a potato over and a boy talks <EOS>', '<BOS> a green ball knocks over a potato <EOS>', '<BOS> a green ball moves a potato <EOS>', '<BOS> a green ball runs over a potato <EOS>', '<BOS> a large green ball is knocking over a standing potato <EOS>', '<BOS> a large green ball knocks over a potato and bounces to the floor <EOS>', '<BOS> a man is playing with football <EOS>', '<BOS> a man using infomercial style <EOS>', '<BOS> a man with big green bouncing inflatable ball <EOS>', '<BOS> a playing boy <EOS>', '<BOS> a potato is being hit by a large green ball <EOS>', '<BOS> a potato knocked over by a ball <EOS>', '<BOS> a potato standing on its end gets knocked over by a big <EOS>', '<BOS> a rolling ball is deflected by a potatoe <EOS>', '<BOS> a young man in black shirt playing with a big inflatable green ball <EOS>', '<BOS> he shows how a green ball may be used <EOS>', '<BOS> the boy is explaining about green ball <EOS>', '<BOS> the potato was hit down with a big inflatable green ball <EOS>', '<BOS> a mani is playing with ball <EOS>'], 'vid257': ['<BOS> a little girl is doing her hair <EOS>', '<BOS> a girl is brushing her hair <EOS>', '<BOS> a girl is styling her hair <EOS>', '<BOS> a girl is styling her hair <EOS>', '<BOS> a girl plays with her hair <EOS>', '<BOS> a little girl fusses with and brushes her wet hair <EOS>', '<BOS> a little girl is brushing her wet hair in the mirror <EOS>', '<BOS> a little girl is playing with her hair in the bathroom <EOS>', '<BOS> a little girl is styling her hair <EOS>', '<BOS> a small girl standing in front of the bathroom mirror is straightening her hair using her fingers and then combs it with a hair brush <EOS>', '<BOS> a young girl is playing with her wet hair <EOS>', '<BOS> a young girl is standing in front of a mirror working on her hair <EOS>', '<BOS> the little girl is brushing her hair <EOS>', '<BOS> the little girl is putting her hair into a pony tail <EOS>', '<BOS> the little girl wrung out her wet hair and used a brush <EOS>', '<BOS> young girl grooming her hair in front of bathroom mirror <EOS>', '<BOS> a little girl fixing her hair in front of the bathroom mirror <EOS>', '<BOS> the small girl is combing the hair by herself <EOS>', '<BOS> a baby is standing in front of the mirror <EOS>', '<BOS> a small girl is combing her hair <EOS>', '<BOS> a little girl is doing her hair <EOS>', '<BOS> a baby is combing their hair <EOS>', '<BOS> a baby is brushing on bathroom <EOS>', '<BOS> a little girl is fixing her hair <EOS>', '<BOS> a sweet girl making her hair <EOS>', '<BOS> makeup by a child in makeup room <EOS>', '<BOS> a little girl seting hair <EOS>', '<BOS> the being a girl to girl <EOS>', '<BOS> a little girl is doing her hair <EOS>', '<BOS> a little girl is brushing her hair <EOS>', '<BOS> a girl is styling her hair at a bathroom sink <EOS>', '<BOS> a little girl is doing her hair <EOS>', '<BOS> a small girl is making up her hair <EOS>', '<BOS> a little girl is in the bathroom doing her hair <EOS>', '<BOS> a girl is brushing her hair <EOS>', '<BOS> a small girl holding her her and smiling <EOS>', '<BOS> a small girl preparing her hair in the bathroom <EOS>', '<BOS> a little girl is fixing her hair in the mirror <EOS>', '<BOS> a girl is styling her hair <EOS>', '<BOS> a young girl is brushing her hair <EOS>', '<BOS> a girl is brushing her wet hair <EOS>', '<BOS> a small girl is combing her hair <EOS>', '<BOS> a baby girl combing her hair <EOS>', '<BOS> a little girl is brushing her hair <EOS>', '<BOS> a little girl is combing her hair <EOS>', '<BOS> a girl combing her hair infront of a mirror in the bathroom <EOS>', '<BOS> a little girl dressing her hair <EOS>', '<BOS> a young child is grooming her hair <EOS>', '<BOS> a baby girl is washing her hair <EOS>', '<BOS> a baby try to hair adjusting <EOS>', '<BOS> the litte girl is combing her hair <EOS>', '<BOS> a girl in the bathroom <EOS>', '<BOS> the girl is combing hair <EOS>', '<BOS> a baby is makeup infront of the mirror <EOS>', '<BOS> a girl is coming her hair <EOS>', '<BOS> a girl is pulling her own hair <EOS>', '<BOS> a baby making her hair style <EOS>'], 'vid310': ['<BOS> a man finding animals in the bushes <EOS>', '<BOS> a man drags a fish through the underbrush <EOS>', '<BOS> a man is carry a fish <EOS>', '<BOS> a man is carrying a fish <EOS>', '<BOS> a man is dropping a fish on the ground <EOS>', '<BOS> a man laid the fish on the grass <EOS>', '<BOS> a man lay the fish on the grass <EOS>', '<BOS> a man lays a catfish on the ground <EOS>', '<BOS> a man lays a fish on the ground <EOS>', '<BOS> a man walking on a grassy patch with a large black colored fish in his hand suddenly drops it down <EOS>', '<BOS> someone is carrying a fish <EOS>', '<BOS> someone is walking in a forest carrying a fish on a stringer <EOS>', '<BOS> the man dropped the fish on the grass <EOS>', '<BOS> a man was gardening <EOS>', '<BOS> the man is catching fish <EOS>', '<BOS> a man standing in the bushes <EOS>', '<BOS> a man carries a big fish out of the woods <EOS>', '<BOS> a man is putting a fish he caught on the ground <EOS>', '<BOS> a man is cauthing a fish <EOS>', '<BOS> a group of men in the jungle come upon a large catfish <EOS>', '<BOS> a man is caughting fish <EOS>', '<BOS> the person is catching the fish <EOS>', '<BOS> a fisher man got a fish from lake <EOS>', '<BOS> besarnyer pan t huhuhuhu <EOS>', '<BOS> some guys are laying the black fish on the ground <EOS>', '<BOS> the besarnyer planet <EOS>', '<BOS> the man is walking with a fish <EOS>', '<BOS> people are placing a fish on the ground <EOS>', '<BOS> a man places a fish on the ground <EOS>', '<BOS> a man has caught a fish <EOS>', '<BOS> two men find a fish <EOS>', '<BOS> a fish is put on the ground <EOS>', '<BOS> there are grass and green plants <EOS>', '<BOS> a man is taking fish <EOS>', '<BOS> a man is searching some thing in bush <EOS>', '<BOS> a person is carrying a dead fish through some weeds <EOS>', '<BOS> a man is leaving a fish on the grass <EOS>', '<BOS> a man lays a fish down on the grass <EOS>', '<BOS> two men are walking with a fish on a fishing line <EOS>', '<BOS> a man is carrying a fish <EOS>', '<BOS> 2 men walk and drop a fish they caught <EOS>', '<BOS> a man with fish <EOS>', '<BOS> someone puts a fish on the ground <EOS>', '<BOS> a man is hunting <EOS>', '<BOS> a man bringing a freshly caught fish and throwing it on grass <EOS>', '<BOS> a man trying to remove a unwanted plant from the garden <EOS>', '<BOS> a person is moving through brush and laying a fish on the ground <EOS>', '<BOS> a man placing fish on the ground <EOS>', '<BOS> a man carries a fish through a dense grassy field <EOS>', '<BOS> the man is walking with a fish <EOS>', '<BOS> a man is carrying a fish and puts it on the ground <EOS>', '<BOS> a man drops a fish on the ground <EOS>', '<BOS> someone is throwing a freshly caught fish onto the grass <EOS>', '<BOS> a man place a fish on grass <EOS>', '<BOS> the person is catching the fishes <EOS>', '<BOS> a man is searching a fish and find it <EOS>', '<BOS> an old man pant tearing <EOS>'], 'vid700': ['<BOS> someone is cutting cooked chicken into bitesized pieces <EOS>', '<BOS> a person is cutting chicken <EOS>', '<BOS> a person is cutting meat <EOS>', '<BOS> a chef is cutting pieces of chicken <EOS>', '<BOS> someone is chopping cooked chicken <EOS>', '<BOS> a man is slicing meat <EOS>', '<BOS> a person with a knife is slicing meat <EOS>', '<BOS> a man is cutting up chicken <EOS>', '<BOS> someone is cutting chicken <EOS>', '<BOS> a man is slicing meat <EOS>', '<BOS> a man is chopping up some chicken <EOS>', '<BOS> someone cut cooked chicken <EOS>', '<BOS> the person is slicing cook chicken breast <EOS>', '<BOS> a man cuts some meat <EOS>', '<BOS> the man cut the chicken meat <EOS>', '<BOS> a man is cutting chicken <EOS>', '<BOS> the person is cutting the chicken <EOS>', '<BOS> the person is cutting the meat <EOS>', '<BOS> a person is cutting the item <EOS>', '<BOS> a man is cutting the chicken <EOS>', '<BOS> a man is cutting up a piece of chicken <EOS>', '<BOS> a man is cutting a chicken piece <EOS>', '<BOS> someone is cutting some meat <EOS>', '<BOS> a man is cutting pieces of chicken <EOS>', '<BOS> a man is cutting chicken into small pieces <EOS>', '<BOS> a man cutting chicken <EOS>', '<BOS> a chef cutting a chicken into pieces <EOS>', '<BOS> the person is cutting the chicken into pieces <EOS>', '<BOS> a chef cuts up chicken into pieces <EOS>', '<BOS> a cook cutting small pieces of chicken clesh in order to make soup <EOS>', '<BOS> a man is cutting chicken <EOS>', '<BOS> a man cooking his kichen <EOS>', '<BOS> the man is slicing chicken <EOS>', '<BOS> how to make chicken noodle soup <EOS>', '<BOS> a person is slicing chicken <EOS>', '<BOS> a man is cutting a chicken <EOS>', '<BOS> a man is cutting up pieces of chicken <EOS>', '<BOS> someone chops chicken <EOS>'], 'vid923': ['<BOS> an omelet is being cooked in a pan <EOS>', '<BOS> a man is scrambling a mixture of eggs and sliced cherry tomatoes in a pan using a spatula <EOS>', '<BOS> a man is scrambling egg <EOS>', '<BOS> a man scrambles eggs with tomatoes <EOS>', '<BOS> a person is making scrambled eggs <EOS>', '<BOS> a person is mixing tomatoes and eggs in a frying pan <EOS>', '<BOS> a person is stirring an omelette with a spatula <EOS>', '<BOS> a person stirs eggs and vegetables together in a pan <EOS>', '<BOS> eggs and tomatoes are being scrambled in a pan <EOS>', '<BOS> eggs are being scrambled <EOS>', '<BOS> someone is cooking scrambled eggs <EOS>', '<BOS> someone made scrambled eggs and tomatoes <EOS>', '<BOS> someone scrambled eggs and tomatoes in a frying pan <EOS>', '<BOS> someone scrambling eggs and tomatoes <EOS>', '<BOS> the cook is cooking scrambled eggs with tomatoes <EOS>', '<BOS> a man is making a omelet <EOS>', '<BOS> a man preparing summer scrambled egg recipe <EOS>', '<BOS> a person is making scrambled eggs <EOS>', '<BOS> chef john showing how to make summer scrambled eggs <EOS>', '<BOS> racipe for make a egg dish <EOS>', '<BOS> showing how to make cherry tom <EOS>', '<BOS> someone is making scrambled eggs <EOS>', '<BOS> someone is preparing an amlate <EOS>', '<BOS> someone making a dish of egg <EOS>', '<BOS> summer scrambled eggs recipe <EOS>', '<BOS> this is summer scrambled eggs recipe <EOS>', '<BOS> a chef is making omelet <EOS>', '<BOS> a chef is preparing basil scrambled eggs <EOS>', '<BOS> a man is cooking eggs <EOS>', '<BOS> a man is stirring a mix of scrambled eggs and cherrie on a frying pan <EOS>', '<BOS> a man is stirring egg and tomatoes in the pan <EOS>', '<BOS> a man scrambles some eggs and tomatoes <EOS>', '<BOS> a person cooks an egg omelet <EOS>', '<BOS> a person is cooking scrambled eggs <EOS>', '<BOS> a person is making omlette <EOS>', '<BOS> a person is preparing food by using egg <EOS>', '<BOS> a person is scrambling eggs in a frying pan <EOS>', '<BOS> a person is stirring an omelet in a pan <EOS>', '<BOS> a recipe for making summer scrambled egg <EOS>', '<BOS> a short clip about cooking some special summer recipe from eggs <EOS>', '<BOS> an illustration on someone scrambling eggs <EOS>', '<BOS> egg receipe is getting ready <EOS>', '<BOS> eggs and tomatoes are scrambled together <EOS>', '<BOS> eggs are being scrambled <EOS>', '<BOS> eggs <EOS>', '<BOS> making of eggs recipe <EOS>', '<BOS> somebody is cooking <EOS>', '<BOS> someone is cooking scrambled eggs <EOS>', '<BOS> someone is frying an omelet with tomatoes <EOS>', '<BOS> someone is scrambling eggs and cherry tomatoes in a skillet with a rubber spatula <EOS>', '<BOS> someone is scrambling eggs <EOS>', '<BOS> someone making an omelet <EOS>', '<BOS> the person is cooking food <EOS>', '<BOS> a man preparing summer scrambled egg recipe <EOS>'], 'vid322': ['<BOS> a man is playing guitar <EOS>', '<BOS> a young man wearing glasses is playing a guitar <EOS>', '<BOS> a man is playing a guitar <EOS>', '<BOS> a man is playing a guitar <EOS>', '<BOS> a man is playing a guitar <EOS>', '<BOS> a man is playing a guitar <EOS>', '<BOS> a man is playing guitar <EOS>', '<BOS> a man is playing the guitar <EOS>', '<BOS> a man is playing the guitar <EOS>', '<BOS> a man strums an acoustic guitar <EOS>', '<BOS> a man is playing guitar <EOS>', '<BOS> a man is playing guitar <EOS>', '<BOS> a man is playing the guitar <EOS>', '<BOS> a bespectacled man is playing a guitar <EOS>', '<BOS> the man played his guitar <EOS>', '<BOS> the man is playing the guitar <EOS>', '<BOS> a man plays the guitar <EOS>', '<BOS> a man plays the guitar <EOS>', '<BOS> the man played his guitar <EOS>', '<BOS> a man is playing guitar <EOS>', '<BOS> the boy is playing the guitar <EOS>', '<BOS> a young man is playing the guitar <EOS>', '<BOS> a man is playing guitar <EOS>', '<BOS> a man playing a guitar <EOS>', '<BOS> a guy is playing a guitar <EOS>', '<BOS> the man is playing the guitor <EOS>', '<BOS> a man performing on a guitar <EOS>', '<BOS> a young man is playing the guitar <EOS>', '<BOS> the boy is playing a guitar <EOS>', '<BOS> a man is playing the guitar <EOS>', '<BOS> a boy is playing guitar <EOS>', '<BOS> a man is strumming his guitar <EOS>', '<BOS> someone playing guitar <EOS>', '<BOS> a man is playing a guitar <EOS>', '<BOS> a boy is playing guitar <EOS>', '<BOS> a man is playing the guitar <EOS>', '<BOS> a man is playing guitar <EOS>', '<BOS> a boy is playing the guitar <EOS>', '<BOS> the man is playing the guitar <EOS>', '<BOS> very super music video <EOS>', '<BOS> a man is playing acoustic guitar outside <EOS>', '<BOS> a man plays the acoustic guitar <EOS>'], 'vid406': ['<BOS> a girl preparing food <EOS>', '<BOS> a man is chopping vegetables <EOS>', '<BOS> a small celery stick is being sliced <EOS>', '<BOS> the green onion is chopped <EOS>', '<BOS> a chef cutting vegetables <EOS>', '<BOS> a chef dices an onion <EOS>', '<BOS> a chef dicing scallions <EOS>', '<BOS> a chef is chopping a vegetable <EOS>', '<BOS> a cook is cutting a vegetable to made very small pieces <EOS>', '<BOS> a cook is dicing a green onion <EOS>', '<BOS> a cook slices and dices a green onion <EOS>', '<BOS> a man chops scallions <EOS>', '<BOS> a man is chopping up some leeks <EOS>', '<BOS> a man is cutting up a scallion very fine <EOS>', '<BOS> a man is slicing a long stalk of spring onion into fine pieces using a flat knife <EOS>', '<BOS> a man is slicing green onion <EOS>', '<BOS> a man is slicing some long green onions <EOS>', '<BOS> a person is chopping up a green onion <EOS>', '<BOS> a person is chopping up a spring onion into fine pieces <EOS>', '<BOS> a person is dicing scallions <EOS>', '<BOS> a person is slicing celery into thin slices <EOS>', '<BOS> a woman chopping onion leaves <EOS>', '<BOS> a woman is cutting a green onion into thin slices <EOS>', '<BOS> a woman is cutting a long green onion <EOS>', '<BOS> a woman is slicing beans <EOS>', '<BOS> celery is cut into smaller pieces <EOS>', '<BOS> chef cutting asparagus to prepare onigiri <EOS>', '<BOS> chopping onion into pieces <EOS>', '<BOS> cutting up some spring onions <EOS>', '<BOS> green onions being finally chopped <EOS>', '<BOS> scallions are being sliced <EOS>', '<BOS> she is cutting long green onions into small pieces <EOS>', '<BOS> someone chop leek with knife <EOS>', '<BOS> someone cutting a scallion <EOS>', '<BOS> someone is cutting a leek into small pieces <EOS>', '<BOS> someone is cutting up celery <EOS>', '<BOS> the cook is slicing green onions <EOS>', '<BOS> the man chopped the vegetable into fine pieces <EOS>', '<BOS> the man is chopping spring onion into fine bits <EOS>', '<BOS> the person is cutting the onion leaf into fine pieces <EOS>', '<BOS> woman is dicing scallions <EOS>', '<BOS> choping vagitable <EOS>', '<BOS> the video shows how to prepare onigiri japanese rice balls <EOS>'], 'vid371': ['<BOS> a girl preparing pot pie <EOS>', '<BOS> a woman chops a carrot <EOS>', '<BOS> a woman is slicing some carrot <EOS>', '<BOS> a woman slicing a carrot <EOS>', '<BOS> chopping vegetables <EOS>', '<BOS> the carrot <EOS>', '<BOS> woman chops a carrot very fast <EOS>', '<BOS> a woman cuts a carrot <EOS>', '<BOS> a carrot is being cut into chunks <EOS>', '<BOS> a carrot is cut into pieces <EOS>', '<BOS> a cook was chopping a carrot <EOS>', '<BOS> a woman cutting a carrot to make many pieces <EOS>', '<BOS> a woman cutting a carrot <EOS>', '<BOS> a woman dicing carrots <EOS>', '<BOS> a woman dicing carrots <EOS>', '<BOS> a woman is chopping a carrot into small pieces <EOS>', '<BOS> a woman is chopping a carrot <EOS>', '<BOS> a woman is chopping up a carrot <EOS>', '<BOS> a woman is cutting carrot <EOS>', '<BOS> a woman is cutting carrots in one inch sizes <EOS>', '<BOS> a woman is cutting carrots in small pieces <EOS>', '<BOS> a woman is cutting carrots to put in a vegetable pot pie <EOS>', '<BOS> a woman is cutting up a carrot <EOS>', '<BOS> a woman is dicing a carrot <EOS>', '<BOS> a woman is dicing carrots using a knife <EOS>', '<BOS> a woman is preparing vegetable pot pie <EOS>', '<BOS> a woman is slicing a carrot <EOS>', '<BOS> a woman is slicing a carrot <EOS>', '<BOS> a woman is slicing a carrot <EOS>', '<BOS> a woman is slicing carrots <EOS>', '<BOS> a woman is slicing carrots <EOS>', '<BOS> a woman quartered a piece of a carrot and then cut the quarters into slices <EOS>', '<BOS> a woman slices and dices a carrot <EOS>', '<BOS> a woman slicing a carrot into quaters <EOS>', '<BOS> a woman slicing carrot <EOS>', '<BOS> a women chopped the carrots <EOS>', '<BOS> a women is chopping carrots <EOS>', '<BOS> a women is slicing some carrots <EOS>', '<BOS> cutting carrot into pieces <EOS>', '<BOS> someone is cutting the carrot into small pieces <EOS>', '<BOS> the cook is dicing up carrots <EOS>', '<BOS> the woman is cutting the carrots into cubes <EOS>', '<BOS> woman is slicing carrots <EOS>', '<BOS> women slices carrot with knife <EOS>', '<BOS> she making food <EOS>', '<BOS> the woman is cutting the carrot in small pieces <EOS>'], 'vid408': ['<BOS> someone is chopping a large green leaf into small pieces <EOS>', '<BOS> a person slices a leaf <EOS>', '<BOS> a person is cutting spinach <EOS>', '<BOS> someone has cut off the end of a large green leaf and they are chopping it up into tiny pieces <EOS>', '<BOS> a man is slicing a leave <EOS>', '<BOS> a chef is slicing a leaf <EOS>', '<BOS> a woman is chopping some leaves <EOS>', '<BOS> a person dices a leaf stem <EOS>', '<BOS> a woman is cutting a leaf <EOS>', '<BOS> a woman is dicing a wilted leaf <EOS>', '<BOS> someone is slicing a leaf <EOS>', '<BOS> a green leaf is being sliced up <EOS>', '<BOS> the lady cut up greens <EOS>', '<BOS> the woman is slicing herbs <EOS>', '<BOS> a woman is dicing ingredients for a recipe <EOS>', '<BOS> a woman cuts up some seaweed <EOS>', '<BOS> the lady cut up the green leaf <EOS>', '<BOS> a woman is cutting a big leaf <EOS>', '<BOS> someone preparing something <EOS>', '<BOS> the person is cutting the leaves <EOS>', '<BOS> the person is cutting the vegetables <EOS>', '<BOS> a chef slices a wet leaf of spinach <EOS>', '<BOS> a man cooking his kichen <EOS>', '<BOS> a man cutting a leaf of somekind spinch with knife <EOS>', '<BOS> a person coking <EOS>', '<BOS> a person cutting green leaves <EOS>', '<BOS> a person is slicing spinach <EOS>', '<BOS> a woman dices a leaf <EOS>', '<BOS> a woman is chopping a green leaf <EOS>', '<BOS> someone is cutting <EOS>', '<BOS> the woman is slicing a leaf <EOS>'], 'vid1069': ['<BOS> a badger climbs out of a hole and walks down a path <EOS>', '<BOS> a badger comes out of a hole <EOS>', '<BOS> a badger comes out of a hole <EOS>', '<BOS> a badger emerges from behind a mound of mud and walks on the grassy ground ahead <EOS>', '<BOS> a badger is coming out of a hole in the ground <EOS>', '<BOS> a badger is crawling out of his hole <EOS>', '<BOS> a badger is digging <EOS>', '<BOS> a badger is emerging from its hole <EOS>', '<BOS> a badger is running into the grass <EOS>', '<BOS> a badger is walking in grass <EOS>', '<BOS> a badger is walking <EOS>', '<BOS> a badger walks along <EOS>', '<BOS> a badger walks around in some grass <EOS>', '<BOS> a badger walks over a small mound of dirt and runs into the grass <EOS>', '<BOS> an animal climbs out of a hole <EOS>', '<BOS> the animal came out of the ground <EOS>', '<BOS> the badger came out of his hole and walked on the grass <EOS>', '<BOS> the badger left his underground home <EOS>', '<BOS> badger an incredible digger <EOS>', '<BOS> a small animal is running <EOS>', '<BOS> one animal is digging <EOS>', '<BOS> a badger in the forest <EOS>', '<BOS> a badger is walking around <EOS>', '<BOS> a badger crawls out of a hole <EOS>', '<BOS> an animal is getting from the mud <EOS>', '<BOS> a badger is moving around <EOS>', '<BOS> a badger climbs out of hte ground <EOS>', '<BOS> a animal walking on the open forest <EOS>', '<BOS> a badger comes out of a hole <EOS>', '<BOS> a badger climbs out of a hole and moves about <EOS>', '<BOS> a bager falling down a dirt hill <EOS>', '<BOS> a badger running <EOS>', '<BOS> an animal is walking <EOS>', '<BOS> an animal is running out of its nest <EOS>', '<BOS> a video on badgers <EOS>', '<BOS> a badger is moving <EOS>', '<BOS> walking a badgers <EOS>', '<BOS> a badger come out of his house <EOS>', '<BOS> a squirrel is hunting <EOS>', '<BOS> a very cute animal is running <EOS>', '<BOS> a badger is leaving its hole <EOS>', '<BOS> a badger climbs out of its hole and ambles toward the camera <EOS>'], 'vid1067': ['<BOS> a man pokes a drinking straw below his chin and opens his mouth to reveal the straw <EOS>', '<BOS> a man does a magic trick with a straw <EOS>', '<BOS> a man puts a straw through his neck <EOS>', '<BOS> a man puts a straw under his chin and pushes up and the straw appears to come out of his mouth <EOS>', '<BOS> a man is performing a magic trick where he sticks a straw through his face <EOS>', '<BOS> a man is doing some trick with straw <EOS>', '<BOS> a man pokes a straw through his neck <EOS>', '<BOS> a man is doing an illusion with a straw <EOS>', '<BOS> a man is pushing a straw through his chin <EOS>', '<BOS> a man pushes a straw through his chin <EOS>', '<BOS> the man did a trick of putting a straw through his chin into his mouth <EOS>', '<BOS> the man put a straw through the bottom of his jaw <EOS>', '<BOS> a man is shoving a straw through his chin to show a magic trick <EOS>', '<BOS> a man does a magic trick with a straw <EOS>', '<BOS> the man pushed a straw through his chin into his mouth <EOS>', '<BOS> the person is doing something <EOS>', '<BOS> a man is doing a trick with a straw <EOS>', '<BOS> a man showing a straw trick <EOS>', '<BOS> a man appears to push a straw through the bottom of his chin <EOS>', '<BOS> a man sticks a straw through his jaw <EOS>', '<BOS> the man make magic and his magic is very dangerous to see <EOS>', '<BOS> a person doing something <EOS>', '<BOS> a man shows how to do the straw through the face trick <EOS>', '<BOS> a man pushing pencil to mouth through his neck <EOS>', '<BOS> in case for safety <EOS>', '<BOS> a man showing some amazing tricks <EOS>', '<BOS> a person is performing a trick to push a straw through his face <EOS>', '<BOS> the put a straw through his jaw <EOS>', '<BOS> a man is poking a straw through his chin <EOS>'], 'vid1066': ['<BOS> a bunny is licking itself <EOS>', '<BOS> a rabbit is sitting on a wooden ledge licking it s front paws <EOS>', '<BOS> a rabbit is cleaning itself <EOS>', '<BOS> a rabbit is grooming itself <EOS>', '<BOS> a rabbit is licking it s legs <EOS>', '<BOS> a bunny is cleaning itself <EOS>', '<BOS> a bunny is nibbling food in its paws <EOS>', '<BOS> a rabbit rubs its head with its paws <EOS>', '<BOS> a bunny rabbit is licking its paws <EOS>', '<BOS> a bunny is licking its paws <EOS>', '<BOS> a white rabbit sits at a doorway <EOS>', '<BOS> the white rabbit cleaned its face with its paw <EOS>', '<BOS> a rabbit sits outside of a door licking his paws <EOS>', '<BOS> the rabbit is cleaning his paws <EOS>', '<BOS> a rabbit wipes its face <EOS>', '<BOS> a rabbit grooms itself <EOS>', '<BOS> the white rabit washed his face with his paw <EOS>', '<BOS> a bunny is cleaning itself <EOS>', '<BOS> a small white rabbit sitting infront of a house door awaiting for it to open <EOS>', '<BOS> the rabbit is rubbing mouth <EOS>', '<BOS> a rabbit is cleaning itself <EOS>', '<BOS> a rabbit is cleaning itself <EOS>', '<BOS> rabbit <EOS>', '<BOS> a rabbit inching it self <EOS>', '<BOS> a rabbit is itching its face <EOS>', '<BOS> the rabbit is eating <EOS>', '<BOS> a rabbit is grooming <EOS>', '<BOS> a rabit is playing <EOS>', '<BOS> a rabbit is eating something near a wooden fence <EOS>', '<BOS> a rabbit is licking its palm <EOS>', '<BOS> a rabbit is cleaning its face <EOS>', '<BOS> a rabbit scrabbling <EOS>'], 'vid1065': ['<BOS> someone is holding a small monkey <EOS>', '<BOS> a person is holding a monkey <EOS>', '<BOS> a monkey is being held by a person <EOS>', '<BOS> a person is holding a baby monkey <EOS>', '<BOS> someone is holding a baby monkey <EOS>', '<BOS> a man is holding a small monkey in his hands <EOS>', '<BOS> a person holds a small monkey <EOS>', '<BOS> someone is holding a monkey <EOS>', '<BOS> a baby monkey is being held <EOS>', '<BOS> a person is holding a monkey <EOS>', '<BOS> a baby monkey is moving its right fore limb <EOS>', '<BOS> the baby monkey watched as he was being held <EOS>', '<BOS> the vet is holding the baby monkey <EOS>', '<BOS> a monkey plays with a caretaker s hand <EOS>', '<BOS> the monkey was held in someone s hands <EOS>', '<BOS> someone is holding a small monkey <EOS>', '<BOS> a baby monkey grabs the finger of the person holding it <EOS>', '<BOS> a bbaby monkey is palying with a man <EOS>', '<BOS> a monkey is playing <EOS>', '<BOS> a monkey watching <EOS>', '<BOS> a person is kept with small monkey <EOS>', '<BOS> the monkey is biting the finger <EOS>', '<BOS> the monkey is playing <EOS>', '<BOS> a monkey is searching and playing <EOS>', '<BOS> a naughty monkey playing <EOS>'], 'vid1341': ['a man dressed in commando clothes is firing from two guns held in both of his hands', 'a soldier is shooting two guns', 'a soldier is firing two machine guns simultaneously with his hands', 'a soldier shoots off two guns at once', 'a soldier is firing two squad automatic weapons', 'a soldier fires two huge machine guns at the same time', 'a soldier shoots two rifles simultaneously', 'a soldier is firing two weapons', 'a soldier standing in an open barren land is firing bullets holding a rifle in each hand', 'a soldier firing two large guns', 'the soldier shot his weapons', 'the soldier is shooting two machine guns', 'a soldier is firing a machine gun', 'the soldier fired two machine guns', 'a soldier is firing machine guns', 'a army man is with two guns', 'a army soldier is shooting some target', 'a military man is holding the gun in his hand', 'a soldier firing two guns', 'an army man is holding gun in his hand and firing', 'an army man shooting with two guns', 'army soldier dualwields some m249 s', 'the army soldier is shooting', 'a man is firing two weapons', 'a man is shooting guns', 'a man is shooting guns', 'a man shoots two guns', 'a military man fires two automatic rifles at the same time', 'a military man shoots with two machine guns', 'a police man firing', 'a soilder is firing two machine guns at a time', 'a soldier armed with a machine gun in each hand', 'a soldier fires his guns on full auto', 'a soldier fires two machine guns simultaneously', 'a soldier is checking his weapon', 'a soldier is firing two guns at once', 'a soldier is firing two large machine guns', 'a soldier is firing two machine guns at once', 'a soldier is opening fire with his gun', 'a soldier is shooting a gun', 'a soldier is shooting two automatic rifles', 'a soldier is shooting two guns at the same time', 'a soldier is shooting two guns', 'a soldier keep a gun in his hands', 'a solider is shooting with guns', 'a us soldier fires two saws squad automatic weapons at the same time', 'a working army soldier', 'an army is shooting', 'an army man is having gun', 'an army soldier is shooting wirh his guns', 'an army soldier is shooting', 'an army soldier testing the rifles', 'soldier shooting two guns at the same time', 'the army man was shoot them', 'an army soldier is shooting with machine guns', 'army man is shooting with two maching guns'], 'vid1466': ['a group of people create a human pyramid', 'school students are forming a body pyramid', 'a group of people are kneeling on each others back', 'peoples are climbing over others', 'some people are making a human pyramid', 'people are forming a human pyramid', 'a group of people make a human pyramid', 'people are forming a human pyramid', 'people are building a human pyramid', 'several people are making a human pyramid', 'a bunch of people made a pyramid on the grass', 'the people are making a human pyramid', 'eleven people are forming a human pyramid', 'some people form a human pyramid', 'the kids made a human pyramid', 'the persons are doing exercises and enjoy them', 'some boys and girls are enjoying on picnic', 'young people are forming a triangle pile', 'a man in a dark suit crossing the road', 'a group of people are making a pyramid', 'people create a human pyramid', 'youngsters are trying to carry back the other youngsters', 'people are climbing on top of each other', 'girls and boys climbing on each other', 'all people are standing one on other', 'some people making a human pyramid', 'all people are sitting on another man', 'people are making pyramid', 'a group of boys and girls trying to do somekind of entertainment', 'a group of people are forming a human pyramid', 'people are climbing on top of one another to form a pyramid', 'what ever it takes', 'a woman is climbing on someone', 'they are playing', 'all girls and boys are playing', 'people are making a human triangle', 'a people having a photo'], 'vid1465': ['a man is performing on the electric guitar', 'a man is playing a guitar', 'a man is playing a guitar', 'a man is playing an electric guitar', 'a man is playing an electric guitar', 'a man is playing electric guitar', 'a man is playing guitar at a concert', 'a man is playing guitar on a stage', 'a man is playing guitar', 'a man is playing the guitar on stage in front of an audience', 'a man playing a guitar in front of a large crowd', 'a man plays guitar', 'an artist is playing guitar', 'jeff beck is playing the guitar onstage', 'jeff beck is playing the guitar', 'jeff beck plays his guitar onstage', 'the man is playing a guitar', 'the rock star played his guitar on stage', 'a band is playing music', 'group of people performing on the platform', 'two men are performing music on stage', 'a man is playing guitar on the stage', 'a rock band is playing music for the odions', 'jeff beck singing on stage at a concert', 'sting enters the stage', 'they all are very beautiful', 'a rock band is performing on stage', 'a band is performing on a stage outside', 'a band is performing on stage', 'a band is performing on the stage', 'a band is playing a song', 'a band is playing music', 'a band is playing on a stage', 'a band is playing', 'a band is playing', 'a guitarist is playing his guitar', 'a man is playing a guitar', 'a man is playing a guitar on stage', 'a man is playing a guitar', 'a man is playing a guitar', 'a man is playing guittar', 'a man performed on stage with a guitar', 'a man performed with a guitar on stage', 'guitarist beck and sting performing on stage', 'jeff beck is playing a guitar', 'jeff beck is playing people get ready', 'jeff beck is playing with sting on stage at a concert', 'men are getting ready for a music program', 'men playing music in instrument', 'musicians are playing', 'sting is going to sing in front of the audience', 'the band is playing as the singer comes onto the stage', 'the man is playing the guitar', 'there is a performance of musical concert', 'a man is singing'], 'vid1464': ['a dog is swimming in a pool', 'a dog is swimming in the swimming pool', 'a dog is swimming in a pool', 'a dog is swimming in a pool', 'a dog is swimming in a pool', 'a dog jumps into a pool and swims', 'a dog is swimming in a pool', 'a dog swims around in a pool', 'a dog is swimming in a pool', 'a dog swimming in a pool', 'a black dachshund jumps into a swimming pool and swims in the water', 'a dog swimming in a pool', 'the dog jumped inot the pool', 'a dog jumps into', 'the dog jumped into the pool and swam', 'a dog jumps into a pool and swims', 'the dog jumped into the pool', 'a dog diving into the a pool and swimming', 'a dog is diving in the pool', 'a dog is jumping into the water', 'a dog is swimming', 'a dog is swimming in a pool', 'a dog swimming in pond', 'a funny dog swimming in the pool', 'jumping dachsund', 'swiming on the dogs', 'the dog is swimming in swimming pool', 'a dachshund dog jumps into and swims across a swimming pool', 'a dachshund is swimming', 'a dash hound swimming in a pool', 'a dog is jumping into a pool and swimming', 'a dog is jumping into the pool', 'a dog is swimming in a pool', 'a dog is swimming in a pool', 'a dog is swimming in a pool', 'a dog is swimming in a swimming pool', 'a dog is swimming in the pool', 'a dog is swimming in water', 'a dog is swimming', 'a dog is swimming', 'a dog is swinming in water', 'a dog jumped in a swimming pool and swimmed around it', 'a dog jumped into a swimming pool', 'a dog jumps into a pool and swims', 'a dog jumps into a swimming pool and goes swimming', 'a dog jumps into a swimming pool and swims across', 'a dog jumps into a swimming pool and swims', 'a dog swimming in a swimming pool', 'a dog swimming through the pool', 'a dog swims in a pool', 'a dog swims in a pool', 'a dog swims in a swimming pool', 'a dog swims to a marked spot in the pool', 'a jumping dachsund', 'dog is swimming in the swimming pool', 'the dog has dyfe into the wiming pool', 'the dog is swimming', 'the dog jumps into the swimming pool', 'a dog id swimming in a pool', 'a dog is swimming into the water', 'a dachshund jumps into'], 'vid1018': ['<BOS> a man is slicing open a fish longways with a knife <EOS>', '<BOS> a man is gutting a fish <EOS>', '<BOS> a man is gutting a fish <EOS>', '<BOS> a man is cutting open a fish to cook it <EOS>', '<BOS> a man is cutting a fish <EOS>', '<BOS> a man is gutting a fish <EOS>', '<BOS> a man cuts the skin off of a fish <EOS>', '<BOS> a man is cutting a fish <EOS>', '<BOS> a man is gutting a fish <EOS>', '<BOS> a man is cutting up a fish <EOS>', '<BOS> a man cuts a raw fish with a knife <EOS>', '<BOS> the man is slicing a fish <EOS>', '<BOS> a man is cutting the skin off a fish with a knife <EOS>', '<BOS> a man cuts some meat <EOS>', '<BOS> a man is slicing open a fish <EOS>', '<BOS> the man split open the fish with a knife <EOS>', '<BOS> the man is cutting fish <EOS>', '<BOS> a man is cutting a fish <EOS>', '<BOS> a man is cutting the meat <EOS>', '<BOS> a chef cutting fish <EOS>', '<BOS> a man is cutting open a fish <EOS>', '<BOS> a person preparing something <EOS>', '<BOS> a person is cooking <EOS>', '<BOS> a man is cutting open a fish <EOS>', '<BOS> a chef is slicing a piece of raw fish <EOS>', '<BOS> one man is cutting something with knife <EOS>', '<BOS> the man sliced open the fish <EOS>', '<BOS> a man cooking his kichen <EOS>', '<BOS> the man is slicing the fish <EOS>'], 'vid1545': ['a horse gets up off of the ground', 'a horse stands up from the ground', 'a horse is rolling on the ground', 'a horse is standing', 'a horse is rolling on the ground', 'a black horse is rolling on the ground and then stands up', 'a horse is standing up', 'a horse is standing', 'a horse rolls over on the ground', 'a horse is standing up', 'a horse stands up', 'a horse rolls on the ground', 'the horse rolled in the grass', 'the horse stood up', 'a horse gets off the ground', 'a horse gets back up on his feet', 'a horse gets up off the ground', 'the black horse got up on its feet', 'a horse is standing up', 'the group of horse are searching the food and eat and drink', 'a horse is getting up', 'a horse is getting up', 'a horse is standing', 'a horse is trying to stand up', 'a horse rolls over in the grass and then stands up', 'a horse sitting in grass', 'a horse sleeping in the grass', 'a horse stand up', 'a horse stands up from the ground', 'the hoers is taking the rest', 'the horse got up', 'the horse is standing up', 'the horse is walking and running also', 'wild horses on view'], 'vid1546': ['a man is assembling a machine', 'a man is putting together a disassembled speaker while talking', 'a man is assembling a speaker', 'a mechanic is joining tools', 'a man is assembling a speaker', 'a man is making loudspeaker', 'a man is putting together a stereo speaker', 'a man is demonstrating machine parts', 'a man works on a stereo speaker', 'a man is joining up two pieces of equipment', 'a guy is building a speaker', 'someone is putting something together', 'a man is assembling a speaker', 'a man screws a wave guide on the groove of a compression driver', 'the man demonstrated the car speaker', 'a man puts together a speaker', 'the man is putting a speaker together', 'a man is assembling speaker parts', 'a man puts together a speaker', 'the man demonstrated a car speaker', 'a speaker parts are fitted', 'a man is putting together a speaker', 'a man trying to rev up his vintage speakers', 'a man is showing how to make a speaker', 'rev up your vintage speakers', 'a man is assembling a speaker', 'a man is assembling the speaker', 'a man assembles a speaker', 'a man is placing the speaker on the table', 'the man is showing the waveguide', 'a man is doing mechanical work', 'a man is demonstrating a speaker', 'a man repairing', 'a man is explaining about making a speaker', 'a man is speaking about a instrument how is it make', 'a man demonstrating how to rev up your speakers', 'a man is assembling a speaker', 'the man is putting together speakers', 'very neat and clear video for speaker', 'the person is repairing the speakers'], 'vid1547': ['someone is cutting slices into an onion half', 'a person slices an onion', 'a woman is slicing an onion', 'a chef is slicing an onion', 'someone is chopping onions', 'a woman is cutting onion', 'a woman is slicing onions with a large knife', 'a person with a knife is slicing an onion', 'a person cuts into an onion', 'a woman is cutting an onion', 'a woman is slicing an onion', 'a woman is slicing an onion', 'a woman makes vertical cuts across half a peeled onion leaving the base portion intact', 'the lady sliced the onion', 'the cook is slicing onions', 'a person cuts an onion', 'the lady sliced the onion', 'there is a cutting the item', 'a woman is slicing an onion', 'a woman is slicing an onion', 'a lady is cutting the onion', 'a girl is cutting an onion', 'a woman is cutting and onion', 'improving the knife skills', 'a man is cutting a slices of potato', 'the person is cutting the something', 'this woman with a knife slice', 'a man is slicing some vegetables with knife', 'a woman cooking his kichen', 'a person is slicing an onion', 'the cook is slicing onions', 'anyone is making dish', 'a woman is cutting onion'], 'vid1014': ['<BOS> a woman is getting her hair styled <EOS>', '<BOS> a hair stylist is styling someone s hair <EOS>', '<BOS> a man is styling a woman s hair <EOS>', '<BOS> a hairdresser styles a woman s hair <EOS>', '<BOS> a guy is styling a girls hair <EOS>', '<BOS> a man is combing and making various sections of the hair of a female customer <EOS>', '<BOS> a stylish fixing a woman s hair <EOS>', '<BOS> the lady sectioned off the girls hair <EOS>', '<BOS> a woman gets her hair done by a man <EOS>', '<BOS> the stylist is fixing the woman s hair <EOS>', '<BOS> a man is cutting a womans hair <EOS>', '<BOS> someone prepared the girl s hair for cutting <EOS>', '<BOS> stylist fixing a woman s hair <EOS>', '<BOS> the hair stylist is fixing the woman s hair <EOS>', '<BOS> a barber doing some setting of hairs before cutting <EOS>', '<BOS> a lady is cutting a hair of a girl <EOS>', '<BOS> a lady is cutting the hair <EOS>', '<BOS> a man is doing haircut for a girl <EOS>', '<BOS> a man is doing someone elses hair <EOS>', '<BOS> a woman cutting the hair <EOS>', '<BOS> a woman doing hair cut to a girl <EOS>', '<BOS> a woman is doing another woman s hair <EOS>', '<BOS> a woman is getting her hair pinned up so that it can be cut <EOS>', '<BOS> a woman is styling another woman s hair <EOS>', '<BOS> a women adrianhaircut <EOS>', '<BOS> a women solve the problem in hair <EOS>', '<BOS> the beautician can do there work <EOS>', '<BOS> the beautician do the hair style for the girl <EOS>', '<BOS> the beautiness is desing the hair <EOS>', '<BOS> a barber is dressing hair <EOS>', '<BOS> a beautician is styling a lady s hair <EOS>', '<BOS> a famous hair dresser giving a unique hair design through a cut <EOS>', '<BOS> a hair cuting shop <EOS>', '<BOS> a hair dresser dressing the hair of a girl <EOS>', '<BOS> a hairstylist combs and places a clips in a woman s hair <EOS>', '<BOS> a hairstylist prepares her client s hair for cutting <EOS>', '<BOS> a man cutting a woman s hair <EOS>', '<BOS> a man doing a hair style <EOS>', '<BOS> a man gives a woman a haircut <EOS>', '<BOS> a man is combing a woman s hair <EOS>', '<BOS> a man is combing a woman s hair <EOS>', '<BOS> a man is combing someone s hair <EOS>', '<BOS> a man is cutting a womens hair <EOS>', '<BOS> a man is doing a woman s hair <EOS>', '<BOS> a man is making a hair style to a woman <EOS>', '<BOS> a man is styling a woman s hair <EOS>', '<BOS> a man is styling hair of a woman <EOS>', '<BOS> a man is styling hair <EOS>', '<BOS> a man is styling hair <EOS>', '<BOS> a man styles a woman s hair <EOS>', '<BOS> a woman is preparing another woman s hair for a haircut <EOS>', '<BOS> a young woman is getting her hair cut <EOS>', '<BOS> in the process of hairdressing <EOS>', '<BOS> someone is combing hair <EOS>', '<BOS> a girl is doing makeup to another women <EOS>', '<BOS> a man doing hair dress to a female <EOS>', '<BOS> the man is cutting another woman haire <EOS>'], 'vid1015': ['<BOS> a man puts a metal skillet filled with something into an oven <EOS>', '<BOS> a man puts food in the oven <EOS>', '<BOS> a person is baking food in the oven <EOS>', '<BOS> a man is putting a skillet containing red and yellow material into an oven <EOS>', '<BOS> a man is putting a pan in the oven to bake <EOS>', '<BOS> a man is baking something <EOS>', '<BOS> a man is cooking a frittata in the oven <EOS>', '<BOS> a man is putting a pan into an oven <EOS>', '<BOS> a man is putting a pan of food in the oven <EOS>', '<BOS> a man is placing a pan of food into the oven <EOS>', '<BOS> the man put the dish into the oven <EOS>', '<BOS> the man put the pan into the oven <EOS>', '<BOS> a man puts some pasta in the oven <EOS>', '<BOS> a man puts an omelet into the oven <EOS>', '<BOS> the man put the dish in the oven <EOS>', '<BOS> the person is cooking <EOS>', '<BOS> a man is placing a pan of ingredients into the oven <EOS>', '<BOS> a man is keeping the pan inside the oven <EOS>', '<BOS> a man is putting a pan in the oven <EOS>', '<BOS> a man is frying something <EOS>', '<BOS> a person is cooking <EOS>', '<BOS> he is putting something in the cooking range <EOS>', '<BOS> a man is putting a cast iron pan into an oven <EOS>', '<BOS> a man holding a pineapple in hands and describing about it <EOS>', '<BOS> the man put the pan of food in the oven <EOS>', '<BOS> a man cooking his kichen <EOS>', '<BOS> the man put the pan in the oven <EOS>', '<BOS> a man is putting a pan into the oven <EOS>', '<BOS> a man is putting a pan of chicken into an oven <EOS>'], 'vid1940': ['a person playing a piano', 'a man is playing a piano', 'a man is playing piano', 'a man is playing the piano', 'a man plays a keyboard', 'a person is playing a keyboard piano', 'a person is playing the piano', 'a person is playing the piano', 'a person is playing the piano', 'a person is playing the piano', 'a person plays the piano', 'a piano is being played', 'a piano is being played', 'someone is playing the piano', 'the man played the piano', 'the person is playing the piano', 'a man plays the piano with his fingers raised high', 'a guy playing his piano', 'a man is playing the piano', 'he is playing on the music', 'some one playing piano', 'a man is playing the piano', 'a men playing peyano', 'piano looking good', 'a man is playing the piano', 'someone is playing a piano', 'a man is playing a piano', 'piano is played by an artist', 'a person is playing the piano', 'playing the piano', 'a person is playing piano', 'a man is playing the piano', 'a person is playing a piano', 'a person is playing a keyboard', 'playing the piano is like walking on water', 'a person is playing a piano', 'a man playing piano', 'a person is playing a keyboard', 'someone plays keyboard', 'someone is playing piano', 'someone is playing the piano', 'a man is playing piano', 'a man is playing a piano', 'a person plays the piano', 'a person is playing piano', 'a unique piano composition and would be liked by a lot of broken hearts', 'a person is playing the piano', 'a man is playing the piano', 'a clip about the betrayal original piano composition', 'a man playing piano', 'a pianist plays piano', 'a man plays a melody on piano', 'a man plays the piano alone in a room', 'the man is playing the piano', 'a man is playing piano', 'a man was paly piano', 'a man is playing a piano composition from the betrayal', 'a person is playing piano', 'a man is playing some instrument', 'a man is playing piano', 'a man is playing a piano'], 'vid1767': ['a body builder is doing exercises', 'a bodybuilder is lifting weights', 'a bodybuilder lifts a barbell', 'a male weight lifter is lifting weights', 'a man does several arm curls with a weight bar', 'a man is curling a barbell', 'a man is doing weightlifting', 'a man is lifting a barbell', 'a man is lifting weights', 'a man is lifting weights', 'a man is lifting weights', 'a man is lifting weights', 'a man is lifting weights', 'a man lifts weight', 'a muscular man is standing and lifting weights unto his chest level', 'the bodybuilder lifted a heavy weight', 'the man is lifing weights', 'the man lifted a heavy barbell weight', 'a bodybuilder perform the wheight lifting', 'a man is lifting weights', 'the person is doing exercise', 'a bodybuilder lifts a barbell several times', 'a muscular man is lifting weights', 'a man is weightlifting', 'the man is exercising', 'a body guard is exercising', 'a bodybuilder is doing exercise', 'a man is lifting weights', 'a man is doing exercise', 'the bodybuilder was practice in the gym', 'a man is lifting some weights', 'body builder brandon curry doing a workout', 'a man is doing exercise', 'a man is lifting weights', 'a bodybuilder is lifting heavy weights', 'a man is lifting weights', 'a bodybuilder is doing exercise', 'a person exercising their', 'a muscular man is curling weights', 'the man is lifting weights', 'a man is doing workout', 'excellent bodybuilder', 'a muscled man is practising heavy lifting', 'a bodybuilder is lifting weights'], 'vid1760': ['two large fish are swimming opposite directions in the ocean', 'a fish is swimming', 'a fish is swimming', 'a fish like creature that appears to have a hand with fingers is swimming close to the bottom in a body of water', 'a fish is swimming under the water', 'two fish are interacting', 'a sea creature is swimming through water', 'fish are swimming in water', 'a strange looking fish is swimming in the ocean', 'a fish cruises along the bottom of an aquarium', 'a fish is swimming', 'fish are swimming', 'two fish are swimming around the water', 'a black eellike sea creature with limbs is moving slowly under water', 'the fish bumped into another fish underwater', 'the ugly fish is swimming', 'a fish swims around', 'the fish bumped into each other under water', 'a fish is swimming in the water', 'a little water monster', 'a fishlike animal is swimming through the water', 'a little water monster is walking', 'a monster is swimming', 'a salamander is swimming', 'an animal is swimming', 'the fish is eating', 'the ugly fish is walking', 'there are diffrent type of big fishes moving under sea', 'two underwater animals are passing each other'], 'vid1762': ['a yellow train is speeding down a track', 'a rain is riding on a track', 'a yellow passenger train is speeding down the track', 'a train is passing on the railwaytrack', 'a yellow train speeds down the coast', 'a train is going across a railroad track', 'a train is moving', 'a train is going down the track near a shore', 'a train is moving very fast', 'a train is going by', 'a train goes by', 'a high speed train is running down the track', 'the train went by the harbor', 'the speeding train is moving very quickly', 'a train speeds across the track', 'a bullet train zooms along a track', 'the yellow train passed by the water', 'a train is running', 'a train moving faster', 'a trin is moving down a track', 'might have also saved the japan national railway company from going broke as well everyone would have won better transport', 'a high speed bullet train zooms past', 'a train is moving on track', 'a train is moving', 'a train is riding down a rail', 'a train is running', 'a train is running on the track', 'a train is running on the track', 'a yellow train is moving fast', 'the train is fast going them', 'the train is going them', 'the train passes rapidly', 'metro train'], 'vid1763': ['an older woman sitting in a chair is handcuffed by a police officer', 'a woman is being handcuffed', 'a policeman is putting handcuffs on an older lady', 'a policeman is arresting a woman', 'a cop handcuffs a woman', 'a policeman is putting handcuffs on a woman', 'a police man is tying something on an old lady s hand', 'a police officer handcuffs an older woman', 'a man is arresting a woman', 'a police officer handcuffs an old woman', 'a woman is being arrested', 'a cop is putting hand cuffs on a woman', 'a police officer handcuffs an elderly woman', 'a police officer puts handcuffs on an old woman s wrists and takes her away as she talks something', 'the officer cuffed the lady with handcuffs', 'the policeman put handcuffs on the lady', 'a police officer is handcuffing a woman', 'a police officer handcuffs a woman', 'the officer put handcuffs on the lady', 'the policeman arrest the lady', 'he is a gaming the lady', 'old woman is arreested by police man', 'one soilder helping to a lady', 'a men is giving any thing to his mother', 'an officer places handcuffs on a smiling woman', 'a man is handcuffing a woman', 'a woman is being hand cuffed', 'the person is talking to women', 'the policeman is handcuffing the lady', 'a policeman arresting a lady', 'a lady is red handed', 'the police is arrest the old women', 'a woman is being handcuffed', 'a man putting lock to a woman', 'a cop is arresting an old woman', 'a police officer is handcuffing an old woman', 'a police officer take a women', 'the woman got arrested', 'a police is putting a handcuff on a woman', 'a policeman is handcuffing an old lady', 'a policeman is arresting a lady', 'the person is keeping watch to the old women', 'a dog is catching one ball', 'a women is arresting by the police', 'a cop is arresting a woman'], 'vid1603': ['a group of boys are dancing', 'a man is standing in front of a room of people wearing a pair of boxing gloves', 'a young man wearing boxing gloves is joined by two other young men and they all begin to dance', 'boys are dancing in front of people', 'guys are performing', 'the men are performing in front of people', 'the men promoted the boxer', 'the two men did a funny skit with a boxer in front of a crowd of people', 'three boys are dancing in front of a crowd', 'three boys are dancing in the class room', 'three boys are dancing', 'three guys perform a dance routine', 'three men are dancing in front of a crowd', 'three men are dancing', 'three men are doing a presentation', 'three men are performing before an audience', 'three men assume fighting stances', 'three men start dancing in front of a class', 'three people dance', 'boys are dancing in a class', 'two guys dancing while the guy in the middle showing his boxing skills to a gathering', 'three men perform for a crowd', 'two men are dancing and one man in the center', 'three men are dancing', 'three boys are dancing', 'three boys are dancing', 'camp', 'men are dancing', 'men giving some kind of demo of dance and sports activity'], 'vid536': ['<BOS> a man is putting pepper into a bowl <EOS>', '<BOS> someone is seasoning two cracked eggs in a bowl <EOS>', '<BOS> a man puts ingredients on eggs <EOS>', '<BOS> someone is seasoning two raw eggs in a bowl <EOS>', '<BOS> a person is adding spices in the bowl <EOS>', '<BOS> a man is adding vanilla to egg <EOS>', '<BOS> a person adds cinnamon and vanilla extract to eggs <EOS>', '<BOS> a man is preparing ingredients to make french toast in a bowl <EOS>', '<BOS> a person is seasoning eggs <EOS>', '<BOS> a person puts seasonings into a bowl of raw eggs <EOS>', '<BOS> someone is putting seasonings onto raw eggs <EOS>', '<BOS> someone is seasoning eggs <EOS>', '<BOS> a person is adding cinnamon and vanilla to eggs in a bowl <EOS>', '<BOS> someone seasoned the raw eggs <EOS>', '<BOS> the cook is seasoning eggs <EOS>', '<BOS> a cook adds seasoning and extracts to some eggs <EOS>', '<BOS> the lady added season to the eggs <EOS>', '<BOS> a woman is seasoning eggs <EOS>', '<BOS> the person is making the mixing the something and cooking <EOS>', '<BOS> a person is mixing the peper on the eggs <EOS>', '<BOS> a man preparing french toast recipe <EOS>', '<BOS> delicious french toast <EOS>', '<BOS> a man is preparing eggs <EOS>', '<BOS> a man is seasoning eggs <EOS>', '<BOS> a person peppers eggs in a bowl <EOS>', '<BOS> a man is putting pepper on the eggs <EOS>', '<BOS> the bread is toasted <EOS>', '<BOS> a man is spicing some eggs <EOS>', '<BOS> someone is mixing eggs with other ingredients <EOS>', '<BOS> a man is seasoning some eggs <EOS>', '<BOS> the person is adding cinnamon and vanilla to eggs <EOS>', '<BOS> someone is putting spices on eggs <EOS>', '<BOS> a video on how to make french toast <EOS>', '<BOS> a person is adding spices and flavouring into a bowl of raw eggs <EOS>', '<BOS> a person is preparing for toast <EOS>', '<BOS> a lady is preparing a dish which is called french toast <EOS>', '<BOS> the lady seasoned the raw eggs <EOS>', '<BOS> a person make a egg fry <EOS>', '<BOS> a man cooking his kichen <EOS>', '<BOS> the woman is seasoning eggs <EOS>', '<BOS> a person is adding pepper and vanilla into a bowl of eggs <EOS>', '<BOS> a man is sprinkling some cinnamon into a ball <EOS>', '<BOS> a man is adding cinnamon and vanilla to a bowl of cracked eggs <EOS>', '<BOS> someone sprinkles spices into a bowl of raw eggs <EOS>'], 'vid538': ['<BOS> a chef is serving food and speaking <EOS>', '<BOS> a diner chef is serving kids at a booth <EOS>', '<BOS> a man is serving a table of children some food <EOS>', '<BOS> a man is serving food to a group of children <EOS>', '<BOS> a man is serving food to children <EOS>', '<BOS> a man is serving food to some kids <EOS>', '<BOS> a man is serving plates to the children <EOS>', '<BOS> a man serves a bunch of kids in a diner <EOS>', '<BOS> a man serves food to a group of kids <EOS>', '<BOS> a man serves food to children <EOS>', '<BOS> a man wearing a chef cap is serving plates of food on a table where four children are seated <EOS>', '<BOS> a waiter serves four kids at a restuarant <EOS>', '<BOS> four children are eating at a restaurant <EOS>', '<BOS> people are eating <EOS>', '<BOS> the kids are eating <EOS>', '<BOS> the man served snacks to the kids at the table <EOS>', '<BOS> the waiter served the kids a snack <EOS>', '<BOS> the children are ready to eat <EOS>', '<BOS> a man serves food to children <EOS>', '<BOS> four kids are eating <EOS>', '<BOS> a cook serving food <EOS>', '<BOS> a man is serving some food <EOS>', '<BOS> health parts <EOS>', '<BOS> all people are eating <EOS>', '<BOS> a short clip about health inspector <EOS>', '<BOS> a man is serving food <EOS>', '<BOS> a video on barth and the health inspector <EOS>', '<BOS> a man is serving food to children <EOS>', '<BOS> a cook serves four kids while smoke emerges from the kitchen <EOS>'], 'vid103': ['<BOS> a man explaining how to do his hair <EOS>', '<BOS> a boy demonstrated how to spike his hair with gel <EOS>', '<BOS> a boy is combing his hair <EOS>', '<BOS> a boy is demonstrating how to spike his hair <EOS>', '<BOS> a boy is styling his hair <EOS>', '<BOS> a man is brushing his thin blue hair from side to side <EOS>', '<BOS> a man is showing how to make liberty style mohawk hairstyle <EOS>', '<BOS> a man shows how to style a mohawk <EOS>', '<BOS> a man shows various items needed to get a spiky hairdo and then combs his colored hair with a brush <EOS>', '<BOS> the man is brushing his hair <EOS>', '<BOS> a boy is standing inside the room <EOS>', '<BOS> how to make a liberty spike mohawk <EOS>', '<BOS> a guy is doing his hair <EOS>', '<BOS> a man is describing what is needed to do his hair <EOS>', '<BOS> the man showing how to make liberty spike <EOS>', '<BOS> a man is makeing a liberty spike mohawk <EOS>', '<BOS> a boy doing some funny acta opposite a mirror <EOS>', '<BOS> a guy is preparing his hair by brushing it so he can make a liberty spike mohawk <EOS>', '<BOS> the person is showing how to make liberty spike <EOS>', '<BOS> self hair dressing <EOS>', '<BOS> a men make a liberty spike mohawk <EOS>', '<BOS> how to make a liberty spike mohawk <EOS>', '<BOS> a man is combing his hair <EOS>', '<BOS> the boy is styling his hair <EOS>', '<BOS> a man is showing his hair products <EOS>', '<BOS> thr person is combing the hair <EOS>', '<BOS> a boy with a green mohawk shows what he uses to style his hair <EOS>', '<BOS> a man is brushing his hair <EOS>', '<BOS> a man with spikes on the head <EOS>', '<BOS> a man combs his hair <EOS>', '<BOS> a boy is combing his hair <EOS>', '<BOS> a boy illustrating how to style a mohawk <EOS>', '<BOS> a man is having a different hairstyle <EOS>', '<BOS> a man is doing a makeup <EOS>', '<BOS> a young man demonstrates how to use styling products in on his hair <EOS>', '<BOS> a boy is doing a demonstration <EOS>', '<BOS> a man shows his products <EOS>', '<BOS> a guy is combing his hair <EOS>', '<BOS> a young man is combing his hair <EOS>', '<BOS> someone is talking about hair products and brushing their hair <EOS>', '<BOS> a man is styling his hair <EOS>', '<BOS> a man shows how to style a spike mohawk <EOS>', '<BOS> a person demonstrating some equipments in a barber shop <EOS>', '<BOS> a young man is demonstrating how to prepare hair for a specific hair style <EOS>', '<BOS> a young man displays products necessary to style a mohawk <EOS>', '<BOS> a man guiding about how to make a liberty spike mohawk <EOS>', '<BOS> a man is styling his hair <EOS>', '<BOS> the man is combing his hair <EOS>', '<BOS> a boy is styling his hair <EOS>', '<BOS> a man poofs up his hair with a hairbrush <EOS>', '<BOS> a man is styling his hair <EOS>', '<BOS> a beautician is teaching how to make a mohawk <EOS>', '<BOS> a man is giving instruction and combing out his hair <EOS>', '<BOS> a man is teaching about the some spray <EOS>', '<BOS> a man showing some hair color tips <EOS>', '<BOS> a man is explaning about a hairstyle <EOS>'], 'vid1306': ['a man inserts the tip of a large knife into a vise and pulls the knife towards him', 'a man puts a knife in a vice', 'a man puts a knife into a vice', 'a man is clamping the blade of a knife in a vise', 'a man is putting a hunting knife in a vise', 'a man is putting a knife to a machine', 'a man is putting a knife into a vice', 'a man is putting a knife in a vice', 'a man trys to break a knife blade', 'a man is clamping a knife into a vise', 'the man put the knife in the clamp', 'the man clamped the knife', 'a man shappens a knife', 'the man put a steel rod in a clench', 'the men is preparing the item', 'a man sharpening his knife to cut wood', 'a man is putting a knife in a clamp', 'a man is balancing a knife', 'one man is working', 'a man is clamping down a knife', 'a man fixes a knife in place', 'a man is rolling the handle of the machine', 'a man puts a knife into a vice', 'a man placing a knife in a vice grip', 'a man clamps a knife in a machine', 'a man repairing', 'a man is putting a knife in a vice', 'a man tightening a machine', 'the man put the knife in the clamp', 'the man put a knife in a clamp', 'a man fastens a knife blade in a clamp', 'a man is keep the knife on the machine'], 'vid1304': ['a man being interviewed at a park event', 'a man is speaking into a microphone', 'a man is speaking into a microphone', 'a man is speaking into a microphone', 'a man is speaking to a crowd of people', 'a man is speaking to an audience', 'a man is speaking', 'a man is talking into a microphone', 'a man is talking', 'a man is talking', 'a man talks into a microphone', 'a man talks', 'an elderly man is giving his opinion amongst a gathering of people', 'an older man speaks into a microphone', 'the man is speaking to an audience', 'the man spoke at a rally', 'the man spoke at a rally', 'tea party member is giving a speech', 'a man is talking', 'the person is speaking something', 'a man is speaking on a microphone', 'an old man is speaking through the mike', 'a man is talking to the crowd', 'a man speaking to a reporter', 'n old man is talking to the crowd', 'people were gathered in tea party', 'an oldman is speaking', 'a man talks into a microphone', 'a man is giving interview', 'a man is giving a seech', 'a man is speaking about a verse', 'a man talks into a microphone', 'a man is lecturing on public placement', 'a man is talking', 'a man speaking something in a mic during a tea party', 'a man giving a speech to the peoples', 'a man talks into a microphone', 'the old man is being interviewed', 'a man speech in the crowed', 'a person speaking their', 'a man preaches to a crowd at a tea party', 'a men give the interview', 'a man is giving speech', 'people are gathered in one place', 'a man is speaking in front of a group outside', 'tea party member stuns crowd original'], 'vid1265': ['a boy wearing glasses is bending over a chair and screaming', 'a boy is screaming', 'a kid plays on a chair', 'a boy is leaning over the back of a chair and screaming', 'a boy is screaming', 'a boy is screaming', 'a boy is yelling while placing his head in the corner behind a chair', 'a child screams and flails around', 'a kid is screaming behind a chair', 'a boy throwing a fit', 'a boy sitting and looking over a sofa chair is screaming out loudly while waving his hands in the air', 'a boy pretending to be hurt', 'the boy screamed behind the chair', 'a boy throws his upper body over the side of a couch and starts screaming', 'the boy is throwing a tantrum', 'a boy plays on a couch', 'a boy is screaming and crying', 'the boy screamed behind the chair', 'a boy acting', 'a boy doing drama', 'a boy is possessed kid screaming', 'a boy is pretending to have his head stuck behind a couch', 'a boy is scarring someone', 'a boy is screaming loudly', 'a boy is screaming', 'a child screaming on a chair', 'a kid is screaming', 'a little boy having a temper tantrum', 'he is struglud', 'possessed kid screaming', 'the boy was very scarred', 'a boy crying over the sofa', 'a boy having a fit and yelling', 'a boy is crying on a sofa chair', 'a boy is kneeling on a chair backwards and either crying or screaming', 'a boy is scaring', 'a boy is screaming the kid', 'a boy is screaming', 'a boy is screaming', 'a boy is screaming', 'a boy is yelling and flailing about in a chair', 'a boy jsut trying to see on the back side of a sofa and got caught over there', 'a boy jumps onto a chair and screams', 'a boy screaming to see something behind sofa', 'a boy shouting', 'a child is acting out a tantrum', 'a child is having a temper tantrum', 'a child is screaming', 'a guy is screaming', 'a kid is playing on a couch', 'a kid is playing on a sofa', 'a kid is throwing a tantrum on a chair', 'a kid possessed screaming', 'a man in glasses singing or howling', 'a stubborn kid screams and cries', 'kid throwing a temper tantrum', 'the kid is crying upon chair', 'the kid is screaming hastily', 'a boy is crying', 'a boy screeming on the sofa chair'], 'vid1260': ['a boy plays a flute', 'a boy is playing a flute', 'a boy is playing a wooden flute', 'a boy is playing a flute', 'a child plays the flute', 'a young boy is playing the flute', 'a boy is playing flute', 'a boy is playing a flute on a stage', 'a young boy is playing a wind instrument', 'a boy plays a flute', 'a boy is playing a flute', 'a kid is playing an instrument', 'a boy is playing a flute', 'a small boy seated on stage is playing the flute', 'the boy played the wooden flute into the microphone', 'the boy is playing a wooden flute', 'a boy plays a wooden flute', 'the boy played his flute in front of a microphone', 'a boy playing music', 'the boy is playing the flute', 'a boy is playing an instrument', 'a boy is playing the flute', 'the tv chanal shows the small boy play the flute music concert', 'a boy is singing', 'a man is playing some instrument', 'a boy is playing a flute on a stage', 'a boy is playing a flute', 'the flute is playing by a boy', 'a boy was playing flute', '10 year old akash s ringing the flute for bala gandharva', 'a young boy is playing the flute', 'a man playing music', 'the boy is playing a wooden flute', 'an indian child is playing a flute', 'a boy is playing instrument', 'a boy is playing flute', 'small boy playing flute', 'a boy is playing a flute', 'a boy is playing flute onstage', 'a little boy plays a flute'], 'vid1308': ['three men are dancing', 'three men wrapped in towels are dancing', 'three men are doing same dance in the street', 'three people dance in towels', 'three men are dancing in beach towels', 'men are dancing on bath towel', 'three men in towels are dancing', 'men are dancing in towels', 'three guys dance in the street', 'three guys are dancing', 'men are dancing', 'three shirtless men are dancing in the street', 'the three boys danced in the sand with their beach towels on', 'the boys are dancing', 'three boys dance', 'the boys danced in their beach towels', 'three men are dancing', 'a boyes funny dancing on the rood', 'a group of three guys doing what looks like a hawaiian dance', 'three boys are dancing in towel', 'three friends doing some sort of towel dance on a road', 'the boys are dancing with towels on', 'three boys are dancing in the rain', 'the three boys are dancing', 'three men dance whilst wearing towels', 'three guys are dancing', 'three men are dancing', 'three men are dancing', 'the waka waka is diffrence dance', 'some boys are dancing', 'three man dancing', 'three young men dancing with their towels', 'the friends doing some sort of funny towel dance', 'the boys are dancing', 'three boys are dancing', 'men are dancing', 'some boys are dancing', 'three men dancing with the towel', 'three young men dressed only in towels are doing a synchronized dance', 'super three dancers', 'three young men are dancing', 'three shirtless men are dancing outside', 'three guys are dancing'], 'vid1262': ['a crying boy drops his backpack and runs up to a large tree that has fallen across a street', 'a boy is crying in the rain', 'a boy is pushing a tree', 'a boy with a back pack on is standing in the rain near a fallen tree watching cars drive by', 'a boy is trying to push a treetrunk', 'a boy is trying to push a fallen tree from the road', 'a boy is trying to a push a downed tree out of the street in the rain', 'a boy stares at a tree lying in the street', 'a boy', 'a boy is pushing the road', 'a boy is standing in the rain', 'a boy is looking at a fallen tree', 'the boy tried to push the fallen tree out of the way', 'the tree fell across the road', 'a boy drops his backpack', 'the boy looked at the fallen tree in the rain', 'a boy is standing in the rain', 'a boy standing in the rain', 'featuring a song', 'in the rainy season the school going boy see the very big tree is fallan on the road', 'its true very indian should be like this apart frm various diversitychild is very cute amazing', 'a boy in the rain pushes a tree trunk', 'a boy is crying and pushing a log', 'a boy is standing in the rain', 'a child walking on the road', 'a little boy tries to move a fallen tree from the road', 'the tree fell across the road and the boy is trying to push it', 'this video is child with tree'], 'vid690': ['<BOS> a girl and a boy are eating their food <EOS>', '<BOS> a woman inspects her hamburger and talks to another woman <EOS>', '<BOS> the woman are talking and eating <EOS>', '<BOS> tow ladies ate a hamburger in a booth <EOS>', '<BOS> two girls are eating and talking in a restaurant <EOS>', '<BOS> two girls are eating hamburgers at a table <EOS>', '<BOS> two girls are sitting in a restaurant booth eating hamburgers <EOS>', '<BOS> two girls are talking <EOS>', '<BOS> two people are eating burgers <EOS>', '<BOS> two woman are talking over lunch <EOS>', '<BOS> two women are eating burger and talking each other <EOS>', '<BOS> two women are eating burgers <EOS>', '<BOS> two women are speaking during a meal <EOS>', '<BOS> two women are talking and eating at a restaurant <EOS>', '<BOS> two women are talking while eating <EOS>', '<BOS> two women are talking while sitting in a fast food booth <EOS>', '<BOS> two women eat hamburgers in a cafe and chat <EOS>', '<BOS> two young women talk in a diner <EOS>', '<BOS> womans are having burger at hotel <EOS>', '<BOS> the girls is eating <EOS>', '<BOS> two women chatting <EOS>', '<BOS> two girls are eating burgers <EOS>', '<BOS> two women are eating at a diner <EOS>', '<BOS> television movies <EOS>', '<BOS> two girls talking to each other in a diner <EOS>', '<BOS> a guy is arguing with his teacher <EOS>', '<BOS> two ladies sitting together and talking <EOS>', '<BOS> two having food and talking to each other <EOS>', '<BOS> woman are eating hamburgers at a diner <EOS>', '<BOS> two women sit togther to eat burgers placed on their table <EOS>', '<BOS> two girls are talking at a restaurant <EOS>'], 'vid1282': ['a man making pizza dough', 'a man is combining flour and water in a bowl to make dough', 'a man is mixing dough in a bowl', 'a man is mixing dough with spoon', 'a man is mixing dry ingredients in a bowl', 'a man is mixing flour in a bowl using some type of forked utensil', 'a man is mixing flour to make dough', 'a man is mixing ingredients in a bowl', 'a man is mixing ingredients', 'a man is mixing some flour', 'a man is stirring a dough mixture in a bowl', 'a man is stirring dough in a bowl', 'a man mixes flour in a bowl', 'a man stirs a mixture', 'a man stirs flour in a bowl', 'a man stirs flour', 'dough is being mixed', 'the man is mixing flour', 'the man stirred the dry ingredients', 'the man stirred the dry ingredients', 'a man mixes pizza dough in a bowl', 'a man is mixing something in a bowl', 'the man is pizza dough recipes', 'someone is mixing dough', 'a man mixes ingredients in a bowl', 'the man is preparing dough', 'a man is mixing wheat powder', 'a man is cooking somthing', 'a man illustrating how to mix dough', 'an old man is standing in the room', 'a man is preparing dough for making pizza', 'a man is mixing dough in a bowl', 'a man is mixing flour', 'a man is mixing something', 'a man mixes some dough in a bowl', 'a man is preparing pizza using ingredients', 'a man is stirring a batter with a large mixing utensil', 'someone is mixing meal', 'a man is mixing flour', 'a man showing how to make your own home made pizza', 'a man is stirring dough ingredients in a bowl', 'a man showing how to cook pizza', 'a man is making pizza dough recipes', 'someone is stirring dough', 'a man is mixing flour', 'a person is mixing the flour', 'a short clip showing some unique pizaa recipes', 'a person is showing pizza recipe', 'a man is preparing some mixture with hand blender', 'a man show how to make a pizza', 'a man is mixing pizza dough', 'preparing pizza dough recipes', 'a men making pizza dough recipes', 'the man is mixing flour', 'a man is prepairing pizza dough', 'a man is mixing flour in a bowl', 'a man is mixing dough in a bowl', 'someone stirs flour into dough'], 'vid741': ['<BOS> a man is making a call on his mobile <EOS>', '<BOS> a man is making a cell phone call <EOS>', '<BOS> a man is making a clandestine phone call <EOS>', '<BOS> a man is making a phone call <EOS>', '<BOS> a man is talking on cellphone inside a storeroom <EOS>', '<BOS> a man is talking on the phone <EOS>', '<BOS> a man makes a call on a cell phone <EOS>', '<BOS> a man makes a call on a cell phone <EOS>', '<BOS> a man makes a call on his cell phone <EOS>', '<BOS> a man pulls a phone out from his shoe <EOS>', '<BOS> a man pulls out a cell phone from his pants <EOS>', '<BOS> a man secretly makes a phone call from a storage room <EOS>', '<BOS> a man talks on a phone <EOS>', '<BOS> a man who is hiding makes a phone call <EOS>', '<BOS> a person talks on a cell phone in a storage room <EOS>', '<BOS> the man is using a cell phone <EOS>', '<BOS> the man is using a cell phone <EOS>', '<BOS> the man snuck a phonecall in the storage room <EOS>', '<BOS> the man took out his phone and made a call in the warehouse <EOS>', '<BOS> a man is using a phone <EOS>', '<BOS> the person is giving information to somebody <EOS>', '<BOS> a man makes a call with a cell phone <EOS>', '<BOS> calling for hari <EOS>', '<BOS> a man makes a phone call <EOS>', '<BOS> a man is sitting and going to operate his mobile phone <EOS>', '<BOS> a man talking out his phone from his socks and calling <EOS>', '<BOS> a man is making a phone call <EOS>', '<BOS> a man is taking on cellphone <EOS>', '<BOS> a man is hiding <EOS>', '<BOS> a prisoner sneaks into a room to make a phone call <EOS>', '<BOS> a man talking in phone <EOS>', '<BOS> a man operating the cell phone <EOS>', '<BOS> a guy is using a cell phone <EOS>', '<BOS> a man is calling somebody <EOS>', '<BOS> a man talking on a cell phone by hiding behing the tables from someone <EOS>', '<BOS> a man escaping and talking on phon in a movie scene <EOS>', '<BOS> a person call an another person <EOS>', '<BOS> oz stanislofsky owns oreily <EOS>', '<BOS> the man is using a cell phone <EOS>', '<BOS> a man is hiding and making phone call <EOS>', '<BOS> a men is calling <EOS>'], 'vid748': ['<BOS> rubber band trouble <EOS>', '<BOS> a woman puts a rubberband on a stack of files <EOS>', '<BOS> a women package in covers <EOS>', '<BOS> the lady is tying up a bundle of files with a string <EOS>', '<BOS> a woman tying bundle of papers <EOS>', '<BOS> a woman ties together a stack of papers <EOS>', '<BOS> a woman is packing some packets with rubber band <EOS>', '<BOS> a women is trying to put a rubber band around a dozen of big envelopes <EOS>', '<BOS> girl tying bundle of envelopes <EOS>', '<BOS> a woman is tying bunndels of envelops <EOS>', '<BOS> a woman is wrapping a cord around a pack of letters <EOS>', '<BOS> a office assistant trying to bundle up the letters <EOS>', '<BOS> a woman is tying together a bundle of manila envelopes <EOS>', '<BOS> a woman is tying a bundle of envelops with string <EOS>', '<BOS> a lady is binding packets <EOS>', '<BOS> she is trying to tying up the bundles of envelope <EOS>', '<BOS> a woman is putting a rubber band on mail <EOS>', '<BOS> a woman is tying files <EOS>', '<BOS> the woman is tying envelopes together with a rubber band <EOS>', '<BOS> a women ready in package <EOS>', '<BOS> a woman ties a bundle of envelopes together <EOS>', '<BOS> a woman in an office put a rubber band around a stack of items <EOS>', '<BOS> people working in lab <EOS>', '<BOS> a woman is binding a few packetts with a rubber band <EOS>', '<BOS> a woman wraps a stack of envelopes with a rubber band <EOS>', '<BOS> a woman tying a bundle of covers <EOS>', '<BOS> a lady is tying a bundle of parcels <EOS>', '<BOS> a woman is binding some of files <EOS>', '<BOS> the lady is stacking pile of covers <EOS>', '<BOS> a woman struggling to wrap a stack of envelopes at a office <EOS>', '<BOS> a woman is banding documents with rubber <EOS>', '<BOS> a woman is putting an elastic around a bundle of mail <EOS>', '<BOS> a woman is attempting to properly fit a string over a stack of documents <EOS>', '<BOS> a woman binds a stack of papers <EOS>', '<BOS> the woman is tying envelopes together <EOS>', '<BOS> a woman puts a big rubber band around a stack of envelops and files <EOS>', '<BOS> a woman is binding packets <EOS>', '<BOS> a woman is trying to bundle together several pieces of mail <EOS>', '<BOS> a woman is having difficulty bundling some business envelopes <EOS>', '<BOS> a lady is rubber banding a pile of padded envelopes for mailing <EOS>'], 'vid749': ['<BOS> a man is crying while tying a rope into a noose <EOS>', '<BOS> a man ties a noose <EOS>', '<BOS> a man is tying a noose <EOS>', '<BOS> a man is making a hangman s noose out of a rope <EOS>', '<BOS> a man binding a knot <EOS>', '<BOS> a man ties a noose <EOS>', '<BOS> a man is preparing a hanging rope <EOS>', '<BOS> a man makes a noose <EOS>', '<BOS> a man is tying a noose <EOS>', '<BOS> a man is making a noose <EOS>', '<BOS> a man is tying a noose <EOS>', '<BOS> the man made a noose out of the yellow rope <EOS>', '<BOS> the man is making a hangman s noose <EOS>', '<BOS> a man winds up some rope <EOS>', '<BOS> the man made a noose out of a yellow rope <EOS>', '<BOS> a man crying and trying to hang himself through a rope <EOS>', '<BOS> a man is making a noose <EOS>', '<BOS> a man playing with rope <EOS>', '<BOS> a men is eating <EOS>', '<BOS> a man eating food <EOS>', '<BOS> a man eating pizza <EOS>', '<BOS> a man is crying to made an suicide <EOS>', '<BOS> a man is going to die <EOS>', '<BOS> a man is making a hangman s noose <EOS>', '<BOS> a man is tying a rope <EOS>', '<BOS> a man is tying knots with a rope <EOS>', '<BOS> a man ties a noose <EOS>', '<BOS> a man ties a noose <EOS>', '<BOS> rolling rope <EOS>', '<BOS> the man is making a hangman s noose <EOS>', '<BOS> a man is ready a rope <EOS>', '<BOS> the person is eating something <EOS>'], 'vid1163': ['<BOS> someone is stirring something in a saucepan with what appears to be a stick <EOS>', '<BOS> a person is mixing <EOS>', '<BOS> a person mixes a small pan <EOS>', '<BOS> a person is stirring a slurry <EOS>', '<BOS> a person is stirring a small pot on a stove <EOS>', '<BOS> a person is cooking something <EOS>', '<BOS> a person is stirring sodium acetate in a pan <EOS>', '<BOS> a person is stirring a mixture <EOS>', '<BOS> a person stirs a mixture in a pot <EOS>', '<BOS> someone is stirring something <EOS>', '<BOS> someone is stirring a pot <EOS>', '<BOS> a person is stirring water in a pan <EOS>', '<BOS> someone stirred the liguid in the pan <EOS>', '<BOS> the person is stirring a liquid on top of the stove <EOS>', '<BOS> someone is stirring a liquid in a small pot with a wooden stick <EOS>', '<BOS> a cook stirs a mixture <EOS>', '<BOS> the person is cooking <EOS>', '<BOS> a person is stirring <EOS>', '<BOS> a person stirs ingredients in a pot <EOS>', '<BOS> a person is mixing a small pan <EOS>', '<BOS> the person is dissolving the chemical in the water <EOS>', '<BOS> a man is cooking something in a pan <EOS>', '<BOS> a person is mixing gee <EOS>', '<BOS> someone is mixing something in a pan <EOS>', '<BOS> someone is stirring a mixture above a fire <EOS>', '<BOS> video explains about production of instant hot ice <EOS>', '<BOS> a lady is dissolving something in a bowl <EOS>', '<BOS> someone is stirring something in a pot <EOS>', '<BOS> showing how to make hot ice <EOS>', '<BOS> someone is stirring a pot <EOS>', '<BOS> a video on how to make hot ice crazy <EOS>', '<BOS> someone is stiring a sauce in a pan and then placing a jar in the refrigerator <EOS>', '<BOS> a man doing some crazious thing by cooking an ice on a stove <EOS>', '<BOS> a person is making the hot ice <EOS>', '<BOS> a person is stirring a pot over an gas burner <EOS>', '<BOS> the man is stirring liquid <EOS>', '<BOS> a person is stirring a liquid in a pan <EOS>', '<BOS> someone is stirring water <EOS>', '<BOS> someone stirs a cup of liquid <EOS>', '<BOS> a mixture is stirred on a stove <EOS>'], 'vid629': ['<BOS> a woman wraps tofu in a white cloth and turns folded side down in a metal pan <EOS>', '<BOS> a person is wrapping tofu <EOS>', '<BOS> a woman is wrapping tofu <EOS>', '<BOS> a woman is wrapping a block of tofu in paper <EOS>', '<BOS> a person is covering a butter by a paper <EOS>', '<BOS> a woman is wrapping a block of tofu in paper <EOS>', '<BOS> a woman is wrapping some food <EOS>', '<BOS> a woman is wrapping a piece of tofu <EOS>', '<BOS> a woman is wrapping tofu <EOS>', '<BOS> a woman is wrapping tofu in parchment <EOS>', '<BOS> a woman is wrapping tofu in paper <EOS>', '<BOS> the woman wrapped the tofu block <EOS>', '<BOS> a woman is wrapping a block of tofu <EOS>', '<BOS> a person puts tofu into a pan <EOS>', '<BOS> tofu is wrapped in a cloth <EOS>', '<BOS> the lady wrapped up the rest of the cheese block <EOS>', '<BOS> preparing the food <EOS>', '<BOS> a woman is wrapping a hunk of tofu <EOS>', '<BOS> a person wraps a block of tofu <EOS>', '<BOS> a man is covering the butter <EOS>', '<BOS> a person is preparing item <EOS>', '<BOS> someone is wrapping tofu <EOS>', '<BOS> wrapping tofu in wax paper <EOS>', '<BOS> a man paking food <EOS>', '<BOS> a person is wrapping some tofu <EOS>', '<BOS> the lady wrapped the cheese up in paper <EOS>', '<BOS> a man cooking his kichen <EOS>', '<BOS> the woman is wrapping the tofu <EOS>'], 'vid1164': ['<BOS> a sleepy baby is sitting on the floor <EOS>', '<BOS> a baby is sleepy on the floor <EOS>', '<BOS> a baby is sleeping while sitting on a flore <EOS>', '<BOS> a baby is trying to stay awake <EOS>', '<BOS> a baby is sitting up sleeping <EOS>', '<BOS> a baby is sleeping while sitting on floor <EOS>', '<BOS> a sleepy baby is falling over <EOS>', '<BOS> a baby keeps falling asleep while sitting on a rug <EOS>', '<BOS> a baby is falling asleep <EOS>', '<BOS> a baby is sitting and rolling back and forth <EOS>', '<BOS> a very tired baby is weaving back and forth <EOS>', '<BOS> a baby is swaying from side to side as he is sitting with his legs outstretched on a carpet and sleeping <EOS>', '<BOS> the baby was nodding off to sleep while sitting up <EOS>', '<BOS> the baby is sitting down and trying to sleep <EOS>', '<BOS> a sitting baby is falling asleep and struggling to stay awake <EOS>', '<BOS> a baby plays around on the floor <EOS>', '<BOS> the baby swayed back and forth because he was sleepy <EOS>', '<BOS> the baby is playing <EOS>', '<BOS> a baby is falling asleep <EOS>', '<BOS> a baby is falling asleep on the ground <EOS>', '<BOS> a baby is sleeping sitting up <EOS>', '<BOS> featuring a baby <EOS>', '<BOS> baby in funny <EOS>', '<BOS> a boy playing <EOS>', '<BOS> a baby is falling over <EOS>', '<BOS> baby sleeping while sitting on the floor <EOS>', '<BOS> a baby is sleeping <EOS>', '<BOS> a baby is sleeping <EOS>', '<BOS> a baby is playing <EOS>', '<BOS> the baby is sleeping while sitting down <EOS>', '<BOS> snoozing baby <EOS>', '<BOS> a baby is sleeping <EOS>', '<BOS> a baby is sleeping while sitting <EOS>', '<BOS> a baby circles around while sleeping <EOS>'], 'vid198': ['<BOS> a dog running with a ball in his mouth <EOS>', '<BOS> a brown dachshund holding a yellow ball in its mouth comes running into the house and places the ball on a rack <EOS>', '<BOS> a dog chews a tennis ball <EOS>', '<BOS> a dog is playing with a ball <EOS>', '<BOS> a dog is running with a ball in its mouth <EOS>', '<BOS> a dog is running with a ball in its mouth <EOS>', '<BOS> a dog is running with a ball <EOS>', '<BOS> a dog puts a tennis ball into a throwing device <EOS>', '<BOS> a dog returns his ball to a machine <EOS>', '<BOS> a dog runs and places a tennis ball into an apparatus <EOS>', '<BOS> a dog runs down a hallway with a tennis ball in his mouth <EOS>', '<BOS> a dog runs up with a ball and places it down on a machine <EOS>', '<BOS> a small dog is placing a tennis ball in a tennis ball launcher <EOS>', '<BOS> the dog brough the ball into the hall <EOS>', '<BOS> the dog brought the ball to a machine <EOS>', '<BOS> the dog is running down the hall with a ball in it s mouth <EOS>', '<BOS> pet dog fetching a ball <EOS>', '<BOS> the dog is playing with his ball <EOS>', '<BOS> a dog is playing with the ball in the room <EOS>', '<BOS> a dog is carrying a ball <EOS>', '<BOS> a dog is playing with its ball <EOS>', '<BOS> dog holding ball in his mouth <EOS>', '<BOS> one dog playing with a ball <EOS>', '<BOS> a dog get the ball <EOS>', '<BOS> jerry needs no help playing with his ball <EOS>', '<BOS> a puppy is playing with a ball <EOS>', '<BOS> a dash hound playing with a ball <EOS>', '<BOS> a dog is playing catch by himself <EOS>', '<BOS> a dog runs with a ball in his mouth <EOS>', '<BOS> a small dog runs carrying a tennis ball in his mouth and then places it into some kind of launcher <EOS>', '<BOS> a dog puts a tennis ball in a robot <EOS>', '<BOS> a dog playing with a tennis ball <EOS>', '<BOS> a dog brings a ball and puts it in a robot <EOS>', '<BOS> a dog is running and keeping a ball in its mouth <EOS>', '<BOS> a dog is playing with a ball <EOS>', '<BOS> a dog is placing his ball on a automatic machine <EOS>', '<BOS> a dog is running with a ball <EOS>', '<BOS> a dog is playing with ball <EOS>', '<BOS> a dog trots into a room with a tennis ball in his mouth <EOS>', '<BOS> a dog is playing with a ball <EOS>', '<BOS> a dog brings over a tennis ball <EOS>', '<BOS> a dog is running down the hall with a ball in his mouth <EOS>', '<BOS> a dog is running down the hall with a ball in his mouth <EOS>', '<BOS> a man dog is playing with a ball <EOS>', '<BOS> a dog jerry does nt need help while playing with his ball <EOS>', '<BOS> a dog puts a tennis ball into a machine <EOS>', '<BOS> a unique breed of dog holding a ball in his mouth and moving around the corridoor <EOS>', '<BOS> a dog is running with a ball in it s mouth <EOS>', '<BOS> the dog hold the ball in his mouth <EOS>', '<BOS> a dog is playing with a ball <EOS>', '<BOS> a dog is playing <EOS>', '<BOS> a puppy happily brings a tennis ball to a projection machine <EOS>', '<BOS> the dog is running with a ball <EOS>', '<BOS> a dog is bringing a ball to a machine <EOS>', '<BOS> a dog brings a tennis ball to a contraption <EOS>', '<BOS> a dog is playing with ball <EOS>', '<BOS> a dachshund carries a tennis ball to a piece of machinery <EOS>', '<BOS> dog is playing with a ball started something accidentally <EOS>', '<BOS> a dog put the balls in machiene <EOS>'], 'vid969': ['<BOS> someone is cutting a cooked potato into bitesize pieces <EOS>', '<BOS> a person is slicing a potato <EOS>', '<BOS> a person is slicing potatoes <EOS>', '<BOS> a man is cutting a potato into eighths <EOS>', '<BOS> a person is slicing a potato into pieces <EOS>', '<BOS> a person is cutting potatoes into wedges <EOS>', '<BOS> a man is slicing potato <EOS>', '<BOS> a man i chopping up potatoes <EOS>', '<BOS> a person slices a potato into wedges <EOS>', '<BOS> a man is cutting up a potato <EOS>', '<BOS> a man is cutting a potato <EOS>', '<BOS> a person is slicing a potato <EOS>', '<BOS> the man is slicing potatoes <EOS>', '<BOS> a man is cutting a boiled potato into small pieces <EOS>', '<BOS> a man cuts potatos <EOS>', '<BOS> the man cut the potatoe into pieces <EOS>', '<BOS> the person is ready to the potato salad <EOS>', '<BOS> a man is cutting the potatoes <EOS>', '<BOS> a women cutting the potatoes <EOS>', '<BOS> someone is cutting a potatoe <EOS>', '<BOS> slicing a potato into quarters and then fourths <EOS>', '<BOS> a person coking <EOS>', '<BOS> a person is slicing a potato <EOS>', '<BOS> a chinese lady preparing some sort of potato salad <EOS>', '<BOS> the lady cut the potatoe into small pieces <EOS>', '<BOS> a man cooking his kichen <EOS>', '<BOS> a man is cutting a potato into large pieces <EOS>', '<BOS> the cook is cutting potatos <EOS>'], 'vid582': ['<BOS> two guy racing in the pool <EOS>', '<BOS> a man and a woman are competing in a swimming race across the pool <EOS>', '<BOS> a man and a woman are swimming and racing against each other in the pool <EOS>', '<BOS> a man and a woman are swimming in the swimming pool <EOS>', '<BOS> a man and woman are swimming across a pool <EOS>', '<BOS> a woman is racing an old man in a swimming pool and she wins <EOS>', '<BOS> the people are swimming in a pool <EOS>', '<BOS> the two people are racing in a swimming pool <EOS>', '<BOS> two men are swimming in a pool <EOS>', '<BOS> two people are swimming in a pool <EOS>', '<BOS> two people swim in a pool <EOS>', '<BOS> two people swim in a pool <EOS>', '<BOS> two swimmers are racing <EOS>', '<BOS> a girl and man doing swimming race <EOS>', '<BOS> a man and a woman is swimming <EOS>', '<BOS> a man and a woman is swimming in the pool <EOS>', '<BOS> a man ad women are swimming in water and racing with each other <EOS>', '<BOS> a man and a women having a swimming race <EOS>', '<BOS> a man and women are racing in a pool <EOS>', '<BOS> two guys swimming in the pool <EOS>', '<BOS> two people swimming in a pool <EOS>', '<BOS> super swimming <EOS>', '<BOS> a man and a woman performing a swim race and the woman wins atlast <EOS>', '<BOS> swimming contest between male and female in swimming pool <EOS>', '<BOS> a girl is defeating a man in swmming <EOS>', '<BOS> a man and a woman race each other <EOS>', '<BOS> a man and woman are racing in a pool <EOS>', '<BOS> a man and woman are swimming in a pool <EOS>', '<BOS> a man and woman are swimming in the pool while a girl watches <EOS>', '<BOS> a man and woman are swimming in the swimming pool <EOS>', '<BOS> a man and woman are swimming <EOS>', '<BOS> a man and woman are swimming <EOS>', '<BOS> a man in a swimming pool <EOS>', '<BOS> a man is swimming on the pool <EOS>', '<BOS> a man is swimming <EOS>', '<BOS> a man swimming in a pool <EOS>', '<BOS> a woman and a man are swimming in a swimming pool <EOS>', '<BOS> man and women swim across pool <EOS>', '<BOS> men are swimming in the pool <EOS>', '<BOS> the couple are in a swimming race <EOS>', '<BOS> the people are swimming <EOS>', '<BOS> two man is swimming <EOS>', '<BOS> two men are swimming <EOS>', '<BOS> two men are swimming <EOS>', '<BOS> two people are having a swimming race <EOS>', '<BOS> two people are racing in a swimming pool <EOS>', '<BOS> two people are swimming and racing in a pool <EOS>', '<BOS> two people are swimming in a pool <EOS>', '<BOS> two people are swimming in a pool <EOS>', '<BOS> two people are swimming in a pool <EOS>', '<BOS> two people race across a pool <EOS>', '<BOS> two people raced in the pool <EOS>', '<BOS> two people raced in the pool <EOS>', '<BOS> two people racing in a pool <EOS>', '<BOS> two people swim in a pool <EOS>'], 'vid848': ['<BOS> a person preparing broccoli <EOS>', '<BOS> a man is putting broccoli into a bowl of water <EOS>', '<BOS> a man is putting broccoli into water <EOS>', '<BOS> a person is moving broccoli from one pot into another pot <EOS>', '<BOS> a person is placing boiling broccoli in another bowl to cool <EOS>', '<BOS> a person puts hot broccoli into a bowl of cool water <EOS>', '<BOS> a woman is cooking broccoli <EOS>', '<BOS> a woman places broccoli into a pan <EOS>', '<BOS> after the brocolli was boiled <EOS>', '<BOS> boiled broccoli is strained out of the pot <EOS>', '<BOS> broccoli is being cooked <EOS>', '<BOS> broccoli is being cooked <EOS>', '<BOS> broccoli is being cooled in water <EOS>', '<BOS> broccoli is transferred from one pot of water to another <EOS>', '<BOS> someone cooked broccoli in hot water <EOS>', '<BOS> someone cooked broccoli in hot water <EOS>', '<BOS> someone is boiling broccoli florets <EOS>', '<BOS> using a strainer <EOS>', '<BOS> learn to make a great broccoli salad <EOS>', '<BOS> a man is cooking vegetables <EOS>', '<BOS> the person is boiling the vegetables <EOS>', '<BOS> a recipe for a broccoli dish <EOS>', '<BOS> someone is cooking broccoli <EOS>', '<BOS> a person boils broccoli <EOS>', '<BOS> a person cooking the cauliflower <EOS>', '<BOS> the person is putting vegetables in water <EOS>', '<BOS> a broccoli salad is preparing in the hot pan <EOS>', '<BOS> vegetables are boiled <EOS>', '<BOS> broccoli is being cooked in boiling water <EOS>', '<BOS> a vegetable is boiling on the boul <EOS>', '<BOS> someone is using a strainer to remove brocolli from a pot of boiling water to another pot containing non boiling water <EOS>', '<BOS> brocoli is being steamed in a pot <EOS>', '<BOS> the sliced cauliflower was first put into the boiled water and then into the cool water <EOS>', '<BOS> someone is frying cauliflower <EOS>', '<BOS> man stirring broccoli in water <EOS>', '<BOS> broccoli is moved from a pot to a bowl <EOS>', '<BOS> chef john showing how to prepare a broccoli salad <EOS>', '<BOS> broccoli is being boiled in a pan <EOS>', '<BOS> a lady is making best broccoli salad recipe <EOS>', '<BOS> somebody is cooking <EOS>', '<BOS> a person is scooping broccoli out of a pot <EOS>', '<BOS> straining boiling broccoli and cooling it by dropping in cold water <EOS>', '<BOS> a man cooking a unique salad recipe with some sort of vegetables <EOS>', '<BOS> the broccoli boils <EOS>', '<BOS> racipe for make cobboge salad <EOS>', '<BOS> broccoli is being moved from the pot it was cooked in to a bowl of cold water <EOS>', '<BOS> broccoli best soaked in water and washed <EOS>', '<BOS> a person is showing how to make a salad <EOS>', '<BOS> prepering a broccoli salad recipe <EOS>', '<BOS> best broccoli salad recipe <EOS>', '<BOS> broccoli is moved a boiling pot to a pot with cold water <EOS>', '<BOS> man soaks broccoli pieces in water and them drains it <EOS>', '<BOS> broccoli is being blanched <EOS>', '<BOS> broccoli is being placed in a bowl of water <EOS>', '<BOS> a lady is cooking broccoli <EOS>', '<BOS> broccoli is being moved with a strainer from one pan of water to another <EOS>', '<BOS> broccoli is being blanched in water <EOS>'], 'vid964': ['<BOS> a woman is squeezing the liquid out of cucumber slices with her hands over a glass bowl <EOS>', '<BOS> a woman is wringing water out of food <EOS>', '<BOS> a woman is holding a handful of cucumber slices <EOS>', '<BOS> a person is squeezing the juice out of sliced cucumbers <EOS>', '<BOS> a woman is squeezing water from vegetables <EOS>', '<BOS> a woman is squeezing the liquid from cucumber slices <EOS>', '<BOS> a woman squeezes juice out of a handful of pickles <EOS>', '<BOS> a woman squeezes water from some cucumbers <EOS>', '<BOS> a woman is squeezing juice from vegetables <EOS>', '<BOS> a woman is squeezing some cucumber slices <EOS>', '<BOS> the woman is squeezing out the water <EOS>', '<BOS> a woman is squeezing water from cucumber slices with her hands <EOS>', '<BOS> a person drains the water from some vegetables into a bowl <EOS>', '<BOS> the lady squeezed the liquid out of the cucumber slices <EOS>', '<BOS> the women preparing the food <EOS>', '<BOS> a woman is hand squeezing sliced cucumbers <EOS>', '<BOS> a woman is squeezing the juice out of some pickles <EOS>', '<BOS> a lady squeezing some juice out of a cucumber <EOS>', '<BOS> the lady is doing remove the water in the vegetable <EOS>', '<BOS> a woman squeezing out cucumbers <EOS>', '<BOS> a person is cooking <EOS>', '<BOS> a person is squeezing some cucumbers <EOS>', '<BOS> a chef is squeezing juice out of zucchini <EOS>', '<BOS> a woma is cooking the fish <EOS>', '<BOS> the lady squeezed liquid from the sliced cucumbers <EOS>', '<BOS> a man cooking his kichen <EOS>', '<BOS> the woman is squeezing out the water from the cucumber <EOS>'], 'vid997': ['<BOS> a group is playing musical instruments <EOS>', '<BOS> a band is performing out stage <EOS>', '<BOS> a band is playing <EOS>', '<BOS> a group of violinists are playing <EOS>', '<BOS> a orchestra is playing instruments <EOS>', '<BOS> a string orchestra plays <EOS>', '<BOS> an orchestra is performing <EOS>', '<BOS> an orchestra is playing <EOS>', '<BOS> people are playing in an orchestra <EOS>', '<BOS> people are playing instruments <EOS>', '<BOS> the ladies playe their violins with the guitar player <EOS>', '<BOS> the orchestra is performing in front of an audience <EOS>', '<BOS> the orchestra performed <EOS>', '<BOS> there are two women playing violins and at least two men playing guitars in some type of performance <EOS>', '<BOS> two women are playing the violin on stage as part of a band <EOS>', '<BOS> two women are playing violins <EOS>', '<BOS> two women play violins <EOS>', '<BOS> a nice musical concert <EOS>', '<BOS> a musicians play a violin <EOS>', '<BOS> several musicians are playing some music <EOS>', '<BOS> the people s are singing the guitar <EOS>', '<BOS> the boys and girls playing the nusic <EOS>', '<BOS> the group is playing music <EOS>', '<BOS> a band plays on a stage <EOS>', '<BOS> tamil <EOS>', '<BOS> the band performing on a stage <EOS>', '<BOS> people were playing violin <EOS>', '<BOS> an orchestra is playing music <EOS>', '<BOS> two women are playing violin <EOS>', '<BOS> people are playing violins and guitars <EOS>', '<BOS> all people are playing musical instruments <EOS>', '<BOS> few peoples are playing music instrument <EOS>', '<BOS> people playing musical instruments <EOS>', '<BOS> 2 violin players play in an orchestra or band <EOS>', '<BOS> all people are playing with music instruments <EOS>', '<BOS> a group of people playing instruments <EOS>', '<BOS> people are playing instruments <EOS>', '<BOS> people are performing music show <EOS>', '<BOS> some sort of people playing violin and other instruments in a concert <EOS>', '<BOS> a musical group playing music on piano <EOS>', '<BOS> people are playing the violin <EOS>', '<BOS> violin on fire with a music <EOS>', '<BOS> some people playing gitter <EOS>', '<BOS> a chorus of violinists give a performance <EOS>', '<BOS> the orchestra is playing <EOS>', '<BOS> a lady is weaping <EOS>', '<BOS> a band is playing with some violinists onstage <EOS>'], 'vid994': ['<BOS> someone is cutting an onion with a large knife <EOS>', '<BOS> a person slices an onion <EOS>', '<BOS> a person is slicing an onion <EOS>', '<BOS> a chef is slicing into an onion <EOS>', '<BOS> a man is slicing an onion <EOS>', '<BOS> a man is slicing an onion <EOS>', '<BOS> a person is cutting an onion <EOS>', '<BOS> a person with a knife is slicing an onion <EOS>', '<BOS> a woman is cutting an onion <EOS>', '<BOS> someone dicing an onion <EOS>', '<BOS> someone is slicing something <EOS>', '<BOS> a person is slicing an onion <EOS>', '<BOS> the lady sliced the onion <EOS>', '<BOS> the person is slicing onions <EOS>', '<BOS> food is sliced <EOS>', '<BOS> a man is preparing to dice an onion <EOS>', '<BOS> half an onion is sliced horizontally and then vertically <EOS>', '<BOS> a person cuts an onion <EOS>', '<BOS> the lady sliced the onion <EOS>', '<BOS> cutting the food <EOS>', '<BOS> a person is cutting some items <EOS>', '<BOS> a man is slicing an onion <EOS>', '<BOS> in the demo how use the knife and cut the vegetables <EOS>', '<BOS> a person is slicing an onion <EOS>', '<BOS> a chef is cutting onion <EOS>', '<BOS> someone is cutting an onion <EOS>', '<BOS> he is cutting on the onion <EOS>', '<BOS> a person is cutting the vegetables <EOS>', '<BOS> there a man telling about the techniques to a knife <EOS>', '<BOS> a man cooking his kichen <EOS>', '<BOS> the woman is dicing onions <EOS>', '<BOS> anyone is slicing vegetable <EOS>', '<BOS> a man is slicing an onion <EOS>', '<BOS> a man is slicing an onion <EOS>'], 'vid993': ['<BOS> someone is cutting red bell peppers into thin slices <EOS>', '<BOS> a man chops a pepper <EOS>', '<BOS> a person is slicing a capsicum <EOS>', '<BOS> a chef slices a pepper <EOS>', '<BOS> a man is cutting tomatoes <EOS>', '<BOS> a person with a knife is slicing a pepper <EOS>', '<BOS> a person dices up an orange pepper <EOS>', '<BOS> a woman is cutting a pepper <EOS>', '<BOS> a man slicing orange bell peppers <EOS>', '<BOS> someone is slicing vegetables <EOS>', '<BOS> a chef is slicing some peppers <EOS>', '<BOS> a man stacks a couple of cut pieces of red bell pepper and slices them into thin strips using a knife <EOS>', '<BOS> the lady sliced a bell pepper <EOS>', '<BOS> the cook is slicing bell peppers <EOS>', '<BOS> a man is slicing a sweet pepper <EOS>', '<BOS> a person cuts up some oranges <EOS>', '<BOS> someone cut up a red bell pepper <EOS>', '<BOS> a man is cutting orange skins <EOS>', '<BOS> a person is cooking <EOS>', '<BOS> some one is slicis the tomato <EOS>', '<BOS> a man is cutting peppers <EOS>', '<BOS> a man is slicing peppers <EOS>', '<BOS> someone show how to cut the vegetables <EOS>', '<BOS> the person is cutting the pepper <EOS>', '<BOS> a woman is slicing a pepper <EOS>', '<BOS> someone is slicing some bell peppers <EOS>', '<BOS> a women slicing some tomatoes <EOS>', '<BOS> someone is slicing a pepper <EOS>', '<BOS> one lady is slicing tomato <EOS>', '<BOS> the lady sliced the orange bell pepper <EOS>', '<BOS> someone is slicing something with a knife <EOS>', '<BOS> awoman slicing vegitable <EOS>', '<BOS> a man cuts a tomato <EOS>', '<BOS> the person is slicing bell peppers <EOS>', '<BOS> anyone is slicing vegetable <EOS>', '<BOS> a man is slicing up peppers <EOS>', '<BOS> clear detail for knife techniques <EOS>'], 'vid991': ['<BOS> a person slices a bread <EOS>', '<BOS> someone is slicing pieces of bread from a loaf of french bread <EOS>', '<BOS> a person is slicing a bread <EOS>', '<BOS> a chef is slicing a loaf of bread <EOS>', '<BOS> a man is slicing a baguette <EOS>', '<BOS> a man is slicing bread <EOS>', '<BOS> a person is slicing bread <EOS>', '<BOS> a person with a knife is slicing bread <EOS>', '<BOS> a man cuts up a loaf of bread <EOS>', '<BOS> a man is slicing some bread <EOS>', '<BOS> a man is cutting bread <EOS>', '<BOS> someone is slicing bread <EOS>', '<BOS> a man is slicing bread <EOS>', '<BOS> the man sliced the loaf of bread <EOS>', '<BOS> the man is slicing a loaf of bread <EOS>', '<BOS> a person cuts up bread <EOS>', '<BOS> the man sliced the loaf of bread <EOS>', '<BOS> man cutting a piece of bread with knife <EOS>', '<BOS> a person is cooking <EOS>', '<BOS> the person is cutting the bread <EOS>', '<BOS> a man is slicing bread <EOS>', '<BOS> chopping potatoes with a sharp knife <EOS>', '<BOS> a man is slicing bread <EOS>', '<BOS> a man is demonstrating how to cut a baguette <EOS>', '<BOS> a man is slicing a loaf of bread <EOS>', '<BOS> a man is slicing up a loaf of bread <EOS>', '<BOS> cutting pieces of bread <EOS>', '<BOS> a man is slicing some bread <EOS>', '<BOS> dude showing <EOS>', '<BOS> a man cutting vegetables <EOS>', '<BOS> someone is slicing bread <EOS>', '<BOS> a man showing his knife techniques <EOS>', '<BOS> kneife techniques the steel is not for sharpening <EOS>', '<BOS> a person cutting with knife <EOS>', '<BOS> a person is slicing bread <EOS>', '<BOS> the man is slicing bread <EOS>', '<BOS> a man is slicing a loaf of bread <EOS>', '<BOS> clear defination for knife techniques <EOS>', '<BOS> someone slices bread <EOS>'], 'vid1848': ['the plane landed at the airport', 'an airplane is landing', 'an airplane is lifting off', 'a passenger jet is landing on the runway', 'a plane is running on a runway', 'an airplane is landing on a runway', 'a airplane is landing', 'a plane is landing on runway', 'a passenger plane is landing on a runway', 'a plane is landing on a runway', 'a plane lands on a runway', 'a plane is landing', 'a plane is landing on the runway', 'the jet taxied down the runway', 'the plane landed on the runway', 'a plane rides on a road', 'an airplane moves along a runway', 'the jet taxied on the runway', 'aeroplane wheel sideway during landing', 'a plane is taking off from the ground', 'a plane landing on the track', 'an airoplane is landing', 'landing a air plane', 'the aeroplane is landing', 'a plane is landing on a runway', 'a plane is landing', 'a plane is landing', 'an aeroplane is landing', 'a commercial airliner is landing', 'an aeroplane reducing its speed and coming down for landing', 'an aeroplane is taking off', 'a plane has landed on the ground', 'a aeroplane wheel sideway during landing', 'the plane landed on the runway', 'an aeroplane is flying', 'the aeroplane is landing on the ground', 'the flight is takeof end again lending', 'a aeroplane is landing shortly'], 'vid360': ['<BOS> a young man is showing and talking about a christmas card that has a moving ornament on a tree when the man manipulates the card <EOS>', '<BOS> a person is rocking a christmas card back and forth <EOS>', '<BOS> a man is displaying an iphone in a christmas card <EOS>', '<BOS> a man is holding a christmas card <EOS>', '<BOS> someone attaches an ipod to a christmas card <EOS>', '<BOS> a person is holding a greeting card that has a smartphone attached to the front <EOS>', '<BOS> a man is showing a christmas card <EOS>', '<BOS> a person is displaying a card <EOS>', '<BOS> a man is showing a christmas card <EOS>', '<BOS> a man is displaying a christmas card <EOS>', '<BOS> a man is showing off a christmas card with iphone <EOS>', '<BOS> the man looked at the christmas card with the moving picture <EOS>', '<BOS> the person put an iphone as a christmas card <EOS>', '<BOS> a man is rocking an animated christmas card <EOS>', '<BOS> a man uses an iphone as a digital gretting card cover <EOS>', '<BOS> a man is demonstrating a greeting card <EOS>', '<BOS> the man opened the christmas card with the moving picture <EOS>', '<BOS> she is doing the something <EOS>', '<BOS> a man is seeing the greeting card <EOS>', '<BOS> someone makes an iphone christmas card <EOS>', '<BOS> a man is open a card <EOS>', '<BOS> a man is holding a christmas card <EOS>', '<BOS> the boy show the worlds most expensive christmas card and it is very beautifull <EOS>', '<BOS> a man is showing a christmas card with an iphone <EOS>', '<BOS> a man showing very expensive christmas card <EOS>', '<BOS> the boy made the picture in the christmas card move <EOS>', '<BOS> a person prepared the most expensive christmas cards <EOS>', '<BOS> the man put an iphone in the christmas card <EOS>'], 'vid367': ['<BOS> a man swings a weapon at a snake <EOS>', '<BOS> a kid is playing with nunchucks <EOS>', '<BOS> a man hits a green snake on grass with a nanchaku and flees away <EOS>', '<BOS> a man is doing some fights <EOS>', '<BOS> a man is flailing nunchucks <EOS>', '<BOS> a man is running <EOS>', '<BOS> a man is swinging nunchucks <EOS>', '<BOS> a man is using nun chucks around a snake <EOS>', '<BOS> a man plays with nunchucks <EOS>', '<BOS> a man spins nunchucks around <EOS>', '<BOS> a man uses a nunchuck <EOS>', '<BOS> a man whacks the ground with some nunchucks <EOS>', '<BOS> a person slings numbchuks in the air <EOS>', '<BOS> a snake is in the grass <EOS>', '<BOS> a young asian man is spinning a nunchuck <EOS>', '<BOS> a young man is swinging a nunchuk <EOS>', '<BOS> the boy swung weapon sticks <EOS>', '<BOS> the man is playing with nanchucks <EOS>', '<BOS> the man swung his numchuks down a path <EOS>', '<BOS> a boy is sitting in the forest <EOS>', '<BOS> a boy is sitting in the forest <EOS>', '<BOS> a boy throwing someone <EOS>', '<BOS> a kid is playing with some nun chucks <EOS>', '<BOS> a man fighting with snake <EOS>', '<BOS> a man is killing a snake <EOS>', '<BOS> a man is like a wild animal <EOS>', '<BOS> a person killing the snake <EOS>', '<BOS> asian man vs wild australian outback <EOS>', '<BOS> he is carateman <EOS>', '<BOS> one asian man vswild with mychoony <EOS>', '<BOS> a guy is playing with nun chucks <EOS>', '<BOS> a man beating earth with sticks <EOS>', '<BOS> a man doing some sort of martial art tricks through a nonchuk <EOS>', '<BOS> a man is attacking a snake with nunchucks <EOS>', '<BOS> a man is beating a snake which is in grass <EOS>', '<BOS> a man is beating asnake <EOS>', '<BOS> a man is biting animal <EOS>', '<BOS> a man is running <EOS>', '<BOS> a man is using some nunchucks <EOS>', '<BOS> a man uses nunchucks to attack a snake <EOS>', '<BOS> a young man is using nunchucks outdoors <EOS>', '<BOS> the person is playing in the forest <EOS>', '<BOS> a young man sitting near a fallen tree <EOS>', '<BOS> man hitting to the snake <EOS>'], 'vid446': ['<BOS> a large cat is watching and sniffing a spider <EOS>', '<BOS> a cat sniffs a bug <EOS>', '<BOS> a cat is sniffing a bug <EOS>', '<BOS> a cat is intently watching an insect crawl across the floor <EOS>', '<BOS> a cat is playing with a large white bug <EOS>', '<BOS> a cat is smelling something <EOS>', '<BOS> a cat is looking at a bug <EOS>', '<BOS> a cat is hissing at a bug <EOS>', '<BOS> a cat is looking at a bug <EOS>', '<BOS> a cat is watching a bug on the floor <EOS>', '<BOS> a large grey furry cat is closely examining a small cream colored beetle walking near it <EOS>', '<BOS> the cat was intrigued by the bug on the ground <EOS>', '<BOS> the cat is watching a bug crawl <EOS>', '<BOS> a cat checks out something crawling on the ground <EOS>', '<BOS> the cat checked out the bug on the ground <EOS>', '<BOS> a cat is investigating a bug <EOS>', '<BOS> a cat is watching a bug <EOS>', '<BOS> the animal is eating the something <EOS>', '<BOS> a dog is doing something <EOS>', '<BOS> a cat is watching a bug <EOS>', '<BOS> a cute fight between cat and birds <EOS>', '<BOS> an animal like cat trying to catch a little creature <EOS>', '<BOS> the cat was afraid of the bug on the floor <EOS>', '<BOS> a cat is playing <EOS>', '<BOS> the cat is watching a bug <EOS>', '<BOS> a cat is looking at an insect <EOS>'], 'vid1532': ['a boy does a back flip into the pool', 'a boy does a flip into a pool', 'a guy is doing a double back flip off the diving board into the pool', 'a man does a back flip from a diving board', 'a man does a backflip off a diving board', 'a man is diving in the swimming pool', 'a man is diving into a swimming pool', 'a man is diving off a diving board', 'a man is doing a back flip into a pool', 'a man is doing a backwards doubleflip off a diving board and into a pool', 'a man is jumping off a low diving board and doing a back flip dive', 'a man jumps off a diving board', 'a man jumps off a diving board', 'men do flips from diving boards into a pool', 'the boy did backward sommersaults from the diving board into the pool', 'the man dove off the board into the pool', 'swimming in the liver pool', 'one person jumping into swimming pool', 'a boy is diving backwards from a diving board', 'a guy is jumping into the swimming pool', 'a man does a back flip off a diving board', 'a man is jumping in swimingpool', 'good jump diving', 'a man is jump diving in the pool', 'a boy does a back flip off a diving board', 'a boy does a backflip into the pool', 'a kid diving backwards off a diving board', 'a man dives into a pool', 'a man dives into a pool', 'a man does a triple backwards somersault off of a diving board', 'a man is diving backwards from a diving board', 'a man is diving free style', 'a man is diving inside the swimming pool', 'a man is diving off a swimming board', 'a man is diving', 'a man is doing a back flip off of a diving board', 'a man is doing free style jump', 'a man is jumping in the water', 'a man is making an elaborate backward dive into a small pool', 'a man jumps off a diving board into a pool', 'a man made a splash in the pool', 'a man somersaults off a diving board into a pool', 'a person dives from a diving board into a pool', 'a swimmer preparing to dive in a pool', 'a young man does a double back flip into a pool', 'mens are swimming in the pool', 'the boy did backwards somersaults off the diving board', 'the boy is jumping off the diving board', 'the man did a backwards somersault into the pool from the diving board', 'the man dove into the pool', 'the man jumped into the pool'], 'vid62': ['<BOS> a woman <EOS>', '<BOS> a woman is wake boarding <EOS>', '<BOS> a woman is wake boarding <EOS>', '<BOS> a woman is water skiing <EOS>', '<BOS> a woman is water skiing <EOS>', '<BOS> a woman is water skiing on a lake <EOS>', '<BOS> a woman is water boarding <EOS>', '<BOS> a woman is doing water skating <EOS>', '<BOS> a woman is wake boarding on a lake <EOS>', '<BOS> someone is wakeboarding <EOS>', '<BOS> a girl is skiing <EOS>', '<BOS> a girl is water skiing <EOS>', '<BOS> a woman is water skiing <EOS>', '<BOS> the lady got up on one water ski <EOS>', '<BOS> the woman is waterskiing <EOS>', '<BOS> a woman water skis <EOS>', '<BOS> the girl got up on a water ski <EOS>', '<BOS> a girl is playing in water <EOS>', '<BOS> a girl scating in the sea <EOS>', '<BOS> a woman is skiing behind a boat <EOS>', '<BOS> a girl is water skiing <EOS>', '<BOS> a man in beach <EOS>', '<BOS> a woman is skiing <EOS>', '<BOS> a woman is wake boarding <EOS>', '<BOS> a woman is wakeboarding behind a boat <EOS>', '<BOS> a woman is wakeboarding in a lake havasu <EOS>', '<BOS> a woman is wakeboarding <EOS>', '<BOS> a woman waterskies <EOS>', '<BOS> a women is surfing on the water <EOS>', '<BOS> she is in lake havasu <EOS>', '<BOS> the woman is waterskiing <EOS>', '<BOS> very super natural scence video <EOS>'], 'vid63': ['<BOS> a cat is standing on it s back paws and appears to be boxing with it s front paws <EOS>', '<BOS> a cat is playing with an antenna <EOS>', '<BOS> a cat plays with an antenna <EOS>', '<BOS> a cat is playing with the antenna of a radio control device <EOS>', '<BOS> a cat is playing with an antenna <EOS>', '<BOS> a cat is playing <EOS>', '<BOS> a cat is amusing himself with an antenna <EOS>', '<BOS> a cat is playing with an antenna <EOS>', '<BOS> a cat plays with a small antenna <EOS>', '<BOS> a cat is playing with a toy <EOS>', '<BOS> a cat is batting an antenna <EOS>', '<BOS> a cat is playing with an antenna <EOS>', '<BOS> the cat is playing with a wire <EOS>', '<BOS> a cat is playing with an antenna <EOS>', '<BOS> a cat is interested in the reflected light <EOS>', '<BOS> the cat tried to get the hanging string <EOS>', '<BOS> the dog is playing the box <EOS>', '<BOS> a cat is playing with an antennae <EOS>', '<BOS> a cat is playing with an electronic device antenna <EOS>', '<BOS> a cat is playing with an antenna <EOS>', '<BOS> a cat is playing with an antenna <EOS>', '<BOS> a cat is playing with an antenna <EOS>', '<BOS> a cat is playing with the toy <EOS>', '<BOS> the cat played the the antenna <EOS>', '<BOS> a cat is playing <EOS>', '<BOS> the cat is playing with the wire <EOS>', '<BOS> a cat is playing <EOS>'], 'vid61': ['<BOS> a man in a construction hat is dancing while two other seated men watch <EOS>', '<BOS> a man with a hard hat is dancing <EOS>', '<BOS> a man in a hard hat is dancing in front of several other men <EOS>', '<BOS> a boy is dancing between the people <EOS>', '<BOS> a man wearing a firehat is dancing <EOS>', '<BOS> a man is dancing <EOS>', '<BOS> a man with a construction hat on is dancing <EOS>', '<BOS> a man wearing a hard hat dances and others cheer him on <EOS>', '<BOS> a man wearing a hard hat is dancing <EOS>', '<BOS> a man dances for his friends <EOS>', '<BOS> a man is dancing <EOS>', '<BOS> a man in a hard hat is dancing <EOS>', '<BOS> people are dancing <EOS>', '<BOS> a man is dancing in front of other people <EOS>', '<BOS> a man wearing a safety hat is dancing to music as other men seated around watch him <EOS>', '<BOS> the man danced in the diner <EOS>', '<BOS> the man is dancing <EOS>', '<BOS> a man in a hard hat dances <EOS>', '<BOS> the man danced in the restaurant <EOS>', '<BOS> the boys are dancing <EOS>', '<BOS> the group of men s are enjoy sing and dance <EOS>', '<BOS> men are dancing <EOS>', '<BOS> a man is dancing <EOS>', '<BOS> black guys are dancing <EOS>', '<BOS> a boy is dancing <EOS>', '<BOS> a man is dancing <EOS>', '<BOS> someone dancing <EOS>', '<BOS> a man is dancing <EOS>', '<BOS> safe side <EOS>', '<BOS> a man dancing <EOS>', '<BOS> three girls are dancing <EOS>', '<BOS> a group of boys enjoying the dance of one boy <EOS>', '<BOS> the man danced in the diner <EOS>', '<BOS> many person is singing and one person is dancing <EOS>', '<BOS> a man is dancing in a construction uniform <EOS>', '<BOS> the man is dancing <EOS>', '<BOS> a young boy is happily dancing <EOS>', '<BOS> a man dances <EOS>'], 'vid1504': ['a woman is making cuts into the fatty areas of a pork chop', 'a woman is cutting a pork chop', 'a woman is making a number of small incisions in an uncooked pork chop', 'a woman is slicing into a steak', 'a woman is putting small cuts in meat', 'a woman is cutting some meat', 'a woman is poking meat with a knife', 'a woman carefully slices a piece of meat', 'a woman is piercing a pork chop', 'a woman is cutting beef', 'a woman is slicing up some pork', 'the lady sliced cuts in the meat', 'the woman is poking the pork chop', 'a woman cuts some meat', 'the lady sliced notches into the meat', 'a women is doing some cuts on the meat', 'the woman is show how to prepare the food with her pet dog', 'a woman is cutting a piece of meat', 'chinese lady cooking some sort of pork dish names as katsudon', 'the women is cutting flesh', 'make holes in pork', 'a yummy pork dish in the process of being prepared', 'a woman is cutting meat', 'a woman is cutting a pork chop', 'a lady is cutting the meat', 'a woman is making cuts on a piece of meat with a knife', 'a lady is cutting meat', 'a woman is cutting some meat', 'a man coking', 'a women preparing katsudon', 'a woman is slicing meat', 'the girl is slicing a piece of meat', 'a woman is scoring a steak', 'a man cooking his kichen', 'the woman is making little slits in the pork chop', 'a woman is cutting a piece of pork', 'making dough', 'very clear detail video for katsudun', 'a woman is poking a meat', 'a woman is making cuts in a piece of pork', 'a man is cutting some meals'], 'vid1744': ['a keyboard is being played', 'a man is playing a keyboard', 'a man is playing keyboard', 'a man is playing piano', 'a man is playing the piano', 'a man plays a keyboard', 'a man plays the piano', 'a person is playing a keyboard', 'a person is playing a keyboard', 'a person is playing the keyboard', 'fingers play a piano', 'someone is playing a keyboard', 'someone is playing the piano', 'someone is playing the piano', 'the man is playing the piano', 'the man played the keyboard', 'man playing piano', 'the man is playing music', 'a guy is playing musical keyboard', 'a man plays the keyboard', 'he is a starting on the music', 'a man is playing piano', 'a good piano composition named migration', 'a man is playing the piano', 'a man is playing the piano', 'one guy is composing music', 'someone is playing a piano', 'a person is playing a piano', 'a man playing the piano', 'a man is playing a keyboard', 'a person is playing a piano', 'a man is playing keyboard', 'a man is playing a song on a keyboard', 'a man is playing a piano', 'a man is playing piano', 'a man is playing a keyboard', 'a person is playing a piano', 'someone playing a keyboard', 'someone is playing the keyboard', 'the man playing piano', 'a man playing gitar', 'someone is playing on the keyboard', 'someone is playing the piano', 'a man composing some kind of unique tune on a piano', 'this person is playing the electronic keyboard', 'a man playing the piano', 'the man is playing the keyboard', 'a man is playing the piano', 'someone is playing the piano', 'a man is playing the piano', 'a man playing piano', 'a men playing a peyano', 'someone playing an electric piano', 'a boy is playing the piano', 'a person plays the piano', 'a person is playing piano', 'a man is playing an electric keyboard', 'someone plays a keyboard', 'a man is playing some instrument', 'a musician is performing with piano'], 'vid1480': ['a woman is cutting shrimp', 'a person slices a shrimp', 'a woman is peeling a shrimp', 'a woman butterflies a shrimp', 'a woman is cutting a shrimp', 'a woman is cleaning shrimp', 'a woman is preparing some fish', 'a person is slicing shrimp with a knife', 'a woman cuts a piece of seafood', 'a woman is cleaning a shrimp', 'a woman is preparing shrimp for cooking', 'a woman is slicing shrimp', 'a woman is preparing shrimp', 'a woman places a shrimp on a paper towel', 'the lady cut the tail and body of a shrimp', 'the woman is removing the shrimp s tail and started to butterfly it', 'a woman cuts up a worm', 'the lady detailed and peeled the shrimp', 'a woman is cutting a shrimp', 'she showing how to make noodels', 'a delicious dish attractively served', 'a woman is preparing shrimp', 'a woman is cutting shrimp', 'a man is cutting the pranws tail', 'the person is cutting the shrimp', 'a lady cutting something', 'a woman is cutting a shrimp', 'a woman showing how yo make nabeyaki noodles', 'someone is cutting shrimp', 'the female is cutting tiger prawns', 'a woman is cutting some sea fish', 'a man making nabeyaki udon noodles', 'a person is making nabeyaki udon noodle', 'a woman cleans a large', 'the man cuts off the tips of shrimp tails diagonally and makes a incision along the back of the shrimp', 'the woman is taking the tail off the shrimp', 'boiling vegetables', 'nabeyaki udon noodle making clear detail video', 'a woman is cutting a shrimp', 'a woman is cutting shrimp', 'the person is cooking', 'the women is cooking', 'a woman is cutting up a shrimp', 'a woman is slicing the prawns'], 'vid1485': ['a woman pours a powdery substance into a bowl of clear liquid and stirs the mixture with chopsticks', 'a person is mixing water and flour', 'a person is pouring a flour into water', 'a chef stirs flower with water', 'a person is mixing powdered ingredients with water', 'a woman is mixing flour and water in a bowl', 'a woman is adding flour to water', 'a woman is making a flour batter', 'a person is mixing water and a powder in a bowl', 'a person mixes flour and water in a bowl', 'a woman is mixing flour in a bowl', 'someone is mixing ingrediants', 'a woman is adding flour to water', 'somoene stired in the dry ingredients in the water to make a batter', 'the woman is mixing flour and water', 'a cook mixes up some ingredients', 'the lady added the dry ingredients to the water for the batter', 'a woman is making batter in a bowl', 'the person is cooking', 'a person is making some food', 'a woman is mixing ingredients', 'preparing the item', 'flour is poured into the water', 'a man is mixing an aatta', 'a woman mixes flour and water in a bowl', 'a woman is mixing some ingredients', 'the person is powder is water mixing', 'a woman is saying how to make nabeyaki udon noodle', 'a person making nabeyaki udon noodle', 'the lady added corn meal to the water for a batter', 'a man cooking his kichen', 'the woman is mixing flour and water', 'anyone is mixing anythings in water', 'very clear detail for nabeyaki udon noodle video', 'a woman mixes flour into a bowl of water', 'a woman makes batter', 'a woman mixes batter in a bowl'], 'vid1339': ['a bunch of ants are gathering bits of food', 'a colony of ants are gathering food', 'a group of red fire ants are busy accumulating some material', 'a large group of insects congregate', 'a swarm of ants eat a chunk of food', 'ants are carrying food', 'ants are crawling around', 'ants are eating something difficult to identify', 'ants are eating something', 'ants are eating their food', 'ants are eating', 'ants are gathering food', 'ants are gathering food', 'fire ants are eating flesh', 'several ants are eating a piece of fruit', 'some fire ants are attending to eggs', 'the ants swarmed for food', 'the ants were busy gathering food', 'the ants were scavenging', 'the antes eating something', 'a view of flesh eating ants', 'ants are gathering food', 'ants are eating', 'ants eating flesh', 'ants are eating something', 'some ants are crawling', 'eating ants', 'ants are eating', 'a short clip showing some extremely dangerous flesh eating ants', 'ants are eating flesh', 'a short clip showing some dangerous flesh eating ants', 'two is fighting to each other', 'some ants are eating each other', 'fire ants are gathering food', 'group of ants eating piece of flesh', 'the ant putting his egg', 'brilliant ants save for his food'], 'vid1337': ['a polar bear is running on a strip of land in the ocean and appears to be chasing off many walruses', 'a polar bear is running toward walruses', 'a bear is running', 'a polar bear is running towards a group of walruses', 'a polar bear is chasing a group of walrus', 'a polar bear is walking', 'a polar bear is charging a group of walruses', 'a polar bear runs across a shoreline', 'a polar bear is running with others', 'a polar bear is running', 'a polar bear is chasing a group of walruses', 'a polar bear is running on a strip of land engulfed by the sea towards a herd of walruses', 'the polar bear ran toward a herd of walrus', 'the polar bear is running toward the seals', 'a polar bear walks toward a crowd of walruses', 'the polar bear ambled toward the walruses', 'a animal is walking', 'deer was hunting animals near sea shore', 'a polar bear is running toward seals', 'a polar bear runs towards a group of walruses', 'walruses jumping into the sea as the polar bear approaches', 'a polar bear is walking over walrus', 'a wild animal is searching something', 'a polar bear is running after some seals', 'a polar bear is running at the back of the walrus', 'a polar bear is chasing some walruses', 'polar bear is running toword the another bear', 'bears are running', 'a polor bear runing', 'the polar bear scares the walrus', 'a polar bear is running towards the seas', 'the polar bear is chasing the seals', 'a bear is running', 'a polar bear is running at a pack of walruses', 'very cute animals video', 'a polar bear runs across a length of land towards a group of walruses'], 'vid1742': ['a chef lays bacon on a baking tray', 'a lady laid bacon strips on aluminum foil', 'a man is placing bacon strips on a cookie sheet', 'a man is putting meat loafs on a wrapper', 'a man lays out meat on some tin foil', 'a person is laying bacon on some tin foil', 'a person is laying out bacon on a pan', 'a person is placing strips of meat on a tray', 'a person puts slices of bacon on a tray', 'a person puts strips of bacon on aluminum foil', 'a woman is laying bacon on some aluminum foil', 'a woman is placing bacon onto a pan', 'someone is laying bacon on aluminum foil', 'someone is laying bacon on tinfoil', 'someone is putting uncooked strips of bacon on a foillined pan', 'strips of bacon are laid out on a sheet of aluminium foil', 'the cook is laying bacon strips down', 'the lady laid the bacon on the foil', 'how to marinate a bacon', 'the person is doing the something', 'a man is putting bacon on a pan', 'some one show how to prepare the food', 'a man places bacon strips on foil', 'a lady is placing the meat on the paper', 'a person is putting five strips of meat', 'a women preparing food', 'a man is arranging meat slice on a tray', 'someone is putting strips of bacon on a pan', 'a man is laying bacon strips onto aluminum foil', 'a woman cocking', 'a man making some sort of recipe through bacon', 'a man placing slices of meat on the silver foil to make somekind of receipe bacon', 'a man slicing bacon', 'a man places strips of meat on a pan covered in foil', 'the man is laying the bacon strips on the pan', 'any one is presenting the slice of chicken', 'a man is putting bacon on a tinfoil covered baking sheet', 'super dish making for bacon video', 'a man is laying pieces of bacon on a foilcovered pan', 'a woman lays strips of bacon on a baking sheet', 'a chef lays bacon on aluminum foil'], 'vid1333': ['a man is in an office and juggling a small ball off his feet and head', 'a man is playing is kicking a piece of paper', 'a man is playing with a ball in a office', 'a man is playing with a hackey sack in a work office', 'a man is tossing a ball with his feet', 'a man is playing with ball in office', 'in man is doing tricks with a hacky sack in his office', 'a man is playing with a hackey sack in an office', 'a man plays hackysack in an office', 'a man is kicking around a foot bag', 'a man passing a ball back forth with his feet', 'a guy is playing hackysack', 'a man is playing hacky sack in the office', 'a man is tossing a ball with his legs and head while in office', 'the man played haki sak in the office', 'the man is playing with a ball', 'a man is playing hacky sack in an office', 'a man does balancing tricks with a ball', 'the man played haki sak in the office', 'a man playing with a ball inside his office', 'a man is kicking a paper ball', 'the person is playing with the egg', 'a man plays with a hacky sack inside an office', 'a person is playing with the ball', 'in the office the man wants to relax him with the small ball', 'a man is playing a ball in the office', 'a man is doing fnny things', 'a man is playing hacky sac in an office', 'a man is playing with a hacki sack', 'a guy is playing hackysack', 'a man is doing hacky sack tricks', 'in an office a worker plays soccer with a piece of paper and his pants almost fall off', 'a man dancing', 'a man is playing with a ball', 'a man is playing with ball', 'a man showing his football tricks with a small ball', 'a person is playing with the ball', 'the man is playing with a ball in the office', 'funny catch', 'a man is playing hackysack in his office', 'a man is playing with ball', 'a man is playing with a hacky sack in the office', 'a man plays with a hackysack in an office', 'why do nt they select me to national soccer team'], 'vid1028': ['<BOS> a woman cuts a slice of meat into smaller pieces <EOS>', '<BOS> a woman cuts up meat <EOS>', '<BOS> a woman cuts up raw meat <EOS>', '<BOS> a woman is chopping meat <EOS>', '<BOS> a woman is cutting chicken into cubes <EOS>', '<BOS> a woman is cutting chicken <EOS>', '<BOS> a woman is cutting chicken <EOS>', '<BOS> a woman is cutting meat into stewsized pieces <EOS>', '<BOS> a woman is cutting raw chicken into small pieces <EOS>', '<BOS> a woman is cutting up a chicken <EOS>', '<BOS> a woman is slicing a meat <EOS>', '<BOS> a woman is slicing meat <EOS>', '<BOS> a woman is slicing raw meat with a knife <EOS>', '<BOS> a woman is slicing up some meat <EOS>', '<BOS> someone is cutting chicken <EOS>', '<BOS> the lady cut meat into bite sizes <EOS>', '<BOS> the poodle watched as the lady cut up raw meat <EOS>', '<BOS> the woman is slicing chicken <EOS>', '<BOS> a person is cooking <EOS>', '<BOS> the women is making chicken rice <EOS>', '<BOS> a woman is slicing a piece of chicken <EOS>', '<BOS> coking recipee <EOS>', '<BOS> a woman cuts meat <EOS>', '<BOS> a woman is cutting the meat <EOS>', '<BOS> the woman is cutting meat <EOS>', '<BOS> a woman is slicing meat <EOS>', '<BOS> a girl is cutting chicken <EOS>', '<BOS> a woman is cutting a piece of meat <EOS>', '<BOS> a lady is cutting meat <EOS>', '<BOS> a woman is slicing chicken to prepare omurice <EOS>', '<BOS> a woman is slicing chicken <EOS>', '<BOS> a woman showing how to cook omurice <EOS>', '<BOS> a lady cutting raw chicken inorder to make some sort of recipe from it <EOS>', '<BOS> a lady is making omurice <EOS>', '<BOS> a lady cutting chicken <EOS>', '<BOS> very clear detail for making omurice <EOS>', '<BOS> a woman is slicing a chicken <EOS>', '<BOS> a woman is cutting chicken into pieces <EOS>'], 'vid1344': ['someone is peeling off the pepperonis on a pizza slice', 'a person removes pepperonis from a pizza', 'a man removes pepperonis from a pizza slice', 'a man is using a fork and his fingers to pick pieces of pepperoni off of a slice of pizza', 'someone is taking pepperoni off a slice of pizza', 'a man is cutting pizza', 'a person is peeling pepperoni off a pizza', 'a person picks the pepperoni off of a pizza slice', 'someone is picking meat off of a pizza slice', 'someone is removing pepperoni from a pizza', 'someone is taking pepperonies off a pizza', 'a man is picking the pepperoni off a pizza', 'someone picked the pepperoni off the pizza slice', 'the man is taking off the pepperoni from the pizza slice', 'pieces of salami are removed from a slice of pizza', 'a man removes the pepperoni from some pizza', 'the man picked off the pepperoni from the piece of pizza', 'a person is cooking', 'the boy is cutting the something', 'a man is separating the part of pizza', 'a man is taking pepperoni off pizza', 'jack show how to make the different varities of food', 'a person removes pepperonis from a pizza slice', 'a man is peeling the pizza s layer', 'the person is dissecting a pizza', 'someone is pulling pepporoni off a piece of pizza', 'a man is taking pepperoni off of a slice of pizza', 'operation of the pizza', 'the person is cooking the piza', 'this man ingrendientele open on a piece of pizza', 'a perason is taking the pizza test', 'a man cooking his kichen', 'the man is removing the pepperoni from the pizza', 'the person is removing fat from the mutton', 'any one is trying to eat pizza', 'super pizza taste test', 'a man is removing something from a pizza', 'someone pulls pieces of pepperoni off a slice of pizza'], 'vid1652': ['many raccoon looking animals are huddled in a group', 'lemurs are holding each other in a line', 'lemurs are hugging each other in a row', 'a number of furry striped tail animals are huddled together in a tight group', 'a group of lemurs are sitting together', 'hedge hogs are taking sun bath', 'some lemurs are sitting very close to each other', 'weird creatures are gathering', 'animals are laying together', 'several furry animals are huddled together', 'the animals huddled together', 'the lemurs are all cuddled together', 'several lemurs are huddling together', 'lots of lemurs are curled up together', 'the animals all huddled together', 'a bunch of animals are laying together', 'animals are playing', 'many animals at one place', 'some lemurs are sitting in a group', 'the animals are comes out for the sun', 'the cats are taking the rest', 'the lemurs are all huddled together', 'pandas are playing'], 'vid1153': ['<BOS> a dazzle of zebras are grazing on grassland <EOS>', '<BOS> a flock of zebras grazing <EOS>', '<BOS> a group of zebra are grazing <EOS>', '<BOS> a herd of zebras are standing in a field <EOS>', '<BOS> a herd of zebras graze in the savannah <EOS>', '<BOS> a herd of zebras stand on a grassy plain <EOS>', '<BOS> a pack of zebras are grazing <EOS>', '<BOS> many zebras are grazing in a field <EOS>', '<BOS> many zebras graze in a field <EOS>', '<BOS> several zebras are standing in a field <EOS>', '<BOS> the zebras are grazing <EOS>', '<BOS> the zebras grazed in the field <EOS>', '<BOS> the zebras grazed on the grasses <EOS>', '<BOS> zebra are eating grass <EOS>', '<BOS> zebras are eating grass <EOS>', '<BOS> zebras are grassing <EOS>', '<BOS> zebras are grazing in the grass <EOS>', '<BOS> zebras are standing peacefully <EOS>', '<BOS> zebras are eating <EOS>', '<BOS> zebras are eating grass <EOS>', '<BOS> a herd of zebras are eating grass in a field <EOS>', '<BOS> zebras are standing in a field <EOS>', '<BOS> zebras are grazing in a field <EOS>', '<BOS> zebras are grazing in the field <EOS>', '<BOS> zebras gracing on grassland <EOS>', '<BOS> the zebras are grazing <EOS>', '<BOS> zebras are standing in a jungle <EOS>', '<BOS> many zebras are standing in a field <EOS>', '<BOS> zebras were found in a group <EOS>', '<BOS> zebras are standing and eating grass <EOS>', '<BOS> zebras are standing in a field <EOS>', '<BOS> eating together <EOS>', '<BOS> lots of zebras are eating grass <EOS>', '<BOS> some zebras are standing in a field <EOS>', '<BOS> a herd of zebras are grazing <EOS>', '<BOS> all zebras are in forest <EOS>', '<BOS> zebras are eating <EOS>', '<BOS> some zebras are walking in a field <EOS>', '<BOS> the zebras grazed on the grass <EOS>', '<BOS> zebra s having they food <EOS>', '<BOS> a running zebras <EOS>', '<BOS> zebras graze in the savanna <EOS>', '<BOS> the zebras are gazing in the fields <EOS>', '<BOS> a group of zebras are grazing in a field <EOS>', '<BOS> very cute zebras <EOS>', '<BOS> a group of zebras are standing in a field <EOS>'], 'vid1939': ['someone is writing something on a piece of white paper with a pencil', 'a person is writing', 'a person is writing', 'someone is writing on a piece of paper with a pencil', 'a person is writing', 'a person is writing with a pencil', 'a person is writing with pencil', 'a person is writing a letter', 'a person is writing on a paper', 'someone is writing', 'someone is writing with a pencil', 'a person is writing on paper', 'the person is writing on paper', 'someone is writing on paper with a pencil', 'a person writes something down', 'a man writing on paper with a pencil', 'the person is writing the something', 'a person is writing', 'a person is writing on the paper using pencil', 'someone is writing on a piece of paper', 'writing with the pencil', 'person writing', 'some one writing on a paper with pencil', 'someone wrote words on paper with a pencil', 'a person is writing on a piece of paper with a pencil', 'the man is writing on paper', 'someone is writing'], 'vid392': ['<BOS> a man is drinking a clear liquid from a glass <EOS>', '<BOS> a man drinks water <EOS>', '<BOS> a man is drinking a glass of water <EOS>', '<BOS> a man is drinking water out of a glass <EOS>', '<BOS> a man is drinking a water <EOS>', '<BOS> a man is drinking a glass of water <EOS>', '<BOS> a man is drinking something <EOS>', '<BOS> a man is taking a drink <EOS>', '<BOS> a man is drinking a glass of water <EOS>', '<BOS> someone is drinking water <EOS>', '<BOS> a man is drinking a glass of water <EOS>', '<BOS> the man drank a glass of water <EOS>', '<BOS> the man is drinking a glass of water <EOS>', '<BOS> a man drinks some water <EOS>', '<BOS> the man drank a glass of water <EOS>', '<BOS> a man drinking from a glass <EOS>', '<BOS> a man is drinkin a glass of water <EOS>', '<BOS> a fat men is drinking <EOS>', '<BOS> the person is drinking the water <EOS>', '<BOS> jack is drinking water in a glass <EOS>', '<BOS> a man is drinking a glass of water <EOS>', '<BOS> a man is drinking something <EOS>', '<BOS> the man drank a glass of water <EOS>', '<BOS> a man cooking his kichen <EOS>', '<BOS> the man is drinking a glass of water <EOS>', '<BOS> a man is drinking a glass of water <EOS>', '<BOS> very super eating tips video <EOS>', '<BOS> a man is drinking a water <EOS>', '<BOS> a man is drinking a glass of water <EOS>', '<BOS> the person is drinking the water <EOS>', '<BOS> a man drinks from a cup <EOS>'], 'vid399': ['<BOS> a woman is stir frying pieces of meat using chopsticks <EOS>', '<BOS> a person is cooking beef <EOS>', '<BOS> a person is cooking beef on a skillet <EOS>', '<BOS> a woman sautes some beef <EOS>', '<BOS> meat is being cooked <EOS>', '<BOS> a woman is frying something in the pan <EOS>', '<BOS> a woman is frying some meat <EOS>', '<BOS> someone is cooking meat in a pan <EOS>', '<BOS> a woman is frying meet <EOS>', '<BOS> a woman is cooking meat in a pan <EOS>', '<BOS> the lady cooked the meat in a pan <EOS>', '<BOS> the woman is cooking meat in the pan <EOS>', '<BOS> thin slices of meat are cooked in a pan <EOS>', '<BOS> a woman puts some meat into a bowl <EOS>', '<BOS> the lady cooked the fish in a pan <EOS>', '<BOS> a man cooking onigiri <EOS>', '<BOS> a person making food <EOS>', '<BOS> anyone is making dish <EOS>', '<BOS> making of rice dish <EOS>', '<BOS> someone is cooking meat in a pan <EOS>', '<BOS> the lady make the food with her dog <EOS>', '<BOS> the woman is cooking <EOS>', '<BOS> the women is frying some ingredients <EOS>', '<BOS> a japanese woman fries beef in a pan <EOS>', '<BOS> a man cooking his kichen <EOS>', '<BOS> a man is stir frying meat in a pan <EOS>', '<BOS> a person is cooking meat in a pan on the stove using chopsticks <EOS>', '<BOS> a woman is cooking some meat <EOS>', '<BOS> how to make onigiri <EOS>', '<BOS> somebody is cooking <EOS>', '<BOS> someone fries shredded meat in a skillet <EOS>', '<BOS> the person is cooking the something <EOS>', '<BOS> the woman is browning meat <EOS>', '<BOS> a boy is frying some meats <EOS>', '<BOS> the person is cooking <EOS>'], 'vid1933': ['a man is rolling dough', 'the man is rolling out pastries', 'a man is making bagels', 'a man is making bagels', 'a man is making raw bagels out of dough and placing them on the counter top', 'a man is making some food', 'a man is preparing dough at a bagel shop', 'a man is rolling dough into bagels', 'a man prepares bagel dough', 'an indian man is rolling some dough', 'dough is being prepared', 'the baker is rolling dough', 'a man is making dough into small ring pieces', 'a man in a bagel shop showing how bagels are prepared and cooked', 'a man is preparing some cookies', 'a person is making something with a meal', 'people making bagels in the bakery', 'clip of a restaurant where a chef tring to prepare something', 'a baker kneads some dough', 'a man baking donuts', 'a man is making circle from flour', 'a man is making donuts', 'a man is preparing bagels in a bakery', 'a man is rolling dough for bagels', 'a man is rolling dough to make bagels', 'a man is rolling dough', 'a man is rolling dough', 'a man is rolling dough', 'a man is rolling out dough', 'a man is rolling up strips of dough', 'a man is working dough', 'a man making bagels', 'a man rolled dough', 'a man working with dough', 'a men cooking his kichen', 'a person is kneading dough', 'a person is making donuts', 'man is rolling dough', 'on sale', 'people are making bagels in a traditional bakery and people are lining up to buy them', 'the man is making donuts', 'the man is rolling dough', 'the man rolled out the dough', 'a man is making roti', 'a mid age man making food in bagel shop', 'chef is making doughnut in the kitchen'], 'vid1236': ['an animal is sniffing around', 'a pointed nose rodent is walking around on the ground sniffing', 'an animal is walking on the ground', 'an animal is walking', 'a solenodon is searching for food', 'a rat like creature is smelling around', 'a small animal is walking on the ground', 'an animal is walking around', 'an animal is walking around', 'a solenodon is walking along the ground', 'the oppossum sniffed along the ground', 'the rodent is looking for food', 'an opossum like animal is walking and sniffing the ground', 'a rodent walks around', 'the mammal foraged in the grass', 'a animal looking like a rat is walking', 'an animal is walking around', 'the animal is searches the items', 'the rat is searching something', 'this is not an almiqui from cuba solenodon cubanus', 'a mouse eating', 'a small venomous mammal is rediscovered', 'a solenodon is searching his food', 'a solenodon is walking around', 'a solenodon is walking around', 'an animal is eating grass', 'an animal is looking for food', 'an animal is walking', 'the animal is foraging for food', 'a small animal is walking', 'the animal is eating the something'], 'vid1234': ['someone pours olive oil into a bowl of tomato wedges', 'a man pours olive oil over tomatoes', 'a man is adding oil on tomatoes pieces', 'a man pours oil onto sliced tomatoes', 'a man is pouring oil on tomatoes', 'a man poured oil over tomatoes', 'a man is adding oil to sliced tomato', 'a man is adding olive oil to chunks of tomatoes', 'a man is pouring oil into a bowl of tomatoes', 'a person is pouring extra virgin olive oil into a container of tomatoes', 'a man pours oil over tomato slices', 'someone is pouring oil over tomatoes', 'someone is pouring olive oil on tomatoes', 'a man is adding oil to a bowl of tomatoes', 'the man cut up tomatoes and poured oil over them', 'the man poured oil on the tomato slices', 'a man pours oil on some tomatos', 'a man is pouring olive oil into a bowl of sliced tomatoes', 'the man poured oil on the cut tomatoes', 'a man is pouring oil on some tomatoes', 'this boy cooking rice puding and pizza', 'a man is putting oil on tomatoes', 'a man adding extra virgin olive oil to tomatoes', 'a man pours oil on tomato slices', 'a man is pouring oil to the the tomatoes', 'a man is pouring oil onto some tomatoes', 'a man coking salad', 'someone is pouring oil over tomatos', 'a man is mixing something into tomatoes', 'a chef soaking tomatoes in oil', 'a man is preparing salad night', 'the man cut up the tomatoes and added oil', 'a man cooking his kichen', 'a person is preparing salad night', 'the man is pouring oil on the tomatoes', 'very colourful salad', 'someone pours oil on a bowl of tomato chunks', 'the person is mixing the oil and tomato', 'a cookery show by a man', 'a man is pour the oil', 'a person is preparing salad with tomato and olive oil', 'a man in a black shirt and yellow head wear about to prepare a salad', 'a video on how to prepare salad for the night'], 'vid540': ['<BOS> a apple being peeled on a cutting board <EOS>', '<BOS> a man peels an apple <EOS>', '<BOS> someone prepare cooking <EOS>', '<BOS> a man is peeling an apple over a cutting board <EOS>', '<BOS> a man is peeling an apple with a knife <EOS>', '<BOS> a man is peeling off the skin of an apple in a spiral manner using a knife <EOS>', '<BOS> a man is peeling the apple <EOS>', '<BOS> a man is remove the front skin of an apple <EOS>', '<BOS> a man peeling an apple with a chef s knife <EOS>', '<BOS> a man peels an apple <EOS>', '<BOS> a person is paring an apple with a knife <EOS>', '<BOS> a person is peeling a apple <EOS>', '<BOS> a person is peeling an apple with a knife <EOS>', '<BOS> a person is peeling an apple <EOS>', '<BOS> a person is using a knife to take off the skin of an apple in one consecutive piece <EOS>', '<BOS> a person peels an apple with a sharp knife <EOS>', '<BOS> a woman is peeling an apple <EOS>', '<BOS> a woman is peeling an apple s skin <EOS>', '<BOS> a woman is peeling off an apple <EOS>', '<BOS> an apple is being peeled <EOS>', '<BOS> an apple is being peeled <EOS>', '<BOS> an apple is slowly peeled with a knife in circles <EOS>', '<BOS> in video peel is been taken off from apple with knife <EOS>', '<BOS> man peels an apple <EOS>', '<BOS> one person is slicing an apple <EOS>', '<BOS> someone is peeling an apple in a spiral motion <EOS>', '<BOS> someone is peeling an apple with a knife <EOS>', '<BOS> someone is peeling an apple <EOS>', '<BOS> someone peeling an apple with knife <EOS>', '<BOS> the apple is being peeled round and round with a knife <EOS>', '<BOS> the man is peeling the apple <EOS>', '<BOS> the person is peeling an apple with a knife <EOS>', '<BOS> woman is peeling an apple <EOS>', '<BOS> he peel the appale <EOS>', '<BOS> a man is peeling apple <EOS>'], 'vid543': ['<BOS> a man is getting down a staircase <EOS>', '<BOS> a man is walking down a flight of stairs <EOS>', '<BOS> a man is walking down the stairs <EOS>', '<BOS> a man is walking down stairs <EOS>', '<BOS> a man is climbing down a stair case <EOS>', '<BOS> a man is walking down some stairs <EOS>', '<BOS> a man is walking downstairs in a dimly lit brick building <EOS>', '<BOS> a man walks down the stairs <EOS>', '<BOS> a man is walking down some stairs <EOS>', '<BOS> a man facing his back is walking down a stairway of a brick building <EOS>', '<BOS> a man walking down the stairs <EOS>', '<BOS> a boy walked down the stairs <EOS>', '<BOS> a man walks down a staircase <EOS>', '<BOS> the man is walking down the stairs <EOS>', '<BOS> a boy drunkenly walks down the stairs <EOS>', '<BOS> a man is walking down the stairs <EOS>', '<BOS> the man walked down the stairs <EOS>', '<BOS> a guy is looking down the ground <EOS>', '<BOS> a man come down from stairs <EOS>', '<BOS> a man is climbing down the stairs <EOS>', '<BOS> a man is walking down some stairs <EOS>', '<BOS> a man stepping down slowly <EOS>', '<BOS> a person walking downstairs <EOS>', '<BOS> a person walks down a flight of stairs <EOS>', '<BOS> the man going down through steps <EOS>', '<BOS> the man is going down <EOS>', '<BOS> videos for beirut nantes <EOS>', '<BOS> a dishevelled man walks down narrow stairs <EOS>', '<BOS> a man is climbing down the stairs <EOS>', '<BOS> a man is coming downstairs <EOS>', '<BOS> a man is getting down the stairs <EOS>', '<BOS> a man is going down using steps <EOS>', '<BOS> a man is stairing down the steps <EOS>', '<BOS> a man is walking down a dimly lit stairwell with a sunny opening at the bottom <EOS>', '<BOS> a man is walking down some stairs <EOS>', '<BOS> a man is walking down some stairs <EOS>', '<BOS> a man is walking down some stairs <EOS>', '<BOS> a man is walking down stairs <EOS>', '<BOS> a man is walking down stairs <EOS>', '<BOS> a man is walking down stairs <EOS>', '<BOS> a man is walking down steps <EOS>', '<BOS> a man is walking down the stairs <EOS>', '<BOS> a man is walking down the stairs <EOS>', '<BOS> a man is walking down <EOS>', '<BOS> a man is walking <EOS>', '<BOS> a man slowly walks down a staircase in a brick building <EOS>', '<BOS> a man walking downstairs from some kind of cave <EOS>', '<BOS> a man walks down some stairs <EOS>', '<BOS> a man walks down stairs drowsily <EOS>', '<BOS> a man walks down stairs <EOS>', '<BOS> a man walks down stairs <EOS>', '<BOS> a man walks down stairs <EOS>', '<BOS> a person is step down <EOS>', '<BOS> a young man is get down from the steps <EOS>', '<BOS> a young man is walking down steps in a cavern <EOS>', '<BOS> a young man <EOS>', '<BOS> someone is walking down some stairs <EOS>', '<BOS> a boy is getting down form the steps <EOS>', '<BOS> the man is walking <EOS>'], 'vid545': ['<BOS> a man grabs a woman <EOS>', '<BOS> a man attacks a woman on a sidewalk <EOS>', '<BOS> a man attacks a woman on the street <EOS>', '<BOS> a man is walking down the street and he assaults a woman <EOS>', '<BOS> a man and a woman are fighting <EOS>', '<BOS> a man is attacking a woman on a sidewalk <EOS>', '<BOS> a man is stabbing a woman <EOS>', '<BOS> a man is attacking a woman <EOS>', '<BOS> a man is attacking a woman <EOS>', '<BOS> a man is stabbing a girl <EOS>', '<BOS> someone is being attacked <EOS>', '<BOS> a man knocks a woman to the ground <EOS>', '<BOS> the man pulled the lady down on the sidewalk and hit her <EOS>', '<BOS> the man attacked the woman <EOS>', '<BOS> a man assaults a girl <EOS>', '<BOS> the man hit the girl on the ground <EOS>', '<BOS> a man atacks a woman walking down the street <EOS>', '<BOS> two person playing in the graden <EOS>', '<BOS> the boy is fighting <EOS>', '<BOS> a man is attacking a woman <EOS>', '<BOS> a man killing a girl <EOS>', '<BOS> the man pulled the girl down to the sidewalk and hit her <EOS>', '<BOS> the man attacked the woman <EOS>', '<BOS> a man is checking car <EOS>', '<BOS> a man is stabbing a girl <EOS>', '<BOS> a man attacks and stabs a woman <EOS>'], 'vid808': ['<BOS> a man is holding up and talking about a gray you tube tshirt <EOS>', '<BOS> a man is holding a shirt <EOS>', '<BOS> a man is displaying a tshirt with the words you tube written on it <EOS>', '<BOS> a man is showing a tshirt <EOS>', '<BOS> a man is holding up a tshirt that is printed with the youtube logo <EOS>', '<BOS> a man is showing a tshirt <EOS>', '<BOS> a man holds up a youtube tshirt <EOS>', '<BOS> a man is showing a tshirt <EOS>', '<BOS> a man is showing a t shirt <EOS>', '<BOS> a man is showing off a tshirt <EOS>', '<BOS> the man showed a shirt with the logo you tube on it <EOS>', '<BOS> the man is showing a tshirt <EOS>', '<BOS> a man shows us a youtube shirt <EOS>', '<BOS> a man shows us a you tube tshirt <EOS>', '<BOS> the man showed us the tshirt with a you tube decal <EOS>', '<BOS> the men is seeing the shirt <EOS>', '<BOS> a man is showing a tshirt <EOS>', '<BOS> a man is holding a shirt that says youtube <EOS>', '<BOS> a fat man doing work <EOS>', '<BOS> the man is showing a tshirt with a youtube print on it <EOS>', '<BOS> a person is cooking <EOS>', '<BOS> a man is showing off a youtube shirt <EOS>', '<BOS> a person is making beef jerky <EOS>', '<BOS> the man opened the tshirt with the you tube logo on it <EOS>', '<BOS> a man cooking his kichen <EOS>', '<BOS> the man is showing a tshirt <EOS>', '<BOS> a fat men is showing tshirt <EOS>'], 'vid1641': ['a horse and rider are running a fence jumping course', 'a horse is jumping hurdles', 'a horse is jumping over a fence', 'a horseback rider completes an obstacle course', 'a man is riding and jumping a horse', 'a man is riding horse and jumping over obstacles', 'a man riding a horse jumps several hurdles', 'a person is riding a horse on a ground as it jumps across an obstacle', 'a person is riding a horse', 'a person on a horse is jumping hurdles', 'a woman is riding a horse', 'a woman jumps over hurdles with a horse', 'a woman riding a horse jumps over a bar', 'someone is riding a horse and jumping hurdles', 'someone is riding a horse as it makes a jump', 'the horse and rider are going through an obstacle course', 'the horse and rider jumped over hurdles', 'the man on his horse jumped over the hurdle', 'a man riding the horse', 'the girl is hoers riding', 'a young man riding a horse', 'a man is riding a horse', 'a man is jumping a horse', 'someone is riding a horse', 'horse backing races', 'a man is riding a horse', 'a men racing on horse', 'a jockey is riding a horse through an obstacle course'], 'vid805': ['<BOS> a woman appears to be hit by lightening and is bleeding at the mouth <EOS>', '<BOS> a woman is dying in a mans arms <EOS>', '<BOS> one boy is dieing and other boy is crying <EOS>', '<BOS> a man tries to revive a woman <EOS>', '<BOS> a woman is dying in hands of a man <EOS>', '<BOS> a man tries to revive a woman lying on the ground <EOS>', '<BOS> a man is holding a dying woman <EOS>', '<BOS> a woman dies in a man s arms <EOS>', '<BOS> a woman is dying in a mans arms <EOS>', '<BOS> a man is holding a girl <EOS>', '<BOS> a man is holding a woman on the ground <EOS>', '<BOS> a man holding a wounded woman lying on the ground is wailing as she collapses after speaking a few lines <EOS>', '<BOS> the man held the dying lady <EOS>', '<BOS> the woman is dying <EOS>', '<BOS> a woman is dying in a man s arms <EOS>', '<BOS> a man holds an injured woman <EOS>', '<BOS> the man held the dying woman in his arms <EOS>', '<BOS> a man is holding a dieing woman <EOS>', '<BOS> it is a sad movement <EOS>', '<BOS> the girl is talking to the boy <EOS>', '<BOS> a woman dies in a man s arms during a rainstorm <EOS>', '<BOS> an asian woman is dying in a mans arms <EOS>', '<BOS> strugling for survive <EOS>', '<BOS> a lady is dieing <EOS>', '<BOS> a woman dies in her mans arms <EOS>', '<BOS> a man is holding a woman <EOS>', '<BOS> a woman is dying <EOS>', '<BOS> a girl is dying <EOS>', '<BOS> couple is talking <EOS>', '<BOS> a lady is suffering from lot of pain and saying something to a man <EOS>', '<BOS> a women has died <EOS>', '<BOS> the woman is dying <EOS>', '<BOS> a man is singing <EOS>', '<BOS> a woman dies as a man holds her <EOS>', '<BOS> a man lays in a woman s arms <EOS>'], 'vid807': ['<BOS> a man slices an onion <EOS>', '<BOS> a chef slices an onion <EOS>', '<BOS> a large white onion is sliced crosswise to get finger thick rings <EOS>', '<BOS> a man is slicing a peeled onion into four uniform slices of about 12 thickness each <EOS>', '<BOS> a man is slicing an onion in round shape <EOS>', '<BOS> a man is slicing an onion <EOS>', '<BOS> a person cuts an onion with a knife <EOS>', '<BOS> a person is cutting thick slices of an onion <EOS>', '<BOS> a person is slicing an onion into rings with a knife <EOS>', '<BOS> a person is slicing an onion <EOS>', '<BOS> an onion is being sliced <EOS>', '<BOS> an onion is sliced <EOS>', '<BOS> onions are being sliced <EOS>', '<BOS> someone is slicing an onion <EOS>', '<BOS> someone is slicing onions <EOS>', '<BOS> the person is slicing an onion <EOS>', '<BOS> tasty ovenfried onion rings <EOS>', '<BOS> cutting rings of onion with the knife <EOS>', '<BOS> chef john showing how to make ovenion rings <EOS>', '<BOS> onions were beautifully cut in round shapes <EOS>', '<BOS> someone is slicing onion rings <EOS>', '<BOS> cutting onion into round pieces <EOS>', '<BOS> a cook cuts some onions <EOS>', '<BOS> a man is chopping an onion <EOS>', '<BOS> a man is slicing an onion <EOS>', '<BOS> a man is slicing an onion <EOS>', '<BOS> a man is slicing onions into ovals <EOS>', '<BOS> a man slicing some vegitables <EOS>', '<BOS> a person cuts an onion <EOS>', '<BOS> a person is cutting an onion <EOS>', '<BOS> a person is slicing an onion <EOS>', '<BOS> a person is slicing an onion <EOS>', '<BOS> a person is slicing an onion <EOS>', '<BOS> a person is slicing an onion <EOS>', '<BOS> a person is slicing an onion <EOS>', '<BOS> a woman is slicing an onion <EOS>', '<BOS> a woman is slicing an onion <EOS>', '<BOS> an onion is being sliced <EOS>', '<BOS> baked onion rings recipe step by step <EOS>', '<BOS> somebody is slicing an onion <EOS>', '<BOS> someone cut an onion <EOS>', '<BOS> someone is slicing an onion <EOS>', '<BOS> someone is slicing an onion <EOS>', '<BOS> someone is slicing an onion <EOS>', '<BOS> someone sliced an onion <EOS>', '<BOS> the cook is slicing onions into rings <EOS>', '<BOS> the onion is being sliced <EOS>', '<BOS> the onion rings is fried in oven <EOS>', '<BOS> the person is slicing onions <EOS>', '<BOS> cutting pieces of onion <EOS>'], 'vid1807': ['two bear cubs are digging into dirt and plant matter at the base of a tree', 'two baby bears are digging', 'baby bears are digging', 'a man is watching two bear cubs digging', 'black bear cubs are digging holes', 'two baby bears are walking around', 'bears', 'a man is watching two baby bears', 'two bears dig around in a dirt pile', 'two bear cubs are digging', 'bear cubs are digging in the dirt', 'baby bears are scratching dirt', 'two bear cubs are digging in the dirt', 'two baby bears are standing beside each other in mud as one of them walks ahead', 'the bears dug in the dirt', 'the bear cubs are digging the ground', 'two bear cubs are digging', 'two bears investigate a pile of dirt', 'the baby bears dug in the dirt', 'a beer walking in the forest', 'dr pazhitnov observes two baby bears to see what needs to be taught and what intinctively they can do', 'small bears are digging in some dirt', 'two baby bear cubs are out in the forest playing', 'a cute baby bear are playing in a jungle', 'bear eats dirt', 'bears are digging', 'the animals are eating', 'the animals are there in the forest', 'the baby bears dug in the dirt for insects', 'the bear cubs are digging', 'the bear search for its food', 'two baby bear cubs are digging', 'two bear cubs are exploring', 'two bear cubs dig around in a the dirt of an uprooted tree', 'very cute baby bear video', 'a fox are searching something'], 'vid1803': ['a man is looking at the ocean through a camera on a tripod', 'a man takes a picture of a beach', 'a man is taking a photograph of the ocean', 'a man is taking a photo of sunset', 'a man is photographing the ocean', 'a man is taking pictures of a lake', 'a man is taking photo in a beach', 'a man is taking a picture of the ocean', 'a man takes a picture of the ocean', 'a man is taking pictures of the ocean', 'a man is taking a picture', 'a man is photographing the ocean', 'a man is standing on the shore with a superwide camera lens fitted on a tripod stand', 'a man is taking a picture of the ocean with a camera on a quadropod', 'the man set up his camera to take sunset pictures at the beach', 'the man is taking a picture of the ocean', 'a man is photographing waves', 'a man sets up a camera', 'the man took pictures of the sunset', 'learn to take a good photograph', 'the person is doing the something', 'skills of photography', 'a man is filming the waves rolling in', 'a lone man taking photographs', 'a man is taking a picture', 'a man is taking a photo of a beach', 'a man is taking videos of the waves', 'a man is taking a photo', 'a man is taking pictures of the ocean', 'a man is taking photos for waves on water', 'a man taking photos', 'photography tips', 'the person was doing photography', 'this is a man taking movies or pictures of the beach sunset', 'a person taking a seen for see', 'a man is taking a photo of the sunset', 'the man fixed his camera to take sunset pictures', 'a man is taking the pics of the ocean and the sun set', 'a man takes a photograph of the ocean', 'the man is taking pictures of the ocean', 'a man is taking a picture'], 'vid325': ['<BOS> a black pet cat is walking in the house <EOS>', '<BOS> a cat explores the kitchen <EOS>', '<BOS> a cat is walking across the floor <EOS>', '<BOS> a cat is walking around a house <EOS>', '<BOS> a cat is walking around some drawers <EOS>', '<BOS> a cat is walking around <EOS>', '<BOS> a cat is walking around <EOS>', '<BOS> a cat is walking in the home <EOS>', '<BOS> a cat is walking on hardwood floor <EOS>', '<BOS> a cat is walking through the house <EOS>', '<BOS> a cat is walking <EOS>', '<BOS> a cat is walking <EOS>', '<BOS> a cat is walking <EOS>', '<BOS> a cat traverses a floor <EOS>', '<BOS> a cat walks on a wooden floor <EOS>', '<BOS> the cat is walking <EOS>', '<BOS> the cat walked down the hall <EOS>', '<BOS> the cat walked on the wooden floor of the house <EOS>', '<BOS> a cat is walking <EOS>', '<BOS> the person is talking <EOS>', '<BOS> a cat is walking <EOS>', '<BOS> tips for bringing home a new cat <EOS>', '<BOS> a cat is walking <EOS>', '<BOS> a cat is walking <EOS>', '<BOS> a cat is walking <EOS>', '<BOS> a cat is walking on a floor <EOS>', '<BOS> a cat is walking through a room <EOS>', '<BOS> a cat walk inside the house and a lady is giving tips how to bring the cat to house <EOS>', '<BOS> a black cat is roaming in a house <EOS>', '<BOS> a cat is walking <EOS>', '<BOS> hot bring a new cat to home <EOS>', '<BOS> a cat is walking around <EOS>', '<BOS> a cat is walking ion the floor <EOS>', '<BOS> a cat moving in the house <EOS>', '<BOS> the cat is searching his new home <EOS>', '<BOS> a cat is walking in the room <EOS>', '<BOS> a cat is playing <EOS>', '<BOS> a cat is walking <EOS>', '<BOS> the black cat is walking <EOS>', '<BOS> a cat is walking indoors <EOS>', '<BOS> cats walk around a house <EOS>'], 'vid326': ['<BOS> a woman sits down <EOS>', '<BOS> a woman drinks a can of soda <EOS>', '<BOS> a woman is drinking a soda <EOS>', '<BOS> a woman is drinking a drink <EOS>', '<BOS> a girl pops a pepsi can and takes a sip <EOS>', '<BOS> a woman is opening a can of pop and drinking it <EOS>', '<BOS> a woman is drinking a coke <EOS>', '<BOS> a woman drinks from a can of soda pop <EOS>', '<BOS> a woman opens <EOS>', '<BOS> a woman is drinking a soda pop <EOS>', '<BOS> a girl opens a drink <EOS>', '<BOS> a woman is opening a soda and drinking it <EOS>', '<BOS> the girl opened a soda can and took a sip <EOS>', '<BOS> the girl opened a soda can and started drinking <EOS>', '<BOS> a woman opens and drinks from a can of soft drink <EOS>', '<BOS> a woman drinks from a soda can <EOS>', '<BOS> the lady popped open a can of soda and drank <EOS>', '<BOS> a girl drinking something <EOS>', '<BOS> a girl is drinking something <EOS>', '<BOS> a man talking on some issue <EOS>', '<BOS> a woman is drinking a soda <EOS>', '<BOS> a man drinking tinned drink <EOS>', '<BOS> a man drinking <EOS>', '<BOS> a woman drinks a can of pop <EOS>', '<BOS> a woman is opening a pepsi can and drinking <EOS>', '<BOS> a woman opens <EOS>', '<BOS> the person is ex plane the drinking <EOS>', '<BOS> the woman opened a soda can and drank from it <EOS>'], 'vid327': ['<BOS> a man <EOS>', '<BOS> a man riding a bicycle has a dog on his back <EOS>', '<BOS> a man and dog are riding on a bicycle <EOS>', '<BOS> a man is riding a bicycle with a dog straddling his back <EOS>', '<BOS> a man is riding a bicycle with a dog <EOS>', '<BOS> a man is riding a bike down the street with a dog on his back <EOS>', '<BOS> a man is riding a bicycle with a dog in his shoulder <EOS>', '<BOS> a man is giving a dog a ride on his shoulders while riding a bicycle <EOS>', '<BOS> a man <EOS>', '<BOS> a dog is riding on a bicyclists shoulders <EOS>', '<BOS> a dog is riding piggy back on a man riding a bicycle <EOS>', '<BOS> the dog is riding piggy back on the bicycle <EOS>', '<BOS> a man rides a bike with a dog on his back <EOS>', '<BOS> a dog is riding piggy back on it s owner on a bike <EOS>', '<BOS> a man with a dog on his back is riding a bicycle <EOS>', '<BOS> the dog clung to the man s neck and back while riding on the bike <EOS>', '<BOS> there cycling <EOS>', '<BOS> a young man is carrying a dog on his back and riding the cycle <EOS>', '<BOS> a man is riding a cycle with his dog <EOS>', '<BOS> a man is riding a bike with a dog on his back <EOS>', '<BOS> the dog is riding over the boy and boy ride the cycle very fastly <EOS>', '<BOS> a little white dog named casey goes for a ride on the back of his master on a bicycle <EOS>', '<BOS> a man riding a bike with a dog on his back <EOS>', '<BOS> the boy is riding the bicycle <EOS>', '<BOS> a man is riding a bike with a dog on his back <EOS>', '<BOS> one man is driving a bycycle with a dog on his shoulder <EOS>', '<BOS> the dog clung to the man s neck while riding on the bike <EOS>', '<BOS> the dog is riding piggy back <EOS>'], 'vid489': ['<BOS> someone is burning the tops of two cameras with a torch <EOS>', '<BOS> a person is blow torching cameras <EOS>', '<BOS> someone is blowtorching two cameras <EOS>', '<BOS> a person is burning cameras <EOS>', '<BOS> two cameras are sitting side by side one of them is in flames <EOS>', '<BOS> a camera is burning <EOS>', '<BOS> a person is heating up a camera with a blowtorch <EOS>', '<BOS> a person is burning cameras <EOS>', '<BOS> a person is torching two cameras to test their durability <EOS>', '<BOS> someone is burning cameras with a torch <EOS>', '<BOS> someone is burning cameras with a blow torch <EOS>', '<BOS> a person is torching two cameras <EOS>', '<BOS> the person lit the cameras on fire <EOS>', '<BOS> someone is burning two cameras <EOS>', '<BOS> a person uses a blowtorch on two cameras <EOS>', '<BOS> someone is setting two cameras on fire with a spray <EOS>', '<BOS> there is a cameras <EOS>', '<BOS> cameras are burning <EOS>', '<BOS> a camera is on fire <EOS>', '<BOS> a person burning a camera <EOS>', '<BOS> durability test for a nikon d90 against a canon 550d <EOS>', '<BOS> a camera on fire <EOS>', '<BOS> a camera is burning <EOS>', '<BOS> cameras being checked for fire proof <EOS>', '<BOS> nikon d90 vs canon 550d is very good quality camera <EOS>', '<BOS> a camera is burning <EOS>', '<BOS> the man burned the cameras with a flame <EOS>', '<BOS> a camera is firing <EOS>', '<BOS> the camera is being blowtorched <EOS>', '<BOS> a person is torching two cameras <EOS>'], 'vid321': ['<BOS> three young men are synchronized dancing <EOS>', '<BOS> three men are dancing <EOS>', '<BOS> three boys are dancing in a synchronized fashion <EOS>', '<BOS> three boys are dancing in the room <EOS>', '<BOS> three kids are dancing in a kitchen <EOS>', '<BOS> three boys are dancing <EOS>', '<BOS> men are dancing <EOS>', '<BOS> three boys are synchronized dancing <EOS>', '<BOS> boys are dancing <EOS>', '<BOS> three teenage boys perform a dance routine <EOS>', '<BOS> three guys are dancing <EOS>', '<BOS> three boys are dancing <EOS>', '<BOS> three boys are dancing <EOS>', '<BOS> three boys are dancing in the living room <EOS>', '<BOS> the three boys danced together in the kitchen <EOS>', '<BOS> the boys are dancing <EOS>', '<BOS> three boys dance <EOS>', '<BOS> the boys did a choreographed dance in the house <EOS>', '<BOS> the boys are practicing dance <EOS>', '<BOS> three men are dancing <EOS>', '<BOS> some boy dancing in the room <EOS>', '<BOS> some boys are dancing <EOS>', '<BOS> three boys dancing in a room to each other <EOS>', '<BOS> three boys are dancing to gather <EOS>', '<BOS> some men are dancing <EOS>', '<BOS> three boys dancing in a room <EOS>', '<BOS> three boys are dancing <EOS>', '<BOS> three young men are dancing <EOS>', '<BOS> dancing boys <EOS>', '<BOS> three men are dancing <EOS>', '<BOS> youngsters are dancing <EOS>', '<BOS> three boys are dancing <EOS>', '<BOS> the friends were dancing <EOS>', '<BOS> three boys are dancing <EOS>', '<BOS> three young men are performing a dance together <EOS>', '<BOS> boys are dancing and singing <EOS>', '<BOS> men are playing <EOS>', '<BOS> the boys are dancing <EOS>', '<BOS> super dancing boys <EOS>', '<BOS> three men are dancing <EOS>', '<BOS> the boys are practicing dance steps <EOS>'], 'vid894': ['<BOS> a girl is playing guitar <EOS>', '<BOS> a woman is playing the guitar and singing <EOS>', '<BOS> a girl is playing a guitar <EOS>', '<BOS> a young lady is playing the guitar and singing <EOS>', '<BOS> a woman is playing an acoustic guitar and singing <EOS>', '<BOS> a girl is playing a guitar <EOS>', '<BOS> a woman is playing a guitar <EOS>', '<BOS> a woman is singing and playing the guitar <EOS>', '<BOS> a woman is playing a guitar <EOS>', '<BOS> a girl is playing guitar <EOS>', '<BOS> a girl is playing the guitar <EOS>', '<BOS> a woman is playing the guitar <EOS>', '<BOS> a woman plays an acoustic guitar <EOS>', '<BOS> a lady is playing the guitar <EOS>', '<BOS> a girl is playing guitar and singing <EOS>', '<BOS> a woman is playing the guitar <EOS>', '<BOS> the girl played her guitar <EOS>', '<BOS> the girl is playing the guitar <EOS>', '<BOS> a woman plays the guitar <EOS>', '<BOS> the lady played her guitar in the bathroom <EOS>', '<BOS> sarah kim is singing with gitar <EOS>', '<BOS> a girl is singing and playing guitar <EOS>', '<BOS> the lady playing the guitor <EOS>', '<BOS> the girl is playing guitar <EOS>', '<BOS> the woman who plays the guitar <EOS>', '<BOS> a girl is playing gitur <EOS>', '<BOS> a young girl playing the guitar and singing <EOS>', '<BOS> a girl playing a guitar <EOS>', '<BOS> a woman is playing a guitar <EOS>', '<BOS> a girl is playing instrument <EOS>', '<BOS> a young girl playing the guitar <EOS>', '<BOS> a girl is playing a guitar <EOS>', '<BOS> a female is playing the guitar and singing <EOS>', '<BOS> a woman is playing a guitar <EOS>', '<BOS> a lady is playing the piano <EOS>', '<BOS> the girl is singing with a guitar <EOS>', '<BOS> a girl is playing musical instrument <EOS>', '<BOS> a girl is playing a guitar <EOS>', '<BOS> a girl playing guitar <EOS>', '<BOS> a girl playing the guitar <EOS>', '<BOS> a woman is playing a violen <EOS>', '<BOS> sarah kim is singing with gitar <EOS>', '<BOS> a chinese girl singing some sort of song on a guitar <EOS>', '<BOS> a girl is playing guitar and singing <EOS>', '<BOS> the girl played the guitar <EOS>', '<BOS> lovely music is very nice <EOS>', '<BOS> a girl is singing and playing a guitar <EOS>', '<BOS> a girl is playing acoustic guitar and singing <EOS>', '<BOS> body language shows her dedication for singing <EOS>', '<BOS> the women is playing the guttier <EOS>', '<BOS> a girl is playing a guitar <EOS>', '<BOS> a girl sing a song with guitar at bathroom <EOS>'], 'vid898': ['<BOS> a man firing rounds outdoors <EOS>', '<BOS> a man fires a handgun <EOS>', '<BOS> a man is firing a gun <EOS>', '<BOS> a man is firing a hand gun <EOS>', '<BOS> a man is firing bullets at a focused point standing in an outdoor location <EOS>', '<BOS> a man is firing by his pistol <EOS>', '<BOS> a man is firing his pistol toward an open range <EOS>', '<BOS> a man is shooting a gun at a range <EOS>', '<BOS> a man is shooting a gun <EOS>', '<BOS> a man is shooting a pistol <EOS>', '<BOS> a man shots at his target <EOS>', '<BOS> the man is shooting a gun <EOS>', '<BOS> a man is shooting with the gun <EOS>', '<BOS> man shooting a pistol <EOS>', '<BOS> a guy is shooting over the skies <EOS>', '<BOS> a man is shooting a pistol <EOS>', '<BOS> some men outdoors in the country doing some practice shooting <EOS>', '<BOS> a man shooting on his target <EOS>', '<BOS> a man firing a pistol <EOS>', '<BOS> a man in uniform shooting a gun <EOS>', '<BOS> a man is aiming and shooting at the object <EOS>', '<BOS> a man is firing a handgun <EOS>', '<BOS> a man is in the desert target shooting with a pistol <EOS>', '<BOS> a man is shooting <EOS>', '<BOS> a man is shooting a gun <EOS>', '<BOS> a man is shooting a gun <EOS>', '<BOS> a man is shooting a gun <EOS>', '<BOS> a man is shooting a gun <EOS>', '<BOS> a man is shooting a gun <EOS>', '<BOS> a man is shooting a pistol <EOS>', '<BOS> a man is shooting a pistol <EOS>', '<BOS> a man is shooting at a target range <EOS>', '<BOS> a man is shooting by the pistol <EOS>', '<BOS> a man is shooting with a gun <EOS>', '<BOS> a man is shooting with a pistol <EOS>', '<BOS> a man shoots a gun <EOS>', '<BOS> a man shoots a pistol <EOS>', '<BOS> the man is firing a gun <EOS>', '<BOS> the man is practicing to shoot with a gun <EOS>', '<BOS> the man is shooting a gun <EOS>', '<BOS> the man shot his gun at a distant target <EOS>', '<BOS> the man shot his gun at a target <EOS>', '<BOS> it is camp inside forest <EOS>'], 'vid711': ['<BOS> a teenage girl shakes her head after hanging up a phone <EOS>', '<BOS> a woman nods her head <EOS>', '<BOS> a girl is standing in the corner of a room shaking her head and the scene flashes to a boy picking up a telephone <EOS>', '<BOS> a girl is thinking about something <EOS>', '<BOS> a woman hangs up the phone <EOS>', '<BOS> a woman is speaking on the telephone <EOS>', '<BOS> a woman hangs up the phone and shakes her head <EOS>', '<BOS> a woman is hanging up a phone <EOS>', '<BOS> a woman shakes her head <EOS>', '<BOS> a girl is shaking her head <EOS>', '<BOS> a girl is hanging up a phone <EOS>', '<BOS> a girl is shaking her head <EOS>', '<BOS> a woman hangs up a telephone <EOS>', '<BOS> the girl hung up on the boy <EOS>', '<BOS> the woman hung up the phone <EOS>', '<BOS> a young woman is hanging a telephone up <EOS>', '<BOS> a woman hangs up the phone <EOS>', '<BOS> the girl hung up on the boy <EOS>', '<BOS> a girl talks on and hangs up a phone <EOS>', '<BOS> the boy is talking the phone <EOS>', '<BOS> a girl is shaking her head <EOS>', '<BOS> the boy and the girl talking in the telephone <EOS>', '<BOS> a woman hangs up a phone <EOS>', '<BOS> the girl and the man are talking on the phone <EOS>', '<BOS> a two person are speaking at the phone <EOS>', '<BOS> a woman is talking on the phone <EOS>', '<BOS> how to ask to date <EOS>', '<BOS> a woman talking in phone <EOS>', '<BOS> a girl hangs up the phone <EOS>', '<BOS> a woman talking to man on phone <EOS>', '<BOS> a woman finishes a conversation and hangs up the phone <EOS>', '<BOS> how to ask for a date <EOS>', '<BOS> a man call women for a date <EOS>', '<BOS> a young lady seems to be thinking something <EOS>', '<BOS> the woman hung up the phone <EOS>', '<BOS> a girl is talking in phone <EOS>', '<BOS> a girl is speaking on the phone <EOS>', '<BOS> a girl is hanging up the telephone <EOS>', '<BOS> a woman hangs up a telephone <EOS>'], 'vid712': ['<BOS> a polar bear has placed its chin and fore limbs on the snow and is moving ahead by walking on its hind legs <EOS>', '<BOS> a polar bear is lying on the ice and using its hind legs to push itself forward <EOS>', '<BOS> a polar bear is sliding across snow <EOS>', '<BOS> a polar bear is sliding across the snow <EOS>', '<BOS> a polar bear is sliding its head along the ice <EOS>', '<BOS> a polar bear pushes himself on the ice with his two hind legs <EOS>', '<BOS> a polar bear pushes his head across the snow <EOS>', '<BOS> a polar bear pushes itself across the ice <EOS>', '<BOS> a polar bear slides through the snow on his belly <EOS>', '<BOS> a polar bear trudges across the ice <EOS>', '<BOS> a polar playing in the snow <EOS>', '<BOS> the polar bear is sliding on the ice <EOS>', '<BOS> the polar bear is sliding on the snow <EOS>', '<BOS> a polar bear is waking on ice <EOS>', '<BOS> a polar bear is waking on ice land <EOS>', '<BOS> a polar bear is pushing himself forwards <EOS>', '<BOS> a polar beer is playing on ice <EOS>', '<BOS> all kinds of cats <EOS>', '<BOS> this is a video showing funny animal antiques <EOS>', '<BOS> a bear is pushing himself across the snow using only his back legs <EOS>', '<BOS> a dog on a leash <EOS>', '<BOS> a lazing polar bear on a sunny morning at the beach <EOS>', '<BOS> a polar bear is dragging itself across the snow using only its leg <EOS>', '<BOS> a polar bear is moving on the snow <EOS>', '<BOS> a polar bear is pushing himself across the snow <EOS>', '<BOS> a polar bear is sliding across ice <EOS>', '<BOS> a polar bear is sliding around on the snow <EOS>', '<BOS> a polar bear is sliding on the ice <EOS>', '<BOS> a polar bear is sliding on the snow <EOS>', '<BOS> a polar bear is sliding through the snow <EOS>', '<BOS> a polar bear slides on the ice <EOS>', '<BOS> a polar bear sliding on the ground <EOS>', '<BOS> a polar beer is having fun <EOS>', '<BOS> a sail is rubbing its face on the ice <EOS>', '<BOS> a sea lion is playing <EOS>', '<BOS> a tummy down bear is sliding itself across ice with its hind legs <EOS>', '<BOS> a white bear is moving on the snow <EOS>', '<BOS> bear is being lazy <EOS>', '<BOS> polar bear walking on ice dragging his front legs <EOS>', '<BOS> the animals are playig <EOS>', '<BOS> the polar bear is sliding <EOS>', '<BOS> the polar bear pushed himself on the ice <EOS>', '<BOS> the polar bear pushed himself on the ice <EOS>', '<BOS> the polar bear sliding on the ice <EOS>', '<BOS> an ice bear is playing in iceland <EOS>'], 'vid932': ['<BOS> a very muscular man is lifting barbells <EOS>', '<BOS> a man is lifting weights <EOS>', '<BOS> a man is doing exercise by weightlifter <EOS>', '<BOS> a man bench presses weights <EOS>', '<BOS> a man is lifting weights <EOS>', '<BOS> a man is lifting weights <EOS>', '<BOS> a man is lifting weights <EOS>', '<BOS> a man is lifting a barbell <EOS>', '<BOS> a man bench presses weights <EOS>', '<BOS> a man is lifting weights <EOS>', '<BOS> a man is lifting weights <EOS>', '<BOS> a bodybuilder is lifting weights <EOS>', '<BOS> a man lying on his back in a gym is lifting weights <EOS>', '<BOS> the man bench pressed a heavy weight <EOS>', '<BOS> the man is lifting weights <EOS>', '<BOS> a body builder is bench pressing <EOS>', '<BOS> a bodybuilder lifts weights <EOS>', '<BOS> a mand bench pressed a heavy weight <EOS>', '<BOS> the man is doing body building exercises <EOS>', '<BOS> a man is lifting weights <EOS>', '<BOS> a man is doing execercise in a jim <EOS>', '<BOS> body builder make they body fit <EOS>', '<BOS> a hulk displaying his muscles <EOS>', '<BOS> nice body structure <EOS>', '<BOS> a man is weightlifting <EOS>', '<BOS> a man is lifting the weight <EOS>', '<BOS> the man is doing exercise <EOS>', '<BOS> a body guard is exercising <EOS>', '<BOS> the man builds his body <EOS>', '<BOS> a man is doing exercises to build up his body <EOS>', '<BOS> huge ripped guys benching some weight <EOS>', '<BOS> a man doing exercise <EOS>', '<BOS> a man is working out <EOS>', '<BOS> a man is doing exercise in gym <EOS>', '<BOS> a bodybuilder lifts weights <EOS>', '<BOS> a man lifting weight to make muscles in a gym <EOS>', '<BOS> a man is lifting weights <EOS>', '<BOS> super bodybuilding muscle mans video <EOS>', '<BOS> a man is bench pressing weights <EOS>', '<BOS> a person is doing execise <EOS>', '<BOS> a man is lifting some weights <EOS>', '<BOS> a man is doing weightlifting <EOS>'], 'vid433': ['<BOS> the man is pouring fuel on the flag <EOS>', '<BOS> a man is pouring gasoline on a lit bonfire <EOS>', '<BOS> a man pours gasoline <EOS>', '<BOS> a man is pouring oil on the woods <EOS>', '<BOS> a man is pouring gasoline on a fire <EOS>', '<BOS> a man is poring petrol on fire <EOS>', '<BOS> a man starts a bonfire in the woods <EOS>', '<BOS> a man is pouring gasoline on a fire <EOS>', '<BOS> a man pours gasoline on a fire <EOS>', '<BOS> a man is pouring gasoline on a fire <EOS>', '<BOS> a man is burning a flag <EOS>', '<BOS> a man is pouring gasoline over a stack of wood <EOS>', '<BOS> a man pours fuel all around a bonfire from a red can held in his hands <EOS>', '<BOS> the man poured gasoline on the flag in the fire <EOS>', '<BOS> the man is pouring gasoline over the firewood <EOS>', '<BOS> a man is pouring fuel on a fire <EOS>', '<BOS> a man pours lots of gasoline on some burning logs <EOS>', '<BOS> the man poured gasoline on a flag in the fire <EOS>', '<BOS> a man preparing a bonfire <EOS>', '<BOS> a man attempts light a bonfire with petrol <EOS>', '<BOS> a person is making the fire <EOS>', '<BOS> a man is burning flag <EOS>', '<BOS> a man is trying to burn flag <EOS>', '<BOS> a man is pouring gas on a fire <EOS>', '<BOS> he is firing on the mat <EOS>', '<BOS> someone making a fire <EOS>', '<BOS> a man is pouring gasoline onto a flag <EOS>', '<BOS> a man pouring gas on fire <EOS>', '<BOS> a man pouring petrol on fire <EOS>', '<BOS> one man is sprinkling water on fire <EOS>', '<BOS> the man is pouring fuel over the flag <EOS>', '<BOS> a man is pouring gas onto a bonfire <EOS>', '<BOS> a man is poring water <EOS>', '<BOS> a man is pouring some kerosene on the woods <EOS>', '<BOS> someone pours gasoline on a pile of blazing logs that are blanketed with an icelandic flag <EOS>'], 'vid434': ['<BOS> a panda is sitting on his bottom <EOS>', '<BOS> a panda is dancing on the ground <EOS>', '<BOS> a panda is laying under a suspended car tire and it s wriggling it s body <EOS>', '<BOS> a panda is dancing <EOS>', '<BOS> a panda is rocking on its butt with its hands raised <EOS>', '<BOS> a panda is dancing <EOS>', '<BOS> a panda bear laying down is moving around <EOS>', '<BOS> a panda wiggles his way across logs to reach a hanging tire <EOS>', '<BOS> a panda is scratching its back against wood <EOS>', '<BOS> a panda bear scratches its back on pieces of wood <EOS>', '<BOS> a panda is rubbing its back on a log <EOS>', '<BOS> an animal is playing <EOS>', '<BOS> a panda is laying on his back wiggling <EOS>', '<BOS> the panda scratched its back on the wood <EOS>', '<BOS> the panda is scratching his back <EOS>', '<BOS> a panda looks up at a tire swing <EOS>', '<BOS> the panda bear scratched his back on the wooden flooring <EOS>', '<BOS> a panda is rubbing it s back on the ground <EOS>', '<BOS> one animal is dancing <EOS>', '<BOS> a panda is scratching its back <EOS>', '<BOS> a panda is dancing <EOS>', '<BOS> a panda is lying on the floor <EOS>', '<BOS> a panda is laying on its back moving back and fourth <EOS>', '<BOS> animal itching itself <EOS>', '<BOS> a panda bear is scratching his back <EOS>', '<BOS> a panda is trying to catch a hanging tyre <EOS>', '<BOS> a dancing panda <EOS>', '<BOS> one panda is playing and dancing <EOS>', '<BOS> panda is dancing <EOS>', '<BOS> a panda is playing <EOS>', '<BOS> a panda is trying to catch a hanging tire <EOS>', '<BOS> a panda is rubbing its back on some wood planks <EOS>', '<BOS> the panda is scratching his back <EOS>', '<BOS> a panda bear is scratching it s back <EOS>', '<BOS> panda playing <EOS>'], 'vid439': ['<BOS> a boy drinks from a water fountain <EOS>', '<BOS> a boy is drinking from a fountain <EOS>', '<BOS> a boy is drinking from a water fountain <EOS>', '<BOS> a boy is drinking from a water fountain <EOS>', '<BOS> a boy is drinking from a water fountain <EOS>', '<BOS> a boy is drinking from a water fountain <EOS>', '<BOS> a boy is drinking from a water fountain <EOS>', '<BOS> a boy is drinking tap water <EOS>', '<BOS> a boy is drinking water from a fountain <EOS>', '<BOS> a boy takes a drink from a drinking fountain <EOS>', '<BOS> a kid takes a long drink from a water fountain <EOS>', '<BOS> a man is drinking water directly from the spout of a water dispenser <EOS>', '<BOS> a man is drinking water from the tap <EOS>', '<BOS> a young boy is drinking from a drinking fountain <EOS>', '<BOS> the boy got a drink from the water fountain <EOS>', '<BOS> the boy is drinking water at the fountain <EOS>', '<BOS> the boy drank water from the fountain <EOS>', '<BOS> the boy is drinking the water <EOS>', '<BOS> a boy is drinking out of a water fountain <EOS>', '<BOS> random church camp stuff <EOS>', '<BOS> a lady is cleaning her mouth from the tap water <EOS>', '<BOS> a guy drinking water from tap <EOS>', '<BOS> a boy is drinking water <EOS>', '<BOS> a boy is washing in his mouth <EOS>', '<BOS> a boy is getting a drink of water <EOS>', '<BOS> a man is drinking water from the tap without any vessel <EOS>', '<BOS> drinking the water <EOS>', '<BOS> a boy is getting a drink from a fountain <EOS>', '<BOS> a boy is drinking water at the water fountain <EOS>', '<BOS> a boy is drinking from a water fountain <EOS>', '<BOS> a man drinking water <EOS>', '<BOS> a man is drinking water <EOS>', '<BOS> one boy is drinking water from tap <EOS>', '<BOS> the boy is drinking from the water fountain <EOS>', '<BOS> boy is drinking the water <EOS>', '<BOS> a boy drinks from a a water fountain <EOS>'], 'vid1074': ['<BOS> a man shoots at a barrel <EOS>', '<BOS> a man fires an assault rifle into a barrel of water <EOS>', '<BOS> a man is firing ak47 rifle <EOS>', '<BOS> a man is rapidly firing bullets at a drum filled with water <EOS>', '<BOS> a man is shooting a barrel of water <EOS>', '<BOS> a man is shooting a gun at a metal garbage can <EOS>', '<BOS> a man is shooting a gun <EOS>', '<BOS> a man is shooting a rifle at a barrel of water <EOS>', '<BOS> a man is shooting a rifle at a barrel <EOS>', '<BOS> a man is shooting at a barrel full of water <EOS>', '<BOS> a man is shooting at a barrel of water <EOS>', '<BOS> a man shoots a drum several times <EOS>', '<BOS> a man shoots off a shotgun at a large liquid filled metal can <EOS>', '<BOS> a man shot a trashcan full of water <EOS>', '<BOS> a man shot a trashcan with liquid in it <EOS>', '<BOS> a person is firing an assault rifle at a barrel of water <EOS>', '<BOS> the man is shooting at a barrel filled with water <EOS>', '<BOS> a guy is walking with the gun <EOS>', '<BOS> a man in the woods firing an ak47 <EOS>', '<BOS> a man is firing a machine gun at a barrel <EOS>', '<BOS> a man shooting a gun at a barrel <EOS>', '<BOS> a man shooting <EOS>', '<BOS> a man with a ak47 <EOS>', '<BOS> a person ak 47 rapid fire <EOS>', '<BOS> man shooting on the drum filled with the water <EOS>', '<BOS> man shoots a barrel of water with a gun <EOS>', '<BOS> one man shooting a water drum <EOS>', '<BOS> a firing man <EOS>', '<BOS> a man firing an automatic rifle <EOS>', '<BOS> a man firing some shots with ak47 on a water drum <EOS>', '<BOS> a man is firing with gun <EOS>', '<BOS> a man is firing with the help of a gun <EOS>', '<BOS> a man is shooting at a drum of water with a gun <EOS>', '<BOS> a man is shooting on his target <EOS>', '<BOS> a man is shooting rapidly <EOS>', '<BOS> a man is shooting with a gun <EOS>', '<BOS> a man is shooting with the gun <EOS>', '<BOS> a man is shooting <EOS>', '<BOS> a man practicing ak47 rapid fire <EOS>', '<BOS> a man rapidly fire on a filled drum or water with his ak47 <EOS>', '<BOS> a man shooting a barrel of water <EOS>', '<BOS> a man shooting into a tank with a gun <EOS>', '<BOS> a man shoots at a barrel with water <EOS>', '<BOS> a man shoots many times at a water filled metallic drum with ak47 <EOS>', '<BOS> a man with a rifle walking in a forest <EOS>', '<BOS> an old man is shooting with a gun <EOS>', '<BOS> a man is rapidly shooting at a target <EOS>', '<BOS> a man shooting at water drum <EOS>', '<BOS> this man pulls a gun barrel with water <EOS>'], 'vid1070': ['<BOS> a man is cooking an egg <EOS>', '<BOS> a woman is cooking eggs <EOS>', '<BOS> cooking something <EOS>', '<BOS> someone is cooking an omelet <EOS>', '<BOS> someone preparing food <EOS>', '<BOS> a chef cooking an egg mixture in a skillet <EOS>', '<BOS> a chef cooking eggs <EOS>', '<BOS> a chef is making omelet in a fry pan <EOS>', '<BOS> a chef is preparing a dish in a frying pan <EOS>', '<BOS> a cook is preparing a perfect omelet <EOS>', '<BOS> a cook prepares an omelet in a pan <EOS>', '<BOS> a cook was making an omelet <EOS>', '<BOS> a man is cooking omllette with a couple of chopsticks <EOS>', '<BOS> a man is making a scrambled egg <EOS>', '<BOS> a man is making an omelet in a pan <EOS>', '<BOS> a man is making an omelette <EOS>', '<BOS> a man making a egg omelet <EOS>', '<BOS> a person scrambling and folding eggs in a pan <EOS>', '<BOS> a woman cooking scrambled eggs <EOS>', '<BOS> a woman is cooking scrambled eggs <EOS>', '<BOS> a woman is cooking <EOS>', '<BOS> a woman is making a omelet <EOS>', '<BOS> a woman is making some egg food <EOS>', '<BOS> a woman stirs the egg mixture on a pan using a pair of chopsticks and gently tosses the cooked omelet onto a plate <EOS>', '<BOS> a yellow omelette is cooked <EOS>', '<BOS> an omellette being cooked with chop sticks <EOS>', '<BOS> an omlett is being cooked <EOS>', '<BOS> frying omlete <EOS>', '<BOS> making an egg omelet <EOS>', '<BOS> man is scrambling eggs <EOS>', '<BOS> someone frying eggs in a pan <EOS>', '<BOS> someone is cooking a folded omelet <EOS>', '<BOS> someone is cooking eggs in a pan <EOS>', '<BOS> someone is making an omelette <EOS>', '<BOS> someone is using two wooden sticks to beat some eggs in a pan while they cook <EOS>', '<BOS> someone making an egg omelette <EOS>', '<BOS> the cook is cooking scrambled eggs <EOS>', '<BOS> the egg is being cooked by stirring it well and then folded on to a plate when done <EOS>', '<BOS> the women mixed the egg mixture <EOS>'], 'vid92': ['<BOS> someone is slicing a piece of raw fish into strips <EOS>', '<BOS> a person is slicing salmon <EOS>', '<BOS> a person is slicing salmon <EOS>', '<BOS> a person is cutting a meat into pieces <EOS>', '<BOS> a woman is slicing fish <EOS>', '<BOS> a woman is slicing fish <EOS>', '<BOS> a person is cutting a piece of salmon into slices <EOS>', '<BOS> someone is slicing some salmon <EOS>', '<BOS> a person is cutting fish <EOS>', '<BOS> someone is slicing meat <EOS>', '<BOS> a person is cutting some meat <EOS>', '<BOS> the lady sliced the raw fish meat <EOS>', '<BOS> the woman is slicing salmon <EOS>', '<BOS> a salmon steak is cut into slices <EOS>', '<BOS> a man cuts up some fish <EOS>', '<BOS> the lady sliced through the raw fish <EOS>', '<BOS> a woman is slicing a piece of fish <EOS>', '<BOS> a man is cutting slices of meat <EOS>', '<BOS> a man is cutting the fish <EOS>', '<BOS> a man slicing the meat <EOS>', '<BOS> someone is slicing a piece of salmon <EOS>', '<BOS> a person is making tamaki sushi <EOS>', '<BOS> the lady sliced the raw fish <EOS>', '<BOS> a man cooking his kichen <EOS>', '<BOS> the woman is slicing fresh salmon <EOS>', '<BOS> how to make temaki sushi <EOS>', '<BOS> someone slices fish <EOS>', '<BOS> the person is cooking <EOS>', '<BOS> the person is cutting the something <EOS>'], 'vid1472': ['an onion is being cut', 'a chef is slicing an onion', 'a chef sliced up an onion', 'a man cuts an onion into thin slivers with a cleaver', 'a man cuts an onion with a butcher s knife', 'a man is cutting an onion into slices', 'a man is cutting an onion', 'a man is cutting and onion', 'a man is cutting up an onion', 'a man is slicing an onion', 'a man is slicing an onion', 'a man is slicing one half of a peeled white onion using a large knife', 'a onion is being sliced', 'half an onion is sliced into wedges', 'the chef sliced the onion', 'the man is slicing onions', 'a chef demonstrates cutting onions', 'a chef showing how to cut an onion the proper way', 'a cooker cuts onions for chinese cooking', 'a man is cutting a onion', 'a man is cutting an onion', 'a man is cutting the onions with knife', 'a man is slicing an onion', 'a person chops an onion', 'a person is slicing an onion', 'he is onion cutting', 'one man preparing an onion for chinese cooking', 'preparing an onion part 1 for chinese cooking', 'preparing an onion part 1 for chinese cooking', 'someone preparing something', 'a chef cutting onions in small pieces with a beef cutting knife', 'a chef is chopping an onion', 'a chef is cutting onions for chinese cooking', 'a chef is slicing an onion', 'a man is chopping onions', 'a man is cutting an onion into pieces', 'a man is cutting an onion', 'a man is cutting onion', 'a man is cutting the onions', 'a man is slicing an onion', 'a man is slicing an onion into strips with a cleaver', 'a man is slicing an onion', 'a man is slicing an onion', 'a man is slicing an onion', 'a man is slicing an onion', 'a man is slicing an onion', 'a man is slicing an onion', 'a man is slicing some vegetables', 'a man slicing vegitable', 'a person is chopping an onion', 'a person is cutting the onion', 'a video on chinese cooking', 'making the little slices of onion', 'someone is slicing an onion', 'someone slices an onion into strips', 'somone is slicing an onion', 'the cheff is preparing the onion', 'the cook is slicing an onion', 'a man is slicing an onion', 'a man is slicing onion with a knife'], 'vid1477': ['a police car is chasing another car that spins out of control', 'a police car bumps into a car it s chasing and the car spins', 'a police vehicle is chasing another vehicle on the highway and the police vehicle bumps the other vehicle', 'a driver is evading police officers', 'police is chasing a car', 'a police car is forcing a car to spin out', 'a car spins completely around during a police pursuit', 'a police car is pitting another car', 'a cop is chasing a car', 'a police car uses the pit maneuver on another car', 'the police chased a car on the highway', 'the car is being chased by the police', 'a car rams another car and makes it spin out', 'the car led the police on chase on the highway', 'amazing video of car', 'car racing is happening', 'a car is chasing an another car', 'the two cars are going on the road', 'a cop car spins out another car', 'a car is running fast', 'a police car is chasing a vehicle on the highway', 'a police car is chaseing a car while it is trying to escape', 'all cars are on road', 'in this video', 'a cop car attempts to get another car to pull over by hitting it', 'a dashing another car', 'two car raceing on the road', 'a car spins and moves again', 'the car is being chased by the police', 'a police cruiser chases and spins out a car', 'car racing', 'a car hits another from behind'], 'vid1479': ['a man is peeling a shrimp', 'a woman peels a large shrimp over a bowl of water and then places the shrimp on what appears to be a paper towel', 'a person peels a shrimp', 'a woman is peeling a prawn', 'a woman peels a shrimp', 'a woman is peeling shrimp', 'a woman is preparing some fish', 'a woman is taking the shells off some prawns', 'a woman is peeling shrimp', 'a woman takes the shell off a piece of seafood', 'a woman is peeling shrimp', 'someone is peeling shrimp', 'a woman is peeling prawns', 'a woman is peeling a shrimp', 'the lady peeled the shrimp', 'the woman is peeling shrimp', 'a woman peels shrimp', 'the lady peeled the shrimp', 'a women is peeling a shrimp', 'a women is making noodles with her dog', 'a woman is peeling the skin off a shrimp', 'a woman peels a shrimp', 'a woman is removing the outer cover of a shrimp', 'how to make nabeyaki noodle', 'a woman skins shrimp', 'a lady is removing the shell of the prawn', 'the woman is peeling off the cover from meat', 'a woman is shelling shrimp', 'woman is peeling some seafood', 'a woman is peeling a shrimp', 'a woman peeling a large shrimp', 'a woman is peeling shrimp', 'somebody is opening the shell of something', 'a person is cooking prons', 'a person is cooking nabeyaki udon noodle', 'a shrimp is peeled', 'the woman is peeling shrimp', 'a woman is peeling shrimp', 'how to make nabeyaki udon noodle video', 'a woman is peeling shrimp', 'a woman demonstrates proper shrimp peeling technique', 'she is preparing the noodles', 'a delicious looking dish attractively served'], 'vid1579': ['a girl is playing violin', 'a lady played her violin', 'a woman is demonstrating as to how to play a violin', 'a woman is playing a violin', 'a woman is playing a violin', 'a woman is playing a violin', 'a woman is playing a violin', 'a woman is playing a violin', 'a woman is playing the violin', 'a woman is playing the violin', 'a woman is playing the violin', 'a woman is playing the violin', 'a woman is playing the violin', 'a woman is playing violin', 'a woman plays a violin', 'a woman plays the violin', 'the lady played her violin', 'the woman is playing the violin', 'a women performing violin', 'she is playing music', 'the women is playing violin', 'a woman is playing benzo', 'a lady is playing violin', 'lesson of violin', 'a woman is playing a violin', 'a woman is playing a piano', 'a lady is playing the guitar', 'a lady is playimg piano', 'a woman is playing a violin', 'a woman is playing the violin', 'a woman is playing a violin', 'a woman giving a violin lesson about vibrato on the violin', 'a woman is playing the violin', 'a woman is playing a violin', 'a woman is playing a violen', 'a woman plays the violin', 'a lady playing violin and singing', 'a lady playing a guitar', 'a women playing gitter', 'a woman explains playing violin', 'the lady is practising with the voilin', 'a woman is playing the violin', 'a woman is playing a violin', 'a woman is playing violin', 'a lady playing violin'], 'vid1571': ['two men hiding behind a bush are watching two women who are on the street', 'two men in a bush spy on two women', 'two men are staring at women behind a bush', 'a man and woman are concealed behind some bushes watching two women walk by', 'two men are hiding behind a bush', 'men are looking woman', 'two men are watching women from behind a bush', 'two men are hiding behind a bush', 'two men are spying on some women', 'two people are hiding behind a bush', 'two men are watching two women', 'two men facing their backs are hiding behind a bush and eyeing two women walking down the road ahead of them', 'two men hid behind a bush as the ladies passed by', 'the men were spying on the women', 'two men hide behind some bushes and watch two women', 'the men watched the ladies walk by', 'men are watching women from behind a bush', 'two men hide behind the bushes', 'two person watching two women', 'a couple is walking', 'a girl do something weird', 'the boys are doing the something', 'the men are spying on the women', 'the men are spying on the girls', 'men crouched behind a bush watch women walk by', 'the persons is seeing the girls', 'two mans are searching a girls', 'ywo mem are hiding back of the bushes', 'the person is seeing the girls'], 'vid1751': ['someone is peeling the skin off a cooked potato with their fingers', 'a person is peeling a potato', 'a woman is peeling a potato', 'a person is peeling a potato', 'a chef is peeling a potato', 'a woman is peeling potatoes', 'a woman is peeling potato', 'a person is peeling a potato with their hand', 'a woman is peeling a potato', 'a woman is peeling a potato', 'someone peels a potato', 'a woman is peeling a potato', 'a woman is peeling a boiled potato using her fingers', 'the lady peeled the skin off the boiled potatoes', 'the woman is peeling potatoes', 'boiled potatoes are peeled', 'a person peels a potato', 'the lady peeled cooked potatoes', 'a women making aloo bhaji puri', 'nice recipe thank youwhat i do is i cut raw potatoes and cut them into slices then after i braisesweat onions and garlicginger i add in my spices then my raw potatoes cubed and cook them', 'someone is peeling a potatoe', 'there is preparing the item', 'a lady is cooking vegetables', 'a lady is removing the potato layer', 'a man is peeling out the potato', 'a woman cooking his kichen', 'a woman is peeling a potato by hand', 'a woman is peeling a potato', 'a women is making the indian food', 'hok to make indian food', 'it s looks very delicious after cookingvery nice', 'make a aloo bhaji poori making a very easy method', 'someone peels boiled potatoes', 'the person is doing the something', 'the woman is peeling a potato'], 'vid1754': ['a band marches in a parade', 'a band of soldiers are parading on the road of a street', 'a group is marching down the street', 'a group of people dressed in white shirts or jackets are marching down the street', 'a parade moves down the street', 'an army is marching down the centre of a street', 'men are marching down a street', 'men are marching in formation', 'people in uniforms are marching down a road', 'people march down the road', 'soldiers are marching on a road', 'soldiers are marching on the street', 'the group marched down the street', 'the group marched in the parade', 'the men are marching in the street', 'a marching band walking', 'a group of people is march pasting in a ground', 'people were doing marchfast', 'a marching band is marching down the street', 'some mans are pradeing on road', 'men in uniforms are marching down the road', 'many mans are waking with the feneral', 'marchfast for the nation', 'march past', 'is is sultan johor mangkat', 'sultan johor mangkat', 'people are marching in the street', 'men are marching down a street', 'a band is marching down the street', 'men are marching in a parade', 'a group of people are marching down the street', 'uniformed people marching', 'people are marching down the street', 'a team of police men are marching on the road', 'soldiers are marching', 'a troop marching on a road', 'people in a parade are marching down the street', 'people marching down a street', 'people march down a street', 'a group is marching', 'a marching band is marching', 'men are marching', 'a group of people are marching down a street', 'person doing parade in some kind of ceremony', 'a passing out parade is going on', 'people who are in a parade are walking down the street', 'sultan johor mangkat', 'a military band marches on road', 'people are marching', 'a group of people march in formation', 'sultan johor mangkat witnessing the parade in rounds', 'uniformed men march in formation', 'a group of men doing marching on the road'], 'vid1756': ['someone cuts a circle out of a piece of pink paper and cuts into the center on one side with scissors', 'a person is cutting a piece of paper', 'a person cuts a circle from paper', 'someone is cutting a piece of paper into a circular shape', 'a person is cutting a piece of pink paper with a pair of scissors', 'a woman is cutting papers', 'a woman is cutting a piece of paper into a circular shape', 'a person with scissors is cutting a circle of pink paper', 'someone is cutting paper with scissors', 'someone is making a paper cone', 'a person cuts a pink paper', 'the person is using scissors to cut paper', 'someone is cutting a piece of paper with scissors', 'a person cuts some paper', 'someone is cutting a circle out of a pink sheet of paper', 'the man cut a circl out of the red paper', 'the person is cutting the paper', 'a person is cutting a circle in pink paper', 'a person is cutting a piece of paper', 'a person cutting a paper', 'someone is cutting a piece of paper', 'somebody is cutting a paper', 'a person is cutting some pink paper', 'a man cutting a paper in round shape with scissors', 'the lady cut a circle out of red paper', 'the person is cutting paper', 'anyone is cutting paper', 'a woman is cutting a paper with a scissors'], 'vid1759': ['a woman is dancing by a waterfall', 'a woman is dancing by a river with a waterfall', 'a woman is dancing in front of a waterfall', 'a girl is dancing', 'a woman dances in a river', 'a woman is dancing in front of a water fall', 'a woman is dancing by a waterfall', 'a woman is dancing near a waterfall', 'a woman dances in front of a waterfall', 'a woman is dancing in the water', 'a woman is dancing', 'a girl is dancing', 'a woman is dancing by the water', 'the girl danced on a rock in the river', 'the woman is dancing', 'a girl is dancing in front of a waterfall', 'a woman dances on an island', 'the lady danced on a rock by the waterfall', 'the girl is dancing', 'a girl is dancing near the water falls', 'the tamil film the actresses sing and dance the song addada mazhaida', 'a woman is dancing in front of a waterfall', 'a woman is dancing', 'a woman is dancing', 'a girl dancing near a river', 'song in karthic', 'song from paiya tamil movie', 'a girl dancing', 'a film short in which the actress is dancing near the water fall', 'thamana dancing in a beautiful red dress', 'a girl is dancing', 'a women dance in the rain', 'a woman is dancing in front of a waterfall', 'the woman is dancing', 'an indian woman is dancing', 'a girl is dancing', 'excellent meladoy song', 'a girl is dancing near a waterfall', 'a woman dances beside a waterfall', 'little red riding hood has become a teenager'], 'vid1206': ['a man is playing on drums', 'a man is playing drums', 'a man is playing a drum set', 'a man is playing drums', 'a man is playing drums', 'a man is playing the drums', 'a man is playing the drums', 'a man plays the drums', 'a man is playing some drums', 'a man is playing drums', 'someone is playing drums', 'a man is playing the drums', 'a man seated is playing a set of drums', 'the drummer played his drums', 'the man is playing the drums', 'a boy plays the drums', 'the man played his drums', 'the person is playing drums', 'a young man is playing the drums', 'a man is drumming', 'a man is playing the drums', 'the man is playing drums', 'a guy beating the drums', 'a man is playing the drums', 'a drummer showing his musical theory on the drums', 'a man playing guitar', 'you are a very good musician but just want a good singer', 'a boy is playing drums', 'the person is playing the music', 'a man plays drums', 'a person is playing the music', 'a man is singing a song', 'the man is playing the drums', 'a man is beating a drum set', 'a man plays a drum set'], 'vid117': ['<BOS> a small animal on a towel turns around and heads toward someone s hand <EOS>', '<BOS> a slow loris is walking <EOS>', '<BOS> a small brown furry animal crawls across a towel toward a man s hand that is resting on the towel <EOS>', '<BOS> a lori is slowly turning back <EOS>', '<BOS> a person observes a baby sloth <EOS>', '<BOS> a slow loris is walking <EOS>', '<BOS> a slow loris is turning around <EOS>', '<BOS> a small animal crawls slowly over a towel <EOS>', '<BOS> a monkey is walking on a towel <EOS>', '<BOS> an animal walks around <EOS>', '<BOS> a loris is walking on a towel <EOS>', '<BOS> a loris seated on an orange mat slowly turns around and walks towards a man s hand placed on the mat <EOS>', '<BOS> the little monkey crawled on the fabric <EOS>', '<BOS> the animal is walking <EOS>', '<BOS> an animal crawls into a person s hand <EOS>', '<BOS> a slow lori walks around a mat <EOS>', '<BOS> the mammal crawled toward the person s hand <EOS>', '<BOS> a person is playing with small animal <EOS>', '<BOS> animal was going inside side mans hand <EOS>', '<BOS> an animal is walking on a towel <EOS>', '<BOS> th man see the loire to move very slowly <EOS>', '<BOS> a bird is slowly walking <EOS>', '<BOS> a someone animal is searching something <EOS>', '<BOS> a small animal is walking on a towel <EOS>', '<BOS> a new born loris is moving slowly <EOS>', '<BOS> a small monkey playing <EOS>', '<BOS> an animal is walking around on a towel <EOS>', '<BOS> a mouse playing <EOS>', '<BOS> a loris slowly turning back and walking <EOS>', '<BOS> a slow loris is crawling around an orange blanket <EOS>', '<BOS> the person is catching the rat <EOS>', '<BOS> a lorie s baby is walking on table <EOS>', '<BOS> a 3 toed sloth is walking on a desk <EOS>', '<BOS> a slow loris walks on a table <EOS>', '<BOS> a small furry creature is slowly moving on an orange towel <EOS>', '<BOS> the loris is moving <EOS>', '<BOS> a loris is walking on a towel <EOS>'], 'vid294': ['<BOS> a woman is grating an onion into a stewlike mixture in a saucepan <EOS>', '<BOS> a woman is grating <EOS>', '<BOS> a woman is grating cheese over a pot of food <EOS>', '<BOS> a woman is grating cheese into a simmering pot <EOS>', '<BOS> a woman is scraping an apple to sauce <EOS>', '<BOS> a woman is grating ingedients into a stew <EOS>', '<BOS> a woman grates cheese into a pot <EOS>', '<BOS> a woman is grating onion <EOS>', '<BOS> a woman is grating cheese into a dish <EOS>', '<BOS> a woman is grating cheese into a pan <EOS>', '<BOS> a woman is grating cheese into a pot <EOS>', '<BOS> the lady grated onion into the pan <EOS>', '<BOS> the woman is grating an onion <EOS>', '<BOS> a person scrapes food into a mixture <EOS>', '<BOS> a woman grates onions <EOS>', '<BOS> the lady grated onion into the pan <EOS>', '<BOS> she is cooking something <EOS>', '<BOS> the japanese food is presented in the table for others seeing <EOS>', '<BOS> a lady is grating the cheese in to the pan <EOS>', '<BOS> the woman is grating the apple in the pan <EOS>', '<BOS> a women is preparing the curry <EOS>', '<BOS> japaness food nice <EOS>', '<BOS> a woman is grading cheese into a pan <EOS>', '<BOS> a woman shreds onion into a pot <EOS>', '<BOS> a woman coking katsu curry <EOS>', '<BOS> a woman is saying about the kastu curry <EOS>', '<BOS> the person is cooking the something <EOS>', '<BOS> a japanees woman cooking katsu curry <EOS>', '<BOS> a woman is grating ginger <EOS>', '<BOS> a man cooking his kichen <EOS>', '<BOS> the woman is grating cheese <EOS>', '<BOS> the cooking woman putting some thing in the curry <EOS>', '<BOS> a woman is grating an apple over a pan of food <EOS>', '<BOS> a woman grates apple into a sauce pan <EOS>'], 'vid291': ['<BOS> a woman sauteing chopped onions in a deep skillet adds chopped carrots <EOS>', '<BOS> a woman is cooking <EOS>', '<BOS> a woman is cooking food <EOS>', '<BOS> a woman poured a pan of a diced reddish vegetable into a skillet of diced onions <EOS>', '<BOS> a woman is frying onion pieces and adding shredded carrot <EOS>', '<BOS> a woman is adding ingredients to a skillet <EOS>', '<BOS> a woman is frying sliced onions <EOS>', '<BOS> a woman is mixing ingredients in a frying pan <EOS>', '<BOS> a woman mixes two ingredients in a hot pan <EOS>', '<BOS> a woman is sauteing vegetables <EOS>', '<BOS> someone is stirring contents in a pan <EOS>', '<BOS> a woman is cooking onions and carrots in a pan <EOS>', '<BOS> the lady added the grated carrots to the onions in the pan <EOS>', '<BOS> the woman is cooking onions and carrots <EOS>', '<BOS> a woman mixes up vegetables <EOS>', '<BOS> the lady stire fired the vegetables <EOS>', '<BOS> a woman is stirring vegetables <EOS>', '<BOS> the women is cooking the something <EOS>', '<BOS> a yummy japanese dish ready to be eaten <EOS>', '<BOS> a woman is demonstrating how to cook japanese curry <EOS>', '<BOS> the person is adding carrot to the pan <EOS>', '<BOS> the women preparing curry <EOS>', '<BOS> making of some japanese dish <EOS>', '<BOS> a woman is cooking <EOS>', '<BOS> an asian woman saut s vegetables while a dog sits on the counter next to her <EOS>', '<BOS> a lady is frying onion and then carrot for two to three minutes <EOS>', '<BOS> makeing the food <EOS>', '<BOS> a woman is frying some vegetables <EOS>', '<BOS> japan and china and korea language and culture with religion <EOS>', '<BOS> a person is cooking <EOS>', '<BOS> a lady is making katsu curry <EOS>', '<BOS> a women is making the food with her dog <EOS>', '<BOS> a man cooking his kichen <EOS>', '<BOS> a woman fries onion pieces until golden brown <EOS>', '<BOS> the woman is adding carrots to the pan <EOS>', '<BOS> anyone is making dish <EOS>', '<BOS> a woman is adding ingredients into a frying pan <EOS>', '<BOS> chef is cooking vegetables <EOS>'], 'vid1680': ['a man and a woman are kissing while standing', 'a man and woman are kissing', 'a man and woman are kissing passionately', 'a man and a woman is kissing each other', 'a man and a woman are kissing', 'a man and a woman are kissing', 'a man and woman is kissing each other', 'a man and a woman are kissing', 'a man and woman are kissing', 'a man and a woman kiss', 'a man and woman are kissing', 'two people are kissing', 'a man and woman are kissing', 'a man and a woman are hugging and kissing each other', 'the couple kissed passionately', 'the man and woman are kissing', 'a man and a woman kiss', 'the couple kissed passionately in the living room', 'the boy and girl is kissing', 'a lovers romance together', 'a man is kissing to a woman', 'a man and woman are kissing', 'the persons are kissing', 'a man and a woman are kissing', 'a man and woman are kissing', 'a man and woman are kissing', 'the couple kissed passionately in the living room', 'a man is fucking the women', 'the man and woman are kissing', 'a man and woman are kissing', 'romantic and feeling video', 'a man is kissing a girl', 'a man and woman kiss', 'a man and a woman kiss'], 'vid502': ['<BOS> a brown cow is eating grass in an open field <EOS>', '<BOS> a cow is eating grass <EOS>', '<BOS> a cow is eating grass <EOS>', '<BOS> a cow is eating grass <EOS>', '<BOS> a cow is eating grass <EOS>', '<BOS> a cow is eating grass <EOS>', '<BOS> a cow is eating grass <EOS>', '<BOS> a cow is eating grass <EOS>', '<BOS> a cow grazes on grass <EOS>', '<BOS> a white cow is grazing on a meadow <EOS>', '<BOS> a cow eating grass <EOS>', '<BOS> the cow chewed the grass <EOS>', '<BOS> the cow is eating grass <EOS>', '<BOS> a bull is eating grass <EOS>', '<BOS> the cow was eating grass <EOS>', '<BOS> a cow is eat some grass <EOS>', '<BOS> a cow is eating grass <EOS>', '<BOS> a cow is eating grass <EOS>', '<BOS> a cow is eating her food <EOS>', '<BOS> a cow is eating the grasses <EOS>', '<BOS> cow eating grass <EOS>', '<BOS> cow is eating the grass from ground <EOS>', '<BOS> one cow eating grass <EOS>', '<BOS> ox foodding <EOS>', '<BOS> the cow is eating grass <EOS>', '<BOS> a cow eating grass <EOS>', '<BOS> a cow eating grass <EOS>', '<BOS> a cow eating grass <EOS>', '<BOS> a cow eats grass <EOS>', '<BOS> a cow eats grass <EOS>', '<BOS> a cow eats some grass <EOS>', '<BOS> a cow feeding on green grass <EOS>', '<BOS> a cow grazing in the field <EOS>', '<BOS> a cow is eating grass in a field <EOS>', '<BOS> a cow is eating grass in a field <EOS>', '<BOS> a cow is eating grass in a meadow <EOS>', '<BOS> a cow is eating grass <EOS>', '<BOS> a cow is eating grass <EOS>', '<BOS> a cow is eating grass <EOS>', '<BOS> a cow is eating grass <EOS>', '<BOS> a cow is eating grass <EOS>', '<BOS> a cow is eating grass <EOS>', '<BOS> a cow is eating grass <EOS>', '<BOS> a cow is eating grass <EOS>', '<BOS> a cow is eating grass <EOS>', '<BOS> a cow is eating grass <EOS>', '<BOS> a cow is eating grass <EOS>', '<BOS> a cow is eating the grass <EOS>', '<BOS> a cow is eating the grass <EOS>', '<BOS> a cow is grazing <EOS>', '<BOS> a cow taking her meal and enjoying roaming in the fields <EOS>', '<BOS> the cow eating grass very neat <EOS>', '<BOS> the cow eating the grass <EOS>', '<BOS> the cow eats fresh green grass <EOS>', '<BOS> a cow is eating some grass <EOS>', '<BOS> a white cow is eating grasses <EOS>', '<BOS> the cow is eating grass <EOS>', '<BOS> the crow is eating grass <EOS>', '<BOS> a cow eating the grass <EOS>'], 'vid503': ['<BOS> a boy is riding a skateboard <EOS>', '<BOS> a skate boarder skating <EOS>', '<BOS> a boy is riding a skate board <EOS>', '<BOS> a boy is riding a skateboard <EOS>', '<BOS> a boy is skateboarding <EOS>', '<BOS> a boy is skating on a skateboard <EOS>', '<BOS> a boy is skating <EOS>', '<BOS> a boy skateboards in a lot <EOS>', '<BOS> a kid rides his skateboard <EOS>', '<BOS> a man is riding his skateboard from a covered stretch onto the road <EOS>', '<BOS> a man is walking on skates <EOS>', '<BOS> a skateboarder is riding a skateboard with the front wheels elevated off of the ground <EOS>', '<BOS> the boy is doing skateboard tricks <EOS>', '<BOS> the boy skateboarded across the floor <EOS>', '<BOS> the boy skated across the floor <EOS>', '<BOS> a boy is skateboarding <EOS>', '<BOS> some one is skating <EOS>', '<BOS> the boy is riding his skateboard <EOS>', '<BOS> a boy is skateboarding <EOS>', '<BOS> a boy is skateboarding <EOS>', '<BOS> a boy is skateboarding <EOS>', '<BOS> a man is skating <EOS>', '<BOS> a boy is lying on the floor <EOS>', '<BOS> a man was riding inside a woodward <EOS>', '<BOS> a kid is riding a skateboard <EOS>', '<BOS> a boy is riding a skateboard <EOS>', '<BOS> a boy doing skills on his own scouter <EOS>', '<BOS> a kid is skate boarding <EOS>', '<BOS> a young man rides a skateboard off of a curb <EOS>', '<BOS> a boy is scaketing <EOS>', '<BOS> young guys at a skateboard park doing tricks <EOS>', '<BOS> a man ragged by many youngsters <EOS>', '<BOS> one boy is skating <EOS>', '<BOS> a boy is skateboarding <EOS>', '<BOS> a boy is skateboarding <EOS>', '<BOS> a guy is scating on a scate board <EOS>', '<BOS> a skateboarding trick performed under a canopy <EOS>', '<BOS> a boy is skating with a skate board <EOS>', '<BOS> a boy is doing sketting <EOS>', '<BOS> a boy is doing scating <EOS>', '<BOS> a boy performing serious acts on a skateboard <EOS>', '<BOS> a teenaged boy skateboards <EOS>', '<BOS> a boy is skating <EOS>', '<BOS> the boy rode his skateboard across the stage <EOS>', '<BOS> a man is scatting around the woodward <EOS>', '<BOS> the first day of woodward <EOS>', '<BOS> the boy is doing skateboard tricks <EOS>', '<BOS> a boy is riding a skateboard <EOS>', '<BOS> a skate boarder performing a wheelie <EOS>', '<BOS> a skateboarder approaches a halfpipe <EOS>', '<BOS> the boy rode his skateboard across the stage <EOS>'], 'vid1376': ['someone pours a reddish liquid into a saucepan of sausage from a large glass jug', 'a man pours wine in a pot', 'a man is pouring wine into a pot', 'someone is pouring a dark liquid into a pan containing several sausages', 'a person is adding souse in the pot', 'a chef pours wine into a sausage pot', 'a person is adding red wine to a pot that is simmering on a stove', 'someone is pouring wine into a pot', 'a man is pouring sauce to a pan', 'a man is adding wine to a pan with meat', 'a man is pouring some wine into a pan', 'someone is pouring wine over boiling sausage', 'someone is pouring something into a pot', 'a person is pouring wine into a pot', 'a man pours wine from a bottle into a pan in which sausages are being cooked', 'the cook pouring liquid over the sausages', 'a man pours juice into a pot', 'the man poured wine into the pot of sausages', 'a person making spaghetti sauce', 'cooking with jack show presenting how to make spaghetti sauce', 'someone is pouring wine into a pot', 'the person is cooking', 'a chef is preparing food', 'a man cooking his kichen', 'a man is pouring some wine into a pan', 'a man is pouring the sauce in to the hot dog', 'a man is pouring wine in a pot', 'a man is pouring wine onto sausages in a pan', 'a person coking', 'a person is pouring liquid into a pan on the stove', 'a person make the hot dogs', 'a person pours wine into a pot', 'a woman is pouring cider into a pan of cooking meat', 'how to make spaghtti sauce video', 'the man is pouring wine into the pot'], 'vid1276': ['someone is scanning through computer files and labels a folder lol', 'a man creates a folder on a computer', 'a person makes a folder on a computer', 'a person is navigating their computer', 'a man is creating a folder', 'a person is making a new file folder on their computer', 'a person is creating a folder on a computer', 'a person opens a file on their computer', 'someone is using a computer', 'someone is playing on a computer', 'a how to computer tutorial is being shown', 'using a desktop computer', 'someone created a new folder called lol', 'the person is making a new file folder on the computer', 'a man is talking while moving the computer mouse and opening menus', 'a person creates a new folder on a computer', 'someone created a new folder on the computer', 'some one is operating system', 'a person operating a computer', 'someone is working on the computer', 'how to creat new folder in the my document', 'a mouse is moving on a computer screen', 'somebody is moving the mouse of the computer', 'the person is operating the coumputer', 'somebody is working in a computer', 'someone is opening a folder on their computer', 'featuring how to make new folder', 'someone is demonstrating a computer operation', 'lol is entered on a computer in a new folder', 'makeing a new folder', 'a demonstration of a comuter appliction is under progress', 'operating computer', 'someone is working on computer', 'a person showing the applications of the computer', 'the person is using a computer', 'a class of funny computer prank', 'operating computer', 'today you will learn how to create a new folder in my documents'], 'vid1101': ['<BOS> a tiger runs out of the jungle <EOS>', '<BOS> a tiger is running forward in slow motion <EOS>', '<BOS> a tiger is running in slow motion <EOS>', '<BOS> a tiger is running in slow motion <EOS>', '<BOS> a tiger is running in slow motion <EOS>', '<BOS> a tiger is running in slow motion <EOS>', '<BOS> a tiger is running in some grass <EOS>', '<BOS> a tiger is running in the grass <EOS>', '<BOS> a tiger is running in the wood <EOS>', '<BOS> a tiger is running through a field <EOS>', '<BOS> a tiger is running through grass <EOS>', '<BOS> a tiger is running <EOS>', '<BOS> a tiger is running <EOS>', '<BOS> a tiger is running <EOS>', '<BOS> a tiger is running <EOS>', '<BOS> a tiger runs in grassland in slow motion <EOS>', '<BOS> a tiger runs in slow motion <EOS>', '<BOS> a tiger runs in slow motion <EOS>', '<BOS> a tiger runs <EOS>', '<BOS> the tiger came running from around the bend <EOS>', '<BOS> the tiger is running <EOS>', '<BOS> the tiger ran around the corner <EOS>', '<BOS> a tiger is runing <EOS>', '<BOS> a tiger is runnin in field <EOS>', '<BOS> a tiger is running fast <EOS>', '<BOS> a tiger runing their <EOS>', '<BOS> the dangerous chase <EOS>', '<BOS> the tiger running <EOS>', '<BOS> tiger runing out from the bushes <EOS>', '<BOS> a short clip of a tiger from the bollywood movie kaal <EOS>', '<BOS> a tiger emerges from the bush running <EOS>', '<BOS> a tiger features in the movie kaal <EOS>', '<BOS> a tiger footage in the hindi movie kaal <EOS>', '<BOS> a tiger is running fastly <EOS>', '<BOS> a tiger is running through a field <EOS>', '<BOS> a tiger is running <EOS>', '<BOS> a tiger is running <EOS>', '<BOS> a tiger is running <EOS>', '<BOS> a tiger is running <EOS>', '<BOS> a tiger is running <EOS>', '<BOS> a tiger is running <EOS>', '<BOS> a tiger is walking in the forest <EOS>', '<BOS> a tiger running to a man <EOS>', '<BOS> one wild tiger running for hunt <EOS>', '<BOS> the tiger is running <EOS>', '<BOS> tiger is chasing <EOS>', '<BOS> this is the wildest tiger movie ever made <EOS>', '<BOS> tiger running in the movie <EOS>'], 'vid688': ['<BOS> a small dog playing in the grass <EOS>', '<BOS> a dog is playing with a bowl <EOS>', '<BOS> a puppy is playing in the grass <EOS>', '<BOS> a puppy is playing in the grass <EOS>', '<BOS> a puppy is playing on grass with a small plastic container <EOS>', '<BOS> a puppy is playing with a bucket <EOS>', '<BOS> a puppy is playing with a glass <EOS>', '<BOS> a puppy is playing with a plastic bowl <EOS>', '<BOS> a puppy is playing with a plastic bowl <EOS>', '<BOS> a puppy is playing with a plastic container <EOS>', '<BOS> a puppy is playing with a tin <EOS>', '<BOS> a puppy is playing with an empty container <EOS>', '<BOS> a puppy is romping around a yard with a plastic container in his mouth <EOS>', '<BOS> a puppy plays with a plastic container <EOS>', '<BOS> a puppy plays with a small plastic tub <EOS>', '<BOS> the dog is playing with a plastic container <EOS>', '<BOS> the dog played with a bucket in the yard <EOS>', '<BOS> the dog played with the container on the grass <EOS>', '<BOS> a small dog is playing with the cup in the garden <EOS>', '<BOS> a dog carrying a bucket <EOS>', '<BOS> a dog is playing <EOS>', '<BOS> a dog is playing in the garden <EOS>', '<BOS> a puppy is playing in it s yard <EOS>', '<BOS> a puppy is playing with the cup <EOS>', '<BOS> a puppy is playing with the empty cup <EOS>', '<BOS> a puppy playing in a park <EOS>', '<BOS> a puppy playing with a papper cup <EOS>', '<BOS> a puppy walking in the park <EOS>', '<BOS> puppy is paying in the garden <EOS>', '<BOS> the dog trying to open the box <EOS>', '<BOS> a dog is playing with a bowl <EOS>', '<BOS> a dog is playing with a bowl <EOS>', '<BOS> a dog is playing with a bucket <EOS>', '<BOS> a dog is playing with a cup <EOS>', '<BOS> a dog is playing with a plastic container <EOS>', '<BOS> a dog is playing with a plastic container <EOS>', '<BOS> a dog is playing with a small bucket outside <EOS>', '<BOS> a dog is playing <EOS>', '<BOS> a dog is playing <EOS>', '<BOS> a puppy is playing <EOS>', '<BOS> a puppy is playing with a plastic bowl <EOS>', '<BOS> a puppy is playing with a plastic container in the grass <EOS>', '<BOS> a puppy is playing with a plastic container <EOS>', '<BOS> a puppy is playing with a plastic tub <EOS>', '<BOS> a puppy is playing with box on grass <EOS>', '<BOS> a puppy is playing <EOS>', '<BOS> a puppy is playing <EOS>', '<BOS> a puppy is playing <EOS>', '<BOS> a puppy playing with a bucket <EOS>', '<BOS> a puppy playing with a icecream cup <EOS>', '<BOS> a puppy playing with a plastic dish <EOS>', '<BOS> a puppy plays with an empty container <EOS>', '<BOS> the cat playing with small container on the grass <EOS>', '<BOS> the dog is playing with a plastic container <EOS>', '<BOS> a dog is playing the plastic box <EOS>', '<BOS> puppy is playing with pet jar and it very funny too <EOS>', '<BOS> a puppy is playing with mt box <EOS>'], 'vid1109': ['<BOS> a baby monkey is eating <EOS>', '<BOS> a lemur is chewing food <EOS>', '<BOS> a lemur is eating <EOS>', '<BOS> a miniature monkey eats <EOS>', '<BOS> a monkey is chewing food <EOS>', '<BOS> a monkey is chewing something <EOS>', '<BOS> a monkey is eating something <EOS>', '<BOS> a small monkey is chewing its mouth <EOS>', '<BOS> a small monkey with weird eyes eats <EOS>', '<BOS> a tarsier is eating <EOS>', '<BOS> a tarsier is staring while chewing on food <EOS>', '<BOS> a tarsier monkey is chewing <EOS>', '<BOS> a tarsier monkey is eating some food <EOS>', '<BOS> a wierd animals chews <EOS>', '<BOS> an animal is eating <EOS>', '<BOS> the loris is eating and staring <EOS>', '<BOS> the monkey ate something <EOS>', '<BOS> the monkey sat on a brance and munched on a stick <EOS>', '<BOS> the monkey with big eyes is eating <EOS>', '<BOS> people looking at world s smalest tarsier <EOS>', '<BOS> one person shows his pet monkey <EOS>', '<BOS> the small monkey is eating something <EOS>', '<BOS> a tarsier chews some food <EOS>', '<BOS> a monkey is action something <EOS>', '<BOS> an animal is eating <EOS>', '<BOS> the monkey is munching something <EOS>', '<BOS> an animal is chewing food <EOS>', '<BOS> a pet monkey is chewing something <EOS>', '<BOS> the animal is eating <EOS>', '<BOS> a monkey with huge eyes is eating <EOS>', '<BOS> so cute while it s eating <EOS>', '<BOS> a tarsier monkey is eating <EOS>', '<BOS> an animal is eating something <EOS>', '<BOS> a boy playing with some kind of lemur <EOS>', '<BOS> a unique monkey eating something <EOS>', '<BOS> a pet monkey philippine tarsier <EOS>', '<BOS> a wideeyed lemur is eating <EOS>', '<BOS> the lemure is eating <EOS>', '<BOS> a very monkey is eating <EOS>', '<BOS> very cute and smallest monkey <EOS>', '<BOS> a tarsier is chewing something <EOS>'], 'vid1294': ['someone is slicing a carrot into thin slices', 'a person cutting a meat with a sharp knife', 'a carrot is being sliced', 'a carrot is sliced up', 'a man cuts a carrot', 'a man cuts off all sides of a carrot piece', 'a man is cutting some carrots', 'a man is slicing a carrot', 'a man is slicing carrots', 'a person is slicing a carrot into pieces', 'a person is slicing a carrot into small thin strips', 'a person sliced up a carrot', 'a piece of carrot is cut into long slices', 'an individual slices a carrot', 'someone is cutting carrots', 'someone sliced a carrot', 'the person is slicing carrots', 'a man dicing a carrot in the kitchen', 'a man slices up a carrot into strips', 'a man is cutting acarrot', 'a man cutting the carrot', 'a person is cutting carrots', 'someone making dice of a carrot', 'a man cutting to the carrots in a different way', 'a person is cutting a carrot into flat strips', 'a men cuting vegetable', 'a cook is slicing a carrot lengthwise', 'someone cutting carrot into thin slices', 'a woman is cutting open a carrot', 'someone is cutting a carrot into strips', 'a man is slicing a carrot', 'a person is slicing a carrot into strips', 'chopping carrots maybe to prepare pasta', 'a man is showing how to cut up a vegetable', 'a person slices a carrot', 'a man is cutting a carrot using knife', 'a man is cutting carrots', 'a man slices carrots into thin strips with a large knife', 'a man is slicing a carrot', 'a man is slicing a carrot', 'a man is slicing some carrots', 'a man is slicing a carrot', 'a man is cutting a carrot', 'a person is slicing a carrot', 'a chef slicing a carrot', 'a demonstration on how to shape a carrot like a dice through a knife', 'a man teaches proper dicing techniques for carrots', 'someone is slicing a carrot on a cutting board', 'a man is cutting a carrot', 'a man is slicing some carrot', 'a man is slicing some vegitable', 'a person is demonstrating how to julienne carrots', 'a man explains how to chop carrots', 'the man is slicing carrots', 'a man is slicing a carrot', 'a man is cutting a carrot', 'someone is carefully slicing a carrot into sections', 'a man is slicing carrots', 'the person is cutting the caret', 'a man is cutting a carrot', 'a woman is slicing carrot', 'a man is slicing some carrots'], 'vid1677': ['a woman hugs a small boy then sets him down on the floor', 'a woman is hugging a boy', 'a woman is hugging a boy', 'a woman is hugging a toddler', 'a teenage girl is hugging a little boy', 'a woman is hugging her son', 'a woman is hugging her child', 'a girl hugs a little boy', 'two people are hugging', 'a woman is hugging a boy', 'a woman is hugging a child', 'the girl is hugging the baby', 'a woman hugs a little boy', 'a woman is hugging a little boy', 'the lady hugged her little boy close to her', 'the mother is hugging the baby', 'a lady is playing with child', 'a girls is hugging a little boy', 'the baby is doing the something', 'a woman is hugging a little boy', 'one lady and child are standing together', 'the girl hugged the little boy tightly', 'whitney is hugging her son in her house', 'the woman is hugging the boy', 'a young woman hugs a little boy'], 'vid750': ['<BOS> two men each take a turn playing chess when a third man scoots the chess pieces with his hand <EOS>', '<BOS> men are playing chess <EOS>', '<BOS> men are playing chess <EOS>', '<BOS> two men are playing chess when a third man who had been watching reaches out and moves the pieces on the board <EOS>', '<BOS> mens are playing a chess <EOS>', '<BOS> men are playing a game of chess <EOS>', '<BOS> a group of men are playing a game of chess <EOS>', '<BOS> two men are playing chess <EOS>', '<BOS> three men are playing chess <EOS>', '<BOS> three men are pushing chess pieces around a board <EOS>', '<BOS> two men are playing chess <EOS>', '<BOS> two men are playing chess <EOS>', '<BOS> people are playing chess <EOS>', '<BOS> three men are playing chess <EOS>', '<BOS> a man messed up the chess game the two men were playing <EOS>', '<BOS> the men are playing a game of chess <EOS>', '<BOS> two men are playing chess and another is disturbing the board <EOS>', '<BOS> two people push chess pieces around on a board <EOS>', '<BOS> the men played chess <EOS>', '<BOS> chess players <EOS>', '<BOS> great <EOS>', '<BOS> some people playing chess <EOS>', '<BOS> someone playing chess in the room <EOS>', '<BOS> three men are playing chess <EOS>', '<BOS> three men are playing chess <EOS>', '<BOS> a group of men playing chess <EOS>', '<BOS> a man eating food <EOS>', '<BOS> men are playing chess <EOS>', '<BOS> the men are playing chess <EOS>', '<BOS> three men are playing chess <EOS>', '<BOS> two men are playing chess when a third man interrupts their game <EOS>', '<BOS> the person is eating the pizza <EOS>', '<BOS> three persons are playing the cheese <EOS>'], 'vid207': ['<BOS> two women are sweeping the water out the door of a flooded room <EOS>', '<BOS> people are sweeping water out of a house <EOS>', '<BOS> people are sweeping water out of a house <EOS>', '<BOS> people are sweeping sludge from a home <EOS>', '<BOS> a couple of people are sweeping flood water out of a home <EOS>', '<BOS> a group of people are sweeping water out of a house <EOS>', '<BOS> peoples are cleaning house <EOS>', '<BOS> a few people are sweeping muddy water out of a flooded home <EOS>', '<BOS> some people are sweeping water <EOS>', '<BOS> men are sweeping water out of a house <EOS>', '<BOS> someone is sweeping water out of a home <EOS>', '<BOS> two people are sweeping mud from their house <EOS>', '<BOS> two people using mops are brushing away dirty water from the floor of a room <EOS>', '<BOS> the people swept the flood waters out of their home <EOS>', '<BOS> the people are cleaning the floor of the house <EOS>', '<BOS> two people sweep out a flooded house <EOS>', '<BOS> people swept the flood waters out of their home <EOS>', '<BOS> many persons are cleaning the house <EOS>', '<BOS> people are sweeping mud out of their home <EOS>', '<BOS> people cleaning up house <EOS>', '<BOS> the girl is cleaning the house <EOS>', '<BOS> the two persons are cleaning the house <EOS>', '<BOS> a man pulling car <EOS>', '<BOS> a persons cleaning the floor <EOS>', '<BOS> some people are sweeping water out <EOS>', '<BOS> that was cleaning the house <EOS>', '<BOS> the people are cleaning the floor <EOS>', '<BOS> two persons cleaning <EOS>', '<BOS> two women are sweeping mud from a house <EOS>', '<BOS> guys are cleaning the room <EOS>', '<BOS> two men are doing cleaning of the room <EOS>'], 'vid205': ['<BOS> a young man is playing an acoustical guitar <EOS>', '<BOS> a person is playing a guitar <EOS>', '<BOS> a man is playing an acoustic guitar <EOS>', '<BOS> a boy is playing a guitar <EOS>', '<BOS> a kid is playing a guitar <EOS>', '<BOS> a boy is playing the guitar <EOS>', '<BOS> a boy is playing a guitar <EOS>', '<BOS> a man is playing guitar <EOS>', '<BOS> a man is playing a guitar <EOS>', '<BOS> a man is playing a guitar <EOS>', '<BOS> a boy is playing guitar <EOS>', '<BOS> a boy is playing guitar <EOS>', '<BOS> a man is playing a guitar <EOS>', '<BOS> the boy played his guitar <EOS>', '<BOS> the man is playing the guitar <EOS>', '<BOS> a man play a guitar <EOS>', '<BOS> the boy played the guitar <EOS>', '<BOS> a person is playing music <EOS>', '<BOS> the boy is playing the guitar <EOS>', '<BOS> a person is playing the guitar <EOS>', '<BOS> the guiter playing <EOS>', '<BOS> tghe man is sing and play guitor <EOS>', '<BOS> a guy playing musical instrument <EOS>', '<BOS> a man is playing a guitar <EOS>', '<BOS> a man is playing some instrument <EOS>', '<BOS> a guy is playing the guitar <EOS>', '<BOS> a man is playing guitar <EOS>', '<BOS> a man is playing guitar <EOS>', '<BOS> strumming on my guitar <EOS>', '<BOS> guitar played by a professional in take me home <EOS>', '<BOS> a boy is singing and playing guitar <EOS>', '<BOS> a man playing a guitar <EOS>', '<BOS> a man singing a song <EOS>', '<BOS> a young man plays the guitar <EOS>', '<BOS> the man is playing the guitar <EOS>', '<BOS> a boy is playing instrument <EOS>'], 'vid756': ['<BOS> a boy is playing piano <EOS>', '<BOS> a man is playing a keyboard <EOS>', '<BOS> a man is playing a piano <EOS>', '<BOS> a man is playing a piano <EOS>', '<BOS> a man is playing a piano <EOS>', '<BOS> a man is playing a piano <EOS>', '<BOS> a man is playing a piano <EOS>', '<BOS> a man is playing piano <EOS>', '<BOS> a man is playing piano <EOS>', '<BOS> a man is playing the piano <EOS>', '<BOS> a man is playing the piano <EOS>', '<BOS> a man plays a piano <EOS>', '<BOS> a man plays the piano <EOS>', '<BOS> a man plays the piano <EOS>', '<BOS> a man seated is playing a piano <EOS>', '<BOS> a young man plays the piano <EOS>', '<BOS> the man is playing the piano <EOS>', '<BOS> the man played the piano <EOS>', '<BOS> the man played the piano <EOS>', '<BOS> david sides playing piano <EOS>', '<BOS> a man playing a piano <EOS>', '<BOS> a person is playing music <EOS>', '<BOS> the person is playing the key board <EOS>', '<BOS> a young man playing the piano <EOS>', '<BOS> a man is playing the piano <EOS>', '<BOS> the man is playing the piano <EOS>', '<BOS> a man is playing a piano <EOS>', '<BOS> the person is playing the key board <EOS>', '<BOS> a man is playing keyboard <EOS>', '<BOS> a man is playing the piano <EOS>', '<BOS> a man is playing piano <EOS>', '<BOS> a man is playing piano <EOS>', '<BOS> a man is playing a piano <EOS>', '<BOS> a young man plays the piano <EOS>', '<BOS> a man is playing a piano <EOS>', '<BOS> a man is playing a piano <EOS>', '<BOS> a man is playing music on a piano <EOS>', '<BOS> a man playing pianon with soft hand <EOS>', '<BOS> the man played the piano <EOS>', '<BOS> a guy is playing a piano <EOS>', '<BOS> a man is playing piano <EOS>', '<BOS> he is playing phiyano <EOS>', '<BOS> a men is playing the piano <EOS>', '<BOS> a man is playing the piano <EOS>', '<BOS> very super piano music video <EOS>', '<BOS> a man is playing piano <EOS>'], 'vid209': ['<BOS> two girls are talking back and forth on cell phones <EOS>', '<BOS> women are talking on phones <EOS>', '<BOS> two teenage girls are talking on the telephone <EOS>', '<BOS> women are talking on the phone <EOS>', '<BOS> two girls are talking on the telephone to each other <EOS>', '<BOS> two girls are talking on their mobiles <EOS>', '<BOS> a couple of teenage girls are talking to each other on cell phones <EOS>', '<BOS> women are talking through phone <EOS>', '<BOS> two young woman are talking on the phone to each other <EOS>', '<BOS> two girls are talking to each other on phones <EOS>', '<BOS> two girls talk on cellphones <EOS>', '<BOS> two girls are speaking on a cell phone <EOS>', '<BOS> two girls are talking on the phone <EOS>', '<BOS> a girl is talking to her friend on the phone <EOS>', '<BOS> the girls are talking on the phone <EOS>', '<BOS> two girls are talking on cell phones <EOS>', '<BOS> two women talk on the phone <EOS>', '<BOS> the girl is talking the phone <EOS>', '<BOS> the two ladies are talking with cell phone <EOS>', '<BOS> two girls are talking on the phone <EOS>', '<BOS> two females get together and dancing <EOS>', '<BOS> two girls are talking on the phone <EOS>', '<BOS> two girls are talking on the phone <EOS>', '<BOS> a girl talking in phone with another girl <EOS>', '<BOS> the girl is doing phone to another woman <EOS>', '<BOS> a woman is operating the phone <EOS>', '<BOS> the girls are talking on the phone <EOS>', '<BOS> two girls are talking on their cell phones to each other <EOS>', '<BOS> two girls are talking on the phone to each other <EOS>'], 'vid208': ['<BOS> a girl cuts the tip off a plastic icing squeeze tube with scissors <EOS>', '<BOS> a girl cuts a paper bag <EOS>', '<BOS> a girl is cutting plastic <EOS>', '<BOS> a girl cuts a piece of wax paper <EOS>', '<BOS> a girl is cutting a piece of plastic <EOS>', '<BOS> a woman is cutting a plastic sheet <EOS>', '<BOS> a young girl with scissors is cutting plastic <EOS>', '<BOS> a girl cuts a piece of plastic <EOS>', '<BOS> a girl is cutting a piping bag <EOS>', '<BOS> a girl cuts plastic <EOS>', '<BOS> a girl is cutting a pastry bag <EOS>', '<BOS> a teenage girl cuts off the tip of an icing bag using a pair of scissors <EOS>', '<BOS> the girl cut a frosting bag <EOS>', '<BOS> the girl cut the bottom of the plastic bag <EOS>', '<BOS> a girl is cutting a plastic bag to make frosting tool <EOS>', '<BOS> a woman cuts a piece of plastic <EOS>', '<BOS> the girl cut the tip of the icing bag <EOS>', '<BOS> a lady is cutting the paper <EOS>', '<BOS> a girl is cutting the corner off a plastic bag <EOS>', '<BOS> the girls make ginger bread <EOS>', '<BOS> a lady is cutting the plastic using scissors <EOS>', '<BOS> a women is cutting the cover <EOS>', '<BOS> a girl is cutting a plastic paper <EOS>', '<BOS> a little girl is cutting a piece of plastic <EOS>', '<BOS> a girl is making a piping bag for icing <EOS>', '<BOS> a girl is cutting polithin <EOS>', '<BOS> a girl is cutting some plastic with scissors <EOS>', '<BOS> two girls coking ginger bread <EOS>', '<BOS> a girl is cutting a polythin cover <EOS>', '<BOS> a girl cutting a cover <EOS>', '<BOS> a girl is saying how to make gingerbread halloween haunted house <EOS>', '<BOS> a person is cuting the cover <EOS>', '<BOS> a girl cutting paper with a scissor <EOS>', '<BOS> a girl is cutting plastic <EOS>', '<BOS> a girl cuts a hole in a pastry bag <EOS>', '<BOS> make a our ginger bread hollowen haunted house <EOS>', '<BOS> the girl is cutting a platic bag <EOS>', '<BOS> a girl is cutting the end off a pastry bag <EOS>', '<BOS> a woman cuts the tip off a cake decorating bag <EOS>'], 'vid590': ['<BOS> a dog is running and barking at his image in a walled mirror <EOS>', '<BOS> a dog is barking at himself in a mirror <EOS>', '<BOS> a dog is barking at a mirror <EOS>', '<BOS> a dog is playing with it s image in a mirror <EOS>', '<BOS> a dog is fighting with its merrier image <EOS>', '<BOS> a dog is barking at itself in a mirror <EOS>', '<BOS> a puppy is playing in front of a mirror <EOS>', '<BOS> a dog is amusing himself with his reflection in the mirror <EOS>', '<BOS> a puppy is playing with it s reflection <EOS>', '<BOS> a dog is fighting its own reflection <EOS>', '<BOS> a dog is jumping and barking at a mirror <EOS>', '<BOS> a pug standing in front of a mirror is playing with its own image <EOS>', '<BOS> the puppy is looking at the mirror <EOS>', '<BOS> a dog is watching himself in the mirror <EOS>', '<BOS> a dog attacks its reflection in the mirror <EOS>', '<BOS> a dog is attacking its image in the mirror <EOS>', '<BOS> the dog are playing <EOS>', '<BOS> two dogs are fighting with each other <EOS>', '<BOS> a dog is playing with himself <EOS>', '<BOS> a dog is atacking itself in the mirror <EOS>', '<BOS> a dog looking on the mirror can be gaming <EOS>', '<BOS> the dog is barking and playing with his own reflection on the mirror <EOS>', '<BOS> a dog is playing with his image in the mirror <EOS>', '<BOS> a dog is attacking his reflection in a mirror <EOS>', '<BOS> there are two puppy playing with each other <EOS>', '<BOS> the dog tried to get the dog in the mirror <EOS>', '<BOS> the dog is barking at itself in the mirror <EOS>'], 'vid1198': ['<BOS> a man is pouring seasoning in a plastic container <EOS>', '<BOS> a person is adding pepper to a container filled with water <EOS>', '<BOS> a man is pouring seasoning into a square plastic container <EOS>', '<BOS> a person is adding powder in the box <EOS>', '<BOS> a cook seasons some water <EOS>', '<BOS> a man is pouring seasoning into a bowl of water <EOS>', '<BOS> a man is adding something to water <EOS>', '<BOS> a man is adding spices to a container of water <EOS>', '<BOS> a man is seasoning a dish of sauce <EOS>', '<BOS> a man puts seasoning in a bowl of water <EOS>', '<BOS> seasonings are being put into a plastic bowl <EOS>', '<BOS> someone pours seasoning into water <EOS>', '<BOS> a man is sprinkling seasoning into a dish <EOS>', '<BOS> a man sprinkles gourmet seasoning from a bottle to water filled in a plastic container <EOS>', '<BOS> the man seasoned the water <EOS>', '<BOS> the man is seasoning the marinade <EOS>', '<BOS> a man is pouring spices into a bowl of water <EOS>', '<BOS> a man makes some sauce for his meat <EOS>', '<BOS> the man added seasoning to water in a bowl <EOS>', '<BOS> learn to make an instant marinade sause <EOS>', '<BOS> the person is cooking something <EOS>', '<BOS> a man sprinkles seasoning into a bowl of water <EOS>', '<BOS> a man is preparing to marinate some chicken <EOS>', '<BOS> a man is pouring spices <EOS>', '<BOS> a man is putting the pepper on the liquid <EOS>', '<BOS> a man is pouring spices in a bowl of water <EOS>', '<BOS> a man pouring sauce into a small container <EOS>', '<BOS> a man is putting some seasoning into water <EOS>', '<BOS> a video on how to make lazy man s marinade <EOS>', '<BOS> a man sprinkling some kind black salt on some dish <EOS>', '<BOS> a man is sprinkling spices <EOS>', '<BOS> a man cooking his kichen <EOS>', '<BOS> the man is seasoning the marinade <EOS>', '<BOS> a man is pouring seasoning into a container of water <EOS>'], 'vid1195': ['<BOS> a man in a suit and sunglasses is sitting and smoking a thin cigar <EOS>', '<BOS> a man smokes a cigarette <EOS>', '<BOS> a man is smoking a cigarette <EOS>', '<BOS> a man in a suit is sitting in a chair smoking a cigar <EOS>', '<BOS> a man is smoking a cigarette <EOS>', '<BOS> a man is smoking <EOS>', '<BOS> a man is smoking <EOS>', '<BOS> a man is sitting and smoking <EOS>', '<BOS> a man is smoking <EOS>', '<BOS> a man is smoking a cigarette <EOS>', '<BOS> a man is smoking <EOS>', '<BOS> a man is smoking a cigarette <EOS>', '<BOS> the man sat in his suit and smoked <EOS>', '<BOS> the man is smoking <EOS>', '<BOS> a man is leaning back and smoking a cigarette <EOS>', '<BOS> a man smokes <EOS>', '<BOS> the man sat and enjoyed his cigarette <EOS>', '<BOS> a man is smoking <EOS>', '<BOS> a man smoking the cigrate <EOS>', '<BOS> the men is smoking <EOS>', '<BOS> a actor is smoking in the film sequence <EOS>', '<BOS> a lone person relaxing <EOS>', '<BOS> a man is smoking <EOS>', '<BOS> a man is smoking <EOS>', '<BOS> a man is smoking a cigarette <EOS>', '<BOS> a man is smoking a cigarette <EOS>', '<BOS> a man is smoking <EOS>', '<BOS> a man smokes <EOS>', '<BOS> he is smoking <EOS>', '<BOS> rajini style is very very very good <EOS>', '<BOS> rajni kant is smoking <EOS>', '<BOS> the man is smoking <EOS>', '<BOS> the man sat and enjoyed his cigarette <EOS>'], 'vid615': ['<BOS> motocross bikers racing in a street race <EOS>', '<BOS> bikers are racing with their bikes <EOS>', '<BOS> motor bikes are racing in motogp <EOS>', '<BOS> motorcyclists are racing on a track <EOS>', '<BOS> people are racing motorcycles <EOS>', '<BOS> people are riding motorcycles <EOS>', '<BOS> three computerized men are riding motorcycles down a race track <EOS>', '<BOS> three men on motorcycles straighten up as they turn to one side in a bike race <EOS>', '<BOS> three men race their motorcycles <EOS>', '<BOS> three motorcycles are racing down the track <EOS>', '<BOS> three motorcyclists rode down the road <EOS>', '<BOS> three motorcyle racers are competing <EOS>', '<BOS> the racers rode their motorcycles on the racetrack <EOS>', '<BOS> the riders round the curve very carefully <EOS>', '<BOS> bike rider was wheeling the bike <EOS>', '<BOS> people are racing motorcycles around a track <EOS>', '<BOS> boys doing bike racing <EOS>', '<BOS> three motorcycles are racing on a track <EOS>', '<BOS> three men are riding the bike <EOS>', '<BOS> some boys participating in race battle <EOS>', '<BOS> a guy is driving the bike in the race <EOS>', '<BOS> race for the first place <EOS>', '<BOS> gp500 bike race <EOS>', '<BOS> the men are racing on motorcycles <EOS>', '<BOS> bikers are driving along a track <EOS>', '<BOS> it is fomous bick race battle <EOS>', '<BOS> three men are racing down a street on motorcycles <EOS>', '<BOS> three people are bike racing <EOS>', '<BOS> a man is participating in race battle <EOS>', '<BOS> motorcyclists are racing on a track <EOS>', '<BOS> people are racing motorcycles <EOS>', '<BOS> the bikers are racing their bikes <EOS>', '<BOS> a man is riding a bike in a race <EOS>', '<BOS> people were going bike ride <EOS>', '<BOS> three drivers are racing motorcycles on a track <EOS>', '<BOS> three persons are doing racing on bike <EOS>', '<BOS> three men are riding motorcycles on a track <EOS>', '<BOS> some people are racing motorcycles <EOS>', '<BOS> three motorbikes riding in a race <EOS>', '<BOS> three people are riding motorcycles <EOS>', '<BOS> bike racers are racing in track <EOS>', '<BOS> three motorcycle riders are racing on a track <EOS>', '<BOS> a short clip of gp 500 motor bike race <EOS>', '<BOS> this is the scene of motorbike race <EOS>', '<BOS> a good bike race <EOS>', '<BOS> motorcyclists race each other <EOS>', '<BOS> three motorcycles race on racing track <EOS>', '<BOS> three men are racing motorcycles on a track <EOS>', '<BOS> men are racing with bike <EOS>', '<BOS> some boys participate bike race <EOS>', '<BOS> three people racing on motorcycles <EOS>', '<BOS> three motorcycles are racing <EOS>'], 'vid616': ['<BOS> several images of rugby players are passing the ball to each other <EOS>', '<BOS> a computer generated soccer game is occurring <EOS>', '<BOS> an animated rugby game <EOS>', '<BOS> boys are playing a rugby on the ground <EOS>', '<BOS> computerized rugby players are passing the ball to each other <EOS>', '<BOS> men are passing a ball <EOS>', '<BOS> men are tossing a ball <EOS>', '<BOS> players are playing rugby <EOS>', '<BOS> some animated players are playing rugby <EOS>', '<BOS> the man tackled the man with the ball <EOS>', '<BOS> the players passed the ball to each other <EOS>', '<BOS> the rules of rugby are demonstrated through an animated version of two teams playing the game <EOS>', '<BOS> the team members passed the ball to each other <EOS>', '<BOS> rugby video game <EOS>', '<BOS> a rugby game in progress <EOS>', '<BOS> rugby match is going on <EOS>', '<BOS> a team is playing rugby <EOS>', '<BOS> bugby game is coming in television <EOS>', '<BOS> the basket ball players are playing in the ground <EOS>', '<BOS> they are playing <EOS>', '<BOS> men pass the ball to each other <EOS>', '<BOS> video game of rugby played by players <EOS>', '<BOS> a rugby game playing <EOS>', '<BOS> a group of men playing the rugby <EOS>', '<BOS> people were playing in a ground <EOS>', '<BOS> animated rugby players are running down a field throwing a ball to each other <EOS>', '<BOS> players are playing rugby <EOS>', '<BOS> video game rugby men passing ball <EOS>', '<BOS> men are passing a soccer ball until one man tackles the other <EOS>', '<BOS> two groups are rugby on ground <EOS>', '<BOS> the player are playing rugby <EOS>', '<BOS> two teams are playing a game of football <EOS>', '<BOS> animation of men playing soccer <EOS>', '<BOS> cartoon men are playing rugby <EOS>', '<BOS> on the rugby field a team shows the basics of the game <EOS>', '<BOS> a simulation of rugby players passing the ball <EOS>', '<BOS> digital rugby players are passing the ball <EOS>', '<BOS> all guys are playing with ball <EOS>', '<BOS> some players playing rugby game <EOS>', '<BOS> men are playing <EOS>', '<BOS> a clip of a rugby video game <EOS>', '<BOS> a video game clip <EOS>', '<BOS> a group is playing the rugby <EOS>', '<BOS> playing a game <EOS>', '<BOS> some player playing in ground <EOS>', '<BOS> a animated film explaining tips in handball game <EOS>', '<BOS> the men are playing rugby <EOS>', '<BOS> team is playing <EOS>', '<BOS> two groups are playing ruby game <EOS>', '<BOS> it is a soccer game of toys <EOS>', '<BOS> animation characters throw a ball to one another <EOS>'], 'vid1190': ['<BOS> a man is loading his gun <EOS>', '<BOS> a man cleans his gun <EOS>', '<BOS> a man dressed in fatigues is loading a shotgun <EOS>', '<BOS> a man is loading a gun <EOS>', '<BOS> a man is loading a rifle with bullets <EOS>', '<BOS> a man is loading a rifle <EOS>', '<BOS> a man is loading a shotgun <EOS>', '<BOS> a man is reloading a shotgun <EOS>', '<BOS> a man loads a shotgun <EOS>', '<BOS> a man loads a shotgun <EOS>', '<BOS> a man standing on snow is loading bullets into a rifle <EOS>', '<BOS> a soldier is putting rounds in a shotgun <EOS>', '<BOS> someone in a camouflage outfit is loading a shotgun <EOS>', '<BOS> someone is loading a gun <EOS>', '<BOS> the man is loading his gun <EOS>', '<BOS> the man loaded his rifle <EOS>', '<BOS> the man loaded his rifle with bullets <EOS>', '<BOS> a man is loading the gun <EOS>', '<BOS> a man loads shells into a shotgun <EOS>', '<BOS> a man snow <EOS>', '<BOS> fast cold steel the winchester 1300 <EOS>', '<BOS> man putting rifels in the gun <EOS>', '<BOS> one soldier loading his gun <EOS>', '<BOS> the man hunting <EOS>', '<BOS> a firing man <EOS>', '<BOS> a hunter is loading a shotgun with bullets <EOS>', '<BOS> a man is having winchester 1300 <EOS>', '<BOS> a man is inserting bullets into his gun <EOS>', '<BOS> a man is loading a gun <EOS>', '<BOS> a man is loading a shotgun <EOS>', '<BOS> a man is loading a shotgun <EOS>', '<BOS> a man is loading his gun <EOS>', '<BOS> a man is shooting with gun <EOS>', '<BOS> a man is standing with a gun <EOS>', '<BOS> a man loading bullets in his gun <EOS>', '<BOS> a man loads a rifle <EOS>', '<BOS> a person is loading clips into a gun <EOS>', '<BOS> a soldier is loading rounds into a rifle <EOS>', '<BOS> a soldier loading his gun in a cold area <EOS>', '<BOS> someone is loading shells into a shotgun <EOS>', '<BOS> the person is loading the gun <EOS>', '<BOS> a man is loading his gun <EOS>', '<BOS> the person is preparing the gun <EOS>'], 'vid874': ['<BOS> a chef seasons a game bird <EOS>', '<BOS> a man adds some cumin and coriander powders to pieces of quail meat placed in a steel bowl <EOS>', '<BOS> a man is adding spices to chicken <EOS>', '<BOS> a man seasoning quail <EOS>', '<BOS> a person is applying seasoning to meat in a bowl <EOS>', '<BOS> a person is seasoning chicken <EOS>', '<BOS> a person is seasoning some quail in a bowl <EOS>', '<BOS> a person is spicing raw quail <EOS>', '<BOS> a person is sprinkling something on some quail in a bowl <EOS>', '<BOS> a person puts spice on a bowl full of small fowl <EOS>', '<BOS> a person seasons some meat <EOS>', '<BOS> quail is being seasoned <EOS>', '<BOS> someone is putting seasonings onto a bowl of quail <EOS>', '<BOS> someone is sprinkling seasoning on quail in a metal bowl <EOS>', '<BOS> spices are added to four whole quails <EOS>', '<BOS> the chicke was in a bowl <EOS>', '<BOS> the chicken in the bowl was ready to be cooked <EOS>', '<BOS> the cook seasoning the quail <EOS>', '<BOS> uncooked quail is in a bowl <EOS>', '<BOS> this video shows how to make a roasted quail <EOS>', '<BOS> this is roast quail with cured lemon recipe <EOS>', '<BOS> a person seasons chicken <EOS>', '<BOS> chicken pieces are in the vessel <EOS>', '<BOS> a guy is preparing the roast quail recipe <EOS>', '<BOS> a man is preparing a quail roast <EOS>', '<BOS> seasonings are being sprinkled onto quails to prepare them for cooking <EOS>', '<BOS> a man is cooking chicken <EOS>', '<BOS> dead birds in a bowl getting prepped to be cooked <EOS>', '<BOS> a man is preparing chicken with spices <EOS>', '<BOS> seasoning quail <EOS>', '<BOS> cutting on the chicken <EOS>', '<BOS> a man is cooking quail <EOS>', '<BOS> quail is seasoned in a mixing bowl <EOS>', '<BOS> showing how to cook chicken fry <EOS>', '<BOS> someone is seasoning poultry <EOS>', '<BOS> a person is making lemon recipe <EOS>', '<BOS> somebody is cooking <EOS>', '<BOS> a person is seasoning some quails <EOS>', '<BOS> a chef cooking some unique chicken recipe in his kitchen <EOS>', '<BOS> pinches of seasonings are being added to the quail meat in a mixing bowl <EOS>', '<BOS> a man cooking the chicken roasted lemon recepie <EOS>', '<BOS> someone is seasoning chicken <EOS>', '<BOS> a person is seasoning quails before they are cooked <EOS>', '<BOS> someone is adding spices to quail <EOS>', '<BOS> a man is sprinkling spices on chicken <EOS>', '<BOS> a cook is preparing the roast quail <EOS>', '<BOS> a man is preparing chicken <EOS>', '<BOS> a man is cooking <EOS>', '<BOS> nacked body for nice chichen <EOS>', '<BOS> roast quail with cured lemon recipe lemon roasted quail <EOS>', '<BOS> a man adds ingredients to pieces of quail <EOS>', '<BOS> raw quail is being seasoned <EOS>', '<BOS> a man is roasting quail <EOS>', '<BOS> the person is making chicken roast <EOS>', '<BOS> someone is sprinkling some spice on some quail in a pan <EOS>', '<BOS> a man is pouring seasonings on quail in a bowl <EOS>'], 'vid927': ['<BOS> a man is exercising <EOS>', '<BOS> a man is sitting on the edge of a bench and is doing leg pulls with some weights <EOS>', '<BOS> a man is doing exercise <EOS>', '<BOS> a man is doing leg lifts <EOS>', '<BOS> a man is exercising <EOS>', '<BOS> a man is doing exercises <EOS>', '<BOS> a man is doing cable knee ups <EOS>', '<BOS> a man is exercising his abs with a machine <EOS>', '<BOS> a man is doing an exercise <EOS>', '<BOS> a man is exercising <EOS>', '<BOS> a man is working out <EOS>', '<BOS> a man is exercising <EOS>', '<BOS> a man is exercising on a machine <EOS>', '<BOS> the man did leg exercises on the exercise machine <EOS>', '<BOS> the man is exercising <EOS>', '<BOS> a man lifts with his feet <EOS>', '<BOS> a man does leg exercises <EOS>', '<BOS> the man ded leg exercises on the weight machine <EOS>', '<BOS> a man is doing crunches with weights <EOS>', '<BOS> he is doing exercise <EOS>', '<BOS> the boy is doing the something <EOS>', '<BOS> doing gym <EOS>', '<BOS> a man is exercising <EOS>', '<BOS> the man doing exercise and gym for his body with sixpack <EOS>', '<BOS> a man is doing exercise <EOS>', '<BOS> the man is exercising <EOS>', '<BOS> a man is doing workout <EOS>', '<BOS> a man is working out <EOS>', '<BOS> a man is doing a exercise <EOS>', '<BOS> a person doing physical excersice <EOS>', '<BOS> a man is exercising <EOS>', '<BOS> a man is using gym equipment to advertise for busybodycom <EOS>', '<BOS> a man showing how to get 6 pack <EOS>', '<BOS> a man exercises <EOS>', '<BOS> a guy working out in the gym <EOS>', '<BOS> a man doing exercise in gym <EOS>', '<BOS> a man is geting six pack abs fast <EOS>', '<BOS> the man is exercising <EOS>', '<BOS> a man exercising <EOS>', '<BOS> a man is doing exercise <EOS>', '<BOS> a man exercises <EOS>', '<BOS> guys <EOS>'], 'vid971': ['<BOS> a woman in a ski cap and sunglasses is riding in the back seat of a car talking on a cell phone <EOS>', '<BOS> a woman is talking on a cell phone <EOS>', '<BOS> a woman is talking on a cell phone <EOS>', '<BOS> a woman is talking on a mobile <EOS>', '<BOS> a woman is talking on a mobile phone <EOS>', '<BOS> a girl is talking to a man on the phone <EOS>', '<BOS> a woman is talking on a phone <EOS>', '<BOS> a woman is talking in phone <EOS>', '<BOS> a woman is talking on a cell phone <EOS>', '<BOS> a woman talks on a cellphone in the backseat of a car <EOS>', '<BOS> a girl is talking on a cell phone <EOS>', '<BOS> a girl is talking on the phone <EOS>', '<BOS> a woman talking on the phone in a car <EOS>', '<BOS> the girl talked on the phone in the back seat <EOS>', '<BOS> the woman is talking on the phone <EOS>', '<BOS> a woman talks on her mobile phone <EOS>', '<BOS> the girl talked on her phone in the car s backseat <EOS>', '<BOS> the girl is talking with the phone <EOS>', '<BOS> a woman is talking over cell phone <EOS>', '<BOS> a girl is talking on the phone <EOS>', '<BOS> a woman is talking on her cell phone <EOS>', '<BOS> a women talk with someone by mobile <EOS>', '<BOS> a lady is talking in the phone <EOS>', '<BOS> a woman is talking to a man on the phone <EOS>', '<BOS> a woman is talking on the phone <EOS>', '<BOS> a girl is talking on a cell phone <EOS>', '<BOS> a girl talking in phone <EOS>', '<BOS> this is an awesome song <EOS>', '<BOS> a girl is talking with someone on phone <EOS>', '<BOS> a woman is talking on the phone <EOS>', '<BOS> the woman is talking on the phone <EOS>', '<BOS> a women is talking <EOS>', '<BOS> a woman is talking on a cell phone while riding in a car <EOS>', '<BOS> very beautiful girl <EOS>', '<BOS> a girl talks on a cell phone while riding in a car <EOS>'], 'vid970': ['<BOS> a young boy is riding a tricycle in circles on a patio <EOS>', '<BOS> a boy is riding a tricycle <EOS>', '<BOS> a little boy is riding a tricycle in a circle on a concrete patio <EOS>', '<BOS> a boy is riding on a bicycle <EOS>', '<BOS> a child is riding a tricycle <EOS>', '<BOS> a little boy is riding a bike <EOS>', '<BOS> a boy is riding a tricycle <EOS>', '<BOS> a little boy is riding a tricycle in circles <EOS>', '<BOS> a boy is riding a tricycle on the porch <EOS>', '<BOS> a young boy is riding a tricycle in circles <EOS>', '<BOS> a boy rides a tricycle in a circle <EOS>', '<BOS> a boy is riding a trike <EOS>', '<BOS> a kid is riding a bike <EOS>', '<BOS> a boy rides his tricycle on the patio <EOS>', '<BOS> a small boy riding a tricycle is going in circles on the backyard of his home <EOS>', '<BOS> the boy rode his tricycle in cirlces <EOS>', '<BOS> the boy is riding a tricycle <EOS>', '<BOS> a child rides around in circles <EOS>', '<BOS> a boy is riding a tricycle on a patio <EOS>', '<BOS> a toddler rides a tricycle <EOS>', '<BOS> the little boy drove his tricycle in circles on the patio <EOS>', '<BOS> a boy is riding a tricycle <EOS>', '<BOS> the baby is playing with bicycle <EOS>', '<BOS> cycaling boy <EOS>', '<BOS> a child riding a tricycle <EOS>', '<BOS> a child is riding a tricycle <EOS>', '<BOS> a boy is riding a tricycle <EOS>', '<BOS> a small boy is riding the tricycle <EOS>', '<BOS> the baby is playing <EOS>', '<BOS> a kid going round n round of an towel on his toy bike <EOS>', '<BOS> a boy is riding a tri cycle <EOS>', '<BOS> a small boy playing <EOS>', '<BOS> a boy rides around in circles on a tricycle <EOS>', '<BOS> a kid is playing <EOS>', '<BOS> the little boy is riding a tricycle <EOS>', '<BOS> a boy is riding a tricycle <EOS>', '<BOS> a boy is riding a tricycle <EOS>', '<BOS> a little boy rides a tricycle <EOS>'], 'vid293': ['<BOS> a woman cuts an onion in half then chops it into small pieces <EOS>', '<BOS> a woman slices an onion <EOS>', '<BOS> a woman is slicing an onion <EOS>', '<BOS> a woman is slicing an onion <EOS>', '<BOS> a woman slices an onion <EOS>', '<BOS> a woman is chopping an onion with a knife <EOS>', '<BOS> a woman is chopping an onion <EOS>', '<BOS> a woman is chopping onions <EOS>', '<BOS> a woman is cutting onion <EOS>', '<BOS> a woman with a knife is slicing an onion <EOS>', '<BOS> a woman slices and dices an onion <EOS>', '<BOS> a woman is cutting an onion <EOS>', '<BOS> someone is slicing an onion <EOS>', '<BOS> a woman is cutting an onion <EOS>', '<BOS> the lady sliced half the onion <EOS>', '<BOS> the woman is dicing onions <EOS>', '<BOS> a woman cuts up an onion <EOS>', '<BOS> the lady cut the onion in half and then into pieces <EOS>', '<BOS> she is cooking <EOS>', '<BOS> the person is cutting onion <EOS>', '<BOS> a delicious dish attractively served <EOS>', '<BOS> a woman is cutting an onion <EOS>', '<BOS> the lady cut vegetables for cooking the japanese dish with her dog <EOS>', '<BOS> a lady is cutting the onion <EOS>', '<BOS> a lady is cutting onion <EOS>', '<BOS> a girl is cutting an onion <EOS>', '<BOS> someone is cutting up an onion <EOS>', '<BOS> a lady is slicing a onion into small pieces <EOS>', '<BOS> a woman is cutting a vegetable with a knife <EOS>', '<BOS> a woman is slicing an onion with a clever <EOS>', '<BOS> a lady is cutting a slices of onion <EOS>', '<BOS> a woman coking katsu curry <EOS>', '<BOS> a lady slicing vegetable for preparing a dish in a cookery show <EOS>', '<BOS> a woman is slicing vegetable <EOS>', '<BOS> a woman is cutting an onion <EOS>', '<BOS> a person is cutting vegetables <EOS>', '<BOS> a lady talking about how to make katsu curry <EOS>', '<BOS> a person is cutting the onion <EOS>', '<BOS> the woman is dicing onions <EOS>', '<BOS> a women is slicing onion <EOS>', '<BOS> a woman is chopping an onion <EOS>', '<BOS> a woman demonstrates proper onion slicing technique <EOS>'], 'vid475': ['<BOS> a phone is off the hook <EOS>', '<BOS> a bird is dialing a phone <EOS>', '<BOS> a parakeet is pecking telephone buttons with its beak <EOS>', '<BOS> a bird is dialing a phone <EOS>', '<BOS> a parakeet is dialing a phone by pecking on the number pad with it s beak <EOS>', '<BOS> a bird is pecking at numbers on a telephone <EOS>', '<BOS> a parrot is making a phone call <EOS>', '<BOS> a bird is making a phone call with its beak <EOS>', '<BOS> a parakeet is making a phone call <EOS>', '<BOS> a bird is dialing a phone <EOS>', '<BOS> a bird is pecking at a telephone <EOS>', '<BOS> a parrot standing on top of a telephone is using its beak to make a call and follows instructions of the recorded voice message <EOS>', '<BOS> the bird is playing with the telephone <EOS>', '<BOS> a parakeet is using a phone <EOS>', '<BOS> a bird dials the phone <EOS>', '<BOS> the parakeet pecked at the phone s numbers and made a call <EOS>', '<BOS> a bird dialing on a number on a telephone <EOS>', '<BOS> the parrot is playing the phone <EOS>', '<BOS> a parakeet dials a phone <EOS>', '<BOS> the sparrow take the receiver and dial the number <EOS>', '<BOS> a bird pressing the phone buttons <EOS>', '<BOS> a bird is making a phone call <EOS>', '<BOS> a parakeet tries to make a telephone call to send a package <EOS>', '<BOS> a bird is pecking at a telephone <EOS>', '<BOS> a bird is playing with phone <EOS>', '<BOS> a bird is playing <EOS>', '<BOS> the bird is playing with the telephone <EOS>', '<BOS> a bird is dialing a phone number <EOS>', '<BOS> a bird is dialling a phone <EOS>'], 'vid477': ['<BOS> a longhaired man in a construction hat removes his sunglasses while he is talking <EOS>', '<BOS> a man takes off his glasses <EOS>', '<BOS> a man takes off his sunglasses <EOS>', '<BOS> a man in a yellow hard hat and sunglasses is talking <EOS>', '<BOS> a man is speaking <EOS>', '<BOS> a man is talking <EOS>', '<BOS> a man wearing a construction hat removes his sunglasses <EOS>', '<BOS> a man wearing a hard hat removes his glasses as he speaks <EOS>', '<BOS> a man wearing a hard hat is removing his sunglasses <EOS>', '<BOS> a man takes his sunglasses off <EOS>', '<BOS> a man is talking <EOS>', '<BOS> a man is taking off his sunglasses <EOS>', '<BOS> a man takes off his glasses <EOS>', '<BOS> a man removes his sunglasses <EOS>', '<BOS> the man took off his sunglasses while talking <EOS>', '<BOS> the man removed his sunglasses <EOS>', '<BOS> a man talks <EOS>', '<BOS> the man took off his glasses while talking <EOS>', '<BOS> the person is doing the something <EOS>', '<BOS> a man is saying something <EOS>', '<BOS> a man is taking off his glasses <EOS>', '<BOS> a man is holding his spectacle in his hands <EOS>', '<BOS> a man taking off his glasses <EOS>', '<BOS> a man talking <EOS>', '<BOS> a man takes off his glasses <EOS>', '<BOS> a man is talking to a another man <EOS>', '<BOS> a man is talking <EOS>', '<BOS> a man talking and removing his spects <EOS>', '<BOS> one man is telling something <EOS>', '<BOS> a man is wearing the goggles <EOS>', '<BOS> the man took off his sunglasses <EOS>', '<BOS> a construction worker removes his sunglasses <EOS>', '<BOS> a man wearing a hard hat is taking off his sunglasses as he talks <EOS>', '<BOS> a old men is discribing <EOS>', '<BOS> a man is talking and removing his spectacle <EOS>', '<BOS> a man wearing a hardhat is talking <EOS>', '<BOS> a man in a construction hat takes off his sunglasses <EOS>'], 'vid1854': ['five kittens in a row and then in a circle are eating off of plates', 'kittens are eating food', 'five kittens are eating out of bowls on the floor', 'kittens are eating food on trays', 'five kittens are eating out of five dishes', 'kittens are eating their foods', 'a group of kittens are lined up eating from dishes', 'kittens are drinking milk', 'five cats are eating together', 'kittens are eating from dishes', 'five cats eat food from saucers', 'some kittens are eating', 'five kittens are eating', 'five kittens are eating food', 'the kittens are eating', 'five kittens are eating from dishes', 'five kittens eat', 'five little kittens are eating from five little dishes', 'the cats are drinking milk', 'cats are eating food', 'five kittens are eating', 'five cats are eating food', 'little white and grey kittens eating and playing', 'five kittens are eating food', 'some kittens are lunching together', 'the cats ate from their bowls in a line and in a circle', 'the kittens are eating', 'the kittens are eating food'], 'vid921': ['<BOS> two men are talking <EOS>', '<BOS> t wo boys are eating their food <EOS>', '<BOS> the men are eating <EOS>', '<BOS> two boys eat <EOS>', '<BOS> two men are eating and talking in a restaurant <EOS>', '<BOS> two men are eating and talking to each other <EOS>', '<BOS> two men are eating and talking <EOS>', '<BOS> two men are eating and talking <EOS>', '<BOS> two men are eating at a table in a diner <EOS>', '<BOS> two men are eating breakfast in a restaurant and talking <EOS>', '<BOS> two men are eating breakfast <EOS>', '<BOS> two men are eating <EOS>', '<BOS> two men are speaking with each other <EOS>', '<BOS> two men are talking and eating <EOS>', '<BOS> two men are talking over breakfast <EOS>', '<BOS> two men ate breakfast at a table <EOS>', '<BOS> two men eat in a diner <EOS>', '<BOS> two men had breakfast at a restaurant <EOS>', '<BOS> two young men are chatting and eating at a food counter <EOS>', '<BOS> boys are having a breakfast <EOS>', '<BOS> they are eating food <EOS>', '<BOS> the person is eating <EOS>', '<BOS> two men eat and talk in a restaurant <EOS>', '<BOS> a man with a large tummy eating a meal <EOS>', '<BOS> two guys are eating breakfast <EOS>', '<BOS> this is roadtrip funny scene <EOS>', '<BOS> two men are eating breakfast <EOS>', '<BOS> two men are eating in the hotel <EOS>', '<BOS> two men are eating food <EOS>', '<BOS> two men are eating breakfast at a restaurant <EOS>', '<BOS> two boys are speaking while eating <EOS>', '<BOS> two men are eating <EOS>', '<BOS> a boyes hotel on the mealcing <EOS>', '<BOS> two boy eating something in a restorant <EOS>', '<BOS> two men are eating <EOS>', '<BOS> two guys are eating <EOS>', '<BOS> two guys are eating <EOS>', '<BOS> men are eating <EOS>', '<BOS> a funny road trip <EOS>', '<BOS> two men are eating and talking <EOS>', '<BOS> one hotel and three boys eating and wayter is eat the brade <EOS>', '<BOS> two friends enjoying meal in a restaurant <EOS>', '<BOS> a man cooking his kichen <EOS>', '<BOS> two young men are speaking in a diner <EOS>', '<BOS> two men is eating <EOS>', '<BOS> the men are eating and talking <EOS>', '<BOS> two men are eating at a diner <EOS>'], 'vid1852': ['a man in a black cape causes a policeman to disappear and continues to walk after being shot several times by another man', 'a man shoots a man', 'a man is being shot', 'a man wearing a black cape is walking toward a group of people and a man in the group is shooting at him with a pistol', 'a man is shooting another man', 'a man sprays a dust at another man', 'a man is firing another man', 'a man with a pistol shoots another man', 'two men are shooting a cloaked man', 'a man is shooting another man with a pistol', 'poeple are shooting a man', 'two men are shooting at a vampire', 'the man tried to shoot the vampire', 'the man is shooting a gun at the intruder', 'a man shoots a pistol at a monster', 'the man shot the vampire with a gun', 'a man is shooting another man', 'a man shooting other man', 'some persons are fell down', 'when did they colourize this classic this videois i like', 'a man is walking', 'a man shooting an another like a ghost with his revolver', 'a man shooting', 'a movie named as plan 9 from outer space trailer', 'divel was very bad', 'plan 9 from outer space', 'shoot the man', 'the man is shooting the intruder', 'the person is shooting the another person'], 'vid1850': ['a man is doing a weight exercise', 'a man is doing exercise', 'a man is doing exercises', 'a man is exercising with small weights', 'a man is exercising', 'a man is lifting dumbbells', 'a man is lifting dumbbells', 'a man is lifting weights', 'a man is lifting weights', 'a man is lifting weights', 'a man is rapidly lifting small weights', 'a man is using hand weights', 'a man lifts hand weights', 'a man lifts weights', 'the man is lifting weights', 'the man lifted barbells in each of his hands', 'the man lifted small barbells in his hands', 'a man is exercising', 'he is doing execise', 'the person is doing exercise', 'a man is weightlifting', 'a man is exercising', 'a handsome guy working with the dumbles to improve his muscles', 'a man is doing exercise', 'a man is doing exercise', 'a man is doing exercise with dumbbells', 'a man is lifting weights', 'a man is trying to do exercise', 'a man is lifting dumbbells', 'a man is talking', 'a man is doing bicep curls', 'a man lifting weights', 'man exercising with dumbbell', 'a man is exercising', 'a young man is lifting weights', 'a koy buildig his body throw dumbles', 'a man is making his muscle with the help of small dumbbells', 'a men exercising their', 'a men is doing exercise', 'the man is excercise to body muscles in good condition'], 'vid377': ['<BOS> a man gets excited about the fire he lit <EOS>', '<BOS> a man is burning a book of matches <EOS>', '<BOS> a man is burning matches <EOS>', '<BOS> a man is holding a packet of burning matches <EOS>', '<BOS> a man is lighting a match and sets the whole match box on fire <EOS>', '<BOS> a man is lighting a matchbook cover on fire <EOS>', '<BOS> a man is lighting a matchbook on fire <EOS>', '<BOS> a man is lighting a pack of matches on fire <EOS>', '<BOS> a man is mimicking by looking fire <EOS>', '<BOS> a man is screaming <EOS>', '<BOS> a man lights a match and the whole book of matches burst into flames <EOS>', '<BOS> a man lights a match book on fire <EOS>', '<BOS> a man lights a matchbook on fire <EOS>', '<BOS> a man lights a pack of matches <EOS>', '<BOS> a man lit a book of matches on fire <EOS>', '<BOS> a man sets a matchbook on fire <EOS>', '<BOS> the man is staring at a burning matchbook <EOS>', '<BOS> the man lit the book of matches up <EOS>', '<BOS> the matches caught on fire <EOS>', '<BOS> a man playing with fire sticks <EOS>', '<BOS> man screaming with fire in hand <EOS>', '<BOS> the man is playing with fire <EOS>', '<BOS> playing with fire <EOS>', '<BOS> a man is staring at fire <EOS>', '<BOS> the man is playing with fire <EOS>', '<BOS> a man lights a match book <EOS>', '<BOS> the man is making noise while holding a fire <EOS>', '<BOS> a man playing with fire <EOS>', '<BOS> a man met an fire accident <EOS>', '<BOS> a man lights a full book of matches at once <EOS>', '<BOS> a man lights matches <EOS>', '<BOS> a man is burning matches <EOS>', '<BOS> a man is firimg something <EOS>', '<BOS> a person is playing with fire <EOS>', '<BOS> a man frightened to playing with fire <EOS>', '<BOS> a man screams when a whole match box catches fire <EOS>', '<BOS> the man set the matchbook on fire <EOS>', '<BOS> a man is igniting an entire book of matches <EOS>', '<BOS> a man is screaming <EOS>', '<BOS> a man lights an entire book of matches on fire and watches it burn <EOS>'], 'vid278': ['<BOS> each time a man karate kicks a mannequin he falls down <EOS>', '<BOS> a man kicks a dummy and falls <EOS>', '<BOS> a man kicking a dummy falls down <EOS>', '<BOS> a man fights a dummy and loses <EOS>', '<BOS> a man is fighting with a dummy <EOS>', '<BOS> a man is boxing with a dummy <EOS>', '<BOS> a man is kickboxing with a manikin <EOS>', '<BOS> a man is punching a dummy <EOS>', '<BOS> a man is boxing a dummy and falling down <EOS>', '<BOS> a man falls kicking a manican <EOS>', '<BOS> a man is kicking a dummy <EOS>', '<BOS> a man kickboxes and punches a toy torso of a man which eventually falls on the ground <EOS>', '<BOS> the man practiced martial arts on a dummy <EOS>', '<BOS> the man is kicking and hitting a dummy <EOS>', '<BOS> a man fights a mannequin <EOS>', '<BOS> a man attacks a dummy <EOS>', '<BOS> the man practiced kicks and hits on a dummy <EOS>', '<BOS> a man is fighting with statue <EOS>', '<BOS> a man is working out <EOS>', '<BOS> the man is practicing <EOS>', '<BOS> the men practicing <EOS>', '<BOS> a man fighting <EOS>', '<BOS> a man is beating up a boxing dummy <EOS>', '<BOS> a man is fighting with a wig <EOS>', '<BOS> a man is hitting a fake person <EOS>', '<BOS> a man is kick boxing a manikin <EOS>', '<BOS> a man is kicking a mannequin <EOS>', '<BOS> a man is kicking a punching dummy <EOS>', '<BOS> a man kicking a dummy falls down <EOS>', '<BOS> funny video <EOS>', '<BOS> the man is fighting with the dummy <EOS>', '<BOS> the man is sparring with a dummy <EOS>', '<BOS> a boy is kicking a toy <EOS>'], 'vid279': ['<BOS> a man is placing sauce on dough <EOS>', '<BOS> a man is spooning pizza sauce from a metal container onto two pizza doughs <EOS>', '<BOS> a man puts tomato sauce on pizza dough <EOS>', '<BOS> a man is putting a pizza sous on two pizzas <EOS>', '<BOS> a chef is putting sauce onto pizza crust <EOS>', '<BOS> a chef is pouring sauce <EOS>', '<BOS> a man is pouring pizza sauce onto dough <EOS>', '<BOS> a person is moving the arm of a person pouring marinara sauce on dough <EOS>', '<BOS> a man puts tomato sauce on pizza dough <EOS>', '<BOS> a man is putting sauce on pizza crust <EOS>', '<BOS> a man is making pizza <EOS>', '<BOS> a chef is pouring sauce on pizza dough <EOS>', '<BOS> the man poured pizza sauce on the pizza dough <EOS>', '<BOS> the man is pouring sauce over the pizza dough <EOS>', '<BOS> a man puts some sauce on some pizza dough <EOS>', '<BOS> the man poured pizza sauce on the pizza crust <EOS>', '<BOS> a person is making pizza <EOS>', '<BOS> a man is putting sauce on pizza <EOS>', '<BOS> jack show how to prepare the food <EOS>', '<BOS> a man puts tomato sauce on pizza dough <EOS>', '<BOS> a man is poring the sauce in the center of the pizza <EOS>', '<BOS> a man is adding sauce into the dough <EOS>', '<BOS> someone is putting sauce on dough <EOS>', '<BOS> a man is playing guoitatr <EOS>', '<BOS> a man is putting sauce onto pizza dough <EOS>', '<BOS> someone is spooning sauce onto pizza dough <EOS>', '<BOS> a man coking pizza <EOS>', '<BOS> a man preparing pizza <EOS>', '<BOS> your wrong california puts chemicals in their water try doing some research before you blurt comment out <EOS>', '<BOS> a person making pizza wars <EOS>', '<BOS> a man is making the pizza <EOS>', '<BOS> a man cooking his kichen <EOS>', '<BOS> the man is pouring sauce over the dough <EOS>', '<BOS> a man is putting some sauce on pizzas <EOS>', '<BOS> a man is putting tomato sauce on two rounds of pizza dough <EOS>', '<BOS> a man ladles pizza sauce onto dough <EOS>', '<BOS> i m making bull s eye in pizza <EOS>'], 'vid187': ['<BOS> an older boy is seated at a table eating <EOS>', '<BOS> a boy is eating <EOS>', '<BOS> a boy is eating food <EOS>', '<BOS> a boy is sitting at a table eating somethings <EOS>', '<BOS> a man is eating a food from a plate <EOS>', '<BOS> a young man is eating food at a dining room table <EOS>', '<BOS> a boy is eating <EOS>', '<BOS> a woman is showing food allergy symptoms <EOS>', '<BOS> a boy is eating some food <EOS>', '<BOS> a boy is eating lunch <EOS>', '<BOS> a boy eats <EOS>', '<BOS> a boy is eating food at a table <EOS>', '<BOS> a man seated in his house at a table is eating food all alone <EOS>', '<BOS> the boy ate his dinner at the dinner table by himself <EOS>', '<BOS> the man is eating <EOS>', '<BOS> a boy eats his dinner <EOS>', '<BOS> the boy sat at the table and ate his dinner <EOS>', '<BOS> a female talking about healthy food <EOS>', '<BOS> a boy is eating <EOS>', '<BOS> a boy is eating rice <EOS>', '<BOS> a man is eating some food <EOS>', '<BOS> a boy is eating <EOS>', '<BOS> a news from euro about futuris research <EOS>', '<BOS> a boy eating <EOS>', '<BOS> a boy eating food in a table <EOS>', '<BOS> a man is eating <EOS>', '<BOS> a boy is eating some food <EOS>', '<BOS> the boy sat at the table and ate his dinner alone <EOS>', '<BOS> the boy is eating <EOS>', '<BOS> the future for food alergy research video <EOS>'], 'vid54': ['<BOS> a person cutting up potatoes <EOS>', '<BOS> a chef cuts a potato <EOS>', '<BOS> a person cuts potato wedges <EOS>', '<BOS> a person is chopping potato slices with a knife <EOS>', '<BOS> a person is chopping potatoes <EOS>', '<BOS> a person is slicing some potato <EOS>', '<BOS> a potato is being cut <EOS>', '<BOS> a woman chops strips of raw potato into cubes with a knife <EOS>', '<BOS> a woman is chopping a potato <EOS>', '<BOS> potatoes are being chopped <EOS>', '<BOS> someone chopped up a potatoe <EOS>', '<BOS> someone dicing potatoes <EOS>', '<BOS> someone is chopping potatoes <EOS>', '<BOS> someone is chopping up the potatoe <EOS>', '<BOS> someone is dicing potatoes <EOS>', '<BOS> the person is dicing potatoes <EOS>', '<BOS> slicing egg <EOS>', '<BOS> teaching how to make country potato salad <EOS>', '<BOS> a guy slicimg the eggs <EOS>', '<BOS> a cooker is cutting a potato <EOS>', '<BOS> some one is slicing potatoes <EOS>', '<BOS> a man is cutting potatto <EOS>', '<BOS> potatoes are being cut the proper way <EOS>', '<BOS> a man is cuting some potate pieces <EOS>', '<BOS> a man is cutting the eggs <EOS>', '<BOS> a man is cutting potatoes <EOS>', '<BOS> country women cutting country potato <EOS>', '<BOS> a men making country potato salad <EOS>', '<BOS> the man is dicing potatoes <EOS>', '<BOS> a potato is being sliced <EOS>', '<BOS> one person is explaining how to prepair potato salad <EOS>', '<BOS> someone is chopping potatoes into cube sized pieces <EOS>', '<BOS> a cooking tutorial on how to make potato salad <EOS>', '<BOS> a man chops potatoes <EOS>', '<BOS> a person is cutting potatoes <EOS>', '<BOS> a man is cutting the potatoes in to pieces <EOS>', '<BOS> a person is cutting a potato <EOS>', '<BOS> someone cutting potatoes in chunks <EOS>', '<BOS> a person is cutting a potato into pieces <EOS>', '<BOS> a person is chopping up potatoes with a large knife <EOS>', '<BOS> someone cuts potatoes <EOS>', '<BOS> someone is dicing a potato <EOS>', '<BOS> somebodi is slicing potatos <EOS>', '<BOS> a person chops up hard boiled eggs <EOS>', '<BOS> a short clip of showing how to make a tasty potato salad <EOS>', '<BOS> a man is preparing the potato salad <EOS>', '<BOS> someone is cutting up potatoes <EOS>', '<BOS> a person is dicing potatoes <EOS>', '<BOS> a woman is cooking her kichen <EOS>', '<BOS> someone is chopping potatoes <EOS>', '<BOS> the cook is dicing potatoes <EOS>', '<BOS> a person is pealing potato <EOS>', '<BOS> it is a method of preparing country potato salad recipe <EOS>', '<BOS> someone is chopping potatoes <EOS>', '<BOS> some potatoes are being chopped with a knife <EOS>', '<BOS> a man is peal a potato <EOS>', '<BOS> a person slicing potatoes <EOS>', '<BOS> someone is cutting a potato <EOS>', '<BOS> the person is peeling the potato and dicing the potato <EOS>', '<BOS> the person is cutting the vegetables <EOS>'], 'vid1539': ['a group of people sing christmas carols', 'a group in santa hats are singing', 'a group of kids sang christmas songs in front of the mike', 'a group of people are singing a christmas song', 'a group of people are singing', 'a group of people dance', 'a group of people sing', 'a group of people singing christmas songs', 'a group of youngsters wearing christmas caps are singing a christmas song in a room', 'individuals celebrate christmas', 'men are singing a song', 'people are singing while wearing santa hats', 'people are singing', 'people are singing', 'some people are singing', 'the kids sang christmas songs into the microphones', 'the people are singing', '5 members to gather singing', 'a girl is wearing a hat', 'a group of people are singing', 'a group of people celebrating christmas', 'christmas in japan', 'christmas in japan', 'people celebrating christmas in japan', 'some person are singing a song ona chritsmas', 'a chorus on christmas celebrations in japan', 'a christmas in japan', 'a girl is laughing in the street', 'a group of asian people sing together while wearing christmas hats', 'a group of men are singing', 'a group of people are singing', 'a group of people are singing', 'a group of people singing together at christmas', 'a japanese band singing and enjoying christmas song', 'all people are enjoying the christmas', 'boys and girls celebrating christmas', 'five people are dancing', 'five people wearing christmas head wear are singing into a microphone', 'men are singing', 'people are celebrating the christmas', 'people are dancing and singing', 'people are dancing', 'people are signing', 'people are singing', 'several people are singing and dancing', 'the people are singing and swaying', 'youngsters celebrating christmas by singing a christmas song', 'a young woman celebrating', 'the peoples is sing a song', 'people celebrating christmas', 'the people dressed in christmas attire is singing happily'], 'vid1087': ['<BOS> a young man comes into a bedroom and throws a tantrum <EOS>', '<BOS> a boy goes crazy in his room <EOS>', '<BOS> a boy is going crazy <EOS>', '<BOS> a man walks into a room and starts flailing the bed <EOS>', '<BOS> a young man is throwing a temper tantrum in a bedroom <EOS>', '<BOS> a boy is showing his angry <EOS>', '<BOS> an angry young man locks himself in his room then slams himself down on the bed <EOS>', '<BOS> a boy is throwing a fit <EOS>', '<BOS> a guy is throwing a tantrum <EOS>', '<BOS> someone closes a door <EOS>', '<BOS> a boy is freaking out in his room <EOS>', '<BOS> the boy took out his anger and frustration on the bed <EOS>', '<BOS> the man is throwing a tantrum <EOS>', '<BOS> a boy acts really angry at something <EOS>', '<BOS> the man had a fit in his bedroom <EOS>', '<BOS> the men is not comforting <EOS>', '<BOS> a man is slaming his head into his bead <EOS>', '<BOS> a boy is getting so much irritated and just smashing his bedsheets <EOS>', '<BOS> a young man is walking here and there <EOS>', '<BOS> a person is very angry <EOS>', '<BOS> the boy ranted and raved in his bedroom <EOS>', '<BOS> the man is throwing a tantrum in the bedroom <EOS>', '<BOS> a boy is very hungry <EOS>', '<BOS> a boy is a mental condition <EOS>'], 'vid1086': ['<BOS> a woman is playing the guitar <EOS>', '<BOS> a woman is playing a guitar <EOS>', '<BOS> a woman is playing a guitar <EOS>', '<BOS> a girl plays a guitar <EOS>', '<BOS> a girl is playing the electric guitar <EOS>', '<BOS> a woman is playing a guitar <EOS>', '<BOS> a woman is playing guitar <EOS>', '<BOS> a woman is playing an electric guitar <EOS>', '<BOS> a woman is playing an electric guitar <EOS>', '<BOS> a woman plays an electric guitar <EOS>', '<BOS> a kid is playing guitar <EOS>', '<BOS> a woman is playing the guitar <EOS>', '<BOS> someoen is playing guitar <EOS>', '<BOS> a woman is playing the guitar <EOS>', '<BOS> a woman is standing and playing the guitar <EOS>', '<BOS> a girl rocker played her guitar <EOS>', '<BOS> the woman is playing the electric guitar <EOS>', '<BOS> a woman is playing an electric guitar <EOS>', '<BOS> a rocker plays the guitar <EOS>', '<BOS> the girl played the guitar <EOS>', '<BOS> the girl is playing the guttier <EOS>', '<BOS> van halen female guitarist <EOS>', '<BOS> a girl is playing gitur <EOS>', '<BOS> a woman is playing the guitar <EOS>', '<BOS> a girl is playing guitar <EOS>', '<BOS> a young woman emulating a van halen guitarist <EOS>', '<BOS> a girl is playing guitar <EOS>', '<BOS> a woman playing the guitar <EOS>', '<BOS> a young female guitarist performing <EOS>', '<BOS> a girl is playing a guitar <EOS>', '<BOS> a female playing an electric guitar <EOS>', '<BOS> a woman is playing a guitar <EOS>', '<BOS> a woman is playing the guitar <EOS>', '<BOS> a woman is playing a guitar <EOS>', '<BOS> a woman is playing the guitar <EOS>', '<BOS> a woman is playing a guitar <EOS>', '<BOS> a girl is playing a guitar <EOS>', '<BOS> a girl singing and playing guitar <EOS>', '<BOS> a girl is playing a guitar <EOS>', '<BOS> a man is playing a guitar <EOS>', '<BOS> van halen is singing with guitar <EOS>', '<BOS> a girl playing guitar and singing some sort of song and also enjoying it a lot <EOS>', '<BOS> a female guitarist van halen is playing guitar <EOS>', '<BOS> the girl played the guitar <EOS>', '<BOS> a woman is playing guitar <EOS>', '<BOS> a woman is playing electric guitar <EOS>', '<BOS> a man is playing guitar <EOS>', '<BOS> very good female guitarist <EOS>', '<BOS> a woman is playing electric guitar <EOS>', '<BOS> a girl playing guitar fastly <EOS>', '<BOS> playing an instrument <EOS>', '<BOS> a girl is playing guitar <EOS>'], 'vid1328': ['a demonstration of a recipe is being shown', 'a cook rolls some cream in his hands', 'a lady made a ball out of the dough', 'a person is forming a wad out of a mixture in a bowl', 'a person is making a ball of dough', 'a person takes some dough out of a bowl', 'a woman is balling dough', 'a woman is cooking', 'a woman is making a ball out of raw dough', 'a woman is preparing flour to cook something', 'a woman is scooping up a small portion of white batter from a bowl into her hand', 'a woman takes a small scoop of wet thick batter placed in a glass bowl onto her right cupped palm', 'someone has picked up a handful of some white substance from a mixing bowl and is squeezing it into a lump', 'the cook is forming dough', 'the lady formed balls out of the dough', 'a woman is teaching how to make medu vada', 'the person showing how to make voda', 'a person molds dough', 'a lady take a dough from the glass bowl', 'a south indian recipe is placed on the table', 'a woman is preparing medu vadai', 'a woman is taking paste to cook', 'a girl is teaching how to make a something', 'a woman is getting dough out of a bowl', 'a person is preparing medu vada', 'a woman making medu vada', 'someone forms dough into balls', 'a woman is making dough balls with her hand', 'they are showing how to make vada', 'someone preparing something for medu vada', 'someone is mixing dough', 'somebody is mixing flour', 'a short clip about cooking south indian recipe vada', 'a woman making the south indian recipe medu vada', 'a woman is preparing for medu vada', 'dough is being shaped into form by hand', 'a women show how to make a vada', 'a cooking portion', 'preparation of south indian vada', 'a person making medu vada', 'a woman is balling batter with her hands', 'lady is prepairing vada', 'a woman is picking up dough', 'someone pulls a wad of batter from a bowl'], 'vid1082': ['<BOS> a man slices a potato <EOS>', '<BOS> a man cuts a potato into sections <EOS>', '<BOS> a man is cutting a potato <EOS>', '<BOS> a man is slicing a potato into pieces <EOS>', '<BOS> a man is slicing a potato <EOS>', '<BOS> a man is slicing a potato <EOS>', '<BOS> a man is slicing a potato <EOS>', '<BOS> a man is slicing potato <EOS>', '<BOS> a man sliced a potatoe <EOS>', '<BOS> a man slices a peeled potato into thick slices and thereafter cuts each of them into half <EOS>', '<BOS> a man slices a potato <EOS>', '<BOS> a person cuts up potatos <EOS>', '<BOS> a person is chopping a vegetable into thick slices <EOS>', '<BOS> a person is chopping up potatoes <EOS>', '<BOS> a person is slicing a potato <EOS>', '<BOS> someone is cutting potato <EOS>', '<BOS> someone is cutting potatoes <EOS>', '<BOS> someone is slicing a potato <EOS>', '<BOS> the man is slicing a potato <EOS>', '<BOS> the man is slicing potatoes <EOS>', '<BOS> the man sliced a potatoe <EOS>', '<BOS> a lady cutting potatto with knife <EOS>', '<BOS> a man is cutting a potatoe <EOS>', '<BOS> a man telling the style for cutting a patato <EOS>', '<BOS> a person is chopping potatoes <EOS>', '<BOS> greek gyro sandwich recipe with tzatziki sauce <EOS>', '<BOS> greek gyro sandwich recipe with tzatziki sauce step 1 homemade french fries recipe <EOS>', '<BOS> he is cutting <EOS>', '<BOS> how to make greek gyro sandwich recipe with tzatziki sauce <EOS>', '<BOS> man slicing a potato <EOS>', '<BOS> the chef is making greek gyro sandwich with tzatziki sauce <EOS>', '<BOS> the women are making the gyro sandwich recipe <EOS>', '<BOS> a guy is preparing the gyro recipe <EOS>', '<BOS> a man cuts a vegetable <EOS>', '<BOS> a man cutting a potato through a knife inorder to make sandwiches <EOS>', '<BOS> a man is cutting a potato <EOS>', '<BOS> a man is cutting potato into pieces <EOS>', '<BOS> a man is cutting potato <EOS>', '<BOS> a man is cutting the potato using knife <EOS>', '<BOS> a man is preparing food <EOS>', '<BOS> a man is slicing a potato <EOS>', '<BOS> a man is slicing a potato <EOS>', '<BOS> a man is slicing a potato <EOS>', '<BOS> a man is slicing a potato <EOS>', '<BOS> a man is slicing a potato <EOS>', '<BOS> a man is slicing a potato <EOS>', '<BOS> a man is slicing potatoes <EOS>', '<BOS> a person is cutting the aloe <EOS>', '<BOS> man cutting a potato into pieces <EOS>', '<BOS> man makes gyro sandwich <EOS>', '<BOS> someone is cutting a potato on a ctting board <EOS>', '<BOS> someone is slicing vegetable <EOS>', '<BOS> a man is slicing potatoes <EOS>', '<BOS> the person is cutting the potato <EOS>'], 'vid153': ['<BOS> a woman feeds a man food <EOS>', '<BOS> a man takes a bite of something a woman is holding in her hand <EOS>', '<BOS> a woman is feeding a man <EOS>', '<BOS> a woman puts food in a man s mouth <EOS>', '<BOS> a woman puts a piece of food into a man s mouth <EOS>', '<BOS> a woman is feeding a man <EOS>', '<BOS> a woman is feeding a man <EOS>', '<BOS> a woman feeds a man a piece of food <EOS>', '<BOS> a woman is seducing a man by feeding him with her fingers <EOS>', '<BOS> a woman is feeding a man <EOS>', '<BOS> a woman is feeding a man <EOS>', '<BOS> a woman is feeding a man <EOS>', '<BOS> a woman is feeding a man <EOS>', '<BOS> the lady fed some food to the man <EOS>', '<BOS> the woman is feeding the man <EOS>', '<BOS> a woman gives a man some food <EOS>', '<BOS> the girl fed some food to the man <EOS>', '<BOS> featuring a film <EOS>', '<BOS> in the tamil movie boomiga and vijay sit and talk and she gave him some food <EOS>', '<BOS> a couple are eating together <EOS>', '<BOS> a girl is feeding a man <EOS>', '<BOS> a woman handfeeds something to a man <EOS>', '<BOS> a woman seductively feeds a man with her fingers <EOS>', '<BOS> a woman <EOS>', '<BOS> a young man and a woman in a scene from an indian film <EOS>', '<BOS> an indian girl feeds a man by hand <EOS>', '<BOS> sourving food <EOS>', '<BOS> the lady feeds the food to his lover <EOS>', '<BOS> the person is eating <EOS>', '<BOS> the woman is fedding the man <EOS>', '<BOS> vijay and boomika acting very super <EOS>', '<BOS> a lovers are eating some food <EOS>', '<BOS> a woman is feeding a man <EOS>', '<BOS> women giving food to men <EOS>'], 'vid1408': ['two men appear to be fighting or wrestling', 'two men are fighting', 'two men are fighting', 'two men are fighting with each other', 'two men are fighting', 'two men are talking aggressively', 'two men are pushing each other around', 'a man is pushing another man', 'two men are fighting', 'two men are fighting with each other', 'two men are fighting', 'two men are fighting with each other', 'one man pushed another man away', 'the men are fighting with each other', 'two men are struggling on a sidewalk', 'two men argue', 'one man fought with another man who was trying to comfort him', 'two men are fighting', 'they are fighting', 'the boy is talking', 'two men tussle on the street', 'two men are fighting each other', 'two guys are fighting', 'two men are fighting', 'a man is fighting with the other man', 'we mikie dread tv is very good', 'two men are fighting', 'two men are quarreling each other', 'two men are fighting', 'a man is trying to calm another man down', 'a black and white man are fighting', 'two men are fighting', 'two guys are fighting', 'men are fightig', 'two men are wrestling', 'two men negotiating on some kind of serious matter', 'the man did not want to be comforted by the other man', 'two men begin fighting', 'the men are fighting', 'two men are fighting', 'the men are fighting'], 'vid1033': ['<BOS> a woman cuts a boiled egg in slices <EOS>', '<BOS> a person chops a mushroom <EOS>', '<BOS> a woman is slicing a mushroom into thin slices <EOS>', '<BOS> a woman is slicing an egg into pieces <EOS>', '<BOS> a woman slices a mushroom <EOS>', '<BOS> a woman is slicing a mushroom <EOS>', '<BOS> a woman is slicing mushroom <EOS>', '<BOS> a woman with a knife is cutting a mushroom <EOS>', '<BOS> a woman cuts up a mushroom <EOS>', '<BOS> a woman is cutting mushrooms <EOS>', '<BOS> someone is slicing a mushroom <EOS>', '<BOS> a woman is slicing a mushroom <EOS>', '<BOS> the lady sliced a boiled egg <EOS>', '<BOS> a woman slices a mushroom <EOS>', '<BOS> the woman is slicing a mushroom <EOS>', '<BOS> a woman chops up some vegetables <EOS>', '<BOS> the lady sliced a boiled egg <EOS>', '<BOS> the person is cutting the something <EOS>', '<BOS> the women is cutting boil egg with nife <EOS>', '<BOS> mashrum cutting <EOS>', '<BOS> a person is slicing a mushroom <EOS>', '<BOS> a girl is slicing an egg <EOS>', '<BOS> a woman is cutting a mushroom <EOS>', '<BOS> a woman is slicing a mushroom <EOS>', '<BOS> a woman slices a mushroom <EOS>', '<BOS> someone is slicing a mushroom <EOS>', '<BOS> a chinese lady is cutting onions inorder to make omurice <EOS>', '<BOS> a woman is cutting mushrooms <EOS>', '<BOS> a women making food with her dog <EOS>', '<BOS> a man cooking his kichen <EOS>', '<BOS> the woman is slicing mushrooms <EOS>', '<BOS> the women is cutting the egg <EOS>', '<BOS> a woman is slicing a mushroom <EOS>', '<BOS> how to make omurice video <EOS>', '<BOS> a woman is slicing a mushroom <EOS>', '<BOS> a woman chops a mushroom <EOS>', '<BOS> a chef demonstrates proper mushroom cutting techniques <EOS>'], 'vid1037': ['<BOS> a woman seasons green peas in a small glass bowl <EOS>', '<BOS> a woman salts a bowl of peas <EOS>', '<BOS> a woman is adding salt on the peas and mixing it <EOS>', '<BOS> a chef puts salt on some peas <EOS>', '<BOS> a woman is putting salt on a small bowl of peas <EOS>', '<BOS> a woman is adding spices to greenpiece <EOS>', '<BOS> a woman is salting peas <EOS>', '<BOS> a person is seasoning peas <EOS>', '<BOS> a woman seasons a small bowl of peas <EOS>', '<BOS> a woman is seasoning a bowl of peas <EOS>', '<BOS> someone is salting peas <EOS>', '<BOS> a woman adds salt to a bowl of peas <EOS>', '<BOS> a woman adds salt to green peas in a bowl and mixes it using her fingers <EOS>', '<BOS> the lady added salt to the peas <EOS>', '<BOS> the woman is seasoning and mixing peas <EOS>', '<BOS> a woman seasons some peas <EOS>', '<BOS> someone added salt to the peas <EOS>', '<BOS> learn to make delicious omurice <EOS>', '<BOS> a woman is putting salt on peas <EOS>', '<BOS> a yummy dish beautifully garnished <EOS>', '<BOS> a woman is preparing food <EOS>', '<BOS> a woman is seasoning peas <EOS>', '<BOS> a man is mixing the green peas <EOS>', '<BOS> a man is pour a salt <EOS>', '<BOS> someone is moving peas around in a bowl <EOS>', '<BOS> someone is mixing peas <EOS>', '<BOS> the woman is adding a spice and mixing green peas <EOS>', '<BOS> a woman is mixing something into green peas <EOS>', '<BOS> one lady is preparing a dish with his dog <EOS>', '<BOS> a woman mixes salt into a cup of peas <EOS>', '<BOS> a man cooking his kichen <EOS>', '<BOS> a woman adds seasoning to a bowl of peas <EOS>', '<BOS> the woman is seasoning peas <EOS>', '<BOS> a man is cooking chicken rice <EOS>', '<BOS> a woman sprinkles peas with salt and mixes them <EOS>'], 'vid1401': ['a woman is riding a horse inside a track', 'a woman is riding on a horse', 'a woman rides a horse', 'a woman is riding a horse', 'a woman is riding a horse', 'a woman is riding a horse', 'a girl is riding a horse', 'a woman is riding a horse along a perimeter', 'a young woman rides a horse', 'a woman is riding a horse', 'a woman is riding a horse which is trotting slowly along the periphery of a sandy enclosure in the open', 'a woman riding a horse', 'the horse and rider trotted around the ring', 'the woman is riding a horse', 'a woman is riding a horse', 'someone rode a horse in the ring', 'a girl is riding in a horse', 'a girl is riding in the horse', 'a horse and rider are cantoring around a arena', 'a man ride on horse', 'a man riding a horse', 'a woman is riding a horse', 'a woman is riding a horse', 'a woman is riding horse', 'storm and josie', 'the girl is riding the horse', 'the man teaching to girl how to ride on horse', 'a girl gallops around a horse corral on top of a horse', 'a girl is riding a horse outside', 'a girl rides a horse', 'a horse is ridden around a ring', 'a lady is riding on horse', 'a lady is riding the horse', 'a man is riding a horse', 'a man is riding a horse', 'a man is riding a horse', 'a man riding a horse', 'a person rides a horse around a rink', 'a person rides a horse', 'a rider exercises a horse outside', 'a show jumper rides her horse around a paddock', 'a woman enjoying horse riding in a horse farm', 'a woman is riding a horse around an arena', 'a woman is riding a horse in a stable', 'a woman is riding a horse', 'a woman is riding a horse', 'a woman is riding horse', 'a woman is riding on a horse', 'a woman rides a horse', 'a woman riding a horse', 'a woman riding on a horse', 'a woman riding on a horse', 'a woman riding with a horse', 'a women riding a horse in an arena', 'people riding the horse', 'she is doing a horse ride performance in an enclosed area', 'someone is riding a horse', 'a horse ride show', 'a man is riding on the horse'], 'vid1039': ['<BOS> someone is slicing a tomato with a serrated knife <EOS>', '<BOS> a person slices a tomato <EOS>', '<BOS> a person is slicing a tomato <EOS>', '<BOS> a person is slicing a tomato into slices <EOS>', '<BOS> a chef is slicing a tomato <EOS>', '<BOS> a person is cutting a tomato into slices with a knife <EOS>', '<BOS> a woman is slicing tomato <EOS>', '<BOS> a person slices a tomato <EOS>', '<BOS> a woman is slicing some tomatoes <EOS>', '<BOS> someone is slicing a tomato <EOS>', '<BOS> someone is slicing a tomato <EOS>', '<BOS> a person is slicing a tomato <EOS>', '<BOS> a woman is slicing a whole red juicy tomato with a knife <EOS>', '<BOS> the man sliced the tomatoe <EOS>', '<BOS> the man is slicing a tomato <EOS>', '<BOS> a woman is slicing a tomato <EOS>', '<BOS> a person cuts tomatos <EOS>', '<BOS> the man sliced a tomatoe <EOS>', '<BOS> a man is slicing tomato <EOS>', '<BOS> anyone is slicing tomato <EOS>', '<BOS> someone is slicing a tomatoe <EOS>', '<BOS> a chef slicing a tomato into pieces <EOS>', '<BOS> a man cooking his kichen <EOS>', '<BOS> a man cuttin tomato <EOS>', '<BOS> a person is slicing a tomato with a knife <EOS>', '<BOS> a person is slicing a tomato <EOS>', '<BOS> a person is slicing tomatoes <EOS>', '<BOS> a person make the tomato salad <EOS>', '<BOS> a woman is slicing a tomato <EOS>', '<BOS> a woman is slicing a tomato <EOS>', '<BOS> a woman is slicing some tomatoes <EOS>', '<BOS> a woman is slicing some tomatoes <EOS>', '<BOS> the person is cutting the tamto <EOS>', '<BOS> the person is slicing the tomato <EOS>', '<BOS> the woman is slicing tomatoes <EOS>', '<BOS> the person is cutting the tomato <EOS>', '<BOS> a cook slices a tomato <EOS>'], 'vid1660': ['shakira dances and sings', 'a girl danced and sang in a group on stage', 'a woman is dancing and singing with other women', 'a woman is dancing while singing', 'a woman is dancing with other women', 'five women are dancing and one of them is singing', 'shakira is dancing and singing', 'shakira sings and dances', 'shakkira is singing and dancing', 'the ladies danced on the stage', 'the women are singing and dancing', 'women are dancing', 'women are dancing', 'a woman is dancing and singing', 'a woman is dancing', 'a woman is singing and dancing', 'a woman is singing and dancing', 'she is dancing', 'a beautiful girl in a red dress singing while drummers play in the background', 'a group of dancers is performing some sort of dance', 'a group of women are dancing', 'a lady and crew performing for the theme song of foot ball', 'a woman is dancing and singing with backup dancers', 'a woman is dancing in colorful clothing while a group of people dance behind her', 'a woman is singing and dancing with four women dancing behind her', 'a woman is singing while musicians and dancers perform behind her', 'a woman is singing', 'a young woman is singing and dancing with a group of dancing people', 'five woman are dancing', 'five women are dancing', 'five women perform an exotic dance', 'people are dancing', 'people playing football', 'several girls dance while one sings', 'shakira performing in a album near a beach', 'vedio is blocked', 'women dance', 'women are dancing'], 'vid1925': ['a baby panda bear is crawling', 'a baby panda crawls up a step', 'a baby panda is climbing a single step', 'a baby panda is climbing a step', 'a baby panda is climbing a step', 'a baby panda is crawling up some stairs', 'a baby panda squeals as she manages to climb a step', 'a panda bear climbs a step', 'a panda bear climbs up a step', 'a panda bear is sliding on it s stomach', 'a panda climbs up a step', 'a panda crawls up a cement step', 'a panda drags itself over a step', 'a young panda is clmbing up a ledge', 'the panda bear had a hard time getting up the stairs', 'the panda bear went up the stairs on his belly', 'the panda is trying to crawl', 'a baby panda is lying on the road', 'a baby panda is tring to stand up', 'a baby panda walks around and does some strange sounds', 'a panda bear tries to climb up some stairs', 'a pathetic panda trying to walk', 'baby panda crawling on the road', 'the baby panda ever moving', 'the baby panda is climbing the steps', 'the most pathetic baby panda ever', 'the most pathetic baby panda ever', 'a baby of panda', 'a baby panda is crawling up onto a step', 'a baby panda is crawling', 'a baby panda is smelling the ground', 'a baby panda is struggling to get up a ledge', 'a baby panda is trying to climb over the ramp', 'a baby panda is trying to get on the steps', 'a baby panda takes a step up', 'a baby panda tries to get up and over a step', 'a baby panda trying to walk', 'a cat is sucking the stairs', 'a panda climbs a step', 'a panda is roaming around', 'a panda is searching something', 'a panda is walking along upstairs', 'a panda sitting over the stairs and trying to drag himself upto it', 'an animal is crawling', 'baby panda is lying', 'baby panda is walking', 'a bear is trying to get down the steps', 'the animal is walking', 'baby panda crawling'], 'vid1141': ['<BOS> someone is petting some kind of animal <EOS>', '<BOS> a person is tickling a slow loris <EOS>', '<BOS> a slow loris is being tickled <EOS>', '<BOS> a small primate is holding onto a woman s fingers <EOS>', '<BOS> a person is itching a lory s hand <EOS>', '<BOS> a person is petting a baby sloth <EOS>', '<BOS> a woman is petting a animal <EOS>', '<BOS> a person is scratching a slow loris <EOS>', '<BOS> a woman is rubbing a slow loris <EOS>', '<BOS> a woman is holding and scratching a loris <EOS>', '<BOS> someone is scratching a small animal <EOS>', '<BOS> a woman is petting a monkey <EOS>', '<BOS> someone is tickling an animal <EOS>', '<BOS> a woman is scratching a small animal <EOS>', '<BOS> the lady scratched the little monkey <EOS>', '<BOS> the woman is scratching the animal <EOS>', '<BOS> a man plays with a baby lemur <EOS>', '<BOS> someone scratched the mammal s stomach <EOS>', '<BOS> a woman is petting a loris <EOS>', '<BOS> a person is playing with pet <EOS>', '<BOS> a boy is playing with cat <EOS>', '<BOS> a small animal is tickled <EOS>', '<BOS> sonya is enjoying with her pet <EOS>', '<BOS> a man is playing with some animals <EOS>', '<BOS> a woman is petting a lemur <EOS>', '<BOS> scratching a baby sonya <EOS>', '<BOS> a person petting a animal <EOS>', '<BOS> a person playing with an animal <EOS>', '<BOS> a man is petting a small fuzzy creature <EOS>', '<BOS> the person is doing the something <EOS>', '<BOS> a women is lookingout of her pet animal sonya <EOS>', '<BOS> a woman is petting a lemur <EOS>', '<BOS> a slow loris holds the fingers of a lady <EOS>', '<BOS> the woman is tickling the lemur <EOS>', '<BOS> a woman is petting a slow loris <EOS>', '<BOS> a person pets an animal <EOS>'], 'vid1883': ['pink floyd performing onstage and video', 'a ban is performing out stage', 'a man is playing a guitar on a stage with a band', 'a man is playing the guitar and singing', 'a man is singing and playing a guitar', 'a man is singing and playing a guitar', 'a man is singing and playing a guitar', 'a man is singing and playing guitar', 'a man is singing and playing the guitar', 'a man is singing while playing the guitar', 'a man strumming a guitar is singing on stage', 'david gilmour sings and plays the guitar', 'pink floyd performs sings and plays guitar', 'the band pink floyd in concert', 'the man sang and played his guitar on stage', 'the man singing and playing the guitar', 'the singer played his guitar', 'the video starts with a man playing a guitar and then the scene switches to a man wearing a hat and cape leaping up in a field of wheat', 'pink floyd singing in a concert', 'a band is performing on a stage', 'the person is learning to fly', 'a man is playing the guitar and singing', 'learning how to fly', 'a man is playing a guitar', 'a man is singing while playing guitar', 'a singer is performing', 'the mountain is looking beautiful', 'a man is playing guitar', 'the band pink floyd is on stage performing a concert', 'someone is playing guitar and singing', 'a man is singing and playing guitar on a stage', 'a man is playing guitar and singing', 'a man is singing asong', 'a man playing a guitar', 'a man plays guitar and sings', 'a man singing and playing guitar', 'learning to fly', 'a singing while playing a guitar', 'a man singing and playing guitar in a concert', 'a man flying in the air with a bloon', 'a man is on stage playing his guitar and singing', 'a guy is going to jump from the mountain', 'a man learning to fly', 'music to fly', 'a guitarist sings into a microphone', 'a singer sings along with his orchestra on stage', 'a band is performing a song for a music video', 'a men singing a song', 'a man is singing', 'a man is playing electric guitar onstage', 'pink floyd and learning to fly'], 'vid1394': ['a baby sloth moving about in a container', 'a baby sloth is climbing over the edge of a plastic enclosure', 'a baby sloth is climbing the side of a crib', 'a baby sloth is exploring a camera', 'a baby sloth is playing', 'a sloth is interacting with the camera', 'a small sloth stares into the camera', 'an animal plays in its container', 'the baby sloths are lying down in a plastic tub', 'the sloth tried to get out of his box', 'the sloth tried to get out of the box', 'two sloths are in a plastic bin', 'baby sloth video', 'a sloth is climbing', 'the cat is in the trally', 'the baby is coming outside', 'baby sloths are shown in their bed', 'baby sloths in costa rica', 'a sloth is in a plastic bin', 'a small animal is try to get out from the cradle', 'a baby sloth is roaming', 'an animal is lying', 'baby sloths is trying to come out', 'a baby sloth is hanging onto the edge of a container', 'a bear is playing on the bed', 'a baby sloth investigates the camera', 'a animal is trying to get up', 'a baby sloth climbing', 'a baby sloth is moving about in his crib', 'baby sloths in playing', 'an animal is peeping out of its tub', 'a baby sloth trying to see himself in the camera', 'a baby sloth is playing', 'a baby sloth is moving around', 'a pet animal is seeing in the camera', 'a baby sloths in costa rica', 'a baby sloth moves around', 'a baby sloth is playful', 'a sloth is clinging onto the edge of its containment', 'a baby sloths is trying to come out', 'baby sloths are laying in their bedding', 'very cute baby sloths in costa rica', 'hey'], 'vid1396': ['dwayne wade does a fancy layup in an allstar game', 'a basketball game is in play', 'a basketball player charges the basket and makes his shot', 'a basketball player makes a shot', 'a man is throwing the basketball into the hoop', 'a player scores in a basketball game', 'during a basketball game a player scores', 'dwayne wade is making basket', 'men are playing basket ball', 'men are running down a basketball court', 'some men are playing basketball', 'the basketball player made a running basket', 'the white uniformed basketball team scored a basket', 'two teams are playing basketball and a blue team inmate puts the ball in the basket', 'two teams playing basket ball', 'the rating of best basket ball shots', 'dwayane circus move', 'men are playing basketball', 'men are playing basketball', 'miami heat basketball team playing at home', 'players playing football', 'a basketball match is going on', 'a basketball player dribbles towards the hoop and does a layup', 'a basketball player makes a basket', 'a football match scene', 'a game in process', 'a group of persons are playing basket ball', 'a man makes a basket in basketball', 'a shot at the basket in a game of basketball', 'basketball player makes great hoop shot', 'it s a part of a basketball game', 'men are playing a game of basketball', 'men are playing basketball', 'mens are playing basketball', 'people are playing basketball', 'players are playing a basketball match', 'players are playing basketball', 'some players are playing basketball', 'the basketball team got a basket', 'the man made a turnaround basket', 'the men are playing basketball', 'the white basketball team made a basket', 'two teams are playing a basketball game', 'two teams are playing basketball on television', 'two teams are playing basketball', 'two teams are playing basketball', 'basket ball is played by players'], 'vid557': ['<BOS> a woman and a man are seated at a small table eating sandwiches <EOS>', '<BOS> a man and woman are eating at a table <EOS>', '<BOS> a man and a woman are drinking their drinks <EOS>', '<BOS> a couple are talking and drinking cokes <EOS>', '<BOS> a boy and girl is talking <EOS>', '<BOS> a man and woman are talking <EOS>', '<BOS> a man and woman are talking at a table <EOS>', '<BOS> a man and a woman eat a meal together <EOS>', '<BOS> a boy <EOS>', '<BOS> a girl and boy are speaking to each other <EOS>', '<BOS> a man and woman are eating and talking <EOS>', '<BOS> two people are talking <EOS>', '<BOS> a man and woman are eating at a table <EOS>', '<BOS> the couple ate dinner at a little table <EOS>', '<BOS> the man and woman are eating <EOS>', '<BOS> two people talk at dinner <EOS>', '<BOS> a man and a woman talk to each other <EOS>', '<BOS> the couple ate their dinner at a small table <EOS>', '<BOS> black and white english movie showing a young man and women on a date <EOS>', '<BOS> a couple are drinking softdrink <EOS>', '<BOS> what do on a date <EOS>', '<BOS> the boy and girl is eating and drinking <EOS>', '<BOS> a young man and a woman dating <EOS>', '<BOS> a couple are talking over dinner <EOS>', '<BOS> the man and the lady sit inside the hotel and drink juice and chat with each other <EOS>', '<BOS> a man and woman are sitting in front of the dinning table <EOS>', '<BOS> a man and a woman is on a date drinking soda <EOS>', '<BOS> a man and lady drinking cold drink <EOS>', '<BOS> a man and a woman are talking <EOS>', '<BOS> two lovers were talking <EOS>', '<BOS> two people are eating <EOS>', '<BOS> a man and a woman were talking <EOS>', '<BOS> a boy <EOS>', '<BOS> a couple drinking cool drinks and discussing <EOS>', '<BOS> they are going to drinking something <EOS>', '<BOS> a cuple taking colddrink <EOS>', '<BOS> two person is eating they dinner <EOS>', '<BOS> the man and woman are getting ready to eat <EOS>', '<BOS> a men and women take dinner <EOS>', '<BOS> a man is talking to a girl <EOS>', '<BOS> a man is talking to a girl <EOS>', '<BOS> a man and a woman make conversation <EOS>'], 'vid553': ['<BOS> four girls are dancing onstage <EOS>', '<BOS> a group of girls are dancing to music on stage <EOS>', '<BOS> a group of girls are doing a dance routine on stage <EOS>', '<BOS> a group of girls dance onstage <EOS>', '<BOS> a group of girls is performing a dance routine onstage <EOS>', '<BOS> children are dancing on a stage <EOS>', '<BOS> children are singing and dancing on stage <EOS>', '<BOS> five girls are performing a dance on stage <EOS>', '<BOS> five preteen girls in jeans are dancing on a stage <EOS>', '<BOS> girls are dancing on a stage <EOS>', '<BOS> girls are dancing on a stage <EOS>', '<BOS> girls are dancing on a stage <EOS>', '<BOS> girls perform onstage <EOS>', '<BOS> kids are dancing <EOS>', '<BOS> the girls are dancing on the stage <EOS>', '<BOS> the girls danced on stage <EOS>', '<BOS> the girls performed a dance on stage <EOS>', '<BOS> a group of gills are dancing in the stage <EOS>', '<BOS> a group of girls are dancing on a stage <EOS>', '<BOS> a group of girls dancing on the stage <EOS>', '<BOS> a group of girls performing in a stage <EOS>', '<BOS> artists dancing on the stage <EOS>', '<BOS> five girls are dancing <EOS>', '<BOS> five girls dancing on a stage <EOS>', '<BOS> girls dancing on the stage <EOS>', '<BOS> it is a music concert show <EOS>', '<BOS> some children dancing on the stage <EOS>', '<BOS> some children is dancing <EOS>', '<BOS> some girls are dancing <EOS>', '<BOS> the five girls are dancing on the stage <EOS>', '<BOS> the girls are dancing in the stage <EOS>', '<BOS> the nice batch of friends <EOS>', '<BOS> young girls dancing on stage <EOS>', '<BOS> a few girls are dancing on stage <EOS>', '<BOS> a group of girls are dancing onstage <EOS>', '<BOS> a group of young girls are dancing on a stage <EOS>', '<BOS> all are dancing <EOS>', '<BOS> children are dancing and singing on a stage <EOS>', '<BOS> children are dancing on a stage <EOS>', '<BOS> children dance on stage <EOS>', '<BOS> five girls are dancing on stage <EOS>', '<BOS> five girls dancing on a stage <EOS>', '<BOS> girls are dancing on a stage <EOS>', '<BOS> girls are dancing on the stage <EOS>', '<BOS> girls are doing a choreographed dance routine <EOS>', '<BOS> girls are performing <EOS>', '<BOS> girls performing in a play on a stage <EOS>', '<BOS> group is performing dance on the stage <EOS>', '<BOS> kids are dancing <EOS>', '<BOS> kids are playing <EOS>', '<BOS> kids dance on stage <EOS>', '<BOS> several children are dancing onstage <EOS>', '<BOS> several girls are dancing on a stage <EOS>', '<BOS> some children are singing <EOS>', '<BOS> some children perform on stach <EOS>', '<BOS> some children singing and dancing in time <EOS>', '<BOS> some girls dancing on the floor <EOS>', '<BOS> some people are dancing on the stage <EOS>', '<BOS> the children s are dancing <EOS>', '<BOS> very cute girls dancers <EOS>', '<BOS> women are dancing on stage <EOS>', '<BOS> putting up a show <EOS>'], 'vid552': ['<BOS> a group of young girls are dancing on stage <EOS>', '<BOS> a group of girls perform a dance onstage <EOS>', '<BOS> a group of kids are dancing <EOS>', '<BOS> a group of preteen girls practicing a dance routine <EOS>', '<BOS> a group of young girls are performing a dance show on the stage <EOS>', '<BOS> children are dancing on a stage <EOS>', '<BOS> five girls are performing on a stage <EOS>', '<BOS> five girls are singing and dancing <EOS>', '<BOS> five young girls are performing a dance on stage <EOS>', '<BOS> girls are dancing on a stage <EOS>', '<BOS> girls are dancing on a stage <EOS>', '<BOS> kids are dancing on stage <EOS>', '<BOS> kids are dancing onstage <EOS>', '<BOS> kids are singing and dancing on a stage <EOS>', '<BOS> some girls are dancing on a stage <EOS>', '<BOS> the girls are dancing on stage <EOS>', '<BOS> the girls danced on the stage <EOS>', '<BOS> the girls danced on the stage <EOS>', '<BOS> a group of girls are dancing in the program <EOS>', '<BOS> a group of girls are dancing on stage <EOS>', '<BOS> a group of girls are performing on stage <EOS>', '<BOS> all girls are dancing <EOS>', '<BOS> some children are performing on stage <EOS>', '<BOS> some children on the stage <EOS>', '<BOS> the girls are dancing in the stage <EOS>', '<BOS> the xhildren are performing on a stage <EOS>', '<BOS> young girls dancing on stage to a musical number <EOS>', '<BOS> a group dance is being performed on the stage <EOS>', '<BOS> a set of young girls dancing on a stage <EOS>', '<BOS> children are dancing on a stage <EOS>', '<BOS> children are dancing on stage <EOS>', '<BOS> children are dancing on stage <EOS>', '<BOS> children are in a play onstage <EOS>', '<BOS> children are performing on stage <EOS>', '<BOS> few childrens practising on a stage for some kind of play or concert <EOS>', '<BOS> five children are dancing together on a stage <EOS>', '<BOS> five girls are dancing on stage <EOS>', '<BOS> five school girls are dancing on stage <EOS>', '<BOS> five woman were dancing <EOS>', '<BOS> girls are dancing on stage <EOS>', '<BOS> girls are dancing on the stage <EOS>', '<BOS> girls are doing a choreographed routine on a stage <EOS>', '<BOS> girls are performing <EOS>', '<BOS> girls child dancingperforming on the stage <EOS>', '<BOS> girls were dancing on a stage <EOS>', '<BOS> kids are dancing <EOS>', '<BOS> kids are playing <EOS>', '<BOS> kids dance around on a stage <EOS>', '<BOS> several girls are dancing on a stage <EOS>', '<BOS> some young girls are dancing on a stage <EOS>', '<BOS> the girls are performing on stage <EOS>', '<BOS> the kids are dancing <EOS>', '<BOS> the little girls are dancing on stage <EOS>', '<BOS> very cute girls dance is very super <EOS>', '<BOS> a girls are dancing on the stage <EOS>', '<BOS> the peoples is playing song and dancing <EOS>'], 'vid551': ['<BOS> ingredients are being mixed in a bowl <EOS>', '<BOS> a chef melts butter in a pan <EOS>', '<BOS> a cook mixes some butter in a pan <EOS>', '<BOS> a man is cooking some dish <EOS>', '<BOS> a man is melting a block of butter in a pan and thereafter adds some crushed garlic to it <EOS>', '<BOS> a person is heating butter in a pan <EOS>', '<BOS> a person is melting butter in a pan <EOS>', '<BOS> a person is melting butter in a pot <EOS>', '<BOS> a person is melting butter in a stove pot and stirring it <EOS>', '<BOS> a person is mixing ingredients in a pot <EOS>', '<BOS> a person melts a stick of butter in a pan <EOS>', '<BOS> an individual stirsmelts a stick of butter in a pot <EOS>', '<BOS> butter is being melted in a pot <EOS>', '<BOS> butter is melted in a saucepan <EOS>', '<BOS> someone is melting butter in a pan <EOS>', '<BOS> someone melted a stick of butter in a pot <EOS>', '<BOS> someone melted butter in a pot <EOS>', '<BOS> the cook is melting butter <EOS>', '<BOS> a female is making dish <EOS>', '<BOS> a garlic mashed potato is placed on the table <EOS>', '<BOS> a man is melting butter in a pot <EOS>', '<BOS> a potato recipe is placed on the table <EOS>', '<BOS> garlic mashed potatoes <EOS>', '<BOS> good expalaining <EOS>', '<BOS> man preparing garlic mashed potatoes <EOS>', '<BOS> someone is preparing something <EOS>', '<BOS> someone making galic mashed potatoes <EOS>', '<BOS> someone working in the kitchen <EOS>', '<BOS> the man is showing how to do garlic mashed potatoes <EOS>', '<BOS> a chef melts butter in pan to stew cloves of garlic <EOS>', '<BOS> a lady is mixing butter <EOS>', '<BOS> a man cooking some sort of unique recipe through garlic and potatoes <EOS>', '<BOS> a man is melting butter in a pan <EOS>', '<BOS> a man is mixing potatoes <EOS>', '<BOS> a man is preparing garlic mashed potatoes <EOS>', '<BOS> a man is putting the butter in the vessel after it melts he is putting garlic in it <EOS>', '<BOS> a man melted butter in a pan <EOS>', '<BOS> a person is cooking <EOS>', '<BOS> a person is melting butter in a pan on the stove <EOS>', '<BOS> a person melts butter in a skillet <EOS>', '<BOS> a women is preparing a dish <EOS>', '<BOS> butter is being melted in a pan <EOS>', '<BOS> butter is being melted in a pot <EOS>', '<BOS> butter is melted and swirled around in a pot <EOS>', '<BOS> man belting butter in pot <EOS>', '<BOS> melting butter in a hot vessel <EOS>', '<BOS> somebody is cooking <EOS>', '<BOS> someone is melting butter in a pot <EOS>', '<BOS> someone is mixing a pot <EOS>', '<BOS> the person cooking with potatoes <EOS>', '<BOS> garlic paste in the pan <EOS>'], 'vid127': ['<BOS> a man is playing basketball with a large black dog <EOS>', '<BOS> a man is playing basketball with a dog <EOS>', '<BOS> a man and a dog are playing basketball <EOS>', '<BOS> a man and a dog are playing a basketball <EOS>', '<BOS> a dog is bouncing a ball and putting it into a basketball rim <EOS>', '<BOS> a man is playing basketball with a dog <EOS>', '<BOS> a dog is dribbling a basketball and then puts it into a basket <EOS>', '<BOS> a man <EOS>', '<BOS> a man is playing basketball with his dog <EOS>', '<BOS> a dog is bouncing a ball <EOS>', '<BOS> a man and dog are playing basketball <EOS>', '<BOS> a black pet dog dribbles a basketball <EOS>', '<BOS> the dog played basketball with the man <EOS>', '<BOS> the dog is playing basketball with the man <EOS>', '<BOS> a dog dribbles a basketball <EOS>', '<BOS> a dog makes a basket <EOS>', '<BOS> the dog dribled the basketball with the man and made a basket <EOS>', '<BOS> a dog is playing basketball <EOS>', '<BOS> a black dog plays basketball with its master and even makes a basket <EOS>', '<BOS> a person playing basketball with a dog <EOS>', '<BOS> the boy and dog is playing the ball <EOS>', '<BOS> an old man is playing with pet <EOS>', '<BOS> a man dog playing with ball <EOS>', '<BOS> the dog dribbled the ball and made a basket with the man <EOS>', '<BOS> a dog is playing <EOS>', '<BOS> the dog is playing basketball <EOS>', '<BOS> a dog is tossing and scoring a basketball <EOS>', '<BOS> a man and a dog is playing bassket ball <EOS>'], 'vid122': ['<BOS> a man cuts some bread <EOS>', '<BOS> a man is slicing a bread <EOS>', '<BOS> a man is slicing a large piece off of a loaf of bread <EOS>', '<BOS> a man is slicing open a loaf of bread <EOS>', '<BOS> a man slices a loaf of bread <EOS>', '<BOS> a man slices into meat <EOS>', '<BOS> a person cuts a piece of bread <EOS>', '<BOS> a person is cutting a food <EOS>', '<BOS> a person is cutting off a piece of bread <EOS>', '<BOS> a person is slicing bread with a knife <EOS>', '<BOS> a person is slicing some bread <EOS>', '<BOS> a woman cuts bread with a bread knife <EOS>', '<BOS> a woman is cutting bread <EOS>', '<BOS> a woman is slicing bread <EOS>', '<BOS> food is cut <EOS>', '<BOS> someone is slicing bread <EOS>', '<BOS> someone is slicing bread <EOS>', '<BOS> the lady cut a loaf of bread <EOS>', '<BOS> the lady cut the loaf of bread <EOS>', '<BOS> the man is slicing bread <EOS>', '<BOS> learn how to bake bread easily <EOS>', '<BOS> the person is cutting the something <EOS>', '<BOS> chaped ht ebread in to pieces <EOS>', '<BOS> a person slices bread <EOS>', '<BOS> a man is cutting something <EOS>', '<BOS> someone is cutting up a loaf of bread <EOS>', '<BOS> a man is cutting the bread into pieces <EOS>', '<BOS> someone is slicing some bread <EOS>', '<BOS> he is cutting on the bred <EOS>', '<BOS> chopped one bread into 2 pieces <EOS>', '<BOS> a man is slicing some bread <EOS>', '<BOS> a man is cutting bread <EOS>', '<BOS> a man coking <EOS>', '<BOS> somebody is slicing a bread <EOS>', '<BOS> a man making the slices of bread <EOS>', '<BOS> a man cooking his kichen <EOS>', '<BOS> lazy man s bread <EOS>', '<BOS> a woman is slicing bread <EOS>', '<BOS> the woman is slicing bread <EOS>', '<BOS> a man is slicing some bread <EOS>', '<BOS> some slices a hot loaf of bread <EOS>'], 'vid651': ['<BOS> a man is cutting up a tubular looking white vegetable with a purple rind <EOS>', '<BOS> a person slices eggplant <EOS>', '<BOS> a man is slicing an eggplant <EOS>', '<BOS> a man is cutting a purple skinned vegetable into pieces <EOS>', '<BOS> a man is slicing an eggplant into pieces <EOS>', '<BOS> a man is slicing a vegetable <EOS>', '<BOS> a man is chopping egg plant <EOS>', '<BOS> a man is cutting a vegetable <EOS>', '<BOS> a man is cutting an eggplant <EOS>', '<BOS> a guy is slicing food <EOS>', '<BOS> a man is slicing an eggplant <EOS>', '<BOS> a man chops slender violet brinjals into two and thereafter slices them at the center <EOS>', '<BOS> the man sliced the eggplant <EOS>', '<BOS> the man is slicing eggplant <EOS>', '<BOS> a man cuts up eggplant <EOS>', '<BOS> the man cut the eggplant <EOS>', '<BOS> a man chopping up a vegetable <EOS>', '<BOS> a man is cutting a vegetable <EOS>', '<BOS> aditay bal chkale india for cooke progame is vangi batata bhaji for any traning <EOS>', '<BOS> the man show how to cook and prepare the brinjal kothsu <EOS>', '<BOS> the person is cooking <EOS>', '<BOS> vangi batata bhaji <EOS>', '<BOS> a man coking <EOS>', '<BOS> a man cooking his kichen <EOS>', '<BOS> a man explains how to cook <EOS>', '<BOS> a man is cutting a vegetable <EOS>', '<BOS> a man is cutting an eggplant <EOS>', '<BOS> a man is slicing brinjal <EOS>', '<BOS> a man is slicing brinjals <EOS>', '<BOS> a man is slicing eggplant <EOS>', '<BOS> a man is slicing some eggplants <EOS>', '<BOS> aditya bal is talking about how to make vangi batata bhaji <EOS>', '<BOS> the man is cutting eggplant <EOS>', '<BOS> he is cooking <EOS>'], 'vid121': ['<BOS> a cook seasons some dough <EOS>', '<BOS> a man is preparing bread <EOS>', '<BOS> a man is seasoning some dough in a pan <EOS>', '<BOS> a man is sprinkling bread dough with spices <EOS>', '<BOS> a man puts seasoning on some dough <EOS>', '<BOS> a man seasons dough <EOS>', '<BOS> a person is seasoning a tray of dough <EOS>', '<BOS> a person is seasoning dough <EOS>', '<BOS> a person is spreading spice on a dough <EOS>', '<BOS> a person is sprinkling dried herbs onto unbaked bread dough <EOS>', '<BOS> a person seasons a wad of dough <EOS>', '<BOS> herbs are being put on bread dough <EOS>', '<BOS> powder is poured on some dough <EOS>', '<BOS> someone is sprinkling seasonings on bread dough <EOS>', '<BOS> somone seasoned the dough on the floured pan <EOS>', '<BOS> somone seasoned the meat <EOS>', '<BOS> the man is seasoning dough <EOS>', '<BOS> thyme is sprinkled on the dough ready for baking <EOS>', '<BOS> the person is preparing the something <EOS>', '<BOS> a man is making bread <EOS>', '<BOS> a man is seasoning dough <EOS>', '<BOS> something is poured on the bread flour <EOS>', '<BOS> a person seasons dough <EOS>', '<BOS> a person is putting pepper in to the dough <EOS>', '<BOS> the person is seasoning the dough <EOS>', '<BOS> a man is preparing food <EOS>', '<BOS> a man is pour the peeper <EOS>', '<BOS> someone is seasoning a piece of meat <EOS>', '<BOS> someone making a bread <EOS>', '<BOS> a man is seasoning some dough <EOS>', '<BOS> a man is sprinkling herbs over bread dough <EOS>', '<BOS> a person is seasoning some dough <EOS>', '<BOS> a man coking <EOS>', '<BOS> someone is seasoning dough <EOS>', '<BOS> a man preparing bread <EOS>', '<BOS> a man trying to make bread with flour <EOS>', '<BOS> a person is preparing for bread <EOS>', '<BOS> racipe for make the bread <EOS>', '<BOS> a man cooking his kichen <EOS>', '<BOS> lazy man s bread <EOS>', '<BOS> very clear detail for bread making <EOS>', '<BOS> one last decoration before baking the bread <EOS>'], 'vid1246': ['a man cuts a slab of meat', 'a chef is cutting meat', 'a man cuts away a strip of fat from a piece of meat', 'a man is cutting a piece of meat', 'a man is cutting off a strip at one end of a large slab of meat', 'a man is trimming fat from a roast', 'a man is trimming off fat from a roast', 'a man trims fat off of a haunch of meat', 'a person is cutting a strip off a large piece of meat', 'a person is slicing off strips of meat from a large piece', 'fat is being cut off meat', 'the butcher is cutting for the fat from the slab of meat', 'the butcher is slicing the fat off a hunk of meat', 'cutting piece of meat with knife', 'a chef telling about how to use a strip loin and how to cut and trim it', 'a man is standing with a plate', 'someone is trimming the fat from a joint of meat', 'cutting piece of flesh with a knife', 'a butcher cuts some meat', 'a chef is preparing a roast', 'a chef is trimming meat', 'a man cooking his cooking place', 'a man cuting some meat', 'a man is carving meat', 'a man is cutting meat', 'a man is cutting meat', 'a man is cutting meat', 'a man is cutting meat', 'a man is cutting up meat', 'a man is slicing a sterling silver strip loin roasts', 'a man is slicing a strip of meat off of a roast', 'a man is slicing meat', 'a man is slicing the fat off of a piece of mean', 'a man is trimming the fat from a piece of meat', 'a man sliced fat off the piece of meat', 'a man trims a piece of meat', 'about to roast some meat', 'meat is being carved', 'someone is trimming the loin', 'the butcher cut fat off the piece of meat', 'the chef is cutting a strip from a large piece of meat', 'the man is slicing off the fat from the meat', 'the man is trimming the fat off'], 'vid1713': ['two animals are fighting', 'a baboon takes a baby gazelle', 'a monkey and a deer are fighting', 'a gazelle is fighting with a baboon', 'a monkey and a deer is fighting each other', 'a baboon is kidnapping a gazelle', 'a baboon fights with a gazelle over an object', 'a gazelle is attacking a baboon', 'two animals are fighting', 'a gazelle is charging at a baboon', 'a gazelle is attacking a baboon as the latter is holding a fawn', 'the mother antelope fought the baboon for its baby', 'the gazelle and baboon are fighting each other', 'two animals fight', 'a gazelle and a baboon play', 'the antelope tried to get the baboon away from her baby', 'a gazelle is saving her fawn from baboon', 'strugling for live', 'two animals are fighting', 'a mother gazelle is fighting a baboon', 'the mother deer fight with gorill a to save her baby', 'a deer is fighting with a monkey', 'a monkey is playing with a deer', 'a deer is fighting with lion', 'a baboon is fighting a deer', 'a gazelle is fighting with a baboon because baboon had taken his young one', 'a mother deer is fighting for her baby', 'a deer is fighting with monkey', 'a gazelle and a baboon fight over a smaller gazelle', 'a baboon is trying to steal a baby gazelle while the mother is trying to rescueit', 'a deer is fighting with a monkey to get its baby', 'gazell and baboon fighting to each other', 'a gazelle is fighting with a baboon', 'a baboon take the child of gazelle', 'animals are playing', 'the gazelles are attacking the baboon', 'a baboon and a gazelle are fighting', 'a tiny gazelle headbutts a baboon until it runs away', 'a gazelle attacks a baboon'], 'vid1244': ['a man is playing a flute', 'a man is playing a flute', 'a man is playing a flute', 'a man is playing a flute', 'a man is playing a flute', 'a man is playing a flute', 'a man is playing a flute', 'a man is playing flute', 'a man is playing the flute', 'a man is playing the flute', 'a man is playing the flute', 'a man is playing the flute', 'a man is playing the flute', 'a man plays a flute', 'a man plays the flute', 'a man plays the flute', 'the man is playing the flute', 'the man played his flute', 'the man played his flute', 'un barbat canta la fluier melodia din super mario', 'a man is blowing flute', 'a man is playing a flute', 'a man in a black tshirt playing a flute', 'a man is playing a flute', 'the man is play the mega flute', 'he is the real super marioyour hardwork will reach you at the pinpoint of the peak', 'a man is playing a flute', 'a man is blowing the flute', 'a person is playing musical instrument', 'a man is playing a flute', 'a man is playing beatboxing flute', 'a man is playing a flute', 'a man is playing a flute', 'a man is playing a flute', 'a musician playing flute in a concert', 'a man is playing some notes on a flute', 'a man plays flute', 'a man playing music', 'the man is playing flute', 'really very super music for flute', 'a man plays a flute', 'a man plays the super mario bros theme song on a flute while beat boxing'], 'vid1810': ['a man is holding a little toad', 'a boy held a small frog in his hand', 'a man holds a baby frog in his hand', 'a man is holding a tiny frog', 'a man is holding a tiny frog', 'a man is holding a toad in his hand', 'a man is holding a very tiny toad in the palm of his hand', 'a person holds a small amphibian in his hand', 'a person holds a tiny toad', 'a person is holding a small frog in the palm of their hand', 'a person is holding a small toad', 'a person shows us a tiny toad', 'a tiny toad is sitting in someone s hand', 'a tiny toad is sitting in the palm of someone s hand', 'someone is holding a toad', 'the man held a tiny frog in his hand', 'the tiny toad is sitting on the man s palm', 'frog in the hand', 'a person shows small frog', 'the person watching the frog', 'a toad is in a person s hand', 'a person is holding a small frog', 'a man is keeping a small frog in his hands', 'the toad is sitting on the palm', 'a person taking toad in his hand', 'so nice job', 'a man is holding a baby toad', 'someone is holding a toad in his or her hand', 'the man was explain the characterstics of toad', 'a man catching something', 'someone is holding a small toad', 'a toad is sitting in a man s hand', 'a man holding small frog in hand', 'someone showing a baby of frog', 'somebody is having a baby frog on palm', 'a man holding a baby from in his hand', 'a man holding a toad on his hand', 'dramatic toad in heand', 'a tiny frog in hand', 'the man is holding a very tiny frog', 'a small frog is showing by anyone'], 'vid1814': ['a cartoon character riding a bike', 'a cartoon character is riding a bike', 'a cartoon dog is riding a bicycle', 'a cartoon dog is riding a bike', 'a guy quickly rides his bike', 'a michael jackson claymation bunny is riding a bicycle through a film studio lot', 'an animated character is riding his bike', 'an animated version of a donkey is speeding away on a bicycle on the road', 'the animal is riding a bike', 'the cartoon animal rode a bike around', 'the cartoon character rode his bike down the alley', 'this is michael jackson', 'michael jackson is cycling speedily', 'a cartoon dog is riding a bike', 'a cartoon movie playing', 'a man riding cycle', 'a dog is riding a bike', 'one cartoon driving bicycle', 'michael jackson speed demon', 'this is an animation film', 'michael jackson and speed demon', 'a dog is riding a bike through a neighborhood', 'the cartoons are entertaining', 'a cartoon is riding a bike', 'cartoon is riding the cycle', 'animation of a dog riding a bicycle', 'a dog is riding a bicycle', 'a dog is riding a bicycle', 'a man with a mask is pedaling a bicycle', 'a cartoon character is riding a bicycle', 'a demon is riding cycle', 'micheal jackson s album', 'an animated dog is riding a bicycle', 'a monkey is riding on a bicycle', 'a cartoon dog rides his bike as other cartoon characters laugh', 'animated dog riding a bicycle', 'a cartoon dog is riding a bike', 'a cartoon character is riding a cycle', 'scoobydoo driving a bicycle', 'a claymation character is riding a bike', 'an animation character riding on the bicycle', 'a man is standing in the middle of the road', 'a cartoon is riding a bike', 'michael jackson performing a program', 'a man rides on a bicycle', 'pop star uses cartoon mask to escape the police on bycycle', 'the mule is riding a bicycle', 'an animated character riding a bike', 'a claymation puppet rides a bike', 'cartoons are dancing', 'an animated character is riding a bike through a studio lot', 'a claymation rabbit is riding a bicycle through a movie set', 'animated dog raiding in a cycle', 'an animated figure is riding a bicycle', 'clay dog rides a bicycle', 'a claymation dog rides a bicycle through a movie studio'], 'vid1818': ['a large bird standing on a table picks up a plastic glass containing liquid and places it in a bowl of something', 'a bird picks up a cup with its beak', 'a bird grabs a cup', 'a bird picks up a plastic cup containing a liquid with it s beak and puts the cup into a bowl', 'a parrot is putting a small glass in the food plate', 'a parrot is putting a cup of liquid into a bowl', 'a parrot is taking a mug', 'a bird picks up a glass with its beak and moves it into a bowl', 'a parrot puts a container into a bowl', 'a bird is picking up a cup', 'a bird moves a plastic cup into a bowl', 'a parrot standing on a coaster on the table picks a red plastic container with its beak and places it in a bowl', 'the bird put the cup into the bowl', 'a parrot is moving a glass on a tabletop', 'a bird places a cup into a plate of food', 'the bird put the small cup in the bowl', 'the pigeon is eating the nuts', 'a bird is picking up a glass and putting it a bowl', 'a bird is taking glass', 'a parrot is taking a cap into pot', 'the bird take the tumbler and put it in the bowl', 'a bird picks up a cup with its beak', 'a bird lifts a small cup and puts it into a bowl', 'its a parrot talking', 'a bird picks up a cup and puts it in a bowl', 'the bird is working and its owner is give a work', 'a bird looking in the cup for their food', 'the peg ion is eating the nuts', 'a bird is eating', 'the bird put the cup into the bowl'], 'vid336': ['<BOS> a cat cleans itself <EOS>', '<BOS> a cat is cleaning its body <EOS>', '<BOS> a cat is cleaning itself <EOS>', '<BOS> a cat is licking herself <EOS>', '<BOS> a cat is licking himself <EOS>', '<BOS> a cat is licking its fur <EOS>', '<BOS> a cat is licking its hair <EOS>', '<BOS> a cat is licking itself <EOS>', '<BOS> a cat is licking itself <EOS>', '<BOS> a cat is licking itself <EOS>', '<BOS> a cat is licking itself <EOS>', '<BOS> a cat licking his fur <EOS>', '<BOS> a cat licks himself <EOS>', '<BOS> a cat licks itself <EOS>', '<BOS> a fluffy cat is licking its fur <EOS>', '<BOS> a furry white cat with black ears is licking his body <EOS>', '<BOS> a soft cuddly cat is licking itself <EOS>', '<BOS> the cat gave himself a bath <EOS>', '<BOS> the cat is cleaning its fur <EOS>', '<BOS> the cat is cleaning it s fur <EOS>', '<BOS> the cat is licking his fur <EOS>', '<BOS> a cat is cleaning itself <EOS>', '<BOS> a cat is grooming himself with his tongue <EOS>', '<BOS> a cat is licking himself <EOS>', '<BOS> the cat is licking its furred back <EOS>', '<BOS> a cat moving around <EOS>', '<BOS> a cat is cleaning its fur <EOS>', '<BOS> a cat is cleaning itself <EOS>', '<BOS> cat wiping herself with her tongue <EOS>', '<BOS> a cat licking its body <EOS>', '<BOS> ye cat apni back ki khugli ko mita rahi hai <EOS>', '<BOS> a cat is playing by itself <EOS>', '<BOS> a cat is cleaning its body by itseif <EOS>', '<BOS> a cat is licking her body <EOS>', '<BOS> a cat is cleaning itself <EOS>', '<BOS> a cat licked itself <EOS>', '<BOS> a cat is licking her body wiyh toung <EOS>', '<BOS> a cat licking itself and showing its tongue <EOS>', '<BOS> a gray cat is licking itself <EOS>', '<BOS> a cat is licking itself <EOS>', '<BOS> a cat is licking itself <EOS>', '<BOS> a cat is licking its fur <EOS>', '<BOS> a cat is licikng itself <EOS>', '<BOS> a cat is licking its body <EOS>', '<BOS> a cat licks herself <EOS>', '<BOS> a puppy playing with himself <EOS>', '<BOS> a cat is licking its fur <EOS>', '<BOS> the cat gave himself a bath <EOS>', '<BOS> a persian cat is cleaning himself <EOS>', '<BOS> a cat is playing <EOS>', '<BOS> the cat is cleaning himself <EOS>', '<BOS> a persian cat is grooming <EOS>', '<BOS> a cat is licking its fur <EOS>', '<BOS> the cat gave himself a bath <EOS>'], 'vid1731': ['a kid hiding behind a skateboard', 'a boy hides behind a bush', 'a boy is hiding behind a skateboard', 'a boy is hiding behind his skateboard', 'a boy is shielding himself from view with his skateboard', 'a kid covers his face with a skateboard', 'a kid hides behind a skateboard', 'a kid is covering his face with his skateboard', 'a man is hiding behind skate board', 'a person hides behind a skateboard', 'a person is hiding behind a skateboard', 'a playful child comes out of hiding under some bushes', 'a young man is hiding behind a bush', 'someone is hiding behind a bush', 'someone is hiding behind a skateboard', 'the boy is hiding behind his skateboard and a bush', 'the boy is hiding behind the skateboard', 'a boy is holding sketepad in his hand', 'the kids are hiding in his skateboard', 'a boy is hiding is face with a skate board', 'a man is covering his face with a skate', 'someone is hidig himself with the skating board', 'someone that has a skateboard in front of their faces', 'the food items are placed in the garden', 'a boy is hiding his head by showing the scate boat', 'a boy is trying to skate', 'a boy hides behind his skateboard in front of his house', 'a boy hiding behind a skateboard', 'a boy is drinking a milk shake', 'a boy is hiding behind a bush and skateboard', 'a boy is hiding behind a skateboard', 'a boy is hiding behind a skateboard', 'a kid is hiding behind a skateboard', 'a kid is hiding behind a skateboard', 'a man is hiding behind his skateboard and fleeing the cameraman', 'a man is hiding behind his skateboard', 'a man is hiding his face with a scate board and running away', 'a man is hiding his face', 'a person is hiding behind a skate board', 'a person is hiding his or her face behind a skateboard', 'a person is walking around while hiding behind a skateboard', 'pepsi in a plastic glass', 'somebody is moving hiding', 'someone is hiding behind a skateboard held in front of their face', 'someone is trying to hide behind a skating board', 'the boy hid behind a bush and his skateboard', 'the boy hit behind his skateboard', 'the boy is using his skateboard to hide', 'the man is hiding behind a skateboard', 'a man is moving with closed face', 'the boy is moving by hiding his face'], 'vid338': ['<BOS> a man places a rectangular plastic container of pasta into a microwave oven <EOS>', '<BOS> a person microwaves food <EOS>', '<BOS> a man cooks food in a microwave <EOS>', '<BOS> a man places a rectangular plastic container into a microwave oven <EOS>', '<BOS> a person is putting a box in the microwave <EOS>', '<BOS> a man is putting a container of pasta into the microwave <EOS>', '<BOS> a man putting something in a microwave oven <EOS>', '<BOS> a man is microwaving pasta in a container <EOS>', '<BOS> a person is placing a container of food in a microwave <EOS>', '<BOS> a man is placing a container into a microwave oven <EOS>', '<BOS> a woman is putting a dish of liquid in a microwave <EOS>', '<BOS> a man is placing a bowl of pasta into a microwave <EOS>', '<BOS> the man put the container into the microwave <EOS>', '<BOS> a man puts some pasta in the microwave <EOS>', '<BOS> there is a preparing item <EOS>', '<BOS> a man is placing a container of pasta into the microwave <EOS>', '<BOS> a man is placing the box inside the oven <EOS>', '<BOS> a man is making something in the microwave <EOS>', '<BOS> a guy putting a container in a microwave <EOS>', '<BOS> a person is cooking <EOS>', '<BOS> a man is placing a container into the microwave <EOS>', '<BOS> a man is cooking pasta in microwave cooker <EOS>', '<BOS> the man put the container in the microwave <EOS>', '<BOS> a man puts a rectangular plastic container into the microwave <EOS>', '<BOS> the man is putting the container in the microwave <EOS>', '<BOS> a man is cooking pasta in the microwave <EOS>'], 'vid231': ['<BOS> a monkey is swinging from limb to limb <EOS>', '<BOS> a lemur jumps to a tree <EOS>', '<BOS> a monkey is swinging hand over hand through the branches of a canopy of trees <EOS>', '<BOS> a monkey is jumping on a tree <EOS>', '<BOS> a monkey is swinging from tree limbs <EOS>', '<BOS> a monkey is swinging from tree to tree <EOS>', '<BOS> a monkey is swinging from a tree <EOS>', '<BOS> a monkey is swinging from tree branches <EOS>', '<BOS> a monkey swings across tree branches <EOS>', '<BOS> a monkey is swinging in a tree <EOS>', '<BOS> a monkey is swinging from limb to limb <EOS>', '<BOS> a monkey is swinging from a tree <EOS>', '<BOS> a monkey swings from one branch to another and looks around after settling on one branch finally <EOS>', '<BOS> the monkey swung from tree to tree <EOS>', '<BOS> the monkey is hanging from the trees <EOS>', '<BOS> a gibbon is swinging in the trees <EOS>', '<BOS> a chimpanzee swings along some branches <EOS>', '<BOS> the monkey swung from branch to branch <EOS>', '<BOS> a monkey is swinging in the trees as a tiger watches <EOS>', '<BOS> the monkey is jumping from one tree to another <EOS>', '<BOS> a monkey is swinging on the trees <EOS>', '<BOS> a monkey is jumping <EOS>', '<BOS> a monkey is swinging from tree to tree <EOS>', '<BOS> huku monkeys are jumping <EOS>', '<BOS> a monkey is swinging <EOS>', '<BOS> a monkey is swinging on branches <EOS>', '<BOS> a monkey is swinging from one tree to another <EOS>', '<BOS> a monkey swings from a tree <EOS>', '<BOS> a monkey is swinging in the trees <EOS>', '<BOS> the animals are playing in the zoo <EOS>', '<BOS> the monkey swung from tree branch to tree branch <EOS>', '<BOS> a monkey tees the tiger <EOS>', '<BOS> a monkey is running away from the tiger <EOS>', '<BOS> the monkey is swinging from the trees <EOS>', '<BOS> a monkey is swinging through the trees <EOS>', '<BOS> animals are fighting <EOS>'], 'vid725': ['<BOS> a cat staring into the camera meows <EOS>', '<BOS> a cat meows <EOS>', '<BOS> a cat is looking into the camera and meowing <EOS>', '<BOS> a cat is looking into the camera and opening it s mouth <EOS>', '<BOS> a cat is speaking <EOS>', '<BOS> a cat addresses the camera <EOS>', '<BOS> a cat is meowing <EOS>', '<BOS> a cat is meowing <EOS>', '<BOS> a cat meows at a camera <EOS>', '<BOS> a cat is meowing <EOS>', '<BOS> a cat stares into the camera <EOS>', '<BOS> a cat is meowing <EOS>', '<BOS> a cat is meowing <EOS>', '<BOS> a small brown cat purrs softly close to the camera <EOS>', '<BOS> the cat meowed <EOS>', '<BOS> the cat is staring at the video camera <EOS>', '<BOS> a cat meows <EOS>', '<BOS> the cat meowed <EOS>', '<BOS> a big scaring cat starring infront of camera <EOS>', '<BOS> a cat is giving voice <EOS>', '<BOS> a cat is staring <EOS>', '<BOS> a cat is meowing <EOS>', '<BOS> a cat is meowing <EOS>', '<BOS> a cat is shouting <EOS>', '<BOS> a cat meows <EOS>', '<BOS> the cat is seeing <EOS>', '<BOS> a cat is meowing <EOS>'], 'vid967': ['<BOS> a woman pours a clear liquid on both sides of a raw fish on a plate with a measuring spoon <EOS>', '<BOS> a woman pours oil on a fish <EOS>', '<BOS> a woman is pouring water on fish <EOS>', '<BOS> a woman is spooning seasoning over a split fish in a plate <EOS>', '<BOS> a woman is adding oil on fishes <EOS>', '<BOS> a woman is sprinkling oil on a fish to get it ready for cooking <EOS>', '<BOS> a woman is adding oil to fish <EOS>', '<BOS> a woman is putting liquid onto some fish <EOS>', '<BOS> a woman is pouring oil over fish <EOS>', '<BOS> a woman is spreading oil over fish <EOS>', '<BOS> the woman is oiling the fish <EOS>', '<BOS> a woman is sprinkling sake on a mackerel fillet <EOS>', '<BOS> a woman seasons some fish <EOS>', '<BOS> a woman is sprinkling sake on fish <EOS>', '<BOS> the lady poured sauce on the fish <EOS>', '<BOS> a women is cooking fish <EOS>', '<BOS> a man is spreading the liquid on the fish <EOS>', '<BOS> someone is seasoning a fish <EOS>', '<BOS> a lady is preparing something <EOS>', '<BOS> the woman is cooking a recipe called hiyajiru <EOS>', '<BOS> a woman is oiling some fish <EOS>', '<BOS> a chef is seasoning raw horse mackerel <EOS>', '<BOS> a woman is talking about the cooking recipe <EOS>', '<BOS> the woman poured oil on the fish <EOS>', '<BOS> a man cooking his kichen <EOS>', '<BOS> the woman is oiling the fish <EOS>', '<BOS> a woman sprinkles sake on a butterflied fish <EOS>'], 'vid1865': ['a baby is repeatedly kissing his reflection in a mirror', 'a little boy is kissing his reflection in the mirror', 'a baby is looking at its reflection in a mirror', 'a boy is kissing in a mirror', 'a baby sees its reflection in a mirror', 'a young boy is kissing his reflection', 'a young child sees his reflection in a mirror and tries to kiss himself', 'a boy is kissing his reflection in the mirror', 'a baby standing in front of a mirror is playing with his reflection', 'a baby looking at him self in the mirror', 'the boy kissed his image in the mirror', 'a small boy repeatedly kisses his image in a mirror', 'the baby is kissing himself at the mirror', 'a baby is kissing himself in the mirror', 'the toddler kissed his image in the mirror', 'a baby is kissing his reflection on a mirror', 'a baby is staring at himself in the mirror', 'a baby is viewing himself in the mirror', 'a baby is watching his own image on the mirror', 'a child play by seeing in the mirror', 'a kid playing with mirror', 'funny baby joey finds a friend in the mirror', 'funny baby joey finds a friend in the mirror', 'one little baby seeing his image in mirror', 'a baby is kissing himself in a mirror', 'a baby is kissing his image on the mirror', 'a baby is kissing his reflection in the mirror', 'a baby is kissing images of himself in a mirror', 'a baby is looking at his own reflection in a mirror', 'a baby is looking in mirror', 'a baby is looking into a mirror', 'a baby is looking into a mirror', 'a baby is playing with its reflection in the mirror', 'a baby is standing in front of the mirror', 'a baby kisses a mirror image of himself', 'a baby kisses his mirror reflection', 'a baby stares at himself in a mirror', 'a boy joy kissing a doll in front of a mirror', 'a boy kisses his reflection in the mirror', 'a child is kissing its reflection in the mirror', 'a child playing with its on mirror reflection', 'a cute kid is smiling to see his reflectino in mirror', 'a kid is kiss its own image on mirror', 'a kid watching a mirror', 'a little baby is looking at his reflection in the mirror', 'a small boy watching in mirror', 'a toddler is kissing his reflection in a mirror', 'a toddler is looking at his image in a mirror', 'baby is looking at mirror and kissing', 'child looks in mirror', 'the baby is kissing himself in the mirror', 'a baby is seeing himher in a mirror'], 'vid1432': ['a baby panda goes down a slide', 'a baby panda is going down a slide', 'a baby panda slides down a slide', 'a baby panda slides down into the snow', 'a panda bear is sliding down a slide', 'a panda bear slides down a wooden slide', 'a panda cub is sliding into the snow', 'a panda is sliding down a slide', 'a panda slides down a slide into the snow', 'a panda slides down a slide', 'panda bears are playing on a slide', 'panda bears play in the snow', 'panda is sliding on the slide', 'pandas are playing', 'the pana bears slid down the slide', 'the panda bears slid down the slide into the snow', 'the panda went down the slide', 'the panda babies is sleeping', 'the panda babies playing', 'a black and white baby panda', 'this is panda babies', 'a panda baby rides a slide', 'the panda ia sleeping', 'panda bears are sliding down a slide', 'a panda baaby ischilling', 'some baby pandas are going down a slide', 'panda babies sliding and having fun', 'a panda bear sliding down a slide', 'polar bear is playing', 'playing panda babies in the ice', 'a playing panda', 'the panda went down the slide', 'panda babies are playing'], 'vid831': ['<BOS> a boy picks up a large log with hand holds cut into it <EOS>', '<BOS> a boy lifts a wooden log <EOS>', '<BOS> a boy is lifting a log <EOS>', '<BOS> a young boy lifts a large piece of wood <EOS>', '<BOS> a boy is picking a trunk up <EOS>', '<BOS> a kid lifts up a log <EOS>', '<BOS> a boy is trying to pick up a heavy log <EOS>', '<BOS> a boy is lifting wood <EOS>', '<BOS> a boy is lifting a log up from the ground <EOS>', '<BOS> a boy is picking up a log <EOS>', '<BOS> a boy is lifting a log <EOS>', '<BOS> a boy is picking up a log <EOS>', '<BOS> a boy is lifting a large log <EOS>', '<BOS> the boy lifted the heavy log and tried to get it over his head <EOS>', '<BOS> the little boy lifted the heavy log <EOS>', '<BOS> a boy lifts a log <EOS>', '<BOS> the boy tried to lift a lgo up over his head <EOS>', '<BOS> a boy is lifting a piece of a pole <EOS>', '<BOS> a boy is presenting show <EOS>', '<BOS> a boy waight lifting <EOS>', '<BOS> a boy dead lifts a large log <EOS>', '<BOS> a boy is lifting a log section <EOS>', '<BOS> a boy is lifting a log <EOS>', '<BOS> a boy is playing <EOS>', '<BOS> a boy lifting wood <EOS>', '<BOS> a child is taking a log in to his hands <EOS>', '<BOS> the boy is lifting the log <EOS>', '<BOS> the boy is lifting the log <EOS>', '<BOS> a boy is moving the wood <EOS>'], 'vid428': ['<BOS> a kid playing on a computer <EOS>', '<BOS> a boy is learning in a laptop <EOS>', '<BOS> a boy is playing a game in the computer <EOS>', '<BOS> a boy is playing a game on a laptop <EOS>', '<BOS> a boy is playing a game on the computer <EOS>', '<BOS> a boy is playing an activity game on a laptop <EOS>', '<BOS> a boy is playing with a computer <EOS>', '<BOS> a child is playing a computer game <EOS>', '<BOS> a kid uses the mousepad on a laptop computer <EOS>', '<BOS> a little boy is playing a computer game <EOS>', '<BOS> the boy is playing a game on the laptop <EOS>', '<BOS> the boy played a game on the laptop <EOS>', '<BOS> the boy played a game on the laptop <EOS>', '<BOS> a boy is playing on a laptop <EOS>', '<BOS> a little boy is playing on a computer <EOS>', '<BOS> the small kid is using the system <EOS>', '<BOS> a child is working with his laptop <EOS>', '<BOS> a boy is working in a laptop <EOS>', '<BOS> a kid is smiling to the men voice <EOS>', '<BOS> a small child working on laptop <EOS>', '<BOS> one child working on labtop <EOS>', '<BOS> a boy working in the laptop <EOS>', '<BOS> a childern working on loptop <EOS>', '<BOS> the laptop is portable for users <EOS>'], 'vid348': ['<BOS> a man cuts the toe off a brown boot with a sword <EOS>', '<BOS> a man slices a boot with a sword <EOS>', '<BOS> a man slices a boot with a sword <EOS>', '<BOS> a man severs the toe of an empty leather boot using a sword <EOS>', '<BOS> a man is cutting a shoe <EOS>', '<BOS> a man is cutting through a cowboy boot with a knife <EOS>', '<BOS> a man is cutting a shoe with a sword <EOS>', '<BOS> a man cuts of the toe end of a boot with a machete <EOS>', '<BOS> a man is cutting a boot with a sword <EOS>', '<BOS> a man is cutting a boot in half with a sword <EOS>', '<BOS> someone cuts a boot with a sword <EOS>', '<BOS> a man is cutting a cowboy boot with a sword <EOS>', '<BOS> the man cut through the boot with a large sword <EOS>', '<BOS> the man used a sword to slice a boot <EOS>', '<BOS> a man is cutting a boot with a sword <EOS>', '<BOS> a man cuts a boot with a huge knife <EOS>', '<BOS> the man sliced through the toe of a boot with a big sword <EOS>', '<BOS> a man slicing a boot <EOS>', '<BOS> the man is cut the shoes <EOS>', '<BOS> a man cuts a boot with a sword <EOS>', '<BOS> a man cutting shoes with swoard <EOS>', '<BOS> a man cutting a boot <EOS>', '<BOS> a person cutting a shoe <EOS>', '<BOS> the person is cutting <EOS>', '<BOS> a man slices a boot with a sword <EOS>', '<BOS> a man cuts a boot with a sword <EOS>', '<BOS> a man cut the nonveg item by using sword <EOS>', '<BOS> a man breaking the shoe <EOS>', '<BOS> the man sliced through a boot with his sword <EOS>', '<BOS> the man used a sword to slice the boot <EOS>', '<BOS> a man is chopping a boot with a sword <EOS>', '<BOS> the boy is cutting the steel sword <EOS>'], 'vid1048': ['<BOS> a raccoonlike animal is hanging upside down from the back of a chair and eating something white <EOS>', '<BOS> a slow loris is eating an egg <EOS>', '<BOS> a slow loris is eating on a chair <EOS>', '<BOS> a lory is eating an egg <EOS>', '<BOS> a sloth is hanging from a chair <EOS>', '<BOS> a animal is hanging upside down <EOS>', '<BOS> a slow loris is hanging down a chair and eating something <EOS>', '<BOS> a hanging loris is eating food <EOS>', '<BOS> a small animal eats a potato <EOS>', '<BOS> a monkey is hanging upside down in a cage <EOS>', '<BOS> an animal is eating <EOS>', '<BOS> a loris is eating some food <EOS>', '<BOS> the animal hung from the back of a chair eating a piece of food <EOS>', '<BOS> the animal is eating <EOS>', '<BOS> an animal eats upside down <EOS>', '<BOS> a baby slow loris is eating a fruit while hanging upsidedown on the back of a chair <EOS>', '<BOS> a lemur hangs and eats <EOS>', '<BOS> the mammal hung from the chair top eating something <EOS>', '<BOS> an animal is eating an egg <EOS>', '<BOS> the cat is eating the something <EOS>', '<BOS> a slow loris is playing <EOS>', '<BOS> an animal is eating <EOS>', '<BOS> the cute animal is eating something <EOS>', '<BOS> a slow loris is eating on a chair <EOS>', '<BOS> an animal is hanging on the rope and eating <EOS>', '<BOS> a lemur is hanging upside down eating <EOS>', '<BOS> different style of eating food <EOS>', '<BOS> a monkey eating somethuing <EOS>', '<BOS> an animal hanging upside down <EOS>', '<BOS> a slow loris hanging on something and eating also <EOS>', '<BOS> a loris eat her food <EOS>', '<BOS> the loris is eating <EOS>', '<BOS> a loris is hanging upside down on a chair and eating <EOS>', '<BOS> a very small animal is eating <EOS>', '<BOS> a pet is eating something <EOS>', '<BOS> a loris is eating something <EOS>', '<BOS> a bushbaby hangs upside down while eating a piece of fruit <EOS>'], 'vid1593': ['a cat rubs up against an infant', 'a black and white colored cat is snuggling itself against a baby s face', 'a blackandwhitecat is snuggling heads with a baby', 'a cat is nuzzling a baby', 'a cat is rubbing against a baby', 'a cat is rubbing against a baby', 'a cat is rubbing against baby s face', 'a cat is rubbing its face on a small child', 'a cat is rubbing it s head against a young child', 'a cat is snuggling a baby', 'a cat is snuggling with a baby', 'a cat plays with a baby', 'a cat rubs its head against a baby', 'a cat rubs up against a baby', 'the cat cuddled with the baby', 'the cat is caressing the baby', 'the cat snuggled with the baby', 'a funny cat is trying to from the car', 'a baby is playing with a cat', 'a small boy gaming on the cat', 'a boy is playing with cats', 'a black and white cat sitting next to a small boy and purring as it puts it s face by the boys face', 'a cat brushes up against a baby', 'the dog licking child', 'a funny cat playing with little baby', 'a baby playing with a cat', 'a cat play with a small boy', 'a baby with a cat', 'the funny cats', 'a cat is keeping it s mouth on a child s face', 'the cat is playing with the baby', 'a cat is rubbing a baby', 'a cat is snuggling up to a baby s face', 'a cat is cuddling a baby s face', 'a cat is playing with a baby', 'a cat is rubbing on a baby', 'a cat is nuzzling a baby', 'a cat is playing with a baby', 'a child is playing with the cat', 'a cat loving a baby', 'funny things cats will do', 'a cat is attracting with a baby', 'a black and white cat is rubbing up against a baby', 'a cat is kissing the baby', 'a cat is rubbing it s face to the baby cheek', 'a cat snuggles up with a baby', 'a cat is rubbing up against a baby', 'a cat is petting a baby', 'a cat is rubbing against a baby', 'a cat is rubbing up against a baby', 'a cat is playing with a baby', 'a cat is hugging a baby', 'funny cats doing such a crazious acts as looks very interesting', 'a cat is playing', 'funny cats', 'a cat is playing with baby', 'a cat rubbing its head against a baby s head', 'a cat is nuzzling a baby s head', 'a cat rubs up against a baby', 'a cat is playing with a kid', 'an white cat is jumping from old car', 'a cat is playing with a child', 'baby playing with cat'], 'vid1590': ['a young man is playing the trumpet', 'a man is playing a trumpet', 'a man is playing a trumpet', 'a man is playing a musical instrument', 'a man is playing a trumpet', 'a man is playing saxophone', 'a man is playing a trumpet', 'a man is playing the trumpet', 'a man plays a trumpet', 'a man is playing a trumpet', 'a man is playing a trumpet', 'a man is playing an instrument', 'a man is playing the trumpet', 'a man is sitting in a room and playing a trumpet', 'the man played his trumpet', 'the man is playing the trumpet', 'a man is playing a trumpet', 'a boy plays the trumpet', 'the man played his trumpet', 'the person is playing trumpet', 'a man is playing the trumpet', 'a man is playing trumpet', 'a young man playing a trumpet', 'playing the trampet', 'a man is playing a trumpet', 'a man is playing a trumpet', 'a man is playing a trumpet', 'a man plays a trumpet', 'a man playing trumpet', 'a guy is playing an instrument', 'a man is blowing a trumpet', 'a man playing an musical insturment like a band', 'a man is playing a trumpet', 'a man playing music', 'a man is playing trumpet solo', 'a man is playing a trumpet', 'a man playing trumpet', 'trumpet is very very excellent', 'a man is blowing a trumpet', 'a man is playing the trumpet', 'a person is playing music', 'the boy is playing the trumpet', 'a man playing a trumpet'], 'vid1045': ['<BOS> a man is riding a horse <EOS>', '<BOS> a man is riding on a horse <EOS>', '<BOS> a man is riding a horse in an enclosed area <EOS>', '<BOS> a man rides a horse <EOS>', '<BOS> a man is riding a horse <EOS>', '<BOS> a man is sitting on the back of a horse as it trots in a circular motion in an open enclosed area <EOS>', '<BOS> a man riding a horse in a circle <EOS>', '<BOS> the man rode a brown horse <EOS>', '<BOS> the man is riding a horse in circles <EOS>', '<BOS> a man rides a horse in circles <EOS>', '<BOS> a man is riding a horse in circles <EOS>', '<BOS> the man rode a horse in a ring <EOS>', '<BOS> a guy is riding in the horse <EOS>', '<BOS> a man around the garden above on the hourse <EOS>', '<BOS> a man is riding a horse <EOS>', '<BOS> a man is riding horse <EOS>', '<BOS> a man is riding on the horse <EOS>', '<BOS> a man is training a horse how to turn <EOS>', '<BOS> a men on house during traning <EOS>', '<BOS> a men riding the horse <EOS>', '<BOS> aguy is riding in the horse <EOS>', '<BOS> he is hars raiding <EOS>', '<BOS> the man is riding the horse <EOS>', '<BOS> turning <EOS>', '<BOS> a man giving training to a horse for the ride <EOS>', '<BOS> a man in a blue shirt riding a horse in a fenced area <EOS>', '<BOS> a man is riding a horse around in a small circle <EOS>', '<BOS> a man is riding a horse in a stable <EOS>', '<BOS> a man is riding a horse in circles in a paddock <EOS>', '<BOS> a man is riding a horse in small circles in a corral <EOS>', '<BOS> a man is riding a horse <EOS>', '<BOS> a man is riding a horse <EOS>', '<BOS> a man is riding a horse <EOS>', '<BOS> a man is riding a horse <EOS>', '<BOS> a man is riding a horse <EOS>', '<BOS> a man is riding his horse around a pen <EOS>', '<BOS> a man is riding horse <EOS>', '<BOS> a man is riding horse <EOS>', '<BOS> a man is riding on a horse and moving round <EOS>', '<BOS> a man is riding on a horse <EOS>', '<BOS> a man is riding on horse <EOS>', '<BOS> a man rides a horse in a pen <EOS>', '<BOS> a man riding a horse <EOS>', '<BOS> a man riding a horse <EOS>', '<BOS> a man riding on a horse <EOS>', '<BOS> a man training horse to turn <EOS>', '<BOS> a mas is teaching of riding a horse <EOS>', '<BOS> a person is making the horse to round by riding it <EOS>', '<BOS> the horse riding instructor giving training to his horse <EOS>', '<BOS> the man is riding a horse <EOS>', '<BOS> a man is riding horse <EOS>', '<BOS> man showing how to turn on a horse <EOS>', '<BOS> man rides <EOS>'], 'vid1595': ['a small dog plays on the couch', 'a cute puppy wearing a dress', 'a dog in a dress is playing on a couch', 'a dog in a dress is running around on a couch', 'a dog is playing on a sofa', 'a dog wearing a dress is running on a couch', 'a little dog runs around on a couch', 'a puppy is playing on a settee', 'a puppy is playing on a sofa', 'a puppy is playing on sofa', 'a puppy is playing on the couch', 'a puppy is running around on a sofa', 'a puppy is wearing a dress', 'a shih tzu dog in a frilly dress romps on a leather sofa before jumping down', 'a small dog is playing on the sofa', 'a small dog wearing a dress moves to and fro along the edge of a sofa and finally jumps to the floor below', 'the dog is trying to get off the couch', 'the dog tried to get off the couch', 'the dog tried to get off the couch', 'a dog is walking around a couch with a dress on', 'the puppy is playing on sofa', 'a small dog wearing a dress romps on the sofa', 'the small dog is playing', 'a puppy is wearing a dress', 'a small puppy is running on the sofa', 'a puppy is jumping off the sofa', 'an animal is lying on the sofa', 'a dog has dressed beautifully', 'a dog in a pink dress is playing on a couch', 'a puppy is walking on a sofa', 'a dog is playing on the bed', 'a dog is playing on a couch', 'a puppy is jumping onto the ground from sofa', 'a small dog gaming on the sopa', 'a pyppy playing', 'a dressed puppy on a couch', 'a dog plays on a couch', 'a puppy playing in sofa', 'a puppy enjoying sofa seat', 'a dog is on the couch', 'a puppy is playing on a couch', 'a dog is walking on a couch', 'a cute little puppy trying and jumping down from a sofa', 'a puppy playing and jumping on a sofa in a drawing room', 'a little making a noise on the sofa', 'a small dog wearing a dress figures out how to get off the couch', 'a dog play on sofa', 'a dog is playing on a couch', 'a dog is playing', 'a puppy on the sofa', 'a small dog walks around on a couch wearing a tutu', 'a small dog in a dress is running around on a love seat', 'the puppy is wearing a dress and sitting on the couch', 'a puppy is walking in the sofa', 'a kitten is playing on the sofa', 'a puppy prances around while wearing a dress'], 'vid80': ['<BOS> a man is blowing on a spoonful of hot chili <EOS>', '<BOS> a man is blowing on a spoon full of food <EOS>', '<BOS> a man eats food <EOS>', '<BOS> a man is blowing a food in a spoon <EOS>', '<BOS> a man is blowing on a fork full of hot food to cool it down <EOS>', '<BOS> a man is smelling something in a spoon <EOS>', '<BOS> a man is blowing something in a spoon <EOS>', '<BOS> a man is blowing on chili <EOS>', '<BOS> somoene is cooling off contents in a spoon by blowing on them <EOS>', '<BOS> a man is tasting some chili <EOS>', '<BOS> the man blew on a spoon of chili <EOS>', '<BOS> the man is eating <EOS>', '<BOS> a man blows on some chili <EOS>', '<BOS> the man tasted his chili <EOS>', '<BOS> the person is cooking <EOS>', '<BOS> a man is eating <EOS>', '<BOS> a person making vegetarian chili <EOS>', '<BOS> spicy2 bean vegetarian chili <EOS>', '<BOS> a man is blowing on hot food <EOS>', '<BOS> a chef tasting food <EOS>', '<BOS> a chef tasting what he has prepared <EOS>', '<BOS> the man blew on the spoon of chili <EOS>', '<BOS> a man cooking his kichen <EOS>', '<BOS> a man is blowing on a spoonful of food to cool it off before eating it <EOS>', '<BOS> the man is eating <EOS>', '<BOS> a man is blowing on a spoon full of chili <EOS>', '<BOS> a man is blowing something <EOS>'], 'vid83': ['<BOS> a woman is cooking a egg mixture in a deep skillet using chopsticks <EOS>', '<BOS> a person is cooking eggs in a skillet <EOS>', '<BOS> a person is cooking egg <EOS>', '<BOS> someone is rolling an egg omelet into a tube in a wok using chopsticks <EOS>', '<BOS> a person is cooking an egg in a hot frying pan <EOS>', '<BOS> eggs are being cooked in a skillet <EOS>', '<BOS> a woman is scrambling egg <EOS>', '<BOS> someone is cooking eggs <EOS>', '<BOS> a woman is cooking eggs in a pan <EOS>', '<BOS> someone is cooking an egg <EOS>', '<BOS> a person is cooking eggs in a pan <EOS>', '<BOS> the lady cooked the eggs omelette style in the pan <EOS>', '<BOS> the woman is cooking scrambled eggs <EOS>', '<BOS> a woman folds over an egg <EOS>', '<BOS> the lady made an omelette in the pan <EOS>', '<BOS> a man cooking eggs <EOS>', '<BOS> there is a preparing food with dog <EOS>', '<BOS> some one show the demo how to prepare the japanese food <EOS>', '<BOS> a woman is cooking eggs <EOS>', '<BOS> someone preparing something <EOS>', '<BOS> a demonstration of how to make temaki sushi <EOS>', '<BOS> someone is making an omelet <EOS>', '<BOS> doing egg amlate <EOS>', '<BOS> a person is cooking egg <EOS>', '<BOS> the person is cooking the egg amulet <EOS>', '<BOS> a half baked egg omelet being rolled <EOS>', '<BOS> some one is making omelette in a frying pan with chop stick <EOS>', '<BOS> the lady cooked the eggs into an omelette <EOS>', '<BOS> a man cooking his kichen <EOS>', '<BOS> the woman is cooking scrambled eggs <EOS>', '<BOS> a person is cooking eggs in a pan on the stove using chopsticks <EOS>', '<BOS> a woman is rolling some eggs <EOS>', '<BOS> someone fries eggs <EOS>'], 'vid87': ['<BOS> someone is deep frying shrimp on sticks in a large saucepan <EOS>', '<BOS> a person cooks shrimp in boiling water <EOS>', '<BOS> a person is cooking shrimp <EOS>', '<BOS> someone places three prawns <EOS>', '<BOS> a person is boiling shrimp in water <EOS>', '<BOS> someone placed shrimp into boiling water <EOS>', '<BOS> a woman is adding shrimps to boiling water <EOS>', '<BOS> someone is putting shrimp into boiling water <EOS>', '<BOS> a woman is boiling shrimp <EOS>', '<BOS> someone is cooking food <EOS>', '<BOS> a person is putting shrimp into a pot <EOS>', '<BOS> the lady added the skewered shrimp to the boiling water <EOS>', '<BOS> the woman is boiling shrimps on sticks <EOS>', '<BOS> someone puts seafood skewers in boiling water <EOS>', '<BOS> the lady put the skewered shimp in the hot water <EOS>', '<BOS> someone is boiling some shrimp <EOS>', '<BOS> a lady making a dish <EOS>', '<BOS> any one is making dish <EOS>', '<BOS> the person is boiling the something <EOS>', '<BOS> shrimp on skewers are placed into boiling water <EOS>', '<BOS> a person is putting something in boiling water <EOS>', '<BOS> a man is preparing to make a hand roll sushi <EOS>', '<BOS> a person is cooking shrimp on skewers <EOS>', '<BOS> a woman is placing skewered shrimps into boiling water <EOS>', '<BOS> a lady talking about how to make hand roll sushi <EOS>', '<BOS> the lady added the skewered shrimp to the boiing water <EOS>', '<BOS> a person is making the japanese hand roll <EOS>', '<BOS> a man cooking his kichen <EOS>', '<BOS> the woman is boiling shrimp <EOS>', '<BOS> a woman is putting some shrimps into a pot <EOS>', '<BOS> the person is boiling francine <EOS>'], 'vid88': ['<BOS> someone is peeling cooked shrimp with their fingers then cutting into it lengthwise with a knife <EOS>', '<BOS> a person peels shrimp <EOS>', '<BOS> a woman is peeling a shrimp <EOS>', '<BOS> someone is peeling the shells off of some shrimp <EOS>', '<BOS> a woman is peeling cooked shrimp <EOS>', '<BOS> a woman is preparing shrimp to cook <EOS>', '<BOS> someone is peeling a shrimp <EOS>', '<BOS> a woman is cleaning shrimp <EOS>', '<BOS> someone is peeling shrimp <EOS>', '<BOS> a person is peeling a shrimp <EOS>', '<BOS> the lady peeled the shrimp <EOS>', '<BOS> the woman is peeling the cooked shrimp <EOS>', '<BOS> a cooked prawn is shelled <EOS>', '<BOS> a person peels shrimp <EOS>', '<BOS> the man peeled the shrimp <EOS>', '<BOS> cutting the item <EOS>', '<BOS> a woman is peeling a shrimp <EOS>', '<BOS> someone preparing something <EOS>', '<BOS> a man making a dish which is called temaki sushi <EOS>', '<BOS> a lady is cleaning the prawn <EOS>', '<BOS> someone is peeling a shrimp <EOS>', '<BOS> a man describe to make temaki sushi japanese food <EOS>', '<BOS> a person coking <EOS>', '<BOS> the lady peeled the shrimp <EOS>', '<BOS> a man cooking his kichen <EOS>', '<BOS> the woman is peeling the shrimp <EOS>', '<BOS> how to make temaki sushi video <EOS>'], 'vid89': ['<BOS> a woman is cutting shrimp lengthwise in half <EOS>', '<BOS> a woman slices shrimp <EOS>', '<BOS> a person is slicing shrimp <EOS>', '<BOS> a woman is splitting a prawn with a knife <EOS>', '<BOS> a chef is slicing shrimp <EOS>', '<BOS> a woman is slicing shrimps <EOS>', '<BOS> someone is slicing a shrimp <EOS>', '<BOS> a woman is cutting shrimp <EOS>', '<BOS> someone is slicing shrimp <EOS>', '<BOS> a person is cutting shrimp in half <EOS>', '<BOS> a woman slices a boiled and deshelled shrimp lengthwise into half <EOS>', '<BOS> the lady sliced the fish meat <EOS>', '<BOS> the woman is slicing the shrimp <EOS>', '<BOS> a cooked and shelled prawn is sliced along its back <EOS>', '<BOS> a person cuts up some shrimp <EOS>', '<BOS> the lady cut the fish meat in half <EOS>', '<BOS> a woman cutting sushi <EOS>', '<BOS> someone is cutting a shrimp in half <EOS>', '<BOS> a woman is cutting shrimp <EOS>', '<BOS> a person slices shrimp <EOS>', '<BOS> a person cutting <EOS>', '<BOS> she is cutting caret <EOS>', '<BOS> a lady talking about how to make a hand roll sushi <EOS>', '<BOS> the lady sliced the shrimp <EOS>', '<BOS> a women is making the japanese food <EOS>', '<BOS> a man cooking his kichen <EOS>', '<BOS> a woman is splitting a shrimp <EOS>', '<BOS> the woman is cutting shrimp <EOS>', '<BOS> someone cuts a shrimp in two <EOS>', '<BOS> the person is cooking the something <EOS>'], 'vid1566': ['amanplaysaguitar', 'a man is passionately playing a guitar in front of an audience', 'a man is paying guitar on a stage', 'a man is playing a guitar on a stage', 'a man is playing a guitar', 'a man is playing a guitar', 'a man is playing a guitar', 'a man is playing an acoustic guitar', 'a man is playing guitar on a stage', 'a man is playing guitar', 'a man is playing the guitar', 'a man plays a guitar', 'a man plays an acoustic guitar', 'the man enjoyed playing his guitar', 'the man is playing the guitar', 'the man played his guitar', 'a man playing guitar', 'a man is playing the guitar', 'the person playing the music', 'the man is playing guiter', 'a man is playing a guitar', 'a man is playing the guitar', 'a man is playing guitar in the stage', 'a man is playing a guitar', 'a man is playing an acoustic guitar on stage', 'a boy is playin some instrument', 'a man is playing a guitar', 'a man is playing guitar on a stage', 'a man is playing a guitar', 'a man is enjoying himself while strumming the guitar', 'a man playing a guitar', 'tommy emmanuel playing day tripper in a music video', 'a man is playing a guitar on stage', 'a man is playing a guitar', 'a man playing gitar', 'a man is playing a guitar', 'a man is playing the guitar', 'a man is playing guitar', 'a man is playing guitar', 'a musician playing guitar in a concert', 'a man playing guitar on the stage performance', 'a man is playing the guitar', 'a man playing music', 'a men playing gitter', 'a man plays acoustic guitar for an audience', 'a man is playing acoustic guitar on a stage', 'a man is playing on guitar', 'a man is playing guitar onstage'], 'vid1449': ['a girl talks to a dog', 'a young boy is sitting next to someone dressed in a dog costume', 'a monkey is talking with a boy', 'a man in an animal suit is talking to a child', 'a boy is talking to a person dressed up as a dog', 'a boy is talking to some creature', 'a boy is speaking to a person in a dog costume', 'a boy and person in a costume are talking', 'a boy talks to a giant dog', 'a boy is talking to a giant dog', 'a kid is talking to dog', 'a boy is talking to a dog', 'a small boy and a man dressed as a dog are having a conversation seated next to each other', 'the dog talked to the boy in a play', 'the boy is talking to the dog', 'a kid and a person in a dog suit talk to each other', 'the dog talked to the boy in the movie', 'the boy and hum dog is something talking', 'a get up warred boy is talking with a small boy', 'a girl is talking to a dog', 'a boy is talking to human dog', 'a boy is talking to an animal', 'a boy', 'a boys talks to a large dog', 'a man is dressed as a dog and is talking to a boy', 'a dog talking to a boy', 'a man wearing disguise of a dog and sitting with a little girl', 'the boy is talking to the dog', 'a dog and a child is talking', 'a boy is talking to a man dressed up like a dog'], 'vid1445': ['a woman adds orange paste to flour', 'a women cocking wheat', 'a woman making some recipe', 'a woman is mixing a yolk into a dough mixture', 'flour is getting prepared for making pastry', 'a women is mixing egg in the flour', 'a woman is mixing egg in flour', 'mixing up the flour', 'in video flour is been mixed with eeg york', 'an egg gets mixed into flour and butter', 'a cook prepares the dough for a delicious looking cake', 'a woman is cutting an egg yolk into a pile of flour', 'a woman is mixing gel and flour', 'a woman is mixing ingredients', 'mixing egg yolk equally into the flour', 'an egg is being mixed with flour and butter', 'a lady preparing some dish', 'the person is mixing eggs with flour', 'cook ready in wheat', 'a woman mixes an egg and flour', 'a woman mixes an egg into a pile of flour', 'an egg is added to the flour and klended', 'a woman is mixing an egg into her dry ingredients', 'a lady is mixing the egg in the flour', 'a woman is mixing cream with some food powder', 'the lady is mixing the flour with the help of a spoon holding backwards', 'eggs', 'a person mixing egg in to floor', 'a lady is mixing maida with egg', 'a woman is mixing an egg with some flour', 'a woman is mixing some egg with flour', 'a person is mixing eggs into the flour', 'somebody is mixing the yolk of an egg with flour', 'a woman is making dough', 'a lady is preparing dough', 'flour', 'a lady is cutting an egg into a flour and butter mixture'], 'vid1440': ['a man is talking with other women on the beach', 'people are talking at the beach', 'a man is talking to women on the beach', 'criss angel performing some magic trick with beach girls', 'a man is gathering female participants at a beach', 'a man and two women walk across the beach', 'criss angel talking to three women', 'a man persuades two ladies standing by the beach to come with him and then the three of them run to join some other people', 'chris angel gathering women on the beach', 'the man brought two girls to his group on the beach', 'criss angel talks to women on the beach', 'the man is talking to women', 'criss angel selects people on the beach for a trick', 'a man introduces 2 women to his group on the beach', 'a group enjoying on the seashore', 'a man is talking to a group of people', 'a man is talking with two women s', 'a set of people were sat on the beach', 'chris angel is gathering people on the beach for help', 'criss angel mindfreak beach trick', 'criss angle mindfreak beach trick', 'lots of person is doing fun on beach', 'some people are enjoying near the beach', 'a criss angle magic', 'a magician gathers volunteers at the beach for his magic trick', 'a man and girls walk on the beach', 'a man and two gril are runing on beach', 'a man gets two women to walk with him on a beach and meet others', 'a man is leading two girls wearing bikinis to meet another girl', 'a man is running with two women', 'a man is talking to people on the beach', 'a man runs with women on a beach', 'a person sitting on a beach and admiring the view', 'all people are moving around in a beach', 'basking in the beach', 'chris angel does magic tricks on the beach', 'chriss angel gathers volunteers', 'people are runnine in sea shore', 'people are running on a beach', 'the man is walking with women on the beach', 'the peoples are running', 'the person is teling about beach tricks', 'three people are walking across the beach', 'trio running down the beach', 'two people are walking and talking on the beach', 'two women on the beach follow someone to a group of people in lawn chairs', 'woman enjoyin on the beach', 'a man and two women are walking down the sea shore', 'the women s is doing the running race', 'a man is running two ladies', 'people enjoying at beach'], 'vid1219': ['a man shoots at a target', 'a man is firing on a steel plate target', 'a man shoots a steel target', 'a metal target is barraged with bullets', 'a person is shooting at a metal target', 'a person shoots a paper target', 'a target is being hit with gun fire', 'a target is being riddled with bullet holes', 'a target is being shot at', 'a target is being shot full of holes', 'a target is being shot', 'a target is hit with steel fragments', 'bullet holes are appearing on a target', 'bullets are being fired at a yellow colored metallic sheet hung against a tree trunk', 'bullets are hitting a yellow target', 'bullets kept hitting a yellow target', 'the target got more bullet holes in it', 'the target was being shot with bullets', 'a chat is hanging to a tree', 'a guy is showing the gun', 'a men is shooting', 'a men shooting', 'a target is being shot at', 'some toys are in the forest', 'someone is firing on a board', 'someone slappin on board', 'someone taking some target practice shooting', 'the guy is shooting at a board', 'a man showing a gun', 'a metal target is being shot at', 'a metal target is being shot', 'a piece of metal is getting shot', 'a short clip on some kind of shooting practise on a steel slapin', 'a target is being shot full of holes', 'a target is being shot', 'a target is shot repeatably at close range', 'shooting is carried out on card board', 'shooting with gun', 'small shot projectiles hitting a target', 'somebody is shooting a steel', 'somebody is shooting steel', 'someone hitting the hanging board with gun', 'someone is shooting at a target', 'something is hanging there', 'they are hitting that steel slappin', 'unseen person is shooting bullets at metal targets', 'the person is loading the gun and shooting', 'gun shooting at target board'], 'vid1749': ['a woman shakes the hand of a man at the door', 'a man and woman shake hands', 'an old woman is shaking hand with a man', 'a man shakes a woman s hand', 'a man and a woman are shaking hands in a doorway', 'a man is shaking hands with a woman and talking', 'a man and woman greet each other and shake hands', 'a man is shaking a woman s hand', 'a man and a woman shake hands', 'a man is shaking a woman s hand', 'two people are shaking hands', 'a man and woman shake hands with each other', 'the lady came out to greet the man', 'the man and woman are shaking hands', 'a man and woman are shaking hands', 'a man and a woman shake hands', 'the lady greeted the man outside', 'the person is doing the something', 'an old lady is talking', 'a young man meets an older woman', 'a man and woman are shaking hands', 'an old lady is shaking hand to the young man', 'a man is speaking with an another girl', 'a man and a woman are shaking hands', 'a man is shaking hand with a lady', 'a commercial about an airline in india', 'a woman giving shake hand to a guy', 'dann haben sie einen kr uterbrei aber keine frankfurter gr ne sosse mehr', 'an old lady shake hand with man', 'deutsch kochen fur anfanger very good wolk', 'a women welcome a man', 'the man and woman are shaking hands', 'a man and a woman are talking and shaking hands', 'a man and woman shake hands', 'a man shakes a woman s hand'], 'vid1216': ['a woman is putting make up on her face', 'a woman is putting makeup on her face', 'a woman is putting on makeup', 'a woman is doing facial', 'a woman is applying makeup to her face', 'a woman is applying cosmetics to her face', 'a woman explains how to apply makeup', 'a woman is applying makeup', 'a woman applies a concealer to the lower portion of her right cheek and blends it using her fingers to get a chiseled look', 'a lady rubbing makeup on', 'the lade applied foundation', 'a woman applies make up to her face', 'the woman is putting on makeup', 'a woman is applying makeup', 'a lady put foundation on her cheek', 'a lady showing her face and putting makeup', 'a girl is standing', 'a lady is doing makeup', 'a woman applies makeup to her jaw line', 'a woman demonstrates applying facial products', 'a woman demonstrates how to put on makeup', 'a woman telling how to do makeup to face', 'a women showing how to makeup', 'kim kardashian smokey eyes', 'the girl is explaine the healthcare', 'woman instructing how to do makeup', 'a girl doing make up', 'a girl illustration on applying makeup', 'a kim kardashian mokey eyes', 'a lady giving the beauty tips about the face', 'a lady is doing make up on her face', 'a lady is doing makeup', 'a lady is giving tips on how to do the make up', 'a woman applies makeup to her face', 'a woman demonstrates how to apply makeup', 'a woman doing some sort of makeup on her face', 'a woman is applying face makeup', 'a woman is applying face makeup', 'a woman is applying make up on her face', 'a woman is applying makeup to her face', 'a woman is applying makeup to her face', 'a woman is applying makeup', 'a woman is applying something on her face', 'a woman is giving makeup advice', 'a woman is making up her face', 'a woman is placing makeup on her face', 'a woman is putting on makeup', 'a woman is putting on makeup', 'a woman is putting on makeup', 'a woman is showing how to apply foundation', 'a woman is showing makeup tips', 'a woman shows how to create a kim kardasian makeover look', 'a young woman s beautifully madeup eyes', 'kim kardashian makeup on face', 'the woman is applying makeup', 'a girl is teaching about someone', 'a lady is doing make up', 'an women eyes', 'the girl is giving speech', 'a lady is doing make up', 'this video will show you how to do a complete facial makeover'], 'vid166': ['<BOS> someone is twirling a pencil with their fingers <EOS>', '<BOS> a person is doing pencil tricks with his hand <EOS>', '<BOS> a person is doing pencil tricks with his hand <EOS>', '<BOS> someone is spinning a pencil in their fingers <EOS>', '<BOS> a person is twirling a pencil with their fingers <EOS>', '<BOS> someone is spinning a pen between their fingers <EOS>', '<BOS> a man is rotating a pencil with his hands <EOS>', '<BOS> someone is twirling a pencil <EOS>', '<BOS> someone is twirling a paintbrush <EOS>', '<BOS> someone is twirling a pencil <EOS>', '<BOS> a person is spinning a stick in his hand <EOS>', '<BOS> a man twirled a pencil in his hand <EOS>', '<BOS> the man is doing tricks with his fingers <EOS>', '<BOS> a person twirls a pencil <EOS>', '<BOS> the man twirled a pencil in his hand <EOS>', '<BOS> the person move the pencil very awesome <EOS>', '<BOS> someone is twirling a fork in their hand <EOS>', '<BOS> a man is drinking water through a tap <EOS>', '<BOS> a person is twirling a pencil with his fingers <EOS>', '<BOS> a man is rolling the small stick fastly by his fingers <EOS>', '<BOS> a person rotating pencil <EOS>', '<BOS> a hand twirling a pencil <EOS>', '<BOS> someone is twirling a pencil <EOS>', '<BOS> the man twirled a pencil in his hand <EOS>', '<BOS> the is doing finger tricks <EOS>', '<BOS> the girl is playing the penile <EOS>', '<BOS> a man is rotating a pen <EOS>'], 'vid164': ['<BOS> a man gets sprinkled with purple water <EOS>', '<BOS> a man waters another man with his garden hose til it turns color <EOS>', '<BOS> they are playing with colours <EOS>', '<BOS> a funny video about a jogger being splashed with dirty water by an old man with a water hose <EOS>', '<BOS> a jogger is getting cooled down by purple water <EOS>', '<BOS> a jogger is hosed with water which turns into colored water <EOS>', '<BOS> a jogger is sprayed with purple liquid <EOS>', '<BOS> a man gets sprayed with polluted water <EOS>', '<BOS> a man gets sprayed with purple colored water <EOS>', '<BOS> a man hosing another man down and water turns into ink <EOS>', '<BOS> a man in a white tshirt asked that another man spray him with water from a hose <EOS>', '<BOS> a man initially sprays water from a hose on the face of another man standing in front of him <EOS>', '<BOS> a man is being hosed down with color changing water <EOS>', '<BOS> a man is spraying a jogger with a hose <EOS>', '<BOS> a man is squirting another man with water from a hose and the water turns into a purple liquid and stains the man s shirt <EOS>', '<BOS> a man is taking both from dirty water <EOS>', '<BOS> a man is using a hose to spray water and purple liquid on to another man <EOS>', '<BOS> a man pour water on other man but then water become colored <EOS>', '<BOS> a man sprays another man with a hose and purple liquid comes out <EOS>', '<BOS> a man sprays another man with colored liquid from a hose <EOS>', '<BOS> a man was hosing down a jogger and the water turned black <EOS>', '<BOS> a person is spraying water on another person <EOS>', '<BOS> in video a man is giving bath to a pther man <EOS>', '<BOS> man is being watered with a hose <EOS>', '<BOS> one man is showering another man with color water <EOS>', '<BOS> one man sprays a jogger with water that turns out to be purple dye <EOS>', '<BOS> one man sprays another man with a hose and the water turns purple <EOS>', '<BOS> somebody is shown the water pipe in front of his face <EOS>', '<BOS> the man poured coloured water on the other man <EOS>', '<BOS> this man is watering the jogger <EOS>', '<BOS> two men are standing close together <EOS>'], 'vid283': ['<BOS> a man eats a pizza <EOS>', '<BOS> a man is taking a bite of pizza <EOS>', '<BOS> two men are talking and one of them has a piece of pizza which he samples <EOS>', '<BOS> a man is eating a pizza <EOS>', '<BOS> a man eats a slice of pizza <EOS>', '<BOS> a man is eating a slice of pizza <EOS>', '<BOS> a man is eating a slice of pizza <EOS>', '<BOS> a man is eating pizza <EOS>', '<BOS> a man is eating pizza <EOS>', '<BOS> a man is eating a pizza <EOS>', '<BOS> a man eats a piece of pizza <EOS>', '<BOS> a man is watching another man eat pizza <EOS>', '<BOS> a man is eating pizza <EOS>', '<BOS> a man is eating pizza <EOS>', '<BOS> a man is eating a piece of pizza <EOS>', '<BOS> a man is eating a pizza sector standing with a chef in a restaurant kitchen <EOS>', '<BOS> the man tried a piece of pizza <EOS>', '<BOS> the man is eating pizza <EOS>', '<BOS> a man eats a piece of pizza <EOS>', '<BOS> the man tried a piece of pizza <EOS>', '<BOS> a man is eating a pizza slice <EOS>', '<BOS> he is eating <EOS>', '<BOS> the person is eating <EOS>', '<BOS> a man is eating pizza <EOS>', '<BOS> a man is eating pizza <EOS>', '<BOS> the one man prepare th e pizza and guest taste the pizza <EOS>', '<BOS> in this show of cooking with jack episode 32nd being pizza wars held at the cortina s italian market pizzeria the california dough was judged better than the newyork dough <EOS>', '<BOS> a man is eating a pizza <EOS>', '<BOS> a man is tasting the pizza <EOS>', '<BOS> a man trying out a pizza from the kitchen <EOS>', '<BOS> a person eating pizza <EOS>', '<BOS> a man is eating some foods <EOS>', '<BOS> a man is eating a piece of pizza <EOS>', '<BOS> a man is eating <EOS>', '<BOS> two mens taking pizza <EOS>', '<BOS> a man cooking kichen <EOS>', '<BOS> a man is eating a piece of pizza while the chef watches <EOS>', '<BOS> the man is eating pizza <EOS>', '<BOS> a man is eating a pizza <EOS>', '<BOS> a man is eating a slice of pizza <EOS>', '<BOS> a man eats pizza <EOS>'], 'vid280': ['<BOS> a man puts cheese on a pizza <EOS>', '<BOS> a man is sprinkling shredded cheese on a pizza <EOS>', '<BOS> a man is spreading shredded cheese on an uncooked pizza <EOS>', '<BOS> a man is spreading shreded cheese on a pizza <EOS>', '<BOS> a cook spreads cheese onto a raw pizza crust <EOS>', '<BOS> a man is putting shredded cheese on two pizzas <EOS>', '<BOS> a man is making pizza <EOS>', '<BOS> a man is sprinkling something to pizza <EOS>', '<BOS> a man is putting shredded cheese on a pizza <EOS>', '<BOS> a person is spreading cheese on a pizza <EOS>', '<BOS> a man puts cheese on a pizza <EOS>', '<BOS> a man is putting cheese on a pizza <EOS>', '<BOS> men are making pizza <EOS>', '<BOS> a man is adding cheese to a pizza crust <EOS>', '<BOS> a man sprinkles cheese on top of a pizza <EOS>', '<BOS> the man spread cheese on the pizza <EOS>', '<BOS> the cook is spreading cheese on the pizza dough <EOS>', '<BOS> a man puts some cheese on a pizza <EOS>', '<BOS> the man sprinkled cheese on the pizza <EOS>', '<BOS> a person is cooking <EOS>', '<BOS> a man sprinkles cheese on a pizza <EOS>', '<BOS> a man is making pizza <EOS>', '<BOS> a man puts cheese on a pizza <EOS>', '<BOS> a man is spreading the cheese grating in to a pizza <EOS>', '<BOS> a man is making pizza <EOS>', '<BOS> a man is putting cheese on a pizza <EOS>', '<BOS> a man coking pizzas <EOS>', '<BOS> someone is making pizza s <EOS>', '<BOS> a person is preparing pizzas <EOS>', '<BOS> a man is making pizza <EOS>', '<BOS> a man cooking his kichen <EOS>', '<BOS> the man is putting cheese on the pizza <EOS>', '<BOS> a men is making pizza <EOS>', '<BOS> very very clear detail for pizza wars <EOS>', '<BOS> a man is spreading cheese on a pizza <EOS>', '<BOS> a man is putting cheese on a pizza <EOS>', '<BOS> a man sprinkles cheese on a pizza <EOS>'], 'vid1691': ['two men are fighting outdoors with a crowd looking on', 'men drop each other to the ground', 'two men are fighting and they get help from two friends', 'boys are fighting', 'two men are fighting', 'a group of boys are fighting', 'men are fighting', 'a group of boys gets into a fight', 'men are fighting', 'a group of men fight', 'a group of boys are fighting', 'people are fighting', 'several men in a group start fighting each other', 'two men tussled with each other outside', 'the men are in a fight with each other', 'a group of people fight', 'the boys fought on the grass', 'boys are fighting', 'a stranger is fighting with group of young guys', 'they are fighting', 'the two boys fighting them', 'men are fighting', 'a man is pushing the other man', 'teenage boys get into a shoving match', 'a group of men are fighting', 'fighting for succes', 'fighting scene from a movie', 'men are fighting', 'they playing a type of play', 'fighting two boys in a college', 'the men are in a fight', 'a fight has broken out', 'a group of men are fighting', 'fighting boys video', 'the men are fighting and pushing each other', 'boys fight'], 'vid513': ['<BOS> people destroying a car <EOS>', '<BOS> a boy is jumping on a car <EOS>', '<BOS> men attacking a car <EOS>', '<BOS> the men are vandalizing the car <EOS>', '<BOS> three men are hitting a car <EOS>', '<BOS> three men are hitting a car <EOS>', '<BOS> three men are punching and kicking a car <EOS>', '<BOS> three men dressed as street fighter characters are attacking a parked car <EOS>', '<BOS> three people are beating up a car <EOS>', '<BOS> three people mess with a car <EOS>', '<BOS> three people shake and stomp on a car <EOS>', '<BOS> three young men dressed as street fighter characters beat up a car <EOS>', '<BOS> two men standing on both sides of a car and one man on top of the bonnet are kicking and hitting the glass portions <EOS>', '<BOS> 3 man s hitting the car and among them one is jumping on it <EOS>', '<BOS> a man is jumping on the bonut of the car <EOS>', '<BOS> three persons damaging the car <EOS>', '<BOS> a funny street fighter 4 parody video <EOS>', '<BOS> a man pulls up in his car outside his home and several other guys begin to trash his car <EOS>', '<BOS> some people are destroying a car <EOS>', '<BOS> street fighters are taking fight training <EOS>', '<BOS> three guys are fighting in the middle of the street <EOS>', '<BOS> the car is very very damaged <EOS>', '<BOS> a man is smashing the windshield of a car <EOS>', '<BOS> live video game players <EOS>', '<BOS> men are fight with each other <EOS>', '<BOS> one man is jumping on top of the car and two others are hitting it <EOS>', '<BOS> one person bounces on a car while two others push against it <EOS>', '<BOS> people are breaking a car <EOS>', '<BOS> people are damaging a car <EOS>', '<BOS> people are damaging the car <EOS>', '<BOS> people jumped on and hit a car <EOS>', '<BOS> people trying to destroy a car <EOS>', '<BOS> several people are kicking and hitting a car <EOS>', '<BOS> some guys are trying to break a car <EOS>', '<BOS> someone with a red wig is jumping on the hood of a car <EOS>', '<BOS> the boys are jumping and playing with the car <EOS>', '<BOS> the boys are vandalizing the car <EOS>', '<BOS> the men are vandalizing the car <EOS>', '<BOS> three guys are showing their anger to a car <EOS>', '<BOS> three guys beat up a car <EOS>', '<BOS> three men are beating a car <EOS>', '<BOS> three men are beating on a car <EOS>', '<BOS> three men are trying to destroy a car <EOS>', '<BOS> three men jumped on and hit a car <EOS>', '<BOS> three people are beating up on a car <EOS>', '<BOS> three people are demolishing a car <EOS>', '<BOS> three people attack a car <EOS>', '<BOS> three person are breaking a car <EOS>', '<BOS> two men and a woman beating up a car <EOS>', '<BOS> two men hit the car <EOS>', '<BOS> a car with three guys <EOS>'], 'vid514': ['<BOS> a group of boys are jumping into a river <EOS>', '<BOS> a group of people are jumping into water <EOS>', '<BOS> men are diving into the river <EOS>', '<BOS> men are jumping into water from a bridge <EOS>', '<BOS> men are swimming <EOS>', '<BOS> men jump in a river <EOS>', '<BOS> people are jumping in a river <EOS>', '<BOS> people are jumping off a bridge into water <EOS>', '<BOS> several men are jumping off a bridge into a creek <EOS>', '<BOS> several men jump off a small bridge into a pool of water <EOS>', '<BOS> several people play in a river <EOS>', '<BOS> some young men dive and jump into the water <EOS>', '<BOS> the men dived into the water from the bridge <EOS>', '<BOS> the men jumped into the river <EOS>', '<BOS> the people dived off the rock bridge <EOS>', '<BOS> three men jump off of a small bridge <EOS>', '<BOS> two men dive into the water <EOS>', '<BOS> men are diving in the river <EOS>', '<BOS> they are jumping into the river <EOS>', '<BOS> the boys are jumping in to lake <EOS>', '<BOS> men jump into a river <EOS>', '<BOS> boys are playing in the water <EOS>', '<BOS> a man is jumping on the water <EOS>', '<BOS> 3 persons diving in to the river <EOS>', '<BOS> people were jumping into the water <EOS>', '<BOS> people are jumping into the water <EOS>', '<BOS> all people are jumping into water <EOS>', '<BOS> people dive into the water <EOS>', '<BOS> some men are diving into water <EOS>', '<BOS> a group of men are diving into a lake <EOS>', '<BOS> men are diving into water <EOS>', '<BOS> a group of men jumping into water <EOS>', '<BOS> some people taking bath <EOS>', '<BOS> men are diving in the water <EOS>', '<BOS> he is jumping in water very well <EOS>', '<BOS> people jump into a creek <EOS>'], 'vid1368': ['a man talking while buried in sand', 'a dad is talking to his kids', 'a man buried neckdeep in sand is talking something', 'a man is buried in sand with only his head and a little of his neck visible', 'a man is buried in sand', 'a man is buried in the sand', 'a man is buried up to his head in sand', 'a man is buried up to his head in sand', 'a man is buried up to his neck on the sand', 'a man is covered in sand', 'a man is talking while being buried in the sand', 'a man was buried in the sand', 'a man was buried up to his head in the sand', 'a man', 'the man is buried in the sand', 'the man is doing the something', 'three kids playing in the sand', 'the kids are playing the sand', 'a man is buried in sand', 'a man is talking while buried in sand', 'a person is buried in the sand', 'kids are playing with a sand', 'the kids are playing in the sand', 'children were playing', 'a man covered himself with sand', 'a man is playing into the sand', 'a man is burried up to his neck in sand', 'a man is under the sand', 'a man is buried in the sand', 'a mans head is sticking out of the sand', 'a man is buried up to his head in the sand', 'three children', 'a man is buried up to his head in sand', 'a man buried in the sand', 'a man is covered with sand up to neck', 'a man dug beneath the ground upto the neck', 'a man burried in sand except the head is talking', 'a man buried in sand except head', 'a man dugged upto his neck beneath the ground on a beach', 'a man digged beneath the ground up to the neck', 'a man buried head deep in the sand', 'a sunburned man s head is sticking out of the sand where he is buried', 'a man is buried in the sand', 'the person is in the sand', 'kids are playing', 'harry and charlie and holly the sand monster', 'a man is submerged in the sand except for his head', 'a man is talking while buried up to his neck in sand', 'a man is talking to a woman', 'a man who is buried up to his neck in sand is talking'], 'vid1135': ['<BOS> a woman is peeling a potato with a peeler <EOS>', '<BOS> a woman is peeling a potato <EOS>', '<BOS> a woman is peeling a potato <EOS>', '<BOS> a woman is peeling a potato with a peeler <EOS>', '<BOS> a person is peeling a potato with peeler <EOS>', '<BOS> a woman is peeling a potato with a potato peeler <EOS>', '<BOS> a woman is peeling a lotus root <EOS>', '<BOS> a woman is peeling potato <EOS>', '<BOS> a woman is slicing potatoes with a vegetable peeler <EOS>', '<BOS> a woman is peeling a potato <EOS>', '<BOS> a woman peels a potato <EOS>', '<BOS> a woman is peeling a lotus root <EOS>', '<BOS> a woman is peeling a potato <EOS>', '<BOS> a woman is peeling a potato <EOS>', '<BOS> the woman is peeling lotus root <EOS>', '<BOS> a woman peels a potato <EOS>', '<BOS> a potato is being peeled <EOS>', '<BOS> a man peeling potatoes <EOS>', '<BOS> the women is cooking the potato <EOS>', '<BOS> a person peeling a vegetable <EOS>', '<BOS> a woman is peeling a potatoe <EOS>', '<BOS> a woman is taking of the prickel of potato <EOS>', '<BOS> frances on the show cooking with a dog <EOS>', '<BOS> a person is cooking <EOS>', '<BOS> one lady is removing the peels of vegetable with peeler <EOS>', '<BOS> the lady peeled the potatoe <EOS>', '<BOS> a man is preparing the potato tofu <EOS>', '<BOS> a man cooking his kichen <EOS>', '<BOS> the woman is peeling lotus root <EOS>', '<BOS> a woman is peeling a potato <EOS>'], 'vid1137': ['<BOS> a woman is cutting the peel off a potato with a large knife <EOS>', '<BOS> a woman peels a potato <EOS>', '<BOS> a woman is slicing the skin off a wild potato <EOS>', '<BOS> a woman is peeling a potato <EOS>', '<BOS> a woman is peeling a tuber <EOS>', '<BOS> a woman is peeling a ginger <EOS>', '<BOS> a woman is peeling a potato with a knife <EOS>', '<BOS> a woman peels a small potato <EOS>', '<BOS> a woman is peeling a potato <EOS>', '<BOS> a woman is peeling a potato <EOS>', '<BOS> a woman is peeling potatoes <EOS>', '<BOS> the lady peeled the skin off the potatoe <EOS>', '<BOS> the woman is peeling ginger <EOS>', '<BOS> a woman is peeling a potato <EOS>', '<BOS> a woman cuts a vegetable <EOS>', '<BOS> the lady peeled the skin off the potatoe <EOS>', '<BOS> the women is cooking <EOS>', '<BOS> a woman peels a potato <EOS>', '<BOS> a woman peels a root vegetable <EOS>', '<BOS> a woman is peeling a potatoe <EOS>', '<BOS> cooking with the dog show demonstrates how to make vegetable tofu nimona <EOS>', '<BOS> a chef is peeling a potato <EOS>', '<BOS> a japanes woman peel of taro root with knife <EOS>', '<BOS> the lady peeled the potatoe skin <EOS>', '<BOS> a man cooking his kichen <EOS>', '<BOS> the woman is peeling ginger <EOS>', '<BOS> a women is making dish <EOS>', '<BOS> a woman is peeling a vegetable <EOS>'], 'vid602': ['<BOS> a woman is riding a horse in a pasture <EOS>', '<BOS> a woman is riding a horse <EOS>', '<BOS> a woman is riding a horse <EOS>', '<BOS> a woman is riding a horse without a saddle <EOS>', '<BOS> a woman is riding on a horse <EOS>', '<BOS> a young woman is riding a galloping horse <EOS>', '<BOS> a woman is riding a horse <EOS>', '<BOS> a woman is riding a horse <EOS>', '<BOS> a woman is riding a horse <EOS>', '<BOS> someone is riding a horse <EOS>', '<BOS> a woman is riding a horse <EOS>', '<BOS> the girl rode her horse in the pen <EOS>', '<BOS> the woman is riding a horse <EOS>', '<BOS> a woman rides a horse <EOS>', '<BOS> the girl rode her painted horse <EOS>', '<BOS> a girl is riding the horse <EOS>', '<BOS> a lady riding a horse <EOS>', '<BOS> a woman is riding a horse <EOS>', '<BOS> she is jars raiding <EOS>', '<BOS> a girl is riding on a horse <EOS>', '<BOS> a girl riding a horse <EOS>', '<BOS> a girl riding a horse <EOS>', '<BOS> a lady is riding on the horse <EOS>', '<BOS> a woman is riding a horse <EOS>', '<BOS> a woman is riding a horse <EOS>', '<BOS> a woman riding a beautiful horse <EOS>', '<BOS> a young woman is riding a horse <EOS>', '<BOS> silence broken by a whis perd wind <EOS>', '<BOS> silence broken by whispered wind video <EOS>', '<BOS> the girl rode the painted pony <EOS>', '<BOS> the woman is riding a horse <EOS>'], 'vid601': ['<BOS> a woman is riding a horse across a field <EOS>', '<BOS> a woman rides a horse <EOS>', '<BOS> a woman is riding across a field on a horse <EOS>', '<BOS> a woman is riding on a horse <EOS>', '<BOS> a girl is riding a horse <EOS>', '<BOS> a woman is riding a horse <EOS>', '<BOS> a girl is riding a horse <EOS>', '<BOS> a woman is riding a horse <EOS>', '<BOS> a girl is riding a horse <EOS>', '<BOS> a woman is galloping on a horse <EOS>', '<BOS> a girl is riding a horse <EOS>', '<BOS> a woman is riding a horse <EOS>', '<BOS> the girl galloped on her brown horse <EOS>', '<BOS> the woman is riding a horse <EOS>', '<BOS> a woman rides a horse <EOS>', '<BOS> the lady galloped on her horse <EOS>', '<BOS> a girl riding horse <EOS>', '<BOS> a person riding horse <EOS>', '<BOS> a woman is riding a horse <EOS>', '<BOS> the woman is riding in the horse <EOS>', '<BOS> a girl ride on the horse <EOS>', '<BOS> a man riding a horse <EOS>', '<BOS> a woman gallops a horse across a field <EOS>', '<BOS> a woman is riding a horse across a field <EOS>', '<BOS> a woman is riding a horse <EOS>', '<BOS> a woman riding her horse <EOS>', '<BOS> the person is riding the hores <EOS>', '<BOS> the woman is riding a horse <EOS>'], 'vid1184': ['<BOS> a goose runs after a man and bites him on his behind <EOS>', '<BOS> a goose attacks a man <EOS>', '<BOS> a man is attacked by a bird <EOS>', '<BOS> a man is standing by a lake when he s attacked by a black swan <EOS>', '<BOS> a black swan is chasing a man through a field <EOS>', '<BOS> a duck is biting a man <EOS>', '<BOS> a man is attacked by a goose <EOS>', '<BOS> a swan is chasing a man <EOS>', '<BOS> a goose is chasing a man <EOS>', '<BOS> the gose chased the man in the yard <EOS>', '<BOS> the goose attacked the man <EOS>', '<BOS> a bird chases a man <EOS>', '<BOS> a swan attacks a man <EOS>', '<BOS> a goose is chasing a man <EOS>', '<BOS> the goose chased the man <EOS>', '<BOS> there is a funny animals <EOS>', '<BOS> a goose is attacking a man <EOS>', '<BOS> a man is attacked by a bird <EOS>', '<BOS> a bird is biting the man s back <EOS>', '<BOS> a goose is atacking a man <EOS>', '<BOS> a cat walking <EOS>', '<BOS> funny animals doing weird things to each other and to people <EOS>', '<BOS> the boy is running away <EOS>', '<BOS> a goose is chasing a man <EOS>', '<BOS> a goose is attacking a fisherman <EOS>', '<BOS> the goose chased after the man <EOS>', '<BOS> a funny animal <EOS>', '<BOS> the goose attacked the man <EOS>'], 'vid1628': ['a woman is taking a bubble bath in a large black tub', 'a woman is taking a bubble bath', 'a woman is taking a bath', 'a woman is bathing', 'bettie page is taking a bubble bath', 'a woman is bathing in a tub', 'a woman is taking a bubble bath', 'a girl is taking a bubble bath', 'someone is playing in a bubble bath', 'a woman is bathing in a bathtub of bubbles', 'a woman having a bubble bath in a bathtub is playing with the foam', 'the lady enjoyed her bubble bath', 'the woman is taking a bubble bath', 'a woman plays with her bubble bath', 'the lady played with the bubbles in her bubble bath', 'the women is bathing', 'a woman is taking a bubble bath', 'featuring a girl taking a bath', 'a women taking bath in the bathtub', 'the woman is taking bath', 'a woman in a bath plays with bubbles', 'a woman is taking a bath', 'a girl is bathing', 'a lady is taking bath and her body is full of foam', 'a woman is taking a bubble bath', 'the lady enjoyed her bubble bath', 'the woman is taking a bath', 'something weird striporama betty page bubble path', 'betty page takes a bubble bath'], 'vid1182': ['<BOS> a woman is riding her horse on the beach <EOS>', '<BOS> a woman is riding a horse along the beach <EOS>', '<BOS> a woman is riding a horse on a beach <EOS>', '<BOS> a woman is riding a horse on the beach <EOS>', '<BOS> a woman is riding a horse on the beach <EOS>', '<BOS> a woman is riding a horse <EOS>', '<BOS> a woman is riding a horse <EOS>', '<BOS> a woman is riding a horse <EOS>', '<BOS> a woman is riding a horse <EOS>', '<BOS> a woman is riding a horse <EOS>', '<BOS> a woman is riding a horse <EOS>', '<BOS> a woman is riding a white horse by the beachside <EOS>', '<BOS> a woman is riding on a horse <EOS>', '<BOS> a woman rides a horse along the beach <EOS>', '<BOS> a woman rides a horse on a beach <EOS>', '<BOS> a woman rides a horse on the beach <EOS>', '<BOS> a woman rides a horse <EOS>', '<BOS> the girl rode a horse at the beach <EOS>', '<BOS> the girl rode a horse with a pony on the beach <EOS>', '<BOS> the woman is riding a horse <EOS>', '<BOS> a girl walking on horse <EOS>', '<BOS> a lady riding on horse <EOS>', '<BOS> a woman is riding a horse on the beach <EOS>', '<BOS> these are funny animalas <EOS>', '<BOS> a funny animals <EOS>', '<BOS> a girl riding a horse <EOS>', '<BOS> a girl riding on horse in a beach <EOS>', '<BOS> a girl s going horse ride <EOS>', '<BOS> a horse throwing the girl <EOS>', '<BOS> a lady is playing with the monkey <EOS>', '<BOS> a lady is riding on the horse <EOS>', '<BOS> a person is riding a horse by the ocean <EOS>', '<BOS> a woman is riding a horse along a shoreline <EOS>', '<BOS> a woman is riding a horse along the beach <EOS>', '<BOS> a woman is riding a horse on a beach <EOS>', '<BOS> a woman is riding a horse on the beach <EOS>', '<BOS> a woman is riding a horse <EOS>', '<BOS> a woman riding a horse on a beach <EOS>', '<BOS> one lady enjoying with horse <EOS>', '<BOS> woman riding horse on beach <EOS>', '<BOS> a girl is riding on the horse <EOS>', '<BOS> a girl is rifding on a horse <EOS>', '<BOS> a lady horse riding at beech <EOS>'], 'vid865': ['<BOS> a woman <EOS>', '<BOS> a woman is wiping down a box <EOS>', '<BOS> a woman is washing off the top of a freezer <EOS>', '<BOS> a woman is wiping a box <EOS>', '<BOS> a woman is washing the top of a chest freezer with a rag <EOS>', '<BOS> a woman is cleaning a surface of the machine <EOS>', '<BOS> a woman is cleaning the top of a chest freezer <EOS>', '<BOS> a woman is cleaning a box <EOS>', '<BOS> a woman is cleaning a freezer <EOS>', '<BOS> a woman is cleaning a box <EOS>', '<BOS> a woman is washing a chest freezer <EOS>', '<BOS> a woman is washing a freezer <EOS>', '<BOS> a woman is washing a freezer <EOS>', '<BOS> the woman is scrubbing the top of the cooler <EOS>', '<BOS> a woman is cleaning the top of a chest freezer <EOS>', '<BOS> a woman cleans an ice box <EOS>', '<BOS> a woman is wiping the top of an appliance <EOS>', '<BOS> the lady cleaned the freezer top <EOS>', '<BOS> a woman cleans an appliance <EOS>', '<BOS> a woman is cleaning a wood box lid <EOS>', '<BOS> a lady is cleaning <EOS>', '<BOS> a woman is cleaning a freezer <EOS>', '<BOS> a woman cleaning the top of a white metal container <EOS>', '<BOS> a girl cleaning a freezer <EOS>', '<BOS> she is cleaning <EOS>', '<BOS> a woman is washing a freezer <EOS>', '<BOS> one lady is telling something <EOS>', '<BOS> the lady scrubbed the top of a freezer <EOS>', '<BOS> the woman is cleaning the cooler <EOS>', '<BOS> a lady is cleaning something <EOS>'], 'vid789': ['<BOS> a bird is eating from a dish in a tree <EOS>', '<BOS> a bird eats a piece of fruit <EOS>', '<BOS> a bird eats from a bird feeder <EOS>', '<BOS> a bird is eating a plate of food in a tree <EOS>', '<BOS> a bird is eating food from a dish <EOS>', '<BOS> a bird is eating from a bowl <EOS>', '<BOS> a bird is eating from a dish <EOS>', '<BOS> a bird is eating out of a dish in a tree <EOS>', '<BOS> a bird is eating some food <EOS>', '<BOS> a bird is eating <EOS>', '<BOS> a bird is eating <EOS>', '<BOS> a bird is eating <EOS>', '<BOS> a bird is eating <EOS>', '<BOS> a bird is perched on the edge of a bowl which is attached to a tree branch and the bird is eating something in the bowl <EOS>', '<BOS> a parrot is eating out of a bowl up in a tree <EOS>', '<BOS> a parrot is eating <EOS>', '<BOS> a pesquet is eating its food <EOS>', '<BOS> a pesquet parrot perched on a tree is eating a portion of a fruit placed along with other food in a shallow bowl <EOS>', '<BOS> bird eating <EOS>', '<BOS> the bird ate fruit and rice from a bowl in the tree <EOS>', '<BOS> the bird ate the food in the tree from a bowl <EOS>', '<BOS> the bird is eating <EOS>', '<BOS> the bird is eating food <EOS>', '<BOS> it is a beautiful bird eating food <EOS>', '<BOS> the bird eating food <EOS>', '<BOS> a bird is eating <EOS>', '<BOS> a bird is eating food <EOS>', '<BOS> a black and red bird eats food from a dish in a tree <EOS>', '<BOS> a bird eating out of a bird feeder in a tree <EOS>', '<BOS> a bird is eating the seeds <EOS>', '<BOS> a bird is eating its food <EOS>', '<BOS> a bird is eating fruit out of a bird feeder <EOS>', '<BOS> a bird is eating a food <EOS>', '<BOS> a bird eating out of a dish <EOS>', '<BOS> a pesquet parrot is eating food <EOS>', '<BOS> a bird in a tree is eating a mango out of a bowl <EOS>', '<BOS> a pesquet is eating something <EOS>', '<BOS> a bird eating from a bowl <EOS>', '<BOS> a bird is eating from a bowl <EOS>', '<BOS> a little black and red bird eating some food while sitting on a tree limb <EOS>', '<BOS> a bird is eating out of bowl <EOS>', '<BOS> a tropical bird eating fruit out of a bowl a top a tree <EOS>', '<BOS> the crow eating the food <EOS>', '<BOS> a pesquet taking food <EOS>', '<BOS> a bird is eating <EOS>', '<BOS> a bird feeding herself on a very high tree <EOS>', '<BOS> a pesquet taking some kind of food <EOS>', '<BOS> a bird is eating from a bowl in a tree <EOS>', '<BOS> a bird is eating some fruit <EOS>', '<BOS> a bird is eating her food <EOS>', '<BOS> a bird is eating food <EOS>', '<BOS> a pesquet taking food <EOS>', '<BOS> a parrot is eating from a bowl <EOS>', '<BOS> a bird eats pappaya with its beak on a tree <EOS>', '<BOS> a bird is eating some fruit in a bowl <EOS>', '<BOS> a bird is eating food <EOS>', '<BOS> a bird is eating from a feeder in a tree <EOS>', '<BOS> a bird is eating from a bird feeder in a tree <EOS>'], 'vid465': ['<BOS> a man is riding a motorized bike <EOS>', '<BOS> a boy is riding abike on the road <EOS>', '<BOS> a guy rides a vehicle slowly <EOS>', '<BOS> a man is driving a moped down the street <EOS>', '<BOS> a man is riding a mopad <EOS>', '<BOS> a man is riding a moped <EOS>', '<BOS> a man is riding a moped <EOS>', '<BOS> a man is riding a motor scooter on a street <EOS>', '<BOS> a man is riding a motor scooter <EOS>', '<BOS> a man is riding a motor scooter <EOS>', '<BOS> a man is riding a motorized bicycle in a town <EOS>', '<BOS> a man is riding a scooter on the road <EOS>', '<BOS> a man is riding a scooter <EOS>', '<BOS> a man is riding a scooter <EOS>', '<BOS> a man is riding a scooter <EOS>', '<BOS> a man is riding on a scooter <EOS>', '<BOS> a man rides a motor scooter <EOS>', '<BOS> a man rides a scooter along a road <EOS>', '<BOS> a man rides a scooter <EOS>', '<BOS> the man is riding a moped <EOS>', '<BOS> the man rode a motorcycle in the street <EOS>', '<BOS> the man rode a small motorcycle <EOS>', '<BOS> a boy is driving a bike <EOS>', '<BOS> a boy riding a scooty <EOS>', '<BOS> a man driving a scootey <EOS>', '<BOS> a man riding a motor scooter down the road <EOS>', '<BOS> awesome somg <EOS>', '<BOS> he is bik racing looking on the ladice <EOS>', '<BOS> the person is riding the scooty <EOS>', '<BOS> this is a tamil song <EOS>', '<BOS> two girls are chatting in the middle of the road <EOS>', '<BOS> two girls are standing near the motor bike <EOS>', '<BOS> a boy driving scooter and two girls stairing him <EOS>', '<BOS> a boy is driving a scoty <EOS>', '<BOS> a lady is talking to girl <EOS>', '<BOS> a man driving a scooty on a road and enjoying the ride <EOS>', '<BOS> a man is driving a vehicle called scooty <EOS>', '<BOS> a man is riding a bike <EOS>', '<BOS> a man is riding a motorcycle <EOS>', '<BOS> a man is riding a motorcycle <EOS>', '<BOS> a man is riding a scooter <EOS>', '<BOS> a man ridding the bike <EOS>', '<BOS> actor bharath is driving a scooty <EOS>', '<BOS> the person is bike riding <EOS>', '<BOS> two asian girls chatting outdoors <EOS>', '<BOS> a man chirodini tumi je amar <EOS>'], 'vid1430': ['someone wearing blue rubber gloves is slicing a tomato with a large knife', 'a person is slicing a tomato', 'a person is slicing a tomato', 'someone is slicing a tomato with a knife', 'a person is slicing a tomato into pieces', 'a chef is slicing a tomato', 'a woman is slicing tomato', 'a person is slicing tomatoes with a large knife', 'someone is slicing a tomato', 'someone is cutting a tomato', 'someone is slicing a tomato', 'a person is slicing a tomato', 'the man sliced the tomatoe', 'the cook is slicing tomatoes', 'a cook cuts up some tomatos', 'the man sliced through the tomatoe', 'someone is slicing a tomatoe', 'someone cutting the slices of tomaato', 'any one is slicing tomato', 'someone is slicing a tomato', 'a tomato is sliced with a knife', 'a person slices a tomato', 'a person is slicing the tomato', 'slice the tomato pieces', 'the person is cutting the tomato', 'a chef slicing a tomato', 'a person is slicing some tomato with knife', 'the man sliced the tomatoe', 'a person is making the salad', 'a person is slicing a tomato', 'the person is slicing tomatoes', 'the person is cutting the tamato', 'a person is cutting a tomato', 'the person is cutting the tomato'], 'vid267': ['<BOS> a man plays a flute <EOS>', '<BOS> a man is playing the flute <EOS>', '<BOS> a man is playing a wooden flute <EOS>', '<BOS> a man is playing a flute <EOS>', '<BOS> a man plays a wooden flute <EOS>', '<BOS> a man is playing a flute <EOS>', '<BOS> a man is playing flute <EOS>', '<BOS> a man is playing a flute <EOS>', '<BOS> a man plays a flute <EOS>', '<BOS> a man is playing a wooden flute <EOS>', '<BOS> a man is playing a flute <EOS>', '<BOS> a man is playing a flute <EOS>', '<BOS> a man is playing the title song of the titanic on a flute <EOS>', '<BOS> the man played a wooden flute <EOS>', '<BOS> the man is playing with a wooden flute <EOS>', '<BOS> a man plays a wooden flute <EOS>', '<BOS> the man played a wooden flute <EOS>', '<BOS> a man is playing flute <EOS>', '<BOS> a man is playing the flute <EOS>', '<BOS> the man is play the flute very happily <EOS>', '<BOS> a man is playing flute <EOS>', '<BOS> a man is blowing the flute <EOS>', '<BOS> a man is playing an indian flute <EOS>', '<BOS> a man is playing a flute <EOS>', '<BOS> a man is playing an indian flute <EOS>', '<BOS> a man playing flute <EOS>', '<BOS> a man is playing flute <EOS>', '<BOS> the man plays a titanic indian flute <EOS>', '<BOS> one man is playing flute <EOS>', '<BOS> the man played a wooden flute <EOS>', '<BOS> a man is playing the flute <EOS>', '<BOS> the man is playing the wooden flute <EOS>', '<BOS> a man is playing a flute <EOS>', '<BOS> a man is playing a flute <EOS>', '<BOS> a man is playing a flute <EOS>'], 'vid261': ['<BOS> a cat sitting on the back edge of a couch jumps up and is rotated around a ceiling fan then tossed off <EOS>', '<BOS> a cat is spun by a ceiling fan <EOS>', '<BOS> a cat is spun around by a ceiling fan <EOS>', '<BOS> a cat gets caught on a fan <EOS>', '<BOS> a cat is swinging from a ceiling fall and then gets thrown off of it <EOS>', '<BOS> a cat is caught on a fan and spinning <EOS>', '<BOS> a cat is swinging on a fan <EOS>', '<BOS> a cat gets stuck on a moving ceiling fan <EOS>', '<BOS> a cat is swinging on a ceiling fan <EOS>', '<BOS> a cat is swinging from a fan <EOS>', '<BOS> a cat swings on a ceiling fan <EOS>', '<BOS> a cat gets caught on a ceiling fan and spins around <EOS>', '<BOS> the cat jumped on the fan pull and spun around the room <EOS>', '<BOS> the cat is swinging from the ceiling fan <EOS>', '<BOS> a cat swing on a fan <EOS>', '<BOS> a cat swings around on a ceiling fan <EOS>', '<BOS> the cat was swung around the room by the fan pull <EOS>', '<BOS> cat catch the fan <EOS>', '<BOS> the cat is playing with fan <EOS>', '<BOS> a cat is playing with a ceiling fan <EOS>', '<BOS> a cat is spun by a ceiling fan <EOS>', '<BOS> a cat is rotating along with the fan <EOS>', '<BOS> a cat is playing with fan <EOS>', '<BOS> a cat grabs a toy attached to a moving ceiling fan <EOS>', '<BOS> funny video <EOS>', '<BOS> featuring a cat <EOS>', '<BOS> a cat is swinging on a fan <EOS>', '<BOS> a cat is caught in a ceiling fan <EOS>', '<BOS> fan is one and animal running with it <EOS>', '<BOS> a cat gets thrown around the room after grabbing a string tied to a fan <EOS>', '<BOS> a cat is playing with fan <EOS>', '<BOS> a cat is playing <EOS>', '<BOS> a cat catches and hangs on the hook which hanging from wing of a rotating ceiling fan <EOS>', '<BOS> the cat is swinging from the ceiling fan <EOS>', '<BOS> a cat gets stuck on a ceiling fan <EOS>', '<BOS> very very funny and brilliant cat <EOS>', '<BOS> a cat is hanging on a fan <EOS>', '<BOS> a cat catches its claw on a ceiling fan and is spun around several times before being flung into a wall <EOS>'], 'vid304': ['<BOS> a woman peels an apple <EOS>', '<BOS> a woman is peeling an apple <EOS>', '<BOS> a woman is peeling an apple <EOS>', '<BOS> a woman is removing the peel from an apple <EOS>', '<BOS> a woman is peeling a apple <EOS>', '<BOS> a woman is peeling an apple <EOS>', '<BOS> a woman is peeling an apple <EOS>', '<BOS> a woman peels an apple <EOS>', '<BOS> a woman is peeling an apple <EOS>', '<BOS> a woman is peeling an apple <EOS>', '<BOS> a woman is peeling an apple <EOS>', '<BOS> a woman peels an apple in the kitchen <EOS>', '<BOS> the lady took the wax coating off the cheese <EOS>', '<BOS> the woman is peeling an apple <EOS>', '<BOS> a woman cuts up vegetables <EOS>', '<BOS> the lady peeled an apple <EOS>', '<BOS> the person is cooking <EOS>', '<BOS> a woman is peeling an apple <EOS>', '<BOS> the woman is show how to prepare the food with her dog <EOS>', '<BOS> a woman peels an apple <EOS>', '<BOS> a lady is cutting an apple <EOS>', '<BOS> a female making some japanese dish <EOS>', '<BOS> a woman is peeling an apple <EOS>', '<BOS> a woman is peeling some apples <EOS>', '<BOS> a lady is cutting slices of apple <EOS>', '<BOS> a woman is peeling an apple <EOS>', '<BOS> a person is cooking <EOS>', '<BOS> a woman is peeling an apple <EOS>', '<BOS> a lady is making katsu curry japanese curry with tonkatsu <EOS>', '<BOS> the lady peeled the skin off the cheese <EOS>', '<BOS> the woman is peeling an apple <EOS>', '<BOS> any one is slicing the vegetable <EOS>', '<BOS> a woman is peeling an apple <EOS>', '<BOS> a woman is peeling an apple <EOS>', '<BOS> a woman peels an apple <EOS>', '<BOS> a woman peels an apple <EOS>'], 'vid305': ['<BOS> a woman grates a carrot <EOS>', '<BOS> a woman is grating a carrot into a bowl <EOS>', '<BOS> a woman is shredding a carrot <EOS>', '<BOS> a woman is grating a sweet potato <EOS>', '<BOS> a woman is grating a carrot <EOS>', '<BOS> a woman is scraping a carrot <EOS>', '<BOS> a woman is grating a carrot <EOS>', '<BOS> a woman is grating an orange food <EOS>', '<BOS> a woman grates a carrot <EOS>', '<BOS> a woman is grating carrots <EOS>', '<BOS> someone is greating a carrot <EOS>', '<BOS> a woman is grating carrots <EOS>', '<BOS> the lady grated carrot into the bowl <EOS>', '<BOS> the woman is grating a carrot <EOS>', '<BOS> a woman is grating a carrot <EOS>', '<BOS> a woman grates a carrot <EOS>', '<BOS> the lady grated a carrot <EOS>', '<BOS> the women is preparing a curry <EOS>', '<BOS> a woman is grating carrots <EOS>', '<BOS> a woman is grating a carrot <EOS>', '<BOS> a man is cutting a carrot <EOS>', '<BOS> a woman is grading and orange <EOS>', '<BOS> a woman is cutting carrot <EOS>', '<BOS> a lady cutting the slices of tomaato <EOS>', '<BOS> a woman is grating a carrot <EOS>', '<BOS> a woman grating a carrot <EOS>', '<BOS> cooking with dog show demonstrates how to make katsu curry <EOS>', '<BOS> a woman is grating a carrot <EOS>', '<BOS> a woman coking <EOS>', '<BOS> a woman is grating a vegetable <EOS>', '<BOS> japan and china and korea language and culture with religion <EOS>', '<BOS> a person is preparing for cook <EOS>', '<BOS> a person is cooking katsu curry japanese curry with tonkatsu <EOS>', '<BOS> the lady grated a carrot <EOS>', '<BOS> a man cooking his kichen <EOS>', '<BOS> the woman is grating a carrot <EOS>', '<BOS> a woman is grating a carrot <EOS>', '<BOS> a woman is grating a carrot <EOS>', '<BOS> someone grates a carrot <EOS>']}\n"
          ],
          "name": "stdout"
        }
      ]
    },
    {
      "cell_type": "markdown",
      "metadata": {
        "id": "abKQj9vzw3Pr",
        "colab_type": "text"
      },
      "source": [
        ""
      ]
    }
  ]
}